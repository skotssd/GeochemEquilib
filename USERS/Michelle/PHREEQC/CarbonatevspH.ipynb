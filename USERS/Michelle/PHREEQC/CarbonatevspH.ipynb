{
 "cells": [
  {
   "cell_type": "markdown",
   "id": "03ab815b-901d-4c98-8309-7be0614adfa9",
   "metadata": {},
   "source": [
    "# Carbonate Species versus pH"
   ]
  },
  {
   "cell_type": "code",
   "execution_count": 1,
   "id": "53c95613-4c9e-4049-8fe6-5c9afbe31463",
   "metadata": {},
   "outputs": [],
   "source": [
    "% setup environment\n",
    "% clear data and number format\n",
    "clear; format short e\n",
    "% set path to equilibrium solver\n",
    "txt=pwd; n=length(txt); rootpath=txt;\n",
    "n=strfind(rootpath,\"USERS\"); rootpath=txt(1:n-2);\n",
    "PHREEQCpath=[rootpath,'/runPHREEQC'];\n",
    "addpath(PHREEQCpath);\n",
    "JEQUILIBpath=[rootpath,'/JEQUILIB'];\n",
    "addpath(JEQUILIBpath);\n",
    "% turn off warnings\n",
    "warning off\n",
    "%graphics_toolkit (\"notebook\"); \n",
    "graphics_toolkit (\"plotly\"); "
   ]
  },
  {
   "cell_type": "code",
   "execution_count": 2,
   "id": "94f7183e-090f-4d24-a053-434a19c3677b",
   "metadata": {
    "tags": []
   },
   "outputs": [],
   "source": [
    "% database \n",
    "database=['phreeqc.dat'];"
   ]
  },
  {
   "cell_type": "code",
   "execution_count": 36,
   "id": "83fcef0f-450b-41b6-a536-1dc132117869",
   "metadata": {
    "tags": []
   },
   "outputs": [
    {
     "ename": "Execution exception",
     "evalue": "'C' undefined near line 1, column 13",
     "output_type": "error",
     "traceback": [
      "Execution exception: 'C' undefined near line 1, column 13",
      ""
     ]
    }
   ],
   "source": [
    "% Define PHREEQC database\n",
    "database = 'phreeqc.dat';\n",
    "% Define minerals to consider\n",
    "minerals = [{'CO2(g)'}]; % Open system with CO2 gas\n",
    "totalvector=[1e-3];\n",
    "totalnames=[C(4)];\n",
    "% Define pH range\n",
    "pHrange = 2:0.1:14;  \n",
    "% Define total concentrations of species\n",
    "totalnames = [{'H+'}; {'Alkalinity'}]; % Corrected species names\n",
    "% Set temperature \n",
    "T = 25;  \n",
    "show=0; % this should show the PHREEQC output to the screen. works in Matlab but not Octave\n",
    "\n",
    "% Define species to track\n",
    "speciesexport = [{'CO3-2'}; {'HCO3-'};{'H2CO3'}]; % pH-dependent species\n",
    "\n",
    "% Acid addition (not used in this case)\n",
    "acid = [];  \n",
    "% Define initial conditions for pH and pe\n",
    "pH = 7;  \n",
    "pe = 20.75 - pH;  \n",
    "% pH variation setting (1 = fixed, 0 = free)\n",
    "pHfixcheck = 0;  \n",
    "    \n",
    "% Initialize arrays to store species concentrations\n",
    "alphaH2CO3 = zeros(size(pHrange));\n",
    "alphaHCO3 = zeros(size(pHrange));\n",
    "alphaCO3 = zeros(size(pHrange));\n"
   ]
  },
  {
   "cell_type": "code",
   "execution_count": 32,
   "id": "50c6a1e4-4c11-4ccd-be06-a418e7cde8de",
   "metadata": {},
   "outputs": [
    {
     "ename": "Execution exception",
     "evalue": "totalvector(1): out of bound 0 (dimensions are 0x0)",
     "output_type": "error",
     "traceback": [
      "Execution exception: totalvector(1): out of bound 0 (dimensions are 0x0)",
      "error: called from\n    runPHREEQCv3 at line 32 column 12\n"
     ]
    }
   ],
   "source": [
    "for i = 1:length(pHrange)\n",
    "    pH = pHrange(i);  \n",
    "    pe = 20.75 - pH;  \n",
    "    totalvector=[]; \n",
    "% Run PHREEQC simulation in MATLAB\n",
    "    [solutionspeciesconcs, speciesnames, solidconcs, solidnames] = ...\n",
    "    runPHREEQCv3(T, pH, pe, totalnames, [], minerals, speciesexport, database, show, acid, pHfixcheck);\n",
    "\n",
    "% Extract species concentrations\n",
    "    H2CO3 = solutionspeciesconcs(4);\n",
    "    HCO3 = solutionspeciesconcs(3);\n",
    "    CO3 = solutionspeciesconcs(2);\n",
    "    H = solutionspeciesconcs(1);\n",
    "end"
   ]
  },
  {
   "cell_type": "code",
   "execution_count": 37,
   "id": "a8ad25fc-854a-4c6c-a33e-9eaa27f232d3",
   "metadata": {
    "tags": []
   },
   "outputs": [
    {
     "ename": "Execution exception",
     "evalue": "'pH_range' undefined near line 1, column 6",
     "output_type": "error",
     "traceback": [
      "Execution exception: 'pH_range' undefined near line 1, column 6",
      ""
     ]
    },
    {
     "ename": "Execution exception",
     "evalue": "'pH_range' undefined near line 1, column 6",
     "output_type": "error",
     "traceback": [
      "Execution exception: 'pH_range' undefined near line 1, column 6",
      ""
     ]
    },
    {
     "ename": "Execution exception",
     "evalue": "'pH_range' undefined near line 1, column 6",
     "output_type": "error",
     "traceback": [
      "Execution exception: 'pH_range' undefined near line 1, column 6",
      ""
     ]
    },
    {
     "data": {
      "application/vnd.plotly.v1+json": {
       "layout": {
        "height": 420,
        "hovermode": "closest",
        "margin": {
         "b": 0,
         "l": 0,
         "r": 0,
         "t": 0
        },
        "plot_bgcolor": "rgba(0, 0, 0, 0)",
        "showlegend": false,
        "width": 560,
        "xaxis": {
         "anchor": "y",
         "autorange": false,
         "domain": [
          0.13,
          0.905
         ],
         "exponentformat": "none",
         "gridcolor": "rgba(38,38,38,0.15)",
         "gridwidth": 1,
         "linecolor": "rgb(38,38,38)",
         "linewidth": 1,
         "mirror": false,
         "range": [
          0,
          1
         ],
         "showgrid": false,
         "showline": true,
         "side": "bottom",
         "spikedash": "solid",
         "spikemode": "across",
         "spikesides": false,
         "spikethickness": 1,
         "tickangle": 0,
         "tickcolor": "rgb(38,38,38)",
         "tickfont": {
          "color": "rgb(38,38,38)",
          "size": 10
         },
         "ticklen": 3,
         "ticks": "inside",
         "ticktext": [
          "0",
          "0.2",
          "0.4",
          "0.6",
          "0.8",
          "1"
         ],
         "tickvals": [
          0,
          0.2,
          0.4,
          0.6,
          0.8,
          1
         ],
         "title": {
          "font": {
           "color": "rgb(38,38,38)",
           "size": 11
          },
          "text": "pH"
         },
         "type": "linear",
         "visible": true,
         "zeroline": false
        },
        "yaxis": {
         "anchor": "x",
         "autorange": false,
         "domain": [
          0.11,
          0.9249999999999999
         ],
         "exponentformat": "none",
         "gridcolor": "rgba(38,38,38,0.15)",
         "gridwidth": 1,
         "linecolor": "rgb(38,38,38)",
         "linewidth": 1,
         "mirror": false,
         "range": [
          0,
          1
         ],
         "showgrid": false,
         "showline": true,
         "side": "left",
         "spikedash": "solid",
         "spikemode": "across",
         "spikesides": false,
         "spikethickness": 1,
         "tickangle": 0,
         "tickcolor": "rgb(38,38,38)",
         "tickfont": {
          "color": "rgb(38,38,38)",
          "size": 10
         },
         "ticklen": 3,
         "ticks": "inside",
         "ticktext": [
          "0",
          "0.2",
          "0.4",
          "0.6",
          "0.8",
          "1"
         ],
         "tickvals": [
          0,
          0.2,
          0.4,
          0.6,
          0.8,
          1
         ],
         "title": {
          "font": {
           "color": "rgb(38,38,38)",
           "size": 11
          },
          "text": "Alpha (&#945;)"
         },
         "type": "linear",
         "visible": true,
         "zeroline": false
        }
       }
      },
      "image/png": "[encoded data removed]"
     },
     "metadata": {},
     "output_type": "display_data"
    },
    {
     "ename": "Execution exception",
     "evalue": "legend: no valid object to label",
     "output_type": "error",
     "traceback": [
      "Execution exception: legend: no valid object to label",
      "error: called from\n    legend>parse_opts at line 770 column 7\n    legend at line 210 column 8\n"
     ]
    }
   ],
   "source": [
    "plot(pH_range, alphaH2CO3, 'r', 'LineWidth', 2); hold on;\n",
    "plot(pH_range, alphaHCO3, 'g', 'LineWidth', 2);\n",
    "plot(pH_range, alphaCO3, 'b', 'LineWidth', 2);\n",
    "xlabel('pH');\n",
    "ylabel('Alpha (\\alpha)');\n",
    "legend('H2CO3', 'HCO3-', 'CO3-2', 'Location', 'EastOutside');\n",
    "title('Carbonate Species Distribution as a Function of pH');"
   ]
  },
  {
   "cell_type": "code",
   "execution_count": null,
   "id": "b2b5703b-5250-4298-b1f3-cdafb5d1b7ec",
   "metadata": {},
   "outputs": [],
   "source": []
  }
 ],
 "metadata": {
  "kernelspec": {
   "display_name": "Octave (xoctave)",
   "language": "Octave",
   "name": "xoctave"
  },
  "language_info": {
   "codemirror_mode": "octave",
   "file_extension": ".m",
   "mimetype": "text/x-octave",
   "name": "Octave",
   "nbconvert_exporter": "",
   "pygments_lexer": "octave",
   "version": "7.3.0"
  }
 },
 "nbformat": 4,
 "nbformat_minor": 5
}
