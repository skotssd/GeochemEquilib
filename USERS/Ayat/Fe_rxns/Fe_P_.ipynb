{
 "cells": [
  {
   "cell_type": "markdown",
   "id": "88c5d603-8b7a-4c7f-aca2-7c9c7549a268",
   "metadata": {},
   "source": [
    "# Fe PHREEQC\n",
    "# Fe(III)"
   ]
  },
  {
   "cell_type": "code",
   "execution_count": 4,
   "id": "9845ea46-ed36-4573-ba34-37061ce46976",
   "metadata": {
    "tags": []
   },
   "outputs": [],
   "source": [
    "% setup environment\n",
    "% set path to equilibrium solver\n",
    "txt=pwd;\n",
    "n=length(txt);\n",
    "rootpath=txt; rootpath=txt(1:n-19);\n",
    "PHREEQCpath=[rootpath,'/runPHREEQC'];\n",
    "addpath(PHREEQCpath);\n",
    "JEQUILIBpath=[rootpath,'/JEQUILIB'];\n",
    "addpath(JEQUILIBpath);\n",
    "% clear data and number format\n",
    "clear; format short e\n",
    "% turn off warnings\n",
    "warning off\n",
    "%graphics_toolkit (\"notebook\"); \n",
    "%graphics_toolkit (\"plotly\"); \n",
    "%graphics_toolkit(\"gnuplot\")"
   ]
  },
  {
   "cell_type": "code",
   "execution_count": 5,
   "id": "4fa83e7a-0b0d-4af7-bb79-f7982c7b4f02",
   "metadata": {
    "tags": []
   },
   "outputs": [],
   "source": [
    "FeT=1e-6; pH=7;  pe=20.75-pH; T=25;"
   ]
  },
  {
   "cell_type": "code",
   "execution_count": 6,
   "id": "3bd95ab2-3bb5-4d33-ab6f-48bb9abe7cb6",
   "metadata": {
    "tags": []
   },
   "outputs": [
    {
     "ename": "Execution exception",
     "evalue": "fgetl: invalid stream number = -1",
     "output_type": "error",
     "traceback": [
      "Execution exception: fgetl: invalid stream number = -1",
      "error: called from\n    runPHREEQCv2noHA at line 110 column 5\n"
     ]
    },
    {
     "ename": "Execution exception",
     "evalue": "'solutionspeciesconcs' undefined near line 1, column 11",
     "output_type": "error",
     "traceback": [
      "Execution exception: 'solutionspeciesconcs' undefined near line 1, column 11",
      ""
     ]
    },
    {
     "ename": "Execution exception",
     "evalue": "'solutionspeciesconcs' undefined near line 1, column 11",
     "output_type": "error",
     "traceback": [
      "Execution exception: 'solutionspeciesconcs' undefined near line 1, column 11",
      ""
     ]
    },
    {
     "ename": "Execution exception",
     "evalue": "'solutionspeciesconcs' undefined near line 1, column 14",
     "output_type": "error",
     "traceback": [
      "Execution exception: 'solutionspeciesconcs' undefined near line 1, column 14",
      ""
     ]
    },
    {
     "ename": "Execution exception",
     "evalue": "'solutionspeciesconcs' undefined near line 1, column 14",
     "output_type": "error",
     "traceback": [
      "Execution exception: 'solutionspeciesconcs' undefined near line 1, column 14",
      ""
     ]
    },
    {
     "ename": "Execution exception",
     "evalue": "'solutionspeciesconcs' undefined near line 1, column 14",
     "output_type": "error",
     "traceback": [
      "Execution exception: 'solutionspeciesconcs' undefined near line 1, column 14",
      ""
     ]
    },
    {
     "ename": "Execution exception",
     "evalue": "'solutionspeciesconcs' undefined near line 1, column 15",
     "output_type": "error",
     "traceback": [
      "Execution exception: 'solutionspeciesconcs' undefined near line 1, column 15",
      ""
     ]
    },
    {
     "ename": "Execution exception",
     "evalue": "'solutionspeciesconcs' undefined near line 1, column 15",
     "output_type": "error",
     "traceback": [
      "Execution exception: 'solutionspeciesconcs' undefined near line 1, column 15",
      ""
     ]
    },
    {
     "ename": "Execution exception",
     "evalue": "'solutionspeciesconcs' undefined near line 1, column 13",
     "output_type": "error",
     "traceback": [
      "Execution exception: 'solutionspeciesconcs' undefined near line 1, column 13",
      ""
     ]
    },
    {
     "ename": "Execution exception",
     "evalue": "'solidconcs' undefined near line 1, column 14",
     "output_type": "error",
     "traceback": [
      "Execution exception: 'solidconcs' undefined near line 1, column 14",
      ""
     ]
    }
   ],
   "source": [
    "% MODEL USING PHREEQC\n",
    "\n",
    "minerals=[{'FeOH3'}]; totalvector=[FeT; 3*FeT]; totalnames=[{'Fe'}; {'Cl'}]; \n",
    "speciesexport=[{'Fe3+'}; {'OH-'};{'Fe(OH)2+'};{'Fe(OH)3'};{'Fe(OH)4-'};{'Fe2(OH)2+4'};{'Fe3(OH)4+5'};{'FeOH+2'}];\n",
    "\n",
    "acid=['HCl']; show=0; \n",
    "database=['Fe3_species.dat']; \n",
    "pH=pH;\n",
    "\n",
    "\n",
    "tic;\n",
    "[solutionspeciesconcs, speciesnames, solidconcs, solidnames]=runPHREEQCv2noHA(T',pH,pe,totalnames,totalvector,minerals,speciesexport,database,show,acid);\n",
    "PHREEQCtime=toc;\n",
    "\n",
    "FePHREEQC=solutionspeciesconcs(1); \n",
    "OHPHREEQC=solutionspeciesconcs(2); \n",
    "FeOH2PHREEQC=solutionspeciesconcs(3); \n",
    "FeOH3PHREEQC=solutionspeciesconcs(4); \n",
    "FeOH4PHREEQC=solutionspeciesconcs(5);\n",
    "Fe2OH2PHREEQC=solutionspeciesconcs(6);\n",
    "Fe3OH4PHREEQC=solutionspeciesconcs(7);\n",
    "FeOHPHREEQC=solutionspeciesconcs(8);\n",
    "FeOH3PHREEQC=solidconcs(1);\n",
    "\n",
    "#FemasserrorPHREEQC=FeT-Fe(OH)2PHREEQC-Fe(OH)3PHREEQC-Fe(OH)4PHREEQC-2*Fe2(OH)2PHREEQC-3*Fe3(OH)4PHREEQC-FeOHPHREEQC;\n"
   ]
  },
  {
   "cell_type": "code",
   "execution_count": null,
   "id": "7a8d3644-76c7-485a-9906-e395b19e06b5",
   "metadata": {},
   "outputs": [],
   "source": []
  }
 ],
 "metadata": {
  "kernelspec": {
   "display_name": "Octave (xoctave)",
   "language": "Octave",
   "name": "xoctave"
  },
  "language_info": {
   "codemirror_mode": "octave",
   "file_extension": ".m",
   "mimetype": "text/x-octave",
   "name": "Octave",
   "nbconvert_exporter": "",
   "pygments_lexer": "octave",
   "version": "7.3.0"
  }
 },
 "nbformat": 4,
 "nbformat_minor": 5
}
