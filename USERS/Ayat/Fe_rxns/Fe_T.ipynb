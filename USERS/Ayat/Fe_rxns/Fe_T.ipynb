{
 "cells": [
  {
   "cell_type": "markdown",
   "id": "962bf2e4-a297-46ff-9fff-478eb6c370a2",
   "metadata": {},
   "source": [
    "# Fe Tableau"
   ]
  },
  {
   "cell_type": "code",
   "execution_count": 7,
   "id": "190c7c0f-4a29-4770-b1cc-37bcfca708eb",
   "metadata": {
    "tags": []
   },
   "outputs": [],
   "source": [
    "% setup environment\n",
    "% set path to equilibrium solver\n",
    "txt=pwd;\n",
    "n=length(txt);\n",
    "rootpath=txt; rootpath=txt(1:n-19);\n",
    "PHREEQCpath=[rootpath,'/runPHREEQC'];\n",
    "addpath(PHREEQCpath);\n",
    "JEQUILIBpath=[rootpath,'/JEQUILIB'];\n",
    "addpath(JEQUILIBpath);\n",
    "% clear data and number format\n",
    "clear; format short e\n",
    "% turn off warnings\n",
    "warning off\n",
    "%graphics_toolkit (\"notebook\"); \n",
    "graphics_toolkit (\"plotly\"); \n",
    "%graphics_toolkit(\"gnuplot\")"
   ]
  },
  {
   "cell_type": "code",
   "execution_count": 8,
   "id": "cf238721-d4c1-4b3d-8322-1d2749747140",
   "metadata": {
    "tags": []
   },
   "outputs": [],
   "source": [
    "FeT=1e-5;  pH=4:1:8; pe=20.75-pH; T=25; show=0;"
   ]
  },
  {
   "cell_type": "code",
   "execution_count": 9,
   "id": "54e4e3e6-809e-4c61-8d5d-772dd33170a9",
   "metadata": {
    "tags": []
   },
   "outputs": [
    {
     "ename": "Execution exception",
     "evalue": "'flag3' undefined near line 88, column 8",
     "output_type": "error",
     "traceback": [
      "Execution exception: 'flag3' undefined near line 88, column 8",
      "error: called from\n    nl_massbalancerrnosolid_NR at line 88 column 13\n    returnspeciationRE>NRX at line 90 column 34\n    returnspeciationRE at line 29 column 36\n    Fetableau at line 30 column 41\n"
     ]
    }
   ],
   "source": [
    "% MODEL USING TABLEAU (different gradients or log versus linear variables)\n",
    "%graphics_toolkit(\"notebook\")\n",
    "%model with just inorganic speciation\n",
    "%geochemical model\n",
    "% input the constants and solution chemistry\n",
    "\n",
    "flag1=1; %flag1 for concentration based search vector (1) or for log based search vector (2).\n",
    "flag2=1; %flag2 for numerical derivatives (2) or analtyical derivatives (1)\n",
    "flag3=0; % flag3 1 for show warnings. 0 no warnings\n",
    "flag4=0; %if=1 solve tableau one line at a time to get a good initial guess (no solids). really challenging probs only\n",
    "flag5=0; %if=1 use stored initial guess for including solids\n",
    "\n",
    "for i=1:length(pH)\n",
    "\n",
    "TOTALS=[FeT]';\n",
    "TOTALS(TOTALS==0)=1e-16; % get rid of zero values, b/c div by zero error\n",
    "\n",
    "tic;\n",
    "[Fe(i),FeOH3s(i),MASSERR]=Fetableau(pH(i),pe(i),T,flag1,flag2,flag3,flag4,flag5)\n",
    "tableautime=toc;\n",
    "\n",
    "\n",
    "end"
   ]
  },
  {
   "cell_type": "code",
   "execution_count": null,
   "id": "347eb6e6-581c-442d-9bb2-eba30b9923ad",
   "metadata": {},
   "outputs": [],
   "source": []
  }
 ],
 "metadata": {
  "kernelspec": {
   "display_name": "Octave (xoctave)",
   "language": "Octave",
   "name": "xoctave"
  },
  "language_info": {
   "codemirror_mode": "octave",
   "file_extension": ".m",
   "mimetype": "text/x-octave",
   "name": "Octave",
   "nbconvert_exporter": "",
   "pygments_lexer": "octave",
   "version": "7.3.0"
  }
 },
 "nbformat": 4,
 "nbformat_minor": 5
}
