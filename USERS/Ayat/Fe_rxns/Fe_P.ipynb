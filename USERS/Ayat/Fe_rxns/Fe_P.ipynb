{
 "cells": [
  {
   "cell_type": "markdown",
   "id": "bcbdfbb6-e300-4f5b-b3be-614b73d770a5",
   "metadata": {},
   "source": [
    "# Fe PHREEQC"
   ]
  },
  {
   "cell_type": "code",
   "execution_count": 25,
   "id": "18e5f2e0-86df-423b-8753-7fc3ebd4612b",
   "metadata": {
    "tags": []
   },
   "outputs": [],
   "source": [
    "% setup environment\n",
    "% set path to equilibrium solver\n",
    "txt=pwd;\n",
    "n=length(txt);\n",
    "rootpath=txt; rootpath=txt(1:n-19);\n",
    "PHREEQCpath=[rootpath,'/runPHREEQC'];\n",
    "addpath(PHREEQCpath);\n",
    "JEQUILIBpath=[rootpath,'/JEQUILIB'];\n",
    "addpath(JEQUILIBpath);\n",
    "% clear data and number format\n",
    "clear; format short e\n",
    "% turn off warnings\n",
    "warning off\n",
    "%graphics_toolkit (\"notebook\"); \n",
    "graphics_toolkit (\"plotly\"); \n",
    "%graphics_toolkit(\"gnuplot\")"
   ]
  },
  {
   "cell_type": "code",
   "execution_count": 26,
   "id": "92291dd1-e1f5-4f83-827c-3417c1ff24e2",
   "metadata": {
    "tags": []
   },
   "outputs": [],
   "source": [
    "FeT=1e-5;  pH=3:1:9; pe=20.75-pH; T=25;"
   ]
  },
  {
   "cell_type": "code",
   "execution_count": 27,
   "id": "009175db-95c4-4bdd-bac6-8b89a7ba3833",
   "metadata": {
    "tags": []
   },
   "outputs": [
    {
     "ename": "Execution exception",
     "evalue": "fgetl: invalid stream number = -1",
     "output_type": "error",
     "traceback": [
      "Execution exception: fgetl: invalid stream number = -1",
      "error: called from\n    runPHREEQCv2noHA at line 110 column 5\n"
     ]
    }
   ],
   "source": [
    "% MODEL USING PHREEQC\n",
    "\n",
    "minerals=[{'FeOH3s'}]; totalvector=[FeT; 3*FeT]; totalnames=[{'Fe'}; {'Cl'}]; \n",
    "speciesexport=[{'Fe+3'};{'OH-'};{'FeOH+2'};{'Fe(OH)2+'};{'Fe(OH)3'};{'Fe(OH)4-'};{'Fe2(OH)2+4'};{'Fe3(OH)4+5'}];\n",
    "acid=['HCl']; \n",
    "database=['Fe3_species.dat']; \n",
    "\n",
    "\n",
    "for i=1:length(pH);\n",
    "show=0;\n",
    "tic;\n",
    "[solutionspeciesconcs, speciesnames, solidconcs, solidnames]=runPHREEQCv2noHA(T,pH(i),pe(i),totalnames,totalvector,minerals,speciesexport,database,show,acid);\n",
    "PHREEQCtime(i)=toc;\n",
    "\n",
    "Fe(i)=solutionspeciesconcs(1); \n",
    "OH(i)=solutionspeciesconcs(2); \n",
    "FeOH(i)=solutionspeciesconcs(3); \n",
    "FeOH2(i)=solutionspeciesconcs(4); \n",
    "FeOH3(i)=solutionspeciesconcs(5); \n",
    "FeOH4(i)=solutionspeciesconcs(6);\n",
    "Fe2OH2(i)=solutionspeciesconcs(7);\n",
    "Fe3OH4(i)=solutionspeciesconcs(8);\n",
    "FeOH3s(i)=solidconcs(1);\n",
    "\n",
    "%FemasserrorPHREEQC=FeT-FeOHPHREEQC-Fe(OH)2PHREEQC-Fe(OH)3PHREEQC-Fe(OH)4PHREEQC-2*Fe2(OH)2PHREEQC-3*Fe3(OH)4PHREEQC-FeOH3sPHREEQC;\n",
    "\n",
    "end\n"
   ]
  },
  {
   "cell_type": "code",
   "execution_count": null,
   "id": "94757821-a61e-420d-874e-e438c440cfaf",
   "metadata": {},
   "outputs": [],
   "source": []
  }
 ],
 "metadata": {
  "kernelspec": {
   "display_name": "Octave (xoctave)",
   "language": "Octave",
   "name": "xoctave"
  },
  "language_info": {
   "codemirror_mode": "octave",
   "file_extension": ".m",
   "mimetype": "text/x-octave",
   "name": "Octave",
   "nbconvert_exporter": "",
   "pygments_lexer": "octave",
   "version": "7.3.0"
  }
 },
 "nbformat": 4,
 "nbformat_minor": 5
}
