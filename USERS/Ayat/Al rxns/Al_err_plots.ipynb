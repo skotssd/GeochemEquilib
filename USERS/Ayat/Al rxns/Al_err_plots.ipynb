{
 "cells": [
  {
   "cell_type": "markdown",
   "id": "88c5d603-8b7a-4c7f-aca2-7c9c7549a268",
   "metadata": {},
   "source": [
    "# Al Tableau & PHREEQC error plots"
   ]
  },
  {
   "cell_type": "code",
   "execution_count": null,
   "id": "9845ea46-ed36-4573-ba34-37061ce46976",
   "metadata": {
    "tags": []
   },
   "outputs": [],
   "source": [
    "% setup environment\n",
    "% set path to equilibrium solver\n",
    "txt=pwd;\n",
    "n=length(txt);\n",
    "rootpath=txt; rootpath=txt(1:n-19);\n",
    "PHREEQCpath=[rootpath,'/runPHREEQC'];\n",
    "addpath(PHREEQCpath);\n",
    "JEQUILIBpath=[rootpath,'/JEQUILIB'];\n",
    "addpath(JEQUILIBpath);\n",
    "% clear data and number format\n",
    "clear; format short e\n",
    "% turn off warnings\n",
    "warning off\n",
    "%graphics_toolkit (\"notebook\"); \n",
    "%graphics_toolkit (\"plotly\"); \n",
    "%graphics_toolkit(\"gnuplot\")"
   ]
  },
  {
   "cell_type": "code",
   "execution_count": 4,
   "id": "e325de11-7a4b-4c03-96d0-d3a0589a6d14",
   "metadata": {
    "tags": []
   },
   "outputs": [],
   "source": [
    "% define equilibrium problem\n",
    "\n",
    "pH=7; pe=20.75-pH; logAlT=-6:1:-2; AlT=10.^logAlT;"
   ]
  },
  {
   "cell_type": "code",
   "execution_count": 5,
   "id": "d6aaabc8-86d2-4e6a-8db7-d4b774b847bc",
   "metadata": {
    "tags": []
   },
   "outputs": [],
   "source": [
    "% MODEL USING PHREEQC\n",
    "\n",
    "for i=1:length(AlT)\n",
    "\n",
    "minerals=[{'Gibbsite'}]; totalvector=[AlT(i); 3*AlT(i)]; totalnames=[{'Al'}; {'Cl'}]; \n",
    "speciesexport=[{'Al+3'}; {'OH-'};{'AlOH+2'};{'Al(OH)2+'};{'Al2(OH)2+4'};{'Al3(OH)4+5'};{'Al13O4(OH)24+7'}];\n",
    "acid=['HCl']; show=1; T=25;\n",
    "database=['Al_species.dat']; \n",
    "\n",
    "tic;\n",
    "[solutionspeciesconcs, speciesnames, solidconcs, solidnames]=runPHREEQCv2noHA(T,pH,pe,totalnames,totalvector,minerals,speciesexport,database,show,acid);\n",
    "PHREEQCtime=toc;\n",
    "\n",
    "Alw13PHREEQC(i)=solutionspeciesconcs(1); \n",
    "OHPHREEQC=solutionspeciesconcs(2); \n",
    "AlOHPHREEQC(i)=solutionspeciesconcs(3); \n",
    "AlOH2PHREEQC(i)=solutionspeciesconcs(4); \n",
    "Al2OH2PHREEQC(i)=solutionspeciesconcs(5); \n",
    "Al3OH4PHREEQC(i)=solutionspeciesconcs(6);\n",
    "Al13PHREEQC(i)=solutionspeciesconcs(7);\n",
    "AlOH3sw13PHREEQC(i)=solidconcs(1);\n",
    "\n",
    "AlmasserrorPHREEQC(i)=AlT(i)-AlOHPHREEQC(i)-AlOH2PHREEQC(i)-2*Al2OH2PHREEQC(i)-3*Al3OH4PHREEQC(i)-13*Al13PHREEQC(i)-AlOH3sw13PHREEQC(i);\n",
    "end"
   ]
  },
  {
   "cell_type": "code",
   "execution_count": null,
   "id": "798f209b-c2d0-48cb-b8c0-c76384824019",
   "metadata": {
    "tags": []
   },
   "outputs": [
    {
     "data": {},
     "metadata": {},
     "output_type": "display_data"
    },
    {
     "name": "stderr",
     "output_type": "stream",
     "text": [
      "fatal: caught signal Segmentation fault -- stopping myself..."
     ]
    }
   ],
   "source": [
    "plot(logAlT, AlmasserrorPHREEQC);"
   ]
  },
  {
   "cell_type": "code",
   "execution_count": null,
   "id": "e1283e5b-3872-4c94-84b8-53086e22a9ef",
   "metadata": {},
   "outputs": [],
   "source": [
    "% MODEL USING TABLEAU (different gradients or log versus linear variables)\n",
    "%graphics_toolkit(\"notebook\")\n",
    "%model with just inorganic speciation\n",
    "%geochemical model\n",
    "% input the constants and solution chemistry\n",
    "\n",
    "flag1=2; %flag1 for concentration based search vector (1) or for log based search vector (2).\n",
    "flag2=1; %flag2 for numerical derivatives (2) or analtyical derivatives (1)\n",
    "%database=[]; \n",
    "flag3=0; % flag3 1 for show warnings. 0 no warnings\n",
    "flag4=0; %if=1 solve tableau one line at a time to get a good initial guess (no solids). really challenging probs only\n",
    "flag5=0; %if=1 use stored initial guess for including solids\n",
    "\n",
    "for i=1:length(AlT)\n",
    "\n",
    "TOTALS=[AlT(i)]';\n",
    "TOTALS(TOTALS==0)=1e-16;% get rid of zero values, b/c div by zero error\n",
    "%TOTALS=[inorganicTOTALS]; %TOTALS=inorganicTOTALS;\n",
    "\n",
    "tic;\n",
    "[Al,AlOH3s,MASSERR]=Altableau(pH,pe,T,flag1,flag2,flag3,flag4,flag5);\n",
    "tableautime=toc;\n",
    "Almasserror(i)=MASSERR(1);\n"
   ]
  },
  {
   "cell_type": "code",
   "execution_count": 3,
   "id": "6b801782-111c-433b-8ad3-b4456c3b8ee8",
   "metadata": {},
   "outputs": [
    {
     "ename": "Execution exception",
     "evalue": "'logAlT' undefined near line 1, column 6",
     "output_type": "error",
     "traceback": [
      "Execution exception: 'logAlT' undefined near line 1, column 6",
      ""
     ]
    },
    {
     "ename": "Execution exception",
     "evalue": "'logAlT' undefined near line 1, column 6",
     "output_type": "error",
     "traceback": [
      "Execution exception: 'logAlT' undefined near line 1, column 6",
      ""
     ]
    }
   ],
   "source": [
    "plot(logAlT, Almasserror)\n",
    "%plot(logAlT, AlmasserrorPHREEQC, logAlT, Almasserror)\n",
    "%legend('PHREEQCerror','Tableau','location','eastoutside')"
   ]
  },
  {
   "cell_type": "code",
   "execution_count": null,
   "id": "6b0f318b-edfc-4cd3-9270-9fd88ede8171",
   "metadata": {},
   "outputs": [],
   "source": []
  }
 ],
 "metadata": {
  "kernelspec": {
   "display_name": "Octave (xoctave)",
   "language": "Octave",
   "name": "xoctave"
  },
  "language_info": {
   "codemirror_mode": "octave",
   "file_extension": ".m",
   "mimetype": "text/x-octave",
   "name": "Octave",
   "nbconvert_exporter": "",
   "pygments_lexer": "octave",
   "version": "7.3.0"
  }
 },
 "nbformat": 4,
 "nbformat_minor": 5
}
