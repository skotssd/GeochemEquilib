{
 "cells": [
  {
   "cell_type": "markdown",
   "id": "88c5d603-8b7a-4c7f-aca2-7c9c7549a268",
   "metadata": {},
   "source": [
    "# Al Tableau & PHREEQC"
   ]
  },
  {
   "cell_type": "code",
   "execution_count": 9,
   "id": "9845ea46-ed36-4573-ba34-37061ce46976",
   "metadata": {
    "tags": []
   },
   "outputs": [],
   "source": [
    "% setup environment\n",
    "% set path to equilibrium solver\n",
    "txt=pwd;\n",
    "n=length(txt);\n",
    "rootpath=txt; rootpath=txt(1:n-19);\n",
    "PHREEQCpath=[rootpath,'/runPHREEQC'];\n",
    "addpath(PHREEQCpath);\n",
    "JEQUILIBpath=[rootpath,'/JEQUILIB'];\n",
    "addpath(JEQUILIBpath);\n",
    "% clear data and number format\n",
    "clear; format short e\n",
    "% turn off warnings\n",
    "warning off\n",
    "%graphics_toolkit (\"notebook\"); \n",
    "%graphics_toolkit (\"plotly\"); \n",
    "%graphics_toolkit(\"gnuplot\")"
   ]
  },
  {
   "cell_type": "code",
   "execution_count": 10,
   "id": "e325de11-7a4b-4c03-96d0-d3a0589a6d14",
   "metadata": {
    "tags": []
   },
   "outputs": [],
   "source": [
    "% define equilibrium problem\n",
    "\n",
    "AlT=1e-2;  pH=7; pe=20.75-pH; T=25; show=0;\n"
   ]
  },
  {
   "cell_type": "code",
   "execution_count": 11,
   "id": "d5faaee2-6ee6-4144-aa70-4ba84856f0e0",
   "metadata": {},
   "outputs": [],
   "source": [
    "% MODEL USING TABLEAU (different gradients or log versus linear variables)\n",
    "%graphics_toolkit(\"notebook\")\n",
    "%model with just inorganic speciation\n",
    "%geochemical model\n",
    "% input the constants and solution chemistry\n",
    "\n",
    "flag1=2; %flag1 for concentration based search vector (1) or for log based search vector (2).\n",
    "flag2=1; %flag2 for numerical derivatives (2) or analtyical derivatives (1)\n",
    "%database=[]; \n",
    "flag3=0; % flag3 1 for show warnings. 0 no warnings\n",
    "flag4=0; %if=1 solve tableau one line at a time to get a good initial guess (no solids). really challenging probs only\n",
    "flag5=0; %if=1 use stored initial guess for including solids\n",
    "\n",
    "%for i=1:length(pH)\n",
    "\n",
    "TOTALS=[AlT]';\n",
    "TOTALS(TOTALS==0)=1e-16;% get rid of zero values, b/c div by zero error\n",
    "%TOTALS=[inorganicTOTALS]; %TOTALS=inorganicTOTALS;\n",
    "\n",
    "tic;\n",
    "[Al,AlOH3,MASSERR]=Altableau(pH,pe,T,flag1,flag2,flag3,flag4,flag5);\n",
    "tableautime=toc;\n",
    "Almasserror=MASSERR(1);\n"
   ]
  },
  {
   "cell_type": "code",
   "execution_count": 15,
   "id": "d6aaabc8-86d2-4e6a-8db7-d4b774b847bc",
   "metadata": {
    "tags": []
   },
   "outputs": [
    {
     "ename": "Execution exception",
     "evalue": "parse error:\n\n  syntax error\n\n\n",
     "output_type": "error",
     "traceback": [
      "Execution exception: parse error:\n\n  syntax error\n\n\n",
      ""
     ]
    }
   ],
   "source": [
    "% MODEL USING PHREEQC\n",
    "\n",
    "minerals=[{'Gibbsite'}]; totalvector=[AlT; 3*AlT]; totalnames=[{'Al'}; {'Cl'}]; \n",
    "speciesexport=[{'Al+3'}; {'OH-'};{'AlOH+2'};{'Al(OH)2+'};{'Al2(OH)2+4'};{'Al3(OH)4+5'};{'Al13O4(OH)24+7'}];\n",
    "acid=['HCl']; \n",
    "database=['Al_species.dat']; \n",
    "\n",
    "tic;\n",
    "[solutionspeciesconcs, speciesnames, solidconcs, solidnames]=runPHREEQCv2noHA(T,pH,pe,totalnames,totalvector,minerals,speciesexport,database,show,acid);\n",
    "PHREEQCtime=toc;\n",
    "\n",
    "Alw13PHREEQC=solutionspeciesconcs(1); \n",
    "OHPHREEQC=solutionspeciesconcs(2); \n",
    "AlOHPHREEQC=solutionspeciesconcs(3); \n",
    "AlOH2PHREEQC=solutionspeciesconcs(4); \n",
    "Al2OH2PHREEQC=solutionspeciesconcs(5); \n",
    "Al3OH4PHREEQC=solutionspeciesconcs(6);\n",
    "Al13PHREEQC=solutionspeciesconcs(7);\n",
    "AlOH3sw13PHREEQC=solidconcs(1);\n",
    "\n",
    "AlmasserrorPHREEQC=AlT-AlOHPHREEQC-AlOH2PHREEQC-2*Al2OH2PHREEQC-3*Al3OH4PHREEQC-13*Al13PHREEQC-AlOH3sw13PHREEQC;\n",
    "end"
   ]
  },
  {
   "cell_type": "code",
   "execution_count": 21,
   "id": "a2c629ae-6fc5-4c06-a65a-304999bc15ef",
   "metadata": {
    "tags": []
   },
   "outputs": [
    {
     "data": {
      "text/html": [
       "<table><tr><th><i>Alcompare<i></th><th>1</th><th>2</th></tr><tr><th>1</th><td>1.75388e-29</td><td>1.57774e-13</td></tr></table>"
      ],
      "text/plain": [
       "Alcompare =    1.7539e-29   1.5777e-13\n"
      ]
     },
     "metadata": {},
     "output_type": "display_data"
    },
    {
     "data": {
      "text/html": [
       "<table><tr><th><i>AlOH3scompare<i></th><th>1</th><th>2</th></tr><tr><th>1</th><td>25</td><td>0.01</td></tr></table>"
      ],
      "text/plain": [
       "AlOH3scompare =    2.5000e+01   1.0000e-02\n"
      ]
     },
     "metadata": {},
     "output_type": "display_data"
    },
    {
     "data": {
      "text/html": [
       "<table><tr><th><i>Almasserrorcompare<i></th><th>1</th><th>2</th></tr><tr><th>1</th><td>0</td><td>1.2737e-13</td></tr></table>"
      ],
      "text/plain": [
       "Almasserrorcompare =             0   1.2737e-13\n"
      ]
     },
     "metadata": {},
     "output_type": "display_data"
    },
    {
     "data": {
      "text/html": [
       "<table><tr><th><i>timecompare<i></th><th>1</th><th>2</th></tr><tr><th>1</th><td>0.128939</td><td>0.0217979</td></tr></table>"
      ],
      "text/plain": [
       "timecompare =    1.2894e-01   2.1798e-02\n"
      ]
     },
     "metadata": {},
     "output_type": "display_data"
    },
    {
     "name": "stderr",
     "output_type": "stream",
     "text": [
      "fatal: caught signal Aborted -- stopping myself..."
     ]
    }
   ],
   "source": [
    "Alcompare=[Al Alw13PHREEQC]\n",
    "AlOH3scompare=[AlOH3 AlOH3sw13PHREEQC]\n",
    "Almasserrorcompare=[Almasserror AlmasserrorPHREEQC]\n",
    "timecompare=[tableautime PHREEQCtime]"
   ]
  },
  {
   "cell_type": "code",
   "execution_count": null,
   "id": "81201cf0-a70a-489a-8ea6-0cbebaf20fba",
   "metadata": {},
   "outputs": [],
   "source": []
  }
 ],
 "metadata": {
  "kernelspec": {
   "display_name": "Octave (xoctave)",
   "language": "Octave",
   "name": "xoctave"
  },
  "language_info": {
   "codemirror_mode": "octave",
   "file_extension": ".m",
   "mimetype": "text/x-octave",
   "name": "Octave",
   "nbconvert_exporter": "",
   "pygments_lexer": "octave",
   "version": "7.3.0"
  }
 },
 "nbformat": 4,
 "nbformat_minor": 5
}
