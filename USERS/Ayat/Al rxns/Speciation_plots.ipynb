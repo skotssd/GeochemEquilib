{
 "cells": [
  {
   "cell_type": "markdown",
   "id": "040bdd7e-2515-4966-801c-0fbe6f67b960",
   "metadata": {},
   "source": [
    "# Al"
   ]
  },
  {
   "cell_type": "code",
   "execution_count": 1,
   "id": "a2ef4628-74a0-49ab-9e0a-ed81090b5359",
   "metadata": {
    "tags": []
   },
   "outputs": [],
   "source": [
    "% setup environment\n",
    "% set path to equilibrium solver\n",
    "txt=pwd;\n",
    "n=length(txt);\n",
    "rootpath=txt; rootpath=txt(1:n-19);\n",
    "PHREEQCpath=[rootpath,'/runPHREEQC'];\n",
    "addpath(PHREEQCpath);\n",
    "JEQUILIBpath=[rootpath,'/JEQUILIB'];\n",
    "addpath(JEQUILIBpath);\n",
    "% clear data and number format\n",
    "clear; format short e\n",
    "% turn off warnings\n",
    "warning off\n",
    "%graphics_toolkit (\"notebook\"); \n",
    "graphics_toolkit (\"plotly\"); \n",
    "%graphics_toolkit(\"gnuplot\")"
   ]
  },
  {
   "cell_type": "code",
   "execution_count": 2,
   "id": "cb58ea17-1a3f-4b57-b509-759ccc98023c",
   "metadata": {
    "tags": []
   },
   "outputs": [],
   "source": [
    "AlT=1e-10;  pH=1:1:12; pe=20.75-pH; T=25; show=0;"
   ]
  },
  {
   "cell_type": "code",
   "execution_count": 3,
   "id": "1b591e3c-05c3-4ecc-86a9-77f398009545",
   "metadata": {
    "tags": []
   },
   "outputs": [],
   "source": [
    "% MODEL USING TABLEAU (different gradients or log versus linear variables)\n",
    "%graphics_toolkit(\"notebook\")\n",
    "%model with just inorganic speciation\n",
    "%geochemical model\n",
    "% input the constants and solution chemistry\n",
    "\n",
    "flag1=2; %flag1 for concentration based search vector (1) or for log based search vector (2).\n",
    "flag2=2; %flag2 for numerical derivatives (2) or analtyical derivatives (1)\n",
    "flag3=0; % flag3 1 for show warnings. 0 no warnings\n",
    "flag4=0; %if=1 solve tableau one line at a time to get a good initial guess (no solids). really challenging probs only\n",
    "flag5=0; %if=1 use stored initial guess for including solids\n",
    "\n",
    "TOTALS=[AlT]';\n",
    "TOTALS(TOTALS==0)=1e-16; % get rid of zero values, b/c div by zero error\n",
    "\n",
    "for i=1:length(pH)\n",
    "tic;\n",
    "[Al(i),AlOH3s(i),Al13(i),AlOH4(i),MASSERR(i)]=Altableau(pH(i),pe(i),TOTALS',flag1,flag2,flag3,flag4,flag5);\n",
    "tableautime(i)=toc;\n",
    "\n",
    "Almasserror(i)=100*(MASSERR(1)./AlT);\n",
    "\n",
    "end"
   ]
  },
  {
   "cell_type": "code",
   "execution_count": 3,
   "id": "9d01611b-2eaf-4550-9f60-034c9c037bc1",
   "metadata": {
    "tags": []
   },
   "outputs": [],
   "source": [
    "% MODEL USING PHREEQC\n",
    "\n",
    "minerals=[{'Gibbsite'}]; totalvector=[AlT; 3*AlT]; totalnames=[{'Al'}; {'Cl'}]; \n",
    "speciesexport=[{'Al+3'}; {'OH-'};{'AlOH+2'};{'Al(OH)2+'};{'Al2(OH)2+4'};{'Al3(OH)4+5'};{'Al13O4(OH)24+7'}];\n",
    "acid=['HCl']; \n",
    "database=['Al_species.dat']; \n",
    "\n",
    "\n",
    "for i=1:length(pH)\n",
    "tic;\n",
    "[solutionspeciesconcs, speciesnames, solidconcs, solidnames]=...\n",
    "runPHREEQCv2noHA(T,pH(i),pe(i),totalnames,totalvector,minerals,speciesexport,database,show,acid);\n",
    "PHREEQCtime(i)=toc;\n",
    "\n",
    "AlPHREEQC(i)=solutionspeciesconcs(1); \n",
    "OHPHREEQC(i)=solutionspeciesconcs(2); \n",
    "AlOHPHREEQC(i)=solutionspeciesconcs(3); \n",
    "AlOH2PHREEQC(i)=solutionspeciesconcs(4); \n",
    "Al2OH2PHREEQC(i)=solutionspeciesconcs(5); \n",
    "Al3OH4PHREEQC(i)=solutionspeciesconcs(6);\n",
    "Al13PHREEQC(i)=solutionspeciesconcs(7);\n",
    "AlOH3sPHREEQC(i)=solidconcs(1);\n",
    "\n",
    "AlmasserrorPHREEQC(i)=AlT-AlOHPHREEQC(i)-AlOH2PHREEQC(i)-2*Al2OH2PHREEQC(i)-3*Al3OH4PHREEQC(i)-13*Al13PHREEQC(i)-AlOH3sPHREEQC(i);\n",
    "\n",
    "end"
   ]
  },
  {
   "cell_type": "code",
   "execution_count": 4,
   "id": "a92121ac-7806-4d93-a454-44eea7550047",
   "metadata": {
    "tags": []
   },
   "outputs": [
    {
     "data": {
      "application/vnd.plotly.v1+json": {
       "data": [
        {
         "line": {
          "color": "rgb(0,113,188)",
          "dash": "solid",
          "width": 2
         },
         "marker": {
          "color": "rgb(0,113,188)",
          "line": {
           "color": "rgb(0,113,188)"
          },
          "size": 6,
          "symbol": "none"
         },
         "mode": "lines",
         "name": "Al",
         "showlegend": true,
         "type": "scatter",
         "visibility": true,
         "x": [
          1,
          2,
          3,
          4,
          5,
          6,
          7,
          8,
          9,
          10,
          11,
          12
         ],
         "xaxis": "x",
         "y": [
          9.999618505467001e-11,
          9.992552508554002e-11,
          9.903724249698001e-11,
          9.022872004092e-11,
          4.276191709765001e-11,
          2.6837721847620003e-12,
          3.7772714686480003e-14,
          5.745149410217001e-17,
          5.838868285800001e-20,
          6.144677228072e-23,
          7.203943695247e-26,
          1.161101409234e-28
         ],
         "yaxis": "y"
        },
        {
         "line": {
          "color": "rgb(216,82,24)",
          "dash": "solid",
          "width": 2
         },
         "marker": {
          "color": "rgb(216,82,24)",
          "line": {
           "color": "rgb(216,82,24)"
          },
          "size": 6,
          "symbol": "none"
         },
         "mode": "lines",
         "name": "AlOH3s",
         "showlegend": true,
         "type": "scatter",
         "visibility": true,
         "x": [
          1,
          2,
          3,
          4,
          5,
          6,
          7,
          8,
          9,
          10,
          11,
          12
         ],
         "xaxis": "x",
         "y": [
          0,
          0,
          0,
          0,
          0,
          0,
          0,
          8.541996251347002e-11,
          9.854506936885003e-11,
          9.98537365517e-11,
          9.998511332548001e-11,
          9.999843012218001e-11
         ],
         "yaxis": "y"
        },
        {
         "line": {
          "color": "rgb(236,176,31)",
          "dash": "solid",
          "width": 2
         },
         "marker": {
          "color": "rgb(236,176,31)",
          "line": {
           "color": "rgb(236,176,31)"
          },
          "size": 6,
          "symbol": "none"
         },
         "mode": "lines",
         "name": "AlOH",
         "showlegend": true,
         "type": "scatter",
         "visibility": true,
         "x": [
          1,
          2,
          3,
          4,
          5,
          6,
          7,
          8,
          9,
          10,
          11,
          12
         ],
         "xaxis": "x",
         "y": [
          3.814898951305999e-15,
          7.446135917212e-14,
          9.607085989757e-13,
          9.556436060518004e-12,
          4.658605655061e-11,
          2.950029305962e-11,
          4.161610047290999e-12,
          6.314983780707e-14,
          6.360562895024999e-16,
          6.5065311435140004e-18,
          6.983167281340001e-20,
          8.634445564605e-22
         ],
         "yaxis": "y"
        },
        {
         "line": {
          "color": "rgb(125,46,141)",
          "dash": "solid",
          "width": 2
         },
         "marker": {
          "color": "rgb(125,46,141)",
          "line": {
           "color": "rgb(125,46,141)"
          },
          "size": 6,
          "symbol": "none"
         },
         "mode": "lines",
         "name": "AlOH2",
         "showlegend": true,
         "type": "scatter",
         "visibility": true,
         "x": [
          1,
          2,
          3,
          4,
          5,
          6,
          7,
          8,
          9,
          10,
          11,
          12
         ],
         "xaxis": "x",
         "y": [
          4.643809546279999e-20,
          1.355528774468e-17,
          2.048903687749e-15,
          2.148440700259e-13,
          1.065202562889e-11,
          6.781593446214001e-11,
          9.580061723219999e-11,
          1.4516830197249999e-11,
          1.454295494256e-12,
          1.4625694170909996e-13,
          1.488660536835e-14,
          1.5699207818389998e-15
         ],
         "yaxis": "y"
        },
        {
         "line": {
          "color": "rgb(118,171,47)",
          "dash": "solid",
          "width": 2
         },
         "marker": {
          "color": "rgb(118,171,47)",
          "line": {
           "color": "rgb(118,171,47)"
          },
          "size": 6,
          "symbol": "none"
         },
         "mode": "lines",
         "name": "Al2OH2",
         "showlegend": true,
         "type": "scatter",
         "visibility": true,
         "x": [
          1,
          2,
          3,
          4,
          5,
          6,
          7,
          8,
          9,
          10,
          11,
          12
         ],
         "xaxis": "x",
         "y": [
          1.329637003464e-26,
          1.7408243964369997e-24,
          1.9007730591039998e-22,
          1.634168822305e-20,
          3.7121180799449996e-19,
          1.467410456878e-19,
          2.9094957130069997e-21,
          6.724485497319999e-25,
          6.920732126553e-29,
          7.578184490882999e-33,
          1.0054240469149996e-36,
          2.3484689759439993e-40
         ],
         "yaxis": "y"
        },
        {
         "line": {
          "color": "rgb(76,189,237)",
          "dash": "solid",
          "width": 2
         },
         "marker": {
          "color": "rgb(76,189,237)",
          "line": {
           "color": "rgb(76,189,237)"
          },
          "size": 6,
          "symbol": "none"
         },
         "mode": "lines",
         "name": "Al3OH4",
         "showlegend": true,
         "type": "scatter",
         "visibility": true,
         "x": [
          1,
          2,
          3,
          4,
          5,
          6,
          7,
          8,
          9,
          10,
          11,
          12
         ],
         "xaxis": "x",
         "y": [
          0,
          1.1224235008080001e-36,
          1.2150627972319995e-32,
          9.517552810660002e-29,
          1.0246224526109998e-25,
          2.5420395834639995e-25,
          7.093833382738001e-27,
          2.493707093012e-31,
          2.6083486115449996e-36,
          0,
          0,
          0
         ],
         "yaxis": "y"
        },
        {
         "hoverinfo": "none",
         "line": {
          "color": "rgb(0,113,188)",
          "dash": "solid",
          "width": 2
         },
         "marker": {
          "color": "rgb(0,113,188)",
          "line": {
           "color": "rgb(0,113,188)"
          },
          "size": 6,
          "symbol": "none"
         },
         "mode": "lines",
         "name": "",
         "showlegend": false,
         "type": "scatter",
         "visibility": true,
         "x": [
          3,
          18
         ],
         "xaxis": "x2",
         "y": [
          7,
          7
         ],
         "yaxis": "y2"
        },
        {
         "hoverinfo": "none",
         "line": {
          "color": "rgb(216,82,24)",
          "dash": "solid",
          "width": 2
         },
         "marker": {
          "color": "rgb(216,82,24)",
          "line": {
           "color": "rgb(216,82,24)"
          },
          "size": 6,
          "symbol": "none"
         },
         "mode": "lines",
         "name": "",
         "showlegend": false,
         "type": "scatter",
         "visibility": true,
         "x": [
          3,
          18
         ],
         "xaxis": "x2",
         "y": [
          18,
          18
         ],
         "yaxis": "y2"
        },
        {
         "hoverinfo": "none",
         "line": {
          "color": "rgb(236,176,31)",
          "dash": "solid",
          "width": 2
         },
         "marker": {
          "color": "rgb(236,176,31)",
          "line": {
           "color": "rgb(236,176,31)"
          },
          "size": 6,
          "symbol": "none"
         },
         "mode": "lines",
         "name": "",
         "showlegend": false,
         "type": "scatter",
         "visibility": true,
         "x": [
          3,
          18
         ],
         "xaxis": "x2",
         "y": [
          29,
          29
         ],
         "yaxis": "y2"
        },
        {
         "hoverinfo": "none",
         "line": {
          "color": "rgb(125,46,141)",
          "dash": "solid",
          "width": 2
         },
         "marker": {
          "color": "rgb(125,46,141)",
          "line": {
           "color": "rgb(125,46,141)"
          },
          "size": 6,
          "symbol": "none"
         },
         "mode": "lines",
         "name": "",
         "showlegend": false,
         "type": "scatter",
         "visibility": true,
         "x": [
          3,
          18
         ],
         "xaxis": "x2",
         "y": [
          40,
          40
         ],
         "yaxis": "y2"
        },
        {
         "hoverinfo": "none",
         "line": {
          "color": "rgb(118,171,47)",
          "dash": "solid",
          "width": 2
         },
         "marker": {
          "color": "rgb(118,171,47)",
          "line": {
           "color": "rgb(118,171,47)"
          },
          "size": 6,
          "symbol": "none"
         },
         "mode": "lines",
         "name": "",
         "showlegend": false,
         "type": "scatter",
         "visibility": true,
         "x": [
          3,
          18
         ],
         "xaxis": "x2",
         "y": [
          51,
          51
         ],
         "yaxis": "y2"
        },
        {
         "hoverinfo": "none",
         "line": {
          "color": "rgb(76,189,237)",
          "dash": "solid",
          "width": 2
         },
         "marker": {
          "color": "rgb(76,189,237)",
          "line": {
           "color": "rgb(76,189,237)"
          },
          "size": 6,
          "symbol": "none"
         },
         "mode": "lines",
         "name": "",
         "showlegend": false,
         "type": "scatter",
         "visibility": true,
         "x": [
          3,
          18
         ],
         "xaxis": "x2",
         "y": [
          62,
          62
         ],
         "yaxis": "y2"
        }
       ],
       "layout": {
        "annotations": [
         {
          "font": {
           "color": "rgb(0, 0, 0)",
           "size": 9
          },
          "showarrow": false,
          "text": "Al",
          "x": 21,
          "xanchor": "left",
          "xref": "x2",
          "y": 7,
          "yanchor": "middle",
          "yref": "y2"
         },
         {
          "font": {
           "color": "rgb(0, 0, 0)",
           "size": 9
          },
          "showarrow": false,
          "text": "AlOH3s",
          "x": 21,
          "xanchor": "left",
          "xref": "x2",
          "y": 18,
          "yanchor": "middle",
          "yref": "y2"
         },
         {
          "font": {
           "color": "rgb(0, 0, 0)",
           "size": 9
          },
          "showarrow": false,
          "text": "AlOH",
          "x": 21,
          "xanchor": "left",
          "xref": "x2",
          "y": 29,
          "yanchor": "middle",
          "yref": "y2"
         },
         {
          "font": {
           "color": "rgb(0, 0, 0)",
           "size": 9
          },
          "showarrow": false,
          "text": "AlOH2",
          "x": 21,
          "xanchor": "left",
          "xref": "x2",
          "y": 40,
          "yanchor": "middle",
          "yref": "y2"
         },
         {
          "font": {
           "color": "rgb(0, 0, 0)",
           "size": 9
          },
          "showarrow": false,
          "text": "Al2OH2",
          "x": 21,
          "xanchor": "left",
          "xref": "x2",
          "y": 51,
          "yanchor": "middle",
          "yref": "y2"
         },
         {
          "font": {
           "color": "rgb(0, 0, 0)",
           "size": 9
          },
          "showarrow": false,
          "text": "Al3OH4",
          "x": 21,
          "xanchor": "left",
          "xref": "x2",
          "y": 62,
          "yanchor": "middle",
          "yref": "y2"
         }
        ],
        "height": 420,
        "hovermode": "closest",
        "margin": {
         "b": 0,
         "l": 0,
         "r": 0,
         "t": 0
        },
        "plot_bgcolor": "rgba(0, 0, 0, 0)",
        "showlegend": false,
        "width": 560,
        "xaxis": {
         "anchor": "y",
         "autorange": false,
         "domain": [
          0.13,
          0.905
         ],
         "exponentformat": "none",
         "gridcolor": "rgba(38,38,38,0.15)",
         "gridwidth": 1,
         "linecolor": "rgb(38,38,38)",
         "linewidth": 1,
         "mirror": "ticks",
         "range": [
          0,
          12
         ],
         "showgrid": false,
         "showline": true,
         "side": "bottom",
         "spikedash": "solid",
         "spikemode": "across",
         "spikesides": false,
         "spikethickness": 1,
         "tickangle": 0,
         "tickcolor": "rgb(38,38,38)",
         "tickfont": {
          "color": "rgb(38,38,38)",
          "size": 10
         },
         "ticklen": 3,
         "ticks": "inside",
         "ticktext": [
          "0",
          "2",
          "4",
          "6",
          "8",
          "10",
          "12"
         ],
         "tickvals": [
          0,
          2,
          4,
          6,
          8,
          10,
          12
         ],
         "title": {
          "font": {
           "color": "rgb(38,38,38)",
           "size": 11
          },
          "text": "pH"
         },
         "type": "linear",
         "visible": true,
         "zeroline": false
        },
        "xaxis2": {
         "anchor": "y2",
         "autorange": false,
         "domain": [
          0.7960714285714285,
          0.8942857142857142
         ],
         "exponentformat": "none",
         "fixedrange": true,
         "gridcolor": "rgba(38,38,38,0.15)",
         "gridwidth": 1,
         "linecolor": "rgb(38,38,38)",
         "linewidth": 1,
         "mirror": true,
         "range": [
          0,
          55
         ],
         "showgrid": false,
         "showline": true,
         "showspikes": false,
         "side": "bottom",
         "spikedash": "solid",
         "spikemode": "across",
         "spikesides": false,
         "spikethickness": 1,
         "tickangle": 0,
         "tickcolor": "rgb(38,38,38)",
         "tickfont": {
          "color": "rgb(38,38,38)",
          "size": 9
         },
         "ticklen": 3,
         "ticks": "",
         "ticktext": [],
         "tickvals": [],
         "title": {
          "font": {
           "color": "rgb(0, 0, 0)",
           "size": 9.9
          },
          "text": ""
         },
         "type": "linear",
         "visible": true,
         "zeroline": false
        },
        "yaxis": {
         "anchor": "x",
         "autorange": false,
         "domain": [
          0.11,
          0.9249999999999999
         ],
         "exponentformat": "none",
         "gridcolor": "rgba(38,38,38,0.15)",
         "gridwidth": 1,
         "linecolor": "rgb(38,38,38)",
         "linewidth": 1,
         "mirror": "ticks",
         "range": [
          0,
          1.2e-10
         ],
         "showgrid": false,
         "showline": true,
         "side": "left",
         "spikedash": "solid",
         "spikemode": "across",
         "spikesides": false,
         "spikethickness": 1,
         "tickangle": 0,
         "tickcolor": "rgb(38,38,38)",
         "tickfont": {
          "color": "rgb(38,38,38)",
          "size": 10
         },
         "ticklen": 3,
         "ticks": "inside",
         "ticktext": [
          "0",
          "2e-11",
          "4e-11",
          "6e-11",
          "8e-11",
          "1e-10",
          "1.2e-10"
         ],
         "tickvals": [
          0,
          2e-11,
          4e-11,
          6e-11,
          8e-11,
          9.999999999999999e-11,
          1.2e-10
         ],
         "title": {
          "font": {
           "color": "rgb(38,38,38)",
           "size": 11
          },
          "text": "Concentration"
         },
         "type": "linear",
         "visible": true,
         "zeroline": false
        },
        "yaxis2": {
         "anchor": "x2",
         "autorange": false,
         "domain": [
          0.7464285714285713,
          0.9107142857142856
         ],
         "exponentformat": "none",
         "fixedrange": true,
         "gridcolor": "rgba(38,38,38,0.15)",
         "gridwidth": 1,
         "linecolor": "rgb(38,38,38)",
         "linewidth": 1,
         "mirror": true,
         "range": [
          69,
          0
         ],
         "showgrid": false,
         "showline": true,
         "showspikes": false,
         "side": "left",
         "spikedash": "solid",
         "spikemode": "across",
         "spikesides": false,
         "spikethickness": 1,
         "tickangle": 0,
         "tickcolor": "rgb(38,38,38)",
         "tickfont": {
          "color": "rgb(38,38,38)",
          "size": 9
         },
         "ticklen": 3,
         "ticks": "",
         "ticktext": [],
         "tickvals": [],
         "title": {
          "font": {
           "color": "rgb(0, 0, 0)",
           "size": 9.9
          },
          "text": ""
         },
         "type": "linear",
         "visible": true,
         "zeroline": false
        }
       }
      },
      "image/png": "[encoded data removed]"
     },
     "metadata": {},
     "output_type": "display_data"
    },
    {
     "name": "stderr",
     "output_type": "stream",
     "text": [
      "ERROR: received unknown message\n",
      "Message type: usage_request\n"
     ]
    }
   ],
   "source": [
    "h=plot(pH,AlPHREEQC,pH,AlOH3sPHREEQC,pH,AlOHPHREEQC,pH,AlOH2PHREEQC,pH,Al2OH2PHREEQC,pH,Al3OH4PHREEQC);\n",
    "legend('Al','AlOH3s','AlOH','AlOH2','Al2OH2','Al3OH4');\n",
    "set(h,'linewidth',2);\n",
    "xlabel('pH');ylabel('Concentration');\n"
   ]
  },
  {
   "cell_type": "code",
   "execution_count": null,
   "id": "fe7c2b18-287b-4d37-95d0-128cdffbfbe0",
   "metadata": {},
   "outputs": [],
   "source": []
  }
 ],
 "metadata": {
  "kernelspec": {
   "display_name": "Octave (xoctave)",
   "language": "Octave",
   "name": "xoctave"
  },
  "language_info": {
   "codemirror_mode": "octave",
   "file_extension": ".m",
   "mimetype": "text/x-octave",
   "name": "Octave",
   "nbconvert_exporter": "",
   "pygments_lexer": "octave",
   "version": "7.3.0"
  }
 },
 "nbformat": 4,
 "nbformat_minor": 5
}
