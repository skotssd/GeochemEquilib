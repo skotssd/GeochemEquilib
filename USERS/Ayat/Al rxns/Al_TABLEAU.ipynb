{
 "cells": [
  {
   "cell_type": "markdown",
   "id": "7e1a7cbd-a760-42c2-a3e4-6e69c8800410",
   "metadata": {},
   "source": [
    "# AL TABLEAU WITH VARYING pH"
   ]
  },
  {
   "cell_type": "code",
   "execution_count": 25,
   "id": "bb8d2879-9596-4552-9f1b-5431c4ee2e22",
   "metadata": {
    "tags": []
   },
   "outputs": [],
   "source": [
    "% setup environment\n",
    "% set path to equilibrium solver\n",
    "txt=pwd;\n",
    "n=length(txt);\n",
    "rootpath=txt; rootpath=txt(1:n-19);\n",
    "PHREEQCpath=[rootpath,'/runPHREEQC'];\n",
    "addpath(PHREEQCpath);\n",
    "JEQUILIBpath=[rootpath,'/JEQUILIB'];\n",
    "addpath(JEQUILIBpath);\n",
    "% clear data and number format\n",
    "clear; format short e\n",
    "% turn off warnings\n",
    "warning off\n",
    "%graphics_toolkit (\"notebook\"); \n",
    "graphics_toolkit (\"plotly\"); \n",
    "%graphics_toolkit(\"gnuplot\")"
   ]
  },
  {
   "cell_type": "code",
   "execution_count": 26,
   "id": "bddc39de-2819-4956-b7f1-cd363d3804c1",
   "metadata": {
    "tags": []
   },
   "outputs": [],
   "source": [
    "% define equilibrium problem\n",
    "\n",
    "AlT=1e-16;  pH=3:1:4; pe=20.75-pH; T=25; show=0;\n"
   ]
  },
  {
   "cell_type": "code",
   "execution_count": 27,
   "id": "5c75455d-a6b4-48f0-ab52-b4edd0123bc5",
   "metadata": {
    "tags": []
   },
   "outputs": [],
   "source": [
    "% MODEL USING TABLEAU (different gradients or log versus linear variables)\n",
    "%graphics_toolkit(\"notebook\")\n",
    "%model with just inorganic speciation\n",
    "%geochemical model\n",
    "% input the constants and solution chemistry\n",
    "\n",
    "flag1=2; %flag1 for concentration based search vector (1) or for log based search vector (2).\n",
    "flag2=1; %flag2 for numerical derivatives (2) or analtyical derivatives (1)\n",
    "%database=[]; \n",
    "flag3=0; % flag3 1 for show warnings. 0 no warnings\n",
    "flag4=0; %if=1 solve tableau one line at a time to get a good initial guess (no solids). really challenging probs only\n",
    "flag5=0; %if=1 use stored initial guess for including solids\n",
    "\n",
    "for i=1:length(pH)\n",
    "\n",
    "TOTALS=[AlT]';\n",
    "TOTALS(TOTALS==0)=1e-16;% get rid of zero values, b/c div by zero error\n",
    "%TOTALS=[inorganicTOTALS]; %TOTALS=inorganicTOTALS;\n",
    "\n",
    "tic;\n",
    "[AlOH3,MASSERR]=Altableau(pH(i),pe(i),T,flag1,flag2,flag3,flag4,flag5);\n",
    "tableautime=toc;\n",
    "\n",
    "end"
   ]
  },
  {
   "cell_type": "code",
   "execution_count": 28,
   "id": "1b5b0812-cc01-41e2-bac1-bf95269dd1fb",
   "metadata": {
    "tags": []
   },
   "outputs": [
    {
     "data": {
      "application/vnd.plotly.v1+json": {
       "data": [
        {
         "line": {
          "color": "rgb(0,113,188)",
          "dash": "solid",
          "width": 0.5
         },
         "marker": {
          "color": "rgb(0,113,188)",
          "line": {
           "color": "rgb(0,113,188)"
          },
          "size": 6,
          "symbol": "circle"
         },
         "mode": "lines+markers",
         "name": "",
         "showlegend": false,
         "type": "scatter",
         "visibility": true,
         "x": [
          3
         ],
         "xaxis": "x",
         "y": [
          25
         ],
         "yaxis": "y"
        },
        {
         "line": {
          "color": "rgb(216,82,24)",
          "dash": "solid",
          "width": 0.5
         },
         "marker": {
          "color": "rgb(216,82,24)",
          "line": {
           "color": "rgb(216,82,24)"
          },
          "size": 6,
          "symbol": "circle"
         },
         "mode": "lines+markers",
         "name": "",
         "showlegend": false,
         "type": "scatter",
         "visibility": true,
         "x": [
          4
         ],
         "xaxis": "x",
         "y": [
          25
         ],
         "yaxis": "y"
        }
       ],
       "layout": {
        "height": 420,
        "hovermode": "closest",
        "margin": {
         "b": 0,
         "l": 0,
         "r": 0,
         "t": 0
        },
        "plot_bgcolor": "rgba(0, 0, 0, 0)",
        "showlegend": false,
        "width": 560,
        "xaxis": {
         "anchor": "y",
         "autorange": false,
         "domain": [
          0.13,
          0.905
         ],
         "exponentformat": "none",
         "gridcolor": "rgba(38,38,38,0.15)",
         "gridwidth": 1,
         "linecolor": "rgb(38,38,38)",
         "linewidth": 1,
         "mirror": "ticks",
         "range": [
          3,
          4
         ],
         "showgrid": false,
         "showline": true,
         "side": "bottom",
         "spikedash": "solid",
         "spikemode": "across",
         "spikesides": false,
         "spikethickness": 1,
         "tickangle": 0,
         "tickcolor": "rgb(38,38,38)",
         "tickfont": {
          "color": "rgb(38,38,38)",
          "size": 10
         },
         "ticklen": 3,
         "ticks": "inside",
         "ticktext": [
          "3",
          "3.2",
          "3.4",
          "3.6",
          "3.8",
          "4"
         ],
         "tickvals": [
          3,
          3.2,
          3.4000000000000004,
          3.6,
          3.8000000000000003,
          4
         ],
         "title": {
          "font": {
           "color": "rgb(0, 0, 0)",
           "size": 11
          },
          "text": ""
         },
         "type": "linear",
         "visible": true,
         "zeroline": false
        },
        "yaxis": {
         "anchor": "x",
         "autorange": false,
         "domain": [
          0.11,
          0.9249999999999999
         ],
         "exponentformat": "none",
         "gridcolor": "rgba(38,38,38,0.15)",
         "gridwidth": 1,
         "linecolor": "rgb(38,38,38)",
         "linewidth": 1,
         "mirror": "ticks",
         "range": [
          22,
          28
         ],
         "showgrid": false,
         "showline": true,
         "side": "left",
         "spikedash": "solid",
         "spikemode": "across",
         "spikesides": false,
         "spikethickness": 1,
         "tickangle": 0,
         "tickcolor": "rgb(38,38,38)",
         "tickfont": {
          "color": "rgb(38,38,38)",
          "size": 10
         },
         "ticklen": 3,
         "ticks": "inside",
         "ticktext": [
          "22",
          "23",
          "24",
          "25",
          "26",
          "27",
          "28"
         ],
         "tickvals": [
          22,
          23,
          24,
          25,
          26,
          27,
          28
         ],
         "title": {
          "font": {
           "color": "rgb(0, 0, 0)",
           "size": 11
          },
          "text": ""
         },
         "type": "linear",
         "visible": true,
         "zeroline": false
        }
       }
      },
      "image/png": "[encoded data removed]"
     },
     "metadata": {},
     "output_type": "display_data"
    }
   ],
   "source": [
    "plot(pH,AlOH3)"
   ]
  },
  {
   "cell_type": "code",
   "execution_count": null,
   "id": "4e98c4e9-83c1-43b0-8f9d-2034085271df",
   "metadata": {},
   "outputs": [],
   "source": []
  }
 ],
 "metadata": {
  "kernelspec": {
   "display_name": "Octave (xoctave)",
   "language": "Octave",
   "name": "xoctave"
  },
  "language_info": {
   "codemirror_mode": "octave",
   "file_extension": ".m",
   "mimetype": "text/x-octave",
   "name": "Octave",
   "nbconvert_exporter": "",
   "pygments_lexer": "octave",
   "version": "7.3.0"
  }
 },
 "nbformat": 4,
 "nbformat_minor": 5
}
