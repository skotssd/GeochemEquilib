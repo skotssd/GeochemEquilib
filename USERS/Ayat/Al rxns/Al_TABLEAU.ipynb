{
 "cells": [
  {
   "cell_type": "markdown",
   "id": "7e1a7cbd-a760-42c2-a3e4-6e69c8800410",
   "metadata": {},
   "source": [
    "# AL TABLEAU WITH VARYING pH"
   ]
  },
  {
   "cell_type": "code",
   "execution_count": 10,
   "id": "bb8d2879-9596-4552-9f1b-5431c4ee2e22",
   "metadata": {
    "tags": []
   },
   "outputs": [],
   "source": [
    "% setup environment\n",
    "% set path to equilibrium solver\n",
    "txt=pwd;\n",
    "n=length(txt);\n",
    "rootpath=txt; rootpath=txt(1:n-19);\n",
    "PHREEQCpath=[rootpath,'/runPHREEQC'];\n",
    "addpath(PHREEQCpath);\n",
    "JEQUILIBpath=[rootpath,'/JEQUILIB'];\n",
    "addpath(JEQUILIBpath);\n",
    "% clear data and number format\n",
    "clear; format short e\n",
    "% turn off warnings\n",
    "warning off\n",
    "%graphics_toolkit (\"notebook\"); \n",
    "graphics_toolkit (\"plotly\"); \n",
    "%graphics_toolkit(\"gnuplot\")"
   ]
  },
  {
   "cell_type": "code",
   "execution_count": 11,
   "id": "bddc39de-2819-4956-b7f1-cd363d3804c1",
   "metadata": {
    "tags": []
   },
   "outputs": [],
   "source": [
    "% define equilibrium problem\n",
    "\n",
    "AlT=1e-2;  pH=3:1:12; pe=20.75-pH; T=25; show=0;\n"
   ]
  },
  {
   "cell_type": "code",
   "execution_count": 12,
   "id": "5c75455d-a6b4-48f0-ab52-b4edd0123bc5",
   "metadata": {
    "collapsed": true,
    "jupyter": {
     "outputs_hidden": true
    },
    "tags": []
   },
   "outputs": [
    {
     "name": "stdout",
     "output_type": "stream",
     "text": [
      "mass balance X no solids\n",
      "mass balance R error X no solids\n",
      "mass balance R error X no solids\n",
      "mass balance R error X no solids\n",
      "mass balance R error X no solids\n",
      "mass balance R error X no solids\n",
      "mass balance X no solids\n",
      "mass balance R error X no solids\n",
      "mass balance R error X no solids\n",
      "mass balance R error X no solids\n",
      "mass balance R error X no solids\n",
      "mass balance R error X no solids\n",
      "mass balance X no solids\n",
      "mass balance R error X no solids\n",
      "mass balance R error X no solids\n",
      "mass balance R error X no solids\n",
      "mass balance R error X no solids\n",
      "mass balance R error X no solids\n",
      "mass balance X no solids\n",
      "mass balance R error X no solids\n",
      "mass balance R error X no solids\n",
      "mass balance R error X no solids\n",
      "mass balance R error X no solids\n",
      "mass balance R error X no solids\n",
      "mass balance X no solids\n",
      "mass balance R error X no solids\n",
      "mass balance R error X no solids\n",
      "mass balance R error X no solids\n",
      "mass balance R error X no solids\n",
      "mass balance R error X no solids\n",
      "mass balance X no solids\n",
      "mass balance R error X no solids\n",
      "mass balance R error X no solids\n",
      "mass balance R error X no solids\n",
      "mass balance R error X no solids\n",
      "mass balance R error X no solids\n",
      "mass balance X no solids\n",
      "mass balance R error X no solids\n",
      "mass balance R error X no solids\n",
      "mass balance R error X no solids\n",
      "mass balance R error X no solids\n",
      "mass balance R error X no solids\n",
      "mass balance X no solids\n",
      "mass balance R error X no solids\n",
      "mass balance R error X no solids\n",
      "mass balance R error X no solids\n",
      "mass balance R error X no solids\n",
      "mass balance R error X no solids\n",
      "mass balance X no solids\n",
      "mass balance R error X no solids\n",
      "mass balance R error X no solids\n",
      "mass balance R error X no solids\n",
      "mass balance R error X no solids\n",
      "mass balance R error X no solids\n",
      "mass balance X no solids\n",
      "mass balance R error X no solids\n",
      "mass balance R error X no solids\n",
      "mass balance R error X no solids\n",
      "mass balance R error X no solids\n",
      "mass balance R error X no solids\n",
      "mass balance X no solids\n",
      "mass balance R error X no solids\n",
      "mass balance R error X no solids\n",
      "mass balance R error X no solids\n",
      "mass balance R error X no solids\n",
      "mass balance R error X no solids\n",
      "mass balance X no solids\n",
      "mass balance R error X no solids\n",
      "mass balance R error X no solids\n",
      "mass balance R error X no solids\n",
      "mass balance R error X no solids\n",
      "mass balance R error X no solids\n",
      "mass balance X no solids\n",
      "mass balance R error X no solids\n",
      "X no ITER EXEED no solid logX\n"
     ]
    },
    {
     "ename": "Execution exception",
     "evalue": "'Al13' undefined near line 1, column 11",
     "output_type": "error",
     "traceback": [
      "Execution exception: 'Al13' undefined near line 1, column 11",
      "error: called from\n    Altableau at line 31 column 1\n"
     ]
    },
    {
     "name": "stderr",
     "output_type": "stream",
     "text": [
      "ERROR: received unknown message\n",
      "Message type: usage_request\n"
     ]
    }
   ],
   "source": [
    "% MODEL USING TABLEAU (different gradients or log versus linear variables)\n",
    "%graphics_toolkit(\"notebook\")\n",
    "%model with just inorganic speciation\n",
    "%geochemical model\n",
    "% input the constants and solution chemistry\n",
    "\n",
    "flag1=1; %flag1 for concentration based search vector (1) or for log based search vector (2).\n",
    "flag2=2; %flag2 for numerical derivatives (2) or analtyical derivatives (1)\n",
    "%database=[]; \n",
    "flag3=0; % flag3 1 for show warnings. 0 no warnings\n",
    "flag4=0; %if=1 solve tableau one line at a time to get a good initial guess (no solids). really challenging probs only\n",
    "flag5=0; %if=1 use stored initial guess for including solids\n",
    "\n",
    "for i=1:length(pH)\n",
    "\n",
    "TOTALS=[AlT]';\n",
    "TOTALS(TOTALS==0)=1e-16;% get rid of zero values, b/c div by zero error\n",
    "%TOTALS=[inorganicTOTALS]; %TOTALS=inorganicTOTALS;\n",
    "\n",
    "tic;\n",
    "[Al13,AlOH3,MASSERR]=Altableau(pH(i),pe(i),T,flag1,flag2,flag3,flag4,flag5);\n",
    "tableautime=toc;\n",
    "\n",
    "end"
   ]
  },
  {
   "cell_type": "code",
   "execution_count": null,
   "id": "1b5b0812-cc01-41e2-bac1-bf95269dd1fb",
   "metadata": {
    "tags": []
   },
   "outputs": [],
   "source": [
    "plot(pH,AlOH3)"
   ]
  },
  {
   "cell_type": "code",
   "execution_count": null,
   "id": "4e98c4e9-83c1-43b0-8f9d-2034085271df",
   "metadata": {},
   "outputs": [],
   "source": []
  }
 ],
 "metadata": {
  "kernelspec": {
   "display_name": "Octave (xoctave)",
   "language": "Octave",
   "name": "xoctave"
  },
  "language_info": {
   "codemirror_mode": "octave",
   "file_extension": ".m",
   "mimetype": "text/x-octave",
   "name": "Octave",
   "nbconvert_exporter": "",
   "pygments_lexer": "octave",
   "version": "7.3.0"
  }
 },
 "nbformat": 4,
 "nbformat_minor": 5
}
