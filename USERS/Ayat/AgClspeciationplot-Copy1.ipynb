{
 "cells": [
  {
   "cell_type": "markdown",
   "id": "94e5fb31-a55d-4eed-9cec-13d4351dbb3c",
   "metadata": {
    "tags": []
   },
   "source": [
    "# AgCl speciation plot"
   ]
  },
  {
   "cell_type": "code",
   "execution_count": 1,
   "id": "4dd02907-ebb3-4c92-97aa-386c4ba396ef",
   "metadata": {
    "tags": []
   },
   "outputs": [],
   "source": [
    "% setup environment\n",
    "% set path to equilibrium solver\n",
    "txt=pwd;\n",
    "n=length(txt);\n",
    "rootpath=txt; rootpath=txt(1:n-11);\n",
    "PHREEQCpath=[rootpath,'/runPHREEQC'];\n",
    "addpath(PHREEQCpath);\n",
    "JEQUILIBpath=[rootpath,'/JEQUILIB'];\n",
    "addpath(JEQUILIBpath);\n",
    "% clear data and number format\n",
    "clear; format short e\n",
    "% turn off warnings\n",
    "warning off\n",
    "%graphics_toolkit (\"notebook\"); \n",
    "%graphics_toolkit (\"plotly\"); \n",
    "graphics_toolkit(\"gnuplot\")\n",
    "%available_graphics_toolkits()\n",
    "%loaded_graphics_toolkits ()"
   ]
  },
  {
   "cell_type": "code",
   "execution_count": 2,
   "id": "519944b4-a373-4a51-b4fa-52328ad1e114",
   "metadata": {},
   "outputs": [],
   "source": [
    "%equilibrium problem\n",
    "AgT=0.01; pH=7;  pe=20.75-pH; logClT=-9:0.02:-1; ClT=10.^logClT;"
   ]
  },
  {
   "cell_type": "code",
   "execution_count": 3,
   "id": "3efd1247-69a9-4ae2-a559-ca950e99674f",
   "metadata": {
    "tags": []
   },
   "outputs": [],
   "source": [
    "% MODEL USING PHREEQC\n",
    "\n",
    "for i=1:length(ClT)\n",
    "\n",
    "minerals=[{'AgCls'}]; totalvector=[AgT; ClT(i); ClT(i)]; totalnames=[{'Ag'}; {'Cl'}; {'Na'}]; \n",
    "speciesexport=[{'Ag+'}; {'Cl-'};{'AgCl'};{'AgCl2-'};{'AgCl3-2'};{'AgCl4-3'}];\n",
    "%database=['llnl_nosolubleAgCl.dat']; \n",
    "acid=['NaOH']; show=1; T=25;\n",
    "%database=['AgCl.dat']; \n",
    "database=['complexAgCl.dat']; \n",
    "\n",
    "tic\n",
    "[solutionspeciesconcs, speciesnames, solidconcs, solidnames]=runPHREEQCv2noHA(T,pH,pe,totalnames,totalvector,minerals,speciesexport,database,show,acid);\n",
    "PHREEQCtime=toc;\n",
    "\n",
    "Ag(i)=solutionspeciesconcs(1); \n",
    "Cl(i)=solutionspeciesconcs(2); \n",
    "AgCl(i)=solutionspeciesconcs(3); \n",
    "AgCl2(i)=solutionspeciesconcs(4);\n",
    "AgCl3(i)=solutionspeciesconcs(5);\n",
    "AgCl4(i)=solutionspeciesconcs(6);\n",
    "AgCls(i)=solidconcs(1);\n",
    "\n",
    "end"
   ]
  },
  {
   "cell_type": "code",
   "execution_count": 5,
   "id": "b94d21ad-db6b-4382-ab66-441ab0d4af02",
   "metadata": {
    "tags": []
   },
   "outputs": [
    {
     "name": "stdout",
     "output_type": "stream",
     "text": [
      "      |---------------------------------------------------------------------|  \n",
      "   0 +|+           +             +             +             +           +-+|  \n",
      "     +|     ******************************************#######========      +|  \n",
      "      |                                 ###############      =              |  \n",
      "      |                   $$$$$$$$$$$$$$$$$$$$$$$$$$$$$$$$$$==%%%%%@@       |  \n",
      "      |     $$$$$$$$$========================================%@@@@@&&       |  \n",
      " -10 +|+    ==========                                       @@ &&&&     +-+|  \n",
      "      |                    %%%%%%%%%%%%%%%%%%%%%%%%%%%%%%%%%%@&&&           |  \n",
      "      |             %%%%%%%%                                 &&             |  \n",
      "      |      %%%%%%%%                                        &              |  \n",
      "      |     %%                                              @&              |  \n",
      " -20 +|+                    @@@@@@@@@@@@@@@@@@@@@@@@@@@@@@@@@&           +-+|  \n",
      "      |                @@@@@                                 &              |  \n",
      "      |           @@@@@@                                     &              |  \n",
      "      |       @@@@@                                         &&              |  \n",
      "      |     @@                &&&&&&&&&&&&&&&&&&&&&&&&&&&&&&&               |  \n",
      " -30 +|+                  &&&&&                                          +-+|  \n",
      "      |                &&&&                                                 |  \n",
      "      |            &&&&&                                                    |  \n",
      "      |         &&&&                                                        |  \n",
      "     +|---------------------------------------------------------------------|  \n",
      " -40 +-+    &      +             +             +             +           +-+   \n",
      "    -10           -8            -6            -4            -2             0   \n",
      "                                                                               \n"
     ]
    }
   ],
   "source": [
    "%plot -s 600,600 -f 'svg'\n",
    "%graph\n",
    "%h=\n",
    "plot(logClT,log10(Ag),logClT,log10(AgCls),logClT,log10(AgCl),logClT,log10(AgCl2),logClT,log10(AgCl3),logClT,log10(AgCl4),logClT,log10(Cl));\n",
    "%set(h,'linewidth',2)\n",
    "%set(gca,'linewidth',2,'fontsize',12)\n",
    "%xlabel('logClT'); ylabel('log(Ag species)')\n",
    "%legend('Ag','AgCls','AgCl','AgCl2','AgCl3','AgCl4','Cl','location','eastoutside')\n",
    "\n",
    "%exportforplot=[...\n",
    "%logClT' log10(Ag)' log10(AgCls)' log10(AgCl)' log10(AgCl2)' log10(AgCl3)' log10(AgCl4)'\n",
    "%]"
   ]
  },
  {
   "cell_type": "code",
   "execution_count": null,
   "id": "60430a9f-32a9-4a35-82ab-cdfbbaf5154e",
   "metadata": {},
   "outputs": [],
   "source": []
  }
 ],
 "metadata": {
  "kernelspec": {
   "display_name": "Octave (xoctave)",
   "language": "Octave",
   "name": "xoctave"
  },
  "language_info": {
   "codemirror_mode": "octave",
   "file_extension": ".m",
   "mimetype": "text/x-octave",
   "name": "Octave",
   "nbconvert_exporter": "",
   "pygments_lexer": "octave",
   "version": "7.3.0"
  }
 },
 "nbformat": 4,
 "nbformat_minor": 5
}
