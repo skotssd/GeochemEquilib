{
 "cells": [
  {
   "cell_type": "markdown",
   "id": "54a866d0-0880-4f4b-9ee8-d53c5bcb8300",
   "metadata": {
    "tags": []
   },
   "source": [
    "# Tableau"
   ]
  },
  {
   "cell_type": "code",
   "execution_count": 16,
   "id": "26c22323-062c-4bd3-bc9e-11745ce0365c",
   "metadata": {
    "tags": []
   },
   "outputs": [],
   "source": [
    "% setup environment\n",
    "% set path to equilibrium solver\n",
    "txt=pwd;\n",
    "n=length(txt);\n",
    "rootpath=txt; rootpath=txt(1:n-19);\n",
    "PHREEQCpath=[rootpath,'/runPHREEQC'];\n",
    "addpath(PHREEQCpath);\n",
    "JEQUILIBpath=[rootpath,'/JEQUILIB'];\n",
    "addpath(JEQUILIBpath);\n",
    "% clear data and number format\n",
    "clear; format short e\n",
    "% turn off warnings\n",
    "warning off\n",
    "%graphics_toolkit (\"notebook\"); \n",
    "%graphics_toolkit (\"plotly\"); \n",
    "%graphics_toolkit(\"gnuplot\")"
   ]
  },
  {
   "cell_type": "code",
   "execution_count": 17,
   "id": "dbd7153b-4713-47b1-8983-4be5c711f3b6",
   "metadata": {},
   "outputs": [
    {
     "ename": "Execution exception",
     "evalue": "parse error:\n\n  syntax error\n\n\n",
     "output_type": "error",
     "traceback": [
      "Execution exception: parse error:\n\n  syntax error\n\n\n",
      ""
     ]
    },
    {
     "ename": "Execution exception",
     "evalue": "parse error:\n\n  syntax error\n\n\n",
     "output_type": "error",
     "traceback": [
      "Execution exception: parse error:\n\n  syntax error\n\n\n",
      ""
     ]
    },
    {
     "ename": "Execution exception",
     "evalue": "parse error:\n\n  syntax error\n\n\n",
     "output_type": "error",
     "traceback": [
      "Execution exception: parse error:\n\n  syntax error\n\n\n",
      ""
     ]
    },
    {
     "ename": "Execution exception",
     "evalue": "'T' undefined near line 1, column 17",
     "output_type": "error",
     "traceback": [
      "Execution exception: 'T' undefined near line 1, column 17",
      ""
     ]
    },
    {
     "ename": "Execution exception",
     "evalue": "'MASSERR' undefined near line 1, column 13",
     "output_type": "error",
     "traceback": [
      "Execution exception: 'MASSERR' undefined near line 1, column 13",
      ""
     ]
    }
   ],
   "source": [
    "% MODEL USING TABLEAU (different gradients or log versus linear variables)\n",
    "%graphics_toolkit(\"notebook\")\n",
    "%model with just inorganic speciation\n",
    "%geochemical model\n",
    "% input the constants and solution chemistry\n",
    "\n",
    "flag1=1; %flag1 for concentration based search vector (1) or for log based search vector (2).\n",
    "flag2=2; %flag2 for numerical derivatives (2) or analtyical derivatives (1)\n",
    "%database=[]; \n",
    "flag3=0; % flag3 1 for show warnings. 0 no warnings\n",
    "flag4=0; %if=1 solve tableau one line at a time to get a good initial guess (no solids). really challenging probs only\n",
    "flag5=0; %if=1 use stored initial guess for including solids\n",
    "\n",
    "FeT=1e-6; pH=7;\n",
    "\n",
    "TOTALS=[FeT];\n",
    "TOTALS(TOTALS==0)=1e-16; % get rid of zero values, b/c div by zero error\n",
    "%TOTALS=[inorganicTOTALS]; %TOTALS=inorganicTOTALS;\n",
    "pH=pH; pe=20.75-pH; \n",
    "\n",
    "tic;\n",
    "[Fe,Fe(OH)3s,MASSERR]=Fetableau(pH,pe,T',flag1,flag2,flag3,flag4,flag5);\n",
    "tableautime=toc;\n",
    "Femasserror=MASSERR(1);"
   ]
  },
  {
   "cell_type": "code",
   "execution_count": null,
   "id": "20c27934-1aa6-4c1c-a07e-206aefa9abe0",
   "metadata": {},
   "outputs": [],
   "source": []
  }
 ],
 "metadata": {
  "kernelspec": {
   "display_name": "Octave (xoctave)",
   "language": "Octave",
   "name": "xoctave"
  },
  "language_info": {
   "codemirror_mode": "octave",
   "file_extension": ".m",
   "mimetype": "text/x-octave",
   "name": "Octave",
   "nbconvert_exporter": "",
   "pygments_lexer": "octave",
   "version": "7.3.0"
  }
 },
 "nbformat": 4,
 "nbformat_minor": 5
}
