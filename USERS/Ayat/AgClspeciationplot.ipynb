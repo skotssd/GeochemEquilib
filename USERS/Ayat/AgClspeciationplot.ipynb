{
 "cells": [
  {
   "cell_type": "markdown",
   "id": "94e5fb31-a55d-4eed-9cec-13d4351dbb3c",
   "metadata": {
    "tags": []
   },
   "source": [
    "AgCl speciation plot"
   ]
  },
  {
   "cell_type": "code",
   "execution_count": 54,
   "id": "4dd02907-ebb3-4c92-97aa-386c4ba396ef",
   "metadata": {
    "tags": []
   },
   "outputs": [
    {
     "name": "stdout",
     "output_type": "stream",
     "text": [
      "error: graphics_toolkit: notebook toolkit is not available\n",
      "error: called from\n",
      "    graphics_toolkit at line 88 column 5\n"
     ]
    }
   ],
   "source": [
    "% setup environment\n",
    "% set path to equilibrium solver\n",
    "txt=pwd;\n",
    "n=length(txt);\n",
    "rootpath=txt; rootpath=txt(1:n-11);\n",
    "PHREEQCpath=[rootpath,'/runPHREEQC'];\n",
    "addpath(PHREEQCpath);\n",
    "JEQUILIBpath=[rootpath,'/JEQUILIB'];\n",
    "addpath(JEQUILIBpath);\n",
    "% clear data and number format\n",
    "clear; format short e\n",
    "% turn off warnings\n",
    "warning off\n",
    "%graphics_toolkit (\"notebook\"); \n",
    "%graphics_toolkit (\"plotly\"); \n",
    "%graphics_toolkit(\"gnuplot\")"
   ]
  },
  {
   "cell_type": "code",
   "execution_count": 55,
   "id": "519944b4-a373-4a51-b4fa-52328ad1e114",
   "metadata": {},
   "outputs": [],
   "source": [
    "%equilibrium problem\n",
    "AgT=0.01; pH=7;  pe=20.75-pH; logClT=9:0.02:-1; ClT=10.^logClT;"
   ]
  },
  {
   "cell_type": "code",
   "execution_count": 58,
   "id": "3efd1247-69a9-4ae2-a559-ca950e99674f",
   "metadata": {},
   "outputs": [],
   "source": [
    "% MODEL USING PHREEQC\n",
    "\n",
    "for i=1:length(ClT)\n",
    "\n",
    "minerals=[{'AgCls'}]; totalvector=[AgT; ClT(i); ClT(i)]; totalnames=[{'Ag'}; {'Cl'}; {'Na'}]; \n",
    "speciesexport=[{'Ag+'}; {'Cl-'};{'AgCl'};{'AgCl2-'};{'AgCl3-2'};{'AgCl4-3'}];\n",
    "%database=['llnl_nosolubleAgCl.dat']; \n",
    "acid=['NaOH']; show=1; T=25;\n",
    "%database=['AgCl.dat']; \n",
    "database=['complexAgCl.dat']; \n",
    "\n",
    "tic\n",
    "[solutionspeciesconcs, speciesnames, solidconcs, solidnames]=runPHREEQCv2noHA(T,pH,pe,totalnames,totalvector,minerals,speciesexport,database,show,acid);\n",
    "PHREEQCtime=toc;\n",
    "\n",
    "Ag(i)=solutionspeciesconcs(1); \n",
    "Cl(i)=solutionspeciesconcs(2); \n",
    "AgCl(i)=solutionspeciesconcs(3); \n",
    "AgCl2(i)=solutionspeciesconcs(4);\n",
    "AgCl3(i)=solutionspeciesconcs(5);\n",
    "AgCl4(i)=solutionspeciesconcs(6);\n",
    "AgCl(i)=solutionconcs(1);\n",
    "end"
   ]
  },
  {
   "cell_type": "code",
   "execution_count": 59,
   "id": "b94d21ad-db6b-4382-ab66-441ab0d4af02",
   "metadata": {},
   "outputs": [
    {
     "name": "stdout",
     "output_type": "stream",
     "text": [
      "error: 'Ag' undefined near line 1, column 1\n",
      "error: 'h' undefined near line 1, column 1\n",
      "error: __go_axes__: ft_text_renderer: invalid bounding box, cannot render, unable to create graphics handle\n",
      "error: called from\n",
      "    axes at line 107 column 8\n",
      "    gca at line 63 column 9\n",
      "error: __go_axes__: ft_text_renderer: invalid bounding box, cannot render, unable to create graphics handle\n",
      "error: called from\n",
      "    axes at line 107 column 8\n",
      "    gca at line 63 column 9\n",
      "    xlabel at line 52 column 9\n",
      "error: __go_axes__: ft_text_renderer: invalid bounding box, cannot render, unable to create graphics handle\n",
      "error: called from\n",
      "    axes at line 107 column 8\n",
      "    gca at line 63 column 9\n",
      "    __gnuplot_legend__ at line 157 column 10\n",
      "    legend at line 198 column 37\n"
     ]
    },
    {
     "name": "stderr",
     "output_type": "stream",
     "text": [
      "\u001b[0;31mInline plot failed, consider trying another graphics toolkit\n",
      "error: print: no axes object in figure to print\n",
      "error: called from\n",
      "    _make_figures>safe_print at line 125 column 7\n",
      "    _make_figures at line 49 column 13\n",
      "\n",
      "\u001b[0m"
     ]
    }
   ],
   "source": [
    "%graph\n",
    "h=plot(logClT,log10(Ag),logClT,log10(AgCls),logClT,log10(AgCl),logClT,log10(AgCl2),logClT,log10(AgCl3),logClT,log10(AgCl4),logClT,log10(Cl));\n",
    "set(h,'linewidth',2)\n",
    "set(gca,'linewidth',2,'fontsize',12)\n",
    "xlabel('logClT'); ylabel('log(Ag species)')\n",
    "legend('Ag','AgCls','AgCl','AgCl2','AgCl3','AgCl4','Cl','location','eastoutside')"
   ]
  },
  {
   "cell_type": "code",
   "execution_count": null,
   "id": "60430a9f-32a9-4a35-82ab-cdfbbaf5154e",
   "metadata": {},
   "outputs": [],
   "source": []
  }
 ],
 "metadata": {
  "kernelspec": {
   "display_name": "Octave",
   "language": "octave",
   "name": "octave"
  },
  "language_info": {
   "file_extension": ".m",
   "help_links": [
    {
     "text": "GNU Octave",
     "url": "https://www.gnu.org/software/octave/support.html"
    },
    {
     "text": "Octave Kernel",
     "url": "https://github.com/Calysto/octave_kernel"
    },
    {
     "text": "MetaKernel Magics",
     "url": "https://metakernel.readthedocs.io/en/latest/source/README.html"
    }
   ],
   "mimetype": "text/x-octave",
   "name": "octave",
   "version": "6.4.0"
  }
 },
 "nbformat": 4,
 "nbformat_minor": 5
}
