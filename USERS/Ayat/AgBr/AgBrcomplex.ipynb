{
 "cells": [
  {
   "cell_type": "markdown",
   "id": "280810b6-00ec-4c85-aad8-2c5fd9729586",
   "metadata": {},
   "source": [
    "# AgBr Complex"
   ]
  },
  {
   "cell_type": "code",
   "execution_count": 46,
   "id": "31b7dc03-fd21-417d-b183-8ac94de1a374",
   "metadata": {
    "tags": []
   },
   "outputs": [],
   "source": [
    "% setup environment\n",
    "% set path to equilibrium solver\n",
    "txt=pwd;\n",
    "n=length(txt);\n",
    "rootpath=txt; rootpath=txt(1:n-11);\n",
    "PHREEQCpath=[rootpath,'/runPHREEQC'];\n",
    "addpath(PHREEQCpath);\n",
    "JEQUILIBpath=[rootpath,'/JEQUILIB'];\n",
    "addpath(JEQUILIBpath);\n",
    "% clear data and number format\n",
    "clear; format short e\n",
    "% turn off warnings\n",
    "warning off\n",
    "%graphics_toolkit (\"notebook\"); \n",
    "%graphics_toolkit (\"plotly\"); \n",
    "%graphics_toolkit(\"gnuplot\")"
   ]
  },
  {
   "cell_type": "code",
   "execution_count": 48,
   "id": "875a664d-f619-4dea-a195-f4f1aeb14c32",
   "metadata": {},
   "outputs": [
    {
     "name": "stdout",
     "output_type": "stream",
     "text": [
      "X no ITER EXEED no solid logX\n"
     ]
    }
   ],
   "source": [
    "% MODEL USING TABLEAU (different gradients or log versus linear variables)\n",
    "%graphics_toolkit(\"notebook\")\n",
    "%model with just inorganic speciation\n",
    "%geochemical model\n",
    "% input the constants and solution chemistry\n",
    "\n",
    "flag1=1; %flag1 for concentration based search vector (1) or for log based search vector (2).\n",
    "flag2=2; %flag2 for numerical derivatives (2) or analtyical derivatives (1)\n",
    "%database=[]; \n",
    "flag3=0; % flag3 1 for show warnings. 0 no warnings\n",
    "flag4=0; %if=1 solve tableau one line at a time to get a good initial guess (no solids). really challenging probs only\n",
    "flag5=0; %if=1 use stored initial guess for including solids\n",
    "\n",
    "AgT=1e-6; BrT=1e-3; pH=7; \n",
    "\n",
    "TOTALS=[AgT BrT];\n",
    "TOTALS(TOTALS==0)=1e-16; % get rid of zero values, b/c div by zero error\n",
    "%TOTALS=[inorganicTOTALS]; %TOTALS=inorganicTOTALS;\n",
    "pH=pH; pe=20.75-pH; \n",
    "\n",
    "tic;\n",
    "[Ag,Br,AgBrs,MASSERR]=AgBrtableau(pH,pe,TOTALS',flag1,flag2,flag3,flag4,flag5);\n",
    "tableautime=toc;\n",
    "\n",
    "Agmasserror=MASSERR(1); Brmasserror=MASSERR(2);"
   ]
  },
  {
   "cell_type": "code",
   "execution_count": 49,
   "id": "b2dcaa17-8a2b-450d-91c9-4996138c5905",
   "metadata": {},
   "outputs": [
    {
     "name": "stdout",
     "output_type": "stream",
     "text": [
      "Input file: runphreeqc.txt\n",
      "\n",
      "Output file: out.txt\n",
      "\n",
      "Database file: complexAgBr.dat\n",
      "\n",
      "\n",
      "Initializing...                                                                 \n",
      "\n",
      "End of Run after 0.003468 Seconds.\n",
      "AgBrsPHREEQC = 9.6362e-07\n"
     ]
    }
   ],
   "source": [
    "% MODEL USING PHREEQC\n",
    "\n",
    "minerals=[{'AgBrs'}]; totalvector=[AgT; BrT; BrT]; totalnames=[{'Ag'}; {'Br'}; {'Na'}]; speciesexport=[{'Ag+'}; {'Br-'};{'AgBr'};{'AgBr2-'};{'AgBr3-2'};{'AgBr4-3'}];\n",
    "%database=['llnl_nosolubleAgCl.dat']; \n",
    "acid=['NaOH']; show=0; T=25;\n",
    "%database=['AgCl.dat']; \n",
    "database=['complexAgBr.dat']; \n",
    "\n",
    "tic\n",
    "[solutionspeciesconcs, speciesnames, solidconcs, solidnames]=runPHREEQCv2noHA(T,pH,pe,totalnames,totalvector,minerals,speciesexport,database,show,acid);\n",
    "PHREEQCtime=toc;\n",
    "\n",
    "AgPHREEQC=solutionspeciesconcs(1); \n",
    "BrPHREEQC=solutionspeciesconcs(2); \n",
    "AgBrPHREEQC=solutionspeciesconcs(3); \n",
    "AgBr2PHREEQC=solutionspeciesconcs(4); \n",
    "AgBr3PHREEQC=solutionspeciesconcs(5); \n",
    "AgBr4PHREEQC=solutionspeciesconcs(6);\n",
    "AgBrsPHREEQC=solidconcs(1)\n",
    "\n",
    "AgmasserrorPHREEQC=AgT-AgPHREEQC-AgBrsPHREEQC-AgBrPHREEQC-AgBr2PHREEQC-AgBr3PHREEQC-AgBr4PHREEQC; \n",
    "BrmasserrorPHREEQC=BrT-BrPHREEQC-AgBrsPHREEQC-AgBrPHREEQC-2*AgBr2PHREEQC-3*AgBr3PHREEQC-3*AgBr4PHREEQC;"
   ]
  },
  {
   "cell_type": "code",
   "execution_count": null,
   "id": "dddf2261-1b1f-4876-bf80-811cf94819a5",
   "metadata": {},
   "outputs": [],
   "source": [
    "% exact model\n",
    "\n",
    "Ksp=10^-12.30;\n",
    "\n",
    "% check SI\n",
    "\n",
    "IAP=AgT*BrT;\n",
    "\n",
    "Agexact=AgT; Brexact=BrT; AgBrsexact=0;\n",
    "\n",
    "if IAP>=Ksp\n",
    "a=1; b=BrT-AgT; c=-Ksp;\n",
    "t=roots([a b c]); t=t(t>0); t=real(t(imag(t)==0));\n",
    "Agexact=t; AgBrsexact=AgT-Ag; Brexact=BrT-AgBrsexact;\n",
    "end\n"
   ]
  },
  {
   "cell_type": "code",
   "execution_count": 52,
   "id": "636b8fa8-b825-48a7-95c1-6b44a2933472",
   "metadata": {},
   "outputs": [
    {
     "name": "stdout",
     "output_type": "stream",
     "text": [
      "Agcompare =\n",
      "\n",
      "   5.0169e-10   5.3896e-10   1.0000e-06\n",
      "\n",
      "Brcompare =\n",
      "\n",
      "   9.9900e-04   9.9898e-04   1.0000e-03\n",
      "\n",
      "AgBrcompare =\n",
      "\n",
      "   9.9950e-07   9.6362e-07            0\n",
      "\n",
      "Agmasserrorcompare =\n",
      "\n",
      "            0  -1.3439e-19\n",
      "\n",
      "Brmasserrorcompare =\n",
      "\n",
      "   6.5052e-14   3.0926e-13\n",
      "\n",
      "timecompare =\n",
      "\n",
      "   5.8705e-01   2.3809e-02\n",
      "\n"
     ]
    }
   ],
   "source": [
    "% compare models\n",
    "\n",
    "Agcompare=[Ag AgPHREEQC Agexact]\n",
    "Brcompare=[Br BrPHREEQC Brexact]\n",
    "AgBrcompare=[AgBrs AgBrsPHREEQC AgBrsexact]\n",
    "Agmasserrorcompare=[Agmasserror AgmasserrorPHREEQC]\n",
    "Brmasserrorcompare=[Brmasserror BrmasserrorPHREEQC]\n",
    "timecompare=[tableautime PHREEQCtime]"
   ]
  },
  {
   "cell_type": "code",
   "execution_count": null,
   "id": "7b95faad-0807-46cb-973b-2a055c5d68a2",
   "metadata": {},
   "outputs": [],
   "source": []
  }
 ],
 "metadata": {
  "kernelspec": {
   "display_name": "Octave",
   "language": "octave",
   "name": "octave"
  },
  "language_info": {
   "file_extension": ".m",
   "help_links": [
    {
     "text": "GNU Octave",
     "url": "https://www.gnu.org/software/octave/support.html"
    },
    {
     "text": "Octave Kernel",
     "url": "https://github.com/Calysto/octave_kernel"
    },
    {
     "text": "MetaKernel Magics",
     "url": "https://metakernel.readthedocs.io/en/latest/source/README.html"
    }
   ],
   "mimetype": "text/x-octave",
   "name": "octave",
   "version": "7.3.0"
  }
 },
 "nbformat": 4,
 "nbformat_minor": 5
}
