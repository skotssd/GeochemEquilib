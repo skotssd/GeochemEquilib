{
 "cells": [
  {
   "cell_type": "markdown",
   "id": "94e5fb31-a55d-4eed-9cec-13d4351dbb3c",
   "metadata": {
    "tags": []
   },
   "source": [
    "# AgCl with Br speciation plot\n",
    "-will come back!"
   ]
  },
  {
   "cell_type": "code",
   "execution_count": 30,
   "id": "4dd02907-ebb3-4c92-97aa-386c4ba396ef",
   "metadata": {
    "tags": []
   },
   "outputs": [],
   "source": [
    "% setup environment\n",
    "% set path to equilibrium solver\n",
    "txt=pwd;\n",
    "n=length(txt);\n",
    "rootpath=txt; rootpath=txt(1:n-22);\n",
    "PHREEQCpath=[rootpath,'/runPHREEQC'];\n",
    "addpath(PHREEQCpath);\n",
    "JEQUILIBpath=[rootpath,'/JEQUILIB'];\n",
    "addpath(JEQUILIBpath);\n",
    "% clear data and number format\n",
    "clear; format short e\n",
    "% turn off warnings\n",
    "warning off\n",
    "%graphics_toolkit (\"notebook\"); \n",
    "graphics_toolkit (\"plotly\"); \n",
    "%graphics_toolkit(\"gnuplot\")\n",
    "%available_graphics_toolkits()\n",
    "%loaded_graphics_toolkits"
   ]
  },
  {
   "cell_type": "code",
   "execution_count": 31,
   "id": "519944b4-a373-4a51-b4fa-52328ad1e114",
   "metadata": {},
   "outputs": [],
   "source": [
    "%equilibrium problem\n",
    "AgT=0.01; ClT=0.01; pH=7;  pe=20.75-pH; logBrT=-10:0.2:-1; BrT=10.^logBrT;"
   ]
  },
  {
   "cell_type": "code",
   "execution_count": 32,
   "id": "3efd1247-69a9-4ae2-a559-ca950e99674f",
   "metadata": {
    "collapsed": true,
    "jupyter": {
     "outputs_hidden": true
    },
    "tags": []
   },
   "outputs": [
    {
     "data": {
      "text/plain": [
       "AgBrs =          0\n"
      ]
     },
     "metadata": {},
     "output_type": "display_data"
    },
    {
     "data": {
      "text/plain": [
       "AgCls =          0\n"
      ]
     },
     "metadata": {},
     "output_type": "display_data"
    },
    {
     "data": {
      "text/html": [
       "<table><tr><th><i>AgBrs<i></th><th>1</th><th>2</th></tr><tr><th>1</th><td>0</td><td>0</td></tr></table>"
      ],
      "text/plain": [
       "AgBrs =             0            0\n"
      ]
     },
     "metadata": {},
     "output_type": "display_data"
    },
    {
     "data": {
      "text/html": [
       "<table><tr><th><i>AgCls<i></th><th>1</th><th>2</th></tr><tr><th>1</th><td>0</td><td>0</td></tr></table>"
      ],
      "text/plain": [
       "AgCls =             0            0\n"
      ]
     },
     "metadata": {},
     "output_type": "display_data"
    },
    {
     "data": {
      "text/html": [
       "<table><tr><th><i>AgBrs<i></th><th>1</th><th>2</th><th>3</th></tr><tr><th>1</th><td>0</td><td>0</td><td>0</td></tr></table>"
      ],
      "text/plain": [
       "AgBrs =             0            0            0\n"
      ]
     },
     "metadata": {},
     "output_type": "display_data"
    },
    {
     "data": {
      "text/html": [
       "<table><tr><th><i>AgCls<i></th><th>1</th><th>2</th><th>3</th></tr><tr><th>1</th><td>0</td><td>0</td><td>0</td></tr></table>"
      ],
      "text/plain": [
       "AgCls =             0            0            0\n"
      ]
     },
     "metadata": {},
     "output_type": "display_data"
    },
    {
     "data": {
      "text/html": [
       "<table><tr><th><i>AgBrs<i></th><th>1</th><th>2</th><th>3</th><th>4</th></tr><tr><th>1</th><td>0</td><td>0</td><td>0</td><td>0</td></tr></table>"
      ],
      "text/plain": [
       "AgBrs =             0            0            0            0\n"
      ]
     },
     "metadata": {},
     "output_type": "display_data"
    },
    {
     "data": {
      "text/html": [
       "<table><tr><th><i>AgCls<i></th><th>1</th><th>2</th><th>3</th><th>4</th></tr><tr><th>1</th><td>0</td><td>0</td><td>0</td><td>0</td></tr></table>"
      ],
      "text/plain": [
       "AgCls =             0            0            0            0\n"
      ]
     },
     "metadata": {},
     "output_type": "display_data"
    },
    {
     "data": {
      "text/html": [
       "<table><tr><th><i>AgBrs<i></th><th>1</th><th>2</th><th>3</th><th>4</th><th>5</th></tr><tr><th>1</th><td>0</td><td>0</td><td>0</td><td>0</td><td>0</td></tr></table>"
      ],
      "text/plain": [
       "AgBrs =             0            0            0            0            0\n"
      ]
     },
     "metadata": {},
     "output_type": "display_data"
    },
    {
     "data": {
      "text/html": [
       "<table><tr><th><i>AgCls<i></th><th>1</th><th>2</th><th>3</th><th>4</th><th>5</th></tr><tr><th>1</th><td>0</td><td>0</td><td>0</td><td>0</td><td>0</td></tr></table>"
      ],
      "text/plain": [
       "AgCls =             0            0            0            0            0\n"
      ]
     },
     "metadata": {},
     "output_type": "display_data"
    },
    {
     "data": {
      "text/html": [
       "<table><tr><th><i>AgBrs<i></th><th>1</th><th>2</th><th>3</th><th>4</th><th>5</th><th>6</th></tr><tr><th>1</th><td>0</td><td>0</td><td>0</td><td>0</td><td>0</td><td>0</td></tr></table>"
      ],
      "text/plain": [
       "AgBrs =             0            0            0            0            0            0\n"
      ]
     },
     "metadata": {},
     "output_type": "display_data"
    },
    {
     "data": {
      "text/html": [
       "<table><tr><th><i>AgCls<i></th><th>1</th><th>2</th><th>3</th><th>4</th><th>5</th><th>6</th></tr><tr><th>1</th><td>0</td><td>0</td><td>0</td><td>0</td><td>0</td><td>0</td></tr></table>"
      ],
      "text/plain": [
       "AgCls =             0            0            0            0            0            0\n"
      ]
     },
     "metadata": {},
     "output_type": "display_data"
    },
    {
     "data": {
      "text/html": [
       "<table><tr><th><i>AgBrs<i></th><th>1</th><th>2</th><th>3</th><th>4</th><th>5</th><th>6</th><th>7</th></tr><tr><th>1</th><td>0</td><td>0</td><td>0</td><td>0</td><td>0</td><td>0</td><td>0</td></tr></table>"
      ],
      "text/plain": [
       "AgBrs =  Columns 1 through 6:\n",
       "\n",
       "            0            0            0            0            0            0\n",
       "\n",
       " Column 7:\n",
       "\n",
       "            0\n"
      ]
     },
     "metadata": {},
     "output_type": "display_data"
    },
    {
     "data": {
      "text/html": [
       "<table><tr><th><i>AgCls<i></th><th>1</th><th>2</th><th>3</th><th>4</th><th>5</th><th>6</th><th>7</th></tr><tr><th>1</th><td>0</td><td>0</td><td>0</td><td>0</td><td>0</td><td>0</td><td>0</td></tr></table>"
      ],
      "text/plain": [
       "AgCls =  Columns 1 through 6:\n",
       "\n",
       "            0            0            0            0            0            0\n",
       "\n",
       " Column 7:\n",
       "\n",
       "            0\n"
      ]
     },
     "metadata": {},
     "output_type": "display_data"
    },
    {
     "data": {
      "text/html": [
       "<table><tr><th><i>AgBrs<i></th><th>1</th><th>2</th><th>3</th><th>4</th><th>5</th><th>6</th><th>7</th><th>8</th></tr><tr><th>1</th><td>0</td><td>0</td><td>0</td><td>0</td><td>0</td><td>0</td><td>0</td><td>0</td></tr></table>"
      ],
      "text/plain": [
       "AgBrs =  Columns 1 through 6:\n",
       "\n",
       "            0            0            0            0            0            0\n",
       "\n",
       " Columns 7 and 8:\n",
       "\n",
       "            0            0\n"
      ]
     },
     "metadata": {},
     "output_type": "display_data"
    },
    {
     "data": {
      "text/html": [
       "<table><tr><th><i>AgCls<i></th><th>1</th><th>2</th><th>3</th><th>4</th><th>5</th><th>6</th><th>7</th><th>8</th></tr><tr><th>1</th><td>0</td><td>0</td><td>0</td><td>0</td><td>0</td><td>0</td><td>0</td><td>0</td></tr></table>"
      ],
      "text/plain": [
       "AgCls =  Columns 1 through 6:\n",
       "\n",
       "            0            0            0            0            0            0\n",
       "\n",
       " Columns 7 and 8:\n",
       "\n",
       "            0            0\n"
      ]
     },
     "metadata": {},
     "output_type": "display_data"
    },
    {
     "data": {
      "text/html": [
       "<table><tr><th><i>AgBrs<i></th><th>1</th><th>2</th><th>3</th><th>4</th><th>5</th><th>6</th><th>7</th><th>8</th><th>9</th></tr><tr><th>1</th><td>0</td><td>0</td><td>0</td><td>0</td><td>0</td><td>0</td><td>0</td><td>0</td><td>0</td></tr></table>"
      ],
      "text/plain": [
       "AgBrs =  Columns 1 through 6:\n",
       "\n",
       "            0            0            0            0            0            0\n",
       "\n",
       " Columns 7 through 9:\n",
       "\n",
       "            0            0            0\n"
      ]
     },
     "metadata": {},
     "output_type": "display_data"
    },
    {
     "data": {
      "text/html": [
       "<table><tr><th><i>AgCls<i></th><th>1</th><th>2</th><th>3</th><th>4</th><th>5</th><th>6</th><th>7</th><th>8</th><th>9</th></tr><tr><th>1</th><td>0</td><td>0</td><td>0</td><td>0</td><td>0</td><td>0</td><td>0</td><td>0</td><td>0</td></tr></table>"
      ],
      "text/plain": [
       "AgCls =  Columns 1 through 6:\n",
       "\n",
       "            0            0            0            0            0            0\n",
       "\n",
       " Columns 7 through 9:\n",
       "\n",
       "            0            0            0\n"
      ]
     },
     "metadata": {},
     "output_type": "display_data"
    },
    {
     "data": {
      "text/html": [
       "<table><tr><th><i>AgBrs<i></th><th>1</th><th>2</th><th>3</th><th>4</th><th>5</th><th>6</th><th>7</th><th>8</th><th>9</th><th>10</th></tr><tr><th>1</th><td>0</td><td>0</td><td>0</td><td>0</td><td>0</td><td>0</td><td>0</td><td>0</td><td>0</td><td>0</td></tr></table>"
      ],
      "text/plain": [
       "AgBrs =  Columns 1 through 6:\n",
       "\n",
       "            0            0            0            0            0            0\n",
       "\n",
       " Columns 7 through 10:\n",
       "\n",
       "            0            0            0            0\n"
      ]
     },
     "metadata": {},
     "output_type": "display_data"
    },
    {
     "data": {
      "text/html": [
       "<table><tr><th><i>AgCls<i></th><th>1</th><th>2</th><th>3</th><th>4</th><th>5</th><th>6</th><th>7</th><th>8</th><th>9</th><th>10</th></tr><tr><th>1</th><td>0</td><td>0</td><td>0</td><td>0</td><td>0</td><td>0</td><td>0</td><td>0</td><td>0</td><td>0</td></tr></table>"
      ],
      "text/plain": [
       "AgCls =  Columns 1 through 6:\n",
       "\n",
       "            0            0            0            0            0            0\n",
       "\n",
       " Columns 7 through 10:\n",
       "\n",
       "            0            0            0            0\n"
      ]
     },
     "metadata": {},
     "output_type": "display_data"
    },
    {
     "data": {
      "text/html": [
       "<table><tr><th><i>AgBrs<i></th><th>1</th><th>2</th><th>3</th><th>4</th><th>5</th><th>6</th><th>7</th><th>8</th><th>9</th><th>10</th><th>11</th></tr><tr><th>1</th><td>0</td><td>0</td><td>0</td><td>0</td><td>0</td><td>0</td><td>0</td><td>0</td><td>0</td><td>0</td><td>0</td></tr></table>"
      ],
      "text/plain": [
       "AgBrs =  Columns 1 through 6:\n",
       "\n",
       "            0            0            0            0            0            0\n",
       "\n",
       " Columns 7 through 11:\n",
       "\n",
       "            0            0            0            0            0\n"
      ]
     },
     "metadata": {},
     "output_type": "display_data"
    },
    {
     "data": {
      "text/html": [
       "<table><tr><th><i>AgCls<i></th><th>1</th><th>2</th><th>3</th><th>4</th><th>5</th><th>6</th><th>7</th><th>8</th><th>9</th><th>10</th><th>11</th></tr><tr><th>1</th><td>0</td><td>0</td><td>0</td><td>0</td><td>0</td><td>0</td><td>0</td><td>0</td><td>0</td><td>0</td><td>0</td></tr></table>"
      ],
      "text/plain": [
       "AgCls =  Columns 1 through 6:\n",
       "\n",
       "            0            0            0            0            0            0\n",
       "\n",
       " Columns 7 through 11:\n",
       "\n",
       "            0            0            0            0            0\n"
      ]
     },
     "metadata": {},
     "output_type": "display_data"
    },
    {
     "data": {
      "text/html": [
       "<table><tr><th><i>AgBrs<i></th><th>1</th><th>2</th><th>3</th><th>4</th><th>5</th><th>6</th><th>7</th><th>8</th><th>9</th><th>10</th><th>11</th><th>12</th></tr><tr><th>1</th><td>0</td><td>0</td><td>0</td><td>0</td><td>0</td><td>0</td><td>0</td><td>0</td><td>0</td><td>0</td><td>0</td><td>0</td></tr></table>"
      ],
      "text/plain": [
       "AgBrs =  Columns 1 through 6:\n",
       "\n",
       "            0            0            0            0            0            0\n",
       "\n",
       " Columns 7 through 12:\n",
       "\n",
       "            0            0            0            0            0            0\n"
      ]
     },
     "metadata": {},
     "output_type": "display_data"
    },
    {
     "data": {
      "text/html": [
       "<table><tr><th><i>AgCls<i></th><th>1</th><th>2</th><th>3</th><th>4</th><th>5</th><th>6</th><th>7</th><th>8</th><th>9</th><th>10</th><th>11</th><th>12</th></tr><tr><th>1</th><td>0</td><td>0</td><td>0</td><td>0</td><td>0</td><td>0</td><td>0</td><td>0</td><td>0</td><td>0</td><td>0</td><td>0</td></tr></table>"
      ],
      "text/plain": [
       "AgCls =  Columns 1 through 6:\n",
       "\n",
       "            0            0            0            0            0            0\n",
       "\n",
       " Columns 7 through 12:\n",
       "\n",
       "            0            0            0            0            0            0\n"
      ]
     },
     "metadata": {},
     "output_type": "display_data"
    },
    {
     "data": {
      "text/html": [
       "<table><tr><th><i>AgBrs<i></th><th>1</th><th>2</th><th>3</th><th>4</th><th>5</th><th>6</th><th>7</th><th>8</th><th>9</th><th>10</th><th>11</th><th>12</th><th>13</th></tr><tr><th>1</th><td>0</td><td>0</td><td>0</td><td>0</td><td>0</td><td>0</td><td>0</td><td>0</td><td>0</td><td>0</td><td>0</td><td>0</td><td>5.15047e-09</td></tr></table>"
      ],
      "text/plain": [
       "AgBrs =  Columns 1 through 6:\n",
       "\n",
       "            0            0            0            0            0            0\n",
       "\n",
       " Columns 7 through 12:\n",
       "\n",
       "            0            0            0            0            0            0\n",
       "\n",
       " Column 13:\n",
       "\n",
       "   5.1505e-09\n"
      ]
     },
     "metadata": {},
     "output_type": "display_data"
    },
    {
     "data": {
      "text/html": [
       "<table><tr><th><i>AgCls<i></th><th>1</th><th>2</th><th>3</th><th>4</th><th>5</th><th>6</th><th>7</th><th>8</th><th>9</th><th>10</th><th>11</th><th>12</th><th>13</th></tr><tr><th>1</th><td>0</td><td>0</td><td>0</td><td>0</td><td>0</td><td>0</td><td>0</td><td>0</td><td>0</td><td>0</td><td>0</td><td>0</td><td>0</td></tr></table>"
      ],
      "text/plain": [
       "AgCls =  Columns 1 through 6:\n",
       "\n",
       "            0            0            0            0            0            0\n",
       "\n",
       " Columns 7 through 12:\n",
       "\n",
       "            0            0            0            0            0            0\n",
       "\n",
       " Column 13:\n",
       "\n",
       "            0\n"
      ]
     },
     "metadata": {},
     "output_type": "display_data"
    },
    {
     "data": {
      "text/html": [
       "<table><tr><th><i>AgBrs<i></th><th>1</th><th>2</th><th>3</th><th>4</th><th>5</th><th>6</th><th>7</th><th>8</th><th>9</th><th>10</th><th>11</th><th>12</th><th>13</th><th>14</th></tr><tr><th>1</th><td>0</td><td>0</td><td>0</td><td>0</td><td>0</td><td>0</td><td>0</td><td>0</td><td>0</td><td>0</td><td>0</td><td>0</td><td>5.15047e-09</td><td>1.98425e-08</td></tr></table>"
      ],
      "text/plain": [
       "AgBrs =  Columns 1 through 6:\n",
       "\n",
       "            0            0            0            0            0            0\n",
       "\n",
       " Columns 7 through 12:\n",
       "\n",
       "            0            0            0            0            0            0\n",
       "\n",
       " Columns 13 and 14:\n",
       "\n",
       "   5.1505e-09   1.9842e-08\n"
      ]
     },
     "metadata": {},
     "output_type": "display_data"
    },
    {
     "data": {
      "text/html": [
       "<table><tr><th><i>AgCls<i></th><th>1</th><th>2</th><th>3</th><th>4</th><th>5</th><th>6</th><th>7</th><th>8</th><th>9</th><th>10</th><th>11</th><th>12</th><th>13</th><th>14</th></tr><tr><th>1</th><td>0</td><td>0</td><td>0</td><td>0</td><td>0</td><td>0</td><td>0</td><td>0</td><td>0</td><td>0</td><td>0</td><td>0</td><td>0</td><td>0</td></tr></table>"
      ],
      "text/plain": [
       "AgCls =  Columns 1 through 6:\n",
       "\n",
       "            0            0            0            0            0            0\n",
       "\n",
       " Columns 7 through 12:\n",
       "\n",
       "            0            0            0            0            0            0\n",
       "\n",
       " Columns 13 and 14:\n",
       "\n",
       "            0            0\n"
      ]
     },
     "metadata": {},
     "output_type": "display_data"
    },
    {
     "data": {
      "text/html": [
       "<table><tr><th><i>AgBrs<i></th><th>1</th><th>2</th><th>3</th><th>4</th><th>5</th><th>6</th><th>7</th><th>8</th><th>9</th><th>10</th><th>11</th><th>12</th><th>13</th><th>14</th><th>15</th></tr><tr><th>1</th><td>0</td><td>0</td><td>0</td><td>0</td><td>0</td><td>0</td><td>0</td><td>0</td><td>0</td><td>0</td><td>0</td><td>0</td><td>5.15047e-09</td><td>1.98425e-08</td><td>4.31275e-08</td></tr></table>"
      ],
      "text/plain": [
       "AgBrs =  Columns 1 through 6:\n",
       "\n",
       "            0            0            0            0            0            0\n",
       "\n",
       " Columns 7 through 12:\n",
       "\n",
       "            0            0            0            0            0            0\n",
       "\n",
       " Columns 13 through 15:\n",
       "\n",
       "   5.1505e-09   1.9842e-08   4.3127e-08\n"
      ]
     },
     "metadata": {},
     "output_type": "display_data"
    },
    {
     "data": {
      "text/html": [
       "<table><tr><th><i>AgCls<i></th><th>1</th><th>2</th><th>3</th><th>4</th><th>5</th><th>6</th><th>7</th><th>8</th><th>9</th><th>10</th><th>11</th><th>12</th><th>13</th><th>14</th><th>15</th></tr><tr><th>1</th><td>0</td><td>0</td><td>0</td><td>0</td><td>0</td><td>0</td><td>0</td><td>0</td><td>0</td><td>0</td><td>0</td><td>0</td><td>0</td><td>0</td><td>0</td></tr></table>"
      ],
      "text/plain": [
       "AgCls =  Columns 1 through 6:\n",
       "\n",
       "            0            0            0            0            0            0\n",
       "\n",
       " Columns 7 through 12:\n",
       "\n",
       "            0            0            0            0            0            0\n",
       "\n",
       " Columns 13 through 15:\n",
       "\n",
       "            0            0            0\n"
      ]
     },
     "metadata": {},
     "output_type": "display_data"
    },
    {
     "data": {
      "text/html": [
       "<table><tr><th><i>AgBrs<i></th><th>1</th><th>2</th><th>3</th><th>4</th><th>5</th><th>6</th><th>7</th><th>8</th><th>9</th><th>10</th><th>11</th><th>12</th><th>13</th><th>14</th><th>15</th><th>16</th></tr><tr><th>1</th><td>0</td><td>0</td><td>0</td><td>0</td><td>0</td><td>0</td><td>0</td><td>0</td><td>0</td><td>0</td><td>0</td><td>0</td><td>5.15047e-09</td><td>1.98425e-08</td><td>4.31275e-08</td><td>8.00315e-08</td></tr></table>"
      ],
      "text/plain": [
       "AgBrs =  Columns 1 through 6:\n",
       "\n",
       "            0            0            0            0            0            0\n",
       "\n",
       " Columns 7 through 12:\n",
       "\n",
       "            0            0            0            0            0            0\n",
       "\n",
       " Columns 13 through 16:\n",
       "\n",
       "   5.1505e-09   1.9842e-08   4.3127e-08   8.0031e-08\n"
      ]
     },
     "metadata": {},
     "output_type": "display_data"
    },
    {
     "data": {
      "text/html": [
       "<table><tr><th><i>AgCls<i></th><th>1</th><th>2</th><th>3</th><th>4</th><th>5</th><th>6</th><th>7</th><th>8</th><th>9</th><th>10</th><th>11</th><th>12</th><th>13</th><th>14</th><th>15</th><th>16</th></tr><tr><th>1</th><td>0</td><td>0</td><td>0</td><td>0</td><td>0</td><td>0</td><td>0</td><td>0</td><td>0</td><td>0</td><td>0</td><td>0</td><td>0</td><td>0</td><td>0</td><td>0</td></tr></table>"
      ],
      "text/plain": [
       "AgCls =  Columns 1 through 6:\n",
       "\n",
       "            0            0            0            0            0            0\n",
       "\n",
       " Columns 7 through 12:\n",
       "\n",
       "            0            0            0            0            0            0\n",
       "\n",
       " Columns 13 through 16:\n",
       "\n",
       "            0            0            0            0\n"
      ]
     },
     "metadata": {},
     "output_type": "display_data"
    },
    {
     "data": {
      "text/html": [
       "<table><tr><th><i>AgBrs<i></th><th>1</th><th>2</th><th>3</th><th>4</th><th>5</th><th>6</th><th>7</th><th>8</th><th>9</th><th>10</th><th>11</th><th>12</th><th>13</th><th>14</th><th>15</th><th>16</th><th>17</th></tr><tr><th>1</th><td>0</td><td>0</td><td>0</td><td>0</td><td>0</td><td>0</td><td>0</td><td>0</td><td>0</td><td>0</td><td>0</td><td>0</td><td>5.15047e-09</td><td>1.98425e-08</td><td>4.31275e-08</td><td>8.00315e-08</td><td>1.38521e-07</td></tr></table>"
      ],
      "text/plain": [
       "AgBrs =  Columns 1 through 6:\n",
       "\n",
       "            0            0            0            0            0            0\n",
       "\n",
       " Columns 7 through 12:\n",
       "\n",
       "            0            0            0            0            0            0\n",
       "\n",
       " Columns 13 through 17:\n",
       "\n",
       "   5.1505e-09   1.9842e-08   4.3127e-08   8.0031e-08   1.3852e-07\n"
      ]
     },
     "metadata": {},
     "output_type": "display_data"
    },
    {
     "data": {
      "text/html": [
       "<table><tr><th><i>AgCls<i></th><th>1</th><th>2</th><th>3</th><th>4</th><th>5</th><th>6</th><th>7</th><th>8</th><th>9</th><th>10</th><th>11</th><th>12</th><th>13</th><th>14</th><th>15</th><th>16</th><th>17</th></tr><tr><th>1</th><td>0</td><td>0</td><td>0</td><td>0</td><td>0</td><td>0</td><td>0</td><td>0</td><td>0</td><td>0</td><td>0</td><td>0</td><td>0</td><td>0</td><td>0</td><td>0</td><td>0</td></tr></table>"
      ],
      "text/plain": [
       "AgCls =  Columns 1 through 6:\n",
       "\n",
       "            0            0            0            0            0            0\n",
       "\n",
       " Columns 7 through 12:\n",
       "\n",
       "            0            0            0            0            0            0\n",
       "\n",
       " Columns 13 through 17:\n",
       "\n",
       "            0            0            0            0            0\n"
      ]
     },
     "metadata": {},
     "output_type": "display_data"
    },
    {
     "data": {
      "text/html": [
       "<table><tr><th><i>AgBrs<i></th><th>1</th><th>2</th><th>3</th><th>4</th><th>5</th><th>6</th><th>7</th><th>8</th><th>9</th><th>10</th><th>11</th><th>12</th><th>13</th><th>14</th><th>15</th><th>16</th><th>17</th><th>18</th></tr><tr><th>1</th><td>0</td><td>0</td><td>0</td><td>0</td><td>0</td><td>0</td><td>0</td><td>0</td><td>0</td><td>0</td><td>0</td><td>0</td><td>5.15047e-09</td><td>1.98425e-08</td><td>4.31275e-08</td><td>8.00315e-08</td><td>1.38521e-07</td><td>2.31221e-07</td></tr></table>"
      ],
      "text/plain": [
       "AgBrs =  Columns 1 through 6:\n",
       "\n",
       "            0            0            0            0            0            0\n",
       "\n",
       " Columns 7 through 12:\n",
       "\n",
       "            0            0            0            0            0            0\n",
       "\n",
       " Columns 13 through 18:\n",
       "\n",
       "   5.1505e-09   1.9842e-08   4.3127e-08   8.0031e-08   1.3852e-07   2.3122e-07\n"
      ]
     },
     "metadata": {},
     "output_type": "display_data"
    },
    {
     "data": {
      "text/html": [
       "<table><tr><th><i>AgCls<i></th><th>1</th><th>2</th><th>3</th><th>4</th><th>5</th><th>6</th><th>7</th><th>8</th><th>9</th><th>10</th><th>11</th><th>12</th><th>13</th><th>14</th><th>15</th><th>16</th><th>17</th><th>18</th></tr><tr><th>1</th><td>0</td><td>0</td><td>0</td><td>0</td><td>0</td><td>0</td><td>0</td><td>0</td><td>0</td><td>0</td><td>0</td><td>0</td><td>0</td><td>0</td><td>0</td><td>0</td><td>0</td><td>0</td></tr></table>"
      ],
      "text/plain": [
       "AgCls =  Columns 1 through 6:\n",
       "\n",
       "            0            0            0            0            0            0\n",
       "\n",
       " Columns 7 through 12:\n",
       "\n",
       "            0            0            0            0            0            0\n",
       "\n",
       " Columns 13 through 18:\n",
       "\n",
       "            0            0            0            0            0            0\n"
      ]
     },
     "metadata": {},
     "output_type": "display_data"
    },
    {
     "data": {
      "text/html": [
       "<table><tr><th><i>AgBrs<i></th><th>1</th><th>2</th><th>3</th><th>4</th><th>5</th><th>6</th><th>7</th><th>8</th><th>9</th><th>10</th><th>11</th><th>12</th><th>13</th><th>14</th><th>15</th><th>16</th><th>17</th><th>18</th><th>19</th></tr><tr><th>1</th><td>0</td><td>0</td><td>0</td><td>0</td><td>0</td><td>0</td><td>0</td><td>0</td><td>0</td><td>0</td><td>0</td><td>0</td><td>5.15047e-09</td><td>1.98425e-08</td><td>4.31275e-08</td><td>8.00315e-08</td><td>1.38521e-07</td><td>2.31221e-07</td><td>3.78141e-07</td></tr></table>"
      ],
      "text/plain": [
       "AgBrs =  Columns 1 through 6:\n",
       "\n",
       "            0            0            0            0            0            0\n",
       "\n",
       " Columns 7 through 12:\n",
       "\n",
       "            0            0            0            0            0            0\n",
       "\n",
       " Columns 13 through 18:\n",
       "\n",
       "   5.1505e-09   1.9842e-08   4.3127e-08   8.0031e-08   1.3852e-07   2.3122e-07\n",
       "\n",
       " Column 19:\n",
       "\n",
       "   3.7814e-07\n"
      ]
     },
     "metadata": {},
     "output_type": "display_data"
    },
    {
     "data": {
      "text/html": [
       "<table><tr><th><i>AgCls<i></th><th>1</th><th>2</th><th>3</th><th>4</th><th>5</th><th>6</th><th>7</th><th>8</th><th>9</th><th>10</th><th>11</th><th>12</th><th>13</th><th>14</th><th>15</th><th>16</th><th>17</th><th>18</th><th>19</th></tr><tr><th>1</th><td>0</td><td>0</td><td>0</td><td>0</td><td>0</td><td>0</td><td>0</td><td>0</td><td>0</td><td>0</td><td>0</td><td>0</td><td>0</td><td>0</td><td>0</td><td>0</td><td>0</td><td>0</td><td>0</td></tr></table>"
      ],
      "text/plain": [
       "AgCls =  Columns 1 through 6:\n",
       "\n",
       "            0            0            0            0            0            0\n",
       "\n",
       " Columns 7 through 12:\n",
       "\n",
       "            0            0            0            0            0            0\n",
       "\n",
       " Columns 13 through 18:\n",
       "\n",
       "            0            0            0            0            0            0\n",
       "\n",
       " Column 19:\n",
       "\n",
       "            0\n"
      ]
     },
     "metadata": {},
     "output_type": "display_data"
    },
    {
     "data": {
      "text/html": [
       "<table><tr><th><i>AgBrs<i></th><th>1</th><th>2</th><th>3</th><th>4</th><th>5</th><th>6</th><th>7</th><th>8</th><th>9</th><th>10</th><th>11</th><th>12</th><th>13</th><th>14</th><th>15</th><th>16</th><th>17</th><th>18</th><th>19</th><th>20</th></tr><tr><th>1</th><td>0</td><td>0</td><td>0</td><td>0</td><td>0</td><td>0</td><td>0</td><td>0</td><td>0</td><td>0</td><td>0</td><td>0</td><td>5.15047e-09</td><td>1.98425e-08</td><td>4.31275e-08</td><td>8.00315e-08</td><td>1.38521e-07</td><td>2.31221e-07</td><td>3.78141e-07</td><td>6.10991e-07</td></tr></table>"
      ],
      "text/plain": [
       "AgBrs =  Columns 1 through 6:\n",
       "\n",
       "            0            0            0            0            0            0\n",
       "\n",
       " Columns 7 through 12:\n",
       "\n",
       "            0            0            0            0            0            0\n",
       "\n",
       " Columns 13 through 18:\n",
       "\n",
       "   5.1505e-09   1.9842e-08   4.3127e-08   8.0031e-08   1.3852e-07   2.3122e-07\n",
       "\n",
       " Columns 19 and 20:\n",
       "\n",
       "   3.7814e-07   6.1099e-07\n"
      ]
     },
     "metadata": {},
     "output_type": "display_data"
    },
    {
     "data": {
      "text/html": [
       "<table><tr><th><i>AgCls<i></th><th>1</th><th>2</th><th>3</th><th>4</th><th>5</th><th>6</th><th>7</th><th>8</th><th>9</th><th>10</th><th>11</th><th>12</th><th>13</th><th>14</th><th>15</th><th>16</th><th>17</th><th>18</th><th>19</th><th>20</th></tr><tr><th>1</th><td>0</td><td>0</td><td>0</td><td>0</td><td>0</td><td>0</td><td>0</td><td>0</td><td>0</td><td>0</td><td>0</td><td>0</td><td>0</td><td>0</td><td>0</td><td>0</td><td>0</td><td>0</td><td>0</td><td>0</td></tr></table>"
      ],
      "text/plain": [
       "AgCls =  Columns 1 through 6:\n",
       "\n",
       "            0            0            0            0            0            0\n",
       "\n",
       " Columns 7 through 12:\n",
       "\n",
       "            0            0            0            0            0            0\n",
       "\n",
       " Columns 13 through 18:\n",
       "\n",
       "            0            0            0            0            0            0\n",
       "\n",
       " Columns 19 and 20:\n",
       "\n",
       "            0            0\n"
      ]
     },
     "metadata": {},
     "output_type": "display_data"
    },
    {
     "data": {
      "text/html": [
       "<table><tr><th><i>AgBrs<i></th><th>1</th><th>2</th><th>3</th><th>4</th><th>5</th><th>6</th><th>7</th><th>8</th><th>9</th><th>10</th><th>11</th><th>12</th><th>13</th><th>14</th><th>15</th><th>16</th><th>17</th><th>18</th><th>19</th><th>20</th><th>21</th></tr><tr><th>1</th><td>0</td><td>0</td><td>0</td><td>0</td><td>0</td><td>0</td><td>0</td><td>0</td><td>0</td><td>0</td><td>0</td><td>0</td><td>5.15047e-09</td><td>1.98425e-08</td><td>4.31275e-08</td><td>8.00315e-08</td><td>1.38521e-07</td><td>2.31221e-07</td><td>3.78141e-07</td><td>6.10991e-07</td><td>9.80031e-07</td></tr></table>"
      ],
      "text/plain": [
       "AgBrs =  Columns 1 through 6:\n",
       "\n",
       "            0            0            0            0            0            0\n",
       "\n",
       " Columns 7 through 12:\n",
       "\n",
       "            0            0            0            0            0            0\n",
       "\n",
       " Columns 13 through 18:\n",
       "\n",
       "   5.1505e-09   1.9842e-08   4.3127e-08   8.0031e-08   1.3852e-07   2.3122e-07\n",
       "\n",
       " Columns 19 through 21:\n",
       "\n",
       "   3.7814e-07   6.1099e-07   9.8003e-07\n"
      ]
     },
     "metadata": {},
     "output_type": "display_data"
    },
    {
     "data": {
      "text/html": [
       "<table><tr><th><i>AgCls<i></th><th>1</th><th>2</th><th>3</th><th>4</th><th>5</th><th>6</th><th>7</th><th>8</th><th>9</th><th>10</th><th>11</th><th>12</th><th>13</th><th>14</th><th>15</th><th>16</th><th>17</th><th>18</th><th>19</th><th>20</th><th>21</th></tr><tr><th>1</th><td>0</td><td>0</td><td>0</td><td>0</td><td>0</td><td>0</td><td>0</td><td>0</td><td>0</td><td>0</td><td>0</td><td>0</td><td>0</td><td>0</td><td>0</td><td>0</td><td>0</td><td>0</td><td>0</td><td>0</td><td>0</td></tr></table>"
      ],
      "text/plain": [
       "AgCls =  Columns 1 through 6:\n",
       "\n",
       "            0            0            0            0            0            0\n",
       "\n",
       " Columns 7 through 12:\n",
       "\n",
       "            0            0            0            0            0            0\n",
       "\n",
       " Columns 13 through 18:\n",
       "\n",
       "            0            0            0            0            0            0\n",
       "\n",
       " Columns 19 through 21:\n",
       "\n",
       "            0            0            0\n"
      ]
     },
     "metadata": {},
     "output_type": "display_data"
    },
    {
     "data": {
      "text/html": [
       "<table><tr><th><i>AgBrs<i></th><th>1</th><th>2</th><th>3</th><th>4</th><th>5</th><th>6</th><th>7</th><th>8</th><th>9</th><th>10</th><th>11</th><th>12</th><th>13</th><th>14</th><th>15</th><th>16</th><th>17</th><th>18</th><th>19</th><th>20</th><th>21</th><th>22</th></tr><tr><th>1</th><td>0</td><td>0</td><td>0</td><td>0</td><td>0</td><td>0</td><td>0</td><td>0</td><td>0</td><td>0</td><td>0</td><td>0</td><td>5.15047e-09</td><td>1.98425e-08</td><td>4.31275e-08</td><td>8.00315e-08</td><td>1.38521e-07</td><td>2.31221e-07</td><td>3.78141e-07</td><td>6.10991e-07</td><td>9.80031e-07</td><td>1.56493e-06</td></tr></table>"
      ],
      "text/plain": [
       "AgBrs =  Columns 1 through 6:\n",
       "\n",
       "            0            0            0            0            0            0\n",
       "\n",
       " Columns 7 through 12:\n",
       "\n",
       "            0            0            0            0            0            0\n",
       "\n",
       " Columns 13 through 18:\n",
       "\n",
       "   5.1505e-09   1.9842e-08   4.3127e-08   8.0031e-08   1.3852e-07   2.3122e-07\n",
       "\n",
       " Columns 19 through 22:\n",
       "\n",
       "   3.7814e-07   6.1099e-07   9.8003e-07   1.5649e-06\n"
      ]
     },
     "metadata": {},
     "output_type": "display_data"
    },
    {
     "data": {
      "text/html": [
       "<table><tr><th><i>AgCls<i></th><th>1</th><th>2</th><th>3</th><th>4</th><th>5</th><th>6</th><th>7</th><th>8</th><th>9</th><th>10</th><th>11</th><th>12</th><th>13</th><th>14</th><th>15</th><th>16</th><th>17</th><th>18</th><th>19</th><th>20</th><th>21</th><th>22</th></tr><tr><th>1</th><td>0</td><td>0</td><td>0</td><td>0</td><td>0</td><td>0</td><td>0</td><td>0</td><td>0</td><td>0</td><td>0</td><td>0</td><td>0</td><td>0</td><td>0</td><td>0</td><td>0</td><td>0</td><td>0</td><td>0</td><td>0</td><td>0</td></tr></table>"
      ],
      "text/plain": [
       "AgCls =  Columns 1 through 6:\n",
       "\n",
       "            0            0            0            0            0            0\n",
       "\n",
       " Columns 7 through 12:\n",
       "\n",
       "            0            0            0            0            0            0\n",
       "\n",
       " Columns 13 through 18:\n",
       "\n",
       "            0            0            0            0            0            0\n",
       "\n",
       " Columns 19 through 22:\n",
       "\n",
       "            0            0            0            0\n"
      ]
     },
     "metadata": {},
     "output_type": "display_data"
    },
    {
     "data": {
      "text/html": [
       "<table><tr><th><i>AgBrs<i></th><th>1</th><th>2</th><th>3</th><th>4</th><th>5</th><th>6</th><th>7</th><th>8</th><th>9</th><th>10</th><th>11</th><th>12</th><th>13</th><th>14</th><th>15</th><th>16</th><th>17</th><th>18</th><th>19</th><th>20</th><th>21</th><th>22</th><th>23</th></tr><tr><th>1</th><td>0</td><td>0</td><td>0</td><td>0</td><td>0</td><td>0</td><td>0</td><td>0</td><td>0</td><td>0</td><td>0</td><td>0</td><td>5.15047e-09</td><td>1.98425e-08</td><td>4.31275e-08</td><td>8.00315e-08</td><td>1.38521e-07</td><td>2.31221e-07</td><td>3.78141e-07</td><td>6.10991e-07</td><td>9.80031e-07</td><td>1.56493e-06</td><td>2.49193e-06</td></tr></table>"
      ],
      "text/plain": [
       "AgBrs =  Columns 1 through 6:\n",
       "\n",
       "            0            0            0            0            0            0\n",
       "\n",
       " Columns 7 through 12:\n",
       "\n",
       "            0            0            0            0            0            0\n",
       "\n",
       " Columns 13 through 18:\n",
       "\n",
       "   5.1505e-09   1.9842e-08   4.3127e-08   8.0031e-08   1.3852e-07   2.3122e-07\n",
       "\n",
       " Columns 19 through 23:\n",
       "\n",
       "   3.7814e-07   6.1099e-07   9.8003e-07   1.5649e-06   2.4919e-06\n"
      ]
     },
     "metadata": {},
     "output_type": "display_data"
    },
    {
     "data": {
      "text/html": [
       "<table><tr><th><i>AgCls<i></th><th>1</th><th>2</th><th>3</th><th>4</th><th>5</th><th>6</th><th>7</th><th>8</th><th>9</th><th>10</th><th>11</th><th>12</th><th>13</th><th>14</th><th>15</th><th>16</th><th>17</th><th>18</th><th>19</th><th>20</th><th>21</th><th>22</th><th>23</th></tr><tr><th>1</th><td>0</td><td>0</td><td>0</td><td>0</td><td>0</td><td>0</td><td>0</td><td>0</td><td>0</td><td>0</td><td>0</td><td>0</td><td>0</td><td>0</td><td>0</td><td>0</td><td>0</td><td>0</td><td>0</td><td>0</td><td>0</td><td>0</td><td>0</td></tr></table>"
      ],
      "text/plain": [
       "AgCls =  Columns 1 through 6:\n",
       "\n",
       "            0            0            0            0            0            0\n",
       "\n",
       " Columns 7 through 12:\n",
       "\n",
       "            0            0            0            0            0            0\n",
       "\n",
       " Columns 13 through 18:\n",
       "\n",
       "            0            0            0            0            0            0\n",
       "\n",
       " Columns 19 through 23:\n",
       "\n",
       "            0            0            0            0            0\n"
      ]
     },
     "metadata": {},
     "output_type": "display_data"
    },
    {
     "data": {
      "text/html": [
       "<table><tr><th><i>AgBrs<i></th><th>1</th><th>2</th><th>3</th><th>4</th><th>5</th><th>6</th><th>7</th><th>8</th><th>9</th><th>10</th><th>11</th><th>12</th><th>13</th><th>14</th><th>15</th><th>16</th><th>17</th><th>18</th><th>19</th><th>20</th><th>21</th><th>22</th><th>23</th><th>24</th></tr><tr><th>1</th><td>0</td><td>0</td><td>0</td><td>0</td><td>0</td><td>0</td><td>0</td><td>0</td><td>0</td><td>0</td><td>0</td><td>0</td><td>5.15047e-09</td><td>1.98425e-08</td><td>4.31275e-08</td><td>8.00315e-08</td><td>1.38521e-07</td><td>2.31221e-07</td><td>3.78141e-07</td><td>6.10991e-07</td><td>9.80031e-07</td><td>1.56493e-06</td><td>2.49193e-06</td><td>3.96113e-06</td></tr></table>"
      ],
      "text/plain": [
       "AgBrs =  Columns 1 through 6:\n",
       "\n",
       "            0            0            0            0            0            0\n",
       "\n",
       " Columns 7 through 12:\n",
       "\n",
       "            0            0            0            0            0            0\n",
       "\n",
       " Columns 13 through 18:\n",
       "\n",
       "   5.1505e-09   1.9842e-08   4.3127e-08   8.0031e-08   1.3852e-07   2.3122e-07\n",
       "\n",
       " Columns 19 through 24:\n",
       "\n",
       "   3.7814e-07   6.1099e-07   9.8003e-07   1.5649e-06   2.4919e-06   3.9611e-06\n"
      ]
     },
     "metadata": {},
     "output_type": "display_data"
    },
    {
     "data": {
      "text/html": [
       "<table><tr><th><i>AgCls<i></th><th>1</th><th>2</th><th>3</th><th>4</th><th>5</th><th>6</th><th>7</th><th>8</th><th>9</th><th>10</th><th>11</th><th>12</th><th>13</th><th>14</th><th>15</th><th>16</th><th>17</th><th>18</th><th>19</th><th>20</th><th>21</th><th>22</th><th>23</th><th>24</th></tr><tr><th>1</th><td>0</td><td>0</td><td>0</td><td>0</td><td>0</td><td>0</td><td>0</td><td>0</td><td>0</td><td>0</td><td>0</td><td>0</td><td>0</td><td>0</td><td>0</td><td>0</td><td>0</td><td>0</td><td>0</td><td>0</td><td>0</td><td>0</td><td>0</td><td>0</td></tr></table>"
      ],
      "text/plain": [
       "AgCls =  Columns 1 through 6:\n",
       "\n",
       "            0            0            0            0            0            0\n",
       "\n",
       " Columns 7 through 12:\n",
       "\n",
       "            0            0            0            0            0            0\n",
       "\n",
       " Columns 13 through 18:\n",
       "\n",
       "            0            0            0            0            0            0\n",
       "\n",
       " Columns 19 through 24:\n",
       "\n",
       "            0            0            0            0            0            0\n"
      ]
     },
     "metadata": {},
     "output_type": "display_data"
    },
    {
     "data": {
      "text/html": [
       "<table><tr><th><i>AgBrs<i></th><th>1</th><th>2</th><th>3</th><th>4</th><th>5</th><th>6</th><th>7</th><th>8</th><th>9</th><th>10</th><th>11</th><th>12</th><th>13</th><th>14</th><th>15</th><th>16</th><th>17</th><th>18</th><th>19</th><th>20</th><th>21</th><th>22</th><th>23</th><th>24</th><th>25</th></tr><tr><th>1</th><td>0</td><td>0</td><td>0</td><td>0</td><td>0</td><td>0</td><td>0</td><td>0</td><td>0</td><td>0</td><td>0</td><td>0</td><td>5.15047e-09</td><td>1.98425e-08</td><td>4.31275e-08</td><td>8.00315e-08</td><td>1.38521e-07</td><td>2.31221e-07</td><td>3.78141e-07</td><td>6.10991e-07</td><td>9.80031e-07</td><td>1.56493e-06</td><td>2.49193e-06</td><td>3.96113e-06</td><td>6.28963e-06</td></tr></table>"
      ],
      "text/plain": [
       "AgBrs =  Columns 1 through 6:\n",
       "\n",
       "            0            0            0            0            0            0\n",
       "\n",
       " Columns 7 through 12:\n",
       "\n",
       "            0            0            0            0            0            0\n",
       "\n",
       " Columns 13 through 18:\n",
       "\n",
       "   5.1505e-09   1.9842e-08   4.3127e-08   8.0031e-08   1.3852e-07   2.3122e-07\n",
       "\n",
       " Columns 19 through 24:\n",
       "\n",
       "   3.7814e-07   6.1099e-07   9.8003e-07   1.5649e-06   2.4919e-06   3.9611e-06\n",
       "\n",
       " Column 25:\n",
       "\n",
       "   6.2896e-06\n"
      ]
     },
     "metadata": {},
     "output_type": "display_data"
    },
    {
     "data": {
      "text/html": [
       "<table><tr><th><i>AgCls<i></th><th>1</th><th>2</th><th>3</th><th>4</th><th>5</th><th>6</th><th>7</th><th>8</th><th>9</th><th>10</th><th>11</th><th>12</th><th>13</th><th>14</th><th>15</th><th>16</th><th>17</th><th>18</th><th>19</th><th>20</th><th>21</th><th>22</th><th>23</th><th>24</th><th>25</th></tr><tr><th>1</th><td>0</td><td>0</td><td>0</td><td>0</td><td>0</td><td>0</td><td>0</td><td>0</td><td>0</td><td>0</td><td>0</td><td>0</td><td>0</td><td>0</td><td>0</td><td>0</td><td>0</td><td>0</td><td>0</td><td>0</td><td>0</td><td>0</td><td>0</td><td>0</td><td>0</td></tr></table>"
      ],
      "text/plain": [
       "AgCls =  Columns 1 through 6:\n",
       "\n",
       "            0            0            0            0            0            0\n",
       "\n",
       " Columns 7 through 12:\n",
       "\n",
       "            0            0            0            0            0            0\n",
       "\n",
       " Columns 13 through 18:\n",
       "\n",
       "            0            0            0            0            0            0\n",
       "\n",
       " Columns 19 through 24:\n",
       "\n",
       "            0            0            0            0            0            0\n",
       "\n",
       " Column 25:\n",
       "\n",
       "            0\n"
      ]
     },
     "metadata": {},
     "output_type": "display_data"
    },
    {
     "data": {
      "text/html": [
       "<table><tr><th><i>AgBrs<i></th><th>1</th><th>2</th><th>3</th><th>4</th><th>5</th><th>6</th><th>7</th><th>8</th><th>9</th><th>10</th><th>11</th><th>12</th><th>13</th><th>14</th><th>15</th><th>16</th><th>17</th><th>18</th><th>19</th><th>20</th><th>21</th><th>22</th><th>23</th><th>24</th><th>25</th><th>26</th></tr><tr><th>1</th><td>0</td><td>0</td><td>0</td><td>0</td><td>0</td><td>0</td><td>0</td><td>0</td><td>0</td><td>0</td><td>0</td><td>0</td><td>5.15047e-09</td><td>1.98425e-08</td><td>4.31275e-08</td><td>8.00315e-08</td><td>1.38521e-07</td><td>2.31221e-07</td><td>3.78141e-07</td><td>6.10991e-07</td><td>9.80031e-07</td><td>1.56493e-06</td><td>2.49193e-06</td><td>3.96113e-06</td><td>6.28963e-06</td><td>9.98003e-06</td></tr></table>"
      ],
      "text/plain": [
       "AgBrs =  Columns 1 through 6:\n",
       "\n",
       "            0            0            0            0            0            0\n",
       "\n",
       " Columns 7 through 12:\n",
       "\n",
       "            0            0            0            0            0            0\n",
       "\n",
       " Columns 13 through 18:\n",
       "\n",
       "   5.1505e-09   1.9842e-08   4.3127e-08   8.0031e-08   1.3852e-07   2.3122e-07\n",
       "\n",
       " Columns 19 through 24:\n",
       "\n",
       "   3.7814e-07   6.1099e-07   9.8003e-07   1.5649e-06   2.4919e-06   3.9611e-06\n",
       "\n",
       " Columns 25 and 26:\n",
       "\n",
       "   6.2896e-06   9.9800e-06\n"
      ]
     },
     "metadata": {},
     "output_type": "display_data"
    },
    {
     "data": {
      "text/html": [
       "<table><tr><th><i>AgCls<i></th><th>1</th><th>2</th><th>3</th><th>4</th><th>5</th><th>6</th><th>7</th><th>8</th><th>9</th><th>10</th><th>11</th><th>12</th><th>13</th><th>14</th><th>15</th><th>16</th><th>17</th><th>18</th><th>19</th><th>20</th><th>21</th><th>22</th><th>23</th><th>24</th><th>25</th><th>26</th></tr><tr><th>1</th><td>0</td><td>0</td><td>0</td><td>0</td><td>0</td><td>0</td><td>0</td><td>0</td><td>0</td><td>0</td><td>0</td><td>0</td><td>0</td><td>0</td><td>0</td><td>0</td><td>0</td><td>0</td><td>0</td><td>0</td><td>0</td><td>0</td><td>0</td><td>0</td><td>0</td><td>0</td></tr></table>"
      ],
      "text/plain": [
       "AgCls =  Columns 1 through 6:\n",
       "\n",
       "            0            0            0            0            0            0\n",
       "\n",
       " Columns 7 through 12:\n",
       "\n",
       "            0            0            0            0            0            0\n",
       "\n",
       " Columns 13 through 18:\n",
       "\n",
       "            0            0            0            0            0            0\n",
       "\n",
       " Columns 19 through 24:\n",
       "\n",
       "            0            0            0            0            0            0\n",
       "\n",
       " Columns 25 and 26:\n",
       "\n",
       "            0            0\n"
      ]
     },
     "metadata": {},
     "output_type": "display_data"
    },
    {
     "data": {
      "text/html": [
       "<table><tr><th><i>AgBrs<i></th><th>1</th><th>2</th><th>3</th><th>4</th><th>5</th><th>6</th><th>7</th><th>8</th><th>9</th><th>10</th><th>11</th><th>12</th><th>13</th><th>14</th><th>15</th><th>16</th><th>17</th><th>18</th><th>19</th><th>20</th><th>21</th><th>22</th><th>23</th><th>24</th><th>25</th><th>26</th><th>27</th></tr><tr><th>1</th><td>0</td><td>0</td><td>0</td><td>0</td><td>0</td><td>0</td><td>0</td><td>0</td><td>0</td><td>0</td><td>0</td><td>0</td><td>5.15047e-09</td><td>1.98425e-08</td><td>4.31275e-08</td><td>8.00315e-08</td><td>1.38521e-07</td><td>2.31221e-07</td><td>3.78141e-07</td><td>6.10991e-07</td><td>9.80031e-07</td><td>1.56493e-06</td><td>2.49193e-06</td><td>3.96113e-06</td><td>6.28963e-06</td><td>9.98003e-06</td><td>1.5829e-05</td></tr></table>"
      ],
      "text/plain": [
       "AgBrs =  Columns 1 through 6:\n",
       "\n",
       "            0            0            0            0            0            0\n",
       "\n",
       " Columns 7 through 12:\n",
       "\n",
       "            0            0            0            0            0            0\n",
       "\n",
       " Columns 13 through 18:\n",
       "\n",
       "   5.1505e-09   1.9842e-08   4.3127e-08   8.0031e-08   1.3852e-07   2.3122e-07\n",
       "\n",
       " Columns 19 through 24:\n",
       "\n",
       "   3.7814e-07   6.1099e-07   9.8003e-07   1.5649e-06   2.4919e-06   3.9611e-06\n",
       "\n",
       " Columns 25 through 27:\n",
       "\n",
       "   6.2896e-06   9.9800e-06   1.5829e-05\n"
      ]
     },
     "metadata": {},
     "output_type": "display_data"
    },
    {
     "data": {
      "text/html": [
       "<table><tr><th><i>AgCls<i></th><th>1</th><th>2</th><th>3</th><th>4</th><th>5</th><th>6</th><th>7</th><th>8</th><th>9</th><th>10</th><th>11</th><th>12</th><th>13</th><th>14</th><th>15</th><th>16</th><th>17</th><th>18</th><th>19</th><th>20</th><th>21</th><th>22</th><th>23</th><th>24</th><th>25</th><th>26</th><th>27</th></tr><tr><th>1</th><td>0</td><td>0</td><td>0</td><td>0</td><td>0</td><td>0</td><td>0</td><td>0</td><td>0</td><td>0</td><td>0</td><td>0</td><td>0</td><td>0</td><td>0</td><td>0</td><td>0</td><td>0</td><td>0</td><td>0</td><td>0</td><td>0</td><td>0</td><td>0</td><td>0</td><td>0</td><td>0</td></tr></table>"
      ],
      "text/plain": [
       "AgCls =  Columns 1 through 6:\n",
       "\n",
       "            0            0            0            0            0            0\n",
       "\n",
       " Columns 7 through 12:\n",
       "\n",
       "            0            0            0            0            0            0\n",
       "\n",
       " Columns 13 through 18:\n",
       "\n",
       "            0            0            0            0            0            0\n",
       "\n",
       " Columns 19 through 24:\n",
       "\n",
       "            0            0            0            0            0            0\n",
       "\n",
       " Columns 25 through 27:\n",
       "\n",
       "            0            0            0\n"
      ]
     },
     "metadata": {},
     "output_type": "display_data"
    },
    {
     "data": {
      "text/html": [
       "<table><tr><th><i>AgBrs<i></th><th>1</th><th>2</th><th>3</th><th>4</th><th>5</th><th>6</th><th>7</th><th>8</th><th>9</th><th>10</th><th>11</th><th>12</th><th>13</th><th>14</th><th>15</th><th>16</th><th>17</th><th>18</th><th>19</th><th>20</th><th>21</th><th>22</th><th>23</th><th>24</th><th>25</th><th>26</th><th>27</th><th>28</th></tr><tr><th>1</th><td>0</td><td>0</td><td>0</td><td>0</td><td>0</td><td>0</td><td>0</td><td>0</td><td>0</td><td>0</td><td>0</td><td>0</td><td>5.15047e-09</td><td>1.98425e-08</td><td>4.31275e-08</td><td>8.00315e-08</td><td>1.38521e-07</td><td>2.31221e-07</td><td>3.78141e-07</td><td>6.10991e-07</td><td>9.80031e-07</td><td>1.56493e-06</td><td>2.49193e-06</td><td>3.96113e-06</td><td>6.28963e-06</td><td>9.98003e-06</td><td>1.5829e-05</td><td>2.5099e-05</td></tr></table>"
      ],
      "text/plain": [
       "AgBrs =  Columns 1 through 6:\n",
       "\n",
       "            0            0            0            0            0            0\n",
       "\n",
       " Columns 7 through 12:\n",
       "\n",
       "            0            0            0            0            0            0\n",
       "\n",
       " Columns 13 through 18:\n",
       "\n",
       "   5.1505e-09   1.9842e-08   4.3127e-08   8.0031e-08   1.3852e-07   2.3122e-07\n",
       "\n",
       " Columns 19 through 24:\n",
       "\n",
       "   3.7814e-07   6.1099e-07   9.8003e-07   1.5649e-06   2.4919e-06   3.9611e-06\n",
       "\n",
       " Columns 25 through 28:\n",
       "\n",
       "   6.2896e-06   9.9800e-06   1.5829e-05   2.5099e-05\n"
      ]
     },
     "metadata": {},
     "output_type": "display_data"
    },
    {
     "data": {
      "text/html": [
       "<table><tr><th><i>AgCls<i></th><th>1</th><th>2</th><th>3</th><th>4</th><th>5</th><th>6</th><th>7</th><th>8</th><th>9</th><th>10</th><th>11</th><th>12</th><th>13</th><th>14</th><th>15</th><th>16</th><th>17</th><th>18</th><th>19</th><th>20</th><th>21</th><th>22</th><th>23</th><th>24</th><th>25</th><th>26</th><th>27</th><th>28</th></tr><tr><th>1</th><td>0</td><td>0</td><td>0</td><td>0</td><td>0</td><td>0</td><td>0</td><td>0</td><td>0</td><td>0</td><td>0</td><td>0</td><td>0</td><td>0</td><td>0</td><td>0</td><td>0</td><td>0</td><td>0</td><td>0</td><td>0</td><td>0</td><td>0</td><td>0</td><td>0</td><td>0</td><td>0</td><td>0</td></tr></table>"
      ],
      "text/plain": [
       "AgCls =  Columns 1 through 6:\n",
       "\n",
       "            0            0            0            0            0            0\n",
       "\n",
       " Columns 7 through 12:\n",
       "\n",
       "            0            0            0            0            0            0\n",
       "\n",
       " Columns 13 through 18:\n",
       "\n",
       "            0            0            0            0            0            0\n",
       "\n",
       " Columns 19 through 24:\n",
       "\n",
       "            0            0            0            0            0            0\n",
       "\n",
       " Columns 25 through 28:\n",
       "\n",
       "            0            0            0            0\n"
      ]
     },
     "metadata": {},
     "output_type": "display_data"
    },
    {
     "data": {
      "text/html": [
       "<table><tr><th><i>AgBrs<i></th><th>1</th><th>2</th><th>3</th><th>4</th><th>5</th><th>6</th><th>7</th><th>8</th><th>9</th><th>10</th><th>11</th><th>12</th><th>13</th><th>14</th><th>15</th><th>16</th><th>17</th><th>18</th><th>19</th><th>20</th><th>21</th><th>22</th><th>23</th><th>24</th><th>25</th><th>26</th><th>27</th><th>28</th><th>29</th></tr><tr><th>1</th><td>0</td><td>0</td><td>0</td><td>0</td><td>0</td><td>0</td><td>0</td><td>0</td><td>0</td><td>0</td><td>0</td><td>0</td><td>5.15047e-09</td><td>1.98425e-08</td><td>4.31275e-08</td><td>8.00315e-08</td><td>1.38521e-07</td><td>2.31221e-07</td><td>3.78141e-07</td><td>6.10991e-07</td><td>9.80031e-07</td><td>1.56493e-06</td><td>2.49193e-06</td><td>3.96113e-06</td><td>6.28963e-06</td><td>9.98003e-06</td><td>1.5829e-05</td><td>2.5099e-05</td><td>3.9791e-05</td></tr></table>"
      ],
      "text/plain": [
       "AgBrs =  Columns 1 through 6:\n",
       "\n",
       "            0            0            0            0            0            0\n",
       "\n",
       " Columns 7 through 12:\n",
       "\n",
       "            0            0            0            0            0            0\n",
       "\n",
       " Columns 13 through 18:\n",
       "\n",
       "   5.1505e-09   1.9842e-08   4.3127e-08   8.0031e-08   1.3852e-07   2.3122e-07\n",
       "\n",
       " Columns 19 through 24:\n",
       "\n",
       "   3.7814e-07   6.1099e-07   9.8003e-07   1.5649e-06   2.4919e-06   3.9611e-06\n",
       "\n",
       " Columns 25 through 29:\n",
       "\n",
       "   6.2896e-06   9.9800e-06   1.5829e-05   2.5099e-05   3.9791e-05\n"
      ]
     },
     "metadata": {},
     "output_type": "display_data"
    },
    {
     "data": {
      "text/html": [
       "<table><tr><th><i>AgCls<i></th><th>1</th><th>2</th><th>3</th><th>4</th><th>5</th><th>6</th><th>7</th><th>8</th><th>9</th><th>10</th><th>11</th><th>12</th><th>13</th><th>14</th><th>15</th><th>16</th><th>17</th><th>18</th><th>19</th><th>20</th><th>21</th><th>22</th><th>23</th><th>24</th><th>25</th><th>26</th><th>27</th><th>28</th><th>29</th></tr><tr><th>1</th><td>0</td><td>0</td><td>0</td><td>0</td><td>0</td><td>0</td><td>0</td><td>0</td><td>0</td><td>0</td><td>0</td><td>0</td><td>0</td><td>0</td><td>0</td><td>0</td><td>0</td><td>0</td><td>0</td><td>0</td><td>0</td><td>0</td><td>0</td><td>0</td><td>0</td><td>0</td><td>0</td><td>0</td><td>0</td></tr></table>"
      ],
      "text/plain": [
       "AgCls =  Columns 1 through 6:\n",
       "\n",
       "            0            0            0            0            0            0\n",
       "\n",
       " Columns 7 through 12:\n",
       "\n",
       "            0            0            0            0            0            0\n",
       "\n",
       " Columns 13 through 18:\n",
       "\n",
       "            0            0            0            0            0            0\n",
       "\n",
       " Columns 19 through 24:\n",
       "\n",
       "            0            0            0            0            0            0\n",
       "\n",
       " Columns 25 through 29:\n",
       "\n",
       "            0            0            0            0            0\n"
      ]
     },
     "metadata": {},
     "output_type": "display_data"
    },
    {
     "data": {
      "text/html": [
       "<table><tr><th><i>AgBrs<i></th><th>1</th><th>2</th><th>3</th><th>4</th><th>5</th><th>6</th><th>7</th><th>8</th><th>9</th><th>10</th><th>11</th><th>12</th><th>13</th><th>14</th><th>15</th><th>16</th><th>17</th><th>18</th><th>19</th><th>20</th><th>21</th><th>22</th><th>23</th><th>24</th><th>25</th><th>26</th><th>27</th><th>28</th><th>29</th><th>30</th></tr><tr><th>1</th><td>0</td><td>0</td><td>0</td><td>0</td><td>0</td><td>0</td><td>0</td><td>0</td><td>0</td><td>0</td><td>0</td><td>0</td><td>5.15047e-09</td><td>1.98425e-08</td><td>4.31275e-08</td><td>8.00315e-08</td><td>1.38521e-07</td><td>2.31221e-07</td><td>3.78141e-07</td><td>6.10991e-07</td><td>9.80031e-07</td><td>1.56493e-06</td><td>2.49193e-06</td><td>3.96113e-06</td><td>6.28963e-06</td><td>9.98003e-06</td><td>1.5829e-05</td><td>2.5099e-05</td><td>3.9791e-05</td><td>6.3076e-05</td></tr></table>"
      ],
      "text/plain": [
       "AgBrs =  Columns 1 through 6:\n",
       "\n",
       "            0            0            0            0            0            0\n",
       "\n",
       " Columns 7 through 12:\n",
       "\n",
       "            0            0            0            0            0            0\n",
       "\n",
       " Columns 13 through 18:\n",
       "\n",
       "   5.1505e-09   1.9842e-08   4.3127e-08   8.0031e-08   1.3852e-07   2.3122e-07\n",
       "\n",
       " Columns 19 through 24:\n",
       "\n",
       "   3.7814e-07   6.1099e-07   9.8003e-07   1.5649e-06   2.4919e-06   3.9611e-06\n",
       "\n",
       " Columns 25 through 30:\n",
       "\n",
       "   6.2896e-06   9.9800e-06   1.5829e-05   2.5099e-05   3.9791e-05   6.3076e-05\n"
      ]
     },
     "metadata": {},
     "output_type": "display_data"
    },
    {
     "data": {
      "text/html": [
       "<table><tr><th><i>AgCls<i></th><th>1</th><th>2</th><th>3</th><th>4</th><th>5</th><th>6</th><th>7</th><th>8</th><th>9</th><th>10</th><th>11</th><th>12</th><th>13</th><th>14</th><th>15</th><th>16</th><th>17</th><th>18</th><th>19</th><th>20</th><th>21</th><th>22</th><th>23</th><th>24</th><th>25</th><th>26</th><th>27</th><th>28</th><th>29</th><th>30</th></tr><tr><th>1</th><td>0</td><td>0</td><td>0</td><td>0</td><td>0</td><td>0</td><td>0</td><td>0</td><td>0</td><td>0</td><td>0</td><td>0</td><td>0</td><td>0</td><td>0</td><td>0</td><td>0</td><td>0</td><td>0</td><td>0</td><td>0</td><td>0</td><td>0</td><td>0</td><td>0</td><td>0</td><td>0</td><td>0</td><td>0</td><td>0</td></tr></table>"
      ],
      "text/plain": [
       "AgCls =  Columns 1 through 6:\n",
       "\n",
       "            0            0            0            0            0            0\n",
       "\n",
       " Columns 7 through 12:\n",
       "\n",
       "            0            0            0            0            0            0\n",
       "\n",
       " Columns 13 through 18:\n",
       "\n",
       "            0            0            0            0            0            0\n",
       "\n",
       " Columns 19 through 24:\n",
       "\n",
       "            0            0            0            0            0            0\n",
       "\n",
       " Columns 25 through 30:\n",
       "\n",
       "            0            0            0            0            0            0\n"
      ]
     },
     "metadata": {},
     "output_type": "display_data"
    },
    {
     "data": {
      "text/html": [
       "<table><tr><th><i>AgBrs<i></th><th>1</th><th>2</th><th>3</th><th>4</th><th>5</th><th>6</th><th>7</th><th>8</th><th>9</th><th>10</th><th>11</th><th>12</th><th>13</th><th>14</th><th>15</th><th>16</th><th>17</th><th>18</th><th>19</th><th>20</th><th>21</th><th>22</th><th>23</th><th>24</th><th>25</th><th>26</th><th>27</th><th>28</th><th>29</th><th>30</th><th>31</th></tr><tr><th>1</th><td>0</td><td>0</td><td>0</td><td>0</td><td>0</td><td>0</td><td>0</td><td>0</td><td>0</td><td>0</td><td>0</td><td>0</td><td>5.15047e-09</td><td>1.98425e-08</td><td>4.31275e-08</td><td>8.00315e-08</td><td>1.38521e-07</td><td>2.31221e-07</td><td>3.78141e-07</td><td>6.10991e-07</td><td>9.80031e-07</td><td>1.56493e-06</td><td>2.49193e-06</td><td>3.96113e-06</td><td>6.28963e-06</td><td>9.98003e-06</td><td>1.5829e-05</td><td>2.5099e-05</td><td>3.9791e-05</td><td>6.3076e-05</td><td>9.998e-05</td></tr></table>"
      ],
      "text/plain": [
       "AgBrs =  Columns 1 through 6:\n",
       "\n",
       "            0            0            0            0            0            0\n",
       "\n",
       " Columns 7 through 12:\n",
       "\n",
       "            0            0            0            0            0            0\n",
       "\n",
       " Columns 13 through 18:\n",
       "\n",
       "   5.1505e-09   1.9842e-08   4.3127e-08   8.0031e-08   1.3852e-07   2.3122e-07\n",
       "\n",
       " Columns 19 through 24:\n",
       "\n",
       "   3.7814e-07   6.1099e-07   9.8003e-07   1.5649e-06   2.4919e-06   3.9611e-06\n",
       "\n",
       " Columns 25 through 30:\n",
       "\n",
       "   6.2896e-06   9.9800e-06   1.5829e-05   2.5099e-05   3.9791e-05   6.3076e-05\n",
       "\n",
       " Column 31:\n",
       "\n",
       "   9.9980e-05\n"
      ]
     },
     "metadata": {},
     "output_type": "display_data"
    },
    {
     "data": {
      "text/html": [
       "<table><tr><th><i>AgCls<i></th><th>1</th><th>2</th><th>3</th><th>4</th><th>5</th><th>6</th><th>7</th><th>8</th><th>9</th><th>10</th><th>11</th><th>12</th><th>13</th><th>14</th><th>15</th><th>16</th><th>17</th><th>18</th><th>19</th><th>20</th><th>21</th><th>22</th><th>23</th><th>24</th><th>25</th><th>26</th><th>27</th><th>28</th><th>29</th><th>30</th><th>31</th></tr><tr><th>1</th><td>0</td><td>0</td><td>0</td><td>0</td><td>0</td><td>0</td><td>0</td><td>0</td><td>0</td><td>0</td><td>0</td><td>0</td><td>0</td><td>0</td><td>0</td><td>0</td><td>0</td><td>0</td><td>0</td><td>0</td><td>0</td><td>0</td><td>0</td><td>0</td><td>0</td><td>0</td><td>0</td><td>0</td><td>0</td><td>0</td><td>0</td></tr></table>"
      ],
      "text/plain": [
       "AgCls =  Columns 1 through 6:\n",
       "\n",
       "            0            0            0            0            0            0\n",
       "\n",
       " Columns 7 through 12:\n",
       "\n",
       "            0            0            0            0            0            0\n",
       "\n",
       " Columns 13 through 18:\n",
       "\n",
       "            0            0            0            0            0            0\n",
       "\n",
       " Columns 19 through 24:\n",
       "\n",
       "            0            0            0            0            0            0\n",
       "\n",
       " Columns 25 through 30:\n",
       "\n",
       "            0            0            0            0            0            0\n",
       "\n",
       " Column 31:\n",
       "\n",
       "            0\n"
      ]
     },
     "metadata": {},
     "output_type": "display_data"
    },
    {
     "data": {
      "text/html": [
       "<table><tr><th><i>AgBrs<i></th><th>1</th><th>2</th><th>3</th><th>4</th><th>5</th><th>6</th><th>7</th><th>8</th><th>9</th><th>10</th><th>11</th><th>12</th><th>13</th><th>14</th><th>15</th><th>16</th><th>17</th><th>18</th><th>19</th><th>20</th><th>21</th><th>22</th><th>23</th><th>24</th><th>25</th><th>26</th><th>27</th><th>28</th><th>29</th><th>30</th><th>31</th><th>32</th></tr><tr><th>1</th><td>0</td><td>0</td><td>0</td><td>0</td><td>0</td><td>0</td><td>0</td><td>0</td><td>0</td><td>0</td><td>0</td><td>0</td><td>5.15047e-09</td><td>1.98425e-08</td><td>4.31275e-08</td><td>8.00315e-08</td><td>1.38521e-07</td><td>2.31221e-07</td><td>3.78141e-07</td><td>6.10991e-07</td><td>9.80031e-07</td><td>1.56493e-06</td><td>2.49193e-06</td><td>3.96113e-06</td><td>6.28963e-06</td><td>9.98003e-06</td><td>1.5829e-05</td><td>2.5099e-05</td><td>3.9791e-05</td><td>6.3076e-05</td><td>9.998e-05</td><td>0.00015847</td></tr></table>"
      ],
      "text/plain": [
       "AgBrs =  Columns 1 through 6:\n",
       "\n",
       "            0            0            0            0            0            0\n",
       "\n",
       " Columns 7 through 12:\n",
       "\n",
       "            0            0            0            0            0            0\n",
       "\n",
       " Columns 13 through 18:\n",
       "\n",
       "   5.1505e-09   1.9842e-08   4.3127e-08   8.0031e-08   1.3852e-07   2.3122e-07\n",
       "\n",
       " Columns 19 through 24:\n",
       "\n",
       "   3.7814e-07   6.1099e-07   9.8003e-07   1.5649e-06   2.4919e-06   3.9611e-06\n",
       "\n",
       " Columns 25 through 30:\n",
       "\n",
       "   6.2896e-06   9.9800e-06   1.5829e-05   2.5099e-05   3.9791e-05   6.3076e-05\n",
       "\n",
       " Columns 31 and 32:\n",
       "\n",
       "   9.9980e-05   1.5847e-04\n"
      ]
     },
     "metadata": {},
     "output_type": "display_data"
    },
    {
     "data": {
      "text/html": [
       "<table><tr><th><i>AgCls<i></th><th>1</th><th>2</th><th>3</th><th>4</th><th>5</th><th>6</th><th>7</th><th>8</th><th>9</th><th>10</th><th>11</th><th>12</th><th>13</th><th>14</th><th>15</th><th>16</th><th>17</th><th>18</th><th>19</th><th>20</th><th>21</th><th>22</th><th>23</th><th>24</th><th>25</th><th>26</th><th>27</th><th>28</th><th>29</th><th>30</th><th>31</th><th>32</th></tr><tr><th>1</th><td>0</td><td>0</td><td>0</td><td>0</td><td>0</td><td>0</td><td>0</td><td>0</td><td>0</td><td>0</td><td>0</td><td>0</td><td>0</td><td>0</td><td>0</td><td>0</td><td>0</td><td>0</td><td>0</td><td>0</td><td>0</td><td>0</td><td>0</td><td>0</td><td>0</td><td>0</td><td>0</td><td>0</td><td>0</td><td>0</td><td>0</td><td>0</td></tr></table>"
      ],
      "text/plain": [
       "AgCls =  Columns 1 through 6:\n",
       "\n",
       "            0            0            0            0            0            0\n",
       "\n",
       " Columns 7 through 12:\n",
       "\n",
       "            0            0            0            0            0            0\n",
       "\n",
       " Columns 13 through 18:\n",
       "\n",
       "            0            0            0            0            0            0\n",
       "\n",
       " Columns 19 through 24:\n",
       "\n",
       "            0            0            0            0            0            0\n",
       "\n",
       " Columns 25 through 30:\n",
       "\n",
       "            0            0            0            0            0            0\n",
       "\n",
       " Columns 31 and 32:\n",
       "\n",
       "            0            0\n"
      ]
     },
     "metadata": {},
     "output_type": "display_data"
    },
    {
     "data": {
      "text/html": [
       "<table><tr><th><i>AgBrs<i></th><th>1</th><th>2</th><th>3</th><th>4</th><th>5</th><th>6</th><th>7</th><th>8</th><th>9</th><th>10</th><th>11</th><th>12</th><th>13</th><th>14</th><th>15</th><th>16</th><th>17</th><th>18</th><th>19</th><th>20</th><th>21</th><th>22</th><th>23</th><th>24</th><th>25</th><th>26</th><th>27</th><th>28</th><th>29</th><th>30</th><th>31</th><th>32</th><th>33</th></tr><tr><th>1</th><td>0</td><td>0</td><td>0</td><td>0</td><td>0</td><td>0</td><td>0</td><td>0</td><td>0</td><td>0</td><td>0</td><td>0</td><td>5.15047e-09</td><td>1.98425e-08</td><td>4.31275e-08</td><td>8.00315e-08</td><td>1.38521e-07</td><td>2.31221e-07</td><td>3.78141e-07</td><td>6.10991e-07</td><td>9.80031e-07</td><td>1.56493e-06</td><td>2.49193e-06</td><td>3.96113e-06</td><td>6.28963e-06</td><td>9.98003e-06</td><td>1.5829e-05</td><td>2.5099e-05</td><td>3.9791e-05</td><td>6.3076e-05</td><td>9.998e-05</td><td>0.00015847</td><td>0.00025117</td></tr></table>"
      ],
      "text/plain": [
       "AgBrs =  Columns 1 through 6:\n",
       "\n",
       "            0            0            0            0            0            0\n",
       "\n",
       " Columns 7 through 12:\n",
       "\n",
       "            0            0            0            0            0            0\n",
       "\n",
       " Columns 13 through 18:\n",
       "\n",
       "   5.1505e-09   1.9842e-08   4.3127e-08   8.0031e-08   1.3852e-07   2.3122e-07\n",
       "\n",
       " Columns 19 through 24:\n",
       "\n",
       "   3.7814e-07   6.1099e-07   9.8003e-07   1.5649e-06   2.4919e-06   3.9611e-06\n",
       "\n",
       " Columns 25 through 30:\n",
       "\n",
       "   6.2896e-06   9.9800e-06   1.5829e-05   2.5099e-05   3.9791e-05   6.3076e-05\n",
       "\n",
       " Columns 31 through 33:\n",
       "\n",
       "   9.9980e-05   1.5847e-04   2.5117e-04\n"
      ]
     },
     "metadata": {},
     "output_type": "display_data"
    },
    {
     "data": {
      "text/html": [
       "<table><tr><th><i>AgCls<i></th><th>1</th><th>2</th><th>3</th><th>4</th><th>5</th><th>6</th><th>7</th><th>8</th><th>9</th><th>10</th><th>11</th><th>12</th><th>13</th><th>14</th><th>15</th><th>16</th><th>17</th><th>18</th><th>19</th><th>20</th><th>21</th><th>22</th><th>23</th><th>24</th><th>25</th><th>26</th><th>27</th><th>28</th><th>29</th><th>30</th><th>31</th><th>32</th><th>33</th></tr><tr><th>1</th><td>0</td><td>0</td><td>0</td><td>0</td><td>0</td><td>0</td><td>0</td><td>0</td><td>0</td><td>0</td><td>0</td><td>0</td><td>0</td><td>0</td><td>0</td><td>0</td><td>0</td><td>0</td><td>0</td><td>0</td><td>0</td><td>0</td><td>0</td><td>0</td><td>0</td><td>0</td><td>0</td><td>0</td><td>0</td><td>0</td><td>0</td><td>0</td><td>0</td></tr></table>"
      ],
      "text/plain": [
       "AgCls =  Columns 1 through 6:\n",
       "\n",
       "            0            0            0            0            0            0\n",
       "\n",
       " Columns 7 through 12:\n",
       "\n",
       "            0            0            0            0            0            0\n",
       "\n",
       " Columns 13 through 18:\n",
       "\n",
       "            0            0            0            0            0            0\n",
       "\n",
       " Columns 19 through 24:\n",
       "\n",
       "            0            0            0            0            0            0\n",
       "\n",
       " Columns 25 through 30:\n",
       "\n",
       "            0            0            0            0            0            0\n",
       "\n",
       " Columns 31 through 33:\n",
       "\n",
       "            0            0            0\n"
      ]
     },
     "metadata": {},
     "output_type": "display_data"
    },
    {
     "data": {
      "text/html": [
       "<table><tr><th><i>AgBrs<i></th><th>1</th><th>2</th><th>3</th><th>4</th><th>5</th><th>6</th><th>7</th><th>8</th><th>9</th><th>10</th><th>11</th><th>12</th><th>13</th><th>14</th><th>15</th><th>16</th><th>17</th><th>18</th><th>19</th><th>20</th><th>21</th><th>22</th><th>23</th><th>24</th><th>25</th><th>26</th><th>27</th><th>28</th><th>29</th><th>30</th><th>31</th><th>32</th><th>33</th><th>34</th></tr><tr><th>1</th><td>0</td><td>0</td><td>0</td><td>0</td><td>0</td><td>0</td><td>0</td><td>0</td><td>0</td><td>0</td><td>0</td><td>0</td><td>5.15047e-09</td><td>1.98425e-08</td><td>4.31275e-08</td><td>8.00315e-08</td><td>1.38521e-07</td><td>2.31221e-07</td><td>3.78141e-07</td><td>6.10991e-07</td><td>9.80031e-07</td><td>1.56493e-06</td><td>2.49193e-06</td><td>3.96113e-06</td><td>6.28963e-06</td><td>9.98003e-06</td><td>1.5829e-05</td><td>2.5099e-05</td><td>3.9791e-05</td><td>6.3076e-05</td><td>9.998e-05</td><td>0.00015847</td><td>0.00025117</td><td>0.00039809</td></tr></table>"
      ],
      "text/plain": [
       "AgBrs =  Columns 1 through 6:\n",
       "\n",
       "            0            0            0            0            0            0\n",
       "\n",
       " Columns 7 through 12:\n",
       "\n",
       "            0            0            0            0            0            0\n",
       "\n",
       " Columns 13 through 18:\n",
       "\n",
       "   5.1505e-09   1.9842e-08   4.3127e-08   8.0031e-08   1.3852e-07   2.3122e-07\n",
       "\n",
       " Columns 19 through 24:\n",
       "\n",
       "   3.7814e-07   6.1099e-07   9.8003e-07   1.5649e-06   2.4919e-06   3.9611e-06\n",
       "\n",
       " Columns 25 through 30:\n",
       "\n",
       "   6.2896e-06   9.9800e-06   1.5829e-05   2.5099e-05   3.9791e-05   6.3076e-05\n",
       "\n",
       " Columns 31 through 34:\n",
       "\n",
       "   9.9980e-05   1.5847e-04   2.5117e-04   3.9809e-04\n"
      ]
     },
     "metadata": {},
     "output_type": "display_data"
    },
    {
     "data": {
      "text/html": [
       "<table><tr><th><i>AgCls<i></th><th>1</th><th>2</th><th>3</th><th>4</th><th>5</th><th>6</th><th>7</th><th>8</th><th>9</th><th>10</th><th>11</th><th>12</th><th>13</th><th>14</th><th>15</th><th>16</th><th>17</th><th>18</th><th>19</th><th>20</th><th>21</th><th>22</th><th>23</th><th>24</th><th>25</th><th>26</th><th>27</th><th>28</th><th>29</th><th>30</th><th>31</th><th>32</th><th>33</th><th>34</th></tr><tr><th>1</th><td>0</td><td>0</td><td>0</td><td>0</td><td>0</td><td>0</td><td>0</td><td>0</td><td>0</td><td>0</td><td>0</td><td>0</td><td>0</td><td>0</td><td>0</td><td>0</td><td>0</td><td>0</td><td>0</td><td>0</td><td>0</td><td>0</td><td>0</td><td>0</td><td>0</td><td>0</td><td>0</td><td>0</td><td>0</td><td>0</td><td>0</td><td>0</td><td>0</td><td>0</td></tr></table>"
      ],
      "text/plain": [
       "AgCls =  Columns 1 through 6:\n",
       "\n",
       "            0            0            0            0            0            0\n",
       "\n",
       " Columns 7 through 12:\n",
       "\n",
       "            0            0            0            0            0            0\n",
       "\n",
       " Columns 13 through 18:\n",
       "\n",
       "            0            0            0            0            0            0\n",
       "\n",
       " Columns 19 through 24:\n",
       "\n",
       "            0            0            0            0            0            0\n",
       "\n",
       " Columns 25 through 30:\n",
       "\n",
       "            0            0            0            0            0            0\n",
       "\n",
       " Columns 31 through 34:\n",
       "\n",
       "            0            0            0            0\n"
      ]
     },
     "metadata": {},
     "output_type": "display_data"
    },
    {
     "data": {
      "text/html": [
       "<table><tr><th><i>AgBrs<i></th><th>1</th><th>2</th><th>3</th><th>4</th><th>5</th><th>6</th><th>7</th><th>8</th><th>9</th><th>10</th><th>11</th><th>12</th><th>13</th><th>14</th><th>15</th><th>16</th><th>17</th><th>18</th><th>19</th><th>20</th><th>21</th><th>22</th><th>23</th><th>24</th><th>25</th><th>26</th><th>27</th><th>28</th><th>29</th><th>30</th><th>31</th><th>32</th><th>33</th><th>34</th><th>35</th></tr><tr><th>1</th><td>0</td><td>0</td><td>0</td><td>0</td><td>0</td><td>0</td><td>0</td><td>0</td><td>0</td><td>0</td><td>0</td><td>0</td><td>5.15047e-09</td><td>1.98425e-08</td><td>4.31275e-08</td><td>8.00315e-08</td><td>1.38521e-07</td><td>2.31221e-07</td><td>3.78141e-07</td><td>6.10991e-07</td><td>9.80031e-07</td><td>1.56493e-06</td><td>2.49193e-06</td><td>3.96113e-06</td><td>6.28963e-06</td><td>9.98003e-06</td><td>1.5829e-05</td><td>2.5099e-05</td><td>3.9791e-05</td><td>6.3076e-05</td><td>9.998e-05</td><td>0.00015847</td><td>0.00025117</td><td>0.00039809</td><td>0.00063094</td></tr></table>"
      ],
      "text/plain": [
       "AgBrs =  Columns 1 through 6:\n",
       "\n",
       "            0            0            0            0            0            0\n",
       "\n",
       " Columns 7 through 12:\n",
       "\n",
       "            0            0            0            0            0            0\n",
       "\n",
       " Columns 13 through 18:\n",
       "\n",
       "   5.1505e-09   1.9842e-08   4.3127e-08   8.0031e-08   1.3852e-07   2.3122e-07\n",
       "\n",
       " Columns 19 through 24:\n",
       "\n",
       "   3.7814e-07   6.1099e-07   9.8003e-07   1.5649e-06   2.4919e-06   3.9611e-06\n",
       "\n",
       " Columns 25 through 30:\n",
       "\n",
       "   6.2896e-06   9.9800e-06   1.5829e-05   2.5099e-05   3.9791e-05   6.3076e-05\n",
       "\n",
       " Columns 31 through 35:\n",
       "\n",
       "   9.9980e-05   1.5847e-04   2.5117e-04   3.9809e-04   6.3094e-04\n"
      ]
     },
     "metadata": {},
     "output_type": "display_data"
    },
    {
     "data": {
      "text/html": [
       "<table><tr><th><i>AgCls<i></th><th>1</th><th>2</th><th>3</th><th>4</th><th>5</th><th>6</th><th>7</th><th>8</th><th>9</th><th>10</th><th>11</th><th>12</th><th>13</th><th>14</th><th>15</th><th>16</th><th>17</th><th>18</th><th>19</th><th>20</th><th>21</th><th>22</th><th>23</th><th>24</th><th>25</th><th>26</th><th>27</th><th>28</th><th>29</th><th>30</th><th>31</th><th>32</th><th>33</th><th>34</th><th>35</th></tr><tr><th>1</th><td>0</td><td>0</td><td>0</td><td>0</td><td>0</td><td>0</td><td>0</td><td>0</td><td>0</td><td>0</td><td>0</td><td>0</td><td>0</td><td>0</td><td>0</td><td>0</td><td>0</td><td>0</td><td>0</td><td>0</td><td>0</td><td>0</td><td>0</td><td>0</td><td>0</td><td>0</td><td>0</td><td>0</td><td>0</td><td>0</td><td>0</td><td>0</td><td>0</td><td>0</td><td>0</td></tr></table>"
      ],
      "text/plain": [
       "AgCls =  Columns 1 through 6:\n",
       "\n",
       "            0            0            0            0            0            0\n",
       "\n",
       " Columns 7 through 12:\n",
       "\n",
       "            0            0            0            0            0            0\n",
       "\n",
       " Columns 13 through 18:\n",
       "\n",
       "            0            0            0            0            0            0\n",
       "\n",
       " Columns 19 through 24:\n",
       "\n",
       "            0            0            0            0            0            0\n",
       "\n",
       " Columns 25 through 30:\n",
       "\n",
       "            0            0            0            0            0            0\n",
       "\n",
       " Columns 31 through 35:\n",
       "\n",
       "            0            0            0            0            0\n"
      ]
     },
     "metadata": {},
     "output_type": "display_data"
    },
    {
     "data": {
      "text/html": [
       "<table><tr><th><i>AgBrs<i></th><th>1</th><th>2</th><th>3</th><th>4</th><th>5</th><th>6</th><th>7</th><th>8</th><th>9</th><th>10</th><th>11</th><th>12</th><th>13</th><th>14</th><th>15</th><th>16</th><th>17</th><th>18</th><th>19</th><th>20</th><th>21</th><th>22</th><th>23</th><th>24</th><th>25</th><th>26</th><th>27</th><th>28</th><th>29</th><th>30</th><th>31</th><th>32</th><th>33</th><th>34</th><th>35</th><th>36</th></tr><tr><th>1</th><td>0</td><td>0</td><td>0</td><td>0</td><td>0</td><td>0</td><td>0</td><td>0</td><td>0</td><td>0</td><td>0</td><td>0</td><td>5.15047e-09</td><td>1.98425e-08</td><td>4.31275e-08</td><td>8.00315e-08</td><td>1.38521e-07</td><td>2.31221e-07</td><td>3.78141e-07</td><td>6.10991e-07</td><td>9.80031e-07</td><td>1.56493e-06</td><td>2.49193e-06</td><td>3.96113e-06</td><td>6.28963e-06</td><td>9.98003e-06</td><td>1.5829e-05</td><td>2.5099e-05</td><td>3.9791e-05</td><td>6.3076e-05</td><td>9.998e-05</td><td>0.00015847</td><td>0.00025117</td><td>0.00039809</td><td>0.00063094</td><td>0.00099998</td></tr></table>"
      ],
      "text/plain": [
       "AgBrs =  Columns 1 through 6:\n",
       "\n",
       "            0            0            0            0            0            0\n",
       "\n",
       " Columns 7 through 12:\n",
       "\n",
       "            0            0            0            0            0            0\n",
       "\n",
       " Columns 13 through 18:\n",
       "\n",
       "   5.1505e-09   1.9842e-08   4.3127e-08   8.0031e-08   1.3852e-07   2.3122e-07\n",
       "\n",
       " Columns 19 through 24:\n",
       "\n",
       "   3.7814e-07   6.1099e-07   9.8003e-07   1.5649e-06   2.4919e-06   3.9611e-06\n",
       "\n",
       " Columns 25 through 30:\n",
       "\n",
       "   6.2896e-06   9.9800e-06   1.5829e-05   2.5099e-05   3.9791e-05   6.3076e-05\n",
       "\n",
       " Columns 31 through 36:\n",
       "\n",
       "   9.9980e-05   1.5847e-04   2.5117e-04   3.9809e-04   6.3094e-04   9.9998e-04\n"
      ]
     },
     "metadata": {},
     "output_type": "display_data"
    },
    {
     "data": {
      "text/html": [
       "<table><tr><th><i>AgCls<i></th><th>1</th><th>2</th><th>3</th><th>4</th><th>5</th><th>6</th><th>7</th><th>8</th><th>9</th><th>10</th><th>11</th><th>12</th><th>13</th><th>14</th><th>15</th><th>16</th><th>17</th><th>18</th><th>19</th><th>20</th><th>21</th><th>22</th><th>23</th><th>24</th><th>25</th><th>26</th><th>27</th><th>28</th><th>29</th><th>30</th><th>31</th><th>32</th><th>33</th><th>34</th><th>35</th><th>36</th></tr><tr><th>1</th><td>0</td><td>0</td><td>0</td><td>0</td><td>0</td><td>0</td><td>0</td><td>0</td><td>0</td><td>0</td><td>0</td><td>0</td><td>0</td><td>0</td><td>0</td><td>0</td><td>0</td><td>0</td><td>0</td><td>0</td><td>0</td><td>0</td><td>0</td><td>0</td><td>0</td><td>0</td><td>0</td><td>0</td><td>0</td><td>0</td><td>0</td><td>0</td><td>0</td><td>0</td><td>0</td><td>0</td></tr></table>"
      ],
      "text/plain": [
       "AgCls =  Columns 1 through 6:\n",
       "\n",
       "            0            0            0            0            0            0\n",
       "\n",
       " Columns 7 through 12:\n",
       "\n",
       "            0            0            0            0            0            0\n",
       "\n",
       " Columns 13 through 18:\n",
       "\n",
       "            0            0            0            0            0            0\n",
       "\n",
       " Columns 19 through 24:\n",
       "\n",
       "            0            0            0            0            0            0\n",
       "\n",
       " Columns 25 through 30:\n",
       "\n",
       "            0            0            0            0            0            0\n",
       "\n",
       " Columns 31 through 36:\n",
       "\n",
       "            0            0            0            0            0            0\n"
      ]
     },
     "metadata": {},
     "output_type": "display_data"
    },
    {
     "data": {
      "text/html": [
       "<table><tr><th><i>AgBrs<i></th><th>1</th><th>2</th><th>3</th><th>4</th><th>5</th><th>6</th><th>7</th><th>8</th><th>9</th><th>10</th><th>11</th><th>12</th><th>13</th><th>14</th><th>15</th><th>16</th><th>17</th><th>18</th><th>19</th><th>20</th><th>21</th><th>22</th><th>23</th><th>24</th><th>25</th><th>26</th><th>27</th><th>28</th><th>29</th><th>30</th><th>31</th><th>32</th><th>33</th><th>34</th><th>35</th><th>36</th><th>37</th></tr><tr><th>1</th><td>0</td><td>0</td><td>0</td><td>0</td><td>0</td><td>0</td><td>0</td><td>0</td><td>0</td><td>0</td><td>0</td><td>0</td><td>5.15047e-09</td><td>1.98425e-08</td><td>4.31275e-08</td><td>8.00315e-08</td><td>1.38521e-07</td><td>2.31221e-07</td><td>3.78141e-07</td><td>6.10991e-07</td><td>9.80031e-07</td><td>1.56493e-06</td><td>2.49193e-06</td><td>3.96113e-06</td><td>6.28963e-06</td><td>9.98003e-06</td><td>1.5829e-05</td><td>2.5099e-05</td><td>3.9791e-05</td><td>6.3076e-05</td><td>9.998e-05</td><td>0.00015847</td><td>0.00025117</td><td>0.00039809</td><td>0.00063094</td><td>0.00099998</td><td>0.00158488</td></tr></table>"
      ],
      "text/plain": [
       "AgBrs =  Columns 1 through 6:\n",
       "\n",
       "            0            0            0            0            0            0\n",
       "\n",
       " Columns 7 through 12:\n",
       "\n",
       "            0            0            0            0            0            0\n",
       "\n",
       " Columns 13 through 18:\n",
       "\n",
       "   5.1505e-09   1.9842e-08   4.3127e-08   8.0031e-08   1.3852e-07   2.3122e-07\n",
       "\n",
       " Columns 19 through 24:\n",
       "\n",
       "   3.7814e-07   6.1099e-07   9.8003e-07   1.5649e-06   2.4919e-06   3.9611e-06\n",
       "\n",
       " Columns 25 through 30:\n",
       "\n",
       "   6.2896e-06   9.9800e-06   1.5829e-05   2.5099e-05   3.9791e-05   6.3076e-05\n",
       "\n",
       " Columns 31 through 36:\n",
       "\n",
       "   9.9980e-05   1.5847e-04   2.5117e-04   3.9809e-04   6.3094e-04   9.9998e-04\n",
       "\n",
       " Column 37:\n",
       "\n",
       "   1.5849e-03\n"
      ]
     },
     "metadata": {},
     "output_type": "display_data"
    },
    {
     "data": {
      "text/html": [
       "<table><tr><th><i>AgCls<i></th><th>1</th><th>2</th><th>3</th><th>4</th><th>5</th><th>6</th><th>7</th><th>8</th><th>9</th><th>10</th><th>11</th><th>12</th><th>13</th><th>14</th><th>15</th><th>16</th><th>17</th><th>18</th><th>19</th><th>20</th><th>21</th><th>22</th><th>23</th><th>24</th><th>25</th><th>26</th><th>27</th><th>28</th><th>29</th><th>30</th><th>31</th><th>32</th><th>33</th><th>34</th><th>35</th><th>36</th><th>37</th></tr><tr><th>1</th><td>0</td><td>0</td><td>0</td><td>0</td><td>0</td><td>0</td><td>0</td><td>0</td><td>0</td><td>0</td><td>0</td><td>0</td><td>0</td><td>0</td><td>0</td><td>0</td><td>0</td><td>0</td><td>0</td><td>0</td><td>0</td><td>0</td><td>0</td><td>0</td><td>0</td><td>0</td><td>0</td><td>0</td><td>0</td><td>0</td><td>0</td><td>0</td><td>0</td><td>0</td><td>0</td><td>0</td><td>0</td></tr></table>"
      ],
      "text/plain": [
       "AgCls =  Columns 1 through 6:\n",
       "\n",
       "            0            0            0            0            0            0\n",
       "\n",
       " Columns 7 through 12:\n",
       "\n",
       "            0            0            0            0            0            0\n",
       "\n",
       " Columns 13 through 18:\n",
       "\n",
       "            0            0            0            0            0            0\n",
       "\n",
       " Columns 19 through 24:\n",
       "\n",
       "            0            0            0            0            0            0\n",
       "\n",
       " Columns 25 through 30:\n",
       "\n",
       "            0            0            0            0            0            0\n",
       "\n",
       " Columns 31 through 36:\n",
       "\n",
       "            0            0            0            0            0            0\n",
       "\n",
       " Column 37:\n",
       "\n",
       "            0\n"
      ]
     },
     "metadata": {},
     "output_type": "display_data"
    },
    {
     "data": {
      "text/html": [
       "<table><tr><th><i>AgBrs<i></th><th>1</th><th>2</th><th>3</th><th>4</th><th>5</th><th>6</th><th>7</th><th>8</th><th>9</th><th>10</th><th>11</th><th>12</th><th>13</th><th>14</th><th>15</th><th>16</th><th>17</th><th>18</th><th>19</th><th>20</th><th>21</th><th>22</th><th>23</th><th>24</th><th>25</th><th>26</th><th>27</th><th>28</th><th>29</th><th>30</th><th>31</th><th>32</th><th>33</th><th>34</th><th>35</th><th>36</th><th>37</th><th>38</th></tr><tr><th>1</th><td>0</td><td>0</td><td>0</td><td>0</td><td>0</td><td>0</td><td>0</td><td>0</td><td>0</td><td>0</td><td>0</td><td>0</td><td>5.15047e-09</td><td>1.98425e-08</td><td>4.31275e-08</td><td>8.00315e-08</td><td>1.38521e-07</td><td>2.31221e-07</td><td>3.78141e-07</td><td>6.10991e-07</td><td>9.80031e-07</td><td>1.56493e-06</td><td>2.49193e-06</td><td>3.96113e-06</td><td>6.28963e-06</td><td>9.98003e-06</td><td>1.5829e-05</td><td>2.5099e-05</td><td>3.9791e-05</td><td>6.3076e-05</td><td>9.998e-05</td><td>0.00015847</td><td>0.00025117</td><td>0.00039809</td><td>0.00063094</td><td>0.00099998</td><td>0.00158488</td><td>0.00251188</td></tr></table>"
      ],
      "text/plain": [
       "AgBrs =  Columns 1 through 6:\n",
       "\n",
       "            0            0            0            0            0            0\n",
       "\n",
       " Columns 7 through 12:\n",
       "\n",
       "            0            0            0            0            0            0\n",
       "\n",
       " Columns 13 through 18:\n",
       "\n",
       "   5.1505e-09   1.9842e-08   4.3127e-08   8.0031e-08   1.3852e-07   2.3122e-07\n",
       "\n",
       " Columns 19 through 24:\n",
       "\n",
       "   3.7814e-07   6.1099e-07   9.8003e-07   1.5649e-06   2.4919e-06   3.9611e-06\n",
       "\n",
       " Columns 25 through 30:\n",
       "\n",
       "   6.2896e-06   9.9800e-06   1.5829e-05   2.5099e-05   3.9791e-05   6.3076e-05\n",
       "\n",
       " Columns 31 through 36:\n",
       "\n",
       "   9.9980e-05   1.5847e-04   2.5117e-04   3.9809e-04   6.3094e-04   9.9998e-04\n",
       "\n",
       " Columns 37 and 38:\n",
       "\n",
       "   1.5849e-03   2.5119e-03\n"
      ]
     },
     "metadata": {},
     "output_type": "display_data"
    },
    {
     "data": {
      "text/html": [
       "<table><tr><th><i>AgCls<i></th><th>1</th><th>2</th><th>3</th><th>4</th><th>5</th><th>6</th><th>7</th><th>8</th><th>9</th><th>10</th><th>11</th><th>12</th><th>13</th><th>14</th><th>15</th><th>16</th><th>17</th><th>18</th><th>19</th><th>20</th><th>21</th><th>22</th><th>23</th><th>24</th><th>25</th><th>26</th><th>27</th><th>28</th><th>29</th><th>30</th><th>31</th><th>32</th><th>33</th><th>34</th><th>35</th><th>36</th><th>37</th><th>38</th></tr><tr><th>1</th><td>0</td><td>0</td><td>0</td><td>0</td><td>0</td><td>0</td><td>0</td><td>0</td><td>0</td><td>0</td><td>0</td><td>0</td><td>0</td><td>0</td><td>0</td><td>0</td><td>0</td><td>0</td><td>0</td><td>0</td><td>0</td><td>0</td><td>0</td><td>0</td><td>0</td><td>0</td><td>0</td><td>0</td><td>0</td><td>0</td><td>0</td><td>0</td><td>0</td><td>0</td><td>0</td><td>0</td><td>0</td><td>0</td></tr></table>"
      ],
      "text/plain": [
       "AgCls =  Columns 1 through 6:\n",
       "\n",
       "            0            0            0            0            0            0\n",
       "\n",
       " Columns 7 through 12:\n",
       "\n",
       "            0            0            0            0            0            0\n",
       "\n",
       " Columns 13 through 18:\n",
       "\n",
       "            0            0            0            0            0            0\n",
       "\n",
       " Columns 19 through 24:\n",
       "\n",
       "            0            0            0            0            0            0\n",
       "\n",
       " Columns 25 through 30:\n",
       "\n",
       "            0            0            0            0            0            0\n",
       "\n",
       " Columns 31 through 36:\n",
       "\n",
       "            0            0            0            0            0            0\n",
       "\n",
       " Columns 37 and 38:\n",
       "\n",
       "            0            0\n"
      ]
     },
     "metadata": {},
     "output_type": "display_data"
    },
    {
     "data": {
      "text/html": [
       "<table><tr><th><i>AgBrs<i></th><th>1</th><th>2</th><th>3</th><th>4</th><th>5</th><th>6</th><th>7</th><th>8</th><th>9</th><th>10</th><th>11</th><th>12</th><th>13</th><th>14</th><th>15</th><th>16</th><th>17</th><th>18</th><th>19</th><th>20</th><th>21</th><th>22</th><th>23</th><th>24</th><th>25</th><th>26</th><th>27</th><th>28</th><th>29</th><th>30</th><th>31</th><th>32</th><th>33</th><th>34</th><th>35</th><th>36</th><th>37</th><th>38</th><th>39</th></tr><tr><th>1</th><td>0</td><td>0</td><td>0</td><td>0</td><td>0</td><td>0</td><td>0</td><td>0</td><td>0</td><td>0</td><td>0</td><td>0</td><td>5.15047e-09</td><td>1.98425e-08</td><td>4.31275e-08</td><td>8.00315e-08</td><td>1.38521e-07</td><td>2.31221e-07</td><td>3.78141e-07</td><td>6.10991e-07</td><td>9.80031e-07</td><td>1.56493e-06</td><td>2.49193e-06</td><td>3.96113e-06</td><td>6.28963e-06</td><td>9.98003e-06</td><td>1.5829e-05</td><td>2.5099e-05</td><td>3.9791e-05</td><td>6.3076e-05</td><td>9.998e-05</td><td>0.00015847</td><td>0.00025117</td><td>0.00039809</td><td>0.00063094</td><td>0.00099998</td><td>0.00158488</td><td>0.00251188</td><td>0.00398108</td></tr></table>"
      ],
      "text/plain": [
       "AgBrs =  Columns 1 through 6:\n",
       "\n",
       "            0            0            0            0            0            0\n",
       "\n",
       " Columns 7 through 12:\n",
       "\n",
       "            0            0            0            0            0            0\n",
       "\n",
       " Columns 13 through 18:\n",
       "\n",
       "   5.1505e-09   1.9842e-08   4.3127e-08   8.0031e-08   1.3852e-07   2.3122e-07\n",
       "\n",
       " Columns 19 through 24:\n",
       "\n",
       "   3.7814e-07   6.1099e-07   9.8003e-07   1.5649e-06   2.4919e-06   3.9611e-06\n",
       "\n",
       " Columns 25 through 30:\n",
       "\n",
       "   6.2896e-06   9.9800e-06   1.5829e-05   2.5099e-05   3.9791e-05   6.3076e-05\n",
       "\n",
       " Columns 31 through 36:\n",
       "\n",
       "   9.9980e-05   1.5847e-04   2.5117e-04   3.9809e-04   6.3094e-04   9.9998e-04\n",
       "\n",
       " Columns 37 through 39:\n",
       "\n",
       "   1.5849e-03   2.5119e-03   3.9811e-03\n"
      ]
     },
     "metadata": {},
     "output_type": "display_data"
    },
    {
     "data": {
      "text/html": [
       "<table><tr><th><i>AgCls<i></th><th>1</th><th>2</th><th>3</th><th>4</th><th>5</th><th>6</th><th>7</th><th>8</th><th>9</th><th>10</th><th>11</th><th>12</th><th>13</th><th>14</th><th>15</th><th>16</th><th>17</th><th>18</th><th>19</th><th>20</th><th>21</th><th>22</th><th>23</th><th>24</th><th>25</th><th>26</th><th>27</th><th>28</th><th>29</th><th>30</th><th>31</th><th>32</th><th>33</th><th>34</th><th>35</th><th>36</th><th>37</th><th>38</th><th>39</th></tr><tr><th>1</th><td>0</td><td>0</td><td>0</td><td>0</td><td>0</td><td>0</td><td>0</td><td>0</td><td>0</td><td>0</td><td>0</td><td>0</td><td>0</td><td>0</td><td>0</td><td>0</td><td>0</td><td>0</td><td>0</td><td>0</td><td>0</td><td>0</td><td>0</td><td>0</td><td>0</td><td>0</td><td>0</td><td>0</td><td>0</td><td>0</td><td>0</td><td>0</td><td>0</td><td>0</td><td>0</td><td>0</td><td>0</td><td>0</td><td>0</td></tr></table>"
      ],
      "text/plain": [
       "AgCls =  Columns 1 through 6:\n",
       "\n",
       "            0            0            0            0            0            0\n",
       "\n",
       " Columns 7 through 12:\n",
       "\n",
       "            0            0            0            0            0            0\n",
       "\n",
       " Columns 13 through 18:\n",
       "\n",
       "            0            0            0            0            0            0\n",
       "\n",
       " Columns 19 through 24:\n",
       "\n",
       "            0            0            0            0            0            0\n",
       "\n",
       " Columns 25 through 30:\n",
       "\n",
       "            0            0            0            0            0            0\n",
       "\n",
       " Columns 31 through 36:\n",
       "\n",
       "            0            0            0            0            0            0\n",
       "\n",
       " Columns 37 through 39:\n",
       "\n",
       "            0            0            0\n"
      ]
     },
     "metadata": {},
     "output_type": "display_data"
    },
    {
     "data": {
      "text/html": [
       "<table><tr><th><i>AgBrs<i></th><th>1</th><th>2</th><th>3</th><th>4</th><th>5</th><th>6</th><th>7</th><th>8</th><th>9</th><th>10</th><th>11</th><th>12</th><th>13</th><th>14</th><th>15</th><th>16</th><th>17</th><th>18</th><th>19</th><th>20</th><th>21</th><th>22</th><th>23</th><th>24</th><th>25</th><th>26</th><th>27</th><th>28</th><th>29</th><th>30</th><th>31</th><th>32</th><th>33</th><th>34</th><th>35</th><th>36</th><th>37</th><th>38</th><th>39</th><th>40</th></tr><tr><th>1</th><td>0</td><td>0</td><td>0</td><td>0</td><td>0</td><td>0</td><td>0</td><td>0</td><td>0</td><td>0</td><td>0</td><td>0</td><td>5.15047e-09</td><td>1.98425e-08</td><td>4.31275e-08</td><td>8.00315e-08</td><td>1.38521e-07</td><td>2.31221e-07</td><td>3.78141e-07</td><td>6.10991e-07</td><td>9.80031e-07</td><td>1.56493e-06</td><td>2.49193e-06</td><td>3.96113e-06</td><td>6.28963e-06</td><td>9.98003e-06</td><td>1.5829e-05</td><td>2.5099e-05</td><td>3.9791e-05</td><td>6.3076e-05</td><td>9.998e-05</td><td>0.00015847</td><td>0.00025117</td><td>0.00039809</td><td>0.00063094</td><td>0.00099998</td><td>0.00158488</td><td>0.00251188</td><td>0.00398108</td><td>0.00630958</td></tr></table>"
      ],
      "text/plain": [
       "AgBrs =  Columns 1 through 6:\n",
       "\n",
       "            0            0            0            0            0            0\n",
       "\n",
       " Columns 7 through 12:\n",
       "\n",
       "            0            0            0            0            0            0\n",
       "\n",
       " Columns 13 through 18:\n",
       "\n",
       "   5.1505e-09   1.9842e-08   4.3127e-08   8.0031e-08   1.3852e-07   2.3122e-07\n",
       "\n",
       " Columns 19 through 24:\n",
       "\n",
       "   3.7814e-07   6.1099e-07   9.8003e-07   1.5649e-06   2.4919e-06   3.9611e-06\n",
       "\n",
       " Columns 25 through 30:\n",
       "\n",
       "   6.2896e-06   9.9800e-06   1.5829e-05   2.5099e-05   3.9791e-05   6.3076e-05\n",
       "\n",
       " Columns 31 through 36:\n",
       "\n",
       "   9.9980e-05   1.5847e-04   2.5117e-04   3.9809e-04   6.3094e-04   9.9998e-04\n",
       "\n",
       " Columns 37 through 40:\n",
       "\n",
       "   1.5849e-03   2.5119e-03   3.9811e-03   6.3096e-03\n"
      ]
     },
     "metadata": {},
     "output_type": "display_data"
    },
    {
     "data": {
      "text/html": [
       "<table><tr><th><i>AgCls<i></th><th>1</th><th>2</th><th>3</th><th>4</th><th>5</th><th>6</th><th>7</th><th>8</th><th>9</th><th>10</th><th>11</th><th>12</th><th>13</th><th>14</th><th>15</th><th>16</th><th>17</th><th>18</th><th>19</th><th>20</th><th>21</th><th>22</th><th>23</th><th>24</th><th>25</th><th>26</th><th>27</th><th>28</th><th>29</th><th>30</th><th>31</th><th>32</th><th>33</th><th>34</th><th>35</th><th>36</th><th>37</th><th>38</th><th>39</th><th>40</th></tr><tr><th>1</th><td>0</td><td>0</td><td>0</td><td>0</td><td>0</td><td>0</td><td>0</td><td>0</td><td>0</td><td>0</td><td>0</td><td>0</td><td>0</td><td>0</td><td>0</td><td>0</td><td>0</td><td>0</td><td>0</td><td>0</td><td>0</td><td>0</td><td>0</td><td>0</td><td>0</td><td>0</td><td>0</td><td>0</td><td>0</td><td>0</td><td>0</td><td>0</td><td>0</td><td>0</td><td>0</td><td>0</td><td>0</td><td>0</td><td>0</td><td>0</td></tr></table>"
      ],
      "text/plain": [
       "AgCls =  Columns 1 through 6:\n",
       "\n",
       "            0            0            0            0            0            0\n",
       "\n",
       " Columns 7 through 12:\n",
       "\n",
       "            0            0            0            0            0            0\n",
       "\n",
       " Columns 13 through 18:\n",
       "\n",
       "            0            0            0            0            0            0\n",
       "\n",
       " Columns 19 through 24:\n",
       "\n",
       "            0            0            0            0            0            0\n",
       "\n",
       " Columns 25 through 30:\n",
       "\n",
       "            0            0            0            0            0            0\n",
       "\n",
       " Columns 31 through 36:\n",
       "\n",
       "            0            0            0            0            0            0\n",
       "\n",
       " Columns 37 through 40:\n",
       "\n",
       "            0            0            0            0\n"
      ]
     },
     "metadata": {},
     "output_type": "display_data"
    },
    {
     "data": {
      "text/html": [
       "<table><tr><th><i>AgBrs<i></th><th>1</th><th>2</th><th>3</th><th>4</th><th>5</th><th>6</th><th>7</th><th>8</th><th>9</th><th>10</th><th>11</th><th>12</th><th>13</th><th>14</th><th>15</th><th>16</th><th>17</th><th>18</th><th>19</th><th>20</th><th>21</th><th>22</th><th>23</th><th>24</th><th>25</th><th>26</th><th>27</th><th>28</th><th>29</th><th>30</th><th>31</th><th>32</th><th>33</th><th>34</th><th>35</th><th>36</th><th>37</th><th>38</th><th>39</th><th>40</th><th>41</th></tr><tr><th>1</th><td>0</td><td>0</td><td>0</td><td>0</td><td>0</td><td>0</td><td>0</td><td>0</td><td>0</td><td>0</td><td>0</td><td>0</td><td>5.15047e-09</td><td>1.98425e-08</td><td>4.31275e-08</td><td>8.00315e-08</td><td>1.38521e-07</td><td>2.31221e-07</td><td>3.78141e-07</td><td>6.10991e-07</td><td>9.80031e-07</td><td>1.56493e-06</td><td>2.49193e-06</td><td>3.96113e-06</td><td>6.28963e-06</td><td>9.98003e-06</td><td>1.5829e-05</td><td>2.5099e-05</td><td>3.9791e-05</td><td>6.3076e-05</td><td>9.998e-05</td><td>0.00015847</td><td>0.00025117</td><td>0.00039809</td><td>0.00063094</td><td>0.00099998</td><td>0.00158488</td><td>0.00251188</td><td>0.00398108</td><td>0.00630958</td><td>0.00999919</td></tr></table>"
      ],
      "text/plain": [
       "AgBrs =  Columns 1 through 6:\n",
       "\n",
       "            0            0            0            0            0            0\n",
       "\n",
       " Columns 7 through 12:\n",
       "\n",
       "            0            0            0            0            0            0\n",
       "\n",
       " Columns 13 through 18:\n",
       "\n",
       "   5.1505e-09   1.9842e-08   4.3127e-08   8.0031e-08   1.3852e-07   2.3122e-07\n",
       "\n",
       " Columns 19 through 24:\n",
       "\n",
       "   3.7814e-07   6.1099e-07   9.8003e-07   1.5649e-06   2.4919e-06   3.9611e-06\n",
       "\n",
       " Columns 25 through 30:\n",
       "\n",
       "   6.2896e-06   9.9800e-06   1.5829e-05   2.5099e-05   3.9791e-05   6.3076e-05\n",
       "\n",
       " Columns 31 through 36:\n",
       "\n",
       "   9.9980e-05   1.5847e-04   2.5117e-04   3.9809e-04   6.3094e-04   9.9998e-04\n",
       "\n",
       " Columns 37 through 41:\n",
       "\n",
       "   1.5849e-03   2.5119e-03   3.9811e-03   6.3096e-03   9.9992e-03\n"
      ]
     },
     "metadata": {},
     "output_type": "display_data"
    },
    {
     "data": {
      "text/html": [
       "<table><tr><th><i>AgCls<i></th><th>1</th><th>2</th><th>3</th><th>4</th><th>5</th><th>6</th><th>7</th><th>8</th><th>9</th><th>10</th><th>11</th><th>12</th><th>13</th><th>14</th><th>15</th><th>16</th><th>17</th><th>18</th><th>19</th><th>20</th><th>21</th><th>22</th><th>23</th><th>24</th><th>25</th><th>26</th><th>27</th><th>28</th><th>29</th><th>30</th><th>31</th><th>32</th><th>33</th><th>34</th><th>35</th><th>36</th><th>37</th><th>38</th><th>39</th><th>40</th><th>41</th></tr><tr><th>1</th><td>0</td><td>0</td><td>0</td><td>0</td><td>0</td><td>0</td><td>0</td><td>0</td><td>0</td><td>0</td><td>0</td><td>0</td><td>0</td><td>0</td><td>0</td><td>0</td><td>0</td><td>0</td><td>0</td><td>0</td><td>0</td><td>0</td><td>0</td><td>0</td><td>0</td><td>0</td><td>0</td><td>0</td><td>0</td><td>0</td><td>0</td><td>0</td><td>0</td><td>0</td><td>0</td><td>0</td><td>0</td><td>0</td><td>0</td><td>0</td><td>0</td></tr></table>"
      ],
      "text/plain": [
       "AgCls =  Columns 1 through 6:\n",
       "\n",
       "            0            0            0            0            0            0\n",
       "\n",
       " Columns 7 through 12:\n",
       "\n",
       "            0            0            0            0            0            0\n",
       "\n",
       " Columns 13 through 18:\n",
       "\n",
       "            0            0            0            0            0            0\n",
       "\n",
       " Columns 19 through 24:\n",
       "\n",
       "            0            0            0            0            0            0\n",
       "\n",
       " Columns 25 through 30:\n",
       "\n",
       "            0            0            0            0            0            0\n",
       "\n",
       " Columns 31 through 36:\n",
       "\n",
       "            0            0            0            0            0            0\n",
       "\n",
       " Columns 37 through 41:\n",
       "\n",
       "            0            0            0            0            0\n"
      ]
     },
     "metadata": {},
     "output_type": "display_data"
    },
    {
     "data": {
      "text/html": [
       "<table><tr><th><i>AgBrs<i></th><th>1</th><th>2</th><th>3</th><th>4</th><th>5</th><th>6</th><th>7</th><th>8</th><th>9</th><th>10</th><th>11</th><th>12</th><th>13</th><th>14</th><th>15</th><th>16</th><th>17</th><th>18</th><th>19</th><th>20</th><th>21</th><th>22</th><th>23</th><th>24</th><th>25</th><th>26</th><th>27</th><th>28</th><th>29</th><th>30</th><th>31</th><th>32</th><th>33</th><th>34</th><th>35</th><th>36</th><th>37</th><th>38</th><th>39</th><th>40</th><th>41</th><th>42</th></tr><tr><th>1</th><td>0</td><td>0</td><td>0</td><td>0</td><td>0</td><td>0</td><td>0</td><td>0</td><td>0</td><td>0</td><td>0</td><td>0</td><td>5.15047e-09</td><td>1.98425e-08</td><td>4.31275e-08</td><td>8.00315e-08</td><td>1.38521e-07</td><td>2.31221e-07</td><td>3.78141e-07</td><td>6.10991e-07</td><td>9.80031e-07</td><td>1.56493e-06</td><td>2.49193e-06</td><td>3.96113e-06</td><td>6.28963e-06</td><td>9.98003e-06</td><td>1.5829e-05</td><td>2.5099e-05</td><td>3.9791e-05</td><td>6.3076e-05</td><td>9.998e-05</td><td>0.00015847</td><td>0.00025117</td><td>0.00039809</td><td>0.00063094</td><td>0.00099998</td><td>0.00158488</td><td>0.00251188</td><td>0.00398108</td><td>0.00630958</td><td>0.00999919</td><td>0.00999988</td></tr></table>"
      ],
      "text/plain": [
       "AgBrs =  Columns 1 through 6:\n",
       "\n",
       "            0            0            0            0            0            0\n",
       "\n",
       " Columns 7 through 12:\n",
       "\n",
       "            0            0            0            0            0            0\n",
       "\n",
       " Columns 13 through 18:\n",
       "\n",
       "   5.1505e-09   1.9842e-08   4.3127e-08   8.0031e-08   1.3852e-07   2.3122e-07\n",
       "\n",
       " Columns 19 through 24:\n",
       "\n",
       "   3.7814e-07   6.1099e-07   9.8003e-07   1.5649e-06   2.4919e-06   3.9611e-06\n",
       "\n",
       " Columns 25 through 30:\n",
       "\n",
       "   6.2896e-06   9.9800e-06   1.5829e-05   2.5099e-05   3.9791e-05   6.3076e-05\n",
       "\n",
       " Columns 31 through 36:\n",
       "\n",
       "   9.9980e-05   1.5847e-04   2.5117e-04   3.9809e-04   6.3094e-04   9.9998e-04\n",
       "\n",
       " Columns 37 through 42:\n",
       "\n",
       "   1.5849e-03   2.5119e-03   3.9811e-03   6.3096e-03   9.9992e-03   9.9999e-03\n"
      ]
     },
     "metadata": {},
     "output_type": "display_data"
    },
    {
     "data": {
      "text/html": [
       "<table><tr><th><i>AgCls<i></th><th>1</th><th>2</th><th>3</th><th>4</th><th>5</th><th>6</th><th>7</th><th>8</th><th>9</th><th>10</th><th>11</th><th>12</th><th>13</th><th>14</th><th>15</th><th>16</th><th>17</th><th>18</th><th>19</th><th>20</th><th>21</th><th>22</th><th>23</th><th>24</th><th>25</th><th>26</th><th>27</th><th>28</th><th>29</th><th>30</th><th>31</th><th>32</th><th>33</th><th>34</th><th>35</th><th>36</th><th>37</th><th>38</th><th>39</th><th>40</th><th>41</th><th>42</th></tr><tr><th>1</th><td>0</td><td>0</td><td>0</td><td>0</td><td>0</td><td>0</td><td>0</td><td>0</td><td>0</td><td>0</td><td>0</td><td>0</td><td>0</td><td>0</td><td>0</td><td>0</td><td>0</td><td>0</td><td>0</td><td>0</td><td>0</td><td>0</td><td>0</td><td>0</td><td>0</td><td>0</td><td>0</td><td>0</td><td>0</td><td>0</td><td>0</td><td>0</td><td>0</td><td>0</td><td>0</td><td>0</td><td>0</td><td>0</td><td>0</td><td>0</td><td>0</td><td>0</td></tr></table>"
      ],
      "text/plain": [
       "AgCls =  Columns 1 through 6:\n",
       "\n",
       "            0            0            0            0            0            0\n",
       "\n",
       " Columns 7 through 12:\n",
       "\n",
       "            0            0            0            0            0            0\n",
       "\n",
       " Columns 13 through 18:\n",
       "\n",
       "            0            0            0            0            0            0\n",
       "\n",
       " Columns 19 through 24:\n",
       "\n",
       "            0            0            0            0            0            0\n",
       "\n",
       " Columns 25 through 30:\n",
       "\n",
       "            0            0            0            0            0            0\n",
       "\n",
       " Columns 31 through 36:\n",
       "\n",
       "            0            0            0            0            0            0\n",
       "\n",
       " Columns 37 through 42:\n",
       "\n",
       "            0            0            0            0            0            0\n"
      ]
     },
     "metadata": {},
     "output_type": "display_data"
    },
    {
     "data": {
      "text/html": [
       "<table><tr><th><i>AgBrs<i></th><th>1</th><th>2</th><th>3</th><th>4</th><th>5</th><th>6</th><th>7</th><th>8</th><th>9</th><th>10</th><th>11</th><th>12</th><th>13</th><th>14</th><th>15</th><th>16</th><th>17</th><th>18</th><th>19</th><th>20</th><th>21</th><th>22</th><th>23</th><th>24</th><th>25</th><th>26</th><th>27</th><th>28</th><th>29</th><th>30</th><th>31</th><th>32</th><th>33</th><th>34</th><th>35</th><th>36</th><th>37</th><th>38</th><th>39</th><th>40</th><th>41</th><th>42</th><th>43</th></tr><tr><th>1</th><td>0</td><td>0</td><td>0</td><td>0</td><td>0</td><td>0</td><td>0</td><td>0</td><td>0</td><td>0</td><td>0</td><td>0</td><td>5.15047e-09</td><td>1.98425e-08</td><td>4.31275e-08</td><td>8.00315e-08</td><td>1.38521e-07</td><td>2.31221e-07</td><td>3.78141e-07</td><td>6.10991e-07</td><td>9.80031e-07</td><td>1.56493e-06</td><td>2.49193e-06</td><td>3.96113e-06</td><td>6.28963e-06</td><td>9.98003e-06</td><td>1.5829e-05</td><td>2.5099e-05</td><td>3.9791e-05</td><td>6.3076e-05</td><td>9.998e-05</td><td>0.00015847</td><td>0.00025117</td><td>0.00039809</td><td>0.00063094</td><td>0.00099998</td><td>0.00158488</td><td>0.00251188</td><td>0.00398108</td><td>0.00630958</td><td>0.00999919</td><td>0.00999988</td><td>0.00999972</td></tr></table>"
      ],
      "text/plain": [
       "AgBrs =  Columns 1 through 6:\n",
       "\n",
       "            0            0            0            0            0            0\n",
       "\n",
       " Columns 7 through 12:\n",
       "\n",
       "            0            0            0            0            0            0\n",
       "\n",
       " Columns 13 through 18:\n",
       "\n",
       "   5.1505e-09   1.9842e-08   4.3127e-08   8.0031e-08   1.3852e-07   2.3122e-07\n",
       "\n",
       " Columns 19 through 24:\n",
       "\n",
       "   3.7814e-07   6.1099e-07   9.8003e-07   1.5649e-06   2.4919e-06   3.9611e-06\n",
       "\n",
       " Columns 25 through 30:\n",
       "\n",
       "   6.2896e-06   9.9800e-06   1.5829e-05   2.5099e-05   3.9791e-05   6.3076e-05\n",
       "\n",
       " Columns 31 through 36:\n",
       "\n",
       "   9.9980e-05   1.5847e-04   2.5117e-04   3.9809e-04   6.3094e-04   9.9998e-04\n",
       "\n",
       " Columns 37 through 42:\n",
       "\n",
       "   1.5849e-03   2.5119e-03   3.9811e-03   6.3096e-03   9.9992e-03   9.9999e-03\n",
       "\n",
       " Column 43:\n",
       "\n",
       "   9.9997e-03\n"
      ]
     },
     "metadata": {},
     "output_type": "display_data"
    },
    {
     "data": {
      "text/html": [
       "<table><tr><th><i>AgCls<i></th><th>1</th><th>2</th><th>3</th><th>4</th><th>5</th><th>6</th><th>7</th><th>8</th><th>9</th><th>10</th><th>11</th><th>12</th><th>13</th><th>14</th><th>15</th><th>16</th><th>17</th><th>18</th><th>19</th><th>20</th><th>21</th><th>22</th><th>23</th><th>24</th><th>25</th><th>26</th><th>27</th><th>28</th><th>29</th><th>30</th><th>31</th><th>32</th><th>33</th><th>34</th><th>35</th><th>36</th><th>37</th><th>38</th><th>39</th><th>40</th><th>41</th><th>42</th><th>43</th></tr><tr><th>1</th><td>0</td><td>0</td><td>0</td><td>0</td><td>0</td><td>0</td><td>0</td><td>0</td><td>0</td><td>0</td><td>0</td><td>0</td><td>0</td><td>0</td><td>0</td><td>0</td><td>0</td><td>0</td><td>0</td><td>0</td><td>0</td><td>0</td><td>0</td><td>0</td><td>0</td><td>0</td><td>0</td><td>0</td><td>0</td><td>0</td><td>0</td><td>0</td><td>0</td><td>0</td><td>0</td><td>0</td><td>0</td><td>0</td><td>0</td><td>0</td><td>0</td><td>0</td><td>0</td></tr></table>"
      ],
      "text/plain": [
       "AgCls =  Columns 1 through 6:\n",
       "\n",
       "            0            0            0            0            0            0\n",
       "\n",
       " Columns 7 through 12:\n",
       "\n",
       "            0            0            0            0            0            0\n",
       "\n",
       " Columns 13 through 18:\n",
       "\n",
       "            0            0            0            0            0            0\n",
       "\n",
       " Columns 19 through 24:\n",
       "\n",
       "            0            0            0            0            0            0\n",
       "\n",
       " Columns 25 through 30:\n",
       "\n",
       "            0            0            0            0            0            0\n",
       "\n",
       " Columns 31 through 36:\n",
       "\n",
       "            0            0            0            0            0            0\n",
       "\n",
       " Columns 37 through 42:\n",
       "\n",
       "            0            0            0            0            0            0\n",
       "\n",
       " Column 43:\n",
       "\n",
       "            0\n"
      ]
     },
     "metadata": {},
     "output_type": "display_data"
    },
    {
     "data": {
      "text/html": [
       "<table><tr><th><i>AgBrs<i></th><th>1</th><th>2</th><th>3</th><th>4</th><th>5</th><th>6</th><th>7</th><th>8</th><th>9</th><th>10</th><th>11</th><th>12</th><th>13</th><th>14</th><th>15</th><th>16</th><th>17</th><th>18</th><th>19</th><th>20</th><th>21</th><th>22</th><th>23</th><th>24</th><th>25</th><th>26</th><th>27</th><th>28</th><th>29</th><th>30</th><th>31</th><th>32</th><th>33</th><th>34</th><th>35</th><th>36</th><th>37</th><th>38</th><th>39</th><th>40</th><th>41</th><th>42</th><th>43</th><th>44</th></tr><tr><th>1</th><td>0</td><td>0</td><td>0</td><td>0</td><td>0</td><td>0</td><td>0</td><td>0</td><td>0</td><td>0</td><td>0</td><td>0</td><td>5.15047e-09</td><td>1.98425e-08</td><td>4.31275e-08</td><td>8.00315e-08</td><td>1.38521e-07</td><td>2.31221e-07</td><td>3.78141e-07</td><td>6.10991e-07</td><td>9.80031e-07</td><td>1.56493e-06</td><td>2.49193e-06</td><td>3.96113e-06</td><td>6.28963e-06</td><td>9.98003e-06</td><td>1.5829e-05</td><td>2.5099e-05</td><td>3.9791e-05</td><td>6.3076e-05</td><td>9.998e-05</td><td>0.00015847</td><td>0.00025117</td><td>0.00039809</td><td>0.00063094</td><td>0.00099998</td><td>0.00158488</td><td>0.00251188</td><td>0.00398108</td><td>0.00630958</td><td>0.00999919</td><td>0.00999988</td><td>0.00999972</td><td>0.00999942</td></tr></table>"
      ],
      "text/plain": [
       "AgBrs =  Columns 1 through 6:\n",
       "\n",
       "            0            0            0            0            0            0\n",
       "\n",
       " Columns 7 through 12:\n",
       "\n",
       "            0            0            0            0            0            0\n",
       "\n",
       " Columns 13 through 18:\n",
       "\n",
       "   5.1505e-09   1.9842e-08   4.3127e-08   8.0031e-08   1.3852e-07   2.3122e-07\n",
       "\n",
       " Columns 19 through 24:\n",
       "\n",
       "   3.7814e-07   6.1099e-07   9.8003e-07   1.5649e-06   2.4919e-06   3.9611e-06\n",
       "\n",
       " Columns 25 through 30:\n",
       "\n",
       "   6.2896e-06   9.9800e-06   1.5829e-05   2.5099e-05   3.9791e-05   6.3076e-05\n",
       "\n",
       " Columns 31 through 36:\n",
       "\n",
       "   9.9980e-05   1.5847e-04   2.5117e-04   3.9809e-04   6.3094e-04   9.9998e-04\n",
       "\n",
       " Columns 37 through 42:\n",
       "\n",
       "   1.5849e-03   2.5119e-03   3.9811e-03   6.3096e-03   9.9992e-03   9.9999e-03\n",
       "\n",
       " Columns 43 and 44:\n",
       "\n",
       "   9.9997e-03   9.9994e-03\n"
      ]
     },
     "metadata": {},
     "output_type": "display_data"
    },
    {
     "data": {
      "text/html": [
       "<table><tr><th><i>AgCls<i></th><th>1</th><th>2</th><th>3</th><th>4</th><th>5</th><th>6</th><th>7</th><th>8</th><th>9</th><th>10</th><th>11</th><th>12</th><th>13</th><th>14</th><th>15</th><th>16</th><th>17</th><th>18</th><th>19</th><th>20</th><th>21</th><th>22</th><th>23</th><th>24</th><th>25</th><th>26</th><th>27</th><th>28</th><th>29</th><th>30</th><th>31</th><th>32</th><th>33</th><th>34</th><th>35</th><th>36</th><th>37</th><th>38</th><th>39</th><th>40</th><th>41</th><th>42</th><th>43</th><th>44</th></tr><tr><th>1</th><td>0</td><td>0</td><td>0</td><td>0</td><td>0</td><td>0</td><td>0</td><td>0</td><td>0</td><td>0</td><td>0</td><td>0</td><td>0</td><td>0</td><td>0</td><td>0</td><td>0</td><td>0</td><td>0</td><td>0</td><td>0</td><td>0</td><td>0</td><td>0</td><td>0</td><td>0</td><td>0</td><td>0</td><td>0</td><td>0</td><td>0</td><td>0</td><td>0</td><td>0</td><td>0</td><td>0</td><td>0</td><td>0</td><td>0</td><td>0</td><td>0</td><td>0</td><td>0</td><td>0</td></tr></table>"
      ],
      "text/plain": [
       "AgCls =  Columns 1 through 6:\n",
       "\n",
       "            0            0            0            0            0            0\n",
       "\n",
       " Columns 7 through 12:\n",
       "\n",
       "            0            0            0            0            0            0\n",
       "\n",
       " Columns 13 through 18:\n",
       "\n",
       "            0            0            0            0            0            0\n",
       "\n",
       " Columns 19 through 24:\n",
       "\n",
       "            0            0            0            0            0            0\n",
       "\n",
       " Columns 25 through 30:\n",
       "\n",
       "            0            0            0            0            0            0\n",
       "\n",
       " Columns 31 through 36:\n",
       "\n",
       "            0            0            0            0            0            0\n",
       "\n",
       " Columns 37 through 42:\n",
       "\n",
       "            0            0            0            0            0            0\n",
       "\n",
       " Columns 43 and 44:\n",
       "\n",
       "            0            0\n"
      ]
     },
     "metadata": {},
     "output_type": "display_data"
    },
    {
     "data": {
      "text/html": [
       "<table><tr><th><i>AgBrs<i></th><th>1</th><th>2</th><th>3</th><th>4</th><th>5</th><th>6</th><th>7</th><th>8</th><th>9</th><th>10</th><th>11</th><th>12</th><th>13</th><th>14</th><th>15</th><th>16</th><th>17</th><th>18</th><th>19</th><th>20</th><th>21</th><th>22</th><th>23</th><th>24</th><th>25</th><th>26</th><th>27</th><th>28</th><th>29</th><th>30</th><th>31</th><th>32</th><th>33</th><th>34</th><th>35</th><th>36</th><th>37</th><th>38</th><th>39</th><th>40</th><th>41</th><th>42</th><th>43</th><th>44</th><th>45</th></tr><tr><th>1</th><td>0</td><td>0</td><td>0</td><td>0</td><td>0</td><td>0</td><td>0</td><td>0</td><td>0</td><td>0</td><td>0</td><td>0</td><td>5.15047e-09</td><td>1.98425e-08</td><td>4.31275e-08</td><td>8.00315e-08</td><td>1.38521e-07</td><td>2.31221e-07</td><td>3.78141e-07</td><td>6.10991e-07</td><td>9.80031e-07</td><td>1.56493e-06</td><td>2.49193e-06</td><td>3.96113e-06</td><td>6.28963e-06</td><td>9.98003e-06</td><td>1.5829e-05</td><td>2.5099e-05</td><td>3.9791e-05</td><td>6.3076e-05</td><td>9.998e-05</td><td>0.00015847</td><td>0.00025117</td><td>0.00039809</td><td>0.00063094</td><td>0.00099998</td><td>0.00158488</td><td>0.00251188</td><td>0.00398108</td><td>0.00630958</td><td>0.00999919</td><td>0.00999988</td><td>0.00999972</td><td>0.00999942</td><td>0.00999876</td></tr></table>"
      ],
      "text/plain": [
       "AgBrs =  Columns 1 through 6:\n",
       "\n",
       "            0            0            0            0            0            0\n",
       "\n",
       " Columns 7 through 12:\n",
       "\n",
       "            0            0            0            0            0            0\n",
       "\n",
       " Columns 13 through 18:\n",
       "\n",
       "   5.1505e-09   1.9842e-08   4.3127e-08   8.0031e-08   1.3852e-07   2.3122e-07\n",
       "\n",
       " Columns 19 through 24:\n",
       "\n",
       "   3.7814e-07   6.1099e-07   9.8003e-07   1.5649e-06   2.4919e-06   3.9611e-06\n",
       "\n",
       " Columns 25 through 30:\n",
       "\n",
       "   6.2896e-06   9.9800e-06   1.5829e-05   2.5099e-05   3.9791e-05   6.3076e-05\n",
       "\n",
       " Columns 31 through 36:\n",
       "\n",
       "   9.9980e-05   1.5847e-04   2.5117e-04   3.9809e-04   6.3094e-04   9.9998e-04\n",
       "\n",
       " Columns 37 through 42:\n",
       "\n",
       "   1.5849e-03   2.5119e-03   3.9811e-03   6.3096e-03   9.9992e-03   9.9999e-03\n",
       "\n",
       " Columns 43 through 45:\n",
       "\n",
       "   9.9997e-03   9.9994e-03   9.9988e-03\n"
      ]
     },
     "metadata": {},
     "output_type": "display_data"
    },
    {
     "data": {
      "text/html": [
       "<table><tr><th><i>AgCls<i></th><th>1</th><th>2</th><th>3</th><th>4</th><th>5</th><th>6</th><th>7</th><th>8</th><th>9</th><th>10</th><th>11</th><th>12</th><th>13</th><th>14</th><th>15</th><th>16</th><th>17</th><th>18</th><th>19</th><th>20</th><th>21</th><th>22</th><th>23</th><th>24</th><th>25</th><th>26</th><th>27</th><th>28</th><th>29</th><th>30</th><th>31</th><th>32</th><th>33</th><th>34</th><th>35</th><th>36</th><th>37</th><th>38</th><th>39</th><th>40</th><th>41</th><th>42</th><th>43</th><th>44</th><th>45</th></tr><tr><th>1</th><td>0</td><td>0</td><td>0</td><td>0</td><td>0</td><td>0</td><td>0</td><td>0</td><td>0</td><td>0</td><td>0</td><td>0</td><td>0</td><td>0</td><td>0</td><td>0</td><td>0</td><td>0</td><td>0</td><td>0</td><td>0</td><td>0</td><td>0</td><td>0</td><td>0</td><td>0</td><td>0</td><td>0</td><td>0</td><td>0</td><td>0</td><td>0</td><td>0</td><td>0</td><td>0</td><td>0</td><td>0</td><td>0</td><td>0</td><td>0</td><td>0</td><td>0</td><td>0</td><td>0</td><td>0</td></tr></table>"
      ],
      "text/plain": [
       "AgCls =  Columns 1 through 6:\n",
       "\n",
       "            0            0            0            0            0            0\n",
       "\n",
       " Columns 7 through 12:\n",
       "\n",
       "            0            0            0            0            0            0\n",
       "\n",
       " Columns 13 through 18:\n",
       "\n",
       "            0            0            0            0            0            0\n",
       "\n",
       " Columns 19 through 24:\n",
       "\n",
       "            0            0            0            0            0            0\n",
       "\n",
       " Columns 25 through 30:\n",
       "\n",
       "            0            0            0            0            0            0\n",
       "\n",
       " Columns 31 through 36:\n",
       "\n",
       "            0            0            0            0            0            0\n",
       "\n",
       " Columns 37 through 42:\n",
       "\n",
       "            0            0            0            0            0            0\n",
       "\n",
       " Columns 43 through 45:\n",
       "\n",
       "            0            0            0\n"
      ]
     },
     "metadata": {},
     "output_type": "display_data"
    },
    {
     "data": {
      "text/html": [
       "<table><tr><th><i>AgBrs<i></th><th>1</th><th>2</th><th>3</th><th>4</th><th>5</th><th>6</th><th>7</th><th>8</th><th>9</th><th>10</th><th>11</th><th>12</th><th>13</th><th>14</th><th>15</th><th>16</th><th>17</th><th>18</th><th>19</th><th>20</th><th>21</th><th>22</th><th>23</th><th>24</th><th>25</th><th>26</th><th>27</th><th>28</th><th>29</th><th>30</th><th>31</th><th>32</th><th>33</th><th>34</th><th>35</th><th>36</th><th>37</th><th>38</th><th>39</th><th>40</th><th>41</th><th>42</th><th>43</th><th>44</th><th>45</th><th>46</th></tr><tr><th>1</th><td>0</td><td>0</td><td>0</td><td>0</td><td>0</td><td>0</td><td>0</td><td>0</td><td>0</td><td>0</td><td>0</td><td>0</td><td>5.15047e-09</td><td>1.98425e-08</td><td>4.31275e-08</td><td>8.00315e-08</td><td>1.38521e-07</td><td>2.31221e-07</td><td>3.78141e-07</td><td>6.10991e-07</td><td>9.80031e-07</td><td>1.56493e-06</td><td>2.49193e-06</td><td>3.96113e-06</td><td>6.28963e-06</td><td>9.98003e-06</td><td>1.5829e-05</td><td>2.5099e-05</td><td>3.9791e-05</td><td>6.3076e-05</td><td>9.998e-05</td><td>0.00015847</td><td>0.00025117</td><td>0.00039809</td><td>0.00063094</td><td>0.00099998</td><td>0.00158488</td><td>0.00251188</td><td>0.00398108</td><td>0.00630958</td><td>0.00999919</td><td>0.00999988</td><td>0.00999972</td><td>0.00999942</td><td>0.00999876</td><td>0.00999706</td></tr></table>"
      ],
      "text/plain": [
       "AgBrs =  Columns 1 through 6:\n",
       "\n",
       "            0            0            0            0            0            0\n",
       "\n",
       " Columns 7 through 12:\n",
       "\n",
       "            0            0            0            0            0            0\n",
       "\n",
       " Columns 13 through 18:\n",
       "\n",
       "   5.1505e-09   1.9842e-08   4.3127e-08   8.0031e-08   1.3852e-07   2.3122e-07\n",
       "\n",
       " Columns 19 through 24:\n",
       "\n",
       "   3.7814e-07   6.1099e-07   9.8003e-07   1.5649e-06   2.4919e-06   3.9611e-06\n",
       "\n",
       " Columns 25 through 30:\n",
       "\n",
       "   6.2896e-06   9.9800e-06   1.5829e-05   2.5099e-05   3.9791e-05   6.3076e-05\n",
       "\n",
       " Columns 31 through 36:\n",
       "\n",
       "   9.9980e-05   1.5847e-04   2.5117e-04   3.9809e-04   6.3094e-04   9.9998e-04\n",
       "\n",
       " Columns 37 through 42:\n",
       "\n",
       "   1.5849e-03   2.5119e-03   3.9811e-03   6.3096e-03   9.9992e-03   9.9999e-03\n",
       "\n",
       " Columns 43 through 46:\n",
       "\n",
       "   9.9997e-03   9.9994e-03   9.9988e-03   9.9971e-03\n"
      ]
     },
     "metadata": {},
     "output_type": "display_data"
    },
    {
     "data": {
      "text/html": [
       "<table><tr><th><i>AgCls<i></th><th>1</th><th>2</th><th>3</th><th>4</th><th>5</th><th>6</th><th>7</th><th>8</th><th>9</th><th>10</th><th>11</th><th>12</th><th>13</th><th>14</th><th>15</th><th>16</th><th>17</th><th>18</th><th>19</th><th>20</th><th>21</th><th>22</th><th>23</th><th>24</th><th>25</th><th>26</th><th>27</th><th>28</th><th>29</th><th>30</th><th>31</th><th>32</th><th>33</th><th>34</th><th>35</th><th>36</th><th>37</th><th>38</th><th>39</th><th>40</th><th>41</th><th>42</th><th>43</th><th>44</th><th>45</th><th>46</th></tr><tr><th>1</th><td>0</td><td>0</td><td>0</td><td>0</td><td>0</td><td>0</td><td>0</td><td>0</td><td>0</td><td>0</td><td>0</td><td>0</td><td>0</td><td>0</td><td>0</td><td>0</td><td>0</td><td>0</td><td>0</td><td>0</td><td>0</td><td>0</td><td>0</td><td>0</td><td>0</td><td>0</td><td>0</td><td>0</td><td>0</td><td>0</td><td>0</td><td>0</td><td>0</td><td>0</td><td>0</td><td>0</td><td>0</td><td>0</td><td>0</td><td>0</td><td>0</td><td>0</td><td>0</td><td>0</td><td>0</td><td>0</td></tr></table>"
      ],
      "text/plain": [
       "AgCls =  Columns 1 through 6:\n",
       "\n",
       "            0            0            0            0            0            0\n",
       "\n",
       " Columns 7 through 12:\n",
       "\n",
       "            0            0            0            0            0            0\n",
       "\n",
       " Columns 13 through 18:\n",
       "\n",
       "            0            0            0            0            0            0\n",
       "\n",
       " Columns 19 through 24:\n",
       "\n",
       "            0            0            0            0            0            0\n",
       "\n",
       " Columns 25 through 30:\n",
       "\n",
       "            0            0            0            0            0            0\n",
       "\n",
       " Columns 31 through 36:\n",
       "\n",
       "            0            0            0            0            0            0\n",
       "\n",
       " Columns 37 through 42:\n",
       "\n",
       "            0            0            0            0            0            0\n",
       "\n",
       " Columns 43 through 46:\n",
       "\n",
       "            0            0            0            0\n"
      ]
     },
     "metadata": {},
     "output_type": "display_data"
    }
   ],
   "source": [
    "% MODEL USING PHREEQC\n",
    "\n",
    "for i=1:length(BrT)\n",
    "\n",
    "minerals=[{'AgBrs'};{'AgCls'}]; totalvector=[AgT; BrT(i); ClT; ClT+BrT(i)]; totalnames=[{'Ag'}; {'Br'}; {'Cl-'}; {'Na'}]; \n",
    "speciesexport=[{'Ag+'};{'Br-'};{'Cl-'};{'AgBr'};{'AgBr2-'};{'AgBr3-2'};{'AgBr4-3'};{'AgCl'};{'AgCl2-'};{'AgCl3-2'};{'AgCl4-3'}];\n",
    "%database=['llnl_nosolubleAgCl.dat']; \n",
    "acid=['NaOH']; show=1; T=25;\n",
    "%database=['AgCl.dat']; \n",
    "database=['complexAgClBr.dat']; \n",
    "\n",
    "tic\n",
    "[solutionspeciesconcs, speciesnames, solidconcs, solidnames]=runPHREEQCv2noHA(T,pH,pe,totalnames,totalvector,minerals,speciesexport,database,show,acid);\n",
    "PHREEQCtime=toc;\n",
    "\n",
    "Ag(i)=solutionspeciesconcs(1); \n",
    "Br(i)=solutionspeciesconcs(2); \n",
    "Cl(i)=solutionspeciesconcs(3);\n",
    "AgBr(i)=solutionspeciesconcs(4); \n",
    "AgBr2(i)=solutionspeciesconcs(5);\n",
    "AgBr3(i)=solutionspeciesconcs(6);\n",
    "AgBr4(i)=solutionspeciesconcs(7);\n",
    "AgCl(i)=solutionspeciesconcs(8);\n",
    "AgCl2(i)=solutionspeciesconcs(9);\n",
    "AgCl3(i)=solutionspeciesconcs(10);\n",
    "AgCl4(i)=solutionspeciesconcs(11);\n",
    "AgBrs(i)=solidconcs(1)\n",
    "AgCls(i)=solidconcs(2)\n",
    "\n",
    "end"
   ]
  },
  {
   "cell_type": "code",
   "execution_count": 37,
   "id": "c79a70ec-a6ee-43a6-aa88-61d3893ccf34",
   "metadata": {
    "tags": []
   },
   "outputs": [
    {
     "data": {
      "application/vnd.plotly.v1+json": {
       "data": [
        {
         "line": {
          "color": "rgb(0,113,188)",
          "dash": "solid",
          "width": 0.5
         },
         "marker": {
          "color": "rgb(0,113,188)",
          "line": {
           "color": "rgb(0,113,188)"
          },
          "size": 6,
          "symbol": "none"
         },
         "mode": "lines",
         "name": "Ag",
         "showlegend": true,
         "type": "scatter",
         "visibility": true,
         "x": [
          -10,
          -9.8,
          -9.6,
          -9.4,
          -9.2,
          -9,
          -8.8,
          -8.6,
          -8.4,
          -8.2,
          -8,
          -7.8,
          -7.6,
          -7.4,
          -7.199999999999999,
          -7,
          -6.8,
          -6.6,
          -6.4,
          -6.199999999999999,
          -6,
          -5.8,
          -5.6,
          -5.3999999999999995,
          -5.199999999999999,
          -5,
          -4.8,
          -4.6,
          -4.3999999999999995,
          -4.199999999999999,
          -4,
          -3.8,
          -3.5999999999999996,
          -3.3999999999999995,
          -3.1999999999999993,
          -3,
          -2.8,
          -2.5999999999999996,
          -2.3999999999999995,
          -2.1999999999999993,
          -2,
          -1.799999999999999,
          -1.5999999999999996,
          -1.4000000000000004,
          -1.1999999999999993,
          -1
         ],
         "xaxis": "x",
         "y": [
          -2.000000004329525,
          -2.000000006861853,
          -2.0000000108752984,
          -2.000000017236193,
          -2.000000027317428,
          -2.000000043295036,
          -2.0000000686183164,
          -2.000000108752824,
          -2.000000172361916,
          -2.0000002731744853,
          -2.000000432950643,
          -2.000000686183652,
          -2.000001088221776,
          -2.0000017262892964,
          -2.0000027375491944,
          -2.000004340282567,
          -2.000006880503807,
          -2.000010906496098,
          -2.0000172873576982,
          -2.000027400424913,
          -2.000043428935382,
          -2.000068834102796,
          -2.000109101449151,
          -2.0001729287152834,
          -2.000274106243998,
          -2.0004345090847395,
          -2.000688856662855,
          -2.001092274031649,
          -2.001732417818825,
          -2.002748903141644,
          -2.0043648026640697,
          -2.0069382591273057,
          -2.0110483909107963,
          -2.017643270738724,
          -2.0283049038200645,
          -2.0457574872472497,
          -2.074940714972406,
          -2.1256283596493346,
          -2.2204828647196044,
          -2.432926538693784,
          -6.104507733835342,
          -9.955850283053646,
          -10.344519345750419,
          -10.611995275424537,
          -10.831945205970209,
          -11.027812667726337
         ],
         "yaxis": "y"
        },
        {
         "line": {
          "color": "rgb(216,82,24)",
          "dash": "solid",
          "width": 0.5
         },
         "marker": {
          "color": "rgb(216,82,24)",
          "line": {
           "color": "rgb(216,82,24)"
          },
          "size": 6,
          "symbol": "none"
         },
         "mode": "lines",
         "name": "AgBrs",
         "showlegend": true,
         "type": "scatter",
         "visibility": true,
         "x": [
          -10,
          -9.8,
          -9.6,
          -9.4,
          -9.2,
          -9,
          -8.8,
          -8.6,
          -8.4,
          -8.2,
          -8,
          -7.8,
          -7.6,
          -7.4,
          -7.199999999999999,
          -7,
          -6.8,
          -6.6,
          -6.4,
          -6.199999999999999,
          -6,
          -5.8,
          -5.6,
          -5.3999999999999995,
          -5.199999999999999,
          -5,
          -4.8,
          -4.6,
          -4.3999999999999995,
          -4.199999999999999,
          -4,
          -3.8,
          -3.5999999999999996,
          -3.3999999999999995,
          -3.1999999999999993,
          -3,
          -2.8,
          -2.5999999999999996,
          -2.3999999999999995,
          -2.1999999999999993,
          -2,
          -1.799999999999999,
          -1.5999999999999996,
          -1.4000000000000004,
          -1.1999999999999993,
          -1
         ],
         "xaxis": "x",
         "y": [
          null,
          null,
          null,
          null,
          null,
          null,
          null,
          null,
          null,
          null,
          null,
          null,
          -8.288153416804704,
          -7.7024043426013815,
          -7.3652460546600045,
          -7.096739227246752,
          -6.858482922062643,
          -6.635971851778946,
          -6.422345699142049,
          -6.2139648573124,
          -6.008759982473032,
          -5.805504679262337,
          -5.603463908351039,
          -5.402180746151693,
          -5.201374803488949,
          -5.000868092077991,
          -4.800545660243502,
          -4.600343039645814,
          -4.40021480557645,
          -4.200135641543995,
          -4.000086733608684,
          -3.800052858568404,
          -3.6000321827546315,
          -3.4000187002004525,
          -3.200011919754734,
          -3.0000086752925537,
          -2.8000036095969585,
          -2.6000011101258655,
          -2.399999096184618,
          -2.1999995539059998,
          -2.000035007515364,
          -2.0000049994315057,
          -2.0000121233897974,
          -2.0000254009122846,
          -2.0000537770906446,
          -2.000127766179224
         ],
         "yaxis": "y"
        },
        {
         "line": {
          "color": "rgb(236,176,31)",
          "dash": "solid",
          "width": 0.5
         },
         "marker": {
          "color": "rgb(236,176,31)",
          "line": {
           "color": "rgb(236,176,31)"
          },
          "size": 6,
          "symbol": "none"
         },
         "mode": "lines",
         "name": "AgBr",
         "showlegend": true,
         "type": "scatter",
         "visibility": true,
         "x": [
          -10,
          -9.8,
          -9.6,
          -9.4,
          -9.2,
          -9,
          -8.8,
          -8.6,
          -8.4,
          -8.2,
          -8,
          -7.8,
          -7.6,
          -7.4,
          -7.199999999999999,
          -7,
          -6.8,
          -6.6,
          -6.4,
          -6.199999999999999,
          -6,
          -5.8,
          -5.6,
          -5.3999999999999995,
          -5.199999999999999,
          -5,
          -4.8,
          -4.6,
          -4.3999999999999995,
          -4.199999999999999,
          -4,
          -3.8,
          -3.5999999999999996,
          -3.3999999999999995,
          -3.1999999999999993,
          -3,
          -2.8,
          -2.5999999999999996,
          -2.3999999999999995,
          -2.1999999999999993,
          -2,
          -1.799999999999999,
          -1.5999999999999996,
          -1.4000000000000004,
          -1.1999999999999993,
          -1
         ],
         "xaxis": "x",
         "y": [
          -10.001346125812105,
          -9.80134426053728,
          -9.601343780225077,
          -9.401343039856544,
          -9.201344299191321,
          -9.001346127841371,
          -8.801344263753544,
          -8.601343785322403,
          -8.401343047935374,
          -8.201344311995333,
          -8.001346148134262,
          -7.801344295915899,
          -7.701000004293957,
          -7.701000003559397,
          -7.70100000239527,
          -7.701000000550033,
          -7.700999997625537,
          -7.700999992990412,
          -7.700999985644373,
          -7.701000024002076,
          -7.701000005549931,
          -7.701000026305022,
          -7.701000029954916,
          -7.701000006495019,
          -7.70099999007006,
          -7.701000005549931,
          -7.701000013099954,
          -7.700999999599927,
          -7.701000014999949,
          -7.70100000075009,
          -7.701000005549931,
          -7.700999981050044,
          -7.700999996050171,
          -7.701000000050219,
          -7.7010000075505,
          -7.701000005550803,
          -7.701000010551354,
          -7.701000010552882,
          -7.701000000555924,
          -7.70100002556697,
          -7.701000084187592,
          -7.701584905990775,
          -7.702511908388294,
          -7.703981119617283,
          -7.706309671072199,
          -7.710000308222096
         ],
         "yaxis": "y"
        },
        {
         "line": {
          "color": "rgb(125,46,141)",
          "dash": "solid",
          "width": 0.5
         },
         "marker": {
          "color": "rgb(125,46,141)",
          "line": {
           "color": "rgb(125,46,141)"
          },
          "size": 6,
          "symbol": "none"
         },
         "mode": "lines",
         "name": "AgBr2",
         "showlegend": true,
         "type": "scatter",
         "visibility": true,
         "x": [
          -10,
          -9.8,
          -9.6,
          -9.4,
          -9.2,
          -9,
          -8.8,
          -8.6,
          -8.4,
          -8.2,
          -8,
          -7.8,
          -7.6,
          -7.4,
          -7.199999999999999,
          -7,
          -6.8,
          -6.6,
          -6.4,
          -6.199999999999999,
          -6,
          -5.8,
          -5.6,
          -5.3999999999999995,
          -5.199999999999999,
          -5,
          -4.8,
          -4.6,
          -4.3999999999999995,
          -4.199999999999999,
          -4,
          -3.8,
          -3.5999999999999996,
          -3.3999999999999995,
          -3.1999999999999993,
          -3,
          -2.8,
          -2.5999999999999996,
          -2.3999999999999995,
          -2.1999999999999993,
          -2,
          -1.799999999999999,
          -1.5999999999999996,
          -1.4000000000000004,
          -1.1999999999999993,
          -1
         ],
         "xaxis": "x",
         "y": [
          -19.611020388522377,
          -19.211016655560126,
          -18.811015691111365,
          -18.411014204313236,
          -18.01101671337706,
          -17.611020355453054,
          -17.21101660314848,
          -16.81101560804447,
          -16.41101407266095,
          -16.011016504722704,
          -15.611020024759613,
          -15.211016079032168,
          -15.010327112743548,
          -15.010326503392001,
          -15.010325537643316,
          -15.010324007039955,
          -15.01032158113946,
          -15.01031773633295,
          -15.010311642633367,
          -15.010300030150384,
          -15.010284722934161,
          -15.010258506448094,
          -15.0102180964233,
          -15.01015518621362,
          -15.010054650749792,
          -15.009893642784547,
          -15.00963900007346,
          -15.009236110426281,
          -15.008595364645197,
          -15.007579436360949,
          -15.005963349202634,
          -15.003390850463171,
          -14.999280132312697,
          -14.992685096117691,
          -14.982023169849267,
          -14.964570664589548,
          -14.935387241386856,
          -14.884699596657615,
          -14.789845482366095,
          -14.57740083070627,
          -10.905817344125685,
          -7.034941727077025,
          -6.623617131877232,
          -6.3305141631758985,
          -6.082576896933452,
          -5.8577168466662615
         ],
         "yaxis": "y"
        },
        {
         "line": {
          "color": "rgb(118,171,47)",
          "dash": "solid",
          "width": 0.5
         },
         "marker": {
          "color": "rgb(118,171,47)",
          "line": {
           "color": "rgb(118,171,47)"
          },
          "size": 6,
          "symbol": "none"
         },
         "mode": "lines",
         "name": "AgBr3",
         "showlegend": true,
         "type": "scatter",
         "visibility": true,
         "x": [
          -10,
          -9.8,
          -9.6,
          -9.4,
          -9.2,
          -9,
          -8.8,
          -8.6,
          -8.4,
          -8.2,
          -8,
          -7.8,
          -7.6,
          -7.4,
          -7.199999999999999,
          -7,
          -6.8,
          -6.6,
          -6.4,
          -6.199999999999999,
          -6,
          -5.8,
          -5.6,
          -5.3999999999999995,
          -5.199999999999999,
          -5,
          -4.8,
          -4.6,
          -4.3999999999999995,
          -4.199999999999999,
          -4,
          -3.8,
          -3.5999999999999996,
          -3.3999999999999995,
          -3.1999999999999993,
          -3,
          -2.8,
          -2.5999999999999996,
          -2.3999999999999995,
          -2.1999999999999993,
          -2,
          -1.799999999999999,
          -1.5999999999999996,
          -1.4000000000000004,
          -1.1999999999999993,
          -1
         ],
         "xaxis": "x",
         "y": [
          -31.432022809076916,
          -30.832017208537625,
          -30.2320157601278,
          -29.632013527178426,
          -29.032017286411957,
          -28.432022742612414,
          -27.83201710319811,
          -27.232015593175575,
          -26.6320132625766,
          -26.032016867047467,
          -25.43202207796713,
          -24.832016049801407,
          -24.530982426452375,
          -24.53098123646526,
          -24.530979350479104,
          -24.530976361402377,
          -24.530971623922095,
          -24.53096411549505,
          -24.530952215257788,
          -24.530927490876078,
          -24.530897597737827,
          -24.530844353447076,
          -24.53076339071912,
          -24.530638487356118,
          -24.530438058493367,
          -24.53011543743832,
          -24.52960585688321,
          -24.52880060531046,
          -24.527518511754334,
          -24.525487212224444,
          -24.52225485027187,
          -24.517110810516723,
          -24.508888787848367,
          -24.49569855909112,
          -24.47437441336754,
          -24.439469481015784,
          -24.381102439132558,
          -24.279727149622147,
          -24.09001931181768,
          -23.665129030812498,
          -16.321959766212792,
          -8.560675464284694,
          -7.715370741381947,
          -7.103537764952385,
          -6.5796758967705316,
          -6.100963207724973
         ],
         "yaxis": "y"
        },
        {
         "line": {
          "color": "rgb(76,189,237)",
          "dash": "solid",
          "width": 0.5
         },
         "marker": {
          "color": "rgb(76,189,237)",
          "line": {
           "color": "rgb(76,189,237)"
          },
          "size": 6,
          "symbol": "none"
         },
         "mode": "lines",
         "name": "AgBr4",
         "showlegend": true,
         "type": "scatter",
         "visibility": true,
         "x": [
          -10,
          -9.8,
          -9.6,
          -9.4,
          -9.2,
          -9,
          -8.8,
          -8.6,
          -8.4,
          -8.2,
          -8,
          -7.8,
          -7.6,
          -7.4,
          -7.199999999999999,
          -7,
          -6.8,
          -6.6,
          -6.4,
          -6.199999999999999,
          -6,
          -5.8,
          -5.6,
          -5.3999999999999995,
          -5.199999999999999,
          -5,
          -4.8,
          -4.6,
          -4.3999999999999995,
          -4.199999999999999,
          -4,
          -3.8,
          -3.5999999999999996,
          -3.3999999999999995,
          -3.1999999999999993,
          -3,
          -2.8,
          -2.5999999999999996,
          -2.3999999999999995,
          -2.1999999999999993,
          -2,
          -1.799999999999999,
          -1.5999999999999996,
          -1.4000000000000004,
          -1.1999999999999993,
          -1
         ],
         "xaxis": "x",
         "y": [
          null,
          null,
          null,
          null,
          -39.96334601278355,
          -39.163353283825394,
          -38.363345758437404,
          -37.56334373529721,
          -36.763340612336414,
          -35.96334539373936,
          -35.163352302710194,
          -34.363344203467484,
          -33.96196594112674,
          -33.96196419921984,
          -33.9619614385074,
          -33.961957063087254,
          -33.961950128348,
          -33.961939137486134,
          -33.96192171787339,
          -33.96188238217704,
          -33.96183862441085,
          -33.96175754099677,
          -33.96163588288722,
          -33.961449903427706,
          -33.961150223230796,
          -33.96066538396144,
          -33.959900570429404,
          -33.95869348465253,
          -33.95676944132736,
          -33.95372332759074,
          -33.94887450320803,
          -33.94115988016087,
          -33.928825966607356,
          -33.909040388921106,
          -33.87705373055532,
          -33.82469644927878,
          -33.73714559323749,
          -33.58508265889364,
          -33.30052148835497,
          -32.66318460031887,
          -21.648427266261084,
          -9.977201211623184,
          -8.675260828514286,
          -7.719070805329401,
          -6.891296999511103,
          -6.129739083176281
         ],
         "yaxis": "y"
        },
        {
         "line": {
          "color": "rgb(161,19,46)",
          "dash": "solid",
          "width": 0.5
         },
         "marker": {
          "color": "rgb(161,19,46)",
          "line": {
           "color": "rgb(161,19,46)"
          },
          "size": 6,
          "symbol": "none"
         },
         "mode": "lines",
         "name": "Br",
         "showlegend": true,
         "type": "scatter",
         "visibility": true,
         "x": [
          -10,
          -9.8,
          -9.6,
          -9.4,
          -9.2,
          -9,
          -8.8,
          -8.6,
          -8.4,
          -8.2,
          -8,
          -7.8,
          -7.6,
          -7.4,
          -7.199999999999999,
          -7,
          -6.8,
          -6.6,
          -6.4,
          -6.199999999999999,
          -6,
          -5.8,
          -5.6,
          -5.3999999999999995,
          -5.199999999999999,
          -5,
          -4.8,
          -4.6,
          -4.3999999999999995,
          -4.199999999999999,
          -4,
          -3.8,
          -3.5999999999999996,
          -3.3999999999999995,
          -3.1999999999999993,
          -3,
          -2.8,
          -2.5999999999999996,
          -2.3999999999999995,
          -2.1999999999999993,
          -2,
          -1.799999999999999,
          -1.5999999999999996,
          -1.4000000000000004,
          -1.1999999999999993,
          -1
         ],
         "xaxis": "x",
         "y": [
          -12.509371617116068,
          -12.309369749429074,
          -12.109369265293646,
          -11.909368518865879,
          -11.709369768597556,
          -11.50937158202766,
          -11.309369693817544,
          -11.109369177155108,
          -10.909368379175348,
          -10.709369547203922,
          -10.509371231143737,
          -10.309369137701479,
          -10.209024463140599,
          -10.20902385469207,
          -10.20902289037453,
          -10.209021362039412,
          -10.209018939733856,
          -10.209015100624939,
          -10.209009015955429,
          -10.208997356321378,
          -10.208982071787338,
          -10.208955829788154,
          -10.20891541527661,
          -10.208852533905155,
          -10.208752018631827,
          -10.208590991637724,
          -10.208336339645747,
          -10.207933466593506,
          -10.207292701881878,
          -10.206276791114531,
          -10.204660698055731,
          -10.202088229432952,
          -10.19797749284349,
          -10.191382451731194,
          -10.180720516243259,
          -10.163268013441666,
          -10.134084584091807,
          -10.083396939360997,
          -9.988542837357986,
          -9.776098154953504,
          -6.104514596313644,
          -2.2329256534379494,
          -1.82048505369855,
          -1.5256333914273252,
          -1.274952416318582,
          -1.0457825744756652
         ],
         "yaxis": "y"
        },
        {
         "line": {
          "color": "rgb(0,113,188)",
          "dash": "solid",
          "width": 0.5
         },
         "marker": {
          "color": "rgb(0,113,188)",
          "line": {
           "color": "rgb(0,113,188)"
          },
          "size": 6,
          "symbol": "none"
         },
         "mode": "lines",
         "name": "AgCls",
         "showlegend": true,
         "type": "scatter",
         "visibility": true,
         "x": [
          -10,
          -9.8,
          -9.6,
          -9.4,
          -9.2,
          -9,
          -8.8,
          -8.6,
          -8.4,
          -8.2,
          -8,
          -7.8,
          -7.6,
          -7.4,
          -7.199999999999999,
          -7,
          -6.8,
          -6.6,
          -6.4,
          -6.199999999999999,
          -6,
          -5.8,
          -5.6,
          -5.3999999999999995,
          -5.199999999999999,
          -5,
          -4.8,
          -4.6,
          -4.3999999999999995,
          -4.199999999999999,
          -4,
          -3.8,
          -3.5999999999999996,
          -3.3999999999999995,
          -3.1999999999999993,
          -3,
          -2.8,
          -2.5999999999999996,
          -2.3999999999999995,
          -2.1999999999999993,
          -2,
          -1.799999999999999,
          -1.5999999999999996,
          -1.4000000000000004,
          -1.1999999999999993,
          -1
         ],
         "xaxis": "x",
         "y": [
          null,
          null,
          null,
          null,
          null,
          null,
          null,
          null,
          null,
          null,
          null,
          null,
          null,
          null,
          null,
          null,
          null,
          null,
          null,
          null,
          null,
          null,
          null,
          null,
          null,
          null,
          null,
          null,
          null,
          null,
          null,
          null,
          null,
          null,
          null,
          null,
          null,
          null,
          null,
          null,
          null,
          null,
          null,
          null,
          null,
          null
         ],
         "yaxis": "y"
        },
        {
         "line": {
          "color": "rgb(216,82,24)",
          "dash": "solid",
          "width": 0.5
         },
         "marker": {
          "color": "rgb(216,82,24)",
          "line": {
           "color": "rgb(216,82,24)"
          },
          "size": 6,
          "symbol": "none"
         },
         "mode": "lines",
         "name": "AgCl",
         "showlegend": true,
         "type": "scatter",
         "visibility": true,
         "x": [
          -10,
          -9.8,
          -9.6,
          -9.4,
          -9.2,
          -9,
          -8.8,
          -8.6,
          -8.4,
          -8.2,
          -8,
          -7.8,
          -7.6,
          -7.4,
          -7.199999999999999,
          -7,
          -6.8,
          -6.6,
          -6.4,
          -6.199999999999999,
          -6,
          -5.8,
          -5.6,
          -5.3999999999999995,
          -5.199999999999999,
          -5,
          -4.8,
          -4.6,
          -4.3999999999999995,
          -4.199999999999999,
          -4,
          -3.8,
          -3.5999999999999996,
          -3.3999999999999995,
          -3.1999999999999993,
          -3,
          -2.8,
          -2.5999999999999996,
          -2.3999999999999995,
          -2.1999999999999993,
          -2,
          -1.799999999999999,
          -1.5999999999999996,
          -1.4000000000000004,
          -1.1999999999999993,
          -1
         ],
         "xaxis": "x",
         "y": [
          null,
          null,
          null,
          null,
          null,
          null,
          null,
          null,
          null,
          null,
          null,
          null,
          null,
          null,
          null,
          null,
          null,
          null,
          null,
          null,
          null,
          null,
          null,
          null,
          null,
          null,
          null,
          null,
          null,
          null,
          null,
          null,
          null,
          null,
          null,
          null,
          null,
          null,
          null,
          null,
          null,
          null,
          null,
          null,
          null,
          null
         ],
         "yaxis": "y"
        },
        {
         "line": {
          "color": "rgb(236,176,31)",
          "dash": "solid",
          "width": 0.5
         },
         "marker": {
          "color": "rgb(236,176,31)",
          "line": {
           "color": "rgb(236,176,31)"
          },
          "size": 6,
          "symbol": "none"
         },
         "mode": "lines",
         "name": "AgCl2",
         "showlegend": true,
         "type": "scatter",
         "visibility": true,
         "x": [
          -10,
          -9.8,
          -9.6,
          -9.4,
          -9.2,
          -9,
          -8.8,
          -8.6,
          -8.4,
          -8.2,
          -8,
          -7.8,
          -7.6,
          -7.4,
          -7.199999999999999,
          -7,
          -6.8,
          -6.6,
          -6.4,
          -6.199999999999999,
          -6,
          -5.8,
          -5.6,
          -5.3999999999999995,
          -5.199999999999999,
          -5,
          -4.8,
          -4.6,
          -4.3999999999999995,
          -4.199999999999999,
          -4,
          -3.8,
          -3.5999999999999996,
          -3.3999999999999995,
          -3.1999999999999993,
          -3,
          -2.8,
          -2.5999999999999996,
          -2.3999999999999995,
          -2.1999999999999993,
          -2,
          -1.799999999999999,
          -1.5999999999999996,
          -1.4000000000000004,
          -1.1999999999999993,
          -1
         ],
         "xaxis": "x",
         "y": [
          null,
          null,
          null,
          null,
          null,
          null,
          null,
          null,
          null,
          null,
          null,
          null,
          null,
          null,
          null,
          null,
          null,
          null,
          null,
          null,
          null,
          null,
          null,
          null,
          null,
          null,
          null,
          null,
          null,
          null,
          null,
          null,
          null,
          null,
          null,
          null,
          null,
          null,
          null,
          null,
          null,
          null,
          null,
          null,
          null,
          null
         ],
         "yaxis": "y"
        },
        {
         "line": {
          "color": "rgb(125,46,141)",
          "dash": "solid",
          "width": 0.5
         },
         "marker": {
          "color": "rgb(125,46,141)",
          "line": {
           "color": "rgb(125,46,141)"
          },
          "size": 6,
          "symbol": "none"
         },
         "mode": "lines",
         "name": "AgCl3",
         "showlegend": true,
         "type": "scatter",
         "visibility": true,
         "x": [
          -10,
          -9.8,
          -9.6,
          -9.4,
          -9.2,
          -9,
          -8.8,
          -8.6,
          -8.4,
          -8.2,
          -8,
          -7.8,
          -7.6,
          -7.4,
          -7.199999999999999,
          -7,
          -6.8,
          -6.6,
          -6.4,
          -6.199999999999999,
          -6,
          -5.8,
          -5.6,
          -5.3999999999999995,
          -5.199999999999999,
          -5,
          -4.8,
          -4.6,
          -4.3999999999999995,
          -4.199999999999999,
          -4,
          -3.8,
          -3.5999999999999996,
          -3.3999999999999995,
          -3.1999999999999993,
          -3,
          -2.8,
          -2.5999999999999996,
          -2.3999999999999995,
          -2.1999999999999993,
          -2,
          -1.799999999999999,
          -1.5999999999999996,
          -1.4000000000000004,
          -1.1999999999999993,
          -1
         ],
         "xaxis": "x",
         "y": [
          null,
          null,
          null,
          null,
          null,
          null,
          null,
          null,
          null,
          null,
          null,
          null,
          null,
          null,
          null,
          null,
          null,
          null,
          null,
          null,
          null,
          null,
          null,
          null,
          null,
          null,
          null,
          null,
          null,
          null,
          null,
          null,
          null,
          null,
          null,
          null,
          null,
          null,
          null,
          null,
          null,
          null,
          null,
          null,
          null,
          null
         ],
         "yaxis": "y"
        },
        {
         "line": {
          "color": "rgb(118,171,47)",
          "dash": "solid",
          "width": 0.5
         },
         "marker": {
          "color": "rgb(118,171,47)",
          "line": {
           "color": "rgb(118,171,47)"
          },
          "size": 6,
          "symbol": "none"
         },
         "mode": "lines",
         "name": "AgCl4",
         "showlegend": true,
         "type": "scatter",
         "visibility": true,
         "x": [
          -10,
          -9.8,
          -9.6,
          -9.4,
          -9.2,
          -9,
          -8.8,
          -8.6,
          -8.4,
          -8.2,
          -8,
          -7.8,
          -7.6,
          -7.4,
          -7.199999999999999,
          -7,
          -6.8,
          -6.6,
          -6.4,
          -6.199999999999999,
          -6,
          -5.8,
          -5.6,
          -5.3999999999999995,
          -5.199999999999999,
          -5,
          -4.8,
          -4.6,
          -4.3999999999999995,
          -4.199999999999999,
          -4,
          -3.8,
          -3.5999999999999996,
          -3.3999999999999995,
          -3.1999999999999993,
          -3,
          -2.8,
          -2.5999999999999996,
          -2.3999999999999995,
          -2.1999999999999993,
          -2,
          -1.799999999999999,
          -1.5999999999999996,
          -1.4000000000000004,
          -1.1999999999999993,
          -1
         ],
         "xaxis": "x",
         "y": [
          null,
          null,
          null,
          null,
          null,
          null,
          null,
          null,
          null,
          null,
          null,
          null,
          null,
          null,
          null,
          null,
          null,
          null,
          null,
          null,
          null,
          null,
          null,
          null,
          null,
          null,
          null,
          null,
          null,
          null,
          null,
          null,
          null,
          null,
          null,
          null,
          null,
          null,
          null,
          null,
          null,
          null,
          null,
          null,
          null,
          null
         ],
         "yaxis": "y"
        },
        {
         "line": {
          "color": "rgb(76,189,237)",
          "dash": "solid",
          "width": 0.5
         },
         "marker": {
          "color": "rgb(76,189,237)",
          "line": {
           "color": "rgb(76,189,237)"
          },
          "size": 6,
          "symbol": "none"
         },
         "mode": "lines",
         "name": "Cl",
         "showlegend": true,
         "type": "scatter",
         "visibility": true,
         "x": [
          -10,
          -9.8,
          -9.6,
          -9.4,
          -9.2,
          -9,
          -8.8,
          -8.6,
          -8.4,
          -8.2,
          -8,
          -7.8,
          -7.6,
          -7.4,
          -7.199999999999999,
          -7,
          -6.8,
          -6.6,
          -6.4,
          -6.199999999999999,
          -6,
          -5.8,
          -5.6,
          -5.3999999999999995,
          -5.199999999999999,
          -5,
          -4.8,
          -4.6,
          -4.3999999999999995,
          -4.199999999999999,
          -4,
          -3.8,
          -3.5999999999999996,
          -3.3999999999999995,
          -3.1999999999999993,
          -3,
          -2.8,
          -2.5999999999999996,
          -2.3999999999999995,
          -2.1999999999999993,
          -2,
          -1.799999999999999,
          -1.5999999999999996,
          -1.4000000000000004,
          -1.1999999999999993,
          -1
         ],
         "xaxis": "x",
         "y": [
          null,
          null,
          null,
          null,
          null,
          null,
          null,
          null,
          null,
          null,
          null,
          null,
          null,
          null,
          null,
          null,
          null,
          null,
          null,
          null,
          null,
          null,
          null,
          null,
          null,
          null,
          null,
          null,
          null,
          null,
          null,
          null,
          null,
          null,
          null,
          null,
          null,
          null,
          null,
          null,
          null,
          null,
          null,
          null,
          null,
          null
         ],
         "yaxis": "y"
        },
        {
         "hoverinfo": "none",
         "line": {
          "color": "rgb(0,113,188)",
          "dash": "solid",
          "width": 0.5
         },
         "marker": {
          "color": "rgb(0,113,188)",
          "line": {
           "color": "rgb(0,113,188)"
          },
          "size": 6,
          "symbol": "none"
         },
         "mode": "lines",
         "name": "",
         "showlegend": false,
         "type": "scatter",
         "visibility": true,
         "x": [
          3,
          18
         ],
         "xaxis": "x2",
         "y": [
          8,
          8
         ],
         "yaxis": "y2"
        },
        {
         "hoverinfo": "none",
         "line": {
          "color": "rgb(216,82,24)",
          "dash": "solid",
          "width": 0.5
         },
         "marker": {
          "color": "rgb(216,82,24)",
          "line": {
           "color": "rgb(216,82,24)"
          },
          "size": 6,
          "symbol": "none"
         },
         "mode": "lines",
         "name": "",
         "showlegend": false,
         "type": "scatter",
         "visibility": true,
         "x": [
          3,
          18
         ],
         "xaxis": "x2",
         "y": [
          21,
          21
         ],
         "yaxis": "y2"
        },
        {
         "hoverinfo": "none",
         "line": {
          "color": "rgb(236,176,31)",
          "dash": "solid",
          "width": 0.5
         },
         "marker": {
          "color": "rgb(236,176,31)",
          "line": {
           "color": "rgb(236,176,31)"
          },
          "size": 6,
          "symbol": "none"
         },
         "mode": "lines",
         "name": "",
         "showlegend": false,
         "type": "scatter",
         "visibility": true,
         "x": [
          3,
          18
         ],
         "xaxis": "x2",
         "y": [
          34,
          34
         ],
         "yaxis": "y2"
        },
        {
         "hoverinfo": "none",
         "line": {
          "color": "rgb(125,46,141)",
          "dash": "solid",
          "width": 0.5
         },
         "marker": {
          "color": "rgb(125,46,141)",
          "line": {
           "color": "rgb(125,46,141)"
          },
          "size": 6,
          "symbol": "none"
         },
         "mode": "lines",
         "name": "",
         "showlegend": false,
         "type": "scatter",
         "visibility": true,
         "x": [
          3,
          18
         ],
         "xaxis": "x2",
         "y": [
          47,
          47
         ],
         "yaxis": "y2"
        },
        {
         "hoverinfo": "none",
         "line": {
          "color": "rgb(118,171,47)",
          "dash": "solid",
          "width": 0.5
         },
         "marker": {
          "color": "rgb(118,171,47)",
          "line": {
           "color": "rgb(118,171,47)"
          },
          "size": 6,
          "symbol": "none"
         },
         "mode": "lines",
         "name": "",
         "showlegend": false,
         "type": "scatter",
         "visibility": true,
         "x": [
          3,
          18
         ],
         "xaxis": "x2",
         "y": [
          60,
          60
         ],
         "yaxis": "y2"
        },
        {
         "hoverinfo": "none",
         "line": {
          "color": "rgb(76,189,237)",
          "dash": "solid",
          "width": 0.5
         },
         "marker": {
          "color": "rgb(76,189,237)",
          "line": {
           "color": "rgb(76,189,237)"
          },
          "size": 6,
          "symbol": "none"
         },
         "mode": "lines",
         "name": "",
         "showlegend": false,
         "type": "scatter",
         "visibility": true,
         "x": [
          3,
          18
         ],
         "xaxis": "x2",
         "y": [
          73,
          73
         ],
         "yaxis": "y2"
        },
        {
         "hoverinfo": "none",
         "line": {
          "color": "rgb(161,19,46)",
          "dash": "solid",
          "width": 0.5
         },
         "marker": {
          "color": "rgb(161,19,46)",
          "line": {
           "color": "rgb(161,19,46)"
          },
          "size": 6,
          "symbol": "none"
         },
         "mode": "lines",
         "name": "",
         "showlegend": false,
         "type": "scatter",
         "visibility": true,
         "x": [
          3,
          18
         ],
         "xaxis": "x2",
         "y": [
          85,
          85
         ],
         "yaxis": "y2"
        },
        {
         "hoverinfo": "none",
         "line": {
          "color": "rgb(0,113,188)",
          "dash": "solid",
          "width": 0.5
         },
         "marker": {
          "color": "rgb(0,113,188)",
          "line": {
           "color": "rgb(0,113,188)"
          },
          "size": 6,
          "symbol": "none"
         },
         "mode": "lines",
         "name": "",
         "showlegend": false,
         "type": "scatter",
         "visibility": true,
         "x": [
          3,
          18
         ],
         "xaxis": "x2",
         "y": [
          97,
          97
         ],
         "yaxis": "y2"
        },
        {
         "hoverinfo": "none",
         "line": {
          "color": "rgb(216,82,24)",
          "dash": "solid",
          "width": 0.5
         },
         "marker": {
          "color": "rgb(216,82,24)",
          "line": {
           "color": "rgb(216,82,24)"
          },
          "size": 6,
          "symbol": "none"
         },
         "mode": "lines",
         "name": "",
         "showlegend": false,
         "type": "scatter",
         "visibility": true,
         "x": [
          3,
          18
         ],
         "xaxis": "x2",
         "y": [
          110,
          110
         ],
         "yaxis": "y2"
        },
        {
         "hoverinfo": "none",
         "line": {
          "color": "rgb(236,176,31)",
          "dash": "solid",
          "width": 0.5
         },
         "marker": {
          "color": "rgb(236,176,31)",
          "line": {
           "color": "rgb(236,176,31)"
          },
          "size": 6,
          "symbol": "none"
         },
         "mode": "lines",
         "name": "",
         "showlegend": false,
         "type": "scatter",
         "visibility": true,
         "x": [
          3,
          18
         ],
         "xaxis": "x2",
         "y": [
          123,
          123
         ],
         "yaxis": "y2"
        },
        {
         "hoverinfo": "none",
         "line": {
          "color": "rgb(125,46,141)",
          "dash": "solid",
          "width": 0.5
         },
         "marker": {
          "color": "rgb(125,46,141)",
          "line": {
           "color": "rgb(125,46,141)"
          },
          "size": 6,
          "symbol": "none"
         },
         "mode": "lines",
         "name": "",
         "showlegend": false,
         "type": "scatter",
         "visibility": true,
         "x": [
          3,
          18
         ],
         "xaxis": "x2",
         "y": [
          136,
          136
         ],
         "yaxis": "y2"
        },
        {
         "hoverinfo": "none",
         "line": {
          "color": "rgb(118,171,47)",
          "dash": "solid",
          "width": 0.5
         },
         "marker": {
          "color": "rgb(118,171,47)",
          "line": {
           "color": "rgb(118,171,47)"
          },
          "size": 6,
          "symbol": "none"
         },
         "mode": "lines",
         "name": "",
         "showlegend": false,
         "type": "scatter",
         "visibility": true,
         "x": [
          3,
          18
         ],
         "xaxis": "x2",
         "y": [
          149,
          149
         ],
         "yaxis": "y2"
        },
        {
         "hoverinfo": "none",
         "line": {
          "color": "rgb(76,189,237)",
          "dash": "solid",
          "width": 0.5
         },
         "marker": {
          "color": "rgb(76,189,237)",
          "line": {
           "color": "rgb(76,189,237)"
          },
          "size": 6,
          "symbol": "none"
         },
         "mode": "lines",
         "name": "",
         "showlegend": false,
         "type": "scatter",
         "visibility": true,
         "x": [
          3,
          18
         ],
         "xaxis": "x2",
         "y": [
          161,
          161
         ],
         "yaxis": "y2"
        }
       ],
       "layout": {
        "annotations": [
         {
          "font": {
           "color": "rgb(0, 0, 0)",
           "size": 9
          },
          "showarrow": false,
          "text": "Ag",
          "x": 21,
          "xanchor": "left",
          "xref": "x2",
          "y": 8,
          "yanchor": "middle",
          "yref": "y2"
         },
         {
          "font": {
           "color": "rgb(0, 0, 0)",
           "size": 9
          },
          "showarrow": false,
          "text": "AgBrs",
          "x": 21,
          "xanchor": "left",
          "xref": "x2",
          "y": 21,
          "yanchor": "middle",
          "yref": "y2"
         },
         {
          "font": {
           "color": "rgb(0, 0, 0)",
           "size": 9
          },
          "showarrow": false,
          "text": "AgBr",
          "x": 21,
          "xanchor": "left",
          "xref": "x2",
          "y": 34,
          "yanchor": "middle",
          "yref": "y2"
         },
         {
          "font": {
           "color": "rgb(0, 0, 0)",
           "size": 9
          },
          "showarrow": false,
          "text": "AgBr2",
          "x": 21,
          "xanchor": "left",
          "xref": "x2",
          "y": 47,
          "yanchor": "middle",
          "yref": "y2"
         },
         {
          "font": {
           "color": "rgb(0, 0, 0)",
           "size": 9
          },
          "showarrow": false,
          "text": "AgBr3",
          "x": 21,
          "xanchor": "left",
          "xref": "x2",
          "y": 60,
          "yanchor": "middle",
          "yref": "y2"
         },
         {
          "font": {
           "color": "rgb(0, 0, 0)",
           "size": 9
          },
          "showarrow": false,
          "text": "AgBr4",
          "x": 21,
          "xanchor": "left",
          "xref": "x2",
          "y": 73,
          "yanchor": "middle",
          "yref": "y2"
         },
         {
          "font": {
           "color": "rgb(0, 0, 0)",
           "size": 9
          },
          "showarrow": false,
          "text": "Br",
          "x": 21,
          "xanchor": "left",
          "xref": "x2",
          "y": 85,
          "yanchor": "middle",
          "yref": "y2"
         },
         {
          "font": {
           "color": "rgb(0, 0, 0)",
           "size": 9
          },
          "showarrow": false,
          "text": "AgCls",
          "x": 21,
          "xanchor": "left",
          "xref": "x2",
          "y": 97,
          "yanchor": "middle",
          "yref": "y2"
         },
         {
          "font": {
           "color": "rgb(0, 0, 0)",
           "size": 9
          },
          "showarrow": false,
          "text": "AgCl",
          "x": 21,
          "xanchor": "left",
          "xref": "x2",
          "y": 110,
          "yanchor": "middle",
          "yref": "y2"
         },
         {
          "font": {
           "color": "rgb(0, 0, 0)",
           "size": 9
          },
          "showarrow": false,
          "text": "AgCl2",
          "x": 21,
          "xanchor": "left",
          "xref": "x2",
          "y": 123,
          "yanchor": "middle",
          "yref": "y2"
         },
         {
          "font": {
           "color": "rgb(0, 0, 0)",
           "size": 9
          },
          "showarrow": false,
          "text": "AgCl3",
          "x": 21,
          "xanchor": "left",
          "xref": "x2",
          "y": 136,
          "yanchor": "middle",
          "yref": "y2"
         },
         {
          "font": {
           "color": "rgb(0, 0, 0)",
           "size": 9
          },
          "showarrow": false,
          "text": "AgCl4",
          "x": 21,
          "xanchor": "left",
          "xref": "x2",
          "y": 149,
          "yanchor": "middle",
          "yref": "y2"
         },
         {
          "font": {
           "color": "rgb(0, 0, 0)",
           "size": 9
          },
          "showarrow": false,
          "text": "Cl",
          "x": 21,
          "xanchor": "left",
          "xref": "x2",
          "y": 161,
          "yanchor": "middle",
          "yref": "y2"
         }
        ],
        "height": 420,
        "hovermode": "closest",
        "margin": {
         "b": 0,
         "l": 0,
         "r": 0,
         "t": 0
        },
        "plot_bgcolor": "rgba(0, 0, 0, 0)",
        "showlegend": false,
        "width": 560,
        "xaxis": {
         "anchor": "y",
         "autorange": false,
         "domain": [
          0.13,
          0.8910714285714285
         ],
         "exponentformat": "none",
         "gridcolor": "rgba(38,38,38,0.15)",
         "gridwidth": 1,
         "linecolor": "rgb(38,38,38)",
         "linewidth": 1,
         "mirror": "ticks",
         "range": [
          -10,
          0
         ],
         "showgrid": false,
         "showline": true,
         "side": "bottom",
         "spikedash": "solid",
         "spikemode": "across",
         "spikesides": false,
         "spikethickness": 1,
         "tickangle": 0,
         "tickcolor": "rgb(38,38,38)",
         "tickfont": {
          "color": "rgb(38,38,38)",
          "size": 10
         },
         "ticklen": 3,
         "ticks": "inside",
         "ticktext": [
          "-10",
          "-8",
          "-6",
          "-4",
          "-2",
          "0"
         ],
         "tickvals": [
          -10,
          -8,
          -6,
          -4,
          -2,
          0
         ],
         "title": {
          "font": {
           "color": "rgb(38,38,38)",
           "size": 11
          },
          "text": "logClT"
         },
         "type": "linear",
         "visible": true,
         "zeroline": false
        },
        "xaxis2": {
         "anchor": "y2",
         "autorange": false,
         "domain": [
          0.9017857142857144,
          0.9892857142857144
         ],
         "exponentformat": "none",
         "fixedrange": true,
         "gridcolor": "rgba(38,38,38,0.15)",
         "gridwidth": 1,
         "linecolor": "rgb(38,38,38)",
         "linewidth": 1,
         "mirror": true,
         "range": [
          0,
          49
         ],
         "showgrid": false,
         "showline": true,
         "showspikes": false,
         "side": "bottom",
         "spikedash": "solid",
         "spikemode": "across",
         "spikesides": false,
         "spikethickness": 1,
         "tickangle": 0,
         "tickcolor": "rgb(38,38,38)",
         "tickfont": {
          "color": "rgb(38,38,38)",
          "size": 9
         },
         "ticklen": 3,
         "ticks": "",
         "ticktext": [],
         "tickvals": [],
         "title": {
          "font": {
           "color": "rgb(0, 0, 0)",
           "size": 9.9
          },
          "text": ""
         },
         "type": "linear",
         "visible": true,
         "zeroline": false
        },
        "yaxis": {
         "anchor": "x",
         "autorange": false,
         "domain": [
          0.11,
          0.9249999999999999
         ],
         "exponentformat": "none",
         "gridcolor": "rgba(38,38,38,0.15)",
         "gridwidth": 1,
         "linecolor": "rgb(38,38,38)",
         "linewidth": 1,
         "mirror": "ticks",
         "range": [
          -40,
          0
         ],
         "showgrid": false,
         "showline": true,
         "side": "left",
         "spikedash": "solid",
         "spikemode": "across",
         "spikesides": false,
         "spikethickness": 1,
         "tickangle": 0,
         "tickcolor": "rgb(38,38,38)",
         "tickfont": {
          "color": "rgb(38,38,38)",
          "size": 10
         },
         "ticklen": 3,
         "ticks": "inside",
         "ticktext": [
          "-40",
          "-30",
          "-20",
          "-10",
          "0"
         ],
         "tickvals": [
          -40,
          -30,
          -20,
          -10,
          0
         ],
         "title": {
          "font": {
           "color": "rgb(38,38,38)",
           "size": 11
          },
          "text": "log(species)"
         },
         "type": "linear",
         "visible": true,
         "zeroline": false
        },
        "yaxis2": {
         "anchor": "x2",
         "autorange": false,
         "domain": [
          0.3174999999999999,
          0.7174999999999999
         ],
         "exponentformat": "none",
         "fixedrange": true,
         "gridcolor": "rgba(38,38,38,0.15)",
         "gridwidth": 1,
         "linecolor": "rgb(38,38,38)",
         "linewidth": 1,
         "mirror": true,
         "range": [
          168,
          0
         ],
         "showgrid": false,
         "showline": true,
         "showspikes": false,
         "side": "left",
         "spikedash": "solid",
         "spikemode": "across",
         "spikesides": false,
         "spikethickness": 1,
         "tickangle": 0,
         "tickcolor": "rgb(38,38,38)",
         "tickfont": {
          "color": "rgb(38,38,38)",
          "size": 9
         },
         "ticklen": 3,
         "ticks": "",
         "ticktext": [],
         "tickvals": [],
         "title": {
          "font": {
           "color": "rgb(0, 0, 0)",
           "size": 9.9
          },
          "text": ""
         },
         "type": "linear",
         "visible": true,
         "zeroline": false
        }
       }
      },
      "image/png": "[encoded data removed]"
     },
     "metadata": {},
     "output_type": "display_data"
    },
    {
     "name": "stderr",
     "output_type": "stream",
     "text": [
      "ERROR: received unknown message\n",
      "Message type: usage_request\n",
      "ERROR: received unknown message\n",
      "Message type: usage_request\n",
      "ERROR: received unknown message\n",
      "Message type: usage_request\n"
     ]
    }
   ],
   "source": [
    "%plot -s 600,600 -f 'svg'\n",
    "%graph\n",
    "%h=\n",
    "plot(logBrT,log10(Ag),logBrT,log10(AgBrs),logBrT,log10(AgBr),logBrT,log10(AgBr2),logBrT,log10(AgBr3),logBrT,log10(AgBr4),logBrT,log10(Br),logBrT,log10(AgCls),logBrT,log10(AgCl),logBrT,log10(AgCl2),logBrT,log10(AgCl3),logBrT,log10(AgCl4),logBrT,log10(Cl));\n",
    "%set(h,'linewidth',2)\n",
    "%set(gca,'linewidth',2,'fontsize',12)\n",
    "xlabel('logClT'); ylabel('log(species)')\n",
    "legend('Ag','AgBrs','AgBr','AgBr2','AgBr3','AgBr4','Br','AgCls','AgCl','AgCl2','AgCl3','AgCl4','Cl','location','eastoutside')\n",
    "\n",
    "%exportforplot=[...\n",
    "%logBrT' log10(Ag)' log10(AgBrs)' log10(AgBr)' log10(AgBr2)' log10(AgBr3)' log10(AgBr4)' log10(AgCls)' log10(AgCl)' log10(AgCl2)' log10(AgCl3)' log10(AgCl4)'\n",
    "%]"
   ]
  },
  {
   "cell_type": "code",
   "execution_count": null,
   "id": "8bfd8e0f-9f4c-4112-bdb1-02e77800aee5",
   "metadata": {},
   "outputs": [],
   "source": []
  }
 ],
 "metadata": {
  "kernelspec": {
   "display_name": "Octave (xoctave)",
   "language": "Octave",
   "name": "xoctave"
  },
  "language_info": {
   "codemirror_mode": "octave",
   "file_extension": ".m",
   "mimetype": "text/x-octave",
   "name": "Octave",
   "nbconvert_exporter": "",
   "pygments_lexer": "octave",
   "version": "7.3.0"
  }
 },
 "nbformat": 4,
 "nbformat_minor": 5
}
