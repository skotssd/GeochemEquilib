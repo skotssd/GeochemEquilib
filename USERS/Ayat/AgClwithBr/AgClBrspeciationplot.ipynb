{
 "cells": [
  {
   "cell_type": "markdown",
   "id": "94e5fb31-a55d-4eed-9cec-13d4351dbb3c",
   "metadata": {
    "tags": []
   },
   "source": [
    "# AgCl with Br speciation plot\n",
    "-will come back!"
   ]
  },
  {
   "cell_type": "code",
   "execution_count": 3,
   "id": "4dd02907-ebb3-4c92-97aa-386c4ba396ef",
   "metadata": {
    "tags": []
   },
   "outputs": [],
   "source": [
    "% setup environment\n",
    "% set path to equilibrium solver\n",
    "txt=pwd;\n",
    "n=length(txt);\n",
    "rootpath=txt; rootpath=txt(1:n-11);\n",
    "PHREEQCpath=[rootpath,'/runPHREEQC'];\n",
    "addpath(PHREEQCpath);\n",
    "JEQUILIBpath=[rootpath,'/JEQUILIB'];\n",
    "addpath(JEQUILIBpath);\n",
    "% clear data and number format\n",
    "clear; format short e\n",
    "% turn off warnings\n",
    "warning off\n",
    "%graphics_toolkit (\"notebook\"); \n",
    "%graphics_toolkit (\"plotly\"); \n",
    "%graphics_toolkit(\"gnuplot\")\n",
    "%available_graphics_toolkits()\n",
    "%loaded_graphics_toolkits"
   ]
  },
  {
   "cell_type": "code",
   "execution_count": 1,
   "id": "519944b4-a373-4a51-b4fa-52328ad1e114",
   "metadata": {},
   "outputs": [],
   "source": [
    "%equilibrium problem\n",
    "AgT=0.01; pH=7;  pe=20.75-pH; logBrT=-9:0.02:-1; BrT=10.^logBrT;"
   ]
  },
  {
   "cell_type": "code",
   "execution_count": 2,
   "id": "3efd1247-69a9-4ae2-a559-ca950e99674f",
   "metadata": {
    "tags": []
   },
   "outputs": [
    {
     "ename": "Execution exception",
     "evalue": "vertical dimensions mismatch (2x1 vs 1x2)",
     "output_type": "error",
     "traceback": [
      "Execution exception: vertical dimensions mismatch (2x1 vs 1x2)",
      ""
     ]
    }
   ],
   "source": [
    "% MODEL USING PHREEQC\n",
    "\n",
    "for i=1:length(BrT)\n",
    "\n",
    "minerals=[{'AgBrs'};{'AgCls'}]; totalvector=[AgT; BrT(i); BrT(i)]; totalnames=[{'Ag'}; {'Br'}; {'Cl-'} {'Na'}]; \n",
    "speciesexport=[{'Ag+'}; {'Br-'};{'Cl-'};{'AgBr'};{'AgBr2-'};{'AgBr3-2'};{'AgBr4-3'};{'Cl-'};{'AgCl'},{'AgCl2-'},{'AgCl3-2'},{'AgCl4-3'}];\n",
    "%database=['llnl_nosolubleAgCl.dat']; \n",
    "acid=['NaOH']; show=1; T=25;\n",
    "%database=['AgCl.dat']; \n",
    "database=['complexAgClBr.dat']; \n",
    "\n",
    "tic\n",
    "[solutionspeciesconcs, speciesnames, solidconcs, solidnames]=runPHREEQCv2noHA(T,pH,pe,totalnames,totalvector,minerals,speciesexport,database,show,acid);\n",
    "PHREEQCtime=toc;\n",
    "\n",
    "Ag(i)=solutionspeciesconcs(1); \n",
    "Br(i)=solutionspeciesconcs(2); \n",
    "Cl(i)=solutionspeciesconcs(3);\n",
    "AgBr(i)=solutionspeciesconcs(4); \n",
    "AgBr2(i)=solutionspeciesconcs(5);\n",
    "AgBr3(i)=solutionspeciesconcs(6);\n",
    "AgBr4(i)=solutionspeciesconcs(7);\n",
    "AgCl(i)=solutionspeciesconcs(8);\n",
    "AgCl2(i)=solutionspeciesconcs(9);\n",
    "AgCl3(i)=solutionspeciesconcs(10);\n",
    "AgCl4(i)=solutionspeciesconcs(11);\n",
    "AgBrs(i)=solidconcs(1);\n",
    "AgCls(i)=solidconcs(2);\n",
    "\n",
    "end"
   ]
  },
  {
   "cell_type": "code",
   "execution_count": 3,
   "id": "c79a70ec-a6ee-43a6-aa88-61d3893ccf34",
   "metadata": {
    "tags": []
   },
   "outputs": [
    {
     "ename": "Execution exception",
     "evalue": "'Ag' undefined near line 2, column 16",
     "output_type": "error",
     "traceback": [
      "Execution exception: 'Ag' undefined near line 2, column 16",
      ""
     ]
    },
    {
     "name": "stderr",
     "output_type": "stream",
     "text": [
      "ERROR: received unknown message\n",
      "Message type: usage_request\n"
     ]
    }
   ],
   "source": [
    "%plot -s 600,600 -f 'svg'\n",
    "%graph\n",
    "%h=\n",
    "%plot(logBrT,log10(Ag),logBrT,log10(AgBrs),logBrT,log10(AgBr),logBrT,log10(AgBr2),logBrT,log10(AgBr3),logBrT,log10(AgBr4),logBrT,log10(Br));\n",
    "%set(h,'linewidth',2)\n",
    "%set(gca,'linewidth',2,'fontsize',12)\n",
    "%xlabel('logBrT'); ylabel('log(Ag species)')\n",
    "%legend('Ag','AgBrs','AgBr','AgBr2','AgBr3','AgBr4','Br','location','eastoutside')\n",
    "\n",
    "exportforplot=[...\n",
    "logBrT' log10(Ag)' log10(AgBrs)' log10(AgBr)' log10(AgBr2)' log10(AgBr3)' log10(AgBr4)'\n",
    "]"
   ]
  }
 ],
 "metadata": {
  "kernelspec": {
   "display_name": "Octave (xoctave)",
   "language": "Octave",
   "name": "xoctave"
  },
  "language_info": {
   "codemirror_mode": "octave",
   "file_extension": ".m",
   "mimetype": "text/x-octave",
   "name": "Octave",
   "nbconvert_exporter": "",
   "pygments_lexer": "octave",
   "version": "7.3.0"
  }
 },
 "nbformat": 4,
 "nbformat_minor": 5
}
