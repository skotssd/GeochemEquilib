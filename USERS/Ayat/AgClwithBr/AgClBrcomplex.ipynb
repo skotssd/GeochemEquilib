{
 "cells": [
  {
   "cell_type": "markdown",
   "id": "280810b6-00ec-4c85-aad8-2c5fd9729586",
   "metadata": {},
   "source": [
    "# AgCl with Br Complex"
   ]
  },
  {
   "cell_type": "code",
   "execution_count": 5,
   "id": "31b7dc03-fd21-417d-b183-8ac94de1a374",
   "metadata": {
    "tags": []
   },
   "outputs": [],
   "source": [
    "% setup environment\n",
    "% set path to equilibrium solver\n",
    "txt=pwd;\n",
    "n=length(txt);\n",
    "rootpath=txt; rootpath=txt(1:n-22);\n",
    "PHREEQCpath=[rootpath,'/runPHREEQC'];\n",
    "addpath(PHREEQCpath);\n",
    "JEQUILIBpath=[rootpath,'/JEQUILIB'];\n",
    "addpath(JEQUILIBpath);\n",
    "% clear data and number format\n",
    "clear; format short e\n",
    "% turn off warnings\n",
    "warning off\n",
    "%graphics_toolkit (\"notebook\"); \n",
    "%graphics_toolkit (\"plotly\"); \n",
    "%graphics_toolkit(\"gnuplot\")"
   ]
  },
  {
   "cell_type": "code",
   "execution_count": 6,
   "id": "875a664d-f619-4dea-a195-f4f1aeb14c32",
   "metadata": {},
   "outputs": [],
   "source": [
    "% MODEL USING TABLEAU (different gradients or log versus linear variables)\n",
    "%graphics_toolkit(\"notebook\")\n",
    "%model with just inorganic speciation\n",
    "%geochemical model\n",
    "% input the constants and solution chemistry\n",
    "\n",
    "flag1=2; %flag1 for concentration based search vector (1) or for log based search vector (2).\n",
    "flag2=1; %flag2 for numerical derivatives (2) or analtyical derivatives (1)\n",
    "%database=[]; \n",
    "flag3=0; % flag3 1 for show warnings. 0 no warnings\n",
    "flag4=0; %if=1 solve tableau one line at a time to get a good initial guess (no solids). really challenging probs only\n",
    "flag5=0; %if=1 use stored initial guess for including solids\n",
    "\n",
    "AgT=1e-6; BrT=1e-5; pH=7; ClT=1e-1;\n",
    "\n",
    "TOTALS=[AgT BrT ClT]';\n",
    "TOTALS(TOTALS==0)=1e-16;% get rid of zero values, b/c div by zero error\n",
    "%TOTALS=[inorganicTOTALS]; %TOTALS=inorganicTOTALS;\n",
    "pH=pH; pe=20.75-pH; \n",
    "\n",
    "tic;\n",
    "[Ag,Br,Cl,AgBrs,AgCls,MASSERR]=AgClBrtableaumorecomplex(pH,pe,TOTALS,flag1,flag2,flag3,flag4,flag5);\n",
    "%[Ag,Br,Cl,AgBrs,AgCls,MASSERR]=AgClBrtableaumorecomplex(pH,pe,1,flag1,flag2,flag3,flag4,flag5);\n",
    "%[Ag]=AgClBrtableaumorecomplex(pH,pe,TOTALS,flag1,flag2,flag3,flag4,flag5)\n",
    "tableautime=toc;\n",
    "\n",
    "Agmasserror=MASSERR(1); Brmasserror=MASSERR(2); Clmasserror=MASSERR(3);"
   ]
  },
  {
   "cell_type": "code",
   "execution_count": 9,
   "id": "b2dcaa17-8a2b-450d-91c9-4996138c5905",
   "metadata": {},
   "outputs": [
    {
     "data": {
      "text/plain": [
       "PHREEQCtime = 2.4594e-02\n"
      ]
     },
     "metadata": {},
     "output_type": "display_data"
    },
    {
     "data": {
      "text/plain": [
       "AgBrsPHREEQC =          0\n"
      ]
     },
     "metadata": {},
     "output_type": "display_data"
    },
    {
     "data": {
      "text/plain": [
       "AgClsPHREEQC =          0\n"
      ]
     },
     "metadata": {},
     "output_type": "display_data"
    },
    {
     "data": {
      "text/plain": [
       "AgmasserrorPHREEQC = 9.9916e-07\n"
      ]
     },
     "metadata": {},
     "output_type": "display_data"
    },
    {
     "data": {
      "text/plain": [
       "BrmasserrorPHREEQC = -9.0183e-18\n"
      ]
     },
     "metadata": {},
     "output_type": "display_data"
    },
    {
     "data": {
      "text/plain": [
       "ClmasserrorPHREEQC = -1.7883e-14\n"
      ]
     },
     "metadata": {},
     "output_type": "display_data"
    }
   ],
   "source": [
    "% MODEL USING PHREEQC\n",
    "\n",
    "minerals=[{'AgBrs'};{'AgCls'}]; totalvector=[AgT; BrT; ClT; ClT+BrT]; totalnames=[{'Ag'}; {'Br'}; {'Cl'}; {'Na'}]; speciesexport=[{'Ag+'}; {'Br-'};{'Cl-'};{'AgBr'};{'AgBr2-'};{'AgBr3-2'};{'AgBr4-3'};{'AgCl'};{'AgCl2-'};{'AgCl3-2'};{'AgCl4-3'}];\n",
    "%database=['llnl_nosolubleAgCl.dat']; \n",
    "acid=['NaOH']; show=0; T=25;\n",
    "%database=['AgCl.dat']; \n",
    "database=['complexAgClBr.dat']; \n",
    "\n",
    "tic\n",
    "[solutionspeciesconcs, speciesnames, solidconcs, solidnames]=runPHREEQCv2noHA(T,pH,pe,totalnames,totalvector,minerals,speciesexport,database,show,acid);\n",
    "PHREEQCtime=toc\n",
    "\n",
    "AgPHREEQC=solutionspeciesconcs(1); \n",
    "BrPHREEQC=solutionspeciesconcs(2); \n",
    "ClPHREEQC=solutionspeciesconcs(3);\n",
    "AgBrPHREEQC=solutionspeciesconcs(4); \n",
    "AgBr2PHREEQC=solutionspeciesconcs(5); \n",
    "AgBr3PHREEQC=solutionspeciesconcs(6); \n",
    "AgBr4PHREEQC=solutionspeciesconcs(7);\n",
    "AgClPHREEQC=solutionspeciesconcs(8);\n",
    "AgCl2PHREEQC=solutionspeciesconcs(9);\n",
    "AgCl3PHREEQC=solutionspeciesconcs(10);\n",
    "AgCl4PHREEQC=solutionspeciesconcs(11);\n",
    "AgBrsPHREEQC=solidconcs(1)\n",
    "AgClsPHREEQC=solidconcs(2)\n",
    "\n",
    "AgmasserrorPHREEQC=AgT-AgPHREEQC-AgBrsPHREEQC-AgBrPHREEQC-AgBr2PHREEQC-AgBr3PHREEQC-AgBr4PHREEQC \n",
    "BrmasserrorPHREEQC=BrT-BrPHREEQC-AgBrsPHREEQC-AgBrPHREEQC-2*AgBr2PHREEQC-3*AgBr3PHREEQC-4*AgBr4PHREEQC\n",
    "ClmasserrorPHREEQC=ClT-ClPHREEQC-AgClsPHREEQC-AgClPHREEQC-2*AgCl2PHREEQC-3*AgCl3PHREEQC-4*AgCl4PHREEQC"
   ]
  },
  {
   "cell_type": "code",
   "execution_count": 10,
   "id": "636b8fa8-b825-48a7-95c1-6b44a2933472",
   "metadata": {
    "tags": []
   },
   "outputs": [
    {
     "data": {
      "text/html": [
       "<table><tr><th><i>Agcompare<i></th><th>1</th><th>2</th></tr><tr><th>1</th><td>4.30002e-10</td><td>6.79868e-10</td></tr></table>"
      ],
      "text/plain": [
       "Agcompare =    4.3000e-10   6.7987e-10\n"
      ]
     },
     "metadata": {},
     "output_type": "display_data"
    },
    {
     "data": {
      "text/html": [
       "<table><tr><th><i>Brcompare<i></th><th>1</th><th>2</th></tr><tr><th>1</th><td>9.99983e-06</td><td>9.99984e-06</td></tr></table>"
      ],
      "text/plain": [
       "Brcompare =    9.9998e-06   9.9998e-06\n"
      ]
     },
     "metadata": {},
     "output_type": "display_data"
    },
    {
     "data": {
      "text/html": [
       "<table><tr><th><i>Clcompare<i></th><th>1</th><th>2</th></tr><tr><th>1</th><td>0.099998</td><td>0.099998</td></tr></table>"
      ],
      "text/plain": [
       "Clcompare =    9.9998e-02   9.9998e-02\n"
      ]
     },
     "metadata": {},
     "output_type": "display_data"
    },
    {
     "data": {
      "text/html": [
       "<table><tr><th><i>AgBrcompare<i></th><th>1</th><th>2</th></tr><tr><th>1</th><td>0</td><td>0</td></tr></table>"
      ],
      "text/plain": [
       "AgBrcompare =             0            0\n"
      ]
     },
     "metadata": {},
     "output_type": "display_data"
    },
    {
     "data": {
      "text/html": [
       "<table><tr><th><i>AgClcompare<i></th><th>1</th><th>2</th></tr><tr><th>1</th><td>0</td><td>0</td></tr></table>"
      ],
      "text/plain": [
       "AgClcompare =             0            0\n"
      ]
     },
     "metadata": {},
     "output_type": "display_data"
    },
    {
     "data": {
      "text/html": [
       "<table><tr><th><i>Agmasserrorcompare<i></th><th>1</th><th>2</th></tr><tr><th>1</th><td>4.23516e-22</td><td>9.99162e-07</td></tr></table>"
      ],
      "text/plain": [
       "Agmasserrorcompare =    4.2352e-22   9.9916e-07\n"
      ]
     },
     "metadata": {},
     "output_type": "display_data"
    },
    {
     "data": {
      "text/html": [
       "<table><tr><th><i>Brmasserrorcompare<i></th><th>1</th><th>2</th></tr><tr><th>1</th><td>5.0822e-21</td><td>-9.01835e-18</td></tr></table>"
      ],
      "text/plain": [
       "Brmasserrorcompare =    5.0822e-21  -9.0183e-18\n"
      ]
     },
     "metadata": {},
     "output_type": "display_data"
    },
    {
     "data": {
      "text/html": [
       "<table><tr><th><i>Clmasserrorcompare<i></th><th>1</th><th>2</th></tr><tr><th>1</th><td>2.77556e-17</td><td>-1.78829e-14</td></tr></table>"
      ],
      "text/plain": [
       "Clmasserrorcompare =    2.7756e-17  -1.7883e-14\n"
      ]
     },
     "metadata": {},
     "output_type": "display_data"
    },
    {
     "data": {
      "text/html": [
       "<table><tr><th><i>timecompare<i></th><th>1</th><th>2</th></tr><tr><th>1</th><td>0.4876</td><td>0.0245941</td></tr></table>"
      ],
      "text/plain": [
       "timecompare =    4.8760e-01   2.4594e-02\n"
      ]
     },
     "metadata": {},
     "output_type": "display_data"
    }
   ],
   "source": [
    "% compare models\n",
    "\n",
    "Agcompare=[Ag AgPHREEQC]\n",
    "Brcompare=[Br BrPHREEQC]\n",
    "Clcompare=[Cl ClPHREEQC]\n",
    "AgBrcompare=[AgBrs AgBrsPHREEQC]\n",
    "AgClcompare=[AgCls AgClsPHREEQC]\n",
    "Agmasserrorcompare=[Agmasserror AgmasserrorPHREEQC]\n",
    "Brmasserrorcompare=[Brmasserror BrmasserrorPHREEQC]\n",
    "Clmasserrorcompare=[Clmasserror ClmasserrorPHREEQC]\n",
    "timecompare=[tableautime PHREEQCtime]"
   ]
  },
  {
   "cell_type": "code",
   "execution_count": null,
   "id": "83325fbc-ea5e-4c19-91b6-6826e3e24564",
   "metadata": {},
   "outputs": [],
   "source": []
  }
 ],
 "metadata": {
  "kernelspec": {
   "display_name": "Octave (xoctave)",
   "language": "Octave",
   "name": "xoctave"
  },
  "language_info": {
   "codemirror_mode": "octave",
   "file_extension": ".m",
   "mimetype": "text/x-octave",
   "name": "Octave",
   "nbconvert_exporter": "",
   "pygments_lexer": "octave",
   "version": "7.3.0"
  }
 },
 "nbformat": 4,
 "nbformat_minor": 5
}
