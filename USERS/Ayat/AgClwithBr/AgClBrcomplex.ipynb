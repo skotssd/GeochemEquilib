{
 "cells": [
  {
   "cell_type": "markdown",
   "id": "280810b6-00ec-4c85-aad8-2c5fd9729586",
   "metadata": {},
   "source": [
    "# AgCl with Br Complex"
   ]
  },
  {
   "cell_type": "code",
   "execution_count": 104,
   "id": "31b7dc03-fd21-417d-b183-8ac94de1a374",
   "metadata": {
    "tags": []
   },
   "outputs": [],
   "source": [
    "% setup environment\n",
    "% set path to equilibrium solver\n",
    "txt=pwd;\n",
    "n=length(txt);\n",
    "rootpath=txt; rootpath=txt(1:n-24);\n",
    "PHREEQCpath=[rootpath,'/runPHREEQC'];\n",
    "addpath(PHREEQCpath);\n",
    "JEQUILIBpath=[rootpath,'/JEQUILIB'];\n",
    "addpath(JEQUILIBpath);\n",
    "% clear data and number format\n",
    "clear; format short e\n",
    "% turn off warnings\n",
    "warning off\n",
    "%graphics_toolkit (\"notebook\"); \n",
    "%graphics_toolkit (\"plotly\"); \n",
    "%graphics_toolkit(\"gnuplot\")"
   ]
  },
  {
   "cell_type": "code",
   "execution_count": 105,
   "id": "875a664d-f619-4dea-a195-f4f1aeb14c32",
   "metadata": {},
   "outputs": [
    {
     "name": "stdout",
     "output_type": "stream",
     "text": [
      "X no ITER EXEED no solid logX\n"
     ]
    }
   ],
   "source": [
    "% MODEL USING TABLEAU (different gradients or log versus linear variables)\n",
    "%graphics_toolkit(\"notebook\")\n",
    "%model with just inorganic speciation\n",
    "%geochemical model\n",
    "% input the constants and solution chemistry\n",
    "\n",
    "flag1=1; %flag1 for concentration based search vector (1) or for log based search vector (2).\n",
    "flag2=2; %flag2 for numerical derivatives (2) or analtyical derivatives (1)\n",
    "%database=[]; \n",
    "flag3=0; % flag3 1 for show warnings. 0 no warnings\n",
    "flag4=0; %if=1 solve tableau one line at a time to get a good initial guess (no solids). really challenging probs only\n",
    "flag5=0; %if=1 use stored initial guess for including solids\n",
    "\n",
    "AgT=1e-6; BrT=1e-3; pH=7; ClT=1e-5;\n",
    "\n",
    "TOTALS=[AgT BrT ClT]';\n",
    "TOTALS(TOTALS==0)=1e-16;% get rid of zero values, b/c div by zero error\n",
    "%TOTALS=[inorganicTOTALS]; %TOTALS=inorganicTOTALS;\n",
    "pH=pH; pe=20.75-pH; \n",
    "\n",
    "tic;\n",
    "[Ag,Br,Cl,AgBrs,AgCls,MASSERR]=AgClBrtableaumorecomplex(pH,pe,TOTALS,flag1,flag2,flag3,flag4,flag5);\n",
    "%[Ag,Br,Cl,AgBrs,AgCls,MASSERR]=AgClBrtableaumorecomplex(pH,pe,1,flag1,flag2,flag3,flag4,flag5);\n",
    "%[Ag]=AgClBrtableaumorecomplex(pH,pe,TOTALS,flag1,flag2,flag3,flag4,flag5)\n",
    "tableautime=toc;\n",
    "\n",
    "Agmasserror=MASSERR(1); Brmasserror=MASSERR(2); Clmasserror=MASSERR(3);"
   ]
  },
  {
   "cell_type": "code",
   "execution_count": 106,
   "id": "b2dcaa17-8a2b-450d-91c9-4996138c5905",
   "metadata": {},
   "outputs": [
    {
     "data": {
      "text/plain": [
       "PHREEQCtime = 2.5720e-02\n"
      ]
     },
     "metadata": {},
     "output_type": "display_data"
    },
    {
     "data": {
      "text/plain": [
       "AgBrsPHREEQC = 9.6361e-07\n"
      ]
     },
     "metadata": {},
     "output_type": "display_data"
    },
    {
     "data": {
      "text/plain": [
       "AgClsPHREEQC =          0\n"
      ]
     },
     "metadata": {},
     "output_type": "display_data"
    },
    {
     "data": {
      "text/plain": [
       "AgmasserrorPHREEQC = 9.9549e-12\n"
      ]
     },
     "metadata": {},
     "output_type": "display_data"
    },
    {
     "data": {
      "text/plain": [
       "BrmasserrorPHREEQC = 3.0958e-13\n"
      ]
     },
     "metadata": {},
     "output_type": "display_data"
    },
    {
     "data": {
      "text/plain": [
       "ClmasserrorPHREEQC = -2.8337e-18\n"
      ]
     },
     "metadata": {},
     "output_type": "display_data"
    }
   ],
   "source": [
    "% MODEL USING PHREEQC\n",
    "\n",
    "minerals=[{'AgBrs'};{'AgCls'}]; totalvector=[AgT; BrT; ClT; ClT+BrT]; totalnames=[{'Ag'}; {'Br'}; {'Cl'}; {'Na'}]; speciesexport=[{'Ag+'}; {'Br-'};{'Cl-'};{'AgBr'};{'AgBr2-'};{'AgBr3-2'};{'AgBr4-3'};{'AgCl'};{'AgCl2-'};{'AgCl3-2'};{'AgCl4-3'}];\n",
    "%database=['llnl_nosolubleAgCl.dat']; \n",
    "acid=['NaOH']; show=0; T=25;\n",
    "%database=['AgCl.dat']; \n",
    "database=['complexAgClBr.dat']; \n",
    "\n",
    "tic\n",
    "[solutionspeciesconcs, speciesnames, solidconcs, solidnames]=runPHREEQCv2noHA(T,pH,pe,totalnames,totalvector,minerals,speciesexport,database,show,acid);\n",
    "PHREEQCtime=toc\n",
    "\n",
    "AgPHREEQC=solutionspeciesconcs(1); \n",
    "BrPHREEQC=solutionspeciesconcs(2); \n",
    "ClPHREEQC=solutionspeciesconcs(3);\n",
    "AgBrPHREEQC=solutionspeciesconcs(4); \n",
    "AgBr2PHREEQC=solutionspeciesconcs(5); \n",
    "AgBr3PHREEQC=solutionspeciesconcs(6); \n",
    "AgBr4PHREEQC=solutionspeciesconcs(7);\n",
    "AgClPHREEQC=solutionspeciesconcs(8);\n",
    "AgCl2PHREEQC=solutionspeciesconcs(9);\n",
    "AgCl3PHREEQC=solutionspeciesconcs(10);\n",
    "AgCl4PHREEQC=solutionspeciesconcs(11);\n",
    "AgBrsPHREEQC=solidconcs(1)\n",
    "AgClsPHREEQC=solidconcs(2)\n",
    "\n",
    "AgmasserrorPHREEQC=AgT-AgPHREEQC-AgBrsPHREEQC-AgBrPHREEQC-AgBr2PHREEQC-AgBr3PHREEQC-AgBr4PHREEQC \n",
    "BrmasserrorPHREEQC=BrT-BrPHREEQC-AgBrsPHREEQC-AgBrPHREEQC-2*AgBr2PHREEQC-3*AgBr3PHREEQC-3*AgBr4PHREEQC\n",
    "ClmasserrorPHREEQC=ClT-ClPHREEQC-AgClsPHREEQC-AgClPHREEQC-2*AgCl2PHREEQC-3*AgCl4PHREEQC-3*AgCl4PHREEQC"
   ]
  },
  {
   "cell_type": "code",
   "execution_count": 107,
   "id": "636b8fa8-b825-48a7-95c1-6b44a2933472",
   "metadata": {},
   "outputs": [
    {
     "data": {
      "text/html": [
       "<table><tr><th><i>Agcompare<i></th><th>1</th><th>2</th></tr><tr><th>1</th><td>5.01697e-10</td><td>5.39146e-10</td></tr></table>"
      ],
      "text/plain": [
       "Agcompare =    5.0170e-10   5.3915e-10\n"
      ]
     },
     "metadata": {},
     "output_type": "display_data"
    },
    {
     "data": {
      "text/html": [
       "<table><tr><th><i>Brcompare<i></th><th>1</th><th>2</th></tr><tr><th>1</th><td>0.000998985</td><td>0.000998985</td></tr></table>"
      ],
      "text/plain": [
       "Brcompare =    9.9898e-04   9.9898e-04\n"
      ]
     },
     "metadata": {},
     "output_type": "display_data"
    },
    {
     "data": {
      "text/html": [
       "<table><tr><th><i>Clcompare<i></th><th>1</th><th>2</th></tr><tr><th>1</th><td>9.99999e-06</td><td>9.99999e-06</td></tr></table>"
      ],
      "text/plain": [
       "Clcompare =    1.0000e-05   1.0000e-05\n"
      ]
     },
     "metadata": {},
     "output_type": "display_data"
    },
    {
     "data": {
      "text/html": [
       "<table><tr><th><i>AgBrcompare<i></th><th>1</th><th>2</th></tr><tr><th>1</th><td>9.6364e-07</td><td>9.63608e-07</td></tr></table>"
      ],
      "text/plain": [
       "AgBrcompare =    9.6364e-07   9.6361e-07\n"
      ]
     },
     "metadata": {},
     "output_type": "display_data"
    },
    {
     "data": {
      "text/html": [
       "<table><tr><th><i>AgClcompare<i></th><th>1</th><th>2</th></tr><tr><th>1</th><td>0</td><td>0</td></tr></table>"
      ],
      "text/plain": [
       "AgClcompare =             0            0\n"
      ]
     },
     "metadata": {},
     "output_type": "display_data"
    },
    {
     "data": {
      "text/html": [
       "<table><tr><th><i>Agmasserrorcompare<i></th><th>1</th><th>2</th></tr><tr><th>1</th><td>0</td><td>9.95492e-12</td></tr></table>"
      ],
      "text/plain": [
       "Agmasserrorcompare =             0   9.9549e-12\n"
      ]
     },
     "metadata": {},
     "output_type": "display_data"
    },
    {
     "data": {
      "text/html": [
       "<table><tr><th><i>Brmasserrorcompare<i></th><th>1</th><th>2</th></tr><tr><th>1</th><td>2.1684e-14</td><td>3.09575e-13</td></tr></table>"
      ],
      "text/plain": [
       "Brmasserrorcompare =    2.1684e-14   3.0958e-13\n"
      ]
     },
     "metadata": {},
     "output_type": "display_data"
    },
    {
     "data": {
      "text/html": [
       "<table><tr><th><i>Clmasserrorcompare<i></th><th>1</th><th>2</th></tr><tr><th>1</th><td>3.38813e-14</td><td>-2.83373e-18</td></tr></table>"
      ],
      "text/plain": [
       "Clmasserrorcompare =    3.3881e-14  -2.8337e-18\n"
      ]
     },
     "metadata": {},
     "output_type": "display_data"
    },
    {
     "data": {
      "text/html": [
       "<table><tr><th><i>timecompare<i></th><th>1</th><th>2</th></tr><tr><th>1</th><td>1.66742</td><td>0.0257199</td></tr></table>"
      ],
      "text/plain": [
       "timecompare =    1.6674e+00   2.5720e-02\n"
      ]
     },
     "metadata": {},
     "output_type": "display_data"
    },
    {
     "name": "stderr",
     "output_type": "stream",
     "text": [
      "ERROR: received unknown message\n",
      "Message type: usage_request\n"
     ]
    }
   ],
   "source": [
    "% compare models\n",
    "\n",
    "Agcompare=[Ag AgPHREEQC ]\n",
    "Brcompare=[Br BrPHREEQC ]\n",
    "Clcompare=[Cl ClPHREEQC ]\n",
    "AgBrcompare=[AgBrs AgBrsPHREEQC ]\n",
    "AgClcompare=[AgCls AgClsPHREEQC ]\n",
    "Agmasserrorcompare=[Agmasserror AgmasserrorPHREEQC]\n",
    "Brmasserrorcompare=[Brmasserror BrmasserrorPHREEQC]\n",
    "Clmasserrorcompare=[Clmasserror ClmasserrorPHREEQC]\n",
    "timecompare=[tableautime PHREEQCtime]"
   ]
  },
  {
   "cell_type": "code",
   "execution_count": null,
   "id": "4f62d261-ac73-4ebe-81bc-a202ab605f47",
   "metadata": {},
   "outputs": [],
   "source": []
  }
 ],
 "metadata": {
  "kernelspec": {
   "display_name": "Octave (xoctave)",
   "language": "Octave",
   "name": "xoctave"
  },
  "language_info": {
   "codemirror_mode": "octave",
   "file_extension": ".m",
   "mimetype": "text/x-octave",
   "name": "Octave",
   "nbconvert_exporter": "",
   "pygments_lexer": "octave",
   "version": "7.3.0"
  }
 },
 "nbformat": 4,
 "nbformat_minor": 5
}
