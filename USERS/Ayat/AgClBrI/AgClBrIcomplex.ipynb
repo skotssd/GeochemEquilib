{
 "cells": [
  {
   "cell_type": "markdown",
   "id": "5a68337e-f9bf-4f54-8b4a-2c49de6ab77b",
   "metadata": {},
   "source": [
    "# Ag + Cl + Br + I"
   ]
  },
  {
   "cell_type": "code",
   "execution_count": 16,
   "id": "a3775e7c-e2fa-4c91-b1dc-c80da64efcf4",
   "metadata": {
    "tags": []
   },
   "outputs": [],
   "source": [
    "% setup environment\n",
    "% set path to equilibrium solver\n",
    "txt=pwd;\n",
    "n=length(txt);\n",
    "rootpath=txt; rootpath=txt(1:n-11);\n",
    "PHREEQCpath=[rootpath,'/runPHREEQC'];\n",
    "addpath(PHREEQCpath);\n",
    "JEQUILIBpath=[rootpath,'/JEQUILIB'];\n",
    "addpath(JEQUILIBpath);\n",
    "% clear data and number format\n",
    "clear; format short e\n",
    "% turn off warnings\n",
    "warning off\n",
    "%graphics_toolkit (\"notebook\"); \n",
    "%graphics_toolkit (\"plotly\"); \n",
    "%graphics_toolkit(\"gnuplot\")"
   ]
  },
  {
   "cell_type": "code",
   "execution_count": 18,
   "id": "a86eb385-baec-44dc-9e5e-5b5854971c18",
   "metadata": {},
   "outputs": [],
   "source": [
    "% MODEL USING TABLEAU (different gradients or log versus linear variables)\n",
    "%graphics_toolkit(\"notebook\")\n",
    "%model with just inorganic speciation\n",
    "%geochemical model\n",
    "% input the constants and solution chemistry\n",
    "\n",
    "flag1=1; %flag1 for concentration based search vector (1) or for log based search vector (2).\n",
    "flag2=2; %flag2 for numerical derivatives (2) or analtyical derivatives (1)\n",
    "%database=[]; \n",
    "flag3=0; % flag3 1 for show warnings. 0 no warnings\n",
    "flag4=0; %if=1 solve tableau one line at a time to get a good initial guess (no solids). really challenging probs only\n",
    "flag5=0; %if=1 use stored initial guess for including solids\n",
    "\n",
    "AgT=1e-6; BrT=1e-3; pH=7; ClT=1e-5; IT=1e-3;\n",
    "\n",
    "TOTALS=[AgT BrT];\n",
    "TOTALS(TOTALS==0)=1e-16; % get rid of zero values, b/c div by zero error\n",
    "%TOTALS=[inorganicTOTALS]; %TOTALS=inorganicTOTALS;\n",
    "pH=pH; pe=20.75-pH; \n",
    "\n",
    "%tic;\n",
    "%[Ag,Br,AgBrs,MASSERR]=AgBrtableau(pH,pe,TOTALS',flag1,flag2,flag3,flag4,flag5);\n",
    "%tableautime=toc;\n",
    "\n",
    "%Agmasserror=MASSERR(1); Brmasserror=MASSERR(2);"
   ]
  },
  {
   "cell_type": "code",
   "execution_count": 7,
   "id": "5a3ba30b-0fba-4665-9c32-4a9409cafe07",
   "metadata": {},
   "outputs": [
    {
     "name": "stdout",
     "output_type": "stream",
     "text": [
      "error: 'runPHREEQCv2noHA' undefined near line 1, column 62\n",
      "PHREEQCtime = 1.0566e+00\n",
      "error: 'solutionspeciesconcs' undefined near line 1, column 11\n",
      "error: 'solutionspeciesconcs' undefined near line 1, column 11\n",
      "error: 'solutionspeciesconcs' undefined near line 1, column 11\n",
      "error: 'solutionspeciesconcs' undefined near line 1, column 13\n",
      "error: 'solutionspeciesconcs' undefined near line 1, column 14\n",
      "error: 'solutionspeciesconcs' undefined near line 1, column 14\n",
      "error: 'solutionspeciesconcs' undefined near line 1, column 14\n",
      "error: 'solutionspeciesconcs' undefined near line 1, column 13\n",
      "error: 'solutionspeciesconcs' undefined near line 1, column 14\n",
      "error: 'solutionspeciesconcs' undefined near line 1, column 14\n",
      "error: 'solutionspeciesconcs' undefined near line 1, column 14\n",
      "error: 'solidconcs' undefined near line 1, column 14\n",
      "error: 'solidconcs' undefined near line 1, column 14\n",
      "error: 'AgPHREEQC' undefined near line 1, column 24\n",
      "error: 'BrPHREEQC' undefined near line 1, column 24\n",
      "error: 'ClPHREEQC' undefined near line 1, column 24\n"
     ]
    }
   ],
   "source": [
    "% MODEL USING PHREEQC\n",
    "\n",
    "minerals=[{'AgBrs'};{'AgCls'};{AhIs'}]; totalvector=[AgT; BrT; ClT; IT; ClT+BrT+IT]; totalnames=[{'Ag'}; {'Br'}; {'Cl'}; {'I'}; {'Na'}]; speciesexport=[{'Ag+'}; {'Br-'};{'Cl-'};{'AgBr'};{'AgBr2-'};{'AgBr3-2'};{'AgBr4-3'};{'AgCl'};{'AgCl2-'};{'AgCl3-2'};{'AgCl4-3'};{'AgI'};{'AgI2-'};{'AgI3-2'};{'AgI4-3'}];\n",
    "%database=['llnl_nosolubleAgCl.dat']; \n",
    "acid=['NaOH']; show=0; T=25;\n",
    "%database=['AgCl.dat']; \n",
    "database=['complexAgClBrI.dat']; \n",
    "\n",
    "tic\n",
    "[solutionspeciesconcs, speciesnames, solidconcs, solidnames]=runPHREEQCv2noHA(T,pH,pe,totalnames,totalvector,minerals,speciesexport,database,show,acid);\n",
    "PHREEQCtime=toc\n",
    "\n",
    "AgPHREEQC=solutionspeciesconcs(1); \n",
    "BrPHREEQC=solutionspeciesconcs(2); \n",
    "ClPHREEQC=solutionspeciesconcs(3);\n",
    "IPHREEQC=solutionspeciesconcs(4);\n",
    "AgBrPHREEQC=solutionspeciesconcs(5); \n",
    "AgBr2PHREEQC=solutionspeciesconcs(6); \n",
    "AgBr3PHREEQC=solutionspeciesconcs(7); \n",
    "AgBr4PHREEQC=solutionspeciesconcs(8);\n",
    "AgClPHREEQC=solutionspeciesconcs(9);\n",
    "AgCl2PHREEQC=solutionspeciesconcs(10);\n",
    "AgCl3PHREEQC=solutionspeciesconcs(11);\n",
    "AgCl4PHREEQC=solutionspeciesconcs(12);\n",
    "AgIPHREEQC=solutionspeciesconcs(13);\n",
    "AgI2PHREEQC=solutionspeciesconcs(14);\n",
    "AgI3PHREEQC=solitionspeciesconcs(15);\n",
    "AgI4PHREEQC=solutionspeciesconcs(16);\n",
    "AgBrsPHREEQC=solidconcs(1)\n",
    "AgClsPHREEQC=solidconcs(2)\n",
    "AgIsPHREEQC=solidconcs(3)\n",
    "\n",
    "AgmasserrorPHREEQC=AgT-AgPHREEQC-AgBrsPHREEQC-AgBrPHREEQC-AgBr2PHREEQC-AgBr3PHREEQC-AgBr4PHREEQC \n",
    "BrmasserrorPHREEQC=BrT-BrPHREEQC-AgBrsPHREEQC-AgBrPHREEQC-2*AgBr2PHREEQC-3*AgBr3PHREEQC-3*AgBr4PHREEQC\n",
    "ClmasserrorPHREEQC=ClT-ClPHREEQC-AgClsPHREEQC-AgClPHREEQC-2*AgCl2PHREEQC-3*AgCl4PHREEQC-3*AgCl4PHREEQC\n",
    "ImasserrorPHREEQC=IT-IPHREEQC-AgIsPHREEQC-AgIPGREEQC-2*AgI2PHREEQC-3*AgI3PHREEQC-3*AgI4PHREEQC"
   ]
  },
  {
   "cell_type": "code",
   "execution_count": 8,
   "id": "45c9fe59-6b41-429a-a019-5e2ca1d2ec59",
   "metadata": {},
   "outputs": [
    {
     "name": "stdout",
     "output_type": "stream",
     "text": [
      "error: 'exact' undefined near line 1, column 2\n",
      "error: 'check' undefined near line 1, column 2\n",
      "error: 'Ksp2' undefined near line 1, column 9\n"
     ]
    }
   ],
   "source": [
    " exact model\n",
    "\n",
    "Ksp1=10^-12.30; ksp2=10^-9.7453;\n",
    "\n",
    " check SI\n",
    "\n",
    "IAP=AgT*BrT;\n",
    "\n",
    "Agexact=AgT; Brexact=BrT; Clexact=ClT; AgBrsexact=0; AgClsexact=0;\n",
    "\n",
    "if IAP>=Ksp2\n",
    "a=1; b=BrT+ClT-AgT; c=(ksp2-ksp1);\n",
    "t=roots([a b c]); t=t(t>0); t=real(t(imag(t)==0));\n",
    "Agexact=t; AgBrsexact=AgT-Ag; Brexact=BrT-AgBrsexact; AgClsexact=AgT-Ag; Clexact=ClT-AgClsexact;\n",
    "end\n"
   ]
  },
  {
   "cell_type": "code",
   "execution_count": 11,
   "id": "466defe8-f2c0-4716-bd8f-d35c08c9bed8",
   "metadata": {},
   "outputs": [
    {
     "ename": "Execution exception",
     "evalue": "'Ag' undefined near line 1, column 12",
     "output_type": "error",
     "traceback": [
      "Execution exception: 'Ag' undefined near line 1, column 12",
      ""
     ]
    },
    {
     "ename": "Execution exception",
     "evalue": "'Br' undefined near line 1, column 12",
     "output_type": "error",
     "traceback": [
      "Execution exception: 'Br' undefined near line 1, column 12",
      ""
     ]
    },
    {
     "ename": "Execution exception",
     "evalue": "'Cl' undefined near line 1, column 12",
     "output_type": "error",
     "traceback": [
      "Execution exception: 'Cl' undefined near line 1, column 12",
      ""
     ]
    },
    {
     "ename": "Execution exception",
     "evalue": "'AgBrs' undefined near line 1, column 14",
     "output_type": "error",
     "traceback": [
      "Execution exception: 'AgBrs' undefined near line 1, column 14",
      ""
     ]
    },
    {
     "ename": "Execution exception",
     "evalue": "'AgCls' undefined near line 1, column 14",
     "output_type": "error",
     "traceback": [
      "Execution exception: 'AgCls' undefined near line 1, column 14",
      ""
     ]
    },
    {
     "ename": "Execution exception",
     "evalue": "'Agmasserror' undefined near line 1, column 21",
     "output_type": "error",
     "traceback": [
      "Execution exception: 'Agmasserror' undefined near line 1, column 21",
      ""
     ]
    },
    {
     "ename": "Execution exception",
     "evalue": "'Brmasserror' undefined near line 1, column 21",
     "output_type": "error",
     "traceback": [
      "Execution exception: 'Brmasserror' undefined near line 1, column 21",
      ""
     ]
    },
    {
     "ename": "Execution exception",
     "evalue": "'Clmasserror' undefined near line 1, column 21",
     "output_type": "error",
     "traceback": [
      "Execution exception: 'Clmasserror' undefined near line 1, column 21",
      ""
     ]
    },
    {
     "ename": "Execution exception",
     "evalue": "'tableautime' undefined near line 1, column 14",
     "output_type": "error",
     "traceback": [
      "Execution exception: 'tableautime' undefined near line 1, column 14",
      ""
     ]
    },
    {
     "name": "stderr",
     "output_type": "stream",
     "text": [
      "ERROR: received unknown message\n",
      "Message type: usage_request\n",
      "ERROR: received unknown message\n",
      "Message type: usage_request\n",
      "ERROR: received unknown message\n",
      "Message type: usage_request\n",
      "ERROR: received unknown message\n",
      "Message type: usage_request\n"
     ]
    }
   ],
   "source": [
    "% compare models\n",
    "\n",
    "Agcompare=[Ag AgPHREEQC Agexact]\n",
    "Brcompare=[Br BrPHREEQC Brexact]\n",
    "Clcompare=[Cl ClPHREEQC Clexact]\n",
    "AgBrcompare=[AgBrs AgBrsPHREEQC AgBrsexact]\n",
    "AgClcompare=[AgCls AgClsPHREEQC AgClsexact]\n",
    "Agmasserrorcompare=[Agmasserror AgmasserrorPHREEQC]\n",
    "Brmasserrorcompare=[Brmasserror BrmasserrorPHREEQC]\n",
    "Clmasserrorcompare=[Clmasserror ClmasserrroPHREEQC]\n",
    "timecompare=[tableautime PHREEQCtime]"
   ]
  },
  {
   "cell_type": "code",
   "execution_count": null,
   "id": "1d7e7f13-3474-4661-90bc-bbb3063093bc",
   "metadata": {},
   "outputs": [],
   "source": []
  }
 ],
 "metadata": {
  "kernelspec": {
   "display_name": "Octave",
   "language": "octave",
   "name": "octave"
  },
  "language_info": {
   "file_extension": ".m",
   "help_links": [
    {
     "text": "GNU Octave",
     "url": "https://www.gnu.org/software/octave/support.html"
    },
    {
     "text": "Octave Kernel",
     "url": "https://github.com/Calysto/octave_kernel"
    },
    {
     "text": "MetaKernel Magics",
     "url": "https://metakernel.readthedocs.io/en/latest/source/README.html"
    }
   ],
   "mimetype": "text/x-octave",
   "name": "octave",
   "version": "7.3.0"
  }
 },
 "nbformat": 4,
 "nbformat_minor": 5
}
