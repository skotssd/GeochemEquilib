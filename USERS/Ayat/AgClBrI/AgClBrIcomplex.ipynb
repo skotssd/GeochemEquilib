{
 "cells": [
  {
   "cell_type": "markdown",
   "id": "5a68337e-f9bf-4f54-8b4a-2c49de6ab77b",
   "metadata": {},
   "source": [
    "# Ag + Cl + Br + I"
   ]
  },
  {
   "cell_type": "code",
   "execution_count": 1,
   "id": "a3775e7c-e2fa-4c91-b1dc-c80da64efcf4",
   "metadata": {
    "tags": []
   },
   "outputs": [],
   "source": [
    "% setup environment\n",
    "% set path to equilibrium solver\n",
    "txt=pwd;\n",
    "n=length(txt);\n",
    "rootpath=txt; rootpath=txt(1:n-19);\n",
    "PHREEQCpath=[rootpath,'/runPHREEQC'];\n",
    "addpath(PHREEQCpath);\n",
    "JEQUILIBpath=[rootpath,'/JEQUILIB'];\n",
    "addpath(JEQUILIBpath);\n",
    "% clear data and number format\n",
    "clear; format short e\n",
    "% turn off warnings\n",
    "warning off\n",
    "%graphics_toolkit (\"notebook\"); \n",
    "%graphics_toolkit (\"plotly\"); \n",
    "%graphics_toolkit(\"gnuplot\")"
   ]
  },
  {
   "cell_type": "code",
   "execution_count": 2,
   "id": "a86eb385-baec-44dc-9e5e-5b5854971c18",
   "metadata": {},
   "outputs": [
    {
     "name": "stdout",
     "output_type": "stream",
     "text": [
      "X no ITER EXEED no solid logX\n"
     ]
    }
   ],
   "source": [
    "% MODEL USING TABLEAU (different gradients or log versus linear variables)\n",
    "%graphics_toolkit(\"notebook\")\n",
    "%model with just inorganic speciation\n",
    "%geochemical model\n",
    "% input the constants and solution chemistry\n",
    "\n",
    "flag1=1; %flag1 for concentration based search vector (1) or for log based search vector (2).\n",
    "flag2=2; %flag2 for numerical derivatives (2) or analtyical derivatives (1)\n",
    "%database=[]; \n",
    "flag3=0; % flag3 1 for show warnings. 0 no warnings\n",
    "flag4=0; %if=1 solve tableau one line at a time to get a good initial guess (no solids). really challenging probs only\n",
    "flag5=0; %if=1 use stored initial guess for including solids\n",
    "\n",
    "AgT=1e-5; BrT=1e-3; ClT=1e-5; IT=1e-5; pH=7;\n",
    "\n",
    "TOTALS=[AgT BrT ClT IT];\n",
    "TOTALS(TOTALS==0)=1e-16; % get rid of zero values, b/c div by zero error\n",
    "%TOTALS=[inorganicTOTALS]; %TOTALS=inorganicTOTALS;\n",
    "pH=pH; pe=20.75-pH; \n",
    "\n",
    "tic;\n",
    "[Ag,Br,Cl,I,AgBrs,AgCls,AgIs,MASSERR]=AgClBrItableaumorecomplex(pH,pe,TOTALS',flag1,flag2,flag3,flag4,flag5);\n",
    "tableautime=toc;\n",
    "Agmasserror=MASSERR(1); Brmasserror=MASSERR(2); Clmasserror=MASSERR(3); Imasserror=MASSERR(4);"
   ]
  },
  {
   "cell_type": "code",
   "execution_count": 1,
   "id": "6928dd21-3fdd-4147-9ab8-a1a5861e47ca",
   "metadata": {},
   "outputs": [
    {
     "ename": "Execution exception",
     "evalue": "'AgT' undefined near line 1, column 55",
     "output_type": "error",
     "traceback": [
      "Execution exception: 'AgT' undefined near line 1, column 55",
      ""
     ]
    },
    {
     "ename": "Execution exception",
     "evalue": "'pH' undefined near line 1, column 82",
     "output_type": "error",
     "traceback": [
      "Execution exception: 'pH' undefined near line 1, column 82",
      ""
     ]
    },
    {
     "ename": "Execution exception",
     "evalue": "'solutionspeciesconcs' undefined near line 1, column 11",
     "output_type": "error",
     "traceback": [
      "Execution exception: 'solutionspeciesconcs' undefined near line 1, column 11",
      ""
     ]
    },
    {
     "ename": "Execution exception",
     "evalue": "'solutionspeciesconcs' undefined near line 1, column 11",
     "output_type": "error",
     "traceback": [
      "Execution exception: 'solutionspeciesconcs' undefined near line 1, column 11",
      ""
     ]
    },
    {
     "ename": "Execution exception",
     "evalue": "'solutionspeciesconcs' undefined near line 1, column 11",
     "output_type": "error",
     "traceback": [
      "Execution exception: 'solutionspeciesconcs' undefined near line 1, column 11",
      ""
     ]
    },
    {
     "ename": "Execution exception",
     "evalue": "'solutionspeciesconcs' undefined near line 1, column 10",
     "output_type": "error",
     "traceback": [
      "Execution exception: 'solutionspeciesconcs' undefined near line 1, column 10",
      ""
     ]
    },
    {
     "ename": "Execution exception",
     "evalue": "'solutionspeciesconcs' undefined near line 1, column 13",
     "output_type": "error",
     "traceback": [
      "Execution exception: 'solutionspeciesconcs' undefined near line 1, column 13",
      ""
     ]
    },
    {
     "ename": "Execution exception",
     "evalue": "'solutionspeciesconcs' undefined near line 1, column 14",
     "output_type": "error",
     "traceback": [
      "Execution exception: 'solutionspeciesconcs' undefined near line 1, column 14",
      ""
     ]
    },
    {
     "ename": "Execution exception",
     "evalue": "'solutionspeciesconcs' undefined near line 1, column 14",
     "output_type": "error",
     "traceback": [
      "Execution exception: 'solutionspeciesconcs' undefined near line 1, column 14",
      ""
     ]
    },
    {
     "ename": "Execution exception",
     "evalue": "'solutionspeciesconcs' undefined near line 1, column 14",
     "output_type": "error",
     "traceback": [
      "Execution exception: 'solutionspeciesconcs' undefined near line 1, column 14",
      ""
     ]
    },
    {
     "ename": "Execution exception",
     "evalue": "'solutionspeciesconcs' undefined near line 1, column 13",
     "output_type": "error",
     "traceback": [
      "Execution exception: 'solutionspeciesconcs' undefined near line 1, column 13",
      ""
     ]
    },
    {
     "ename": "Execution exception",
     "evalue": "'solutionspeciesconcs' undefined near line 1, column 14",
     "output_type": "error",
     "traceback": [
      "Execution exception: 'solutionspeciesconcs' undefined near line 1, column 14",
      ""
     ]
    },
    {
     "ename": "Execution exception",
     "evalue": "'solutionspeciesconcs' undefined near line 1, column 14",
     "output_type": "error",
     "traceback": [
      "Execution exception: 'solutionspeciesconcs' undefined near line 1, column 14",
      ""
     ]
    },
    {
     "ename": "Execution exception",
     "evalue": "'solutionspeciesconcs' undefined near line 1, column 14",
     "output_type": "error",
     "traceback": [
      "Execution exception: 'solutionspeciesconcs' undefined near line 1, column 14",
      ""
     ]
    },
    {
     "ename": "Execution exception",
     "evalue": "'solutionspeciesconcs' undefined near line 1, column 12",
     "output_type": "error",
     "traceback": [
      "Execution exception: 'solutionspeciesconcs' undefined near line 1, column 12",
      ""
     ]
    },
    {
     "ename": "Execution exception",
     "evalue": "'solutionspeciesconcs' undefined near line 1, column 13",
     "output_type": "error",
     "traceback": [
      "Execution exception: 'solutionspeciesconcs' undefined near line 1, column 13",
      ""
     ]
    },
    {
     "ename": "Execution exception",
     "evalue": "'solutionspeciesconcs' undefined near line 1, column 13",
     "output_type": "error",
     "traceback": [
      "Execution exception: 'solutionspeciesconcs' undefined near line 1, column 13",
      ""
     ]
    },
    {
     "ename": "Execution exception",
     "evalue": "'solutionspeciesconcs' undefined near line 1, column 13",
     "output_type": "error",
     "traceback": [
      "Execution exception: 'solutionspeciesconcs' undefined near line 1, column 13",
      ""
     ]
    },
    {
     "ename": "Execution exception",
     "evalue": "'solidconcs' undefined near line 1, column 14",
     "output_type": "error",
     "traceback": [
      "Execution exception: 'solidconcs' undefined near line 1, column 14",
      ""
     ]
    },
    {
     "ename": "Execution exception",
     "evalue": "'solidconcs' undefined near line 1, column 14",
     "output_type": "error",
     "traceback": [
      "Execution exception: 'solidconcs' undefined near line 1, column 14",
      ""
     ]
    },
    {
     "ename": "Execution exception",
     "evalue": "'solidconcs' undefined near line 1, column 13",
     "output_type": "error",
     "traceback": [
      "Execution exception: 'solidconcs' undefined near line 1, column 13",
      ""
     ]
    },
    {
     "ename": "Execution exception",
     "evalue": "'AgT' undefined near line 1, column 20",
     "output_type": "error",
     "traceback": [
      "Execution exception: 'AgT' undefined near line 1, column 20",
      ""
     ]
    },
    {
     "ename": "Execution exception",
     "evalue": "'BrT' undefined near line 1, column 20",
     "output_type": "error",
     "traceback": [
      "Execution exception: 'BrT' undefined near line 1, column 20",
      ""
     ]
    },
    {
     "ename": "Execution exception",
     "evalue": "'ClT' undefined near line 1, column 20",
     "output_type": "error",
     "traceback": [
      "Execution exception: 'ClT' undefined near line 1, column 20",
      ""
     ]
    },
    {
     "ename": "Execution exception",
     "evalue": "'IT' undefined near line 1, column 19",
     "output_type": "error",
     "traceback": [
      "Execution exception: 'IT' undefined near line 1, column 19",
      ""
     ]
    }
   ],
   "source": [
    "% MODEL USING PHREEQC\n",
    "\n",
    "minerals=[{'AgBrs'};{'AgCls'};{'AgIs'}]; totalvector=[AgT; BrT; ClT; IT; ClT+BrT+IT]; totalnames=[{'Ag'};{'Br'};{'Cl'};{'I'};{'Na'}]; \n",
    "speciesexport=[{'Ag+'};{'Br-'};{'Cl-'};{'I-'};{'AgBr'};{'AgBr2-'};{'AgBr3-2'};{'AgBr4-3'};{'AgCl'};{'AgCl2-'};{'AgCl3-2'};{'AgCl4-3'};{'AgI'};{'AgI2-'};{'AgI3-2'};{'AgI4-3'}];\n",
    "acid=['NaOH']; show=0; T=25;\n",
    "database=['complexAgClBrI.dat']; \n",
    "\n",
    "\n",
    "tic;\n",
    "[solutionspeciesconcs, speciesnames, solidconcs, solidnames]=runPHREEQCv2noHA(T',pH,pe,totalnames,totalvector,minerals,speciesexport,database,show,acid);\n",
    "PHREEQCtime=toc;\n",
    "\n",
    "AgPHREEQC=solutionspeciesconcs(1); \n",
    "BrPHREEQC=solutionspeciesconcs(2);\n",
    "ClPHREEQC=solutionspeciesconcs(3); \n",
    "IPHREEQC=solutionspeciesconcs(4); \n",
    "AgBrPHREEQC=solutionspeciesconcs(5); \n",
    "AgBr2PHREEQC=solutionspeciesconcs(6); \n",
    "AgBr3PHREEQC=solutionspeciesconcs(7); \n",
    "AgBr4PHREEQC=solutionspeciesconcs(8);\n",
    "AgClPHREEQC=solutionspeciesconcs(9); \n",
    "AgCl2PHREEQC=solutionspeciesconcs(10); \n",
    "AgCl3PHREEQC=solutionspeciesconcs(11); \n",
    "AgCl4PHREEQC=solutionspeciesconcs(12);\n",
    "AgIPHREEQC=solutionspeciesconcs(13); \n",
    "AgI2PHREEQC=solutionspeciesconcs(14); \n",
    "AgI3PHREEQC=solutionspeciesconcs(15); \n",
    "AgI4PHREEQC=solutionspeciesconcs(16);\n",
    "AgBrsPHREEQC=solidconcs(1);\n",
    "AgClsPHREEQC=solidconcs(2);\n",
    "AgIsPHREEQC=solidconcs(3);\n",
    "\n",
    "\n",
    "AgmasserrorPHREEQC=AgT-AgPHREEQC-AgBrsPHREEQC-AgBrPHREEQC-AgBr2PHREEQC-AgBr3PHREEQC-AgBr4PHREEQC-AgClsPHREEQC-AgClPHREEQC-AgCl2PHREEQC-AgCl3PHREEQC-AgCl4PHREEQC-AgIsPHREEQC-AgIPHREEQC-AgI2PHREEQC-AgI3PHREEQC-AgI4PHREEQC; \n",
    "BrmasserrorPHREEQC=BrT-BrPHREEQC-AgBrsPHREEQC-AgBrPHREEQC-2*AgBr2PHREEQC-3*AgBr3PHREEQC-4*AgBr4PHREEQC;\n",
    "ClmasserrorPHREEQC=ClT-ClPHREEQC-AgClsPHREEQC-AgClPHREEQC-2*AgCl2PHREEQC-3*AgCl3PHREEQC-4*AgCl4PHREEQC;\n",
    "ImasserrorPHREEQC=IT-IPHREEQC-AgIsPHREEQC-AgIPHREEQC-2*AgI2PHREEQC-3*AgI3PHREEQC-4*AgI4PHREEQC;\n"
   ]
  },
  {
   "cell_type": "code",
   "execution_count": null,
   "id": "466defe8-f2c0-4716-bd8f-d35c08c9bed8",
   "metadata": {},
   "outputs": [],
   "source": [
    "% compare models\n",
    "\n",
    "Agcompare=[Ag AgPHREEQC Agexact]\n",
    "Brcompare=[Br BrPHREEQC Brexact]\n",
    "Clcompare=[Cl ClPHREEQC Clexact]\n",
    "Icompare=[I IPHREEQC Iexact]\n",
    "AgBrcompare=[AgBrs AgBrsPHREEQC AgBrsexact]\n",
    "AgClcompare=[AgCls AgClsPHREEQC AgClsexact]\n",
    "AgIcompare=[AgIs AgIsPHREEQC AgIsexact]\n",
    "Agmasserrorcompare=[Agmasserror AgmasserrorPHREEQC]\n",
    "Brmasserrorcompare=[Brmasserror BrmasserrorPHREEQC]\n",
    "Clmasserrorcompare=[Clmasserror ClmasserrroPHREEQC]\n",
    "Imasserrorcompare=[Imasserror ImasserrorPHREEQC]\n",
    "timecompare=[tableautime PHREEQCtime]"
   ]
  },
  {
   "cell_type": "code",
   "execution_count": null,
   "id": "1b3e6c09-43d6-435b-930c-1d3dc23ef8fa",
   "metadata": {},
   "outputs": [],
   "source": []
  }
 ],
 "metadata": {
  "kernelspec": {
   "display_name": "Octave (xoctave)",
   "language": "Octave",
   "name": "xoctave"
  },
  "language_info": {
   "codemirror_mode": "octave",
   "file_extension": ".m",
   "mimetype": "text/x-octave",
   "name": "Octave",
   "nbconvert_exporter": "",
   "pygments_lexer": "octave",
   "version": "7.3.0"
  }
 },
 "nbformat": 4,
 "nbformat_minor": 5
}
