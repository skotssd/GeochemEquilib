{
 "cells": [
  {
   "cell_type": "markdown",
   "id": "94e5fb31-a55d-4eed-9cec-13d4351dbb3c",
   "metadata": {
    "tags": []
   },
   "source": [
    "# AgCl with Br and I speciation plot"
   ]
  },
  {
   "cell_type": "code",
   "execution_count": 1,
   "id": "4dd02907-ebb3-4c92-97aa-386c4ba396ef",
   "metadata": {
    "tags": []
   },
   "outputs": [],
   "source": [
    "% setup environment\n",
    "% set path to equilibrium solver\n",
    "txt=pwd;\n",
    "n=length(txt);\n",
    "rootpath=txt; rootpath=txt(1:n-19);\n",
    "PHREEQCpath=[rootpath,'/runPHREEQC'];\n",
    "addpath(PHREEQCpath);\n",
    "JEQUILIBpath=[rootpath,'/JEQUILIB'];\n",
    "addpath(JEQUILIBpath);\n",
    "% clear data and number format\n",
    "clear; format short e\n",
    "% turn off warnings\n",
    "warning off\n",
    "%graphics_toolkit('notebook'); % does not work\n",
    "%graphics_toolkit(\"plotly\"); % works for XOctave\n",
    "%graphics_toolkit(\"gnuplot\");% does not work for XOctave. good for Octave\n",
    "%available_graphics_toolkits()\n",
    "%loaded_graphics_toolkits()\n"
   ]
  },
  {
   "cell_type": "code",
   "execution_count": 3,
   "id": "cc178f08-ff4f-4b04-8b49-e6fa8101f05e",
   "metadata": {},
   "outputs": [
    {
     "ename": "Execution exception",
     "evalue": "'logClT' undefined near line 2, column 77",
     "output_type": "error",
     "traceback": [
      "Execution exception: 'logClT' undefined near line 2, column 77",
      ""
     ]
    }
   ],
   "source": [
    "%equilibrium problem\n",
    "AgT=0.01; BrT=0.01; IT=0.01; pH=7;  pe=20.75-pH; logAgT=-9:0.02:-1; ClT=10.^logClT;"
   ]
  },
  {
   "cell_type": "code",
   "execution_count": 7,
   "id": "3efd1247-69a9-4ae2-a559-ca950e99674f",
   "metadata": {
    "tags": []
   },
   "outputs": [
    {
     "ename": "Execution exception",
     "evalue": "hdr(22): out of bound 1 (dimensions are 1x1)",
     "output_type": "error",
     "traceback": [
      "Execution exception: hdr(22): out of bound 1 (dimensions are 1x1)",
      "error: called from\n    runPHREEQCv2noHA at line 110 column 52\n"
     ]
    }
   ],
   "source": [
    "% MODEL USING PHREEQC\n",
    "\n",
    "for i=1:length(ClT)\n",
    "\n",
    "minerals=[{'AgCls'};{'AgBrs'};{'AgIs'}]; totalvector=[AgT; ClT; BrT; IT; ClT(i)+BrT+IT]; totalnames=[{'Ag'}; {'Cl'}; {'Br'}; {'I'}; {'Na'}]; \n",
    "speciesexport=[{'Ag+'}; {'Cl-'};{'Br-'};{'I-'};{'AgCl'};{'AgCl2-'};{'AgCl3-2'};{'AgCl4-3'};{'AgBr'};{'AgBr2-'};{'AgBr3-2'};{'AgBr4-3'};{'AgI'};{'AgI2-'};{'AgI3-2'};{'AgI4-3'}];\n",
    "%database=['llnl_nosolubleAgCl.dat']; \n",
    "acid=['NaOH']; show=0; T=25;\n",
    "%database=['AgCl.dat']; \n",
    "database=['complexAgClBrI.dat']; \n",
    "\n",
    "tic\n",
    "[solutionspeciesconcs, speciesnames, solidconcs, solidnames]=runPHREEQCv2noHA(T,pH,pe,totalnames,totalvector,minerals,speciesexport,database,show,acid);\n",
    "PHREEQCtime=toc;\n",
    "\n",
    "Ag(i)=solutionspeciesconcs(1); \n",
    "Cl(i)=solutionspeciesconcs(2);\n",
    "Br(i)=solutionspeciesconcs(3);\n",
    "I(i)=solutionspeciesconcs(4);\n",
    "AgCl(i)=solutionspeciesconcs(5); \n",
    "AgCl2(i)=solutionspeciesconcs(6);\n",
    "AgCl3(i)=solutionspeciesconcs(7);\n",
    "AgCl4(i)=solutionspeciesconcs(8);\n",
    "AgBr(i)=solutionspeciesconcs(9);\n",
    "AgBr2(i)=solutionsepciesconcs(10);\n",
    "AgBr3(i)=solutionspeciesconcs(11);\n",
    "AgBr4(i)=solutionspceiesconcs(12);\n",
    "AgI(i)=solutionspeciesconcs(13);\n",
    "AgI2(i)=solutionspeciesconcs(14);\n",
    "AgI3(i)=solutionspeciesconcs(15);\n",
    "AgI4(i)=solutionspeciesconcs(16);\n",
    "AgCls(i)=solidconcs(1);\n",
    "AgBrs(i)=solidconcs(2);\n",
    "AgI(i)=solidconcs(3);\n",
    "\n",
    "end"
   ]
  },
  {
   "cell_type": "code",
   "execution_count": 3,
   "id": "c9ee1081-bfb4-4b70-816b-935a7b42a31f",
   "metadata": {
    "tags": []
   },
   "outputs": [
    {
     "ename": "Execution exception",
     "evalue": "'Ag' undefined near line 2, column 16",
     "output_type": "error",
     "traceback": [
      "Execution exception: 'Ag' undefined near line 2, column 16",
      ""
     ]
    },
    {
     "name": "stderr",
     "output_type": "stream",
     "text": [
      "ERROR: received unknown message\n",
      "Message type: usage_request\n"
     ]
    }
   ],
   "source": [
    "%plot -s 600,600 -f 'svg'\n",
    "%graph\n",
    "%h=\n",
    "plot(logAgT,log10(Ag),logAgT,log10(AgBrs),logAgT,log10(AgBr),logAgT,log10(AgBr2),logAgT,log10(AgCl3),logAgT,log10(AgBr4),logAgT,log10(Br),logAgT,log10(AgCls),logAgT,log10(AgCl),logAgT,log10(AgCl2),logAgT,log10(AgCl3),logAgT,log10(AgCl4),logAgT,log10(Cl),logAgT,log10(AgIs),logAgT,log10(AgI),logAgT,log10(AgI2),logAgT,log10(AgI3),logAgT,log10(AgI4),logAgT,log10(I));\n",
    "%set(h,'linewidth',2)\n",
    "%set(gca,'linewidth',2,'fontsize',12)\n",
    "%xlabel('logBrT'); ylabel('log(species)')\n",
    "%legend('Ag','AgBrs','AgBr','AgBr2','AgBr3','AgBr4','Br','AgCls','AgCl','AgCl2','AgCl3','AgCl4','Cl','AgIs','AgI','AgI2','AgI3','AgI4','I','location','eastoutside')\n",
    "\n",
    "%exportforplot=[...\n",
    "%logAgT' log10(Ag)' log10(AgBrs)' log10(AgBr)' log10(AgBr2)' log10(AgBr3)' log10(AgBr4)' log10(AgCls)' log10(AgCl)' log10(AgCl2)' log10(AgCl3)' log10(AgCl4)' log10(AgIs)' log10(AgI)' log10(AgI2)' log10(AgI3)' log10(AgI4)'\n",
    "%]"
   ]
  }
 ],
 "metadata": {
  "kernelspec": {
   "display_name": "Octave (xoctave)",
   "language": "Octave",
   "name": "xoctave"
  },
  "language_info": {
   "codemirror_mode": "octave",
   "file_extension": ".m",
   "mimetype": "text/x-octave",
   "name": "Octave",
   "nbconvert_exporter": "",
   "pygments_lexer": "octave",
   "version": "7.3.0"
  }
 },
 "nbformat": 4,
 "nbformat_minor": 5
}
