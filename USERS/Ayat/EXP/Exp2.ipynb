{
 "cells": [
  {
   "cell_type": "markdown",
   "id": "98c0f15d-8f6a-46c9-ab7a-27c52ce67d65",
   "metadata": {
    "tags": []
   },
   "source": [
    "# 0.1-100µM Ag with Cl and Br\n"
   ]
  },
  {
   "cell_type": "code",
   "execution_count": 91,
   "id": "77a0442a-1e0c-46d7-b106-30289ee0b5b0",
   "metadata": {
    "tags": []
   },
   "outputs": [],
   "source": [
    "% setup environment\n",
    "% set path to equilibrium solver\n",
    "txt=pwd;\n",
    "n=length(txt);\n",
    "rootpath=txt; rootpath=txt(1:n-15);\n",
    "PHREEQCpath=[rootpath,'/runPHREEQC'];\n",
    "addpath(PHREEQCpath);\n",
    "JEQUILIBpath=[rootpath,'/JEQUILIB'];\n",
    "addpath(JEQUILIBpath);\n",
    "% clear data and number format\n",
    "clear; format short e\n",
    "% turn off warnings\n",
    "warning off\n",
    "%graphics_toolkit (\"notebook\"); \n",
    "graphics_toolkit (\"plotly\"); \n",
    "%graphics_toolkit(\"gnuplot\")\n",
    "%available_graphics_toolkits()\n",
    "%loaded_graphics_toolkits"
   ]
  },
  {
   "cell_type": "code",
   "execution_count": 92,
   "id": "ed2f8b10-1ca7-4357-b688-17362ec365c9",
   "metadata": {
    "tags": []
   },
   "outputs": [],
   "source": [
    "%0.1µM \n",
    "\n",
    "AgT=1e-6; BrT=1e-5; pH=7; pe=20.75-pH; logClT=-7:0.1:-1; ClT=10.^logClT;\n",
    "%AgT=1e-6; ClT=1e-5; pH=7; pe=20.75-pH; logBrT=-6:1:-1; BrT=10.^logBrT;"
   ]
  },
  {
   "cell_type": "code",
   "execution_count": 93,
   "id": "71a534dd-fa29-41e1-a713-acb6452d7333",
   "metadata": {
    "tags": []
   },
   "outputs": [],
   "source": [
    "% MODEL USING PHREEQC\n",
    "\n",
    "for i=1:length(BrT);\n",
    "\n",
    "minerals=[{'AgBrs'};]; totalvector=[AgT; BrT(i); BrT(i)]; totalnames=[{'Ag'}; {'Br'}; {'Na'}]; \n",
    "speciesexport=[{'Ag+'};{'Br-'};{'AgBr'};{'AgBr2-'};{'AgBr3-2'};{'AgBr4-3'}];\n",
    "acid=['NaOH']; show=0; T=25;\n",
    "database=['complexAgBrs.dat']; \n",
    "\n",
    "tic;\n",
    "[solutionspeciesconcs, speciesnames, solidconcs, solidnames]=runPHREEQCv2noHA(T,pH,pe,totalnames,totalvector,minerals,speciesexport,database,show,acid);\n",
    "PHREEQCtime=toc;\n",
    "\n",
    "Ag(i)=solutionspeciesconcs(1); \n",
    "Br(i)=solutionspeciesconcs(2); \n",
    "AgBr(i)=solutionspeciesconcs(3); \n",
    "AgBr2(i)=solutionspeciesconcs(4);\n",
    "AgBr3(i)=solutionspeciesconcs(5);\n",
    "AgBr4(i)=solutionspeciesconcs(6);\n",
    "AgBrs(i)=solidconcs(1);\n",
    "\n",
    "end"
   ]
  },
  {
   "cell_type": "code",
   "execution_count": 78,
   "id": "3db9b2b4-cf15-4624-9169-d47aa555d290",
   "metadata": {
    "tags": []
   },
   "outputs": [],
   "source": [
    "% MODEL USING PHREEQC\n",
    "\n",
    "for i=1:length(ClT)\n",
    "\n",
    "minerals=[{'AgBrs'};{'AgCls'}]; totalvector=[AgT; BrT; ClT(i); ClT(i)+BrT]; totalnames=[{'Ag'}; {'Br'}; {'Cl'}; {'Na'}]; \n",
    "speciesexport=[{'Ag+'};{'Br-'};{'Cl-'};{'AgBr'};{'AgBr2-'};{'AgBr3-2'};{'AgBr4-3'};{'AgCl'};{'AgCl2-'};{'AgCl3-2'};{'AgCl4-3'}];\n",
    "%database=['llnl_nosolubleAgCl.dat']; \n",
    "acid=['NaOH']; show=1; T=25;\n",
    "%database=['AgCl.dat']; \n",
    "database=['complexAgClBrs.dat']; \n",
    "\n",
    "tic\n",
    "[solutionspeciesconcs, speciesnames, solidconcs, solidnames]=runPHREEQCv2noHA(T,pH,pe,totalnames,totalvector,minerals,speciesexport,database,show,acid);\n",
    "PHREEQCtime=toc;\n",
    "\n",
    "AgPHREEQC(i)=solutionspeciesconcs(1); \n",
    "BrPHREEQC(i)=solutionspeciesconcs(2); \n",
    "ClPHREEQC(i)=solutionspeciesconcs(3);\n",
    "AgBrPHREEQC(i)=solutionspeciesconcs(4); \n",
    "AgBr2PHREEQC(i)=solutionspeciesconcs(5);\n",
    "AgBr3PHREEQC(i)=solutionspeciesconcs(6);\n",
    "AgBr4PHREEQC(i)=solutionspeciesconcs(7);\n",
    "AgClPHREEQC(i)=solutionspeciesconcs(8);\n",
    "AgCl2PHREEQC(i)=solutionspeciesconcs(9);\n",
    "AgCl3PHREEQC(i)=solutionspeciesconcs(10);\n",
    "AgCl4PHREEQC(i)=solutionspeciesconcs(11);\n",
    "AgBrsPHREEQC(i)=solidconcs(1);\n",
    "AgClsPHREEQC(i)=solidconcs(2);\n",
    "\n",
    "end"
   ]
  },
  {
   "cell_type": "code",
   "execution_count": 94,
   "id": "2c49ac72-01c2-482a-8014-1465d9b8045d",
   "metadata": {
    "tags": []
   },
   "outputs": [
    {
     "ename": "Execution exception",
     "evalue": "'logBrT' undefined near line 3, column 8",
     "output_type": "error",
     "traceback": [
      "Execution exception: 'logBrT' undefined near line 3, column 8",
      ""
     ]
    },
    {
     "ename": "Execution exception",
     "evalue": "'h' undefined near line 1, column 8",
     "output_type": "error",
     "traceback": [
      "Execution exception: 'h' undefined near line 1, column 8",
      ""
     ]
    },
    {
     "data": {
      "application/vnd.plotly.v1+json": {
       "layout": {
        "height": 420,
        "hovermode": "closest",
        "margin": {
         "b": 0,
         "l": 0,
         "r": 0,
         "t": 0
        },
        "plot_bgcolor": "rgba(0, 0, 0, 0)",
        "showlegend": false,
        "width": 560,
        "xaxis": {
         "anchor": "y",
         "autorange": false,
         "domain": [
          0.13,
          0.905
         ],
         "exponentformat": "none",
         "gridcolor": "rgba(38,38,38,0.15)",
         "gridwidth": 2,
         "linecolor": "rgb(38,38,38)",
         "linewidth": 2,
         "mirror": false,
         "range": [
          0,
          1
         ],
         "showgrid": false,
         "showline": true,
         "side": "bottom",
         "spikedash": "solid",
         "spikemode": "across",
         "spikesides": false,
         "spikethickness": 1,
         "tickangle": 0,
         "tickcolor": "rgb(38,38,38)",
         "tickfont": {
          "color": "rgb(38,38,38)",
          "size": 12
         },
         "ticklen": 3,
         "ticks": "inside",
         "ticktext": [
          "0",
          "0.2",
          "0.4",
          "0.6",
          "0.8",
          "1"
         ],
         "tickvals": [
          0,
          0.2,
          0.4,
          0.6000000000000001,
          0.8,
          1
         ],
         "title": {
          "font": {
           "color": "rgb(38,38,38)",
           "size": 13.200000000000001
          },
          "text": "logClT"
         },
         "type": "linear",
         "visible": true,
         "zeroline": false
        },
        "yaxis": {
         "anchor": "x",
         "autorange": false,
         "domain": [
          0.11,
          0.9249999999999999
         ],
         "exponentformat": "none",
         "gridcolor": "rgba(38,38,38,0.15)",
         "gridwidth": 2,
         "linecolor": "rgb(38,38,38)",
         "linewidth": 2,
         "mirror": false,
         "range": [
          0,
          1
         ],
         "showgrid": false,
         "showline": true,
         "side": "left",
         "spikedash": "solid",
         "spikemode": "across",
         "spikesides": false,
         "spikethickness": 1,
         "tickangle": 0,
         "tickcolor": "rgb(38,38,38)",
         "tickfont": {
          "color": "rgb(38,38,38)",
          "size": 12
         },
         "ticklen": 3,
         "ticks": "inside",
         "ticktext": [
          "0",
          "0.2",
          "0.4",
          "0.6",
          "0.8",
          "1"
         ],
         "tickvals": [
          0,
          0.2,
          0.4,
          0.6000000000000001,
          0.8,
          1
         ],
         "title": {
          "font": {
           "color": "rgb(38,38,38)",
           "size": 13.200000000000001
          },
          "text": "log[species]"
         },
         "type": "linear",
         "visible": true,
         "zeroline": false
        }
       }
      },
      "image/png": "[encoded data removed]"
     },
     "metadata": {},
     "output_type": "display_data"
    }
   ],
   "source": [
    "%h=plot(log10(ClT),log10(Ag),log10(ClT),log10(AgCls),log10(ClT),log10(AgCl),log10(ClT),log10(AgCl2),log10(ClT),log10(AgCl3),log10(ClT),log10(AgCl4));\n",
    "%h=plot(logClT,log10(Br));\n",
    "h=plot(logBrT,log10(Ag));\n",
    "%h=plot(logClT,log10(Ag),logClT,log10(Br));\n",
    "%h=plot(log10(ClT),log10(Ag),log10(ClT),log10(AgCl),log10(ClT),log10(AgCls));\n",
    "\n",
    "set(h,'linewidth',2);\n",
    "set(gca,'linewidth',2,'fontsize',12);\n",
    "xlabel('logClT'); ylabel('log[species]');\n",
    "%xlabel('logCl'); ylabel('logAg');\n",
    "%legend('Ag','Br','location','eastoutside')\n",
    "%legend('Ag','AgCl','AgCls','location','eastoutside')\n",
    "%axis([-12 0 -40 -1])\n",
    "%exportforplot=[...\n",
    "%log10(Ag)' log10(Cl)' log10(AgCls)' log10(AgCl)' log10(AgCl2)' log10(AgCl3)' log10(AgCl4)'\n",
    "%]\n",
    "\n"
   ]
  },
  {
   "cell_type": "code",
   "execution_count": null,
   "id": "5ac77179-3755-4841-9aea-5af043c66aeb",
   "metadata": {},
   "outputs": [],
   "source": []
  }
 ],
 "metadata": {
  "kernelspec": {
   "display_name": "Octave (xoctave)",
   "language": "Octave",
   "name": "xoctave"
  },
  "language_info": {
   "codemirror_mode": "octave",
   "file_extension": ".m",
   "mimetype": "text/x-octave",
   "name": "Octave",
   "nbconvert_exporter": "",
   "pygments_lexer": "octave",
   "version": "7.3.0"
  }
 },
 "nbformat": 4,
 "nbformat_minor": 5
}
