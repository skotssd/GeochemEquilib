{
 "cells": [
  {
   "cell_type": "markdown",
   "id": "98c0f15d-8f6a-46c9-ab7a-27c52ce67d65",
   "metadata": {
    "tags": []
   },
   "source": [
    "# 0.1-100µM Ag \n"
   ]
  },
  {
   "cell_type": "code",
   "execution_count": 24,
   "id": "77a0442a-1e0c-46d7-b106-30289ee0b5b0",
   "metadata": {
    "tags": []
   },
   "outputs": [],
   "source": [
    "% setup environment\n",
    "% set path to equilibrium solver\n",
    "txt=pwd;\n",
    "n=length(txt);\n",
    "rootpath=txt; rootpath=txt(1:n-15);\n",
    "PHREEQCpath=[rootpath,'/runPHREEQC'];\n",
    "addpath(PHREEQCpath);\n",
    "JEQUILIBpath=[rootpath,'/JEQUILIB'];\n",
    "addpath(JEQUILIBpath);\n",
    "% clear data and number format\n",
    "clear; format short e\n",
    "% turn off warnings\n",
    "warning off\n",
    "%graphics_toolkit (\"notebook\"); \n",
    " graphics_toolkit (\"plotly\"); \n",
    "%graphics_toolkit(\"gnuplot\")\n",
    "%available_graphics_toolkits()\n",
    "%loaded_graphics_toolkits"
   ]
  },
  {
   "cell_type": "code",
   "execution_count": 30,
   "id": "ed2f8b10-1ca7-4357-b688-17362ec365c9",
   "metadata": {
    "tags": []
   },
   "outputs": [],
   "source": [
    "%0.1µM \n",
    "AgT=1e-6; IT=1e-5; BrT=1e-5; pH=7; pe=20.75-pH; logClT=-6:0.02:-1; ClT=10.^logClT;\n",
    "%AgT=1e-6; ClT=1e-5; BrT=1e-4; pH=7; pe=20.75-pH; logIT=-6:0.02:-1; IT=10.^logIT;\n",
    "%AgT=1e-6; ClT=1e-5; IT=1e-4; pH=7; pe=20.75-pH; logBrT=-6:0.02:-1; BrT=10.^logBrT;"
   ]
  },
  {
   "cell_type": "code",
   "execution_count": 31,
   "id": "331153e1-73ba-42c0-8a6e-64d449b89c6e",
   "metadata": {
    "tags": []
   },
   "outputs": [],
   "source": [
    "% MODEL USING PHREEQC\n",
    "\n",
    "for i=1:length(ClT)\n",
    "\n",
    "minerals=[{'AgBrs'};{'AgCls'};{'AgIs'}]; totalvector=[AgT; BrT; ClT(i); IT; ClT(i)+BrT+IT]; totalnames=[{'Ag'}; {'Br'}; {'Cl'}; {'I'}; {'Na'}]; \n",
    "speciesexport=[{'Ag+'};{'Br-'};{'Cl-'};{'I-'};{'AgBr'};{'AgBr2-'};{'AgBr3-2'};{'AgBr4-3'};{'AgCl'};{'AgCl2-'};{'AgCl3-2'};{'AgCl4-3'};{'AgI'};{'AgI2-'};{'AgI3-2'};{'AgI4-3'}];\n",
    "acid=['NaOH']; show=1; T=25;\n",
    "database=['complexAgClBrIs.dat']; \n",
    "\n",
    "tic\n",
    "[solutionspeciesconcs, speciesnames, solidconcs, solidnames]=runPHREEQCv2noHA(T,pH,pe,totalnames,totalvector,minerals,speciesexport,database,show,acid);\n",
    "PHREEQCtime=toc;\n",
    "\n",
    "AgPHREEQC(i)=solutionspeciesconcs(1); \n",
    "BrPHREEQC(i)=solutionspeciesconcs(2); \n",
    "ClPHREEQC(i)=solutionspeciesconcs(3);\n",
    "IPHREEQC(i)=solutionspeciesconcs(4);\n",
    "AgBrPHREEQC(i)=solutionspeciesconcs(5); \n",
    "AgBr2PHREEQC(i)=solutionspeciesconcs(6);\n",
    "AgBr3PHREEQC(i)=solutionspeciesconcs(7);\n",
    "AgBr4PHREEQC(i)=solutionspeciesconcs(8);\n",
    "AgClPHREEQC(i)=solutionspeciesconcs(9);\n",
    "AgCl2PHREEQC(i)=solutionspeciesconcs(10);\n",
    "AgCl3PHREEQC(i)=solutionspeciesconcs(11);\n",
    "AgCl4PHREEQC(i)=solutionspeciesconcs(12);\n",
    "AgIPHREEQC(i)=solutionspeciesconcs(13);\n",
    "AgI2PHREEQC(i)=solutionspeciesconcs(14);\n",
    "AgI3PHREEQC(i)=solutionspeciesconcs(15);\n",
    "AgI4PHREEQC(i)=solutionspeciesconcs(16);\n",
    "AgBrsPHREEQC(i)=solidconcs(1);\n",
    "AgClsPHREEQC(i)=solidconcs(2);\n",
    "AgIsPHREEQC(i)=solidconcs(3);\n",
    "\n",
    "end"
   ]
  },
  {
   "cell_type": "code",
   "execution_count": 38,
   "id": "2c49ac72-01c2-482a-8014-1465d9b8045d",
   "metadata": {
    "tags": []
   },
   "outputs": [
    {
     "ename": "Execution exception",
     "evalue": "'Ag' undefined near line 1, column 25",
     "output_type": "error",
     "traceback": [
      "Execution exception: 'Ag' undefined near line 1, column 25",
      ""
     ]
    },
    {
     "ename": "Execution exception",
     "evalue": "'h' undefined near line 1, column 8",
     "output_type": "error",
     "traceback": [
      "Execution exception: 'h' undefined near line 1, column 8",
      ""
     ]
    }
   ],
   "source": [
    "%h=plot(log10(ClT),log10(Ag),log10(ClT),log10(AgCls),log10(ClT),log10(AgCl),log10(ClT),log10(AgCl2),log10(ClT),log10(AgCl3),log10(ClT),log10(AgCl4));\n",
    "%h=plot(log10(IT),log10(Ag),log10(IT),log10(AgI),log10(IT),log10(AgIs));\n",
    "\n",
    "h=plot(log10(ClT),log10(Ag));\n",
    "set(h,'linewidth',2);\n",
    "%set(gca,'linewidth',2,'fontsize',12);\n",
    "\n",
    "%xlabel('logClT'); ylabel('log[species]');\n",
    "%xlabel('logCl'); ylabel('logAg');\n",
    "%legend('Ag','AgCls','AgCl','AgCl2','AgCl3','AgCl4','location','eastoutside')\n",
    "%axis([-12 0 -40 -1])\n",
    "%exportforplot=[...\n",
    "%log10(Ag)' log10(Cl)' log10(AgCls)' log10(AgCl)' log10(AgCl2)' log10(AgCl3)' log10(AgCl4)'\n",
    "%]\n",
    "\n",
    "%end"
   ]
  },
  {
   "cell_type": "code",
   "execution_count": null,
   "id": "293bb4de-22a3-46be-8f2f-203c2d0473a0",
   "metadata": {},
   "outputs": [],
   "source": []
  }
 ],
 "metadata": {
  "kernelspec": {
   "display_name": "Octave (xoctave)",
   "language": "Octave",
   "name": "xoctave"
  },
  "language_info": {
   "codemirror_mode": "octave",
   "file_extension": ".m",
   "mimetype": "text/x-octave",
   "name": "Octave",
   "nbconvert_exporter": "",
   "pygments_lexer": "octave",
   "version": "7.3.0"
  }
 },
 "nbformat": 4,
 "nbformat_minor": 5
}
