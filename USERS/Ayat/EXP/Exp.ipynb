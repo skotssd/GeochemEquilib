{
 "cells": [
  {
   "cell_type": "markdown",
   "id": "98c0f15d-8f6a-46c9-ab7a-27c52ce67d65",
   "metadata": {
    "tags": []
   },
   "source": [
    "# 0.1-100µM Ag \n"
   ]
  },
  {
   "cell_type": "code",
   "execution_count": 76,
   "id": "77a0442a-1e0c-46d7-b106-30289ee0b5b0",
   "metadata": {
    "tags": []
   },
   "outputs": [],
   "source": [
    "% setup environment\n",
    "% set path to equilibrium solver\n",
    "txt=pwd;\n",
    "n=length(txt);\n",
    "rootpath=txt; rootpath=txt(1:n-15);\n",
    "PHREEQCpath=[rootpath,'/runPHREEQC'];\n",
    "addpath(PHREEQCpath);\n",
    "JEQUILIBpath=[rootpath,'/JEQUILIB'];\n",
    "addpath(JEQUILIBpath);\n",
    "% clear data and number format\n",
    "clear; format short e\n",
    "% turn off warnings\n",
    "warning off\n",
    "%graphics_toolkit (\"notebook\"); \n",
    "graphics_toolkit (\"plotly\"); \n",
    "%graphics_toolkit(\"gnuplot\")\n",
    "%available_graphics_toolkits()\n",
    "%loaded_graphics_toolkits"
   ]
  },
  {
   "cell_type": "code",
   "execution_count": 101,
   "id": "ed2f8b10-1ca7-4357-b688-17362ec365c9",
   "metadata": {
    "tags": []
   },
   "outputs": [],
   "source": [
    "%0.1µM \n",
    "\n",
    "AgT=1e-7; pH=7; pe=20.75-pH; logClT=-12:0.02:-2; ClT=10.^logClT;"
   ]
  },
  {
   "cell_type": "code",
   "execution_count": 102,
   "id": "077191c2-a1f2-4e97-8cb1-67e9c6bd3ba6",
   "metadata": {
    "tags": []
   },
   "outputs": [],
   "source": [
    "% MODEL USING PHREEQC\n",
    "\n",
    "for i=1:length(ClT);\n",
    "\n",
    "minerals=[{'AgCls'};]; totalvector=[AgT; ClT(i); ClT(i)]; totalnames=[{'Ag'}; {'Cl'}; {'Na'}]; \n",
    "speciesexport=[{'Ag+'};{'Cl-'};{'AgCl'};{'AgCl2-'};{'AgCl3-2'};{'AgCl4-3'}];\n",
    "acid=['NaOH']; show=0; T=25;\n",
    "database=['complexAgCls.dat']; \n",
    "\n",
    "tic;\n",
    "[solutionspeciesconcs, speciesnames, solidconcs, solidnames]=runPHREEQCv2noHA(T,pH,pe,totalnames,totalvector,minerals,speciesexport,database,show,acid);\n",
    "PHREEQCtime=toc;\n",
    "\n",
    "Ag(i)=solutionspeciesconcs(1); \n",
    "Cl(i)=solutionspeciesconcs(2); \n",
    "AgCl(i)=solutionspeciesconcs(3); \n",
    "AgCl2(i)=solutionspeciesconcs(4);\n",
    "AgCl3(i)=solutionspeciesconcs(5);\n",
    "AgCl4(i)=solutionspeciesconcs(6);\n",
    "AgCls(i)=solidconcs(1);\n",
    "\n",
    "end"
   ]
  },
  {
   "cell_type": "code",
   "execution_count": 103,
   "id": "2c49ac72-01c2-482a-8014-1465d9b8045d",
   "metadata": {
    "tags": []
   },
   "outputs": [
    {
     "data": {
      "application/vnd.plotly.v1+json": {
       "data": [
        {
         "line": {
          "color": "rgb(0,113,188)",
          "dash": "solid",
          "width": 2
         },
         "marker": {
          "color": "rgb(0,113,188)",
          "line": {
           "color": "rgb(0,113,188)"
          },
          "size": 6,
          "symbol": "none"
         },
         "mode": "lines",
         "name": "",
         "showlegend": false,
         "type": "scatter",
         "visibility": true,
         "x": [
          -12,
          -11.98,
          -11.96,
          -11.94,
          -11.92,
          -11.9,
          -11.88,
          -11.86,
          -11.84,
          -11.82,
          -11.8,
          -11.78,
          -11.76,
          -11.74,
          -11.72,
          -11.7,
          -11.68,
          -11.66,
          -11.64,
          -11.62,
          -11.6,
          -11.58,
          -11.56,
          -11.54,
          -11.52,
          -11.5,
          -11.48,
          -11.46,
          -11.44,
          -11.42,
          -11.4,
          -11.38,
          -11.36,
          -11.34,
          -11.32,
          -11.3,
          -11.28,
          -11.26,
          -11.24,
          -11.22,
          -11.2,
          -11.18,
          -11.16,
          -11.14,
          -11.12,
          -11.1,
          -11.08,
          -11.06,
          -11.04,
          -11.02,
          -11,
          -10.98,
          -10.96,
          -10.94,
          -10.92,
          -10.9,
          -10.879999999999999,
          -10.86,
          -10.84,
          -10.82,
          -10.8,
          -10.78,
          -10.76,
          -10.74,
          -10.72,
          -10.7,
          -10.68,
          -10.66,
          -10.64,
          -10.62,
          -10.6,
          -10.58,
          -10.56,
          -10.54,
          -10.52,
          -10.5,
          -10.48,
          -10.46,
          -10.44,
          -10.42,
          -10.4,
          -10.379999999999999,
          -10.36,
          -10.34,
          -10.32,
          -10.3,
          -10.28,
          -10.26,
          -10.24,
          -10.22,
          -10.2,
          -10.18,
          -10.16,
          -10.14,
          -10.12,
          -10.1,
          -10.08,
          -10.06,
          -10.04,
          -10.02,
          -10,
          -9.98,
          -9.96,
          -9.94,
          -9.92,
          -9.9,
          -9.879999999999999,
          -9.86,
          -9.84,
          -9.82,
          -9.8,
          -9.78,
          -9.76,
          -9.74,
          -9.719999999999999,
          -9.7,
          -9.68,
          -9.66,
          -9.64,
          -9.620000000000001,
          -9.6,
          -9.58,
          -9.56,
          -9.54,
          -9.52,
          -9.5,
          -9.48,
          -9.46,
          -9.44,
          -9.42,
          -9.4,
          -9.379999999999999,
          -9.36,
          -9.34,
          -9.32,
          -9.3,
          -9.28,
          -9.26,
          -9.24,
          -9.219999999999999,
          -9.2,
          -9.18,
          -9.16,
          -9.14,
          -9.120000000000001,
          -9.1,
          -9.08,
          -9.06,
          -9.04,
          -9.02,
          -9,
          -8.98,
          -8.96,
          -8.94,
          -8.92,
          -8.9,
          -8.879999999999999,
          -8.86,
          -8.84,
          -8.82,
          -8.8,
          -8.78,
          -8.76,
          -8.74,
          -8.719999999999999,
          -8.7,
          -8.68,
          -8.66,
          -8.64,
          -8.620000000000001,
          -8.6,
          -8.58,
          -8.56,
          -8.54,
          -8.52,
          -8.5,
          -8.48,
          -8.46,
          -8.44,
          -8.42,
          -8.4,
          -8.379999999999999,
          -8.36,
          -8.34,
          -8.32,
          -8.3,
          -8.28,
          -8.26,
          -8.24,
          -8.219999999999999,
          -8.2,
          -8.18,
          -8.16,
          -8.14,
          -8.120000000000001,
          -8.1,
          -8.08,
          -8.06,
          -8.04,
          -8.02,
          -8,
          -7.9799999999999995,
          -7.96,
          -7.9399999999999995,
          -7.92,
          -7.9,
          -7.88,
          -7.86,
          -7.84,
          -7.82,
          -7.8,
          -7.78,
          -7.76,
          -7.74,
          -7.72,
          -7.7,
          -7.68,
          -7.66,
          -7.64,
          -7.62,
          -7.6,
          -7.58,
          -7.56,
          -7.54,
          -7.52,
          -7.5,
          -7.4799999999999995,
          -7.46,
          -7.4399999999999995,
          -7.42,
          -7.3999999999999995,
          -7.38,
          -7.36,
          -7.34,
          -7.32,
          -7.3,
          -7.28,
          -7.26,
          -7.24,
          -7.22,
          -7.2,
          -7.18,
          -7.16,
          -7.14,
          -7.12,
          -7.1,
          -7.08,
          -7.06,
          -7.04,
          -7.02,
          -7,
          -6.9799999999999995,
          -6.96,
          -6.9399999999999995,
          -6.92,
          -6.8999999999999995,
          -6.88,
          -6.86,
          -6.84,
          -6.82,
          -6.8,
          -6.78,
          -6.76,
          -6.74,
          -6.72,
          -6.7,
          -6.68,
          -6.66,
          -6.64,
          -6.62,
          -6.6,
          -6.58,
          -6.56,
          -6.54,
          -6.52,
          -6.5,
          -6.4799999999999995,
          -6.46,
          -6.4399999999999995,
          -6.42,
          -6.3999999999999995,
          -6.38,
          -6.36,
          -6.34,
          -6.32,
          -6.3,
          -6.28,
          -6.26,
          -6.24,
          -6.22,
          -6.2,
          -6.18,
          -6.16,
          -6.14,
          -6.12,
          -6.1,
          -6.08,
          -6.06,
          -6.04,
          -6.02,
          -6,
          -5.9799999999999995,
          -5.96,
          -5.9399999999999995,
          -5.92,
          -5.8999999999999995,
          -5.88,
          -5.859999999999999,
          -5.84,
          -5.82,
          -5.8,
          -5.78,
          -5.76,
          -5.74,
          -5.72,
          -5.7,
          -5.68,
          -5.66,
          -5.64,
          -5.62,
          -5.6,
          -5.58,
          -5.56,
          -5.54,
          -5.52,
          -5.5,
          -5.4799999999999995,
          -5.46,
          -5.4399999999999995,
          -5.42,
          -5.3999999999999995,
          -5.38,
          -5.359999999999999,
          -5.34,
          -5.32,
          -5.3,
          -5.28,
          -5.26,
          -5.24,
          -5.22,
          -5.2,
          -5.18,
          -5.16,
          -5.14,
          -5.12,
          -5.1,
          -5.08,
          -5.06,
          -5.04,
          -5.02,
          -5,
          -4.9799999999999995,
          -4.96,
          -4.9399999999999995,
          -4.92,
          -4.8999999999999995,
          -4.88,
          -4.859999999999999,
          -4.84,
          -4.82,
          -4.8,
          -4.78,
          -4.76,
          -4.74,
          -4.72,
          -4.7,
          -4.68,
          -4.66,
          -4.64,
          -4.62,
          -4.6,
          -4.58,
          -4.56,
          -4.54,
          -4.52,
          -4.5,
          -4.4799999999999995,
          -4.46,
          -4.4399999999999995,
          -4.42,
          -4.3999999999999995,
          -4.38,
          -4.359999999999999,
          -4.34,
          -4.32,
          -4.3,
          -4.28,
          -4.26,
          -4.24,
          -4.22,
          -4.2,
          -4.18,
          -4.16,
          -4.14,
          -4.12,
          -4.1,
          -4.08,
          -4.06,
          -4.04,
          -4.02,
          -4,
          -3.9800000000000004,
          -3.959999999999999,
          -3.9399999999999995,
          -3.92,
          -3.9000000000000004,
          -3.879999999999999,
          -3.8599999999999994,
          -3.84,
          -3.8200000000000003,
          -3.8000000000000007,
          -3.7799999999999994,
          -3.76,
          -3.74,
          -3.7200000000000006,
          -3.6999999999999993,
          -3.6799999999999997,
          -3.66,
          -3.6400000000000006,
          -3.619999999999999,
          -3.5999999999999996,
          -3.58,
          -3.5600000000000005,
          -3.539999999999999,
          -3.5199999999999996,
          -3.5,
          -3.4800000000000004,
          -3.459999999999999,
          -3.4399999999999995,
          -3.42,
          -3.4000000000000004,
          -3.379999999999999,
          -3.3599999999999994,
          -3.34,
          -3.3200000000000003,
          -3.299999999999999,
          -3.2799999999999994,
          -3.26,
          -3.24,
          -3.2200000000000006,
          -3.1999999999999993,
          -3.1799999999999997,
          -3.16,
          -3.1400000000000006,
          -3.119999999999999,
          -3.0999999999999996,
          -3.08,
          -3.0600000000000005,
          -3.039999999999999,
          -3.0199999999999996,
          -3,
          -2.9800000000000004,
          -2.959999999999999,
          -2.9399999999999995,
          -2.92,
          -2.9000000000000004,
          -2.879999999999999,
          -2.8599999999999994,
          -2.84,
          -2.8200000000000003,
          -2.799999999999999,
          -2.7799999999999994,
          -2.76,
          -2.74,
          -2.7200000000000006,
          -2.6999999999999993,
          -2.6799999999999997,
          -2.66,
          -2.6400000000000006,
          -2.619999999999999,
          -2.5999999999999996,
          -2.58,
          -2.5600000000000005,
          -2.539999999999999,
          -2.5199999999999996,
          -2.5,
          -2.4800000000000004,
          -2.459999999999999,
          -2.4399999999999995,
          -2.42,
          -2.4000000000000004,
          -2.379999999999999,
          -2.3599999999999994,
          -2.34,
          -2.3200000000000003,
          -2.299999999999999,
          -2.2799999999999994,
          -2.26,
          -2.24,
          -2.2200000000000006,
          -2.1999999999999993,
          -2.1799999999999997,
          -2.16,
          -2.1400000000000006,
          -2.119999999999999,
          -2.0999999999999996,
          -2.08,
          -2.0600000000000005,
          -2.039999999999999,
          -2.0199999999999996,
          -2
         ],
         "xaxis": "x",
         "y": [
          -7.000000000859947,
          -7.000000000900466,
          -7.00000000094294,
          -7.000000000987412,
          -7.000000001033925,
          -7.00000000108261,
          -7.0000000011336825,
          -7.0000000011871,
          -7.000000001242994,
          -7.000000001301624,
          -7.000000001362946,
          -7.000000001427178,
          -7.000000001494451,
          -7.00000000156485,
          -7.000000001638637,
          -7.000000001715854,
          -7.000000001796719,
          -7.000000001881407,
          -7.00000000197009,
          -7.000000002062856,
          -7.000000002160137,
          -7.0000000022619355,
          -7.000000002368468,
          -7.000000002480125,
          -7.000000002597081,
          -7.000000002719422,
          -7.000000002847582,
          -7.000000002981823,
          -7.000000003122317,
          -7.000000003269456,
          -7.000000003423587,
          -7.0000000035848835,
          -7.000000003753867,
          -7.000000003930756,
          -7.000000004115982,
          -7.000000004310025,
          -7.0000000045131445,
          -7.000000004725819,
          -7.000000004948525,
          -7.000000005181741,
          -7.0000000054259885,
          -7.000000005681658,
          -7.000000005949444,
          -7.000000006229867,
          -7.00000000652345,
          -7.000000006830888,
          -7.000000007152743,
          -7.000000007489886,
          -7.000000007842881,
          -7.000000008212465,
          -7.000000008599552,
          -7.000000009004575,
          -7.000000009429402,
          -7.000000009873989,
          -7.000000010339249,
          -7.000000010825962,
          -7.0000000113367795,
          -7.000000011870831,
          -7.000000012429812,
          -7.000000013016283,
          -7.00000001362942,
          -7.000000014271829,
          -7.00000001494429,
          -7.0000000156485855,
          -7.000000016386452,
          -7.000000017158671,
          -7.000000017967023,
          -7.000000018814115,
          -7.000000019700727,
          -7.0000000206285975,
          -7.0000000216012,
          -7.000000022619403,
          -7.000000023684902,
          -7.000000024801126,
          -7.000000025970637,
          -7.000000027194349,
          -7.000000028475691,
          -7.0000000298180955,
          -7.000000031223255,
          -7.000000032694645,
          -7.0000000342356525,
          -7.0000000358489265,
          -7.000000037538766,
          -7.000000039307691,
          -7.000000041160044,
          -7.000000043100082,
          -7.00000004513132,
          -7.0000000472579735,
          -7.000000049485253,
          -7.000000051817458,
          -7.000000054259714,
          -7.000000056816362,
          -7.0000000594942655,
          -7.000000062298592,
          -7.000000065234467,
          -7.000000068308795,
          -7.000000071527612,
          -7.00000007489865,
          -7.000000078428727,
          -7.000000082124834,
          -7.000000085995484,
          -7.0000000900458454,
          -7.000000094294028,
          -7.000000098739989,
          -7.000000103392369,
          -7.000000108259682,
          -7.000000113367812,
          -7.000000118708159,
          -7.000000124297834,
          -7.000000130162722,
          -7.000000136294181,
          -7.00000014271805,
          -7.000000149442885,
          -7.000000156485928,
          -7.000000163864334,
          -7.0000001715867,
          -7.00000017967027,
          -7.000000188140796,
          -7.000000197006923,
          -7.000000206285845,
          -7.000000216011919,
          -7.000000226193741,
          -7.000000236848553,
          -7.000000248010753,
          -7.000000259706093,
          -7.00000027194326,
          -7.000000284756519,
          -7.000000298180396,
          -7.000000312232004,
          -7.000000326945782,
          -7.000000342356126,
          -7.000000358488832,
          -7.000000375386897,
          -7.000000393076118,
          -7.000000411599446,
          -7.000000430999964,
          -7.000000451312024,
          -7.000000472578579,
          -7.00000049485131,
          -7.0000005181731675,
          -7.000000542595748,
          -7.000000568162089,
          -7.000000594940939,
          -7.000000622983895,
          -7.000000652342549,
          -7.000000683085737,
          -7.000000715273612,
          -7.000000748983607,
          -7.00000078428447,
          -7.000000821245041,
          -7.000000859951264,
          -7.000000900454778,
          -7.000000942936165,
          -7.000000987395381,
          -7.00000103391846,
          -7.000001082591351,
          -7.000001133672113,
          -7.000001187074669,
          -7.000001242971,
          -7.000001301619167,
          -7.0000013629330935,
          -7.000001427170796,
          -7.000001494418266,
          -7.000001564847442,
          -7.0000016386303505,
          -7.0000017158529415,
          -7.000001796687241,
          -7.000001881391179,
          -7.000001970050749,
          -7.0000020628378925,
          -7.000002160096661,
          -7.00000226191296,
          -7.000002368458819,
          -7.000002480078119,
          -7.000002597028877,
          -7.000002719397048,
          -7.000002847526598,
          -7.000002981761495,
          -7.000003122273598,
          -7.000003269406963,
          -7.000003423505517,
          -7.000003584827111,
          -7.000003753801795,
          -7.0000039306873765,
          -7.000004115913865,
          -7.00000430991114,
          -7.000004513023134,
          -7.00000472567973,
          -7.0000049483968025,
          -7.000005181604237,
          -7.000005425817912,
          -7.000005681467673,
          -7.000005949241384,
          -7.000006229654888,
          -7.000006523224028,
          -7.000006830636546,
          -7.000007152494284,
          -7.000007489570984,
          -7.000007842554354,
          -7.000008212132239,
          -7.000008599164254,
          -7.000009004166138,
          -7.000009428943385,
          -7.0000098734957925,
          -7.000010338682955,
          -7.0000108253643845,
          -7.000011336119453,
          -7.00001187008784,
          -7.0000124289889225,
          -7.000013015401845,
          -7.000013628466268,
          -7.00001427076123,
          -7.0000149431460095,
          -7.000015647339661,
          -7.000016385061167,
          -7.0000171571696805,
          -7.000017965384046,
          -7.00001881228281,
          -7.000019698724835,
          -7.000020626428735,
          -7.000021598832557,
          -7.000022616794813,
          -7.000023682033812,
          -7.000024797987192,
          -7.000025967232601,
          -7.000027190628123,
          -7.000028471610886,
          -7.000029813617814,
          -7.000031218366146,
          -7.000032689292325,
          -7.0000342298325595,
          -7.000035842563127,
          -7.000037531779379,
          -7.0000393000568915,
          -7.000041151690431,
          -7.00004309097423,
          -7.000045121342482,
          -7.0000472470886725,
          -7.000049473365306,
          -7.000051804464877,
          -7.000054245538843,
          -7.0000568008785375,
          -7.000059477353244,
          -7.0000622801124175,
          -7.0000652143048825,
          -7.000068286797581,
          -7.000071503597124,
          -7.000074872427852,
          -7.000078400153831,
          -7.000082093637913,
          -7.00008596146043,
          -7.000090008763288,
          -7.000094253576161,
          -7.000098695882165,
          -7.000103344255944,
          -7.000108207270406,
          -7.000113310679805,
          -7.0001186458693425,
          -7.000124229997324,
          -7.000130088809271,
          -7.000136213685248,
          -7.000142630364918,
          -7.00014934740399,
          -7.000156381944668,
          -7.000163751124857,
          -7.000171463490156,
          -7.000179536170738,
          -7.000187994879555,
          -7.0001968481489785,
          -7.0002061130942606,
          -7.000215823997107,
          -7.000225989373267,
          -7.000236626319341,
          -7.00024776909422,
          -7.000259443362005,
          -7.000271657611083,
          -7.000284446072641,
          -7.000297842965184,
          -7.000311865331469,
          -7.000326547366865,
          -7.000341923252362,
          -7.000358018574579,
          -7.000374876064168,
          -7.000392521276575,
          -7.000410996907033,
          -7.000430345629163,
          -7.000450601518715,
          -7.000471807205796,
          -7.00049401386926,
          -7.0005172640856985,
          -7.000541608976007,
          -7.0005670910577615,
          -7.000593778527381,
          -7.000621722399781,
          -7.00065097365192,
          -7.000681600353709,
          -7.000713661958855,
          -7.000747235000165,
          -7.00078238738632,
          -7.000819186966698,
          -7.000857718648287,
          -7.000898033027029,
          -7.000940308998736,
          -7.0009845456406214,
          -7.00103082754143,
          -7.00107923919714,
          -7.001130036022591,
          -7.001183131228517,
          -7.001238694473442,
          -7.0012969806841525,
          -7.001357902771753,
          -7.0014217153332705,
          -7.001488501879559,
          -7.0015584311485615,
          -7.001631671637461,
          -7.001708306260992,
          -7.0017885030642635,
          -7.001872515092276,
          -7.001960424486282,
          -7.0020523984051195,
          -7.002148774079008,
          -7.002249632654578,
          -7.002355140164555,
          -7.002465632475938,
          -7.002581359718307,
          -7.002702401363017,
          -7.002829091584913,
          -7.002961763795594,
          -7.003100580722703,
          -7.0032458743391395,
          -7.0033979757240585,
          -7.003557130193924,
          -7.00372375178361,
          -7.003898083844639,
          -7.004080538162666,
          -7.004271525164691,
          -7.004471369256214,
          -7.004680478060498,
          -7.004899342081629,
          -7.005128365494435,
          -7.005368035047602,
          -7.0056187510640315,
          -7.005881164586523,
          -7.006155755434369,
          -7.0064430009149925,
          -7.006743543756727,
          -7.007057939360159,
          -7.007386907632301,
          -7.00773108061043,
          -7.008091086356755,
          -7.008467716011681,
          -7.008861421412412,
          -7.009273902238688,
          -7.009705097826133,
          -7.010155777877028,
          -7.01062670580154,
          -7.011120299242788,
          -7.011635642695786,
          -7.012174306587558,
          -7.012738675761262,
          -7.013327814089159,
          -7.01394408408167,
          -7.014588182397242,
          -7.015261617267334,
          -7.015965880666066,
          -7.0167016288075335,
          -7.017470323046217,
          -7.018274221237954,
          -7.019113927357983,
          -7.019990843082521,
          -7.020907968141584,
          -7.021865839797662,
          -7.02286578445851,
          -7.023910710977901,
          -7.025002682564883,
          -7.026142125610562,
          -7.0273318374116,
          -7.028574565234962,
          -7.029871418646281,
          -7.031225051808553,
          -7.032638061364066,
          -7.034112199114855,
          -7.03565072803783,
          -7.037255276383197,
          -7.038928966411014,
          -7.0406748360775815,
          -7.042495066073477,
          -7.044392524071713,
          -7.0463707442820445,
          -7.048432388566431,
          -7.050580769510856,
          -7.052818325846426,
          -7.0551496243643,
          -7.057577582168487,
          -7.060104977007267,
          -7.062735912954057,
          -7.065473581543277,
          -7.0683224523971875,
          -7.071286061090373,
          -7.074367741369112,
          -7.077572038294595,
          -7.080900425947569,
          -7.084364681606122,
          -7.087961518144149,
          -7.091694468907646,
          -7.095566788872407,
          -7.099594952241688,
          -7.103767892461643,
          -7.108094620921718,
          -7.112590155024723,
          -7.117242707201297,
          -7.12206641439942,
          -7.12706184930377,
          -7.1322355551856775,
          -7.137593477773302,
          -7.143134824626505,
          -7.14886455579759,
          -7.154793008385698,
          -7.160917798308922,
          -7.167242074593479,
          -7.1737798712073975,
          -7.180527002048521,
          -7.18748459954995,
          -7.194664205768307,
          -7.202070721715355,
          -7.2096975254333735,
          -7.217553508317915,
          -7.225646362677123,
          -7.233972493935127,
          -7.242537785046396,
          -7.251346987520376,
          -7.260398970879887,
          -7.2697012799474265,
          -7.279250873017033,
          -7.289053102175631,
          -7.299112016809911,
          -7.309426093700238,
          -7.319997211538974,
          -7.330830251377076,
          -7.341924612210133,
          -7.353282647472828,
          -7.364901556711063,
          -7.376789008232379,
          -7.388943455041232,
          -7.401362312839578,
          -7.414049059036558,
          -7.427002194639105,
          -7.440225778109481,
          -7.453718934865079,
          -7.467479563504192,
          -7.481510600942203,
          -7.4958013499166505,
          -7.510384567417524,
          -7.52522859917051,
          -7.5403312732066725,
          -7.555689271807118,
          -7.571350237731813,
          -7.587253976874019,
          -7.603419085754929,
          -7.619884419028105,
          -7.6365904110549,
          -7.653572415752394,
          -7.670816706311352,
          -7.688330639943328,
          -7.7061191075284485,
          -7.724164978093489,
          -7.742470731415594,
          -7.761055523939367,
          -7.779898507745239,
          -7.798997118796871,
          -7.8183812043101995,
          -7.838026170606152,
          -7.857924510585148,
          -7.878098542802688,
          -7.898551201697235,
          -7.919254543219199,
          -7.940223890929855,
          -7.961470806659016,
          -7.982977556113426,
          -8.004751794288467,
          -8.026798262551592,
          -8.049107396069921,
          -8.071691466088275,
          -8.094537241672425,
          -8.117652242268957,
          -8.141040889355768,
          -8.164694986784667,
          -8.188614719590074,
          -8.212807200206495,
          -8.237267425666948,
          -8.261997269144993,
          -8.286987703253297,
          -8.312252428228458,
          -8.33778541985197,
          -8.363578917097595,
          -8.389637985546624,
          -8.415957488677561,
          -8.442543668853471,
          -8.469392768271458,
          -8.496498773857272,
          -8.523865658993417
         ],
         "yaxis": "y"
        }
       ],
       "layout": {
        "height": 420,
        "hovermode": "closest",
        "margin": {
         "b": 0,
         "l": 0,
         "r": 0,
         "t": 0
        },
        "plot_bgcolor": "rgba(0, 0, 0, 0)",
        "showlegend": false,
        "width": 560,
        "xaxis": {
         "anchor": "y",
         "autorange": false,
         "domain": [
          0.13,
          0.905
         ],
         "exponentformat": "none",
         "gridcolor": "rgba(38,38,38,0.15)",
         "gridwidth": 2,
         "linecolor": "rgb(38,38,38)",
         "linewidth": 2,
         "mirror": "ticks",
         "range": [
          -12,
          -2
         ],
         "showgrid": false,
         "showline": true,
         "side": "bottom",
         "spikedash": "solid",
         "spikemode": "across",
         "spikesides": false,
         "spikethickness": 1,
         "tickangle": 0,
         "tickcolor": "rgb(38,38,38)",
         "tickfont": {
          "color": "rgb(38,38,38)",
          "size": 12
         },
         "ticklen": 3,
         "ticks": "inside",
         "ticktext": [
          "-12",
          "-10",
          "-8",
          "-6",
          "-4",
          "-2"
         ],
         "tickvals": [
          -12,
          -10,
          -8,
          -6,
          -4,
          -2
         ],
         "title": {
          "font": {
           "color": "rgb(38,38,38)",
           "size": 13.200000000000001
          },
          "text": "logClT"
         },
         "type": "linear",
         "visible": true,
         "zeroline": false
        },
        "yaxis": {
         "anchor": "x",
         "autorange": false,
         "domain": [
          0.11,
          0.9249999999999999
         ],
         "exponentformat": "none",
         "gridcolor": "rgba(38,38,38,0.15)",
         "gridwidth": 2,
         "linecolor": "rgb(38,38,38)",
         "linewidth": 2,
         "mirror": "ticks",
         "range": [
          -9,
          -7
         ],
         "showgrid": false,
         "showline": true,
         "side": "left",
         "spikedash": "solid",
         "spikemode": "across",
         "spikesides": false,
         "spikethickness": 1,
         "tickangle": 0,
         "tickcolor": "rgb(38,38,38)",
         "tickfont": {
          "color": "rgb(38,38,38)",
          "size": 12
         },
         "ticklen": 3,
         "ticks": "inside",
         "ticktext": [
          "-9",
          "-8.5",
          "-8",
          "-7.5",
          "-7"
         ],
         "tickvals": [
          -9,
          -8.5,
          -8,
          -7.5,
          -7
         ],
         "title": {
          "font": {
           "color": "rgb(38,38,38)",
           "size": 13.200000000000001
          },
          "text": "log[species]"
         },
         "type": "linear",
         "visible": true,
         "zeroline": false
        }
       }
      },
      "image/png": "[encoded data removed]"
     },
     "metadata": {},
     "output_type": "display_data"
    },
    {
     "ename": "Execution exception",
     "evalue": "parse error:\n\n  syntax error\n\n\n",
     "output_type": "error",
     "traceback": [
      "Execution exception: parse error:\n\n  syntax error\n\n\n",
      ""
     ]
    }
   ],
   "source": [
    "%h=plot(log10(ClT),log10(Ag),log10(ClT),log10(AgCls),log10(ClT),log10(AgCl),log10(ClT),log10(AgCl2),log10(ClT),log10(AgCl3),log10(ClT),log10(AgCl4));\n",
    "h=plot(log10(ClT),log10(Ag));\n",
    "set(h,'linewidth',2);\n",
    "set(gca,'linewidth',2,'fontsize',12);\n",
    "xlabel('logClT'); ylabel('log[species]');\n",
    "%xlabel('logCl'); ylabel('logAg');\n",
    "%legend('Ag','AgCls','AgCl','AgCl2','AgCl3','AgCl4','location','eastoutside')\n",
    "%axis([-12 0 -40 -1])\n",
    "%exportforplot=[...\n",
    "%log10(Ag)' log10(Cl)' log10(AgCls)' log10(AgCl)' log10(AgCl2)' log10(AgCl3)' log10(AgCl4)'\n",
    "%]\n",
    "\n",
    "end"
   ]
  },
  {
   "cell_type": "code",
   "execution_count": 65,
   "id": "0192028e-470a-429f-ac8d-e6d85b0084e3",
   "metadata": {
    "tags": []
   },
   "outputs": [],
   "source": [
    "%1µM\n",
    "AgT=1e-6; pH=7; pe=20.75-pH; ClT=1e-12:0.001:1e-2;"
   ]
  },
  {
   "cell_type": "code",
   "execution_count": 66,
   "id": "bfbf21a5-9da4-4dcb-b6f3-6fcdb06b5098",
   "metadata": {
    "tags": []
   },
   "outputs": [],
   "source": [
    "% MODEL USING PHREEQC\n",
    "\n",
    "for i=1:length(ClT);\n",
    "\n",
    "minerals=[{'AgCls'}]; totalvector=[AgT; ClT(i); ClT(i)]; totalnames=[{'Ag'}; {'Cl'}; {'Na'}]; \n",
    "speciesexport=[{'Ag+'}; {'Cl-'};{'AgCl'};{'AgCl2-'};{'AgCl3-2'};{'AgCl4-3'}];\n",
    "acid=['NaOH']; show=0; T=25;\n",
    "database=['complexAgCls.dat']; \n",
    "\n",
    "tic\n",
    "[solutionspeciesconcs, speciesnames, solidconcs, solidnames]=runPHREEQCv2noHA(T,pH,pe,totalnames,totalvector,minerals,speciesexport,database,show,acid);\n",
    "PHREEQCtime=toc;\n",
    "\n",
    "Ag(i)=solutionspeciesconcs(1); \n",
    "Cl(i)=solutionspeciesconcs(2); \n",
    "AgCl(i)=solutionspeciesconcs(3); \n",
    "AgCl2(i)=solutionspeciesconcs(4);\n",
    "AgCl3(i)=solutionspeciesconcs(5);\n",
    "AgCl4(i)=solutionspeciesconcs(6);\n",
    "AgCls(i)=solidconcs(1);\n",
    "\n",
    "end"
   ]
  },
  {
   "cell_type": "code",
   "execution_count": 75,
   "id": "d7c20537-0456-4952-b280-878851a5bbfb",
   "metadata": {
    "tags": []
   },
   "outputs": [
    {
     "data": {
      "application/vnd.plotly.v1+json": {
       "data": [
        {
         "line": {
          "color": "rgb(0,113,188)",
          "dash": "solid",
          "width": 2
         },
         "marker": {
          "color": "rgb(0,113,188)",
          "line": {
           "color": "rgb(0,113,188)"
          },
          "size": 6,
          "symbol": "none"
         },
         "mode": "lines",
         "name": "",
         "showlegend": false,
         "type": "scatter",
         "visibility": true,
         "x": [
          -12.000858418729559,
          -3.000366086876917,
          -2.6991812177630905,
          -2.5230293575249667,
          -2.3980586319740524,
          -2.3011288879714926,
          -2.221934267186178,
          -2.1549778189636295,
          -2.096978572961942,
          -2.045820342916087
         ],
         "xaxis": "x",
         "y": [
          -6.000000000857558,
          -6.713975695582682,
          -7.003069107201409,
          -7.170222568906759,
          -7.287792014719683,
          -7.378338627276765,
          -7.451871620996495,
          -7.51371189972615,
          -7.567025841958198,
          -7.613850115610173
         ],
         "yaxis": "y"
        }
       ],
       "layout": {
        "height": 420,
        "hovermode": "closest",
        "margin": {
         "b": 0,
         "l": 0,
         "r": 0,
         "t": 0
        },
        "plot_bgcolor": "rgba(0, 0, 0, 0)",
        "showlegend": false,
        "width": 560,
        "xaxis": {
         "anchor": "y",
         "autorange": false,
         "domain": [
          0.13,
          0.905
         ],
         "exponentformat": "none",
         "gridcolor": "rgba(38,38,38,0.15)",
         "gridwidth": 2,
         "linecolor": "rgb(38,38,38)",
         "linewidth": 2,
         "mirror": "ticks",
         "range": [
          -14,
          -2
         ],
         "showgrid": false,
         "showline": true,
         "side": "bottom",
         "spikedash": "solid",
         "spikemode": "across",
         "spikesides": false,
         "spikethickness": 1,
         "tickangle": 0,
         "tickcolor": "rgb(38,38,38)",
         "tickfont": {
          "color": "rgb(38,38,38)",
          "size": 12
         },
         "ticklen": 3,
         "ticks": "inside",
         "ticktext": [
          "-14",
          "-12",
          "-10",
          "-8",
          "-6",
          "-4",
          "-2"
         ],
         "tickvals": [
          -14,
          -12,
          -10,
          -8,
          -6,
          -4,
          -2
         ],
         "title": {
          "font": {
           "color": "rgb(38,38,38)",
           "size": 13.200000000000001
          },
          "text": "logCl"
         },
         "type": "linear",
         "visible": true,
         "zeroline": false
        },
        "yaxis": {
         "anchor": "x",
         "autorange": false,
         "domain": [
          0.11,
          0.9249999999999999
         ],
         "exponentformat": "none",
         "gridcolor": "rgba(38,38,38,0.15)",
         "gridwidth": 2,
         "linecolor": "rgb(38,38,38)",
         "linewidth": 2,
         "mirror": "ticks",
         "range": [
          -8,
          -6
         ],
         "showgrid": false,
         "showline": true,
         "side": "left",
         "spikedash": "solid",
         "spikemode": "across",
         "spikesides": false,
         "spikethickness": 1,
         "tickangle": 0,
         "tickcolor": "rgb(38,38,38)",
         "tickfont": {
          "color": "rgb(38,38,38)",
          "size": 12
         },
         "ticklen": 3,
         "ticks": "inside",
         "ticktext": [
          "-8",
          "-7.5",
          "-7",
          "-6.5",
          "-6"
         ],
         "tickvals": [
          -8,
          -7.5,
          -7,
          -6.5,
          -6
         ],
         "title": {
          "font": {
           "color": "rgb(38,38,38)",
           "size": 13.200000000000001
          },
          "text": "log[species)"
         },
         "type": "linear",
         "visible": true,
         "zeroline": false
        }
       }
      },
      "image/png": "[encoded data removed]"
     },
     "metadata": {},
     "output_type": "display_data"
    },
    {
     "ename": "Execution exception",
     "evalue": "parse error:\n\n  syntax error\n\n\n",
     "output_type": "error",
     "traceback": [
      "Execution exception: parse error:\n\n  syntax error\n\n\n",
      ""
     ]
    }
   ],
   "source": [
    "h=plot(log10(ClT),log10(Ag),log10(ClT),log10(AgCls),log10(ClT),log10(AgCl),log10(ClT),log10(AgCl2),log10(ClT),log10(AgCl3),log10(ClT),log10(AgCl4));\n",
    "%h=plot(log10(ClT),log10(Ag));\n",
    "set(h,'linewidth',2);\n",
    "set(gca,'linewidth',2,'fontsize',12);\n",
    "xlabel('logCl'); ylabel('log[species)');\n",
    "%xlabel('logCl'); ylabel('logAg');\n",
    "legend('Ag','AgCls','AgCl','AgCl2','AgCl3','AgCl4','location','eastoutside')\n",
    "%axis([-40 0 -8.5 -5])\n",
    "\n",
    "end"
   ]
  },
  {
   "cell_type": "code",
   "execution_count": 51,
   "id": "8070a412-76d8-4dd5-972b-54991894e64e",
   "metadata": {
    "tags": []
   },
   "outputs": [],
   "source": [
    "#10µM\n",
    "AgT=1e-5; pH=7; pe=20.75-pH; ClT=1e-12:0.001:1e-2;"
   ]
  },
  {
   "cell_type": "code",
   "execution_count": 52,
   "id": "0a02f41d-0b7d-42b7-bc97-687da517f8ac",
   "metadata": {
    "tags": []
   },
   "outputs": [],
   "source": [
    "% MODEL USING PHREEQC\n",
    "\n",
    "for i=1:length(ClT);\n",
    "\n",
    "minerals=[{'AgCls'}]; totalvector=[AgT; ClT(i); ClT(i)]; totalnames=[{'Ag'}; {'Cl'}; {'Na'}]; \n",
    "speciesexport=[{'Ag+'}; {'Cl-'};{'AgCl'};{'AgCl2-'};{'AgCl3-2'};{'AgCl4-3'}];\n",
    "acid=['NaOH']; show=0; T=25;\n",
    "database=['complexAgCls.dat']; \n",
    "\n",
    "tic\n",
    "[solutionspeciesconcs, speciesnames, solidconcs, solidnames]=runPHREEQCv2noHA(T,pH,pe,totalnames,totalvector,minerals,speciesexport,database,show,acid);\n",
    "PHREEQCtime=toc;\n",
    "\n",
    "Ag(i)=solutionspeciesconcs(1); \n",
    "Cl(i)=solutionspeciesconcs(2); \n",
    "AgCl(i)=solutionspeciesconcs(3); \n",
    "AgCl2(i)=solutionspeciesconcs(4);\n",
    "AgCl3(i)=solutionspeciesconcs(5);\n",
    "AgCl4(i)=solutionspeciesconcs(6);\n",
    "AgCls(i)=solidconcs(1);\n",
    "\n",
    "end"
   ]
  },
  {
   "cell_type": "code",
   "execution_count": 57,
   "id": "17a244f9-be1b-40ca-baec-9acc801a0860",
   "metadata": {
    "tags": []
   },
   "outputs": [
    {
     "data": {
      "application/vnd.plotly.v1+json": {
       "data": [
        {
         "line": {
          "color": "rgb(0,113,188)",
          "dash": "solid",
          "width": 2
         },
         "marker": {
          "color": "rgb(0,113,188)",
          "line": {
           "color": "rgb(0,113,188)"
          },
          "size": 6,
          "symbol": "none"
         },
         "mode": "lines",
         "name": "Ag",
         "showlegend": true,
         "type": "scatter",
         "visibility": true,
         "x": [
          -12.008479138271056,
          -3.004294859977537,
          -2.701140741995314,
          -2.524334576566963,
          -2.3990371153114425,
          -2.3019114659724607,
          -2.2225862989530523,
          -2.155536631692957,
          -2.097467486949638,
          -2.0462549004555934
         ],
         "xaxis": "x",
         "y": [
          -5.000000000839709,
          -6.710113807098445,
          -7.0011552552373635,
          -7.168953653402341,
          -7.286844265570884,
          -7.377582992565156,
          -7.451243741055929,
          -7.513175074419064,
          -7.566557174708871,
          -7.613434366189333
         ],
         "yaxis": "y"
        },
        {
         "line": {
          "color": "rgb(216,82,24)",
          "dash": "solid",
          "width": 2
         },
         "marker": {
          "color": "rgb(216,82,24)",
          "line": {
           "color": "rgb(216,82,24)"
          },
          "size": 6,
          "symbol": "none"
         },
         "mode": "lines",
         "name": "AgCls",
         "showlegend": true,
         "type": "scatter",
         "visibility": true,
         "x": [
          -12.008479138271056,
          -3.004294859977537,
          -2.701140741995314,
          -2.524334576566963,
          -2.3990371153114425,
          -2.3019114659724607,
          -2.2225862989530523,
          -2.155536631692957,
          -2.097467486949638,
          -2.0462549004555934
         ],
         "xaxis": "x",
         "y": [
          null,
          -5.026252976990403,
          -5.023519826015518,
          -5.023697194785723,
          -5.024605372009543,
          -5.025811829211298,
          -5.027172543624851,
          -5.028625780300525,
          -5.030140673277395,
          -5.031700092653656
         ],
         "yaxis": "y"
        },
        {
         "line": {
          "color": "rgb(236,176,31)",
          "dash": "solid",
          "width": 2
         },
         "marker": {
          "color": "rgb(236,176,31)",
          "line": {
           "color": "rgb(236,176,31)"
          },
          "size": 6,
          "symbol": "none"
         },
         "mode": "lines",
         "name": "AgCl",
         "showlegend": true,
         "type": "scatter",
         "visibility": true,
         "x": [
          -12.008479138271056,
          -3.004294859977537,
          -2.701140741995314,
          -2.524334576566963,
          -2.3990371153114425,
          -2.3019114659724607,
          -2.2225862989530523,
          -2.155536631692957,
          -2.097467486949638,
          -2.0462549004555934
         ],
         "xaxis": "x",
         "y": [
          -13.713665265334201,
          -6.44829952467715,
          -6.448399515238005,
          -6.4484995121102004,
          -6.448599510564421,
          -6.448699509656056,
          -6.448799509069716,
          -6.448899508670536,
          -6.448999508390816,
          -6.449099508192968
         ],
         "yaxis": "y"
        },
        {
         "line": {
          "color": "rgb(125,46,141)",
          "dash": "solid",
          "width": 2
         },
         "marker": {
          "color": "rgb(125,46,141)",
          "line": {
           "color": "rgb(125,46,141)"
          },
          "size": 6,
          "symbol": "none"
         },
         "mode": "lines",
         "name": "AgCl2",
         "showlegend": true,
         "type": "scatter",
         "visibility": true,
         "x": [
          -12.008479138271056,
          -3.004294859977537,
          -2.701140741995314,
          -2.524334576566963,
          -2.3990371153114425,
          -2.3019114659724607,
          -2.2225862989530523,
          -2.155536631692957,
          -2.097467486949638,
          -2.0462549004555934
         ],
         "xaxis": "x",
         "y": [
          -23.720343898591917,
          -7.450694859977487,
          -7.1475407419953,
          -6.970734576567049,
          -6.845437115311381,
          -6.74831146597237,
          -6.668986298953103,
          -6.601936631692931,
          -6.5438674869496625,
          -6.492654900455575
         ],
         "yaxis": "y"
        },
        {
         "line": {
          "color": "rgb(118,171,47)",
          "dash": "solid",
          "width": 2
         },
         "marker": {
          "color": "rgb(118,171,47)",
          "line": {
           "color": "rgb(118,171,47)"
          },
          "size": 6,
          "symbol": "none"
         },
         "mode": "lines",
         "name": "AgCl3",
         "showlegend": true,
         "type": "scatter",
         "visibility": true,
         "x": [
          -12.008479138271056,
          -3.004294859977537,
          -2.701140741995314,
          -2.524334576566963,
          -2.3990371153114425,
          -2.3019114659724607,
          -2.2225862989530523,
          -2.155536631692957,
          -2.097467486949638,
          -2.0462549004555934
         ],
         "xaxis": "x",
         "y": [
          -35.89443741565303,
          -10.59199838703119,
          -9.973577481223384,
          -9.61095738310302,
          -9.352955611505335,
          -9.152317390482558,
          -8.98800263791501,
          -8.848784969497958,
          -8.727959635557873,
          -8.621199067556258
         ],
         "yaxis": "y"
        },
        {
         "line": {
          "color": "rgb(76,189,237)",
          "dash": "solid",
          "width": 2
         },
         "marker": {
          "color": "rgb(76,189,237)",
          "line": {
           "color": "rgb(76,189,237)"
          },
          "size": 6,
          "symbol": "none"
         },
         "mode": "lines",
         "name": "AgCl4",
         "showlegend": true,
         "type": "scatter",
         "visibility": true,
         "x": [
          -12.008479138271056,
          -3.004294859977537,
          -2.701140741995314,
          -2.524334576566963,
          -2.3990371153114425,
          -2.3019114659724607,
          -2.2225862989530523,
          -2.155536631692957,
          -2.097467486949638,
          -2.0462549004555934
         ],
         "xaxis": "x",
         "y": [
          null,
          -14.860510581160675,
          -13.914710217683641,
          -13.357268419608554,
          -12.959155488581443,
          -12.648617773530233,
          -12.39364901688594,
          -12.177145013414778,
          -11.98887644582438,
          -11.822232501301805
         ],
         "yaxis": "y"
        },
        {
         "hoverinfo": "none",
         "line": {
          "color": "rgb(0,113,188)",
          "dash": "solid",
          "width": 2
         },
         "marker": {
          "color": "rgb(0,113,188)",
          "line": {
           "color": "rgb(0,113,188)"
          },
          "size": 6,
          "symbol": "none"
         },
         "mode": "lines",
         "name": "",
         "showlegend": false,
         "type": "scatter",
         "visibility": true,
         "x": [
          3,
          18
         ],
         "xaxis": "x2",
         "y": [
          8.5,
          8.5
         ],
         "yaxis": "y2"
        },
        {
         "hoverinfo": "none",
         "line": {
          "color": "rgb(216,82,24)",
          "dash": "solid",
          "width": 2
         },
         "marker": {
          "color": "rgb(216,82,24)",
          "line": {
           "color": "rgb(216,82,24)"
          },
          "size": 6,
          "symbol": "none"
         },
         "mode": "lines",
         "name": "",
         "showlegend": false,
         "type": "scatter",
         "visibility": true,
         "x": [
          3,
          18
         ],
         "xaxis": "x2",
         "y": [
          22.5,
          22.5
         ],
         "yaxis": "y2"
        },
        {
         "hoverinfo": "none",
         "line": {
          "color": "rgb(236,176,31)",
          "dash": "solid",
          "width": 2
         },
         "marker": {
          "color": "rgb(236,176,31)",
          "line": {
           "color": "rgb(236,176,31)"
          },
          "size": 6,
          "symbol": "none"
         },
         "mode": "lines",
         "name": "",
         "showlegend": false,
         "type": "scatter",
         "visibility": true,
         "x": [
          3,
          18
         ],
         "xaxis": "x2",
         "y": [
          36.5,
          36.5
         ],
         "yaxis": "y2"
        },
        {
         "hoverinfo": "none",
         "line": {
          "color": "rgb(125,46,141)",
          "dash": "solid",
          "width": 2
         },
         "marker": {
          "color": "rgb(125,46,141)",
          "line": {
           "color": "rgb(125,46,141)"
          },
          "size": 6,
          "symbol": "none"
         },
         "mode": "lines",
         "name": "",
         "showlegend": false,
         "type": "scatter",
         "visibility": true,
         "x": [
          3,
          18
         ],
         "xaxis": "x2",
         "y": [
          50.5,
          50.5
         ],
         "yaxis": "y2"
        },
        {
         "hoverinfo": "none",
         "line": {
          "color": "rgb(118,171,47)",
          "dash": "solid",
          "width": 2
         },
         "marker": {
          "color": "rgb(118,171,47)",
          "line": {
           "color": "rgb(118,171,47)"
          },
          "size": 6,
          "symbol": "none"
         },
         "mode": "lines",
         "name": "",
         "showlegend": false,
         "type": "scatter",
         "visibility": true,
         "x": [
          3,
          18
         ],
         "xaxis": "x2",
         "y": [
          64.5,
          64.5
         ],
         "yaxis": "y2"
        },
        {
         "hoverinfo": "none",
         "line": {
          "color": "rgb(76,189,237)",
          "dash": "solid",
          "width": 2
         },
         "marker": {
          "color": "rgb(76,189,237)",
          "line": {
           "color": "rgb(76,189,237)"
          },
          "size": 6,
          "symbol": "none"
         },
         "mode": "lines",
         "name": "",
         "showlegend": false,
         "type": "scatter",
         "visibility": true,
         "x": [
          3,
          18
         ],
         "xaxis": "x2",
         "y": [
          78.5,
          78.5
         ],
         "yaxis": "y2"
        }
       ],
       "layout": {
        "annotations": [
         {
          "font": {
           "color": "rgb(0, 0, 0)",
           "size": 10.8
          },
          "showarrow": false,
          "text": "Ag",
          "x": 21,
          "xanchor": "left",
          "xref": "x2",
          "y": 8.5,
          "yanchor": "middle",
          "yref": "y2"
         },
         {
          "font": {
           "color": "rgb(0, 0, 0)",
           "size": 10.8
          },
          "showarrow": false,
          "text": "AgCls",
          "x": 21,
          "xanchor": "left",
          "xref": "x2",
          "y": 22.5,
          "yanchor": "middle",
          "yref": "y2"
         },
         {
          "font": {
           "color": "rgb(0, 0, 0)",
           "size": 10.8
          },
          "showarrow": false,
          "text": "AgCl",
          "x": 21,
          "xanchor": "left",
          "xref": "x2",
          "y": 36.5,
          "yanchor": "middle",
          "yref": "y2"
         },
         {
          "font": {
           "color": "rgb(0, 0, 0)",
           "size": 10.8
          },
          "showarrow": false,
          "text": "AgCl2",
          "x": 21,
          "xanchor": "left",
          "xref": "x2",
          "y": 50.5,
          "yanchor": "middle",
          "yref": "y2"
         },
         {
          "font": {
           "color": "rgb(0, 0, 0)",
           "size": 10.8
          },
          "showarrow": false,
          "text": "AgCl3",
          "x": 21,
          "xanchor": "left",
          "xref": "x2",
          "y": 64.5,
          "yanchor": "middle",
          "yref": "y2"
         },
         {
          "font": {
           "color": "rgb(0, 0, 0)",
           "size": 10.8
          },
          "showarrow": false,
          "text": "AgCl4",
          "x": 21,
          "xanchor": "left",
          "xref": "x2",
          "y": 78.5,
          "yanchor": "middle",
          "yref": "y2"
         }
        ],
        "height": 420,
        "hovermode": "closest",
        "margin": {
         "b": 0,
         "l": 0,
         "r": 0,
         "t": 0
        },
        "plot_bgcolor": "rgba(0, 0, 0, 0)",
        "showlegend": false,
        "width": 560,
        "xaxis": {
         "anchor": "y",
         "autorange": false,
         "domain": [
          0.13,
          0.8839285714285713
         ],
         "exponentformat": "none",
         "gridcolor": "rgba(38,38,38,0.15)",
         "gridwidth": 2,
         "linecolor": "rgb(38,38,38)",
         "linewidth": 2,
         "mirror": "ticks",
         "range": [
          -14,
          -1
         ],
         "showgrid": false,
         "showline": true,
         "side": "bottom",
         "spikedash": "solid",
         "spikemode": "across",
         "spikesides": false,
         "spikethickness": 1,
         "tickangle": 0,
         "tickcolor": "rgb(38,38,38)",
         "tickfont": {
          "color": "rgb(38,38,38)",
          "size": 12
         },
         "ticklen": 3,
         "ticks": "inside",
         "ticktext": [
          "-14",
          "-12",
          "-10",
          "-8",
          "-6",
          "-4",
          "-2"
         ],
         "tickvals": [
          -14,
          -12,
          -10,
          -8,
          -6,
          -4,
          -2
         ],
         "title": {
          "font": {
           "color": "rgb(38,38,38)",
           "size": 13.200000000000001
          },
          "text": "logCl"
         },
         "type": "linear",
         "visible": true,
         "zeroline": false
        },
        "xaxis2": {
         "anchor": "y2",
         "autorange": false,
         "domain": [
          0.8946428571428572,
          0.9892857142857143
         ],
         "exponentformat": "none",
         "fixedrange": true,
         "gridcolor": "rgba(38,38,38,0.15)",
         "gridwidth": 1,
         "linecolor": "rgb(38,38,38)",
         "linewidth": 1,
         "mirror": true,
         "range": [
          0,
          53
         ],
         "showgrid": false,
         "showline": true,
         "showspikes": false,
         "side": "bottom",
         "spikedash": "solid",
         "spikemode": "across",
         "spikesides": false,
         "spikethickness": 1,
         "tickangle": 0,
         "tickcolor": "rgb(38,38,38)",
         "tickfont": {
          "color": "rgb(38,38,38)",
          "size": 10.8
         },
         "ticklen": 3,
         "ticks": "",
         "ticktext": [],
         "tickvals": [],
         "title": {
          "font": {
           "color": "rgb(0, 0, 0)",
           "size": 11.880000000000003
          },
          "text": ""
         },
         "type": "linear",
         "visible": true,
         "zeroline": false
        },
        "yaxis": {
         "anchor": "x",
         "autorange": false,
         "domain": [
          0.11,
          0.9249999999999999
         ],
         "exponentformat": "none",
         "gridcolor": "rgba(38,38,38,0.15)",
         "gridwidth": 2,
         "linecolor": "rgb(38,38,38)",
         "linewidth": 2,
         "mirror": "ticks",
         "range": [
          -40,
          -1
         ],
         "showgrid": false,
         "showline": true,
         "side": "left",
         "spikedash": "solid",
         "spikemode": "across",
         "spikesides": false,
         "spikethickness": 1,
         "tickangle": 0,
         "tickcolor": "rgb(38,38,38)",
         "tickfont": {
          "color": "rgb(38,38,38)",
          "size": 12
         },
         "ticklen": 3,
         "ticks": "inside",
         "ticktext": [
          "-40",
          "-30",
          "-20",
          "-10"
         ],
         "tickvals": [
          -40,
          -30,
          -20,
          -10
         ],
         "title": {
          "font": {
           "color": "rgb(38,38,38)",
           "size": 13.200000000000001
          },
          "text": "log[species]"
         },
         "type": "linear",
         "visible": true,
         "zeroline": false
        },
        "yaxis2": {
         "anchor": "x2",
         "autorange": false,
         "domain": [
          0.41392857142857137,
          0.6210714285714285
         ],
         "exponentformat": "none",
         "fixedrange": true,
         "gridcolor": "rgba(38,38,38,0.15)",
         "gridwidth": 1,
         "linecolor": "rgb(38,38,38)",
         "linewidth": 1,
         "mirror": true,
         "range": [
          87,
          0
         ],
         "showgrid": false,
         "showline": true,
         "showspikes": false,
         "side": "left",
         "spikedash": "solid",
         "spikemode": "across",
         "spikesides": false,
         "spikethickness": 1,
         "tickangle": 0,
         "tickcolor": "rgb(38,38,38)",
         "tickfont": {
          "color": "rgb(38,38,38)",
          "size": 10.8
         },
         "ticklen": 3,
         "ticks": "",
         "ticktext": [],
         "tickvals": [],
         "title": {
          "font": {
           "color": "rgb(0, 0, 0)",
           "size": 11.880000000000003
          },
          "text": ""
         },
         "type": "linear",
         "visible": true,
         "zeroline": false
        }
       }
      },
      "image/png": "[encoded data removed]"
     },
     "metadata": {},
     "output_type": "display_data"
    },
    {
     "ename": "Execution exception",
     "evalue": "parse error:\n\n  syntax error\n\n\n",
     "output_type": "error",
     "traceback": [
      "Execution exception: parse error:\n\n  syntax error\n\n\n",
      ""
     ]
    }
   ],
   "source": [
    "h=plot(log10(ClT),log10(Ag),log10(ClT),log10(AgCls),log10(ClT),log10(AgCl),log10(ClT),log10(AgCl2),log10(ClT),log10(AgCl3),log10(ClT),log10(AgCl4));\n",
    "%h=plot(log10(ClT),log10(Ag));\n",
    "set(h,'linewidth',2);\n",
    "set(gca,'linewidth',2,'fontsize',12);\n",
    "xlabel('logCl'); ylabel('log[species]');\n",
    "%xlabel('logCl'); ylabel('logAg');\n",
    "legend('Ag','AgCls','AgCl','AgCl2','AgCl3','AgCl4','location','eastoutside')\n",
    "axis([-14 -1 -40 -1])\n",
    "\n",
    "\n",
    "end"
   ]
  },
  {
   "cell_type": "code",
   "execution_count": 47,
   "id": "58030ebc-51a2-4de4-8234-97ebb16116e8",
   "metadata": {
    "tags": []
   },
   "outputs": [],
   "source": [
    "%100µM\n",
    "AgT=1e-4; pH=7; pe=20.75-pH; ClT=1e-12:0.01:1e-2;"
   ]
  },
  {
   "cell_type": "code",
   "execution_count": 48,
   "id": "9bfe6981-d352-471d-b539-85cc7704b447",
   "metadata": {
    "tags": []
   },
   "outputs": [],
   "source": [
    "% MODEL USING PHREEQC\n",
    "\n",
    "for i=1:length(ClT);\n",
    "\n",
    "minerals=[{'AgCls'}]; totalvector=[AgT; ClT(i); ClT(i)]; totalnames=[{'Ag'}; {'Cl'}; {'Na'}]; \n",
    "speciesexport=[{'Ag+'}; {'Cl-'};{'AgCl'};{'AgCl2-'};{'AgCl3-2'};{'AgCl4-3'}];\n",
    "acid=['NaOH']; show=0; T=25;\n",
    "database=['complexAgCls.dat']; \n",
    "\n",
    "tic\n",
    "[solutionspeciesconcs, speciesnames, solidconcs, solidnames]=runPHREEQCv2noHA(T,pH,pe,totalnames,totalvector,minerals,speciesexport,database,show,acid);\n",
    "PHREEQCtime=toc;\n",
    "\n",
    "Ag(i)=solutionspeciesconcs(1); \n",
    "Cl(i)=solutionspeciesconcs(2); \n",
    "AgCl(i)=solutionspeciesconcs(3); \n",
    "AgCl2(i)=solutionspeciesconcs(4);\n",
    "AgCl3(i)=solutionspeciesconcs(5);\n",
    "AgCl4(i)=solutionspeciesconcs(6);\n",
    "AgCls(i)=solidconcs(1);\n",
    "\n",
    "end"
   ]
  },
  {
   "cell_type": "code",
   "execution_count": 50,
   "id": "3265e497-d817-4eb5-8b85-ab5b965da4c9",
   "metadata": {
    "tags": []
   },
   "outputs": [
    {
     "data": {
      "application/vnd.plotly.v1+json": {
       "data": [
        {
         "line": {
          "color": "rgb(0,113,188)",
          "dash": "solid",
          "width": 2
         },
         "marker": {
          "color": "rgb(0,113,188)",
          "line": {
           "color": "rgb(0,113,188)"
          },
          "size": 6,
          "symbol": "none"
         },
         "mode": "lines",
         "name": "Ag",
         "showlegend": true,
         "type": "scatter",
         "visibility": true,
         "x": [
          -12.077353203129572,
          -3.0456697547163376,
          -2.721238129936326,
          -2.537607153135506,
          -2.4089451433934013,
          -2.3098157963824173,
          -2.2291610299946663,
          -2.1611646652892755,
          -2.102387139498805,
          -2.0506245597324475
         ],
         "xaxis": "x",
         "y": [
          -4.000000000708551,
          -6.669416932834595,
          -6.9815177897941965,
          -7.156045842505818,
          -7.277244698140355,
          -7.369948892657131,
          -7.444911133120438,
          -7.5077673936495515,
          -7.561840380230565,
          -7.609253114689053
         ],
         "yaxis": "y"
        },
        {
         "line": {
          "color": "rgb(216,82,24)",
          "dash": "solid",
          "width": 2
         },
         "marker": {
          "color": "rgb(216,82,24)",
          "line": {
           "color": "rgb(216,82,24)"
          },
          "size": 6,
          "symbol": "none"
         },
         "mode": "lines",
         "name": "AgCls",
         "showlegend": true,
         "type": "scatter",
         "visibility": true,
         "x": [
          -12.077353203129572,
          -3.0456697547163376,
          -2.721238129936326,
          -2.537607153135506,
          -2.4089451433934013,
          -2.3098157963824173,
          -2.2291610299946663,
          -2.1611646652892755,
          -2.102387139498805,
          -2.0506245597324475
         ],
         "xaxis": "x",
         "y": [
          null,
          -4.00262462225072,
          -4.002301544182481,
          -4.002307193687701,
          -4.002389655357976,
          -4.002502320477032,
          -4.002630096359159,
          -4.002766611097709,
          -4.0029087075029235,
          -4.003054642316977
         ],
         "yaxis": "y"
        },
        {
         "line": {
          "color": "rgb(236,176,31)",
          "dash": "solid",
          "width": 2
         },
         "marker": {
          "color": "rgb(236,176,31)",
          "line": {
           "color": "rgb(236,176,31)"
          },
          "size": 6,
          "symbol": "none"
         },
         "mode": "lines",
         "name": "AgCl",
         "showlegend": true,
         "type": "scatter",
         "visibility": true,
         "x": [
          -12.077353203129572,
          -3.0456697547163376,
          -2.721238129936326,
          -2.537607153135506,
          -2.4089451433934013,
          -2.3098157963824173,
          -2.2291610299946663,
          -2.1611646652892755,
          -2.102387139498805,
          -2.0506245597324475
         ],
         "xaxis": "x",
         "y": [
          -12.787408672576543,
          -6.448295026590605,
          -6.448395015696704,
          -6.448495012311585,
          -6.448595010676353,
          -6.448695009726321,
          -6.4487950091172035,
          -6.448895008704019,
          -6.448995008414922,
          -6.449095008210494
         ],
         "yaxis": "y"
        },
        {
         "line": {
          "color": "rgb(125,46,141)",
          "dash": "solid",
          "width": 2
         },
         "marker": {
          "color": "rgb(125,46,141)",
          "line": {
           "color": "rgb(125,46,141)"
          },
          "size": 6,
          "symbol": "none"
         },
         "mode": "lines",
         "name": "AgCl2",
         "showlegend": true,
         "type": "scatter",
         "visibility": true,
         "x": [
          -12.077353203129572,
          -3.0456697547163376,
          -2.721238129936326,
          -2.537607153135506,
          -2.4089451433934013,
          -2.3098157963824173,
          -2.2291610299946663,
          -2.1611646652892755,
          -2.102387139498805,
          -2.0506245597324475
         ],
         "xaxis": "x",
         "y": [
          -22.86295687066463,
          -7.492069754716267,
          -7.167638129936419,
          -6.984007153135574,
          -6.855345143393507,
          -6.756215796382362,
          -6.675561029994782,
          -6.60756466528935,
          -6.548787139498833,
          -6.497024559732487
         ],
         "yaxis": "y"
        },
        {
         "line": {
          "color": "rgb(118,171,47)",
          "dash": "solid",
          "width": 2
         },
         "marker": {
          "color": "rgb(118,171,47)",
          "line": {
           "color": "rgb(118,171,47)"
          },
          "size": 6,
          "symbol": "none"
         },
         "mode": "lines",
         "name": "AgCl3",
         "showlegend": true,
         "type": "scatter",
         "visibility": true,
         "x": [
          -12.077353203129572,
          -3.0456697547163376,
          -2.721238129936326,
          -2.537607153135506,
          -2.4089451433934013,
          -2.3098157963824173,
          -2.2291610299946663,
          -2.1611646652892755,
          -2.102387139498805,
          -2.0506245597324475
         ],
         "xaxis": "x",
         "y": [
          -35.10105961009723,
          -10.67542619698354,
          -10.01423217960343,
          -9.637867301912275,
          -9.373080128320554,
          -9.168396281804323,
          -9.001394223104485,
          -8.860261389517365,
          -8.7380017987269,
          -8.630126793886328
         ],
         "yaxis": "y"
        },
        {
         "line": {
          "color": "rgb(76,189,237)",
          "dash": "solid",
          "width": 2
         },
         "marker": {
          "color": "rgb(76,189,237)",
          "line": {
           "color": "rgb(76,189,237)"
          },
          "size": 6,
          "symbol": "none"
         },
         "mode": "lines",
         "name": "AgCl4",
         "showlegend": true,
         "type": "scatter",
         "visibility": true,
         "x": [
          1,
          2,
          3,
          4,
          5,
          6,
          7,
          8,
          9,
          10
         ],
         "xaxis": "x",
         "y": [
          null,
          -14.986669326801481,
          -13.976382149001122,
          -13.398180446330446,
          -12.989804954781535,
          -12.67314145626581,
          -12.414099579329378,
          -12.194690172684124,
          -12.004243977684624,
          -11.835906702461779
         ],
         "yaxis": "y"
        },
        {
         "hoverinfo": "none",
         "line": {
          "color": "rgb(0,113,188)",
          "dash": "solid",
          "width": 2
         },
         "marker": {
          "color": "rgb(0,113,188)",
          "line": {
           "color": "rgb(0,113,188)"
          },
          "size": 6,
          "symbol": "none"
         },
         "mode": "lines",
         "name": "",
         "showlegend": false,
         "type": "scatter",
         "visibility": true,
         "x": [
          3,
          18
         ],
         "xaxis": "x2",
         "y": [
          8.5,
          8.5
         ],
         "yaxis": "y2"
        },
        {
         "hoverinfo": "none",
         "line": {
          "color": "rgb(216,82,24)",
          "dash": "solid",
          "width": 2
         },
         "marker": {
          "color": "rgb(216,82,24)",
          "line": {
           "color": "rgb(216,82,24)"
          },
          "size": 6,
          "symbol": "none"
         },
         "mode": "lines",
         "name": "",
         "showlegend": false,
         "type": "scatter",
         "visibility": true,
         "x": [
          3,
          18
         ],
         "xaxis": "x2",
         "y": [
          22.5,
          22.5
         ],
         "yaxis": "y2"
        },
        {
         "hoverinfo": "none",
         "line": {
          "color": "rgb(236,176,31)",
          "dash": "solid",
          "width": 2
         },
         "marker": {
          "color": "rgb(236,176,31)",
          "line": {
           "color": "rgb(236,176,31)"
          },
          "size": 6,
          "symbol": "none"
         },
         "mode": "lines",
         "name": "",
         "showlegend": false,
         "type": "scatter",
         "visibility": true,
         "x": [
          3,
          18
         ],
         "xaxis": "x2",
         "y": [
          36.5,
          36.5
         ],
         "yaxis": "y2"
        },
        {
         "hoverinfo": "none",
         "line": {
          "color": "rgb(125,46,141)",
          "dash": "solid",
          "width": 2
         },
         "marker": {
          "color": "rgb(125,46,141)",
          "line": {
           "color": "rgb(125,46,141)"
          },
          "size": 6,
          "symbol": "none"
         },
         "mode": "lines",
         "name": "",
         "showlegend": false,
         "type": "scatter",
         "visibility": true,
         "x": [
          3,
          18
         ],
         "xaxis": "x2",
         "y": [
          50.5,
          50.5
         ],
         "yaxis": "y2"
        },
        {
         "hoverinfo": "none",
         "line": {
          "color": "rgb(118,171,47)",
          "dash": "solid",
          "width": 2
         },
         "marker": {
          "color": "rgb(118,171,47)",
          "line": {
           "color": "rgb(118,171,47)"
          },
          "size": 6,
          "symbol": "none"
         },
         "mode": "lines",
         "name": "",
         "showlegend": false,
         "type": "scatter",
         "visibility": true,
         "x": [
          3,
          18
         ],
         "xaxis": "x2",
         "y": [
          64.5,
          64.5
         ],
         "yaxis": "y2"
        },
        {
         "hoverinfo": "none",
         "line": {
          "color": "rgb(76,189,237)",
          "dash": "solid",
          "width": 2
         },
         "marker": {
          "color": "rgb(76,189,237)",
          "line": {
           "color": "rgb(76,189,237)"
          },
          "size": 6,
          "symbol": "none"
         },
         "mode": "lines",
         "name": "",
         "showlegend": false,
         "type": "scatter",
         "visibility": true,
         "x": [
          3,
          18
         ],
         "xaxis": "x2",
         "y": [
          78.5,
          78.5
         ],
         "yaxis": "y2"
        }
       ],
       "layout": {
        "annotations": [
         {
          "font": {
           "color": "rgb(0, 0, 0)",
           "size": 10.8
          },
          "showarrow": false,
          "text": "Ag",
          "x": 21,
          "xanchor": "left",
          "xref": "x2",
          "y": 8.5,
          "yanchor": "middle",
          "yref": "y2"
         },
         {
          "font": {
           "color": "rgb(0, 0, 0)",
           "size": 10.8
          },
          "showarrow": false,
          "text": "AgCls",
          "x": 21,
          "xanchor": "left",
          "xref": "x2",
          "y": 22.5,
          "yanchor": "middle",
          "yref": "y2"
         },
         {
          "font": {
           "color": "rgb(0, 0, 0)",
           "size": 10.8
          },
          "showarrow": false,
          "text": "AgCl",
          "x": 21,
          "xanchor": "left",
          "xref": "x2",
          "y": 36.5,
          "yanchor": "middle",
          "yref": "y2"
         },
         {
          "font": {
           "color": "rgb(0, 0, 0)",
           "size": 10.8
          },
          "showarrow": false,
          "text": "AgCl2",
          "x": 21,
          "xanchor": "left",
          "xref": "x2",
          "y": 50.5,
          "yanchor": "middle",
          "yref": "y2"
         },
         {
          "font": {
           "color": "rgb(0, 0, 0)",
           "size": 10.8
          },
          "showarrow": false,
          "text": "AgCl3",
          "x": 21,
          "xanchor": "left",
          "xref": "x2",
          "y": 64.5,
          "yanchor": "middle",
          "yref": "y2"
         },
         {
          "font": {
           "color": "rgb(0, 0, 0)",
           "size": 10.8
          },
          "showarrow": false,
          "text": "AgCl4",
          "x": 21,
          "xanchor": "left",
          "xref": "x2",
          "y": 78.5,
          "yanchor": "middle",
          "yref": "y2"
         }
        ],
        "height": 420,
        "hovermode": "closest",
        "margin": {
         "b": 0,
         "l": 0,
         "r": 0,
         "t": 0
        },
        "plot_bgcolor": "rgba(0, 0, 0, 0)",
        "showlegend": false,
        "width": 560,
        "xaxis": {
         "anchor": "y",
         "autorange": false,
         "domain": [
          0.13,
          0.8839285714285714
         ],
         "exponentformat": "none",
         "gridcolor": "rgba(38,38,38,0.15)",
         "gridwidth": 2,
         "linecolor": "rgb(38,38,38)",
         "linewidth": 2,
         "mirror": "ticks",
         "range": [
          -15,
          10
         ],
         "showgrid": false,
         "showline": true,
         "side": "bottom",
         "spikedash": "solid",
         "spikemode": "across",
         "spikesides": false,
         "spikethickness": 1,
         "tickangle": 0,
         "tickcolor": "rgb(38,38,38)",
         "tickfont": {
          "color": "rgb(38,38,38)",
          "size": 12
         },
         "ticklen": 3,
         "ticks": "inside",
         "ticktext": [
          "-15",
          "-10",
          "-5",
          "0",
          "5",
          "10"
         ],
         "tickvals": [
          -15,
          -10,
          -5,
          0,
          5,
          10
         ],
         "title": {
          "font": {
           "color": "rgb(38,38,38)",
           "size": 13.200000000000001
          },
          "text": "logCl"
         },
         "type": "linear",
         "visible": true,
         "zeroline": false
        },
        "xaxis2": {
         "anchor": "y2",
         "autorange": false,
         "domain": [
          0.8946428571428572,
          0.9892857142857143
         ],
         "exponentformat": "none",
         "fixedrange": true,
         "gridcolor": "rgba(38,38,38,0.15)",
         "gridwidth": 1,
         "linecolor": "rgb(38,38,38)",
         "linewidth": 1,
         "mirror": true,
         "range": [
          0,
          53
         ],
         "showgrid": false,
         "showline": true,
         "showspikes": false,
         "side": "bottom",
         "spikedash": "solid",
         "spikemode": "across",
         "spikesides": false,
         "spikethickness": 1,
         "tickangle": 0,
         "tickcolor": "rgb(38,38,38)",
         "tickfont": {
          "color": "rgb(38,38,38)",
          "size": 10.8
         },
         "ticklen": 3,
         "ticks": "",
         "ticktext": [],
         "tickvals": [],
         "title": {
          "font": {
           "color": "rgb(0, 0, 0)",
           "size": 11.880000000000003
          },
          "text": ""
         },
         "type": "linear",
         "visible": true,
         "zeroline": false
        },
        "yaxis": {
         "anchor": "x",
         "autorange": false,
         "domain": [
          0.11,
          0.9249999999999999
         ],
         "exponentformat": "none",
         "gridcolor": "rgba(38,38,38,0.15)",
         "gridwidth": 2,
         "linecolor": "rgb(38,38,38)",
         "linewidth": 2,
         "mirror": "ticks",
         "range": [
          -40,
          0
         ],
         "showgrid": false,
         "showline": true,
         "side": "left",
         "spikedash": "solid",
         "spikemode": "across",
         "spikesides": false,
         "spikethickness": 1,
         "tickangle": 0,
         "tickcolor": "rgb(38,38,38)",
         "tickfont": {
          "color": "rgb(38,38,38)",
          "size": 12
         },
         "ticklen": 3,
         "ticks": "inside",
         "ticktext": [
          "-40",
          "-30",
          "-20",
          "-10",
          "0"
         ],
         "tickvals": [
          -40,
          -30,
          -20,
          -10,
          0
         ],
         "title": {
          "font": {
           "color": "rgb(38,38,38)",
           "size": 13.200000000000001
          },
          "text": "log[species]"
         },
         "type": "linear",
         "visible": true,
         "zeroline": false
        },
        "yaxis2": {
         "anchor": "x2",
         "autorange": false,
         "domain": [
          0.41392857142857137,
          0.6210714285714285
         ],
         "exponentformat": "none",
         "fixedrange": true,
         "gridcolor": "rgba(38,38,38,0.15)",
         "gridwidth": 1,
         "linecolor": "rgb(38,38,38)",
         "linewidth": 1,
         "mirror": true,
         "range": [
          87,
          0
         ],
         "showgrid": false,
         "showline": true,
         "showspikes": false,
         "side": "left",
         "spikedash": "solid",
         "spikemode": "across",
         "spikesides": false,
         "spikethickness": 1,
         "tickangle": 0,
         "tickcolor": "rgb(38,38,38)",
         "tickfont": {
          "color": "rgb(38,38,38)",
          "size": 10.8
         },
         "ticklen": 3,
         "ticks": "",
         "ticktext": [],
         "tickvals": [],
         "title": {
          "font": {
           "color": "rgb(0, 0, 0)",
           "size": 11.880000000000003
          },
          "text": ""
         },
         "type": "linear",
         "visible": true,
         "zeroline": false
        }
       }
      },
      "image/png": "[encoded data removed]"
     },
     "metadata": {},
     "output_type": "display_data"
    },
    {
     "ename": "Execution exception",
     "evalue": "parse error:\n\n  syntax error\n\n\n",
     "output_type": "error",
     "traceback": [
      "Execution exception: parse error:\n\n  syntax error\n\n\n",
      ""
     ]
    }
   ],
   "source": [
    "h=plot(log10(ClT),log10(Ag),log10(ClT),log10(AgCls),log10(ClT),log10(AgCl),log10(ClT),log10(AgCl2),log10(ClT),log10(AgCl3),log10(ClT),log10(AgCl4));\n",
    "%h=plot(log10(Cl),log10(Ag));\n",
    "%h=plot(log10(Cl),log10(AgCls));\n",
    "set(h,'linewidth',2);\n",
    "set(gca,'linewidth',2,'fontsize',12);\n",
    "xlabel('logCl'); ylabel('log[species]');\n",
    "%xlabel('logCl'); ylabel('logAg');\n",
    "legend('Ag','AgCls','AgCl','AgCl2','AgCl3','AgCl4','location','eastoutside')\n",
    "%axis([-40 0 -8 -3])\n",
    "\n",
    "end"
   ]
  },
  {
   "cell_type": "code",
   "execution_count": null,
   "id": "a6dbd577-17a0-4e92-add4-1a2f55e44f86",
   "metadata": {},
   "outputs": [],
   "source": [
    "\n",
    "%AgT=1e-6; BrT=1e-5; IT=1e-5; pH=7; pe=20.75-pH; ClT=1e-8:0.001:1e-2; \n",
    "AgT=1e-6; BrT=1e-2; IT=1e-2; pH=7; pe=20.75-pH; ClT=1e-8:0.00001:1e-2; "
   ]
  },
  {
   "cell_type": "code",
   "execution_count": null,
   "id": "df449309-d082-4e41-8b30-3e35221c4984",
   "metadata": {
    "tags": []
   },
   "outputs": [],
   "source": [
    "% MODEL USING PHREEQC\n",
    "\n",
    "for i=1:length(ClT)\n",
    "%j=1:length(BrT)\n",
    "%k=1:length(IT)\n",
    " \n",
    "%minerals=[{'AgBrs'};{'AgCls'};{'AgIs'}]; totalvector=[AgT; BrT(j); ClT(i); IT(k); ClT(i)+BrT(j)+IT(k)]; totalnames=[{'Ag'}; {'Br'}; {'Cl'}; {'I'}; {'Na'}]; \n",
    "minerals=[{'AgBrs'};{'AgCls'};{'AgIs'}]; totalvector=[AgT; BrT; ClT(i); IT; ClT(i)+BrT+IT]; totalnames=[{'Ag'}; {'Br'}; {'Cl'}; {'I'}; {'Na'}]; \n",
    "speciesexport=[{'Ag+'};{'Br-'};{'Cl-'};{'I-'};{'AgBr'};{'AgBr2-'};{'AgBr3-2'};{'AgBr4-3'};{'AgCl'};{'AgCl2-'};{'AgCl3-2'};{'AgCl4-3'};{'AgI'};{'AgI2-'};{'AgI3-2'};{'AgI4-3'}];\n",
    "acid=['NaOH']; show=1; T=25;\n",
    "database=['complexAgClBrIs.dat']; \n",
    "\n",
    "\n",
    "tic\n",
    "[solutionspeciesconcs, speciesnames, solidconcs, solidnames]=runPHREEQCv2noHA(T,pH,pe,totalnames,totalvector,minerals,speciesexport,database,show,acid);\n",
    "PHREEQCtime=toc;\n",
    "\n",
    "AgPHREEQC(i)=solutionspeciesconcs(1); \n",
    "BrPHREEQC(i)=solutionspeciesconcs(2); \n",
    "ClPHREEQC(i)=solutionspeciesconcs(3);\n",
    "IPHREEQC(i)=solutionspeciesconcs(4);\n",
    "AgBrPHREEQC(i)=solutionspeciesconcs(5); \n",
    "AgBr2PHREEQC(i)=solutionspeciesconcs(6);\n",
    "AgBr3PHREEQC(i)=solutionspeciesconcs(7);\n",
    "AgBr4PHREEQC(i)=solutionspeciesconcs(8);\n",
    "AgClPHREEQC(i)=solutionspeciesconcs(9);\n",
    "AgCl2PHREEQC(i)=solutionspeciesconcs(10);\n",
    "AgCl3PHREEQC(i)=solutionspeciesconcs(11);\n",
    "AgCl4PHREEQC(i)=solutionspeciesconcs(12);\n",
    "AgIPHREEQC(i)=solutionspeciesconcs(13);\n",
    "AgI2PHREEQC(i)=solutionspeciesconcs(14);\n",
    "AgI3PHREEQC(i)=solutionspeciesconcs(15);\n",
    "AgI4PHREEQC(i)=solutionspeciesconcs(16);\n",
    "AgBrsPHREEQC(i)=solidconcs(1);\n",
    "AgClsPHREEQC(i)=solidconcs(2);\n",
    "AgIsPHREEQC(i)=solidconcs(3);\n",
    "\n",
    "end"
   ]
  },
  {
   "cell_type": "code",
   "execution_count": null,
   "id": "9123f415-f024-4a86-96ad-5665324e1deb",
   "metadata": {
    "tags": []
   },
   "outputs": [],
   "source": [
    "%h=plot(logAg,log10(Ag),logAg,log10(AgCls),logAg,log10(AgCl),logAg,log10(AgCl2),logAg,log10(AgCl3),logAg,log10(AgCl4),logAg,log10(Cl));\n",
    "h=plot(log10(Cl),log10(Ag),log10(Br),log10(Ag),log10(I),log10(Ag));\n",
    "set(h,'linewidth',2);\n",
    "set(gca,'linewidth',2,'fontsize',12);\n",
    "xlabel('log[species]'); ylabel('logAg');\n",
    "legend('Cl','Br','I','location','eastoutside')\n",
    "%axis([-14 -1 -9 -6])\n",
    "exportforplot=[...\n",
    "log10(Ag)' log10(Br)' log10(Cl)' log10(I)'\n",
    "]\n",
    "\n",
    "end"
   ]
  },
  {
   "cell_type": "code",
   "execution_count": null,
   "id": "0aa5b5ea-806a-4652-ae09-aa3e70e0b5e8",
   "metadata": {},
   "outputs": [],
   "source": []
  }
 ],
 "metadata": {
  "kernelspec": {
   "display_name": "Octave (xoctave)",
   "language": "Octave",
   "name": "xoctave"
  },
  "language_info": {
   "codemirror_mode": "octave",
   "file_extension": ".m",
   "mimetype": "text/x-octave",
   "name": "Octave",
   "nbconvert_exporter": "",
   "pygments_lexer": "octave",
   "version": "7.3.0"
  }
 },
 "nbformat": 4,
 "nbformat_minor": 5
}
