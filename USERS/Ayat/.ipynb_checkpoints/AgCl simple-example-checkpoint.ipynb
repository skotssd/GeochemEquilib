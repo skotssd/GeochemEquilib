{
 "cells": [
  {
   "cell_type": "markdown",
   "id": "88c5d603-8b7a-4c7f-aca2-7c9c7549a268",
   "metadata": {},
   "source": [
    "# AgCl as first test case\n",
    "\n",
    "First test runs comparing tableau based solver (numerical or analytical gradients and logX versus X solver) and PHREEQC."
   ]
  },
  {
   "cell_type": "code",
   "execution_count": 91,
   "id": "9845ea46-ed36-4573-ba34-37061ce46976",
   "metadata": {
    "tags": []
   },
   "outputs": [],
   "source": [
    "% setup environment\n",
    "% set path to equilibrium solver\n",
    "txt=pwd;\n",
    "n=length(txt);\n",
    "rootpath=txt; rootpath=txt(1:n-11);\n",
    "PHREEQCpath=[rootpath,'/runPHREEQC'];\n",
    "addpath(PHREEQCpath);\n",
    "JEQUILIBpath=[rootpath,'/JEQUILIB'];\n",
    "addpath(JEQUILIBpath);\n",
    "% clear data and number format\n",
    "clear; format short e\n",
    "% turn off warnings\n",
    "warning off\n",
    "%graphics_toolkit (\"notebook\"); \n",
    "%graphics_toolkit (\"plotly\"); \n",
    "%graphics_toolkit(\"gnuplot\")"
   ]
  },
  {
   "cell_type": "code",
   "execution_count": 92,
   "id": "4346b14a-026d-47d1-b943-c9d85bc180c1",
   "metadata": {},
   "outputs": [],
   "source": [
    "% MODEL USING TABLEAU (different gradients or log versus linear variables)\n",
    "%graphics_toolkit(\"notebook\")\n",
    "%model with just inorganic speciation\n",
    "%geochemical model\n",
    "% input the constants and solution chemistry\n",
    "\n",
    "flag1=2; %flag1 for concentration based search vector (1) or for log based search vector (2).\n",
    "flag2=2; %flag2 for numerical derivatives (2) or analtyical derivatives (1)\n",
    "%database=[]; \n",
    "flag3=0; % flag3 1 for show warnings. 0 no warnings\n",
    "flag4=0; %if=1 solve tableau one line at a time to get a good initial guess (no solids). really challenging probs only\n",
    "flag5=0; %if=1 use stored initial guess for including solids\n",
    "\n",
    "AgT=1e-4; ClT=1e-1; pH=7; \n",
    "\n",
    "TOTALS=[AgT ClT];\n",
    "TOTALS(TOTALS==0)=1e-16; % get rid of zero values, b/c div by zero error\n",
    "%TOTALS=[inorganicTOTALS]; %TOTALS=inorganicTOTALS;\n",
    "pH=pH; pe=20.75-pH; \n",
    "\n",
    "tic;\n",
    "[Ag,Cl,AgCls,MASSERR]=AgCltableau(pH,pe,TOTALS',flag1,flag2,flag3,flag4,flag5);\n",
    "tableautime=toc;\n",
    "\n",
    "Agmasserror=MASSERR(1); Clmasserror=MASSERR(2);"
   ]
  },
  {
   "cell_type": "code",
   "execution_count": 93,
   "id": "3bd95ab2-3bb5-4d33-ab6f-48bb9abe7cb6",
   "metadata": {},
   "outputs": [
    {
     "name": "stdout",
     "output_type": "stream",
     "text": [
      "Input file: runphreeqc.txt\n",
      "\n",
      "Output file: out.txt\n",
      "\n",
      "Database file: simplestAgCl.dat\n",
      "\n",
      "\n",
      "Initializing...                                                                 \n",
      "\n",
      "End of Run after 0.003146 Seconds.\n"
     ]
    }
   ],
   "source": [
    "% MODEL USING PHREEQC\n",
    "\n",
    "minerals=[{'AgCls'}]; totalvector=[AgT; ClT; ClT]; totalnames=[{'Ag'}; {'Cl'}; {'Na'}]; speciesexport=[{'Ag+'}; {'Cl-'}];\n",
    "%database=['llnl_nosolubleAgCl.dat']; \n",
    "acid=['NaOH']; show=0; T=25;\n",
    "%database=['AgCl.dat']; \n",
    "database=['simplestAgCl.dat']; \n",
    "\n",
    "tic\n",
    "[solutionspeciesconcs, speciesnames, solidconcs, solidnames]=runPHREEQCv2noHA(T,pH,pe,totalnames,totalvector,minerals,speciesexport,database,show,acid);\n",
    "PHREEQCtime=toc;\n",
    "\n",
    "AgPHREEQC=solutionspeciesconcs(1); ClPHREEQC=solutionspeciesconcs(2); AgClsPHREEQC=solidconcs(1);\n",
    "AgmasserrorPHREEQC=AgT-AgPHREEQC-AgClsPHREEQC; ClmasserrorPHREEQC=ClT-ClPHREEQC-AgClsPHREEQC;"
   ]
  },
  {
   "cell_type": "code",
   "execution_count": 94,
   "id": "791f895f-7a04-44b4-8a00-d3c55ce35500",
   "metadata": {},
   "outputs": [],
   "source": [
    "% exact model\n",
    "\n",
    "Ksp=10^-9.7453;\n",
    "\n",
    "% check SI\n",
    "\n",
    "IAP=AgT*ClT;\n",
    "\n",
    "Agexact=AgT; Clexact=ClT; AgClsexact=0;\n",
    "\n",
    "if IAP>=Ksp\n",
    "a=1; b=ClT-AgT; c=-Ksp;\n",
    "t=roots([a b c]); t=t(t>0); t=real(t(imag(t)==0));\n",
    "Agexact=t; AgClsexact=AgT-Ag; Clexact=ClT-AgClsexact;\n",
    "end\n"
   ]
  },
  {
   "cell_type": "code",
   "execution_count": 95,
   "id": "8e8db28f-82d8-4c4b-af2c-c0b314dc5774",
   "metadata": {},
   "outputs": [
    {
     "name": "stdout",
     "output_type": "stream",
     "text": [
      "Agcompare =\n",
      "\n",
      "   1.7994e-09   2.9483e-09   1.7994e-09\n",
      "\n",
      "Clcompare =\n",
      "\n",
      "   9.9900e-02   9.9900e-02   9.9900e-02\n",
      "\n",
      "AgClcompare =\n",
      "\n",
      "   9.9998e-05   9.9997e-05   9.9998e-05\n",
      "\n",
      "Agmasserrorcompare =\n",
      "\n",
      "            0  -8.5787e-18\n",
      "\n",
      "Clmasserrorcompare =\n",
      "\n",
      "   1.3878e-17   1.1148e-14\n",
      "\n",
      "timecompare =\n",
      "\n",
      "   1.6291e+00   2.1870e-02\n",
      "\n"
     ]
    }
   ],
   "source": [
    "% compare models\n",
    "\n",
    "Agcompare=[Ag AgPHREEQC Agexact]\n",
    "Clcompare=[Cl ClPHREEQC Clexact]\n",
    "AgClcompare=[AgCls AgClsPHREEQC AgClsexact]\n",
    "Agmasserrorcompare=[Agmasserror AgmasserrorPHREEQC]\n",
    "Clmasserrorcompare=[Clmasserror ClmasserrorPHREEQC]\n",
    "timecompare=[tableautime PHREEQCtime]"
   ]
  }
 ],
 "metadata": {
  "kernelspec": {
   "display_name": "Octave",
   "language": "octave",
   "name": "octave"
  },
  "language_info": {
   "file_extension": ".m",
   "help_links": [
    {
     "text": "GNU Octave",
     "url": "https://www.gnu.org/software/octave/support.html"
    },
    {
     "text": "Octave Kernel",
     "url": "https://github.com/Calysto/octave_kernel"
    },
    {
     "text": "MetaKernel Magics",
     "url": "https://metakernel.readthedocs.io/en/latest/source/README.html"
    }
   ],
   "mimetype": "text/x-octave",
   "name": "octave",
   "version": "6.4.0"
  }
 },
 "nbformat": 4,
 "nbformat_minor": 5
}
