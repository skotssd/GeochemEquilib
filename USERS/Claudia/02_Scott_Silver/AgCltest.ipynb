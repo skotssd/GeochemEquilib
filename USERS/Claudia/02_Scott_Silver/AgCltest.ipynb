{
 "cells": [
  {
   "cell_type": "markdown",
   "id": "897088d0-45c9-4f50-80fe-5b99f96e7c0a",
   "metadata": {},
   "source": [
    "# AgCl as first test case\n",
    "\n",
    "First test runs comparing tableau based solver (numerical or analytical gradients and logX versus X solver) and PHREEQC."
   ]
  },
  {
   "cell_type": "code",
   "execution_count": 1,
   "id": "dc4c1946-12eb-4c8c-86dc-4c1db187b1be",
   "metadata": {
    "tags": []
   },
   "outputs": [
    {
     "name": "stderr",
     "output_type": "stream",
     "text": [
      "warning: addpath: /home/jovyan/USERS/Clau/runPHREEQC: No such file or directory\n",
      "warning: addpath: /home/jovyan/USERS/Clau/JEQUILIB: No such file or directory\n"
     ]
    }
   ],
   "source": [
    "% setup environment\n",
    "% set path to equilibrium solver\n",
    "txt=pwd;\n",
    "n=length(txt);\n",
    "rootpath=txt; rootpath=txt(1:n-19);\n",
    "PHREEQCpath=[rootpath,'/runPHREEQC'];\n",
    "addpath(PHREEQCpath);\n",
    "JEQUILIBpath=[rootpath,'/JEQUILIB'];\n",
    "addpath(JEQUILIBpath);\n",
    "% clear data and number format\n",
    "clear; format short e\n",
    "% turn off warnings\n",
    "warning off\n",
    "%graphics_toolkit (\"notebook\"); \n",
    "%graphics_toolkit (\"plotly\"); \n",
    "%graphics_toolkit(\"gnuplot\")"
   ]
  },
  {
   "cell_type": "code",
   "execution_count": 2,
   "id": "f80f1f39-9d75-4461-a818-b545c5a1641a",
   "metadata": {
    "tags": []
   },
   "outputs": [
    {
     "ename": "Execution exception",
     "evalue": "'processtableau' undefined near line 18, column 62",
     "output_type": "error",
     "traceback": [
      "Execution exception: 'processtableau' undefined near line 18, column 62",
      "error: called from\n    AgCltableau at line 18 column 61\n"
     ]
    },
    {
     "ename": "Execution exception",
     "evalue": "'MASSERR' undefined near line 1, column 13",
     "output_type": "error",
     "traceback": [
      "Execution exception: 'MASSERR' undefined near line 1, column 13",
      ""
     ]
    }
   ],
   "source": [
    "% MODEL USING TABLEAU (different gradients or log versus linear variables)\n",
    "%graphics_toolkit(\"notebook\")\n",
    "%model with just inorganic speciation\n",
    "%geochemical model\n",
    "% input the constants and solution chemistry\n",
    "\n",
    "flag1=1; %flag1 for concentration based search vector (1) or for log based search vector (2).\n",
    "flag2=1; %flag2 for numerical derivatives (2) or analtyical derivatives (1)\n",
    "%database=[]; \n",
    "flag3=0; % flag3 1 for show warnings. 0 no warnings\n",
    "flag4=0; %if=1 solve tableau one line at a time to get a good initial guess (no solids). really challenging probs only\n",
    "flag5=0; %if=1 use stored initial guess for including solids\n",
    "\n",
    "AgT=1e-4; ClT=1e-4; pH=7; \n",
    "\n",
    "TOTALS=[AgT ClT];\n",
    "TOTALS(TOTALS==0)=1e-16; % get rid of zero values, b/c div by zero error\n",
    "%TOTALS=[inorganicTOTALS]; %TOTALS=inorganicTOTALS;\n",
    "pH=pH; pe=20.75-pH; \n",
    "\n",
    "tic;\n",
    "[Ag,Cl,AgCls,MASSERR]=AgCltableau(pH,pe,TOTALS',flag1,flag2,flag3,flag4,flag5);\n",
    "tableautime=toc;\n",
    "\n",
    "Agmasserror=MASSERR(1); Clmasserror=MASSERR(2);"
   ]
  },
  {
   "cell_type": "code",
   "execution_count": 3,
   "id": "c3431e04-1eb4-42b4-8e09-0f7ff3adc5fc",
   "metadata": {
    "tags": []
   },
   "outputs": [
    {
     "ename": "Execution exception",
     "evalue": "'runPHREEQCv2noHA' undefined near line 1, column 62",
     "output_type": "error",
     "traceback": [
      "Execution exception: 'runPHREEQCv2noHA' undefined near line 1, column 62",
      ""
     ]
    },
    {
     "ename": "Execution exception",
     "evalue": "'solutionspeciesconcs' undefined near line 1, column 11",
     "output_type": "error",
     "traceback": [
      "Execution exception: 'solutionspeciesconcs' undefined near line 1, column 11",
      ""
     ]
    },
    {
     "ename": "Execution exception",
     "evalue": "'AgPHREEQC' undefined near line 1, column 24",
     "output_type": "error",
     "traceback": [
      "Execution exception: 'AgPHREEQC' undefined near line 1, column 24",
      ""
     ]
    }
   ],
   "source": [
    "% MODEL USING PHREEQC\n",
    "\n",
    "minerals=[{'AgCls'}]; totalvector=[AgT; ClT; ClT]; totalnames=[{'Ag'}; {'Cl'}; {'Na'}]; speciesexport=[{'Ag+'}; {'Cl-'}];\n",
    "%database=['llnl_nosolubleAgCl.dat']; \n",
    "acid=['NaOH']; show=0; T=25;\n",
    "%database=['AgCl.dat']; \n",
    "database=['simplestAgCl.dat']; \n",
    "\n",
    "tic\n",
    "[solutionspeciesconcs, speciesnames, solidconcs, solidnames]=runPHREEQCv2noHA(T,pH,pe,totalnames,totalvector,minerals,speciesexport,database,show,acid);\n",
    "PHREEQCtime=toc;\n",
    "\n",
    "AgPHREEQC=solutionspeciesconcs(1); ClPHREEQC=solutionspeciesconcs(2); AgClsPHREEQC=solidconcs(1);\n",
    "AgmasserrorPHREEQC=AgT-AgPHREEQC-AgClsPHREEQC; ClmasserrorPHREEQC=ClT-ClPHREEQC-AgClsPHREEQC;"
   ]
  },
  {
   "cell_type": "code",
   "execution_count": 4,
   "id": "f8772bac-4321-476a-ae76-a4f9cc62d50d",
   "metadata": {
    "tags": []
   },
   "outputs": [
    {
     "ename": "Execution exception",
     "evalue": "'Ag' undefined near line 4, column 27",
     "output_type": "error",
     "traceback": [
      "Execution exception: 'Ag' undefined near line 4, column 27",
      ""
     ]
    }
   ],
   "source": [
    "% exact model\n",
    "\n",
    "Ksp=10^-9.7453;\n",
    "\n",
    "% check SI\n",
    "\n",
    "IAP=AgT*ClT;\n",
    "\n",
    "Agexact=AgT; Clexact=ClT; AgClsexact=0;\n",
    "\n",
    "if IAP>=Ksp\n",
    "a=1; b=ClT-AgT; c=-Ksp;\n",
    "t=roots([a b c]); t=t(t>0); t=real(t(imag(t)==0));\n",
    "Agexact=t; AgClsexact=AgT-Ag; Clexact=ClT-AgClsexact;\n",
    "end\n"
   ]
  },
  {
   "cell_type": "code",
   "execution_count": 5,
   "id": "359c1372-8aba-4a4c-95fd-d6f70b1a9252",
   "metadata": {
    "tags": []
   },
   "outputs": [
    {
     "ename": "Execution exception",
     "evalue": "'Ag' undefined near line 1, column 12",
     "output_type": "error",
     "traceback": [
      "Execution exception: 'Ag' undefined near line 1, column 12",
      ""
     ]
    },
    {
     "ename": "Execution exception",
     "evalue": "'Cl' undefined near line 1, column 12",
     "output_type": "error",
     "traceback": [
      "Execution exception: 'Cl' undefined near line 1, column 12",
      ""
     ]
    },
    {
     "ename": "Execution exception",
     "evalue": "'AgCls' undefined near line 1, column 14",
     "output_type": "error",
     "traceback": [
      "Execution exception: 'AgCls' undefined near line 1, column 14",
      ""
     ]
    },
    {
     "ename": "Execution exception",
     "evalue": "'Agmasserror' undefined near line 1, column 21",
     "output_type": "error",
     "traceback": [
      "Execution exception: 'Agmasserror' undefined near line 1, column 21",
      ""
     ]
    },
    {
     "ename": "Execution exception",
     "evalue": "'Clmasserror' undefined near line 1, column 21",
     "output_type": "error",
     "traceback": [
      "Execution exception: 'Clmasserror' undefined near line 1, column 21",
      ""
     ]
    },
    {
     "data": {
      "text/html": [
       "<table><tr><th><i>timecompare<i></th><th>1</th><th>2</th></tr><tr><th>1</th><td>0.03917</td><td>0.0241768</td></tr></table>"
      ],
      "text/plain": [
       "timecompare =    3.9170e-02   2.4177e-02\n"
      ]
     },
     "metadata": {},
     "output_type": "display_data"
    }
   ],
   "source": [
    "% compare models\n",
    "\n",
    "Agcompare=[Ag AgPHREEQC Agexact]\n",
    "Clcompare=[Cl ClPHREEQC Clexact]\n",
    "AgClcompare=[AgCls AgClsPHREEQC AgClsexact]\n",
    "Agmasserrorcompare=[Agmasserror AgmasserrorPHREEQC]\n",
    "Clmasserrorcompare=[Clmasserror ClmasserrorPHREEQC]\n",
    "timecompare=[tableautime PHREEQCtime]"
   ]
  },
  {
   "cell_type": "code",
   "execution_count": null,
   "id": "1df63232-f994-46e6-9b78-1943bbe9f828",
   "metadata": {},
   "outputs": [],
   "source": []
  }
 ],
 "metadata": {
  "kernelspec": {
   "display_name": "Octave (xoctave)",
   "language": "Octave",
   "name": "xoctave"
  },
  "language_info": {
   "codemirror_mode": "octave",
   "file_extension": ".m",
   "mimetype": "text/x-octave",
   "name": "Octave",
   "nbconvert_exporter": "",
   "pygments_lexer": "octave",
   "version": "7.3.0"
  }
 },
 "nbformat": 4,
 "nbformat_minor": 5
}
