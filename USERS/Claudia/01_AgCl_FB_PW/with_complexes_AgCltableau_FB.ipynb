{
 "cells": [
  {
   "cell_type": "code",
   "execution_count": 7,
   "id": "f8e4458a-5d65-4d87-b041-fb8dfacaacc5",
   "metadata": {
    "tags": []
   },
   "outputs": [],
   "source": [
    "% MODEL USING FB\n",
    "% Model speciation (Ag-Cl) with complexes\n",
    "\n",
    "% Concentrations\n",
    "AgT = 1e-4;\n",
    "ClT = 1e-5;\n",
    "pH  = 7;\n",
    "\n",
    "% Total-concentration vector\n",
    "TOTALS = [AgT, ClT];\n",
    "% To avoid exact zeros\n",
    "TOTALS(TOTALS == 0) = 1e-16;\n",
    "\n",
    "% Set pe (e.g., pe = 20.75 – pH)\n",
    "pe = 20.75 - pH;"
   ]
  },
  {
   "cell_type": "code",
   "execution_count": 8,
   "id": "8e4c541e-bc61-47be-9b7e-b7740c8ffeb4",
   "metadata": {
    "tags": []
   },
   "outputs": [],
   "source": [
    "% Run solver and time it\n",
    "tic;\n",
    "[Ag, Cl_, AgCls, MASSERR] = complex_AgClTableau_FB(pH, pe, TOTALS);\n",
    "tableautime = toc;"
   ]
  },
  {
   "cell_type": "code",
   "execution_count": 9,
   "id": "7941a397-0cda-4d2d-9154-15251264776a",
   "metadata": {
    "tags": []
   },
   "outputs": [
    {
     "name": "stdout",
     "output_type": "stream",
     "text": [
      "\n",
      "*** Results from AgCltableau ***\n",
      "pH            = 7.000\n",
      "pe            = 13.750\n",
      "Ag (aq)       = 9.23113e-05 M\n",
      "Cl (aq)       = 2.31133e-06 M\n",
      "AgCl(s)       = 7.68867e-06 M\n",
      "Mass error Ag = -1.355e-20\n",
      "Mass error Cl = 0.000e+00\n",
      "CPU time (s)  = 0.0056\n"
     ]
    }
   ],
   "source": [
    "% Retrieve mass-balance errors\n",
    "Agmasserror = MASSERR(1);\n",
    "Clmasserror = MASSERR(2);\n",
    "\n",
    "% Print results\n",
    "fprintf('\\n*** Results from AgCltableau ***\\n');\n",
    "fprintf('pH            = %.3f\\n', pH);\n",
    "fprintf('pe            = %.3f\\n', pe);\n",
    "fprintf('Ag (aq)       = %.6g M\\n', Ag);\n",
    "fprintf('Cl (aq)       = %.6g M\\n', Cl_);\n",
    "fprintf('AgCl(s)       = %.6g M\\n', AgCls);\n",
    "fprintf('Mass error Ag = %.3e\\n', Agmasserror);\n",
    "fprintf('Mass error Cl = %.3e\\n', Clmasserror);\n",
    "fprintf('CPU time (s)  = %.4f\\n', tableautime);"
   ]
  },
  {
   "cell_type": "code",
   "execution_count": 10,
   "id": "5702beef-ca01-4287-89c0-da31a4b3e802",
   "metadata": {
    "tags": []
   },
   "outputs": [
    {
     "name": "stdout",
     "output_type": "stream",
     "text": [
      "\n",
      "=== AgCltableau_FB executed 50 times ===\n",
      "Last run:\n",
      "  [Ag(aq)]    = 9.19549e-05 M\n",
      "  [Cl(aq)]    = 1.9549e-06 M\n",
      "  [AgCl(s)]   = 8.0451e-06 M\n",
      "  Error mass Ag = 6.776e-20\n",
      "  Error mass Cl = -1.694e-21\n",
      "-----------------------------------------\n",
      "Mean time (ms) = 4.514351\n",
      "Standard deviation (ms)  = 0.493945\n",
      "=========================================\n"
     ]
    },
    {
     "name": "stderr",
     "output_type": "stream",
     "text": [
      "ERROR: received unknown message\n",
      "Message type: usage_request\n",
      "ERROR: received unknown message\n",
      "Message type: usage_request\n",
      "ERROR: received unknown message\n",
      "Message type: usage_request\n",
      "ERROR: received unknown message\n",
      "Message type: usage_request\n"
     ]
    }
   ],
   "source": [
    "%% Repeat AgCltableau_FB 50 times to measure times\n",
    "\n",
    "nRuns = 50;\n",
    "times = zeros(nRuns,1);\n",
    "\n",
    "% Variables where we will save the solution of the last run\n",
    "Ag_last    = 0;\n",
    "Cl_last    = 0;\n",
    "AgCls_last = 0;\n",
    "massErr_last = [0, 0];\n",
    "\n",
    "for i = 1:nRuns\n",
    "    tStart = tic;\n",
    "    [Ag_tmp, Cl_tmp, AgCls_tmp, MASSERR_tmp] = simplest_AgCltableau_FB(pH, pe, TOTALS);\n",
    "    times(i) = toc(tStart);\n",
    "\n",
    "    Ag_last     = Ag_tmp;\n",
    "    Cl_last     = Cl_tmp;\n",
    "    AgCls_last  = AgCls_tmp;\n",
    "    massErr_last= MASSERR_tmp;\n",
    "end\n",
    "\n",
    "meanTime = mean(times);\n",
    "stdTime  = std(times);\n",
    "\n",
    "% Mass errors from the last run\n",
    "Agmasserror_last = massErr_last(1);\n",
    "Clmasserror_last = massErr_last(2);\n",
    "\n",
    "fprintf('\\n=== AgCltableau_FB executed %d times ===\\n', nRuns);\n",
    "fprintf('Last run:\\n');\n",
    "fprintf('  [Ag(aq)]    = %.6g M\\n', Ag_last);\n",
    "fprintf('  [Cl(aq)]    = %.6g M\\n', Cl_last);\n",
    "fprintf('  [AgCl(s)]   = %.6g M\\n', AgCls_last);\n",
    "fprintf('  Error mass Ag = %.3e\\n', Agmasserror_last);\n",
    "fprintf('  Error mass Cl = %.3e\\n', Clmasserror_last);\n",
    "fprintf('-----------------------------------------\\n');\n",
    "fprintf('Mean time (ms) = %.6f\\n', meanTime*1e3);\n",
    "fprintf('Standard deviation (ms)  = %.6f\\n', stdTime*1e3);\n",
    "fprintf('=========================================\\n');\n"
   ]
  },
  {
   "cell_type": "code",
   "execution_count": null,
   "id": "770d7ae2-a44e-4c68-91d9-b3ab33a15e47",
   "metadata": {},
   "outputs": [],
   "source": []
  }
 ],
 "metadata": {
  "kernelspec": {
   "display_name": "Octave (xoctave)",
   "language": "Octave",
   "name": "xoctave"
  },
  "language_info": {
   "codemirror_mode": "octave",
   "file_extension": ".m",
   "mimetype": "text/x-octave",
   "name": "Octave",
   "nbconvert_exporter": "",
   "pygments_lexer": "octave",
   "version": "7.3.0"
  }
 },
 "nbformat": 4,
 "nbformat_minor": 5
}
