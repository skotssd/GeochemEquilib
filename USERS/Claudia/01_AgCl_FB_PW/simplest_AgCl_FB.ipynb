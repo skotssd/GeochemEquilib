{
 "cells": [
  {
   "cell_type": "code",
   "execution_count": 47,
   "id": "485a1557-853e-4537-b3a7-6a66ee18041c",
   "metadata": {
    "tags": []
   },
   "outputs": [],
   "source": [
    "% MODEL USING FB\n",
    "% SIMPLEST model speciation (Ag-Cl)\n",
    "\n",
    "% Concentrations\n",
    "AgT = 1e-4;\n",
    "ClT = 1e-4;\n",
    "pH  = 7;\n",
    "\n",
    "% Total-concentration vector\n",
    "TOTALS = [AgT, ClT];\n",
    "% To avoid exact zeros\n",
    "TOTALS(TOTALS == 0) = 1e-16;\n",
    "\n",
    "% Set pe (e.g., pe = 20.75 – pH)\n",
    "pe = 20.75 - pH;"
   ]
  },
  {
   "cell_type": "code",
   "execution_count": 48,
   "id": "9b27f5ff-acd8-47da-ad5a-b1b2bcaa5261",
   "metadata": {
    "tags": []
   },
   "outputs": [],
   "source": [
    "% Run solver and time it\n",
    "tic;\n",
    "[Ag, Cl_, AgCls, MASSERR] = simplest_AgCltableau_FB(pH, pe, TOTALS);\n",
    "tableautime = toc;"
   ]
  },
  {
   "cell_type": "code",
   "execution_count": 49,
   "id": "372d28af-f131-4c20-b6cb-167775aa4b38",
   "metadata": {
    "tags": []
   },
   "outputs": [
    {
     "name": "stdout",
     "output_type": "stream",
     "text": [
      "\n",
      "*** Results from AgCltableau ***\n",
      "pH            = 7.000\n",
      "pe            = 13.750\n",
      "Ag (aq)       = 1.34076e-05 M\n",
      "Cl (aq)       = 1.34076e-05 M\n",
      "AgCl(s)       = 8.65924e-05 M\n",
      "Mass error Ag = 0.000e+00\n",
      "Mass error Cl = 0.000e+00\n",
      "CPU time (s)  = 0.0067\n"
     ]
    }
   ],
   "source": [
    "% Retrieve mass-balance errors\n",
    "Agmasserror = MASSERR(1);\n",
    "Clmasserror = MASSERR(2);\n",
    "\n",
    "% Print results\n",
    "fprintf('\\n*** Results from AgCltableau ***\\n');\n",
    "fprintf('pH            = %.3f\\n', pH);\n",
    "fprintf('pe            = %.3f\\n', pe);\n",
    "fprintf('Ag (aq)       = %.6g M\\n', Ag);\n",
    "fprintf('Cl (aq)       = %.6g M\\n', Cl_);\n",
    "fprintf('AgCl(s)       = %.6g M\\n', AgCls);\n",
    "fprintf('Mass error Ag = %.3e\\n', Agmasserror);\n",
    "fprintf('Mass error Cl = %.3e\\n', Clmasserror);\n",
    "fprintf('CPU time (s)  = %.4f\\n', tableautime);"
   ]
  },
  {
   "cell_type": "code",
   "execution_count": 50,
   "id": "86d1d602-b981-4b97-a12a-a5e4207affbc",
   "metadata": {
    "tags": []
   },
   "outputs": [
    {
     "data": {
      "text/plain": [
       "ans = 01\n"
      ]
     },
     "metadata": {},
     "output_type": "display_data"
    },
    {
     "data": {
      "text/plain": [
       "ans = 0.00000000000000000e+00\n"
      ]
     },
     "metadata": {},
     "output_type": "display_data"
    },
    {
     "data": {
      "text/plain": [
       "Agmasserror = 0000000000000000\n"
      ]
     },
     "metadata": {},
     "output_type": "display_data"
    },
    {
     "data": {
      "text/plain": [
       "ans = 01\n"
      ]
     },
     "metadata": {},
     "output_type": "display_data"
    },
    {
     "data": {
      "text/plain": [
       "ans = 0.00000000000000000e+00\n"
      ]
     },
     "metadata": {},
     "output_type": "display_data"
    },
    {
     "data": {
      "text/plain": [
       "Clmasserror = 0000000000000000\n"
      ]
     },
     "metadata": {},
     "output_type": "display_data"
    }
   ],
   "source": [
    "Agmasserror == 0              % returns true if it is exactly 0\n",
    "sprintf('%.17e', Agmasserror) % print all digits\n",
    "format hex; Agmasserror       % change the display to IEEE-754 hexadecimal\n",
    "\n",
    "Clmasserror == 0              % returns true if it is exactly 0\n",
    "sprintf('%.17e', Clmasserror) % print all digits\n",
    "format hex; Clmasserror       % change the display to IEEE-754 hexadecimal"
   ]
  },
  {
   "cell_type": "code",
   "execution_count": 51,
   "id": "b6abfba7-4229-46c5-b2ed-5afd44e13b3b",
   "metadata": {},
   "outputs": [
    {
     "name": "stdout",
     "output_type": "stream",
     "text": [
      "\n",
      "=== AgCltableau_FB ejecutado 50 veces ===\n",
      "Última corrida:\n",
      "  [Ag(aq)]    = 1.34076e-05 M\n",
      "  [Cl(aq)]    = 1.34076e-05 M\n",
      "  [AgCl(s)]   = 8.65924e-05 M\n",
      "  Error masa Ag = 0.000e+00\n",
      "  Error masa Cl = 0.000e+00\n",
      "-----------------------------------------\n",
      "Tiempo promedio (ms) = 5.194192\n",
      "Desv. estándar (ms)  = 0.413912\n",
      "=========================================\n"
     ]
    }
   ],
   "source": [
    "%% Repeat AgCltableau_FB 50 times to measure times\n",
    "\n",
    "nRuns = 50;\n",
    "times = zeros(nRuns,1);\n",
    "\n",
    "% Variables where we will save the solution of the last run\n",
    "Ag_last    = 0;\n",
    "Cl_last    = 0;\n",
    "AgCls_last = 0;\n",
    "massErr_last = [0, 0];\n",
    "\n",
    "for i = 1:nRuns\n",
    "    tStart = tic;\n",
    "    [Ag_tmp, Cl_tmp, AgCls_tmp, MASSERR_tmp] = simplest_AgCltableau_FB(pH, pe, TOTALS);\n",
    "    times(i) = toc(tStart);\n",
    "\n",
    "    Ag_last     = Ag_tmp;\n",
    "    Cl_last     = Cl_tmp;\n",
    "    AgCls_last  = AgCls_tmp;\n",
    "    massErr_last= MASSERR_tmp;\n",
    "end\n",
    "\n",
    "meanTime = mean(times);\n",
    "stdTime  = std(times);\n",
    "\n",
    "% Mass errors from the last run\n",
    "Agmasserror_last = massErr_last(1);\n",
    "Clmasserror_last = massErr_last(2);\n",
    "\n",
    "fprintf('\\n=== AgCltableau_FB executed %d times ===\\n', nRuns);\n",
    "fprintf('Last run:\\n');\n",
    "fprintf('  [Ag(aq)]    = %.6g M\\n', Ag_last);\n",
    "fprintf('  [Cl(aq)]    = %.6g M\\n', Cl_last);\n",
    "fprintf('  [AgCl(s)]   = %.6g M\\n', AgCls_last);\n",
    "fprintf('  Error mass Ag = %.3e\\n', Agmasserror_last);\n",
    "fprintf('  Error mass Cl = %.3e\\n', Clmasserror_last);\n",
    "fprintf('-----------------------------------------\\n');\n",
    "fprintf('Mean time (ms) = %.6f\\n', meanTime*1e3);\n",
    "fprintf('Standard deviation (ms)  = %.6f\\n', stdTime*1e3);\n",
    "fprintf('=========================================\\n');\n"
   ]
  },
  {
   "cell_type": "code",
   "execution_count": null,
   "id": "a9330d62-cd2a-4bc3-966b-52c2089ed40c",
   "metadata": {},
   "outputs": [],
   "source": []
  },
  {
   "cell_type": "code",
   "execution_count": null,
   "id": "ba19ee9e-e0a6-4b32-8deb-46c40bbd154b",
   "metadata": {},
   "outputs": [],
   "source": []
  }
 ],
 "metadata": {
  "kernelspec": {
   "display_name": "Octave (xoctave)",
   "language": "Octave",
   "name": "xoctave"
  },
  "language_info": {
   "codemirror_mode": "octave",
   "file_extension": ".m",
   "mimetype": "text/x-octave",
   "name": "Octave",
   "nbconvert_exporter": "",
   "pygments_lexer": "octave",
   "version": "7.3.0"
  }
 },
 "nbformat": 4,
 "nbformat_minor": 5
}
