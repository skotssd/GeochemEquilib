{
 "cells": [
  {
   "cell_type": "code",
   "execution_count": 7,
   "id": "73cdd56e-e333-4074-aecd-356dd23200f8",
   "metadata": {},
   "outputs": [],
   "source": [
    "% MODEL USING PW\n",
    "\n",
    "% Format \n",
    "format long e;\n",
    "\n",
    "% Define flags and variables\n",
    "USE_LOG          = true;    % or false\n",
    "USE_ANALYTIC_JAC = true;    % or true\n",
    "pH               = 7;\n",
    "pe               = 20.75 - pH;\n",
    "AgT              = 1e-4;\n",
    "ClT              = 1e-5;\n",
    "TOTALS           = [AgT; ClT];"
   ]
  },
  {
   "cell_type": "code",
   "execution_count": 8,
   "id": "d271adf7-eb97-4d16-ac66-ab95f57c9edd",
   "metadata": {},
   "outputs": [],
   "source": [
    "% Repeat the function 50 times\n",
    "nRuns = 50;\n",
    "times = zeros(nRuns, 1);\n",
    "\n",
    "% Variables where will saved the results of the last run\n",
    "Ag_last    = 0;\n",
    "Cl_last    = 0;\n",
    "xcp_last   = 0;\n",
    "errAg_last = 0;\n",
    "errCl_last = 0;\n",
    "iter_last  = 0;\n",
    "repMethod  = '';\n",
    "repJac     = '';\n",
    "\n",
    "for i = 1:nRuns\n",
    "    tStart = tic;\n",
    "    [Ag_diss, Cl_diss, x_solid, massErrAg, massErrCl, iterUsed, timeMs, methodStr, jacStr] = ...\n",
    "       complex_AgCltableau_PW(USE_LOG, USE_ANALYTIC_JAC, pH, pe, TOTALS);\n",
    "    times(i) = toc(tStart)*1e3;   % in ms \n",
    "\n",
    "    % Save the current run as \"last\"\n",
    "    Ag_last    = Ag_diss;\n",
    "    Cl_last    = Cl_diss;\n",
    "    xcp_last   = x_solid;\n",
    "    errAg_last = massErrAg;\n",
    "    errCl_last = massErrCl;\n",
    "    iter_last  = iterUsed;\n",
    "    repMethod  = methodStr;\n",
    "    repJac     = jacStr;\n",
    "end"
   ]
  },
  {
   "cell_type": "code",
   "execution_count": 9,
   "id": "27c0b673-57b6-4893-a66b-0b21f9149364",
   "metadata": {
    "tags": []
   },
   "outputs": [
    {
     "name": "stdout",
     "output_type": "stream",
     "text": [
      "\n",
      "=== AgCltableau_PW ejecutado 50 veces ===\n",
      "Última corrida:\n",
      "  [Ag(aq)]    = 9.231133e-05 M\n",
      "  [Cl(aq)]    = 2.311328e-06 M\n",
      "  [AgCl(s)]   = 7.688672e-06 M\n",
      "  Error masa Ag = -1.355e-20\n",
      "  Error masa Cl = 1.694e-21\n",
      "  Iteraciones   = 6\n",
      "  Representación: log10\n",
      "  Jacobiano     : analytic\n",
      "-----------------------------------------\n",
      "Tiempo promedio (ms) = 2.278733\n",
      "Desv. estándar (ms)  = 0.456752\n",
      "=========================================\n"
     ]
    }
   ],
   "source": [
    "% Statistics\n",
    "meanTime = mean(times);\n",
    "stdTime  = std(times);\n",
    "\n",
    "% Final results to display\n",
    "fprintf('\\n=== AgCltableau_PW executed %d times ===\\n', nRuns);\n",
    "fprintf('Last run:\\n');\n",
    "fprintf('  [Ag(aq)]    = %.6e M\\n', Ag_last);\n",
    "fprintf('  [Cl(aq)]    = %.6e M\\n', Cl_last);\n",
    "fprintf('  [AgCl(s)]   = %.6e M\\n', xcp_last);\n",
    "fprintf('  Mass Error Ag = %.3e\\n', errAg_last);\n",
    "fprintf('  Mass Error Cl = %.3e\\n', errCl_last);\n",
    "fprintf('  Iterations   = %d\\n', iter_last);\n",
    "fprintf('  Representation: %s\\n', repMethod);\n",
    "fprintf('  Jacobian     : %s\\n', repJac);\n",
    "fprintf('-----------------------------------------\\n');\n",
    "fprintf('Mean time (ms) = %.6f\\n', meanTime);\n",
    "fprintf('Std (ms)  = %.6f\\n', stdTime);\n",
    "fprintf('=========================================\\n');"
   ]
  },
  {
   "cell_type": "code",
   "execution_count": null,
   "id": "5ce6a247-437e-41a8-bc59-9ec97f69cde1",
   "metadata": {},
   "outputs": [],
   "source": []
  },
  {
   "cell_type": "code",
   "execution_count": null,
   "id": "762af17e-bfdb-4f1c-b1d1-6df9b0a10fcd",
   "metadata": {},
   "outputs": [],
   "source": []
  }
 ],
 "metadata": {
  "kernelspec": {
   "display_name": "Octave (xoctave)",
   "language": "Octave",
   "name": "xoctave"
  },
  "language_info": {
   "codemirror_mode": "octave",
   "file_extension": ".m",
   "mimetype": "text/x-octave",
   "name": "Octave",
   "nbconvert_exporter": "",
   "pygments_lexer": "octave",
   "version": "7.3.0"
  }
 },
 "nbformat": 4,
 "nbformat_minor": 5
}
