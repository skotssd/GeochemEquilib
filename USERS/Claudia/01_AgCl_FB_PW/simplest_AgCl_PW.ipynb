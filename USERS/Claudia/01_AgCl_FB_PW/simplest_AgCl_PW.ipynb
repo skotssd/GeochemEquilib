{
 "cells": [
  {
   "cell_type": "code",
   "execution_count": 27,
   "id": "5a703eda-5246-49a1-b674-114d053142f6",
   "metadata": {
    "tags": []
   },
   "outputs": [],
   "source": [
    "% Ajustes iniciales\n",
    "format long e;\n",
    "\n",
    "% Definir flags y condiciones\n",
    "USE_LOG          = false;    % o false\n",
    "USE_ANALYTIC_JAC = false;   % o true\n",
    "pH               = 7;\n",
    "pe               = 20.75 - pH;\n",
    "AgT              = 1e-4;\n",
    "ClT              = 1e-4;\n",
    "TOTALS           = [AgT; ClT];\n"
   ]
  },
  {
   "cell_type": "code",
   "execution_count": 28,
   "id": "4b0a77a0-d8d1-48b7-b2f1-5ef97222a085",
   "metadata": {
    "tags": []
   },
   "outputs": [],
   "source": [
    "% Repetir la función 50 veces\n",
    "nRuns = 50;\n",
    "times = zeros(nRuns, 1);\n",
    "\n",
    "% Variables donde guardaremos el resultado de la última corrida\n",
    "Ag_last    = 0;\n",
    "Cl_last    = 0;\n",
    "xcp_last   = 0;\n",
    "errAg_last = 0;\n",
    "errCl_last = 0;\n",
    "iter_last  = 0;\n",
    "repMethod  = '';\n",
    "repJac     = '';\n",
    "\n",
    "for i = 1:nRuns\n",
    "    tStart = tic;\n",
    "    [Ag_diss, Cl_diss, x_solid, massErrAg, massErrCl, iterUsed, timeMs, methodStr, jacStr] = ...\n",
    "       simplest_AgCltableau_PW(USE_LOG, USE_ANALYTIC_JAC, pH, pe, TOTALS);\n",
    "    times(i) = toc(tStart)*1e3;   % medir en ms si deseas, o en s\n",
    "\n",
    "    % Guardar la corrida actual como \"última\"\n",
    "    Ag_last    = Ag_diss;\n",
    "    Cl_last    = Cl_diss;\n",
    "    xcp_last   = x_solid;\n",
    "    errAg_last = massErrAg;\n",
    "    errCl_last = massErrCl;\n",
    "    iter_last  = iterUsed;\n",
    "    repMethod  = methodStr;\n",
    "    repJac     = jacStr;\n",
    "end"
   ]
  },
  {
   "cell_type": "code",
   "execution_count": 29,
   "id": "1c892e33-38dc-4388-bd3e-ed1dda508ad5",
   "metadata": {
    "tags": []
   },
   "outputs": [
    {
     "name": "stdout",
     "output_type": "stream",
     "text": [
      "\n",
      "=== AgCltableau_PW ejecutado 50 veces ===\n",
      "Última corrida:\n",
      "  [Ag(aq)]    = 1.340757e-05 M\n",
      "  [Cl(aq)]    = 1.340757e-05 M\n",
      "  [AgCl(s)]   = 8.659243e-05 M\n",
      "  Error masa Ag = 0.000e+00\n",
      "  Error masa Cl = 0.000e+00\n",
      "  Iteraciones   = 7\n",
      "  Representación: lineal\n",
      "  Jacobiano     : numérico\n",
      "-----------------------------------------\n",
      "Tiempo promedio (ms) = 8.548284\n",
      "Desv. estándar (ms)  = 1.464852\n",
      "=========================================\n"
     ]
    }
   ],
   "source": [
    "% Cálculo de estadísticos\n",
    "meanTime = mean(times);\n",
    "stdTime  = std(times);\n",
    "\n",
    "% Impresión final\n",
    "fprintf('\\n=== AgCltableau_PW ejecutado %d veces ===\\n', nRuns);\n",
    "fprintf('Última corrida:\\n');\n",
    "fprintf('  [Ag(aq)]    = %.6e M\\n', Ag_last);\n",
    "fprintf('  [Cl(aq)]    = %.6e M\\n', Cl_last);\n",
    "fprintf('  [AgCl(s)]   = %.6e M\\n', xcp_last);\n",
    "fprintf('  Error masa Ag = %.3e\\n', errAg_last);\n",
    "fprintf('  Error masa Cl = %.3e\\n', errCl_last);\n",
    "fprintf('  Iteraciones   = %d\\n', iter_last);\n",
    "fprintf('  Representación: %s\\n', repMethod);\n",
    "fprintf('  Jacobiano     : %s\\n', repJac);\n",
    "fprintf('-----------------------------------------\\n');\n",
    "fprintf('Tiempo promedio (ms) = %.6f\\n', meanTime);\n",
    "fprintf('Desv. estándar (ms)  = %.6f\\n', stdTime);\n",
    "fprintf('=========================================\\n');"
   ]
  },
  {
   "cell_type": "code",
   "execution_count": null,
   "id": "44cef875-fa4a-4340-9ed7-16565b40a17c",
   "metadata": {},
   "outputs": [],
   "source": []
  }
 ],
 "metadata": {
  "kernelspec": {
   "display_name": "Octave (xoctave)",
   "language": "Octave",
   "name": "xoctave"
  },
  "language_info": {
   "codemirror_mode": "octave",
   "file_extension": ".m",
   "mimetype": "text/x-octave",
   "name": "Octave",
   "nbconvert_exporter": "",
   "pygments_lexer": "octave",
   "version": "7.3.0"
  }
 },
 "nbformat": 4,
 "nbformat_minor": 5
}
