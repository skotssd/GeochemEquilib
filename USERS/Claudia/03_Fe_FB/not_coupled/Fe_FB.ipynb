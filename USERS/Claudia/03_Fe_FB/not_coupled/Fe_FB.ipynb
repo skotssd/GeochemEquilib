{
 "cells": [
  {
   "cell_type": "code",
   "execution_count": 133,
   "id": "86cf36b7-ca8a-4d24-a22a-abcc8fac3284",
   "metadata": {
    "tags": []
   },
   "outputs": [],
   "source": [
    "%% =====================================================================\n",
    "%% FB speciation – main driver\n",
    "%% =====================================================================\n",
    "%% Main driver for FB speciation in Octave\n",
    "clear; clc; close all;\n",
    "\n",
    "% pH ranges to evaluate\n",
    "pHvals = 2.0 : 0.1 : 12;  \n",
    "\n",
    "% Totals (mol/L)\n",
    "FeT = 1e-5;\n",
    "PT  = 1e-5;\n",
    "NaT = 3 * PT;\n",
    "ClT = 3 * FeT;\n",
    "peIN = 20.75;\n",
    "\n",
    "% Surface parameters\n",
    "HFOsi = 1.5;\n",
    "HFOwi = 0.6;\n",
    "ASFs  = 0.6;\n",
    "ASFw  = 0.6;"
   ]
  },
  {
   "cell_type": "code",
   "execution_count": 134,
   "id": "4cfbb5ef-9a84-4c3e-b0c9-a039ce492165",
   "metadata": {
    "tags": []
   },
   "outputs": [
    {
     "ename": "Execution exception",
     "evalue": "code1_FB_main_debugged: function called with too many inputs",
     "output_type": "error",
     "traceback": [
      "Execution exception: code1_FB_main_debugged: function called with too many inputs",
      "error: called from\n    code1_FB_main_debugged\n"
     ]
    },
    {
     "name": "stdout",
     "output_type": "stream",
     "text": [
      "Total time (wall-clock): 0.00049806 s\n",
      "CPU time: 0.003 s\n"
     ]
    }
   ],
   "source": [
    "tic();\n",
    "t0 = cputime();\n",
    "\n",
    "% Call to the main function\n",
    "results = code1_FB_main_debugged(pHvals, FeT, PT, NaT, ClT, ...\n",
    "                        HFOsi, HFOwi, ASFs, ASFw,peIN);\n",
    "\n",
    "t_wall = toc();\n",
    "disp([\"Total time (wall-clock): \", num2str(t_wall), \" s\"]);\n",
    "t_cpu = cputime() - t0;\n",
    "disp([\"CPU time: \", num2str(t_cpu), \" s\"]);"
   ]
  },
  {
   "cell_type": "code",
   "execution_count": 135,
   "id": "add11434-3ee6-47c8-ba40-cd50088b65c6",
   "metadata": {
    "tags": []
   },
   "outputs": [
    {
     "ename": "Execution exception",
     "evalue": "'results' undefined near line 2, column 18",
     "output_type": "error",
     "traceback": [
      "Execution exception: 'results' undefined near line 2, column 18",
      ""
     ]
    },
    {
     "name": "stdout",
     "output_type": "stream",
     "text": [
      "Data saved in 'FB_runs.mat' (format -v7).\n"
     ]
    }
   ],
   "source": [
    "% Structure to save\n",
    "myData.results = results;\n",
    "myData.pHvals  = pHvals;\n",
    "myData.FeT     = FeT;\n",
    "myData.PT      = PT;\n",
    "myData.NaT     = NaT;\n",
    "myData.ClT     = ClT;\n",
    "myData.HFOsi   = HFOsi;\n",
    "myData.HFOwi   = HFOwi;\n",
    "myData.ASFs    = ASFs;\n",
    "myData.ASFw    = ASFw;\n",
    "myData.t_wall  = t_wall;\n",
    "myData.t_cpu   = t_cpu;\n",
    "\n",
    "% Save as .mat\n",
    "save('-v7', '-mat', 'FB_runs.mat', 'myData');\n",
    "disp(\"Data saved in 'FB_runs.mat' (format -v7).\");\n"
   ]
  },
  {
   "cell_type": "code",
   "execution_count": null,
   "id": "6f93331d-2762-4cc7-b5e7-341f4ec5189f",
   "metadata": {},
   "outputs": [],
   "source": []
  }
 ],
 "metadata": {
  "kernelspec": {
   "display_name": "Octave (xoctave)",
   "language": "Octave",
   "name": "xoctave"
  },
  "language_info": {
   "codemirror_mode": "octave",
   "file_extension": ".m",
   "mimetype": "text/x-octave",
   "name": "Octave",
   "nbconvert_exporter": "",
   "pygments_lexer": "octave",
   "version": "7.3.0"
  }
 },
 "nbformat": 4,
 "nbformat_minor": 5
}
