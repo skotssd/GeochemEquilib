{
 "cells": [
  {
   "cell_type": "code",
   "execution_count": 44,
   "id": "2b754f91-51ca-46d6-8847-4c1d9556a92a",
   "metadata": {},
   "outputs": [],
   "source": [
    "% set graphics toolkit\n",
    "graphics_toolkit (\"plotly\"); "
   ]
  },
  {
   "cell_type": "markdown",
   "id": "a0adb9e5-2495-4e62-9db3-83f1a11cc93a",
   "metadata": {},
   "source": [
    "# pH verus logCa for portlandite and calcite\n",
    "\n",
    "# CALCITE\n",
    "\n",
    "$\\mathrm{[Ca^{2+}][CO_3^{2-}]}=K_{sp}$\n",
    "\n",
    "sub in open expression for carbonate\n",
    "\n",
    "$\\dfrac{[\\mathrm{Ca}^{2+}]K_HP_{CO2}K_{a1}K_{a2}}{[\\mathrm{H^+}]^2K_{sp}}=1$\n",
    "\n",
    "take log of both sides and rearrange as y=mx+b\n",
    "\n",
    "$logCa = -2pH+\\log{\\left(\\dfrac{K_{sp}}{K_HP_{CO2}K_{a1}K_{a2}}\\right)}$\n",
    "\n",
    "# PORTLANDITE\n",
    "\n",
    "$\\mathrm{[Ca^{2+}][CO_3^{2-}]}=K_{sp}$\n",
    "\n",
    "$logCa = -2pH+2\\log{\\left(\\dfrac{K_{sp}}{K_w}\\right)}$\n"
   ]
  },
  {
   "cell_type": "markdown",
   "id": "f774114a-1c18-4c7f-8936-e58dc4d98793",
   "metadata": {},
   "source": [
    "# make logCa versus pH plot\n",
    "\n",
    "make the graph prepared at https://lawr.ucdavis.edu/classes/ssc102/Section5.pdf on page 5-11.\n",
    "\n",
    "Here is a [link](https://lawr.ucdavis.edu/classes/ssc102/Section5.pdf) "
   ]
  },
  {
   "cell_type": "code",
   "execution_count": 45,
   "id": "58cb2c8e-e3d7-4427-8888-378ce59f8cd1",
   "metadata": {},
   "outputs": [
    {
     "data": {
      "application/vnd.plotly.v1+json": {
       "data": [
        {
         "line": {
          "color": "rgb(0,0,255)",
          "dash": "solid",
          "width": 2
         },
         "marker": {
          "color": "rgb(0,0,255)",
          "line": {
           "color": "rgb(0,0,255)"
          },
          "size": 6,
          "symbol": "none"
         },
         "mode": "lines",
         "name": "calcite normal PCO2",
         "showlegend": true,
         "type": "scatter",
         "visibility": true,
         "x": [
          4,
          5,
          6,
          7,
          8,
          9,
          10,
          11,
          12,
          13,
          14
         ],
         "xaxis": "x",
         "y": [
          5.101478917042256,
          3.1014789170422556,
          1.1014789170422556,
          -0.8985210829577444,
          -2.8985210829577444,
          -4.898521082957744,
          -6.898521082957744,
          -8.898521082957744,
          -10.898521082957744,
          -12.898521082957744,
          -14.898521082957744
         ],
         "yaxis": "y"
        },
        {
         "line": {
          "color": "rgb(255,0,0)",
          "dash": "solid",
          "width": 2
         },
         "marker": {
          "color": "rgb(255,0,0)",
          "line": {
           "color": "rgb(255,0,0)"
          },
          "size": 6,
          "symbol": "none"
         },
         "mode": "lines",
         "name": "portlandite",
         "showlegend": true,
         "type": "scatter",
         "visibility": true,
         "x": [
          4,
          5,
          6,
          7,
          8,
          9,
          10,
          11,
          12,
          13,
          14
         ],
         "xaxis": "x",
         "y": [
          14.809999999999999,
          12.809999999999999,
          10.809999999999999,
          8.809999999999999,
          6.809999999999999,
          4.809999999999999,
          2.8099999999999987,
          0.8099999999999987,
          -1.1900000000000013,
          -3.1900000000000013,
          -5.190000000000001
         ],
         "yaxis": "y"
        },
        {
         "line": {
          "color": "rgb(0,0,255)",
          "dash": "dot",
          "width": 2
         },
         "marker": {
          "color": "rgb(0,0,255)",
          "line": {
           "color": "rgb(0,0,255)"
          },
          "size": 6,
          "symbol": "none"
         },
         "mode": "lines",
         "name": "calcite 1/10 PCO2",
         "showlegend": true,
         "type": "scatter",
         "visibility": true,
         "x": [
          4,
          5,
          6,
          7,
          8,
          9,
          10,
          11,
          12,
          13,
          14
         ],
         "xaxis": "x",
         "y": [
          6.101478917042256,
          4.101478917042256,
          2.1014789170422556,
          0.10147891704225565,
          -1.8985210829577444,
          -3.8985210829577444,
          -5.898521082957744,
          -7.898521082957744,
          -9.898521082957744,
          -11.898521082957744,
          -13.898521082957744
         ],
         "yaxis": "y"
        },
        {
         "line": {
          "color": "rgb(0,0,0)",
          "width": 0.5
         },
         "marker": {
          "color": "rgb(0,0,0)",
          "line": {
           "color": "rgb(0,0,0)"
          },
          "size": 8,
          "symbol": "circle"
         },
         "mode": "markers",
         "name": "data",
         "showlegend": true,
         "type": "scatter",
         "visibility": true,
         "x": [
          12.55,
          12.54,
          12.24,
          12.16,
          12.17,
          12.19,
          12.14,
          12.08,
          12.08,
          12.1,
          12.04,
          12.02,
          12.35,
          12.43,
          12.33,
          12.48,
          12.7,
          12.4,
          12.31,
          12.55,
          12.67,
          12.88
         ],
         "xaxis": "x",
         "y": [
          -1.8239087409443189,
          -1.7695510786217261,
          -1.7695510786217261,
          -1.744727494896694,
          -1.7212463990471711,
          -1.744727494896694,
          -1.8239087409443189,
          -1.7958800173440752,
          -1.9208187539523751,
          -1.958607314841775,
          -2,
          -1.8860566476931633,
          -2.0969100130080562,
          -2.0969100130080562,
          -2.5228787452803374,
          -2.6989700043360187,
          -2.6989700043360187,
          -2.6989700043360187,
          -2.6989700043360187,
          -2.5228787452803374,
          -3,
          -3
         ],
         "yaxis": "y"
        },
        {
         "hoverinfo": "none",
         "line": {
          "color": "rgb(0,0,255)",
          "dash": "solid",
          "width": 2
         },
         "marker": {
          "color": "rgb(0,0,255)",
          "line": {
           "color": "rgb(0,0,255)"
          },
          "size": 6,
          "symbol": "none"
         },
         "mode": "lines",
         "name": "",
         "showlegend": false,
         "type": "scatter",
         "visibility": true,
         "x": [
          3,
          18
         ],
         "xaxis": "x2",
         "y": [
          6.465,
          6.465
         ],
         "yaxis": "y2"
        },
        {
         "hoverinfo": "none",
         "line": {
          "color": "rgb(255,0,0)",
          "dash": "solid",
          "width": 2
         },
         "marker": {
          "color": "rgb(255,0,0)",
          "line": {
           "color": "rgb(255,0,0)"
          },
          "size": 6,
          "symbol": "none"
         },
         "mode": "lines",
         "name": "",
         "showlegend": false,
         "type": "scatter",
         "visibility": true,
         "x": [
          3,
          18
         ],
         "xaxis": "x2",
         "y": [
          17.119600097852917,
          17.119600097852917
         ],
         "yaxis": "y2"
        },
        {
         "hoverinfo": "none",
         "line": {
          "color": "rgb(0,0,255)",
          "dash": "dot",
          "width": 2
         },
         "marker": {
          "color": "rgb(0,0,255)",
          "line": {
           "color": "rgb(0,0,255)"
          },
          "size": 6,
          "symbol": "none"
         },
         "mode": "lines",
         "name": "",
         "showlegend": false,
         "type": "scatter",
         "visibility": true,
         "x": [
          3,
          18
         ],
         "xaxis": "x2",
         "y": [
          27.774200195705834,
          27.774200195705834
         ],
         "yaxis": "y2"
        },
        {
         "hoverinfo": "none",
         "line": {
          "color": "rgb(0,0,0)",
          "width": 0.5
         },
         "marker": {
          "color": "rgb(0,0,0)",
          "line": {
           "color": "rgb(0,0,0)"
          },
          "size": 6,
          "symbol": "none"
         },
         "mode": "none",
         "name": "",
         "showlegend": false,
         "type": "scatter",
         "visibility": true,
         "x": [
          3,
          18
         ],
         "xaxis": "x2",
         "y": [
          38.04792755739031,
          38.04792755739031
         ],
         "yaxis": "y2"
        }
       ],
       "layout": {
        "annotations": [
         {
          "font": {
           "color": "rgb(0,0,0)",
           "size": 9.9
          },
          "showarrow": false,
          "text": "calcite normal PCO2",
          "x": 21,
          "xanchor": "left",
          "xref": "x2",
          "y": 6.465,
          "yanchor": "middle",
          "yref": "y2"
         },
         {
          "font": {
           "color": "rgb(0,0,0)",
           "size": 9.9
          },
          "showarrow": false,
          "text": "portlandite",
          "x": 21,
          "xanchor": "left",
          "xref": "x2",
          "y": 17.119600097852917,
          "yanchor": "middle",
          "yref": "y2"
         },
         {
          "font": {
           "color": "rgb(0,0,0)",
           "size": 9.9
          },
          "showarrow": false,
          "text": "calcite 1/10 PCO2",
          "x": 21,
          "xanchor": "left",
          "xref": "x2",
          "y": 27.774200195705834,
          "yanchor": "middle",
          "yref": "y2"
         },
         {
          "font": {
           "color": "rgb(0,0,0)",
           "size": 9.9
          },
          "showarrow": false,
          "text": "data",
          "x": 21,
          "xanchor": "left",
          "xref": "x2",
          "y": 38.04792755739031,
          "yanchor": "middle",
          "yref": "y2"
         }
        ],
        "height": 420,
        "hovermode": "closest",
        "margin": {
         "b": 0,
         "l": 0,
         "r": 0,
         "t": 0
        },
        "plot_bgcolor": "rgba(0,0,0,0)",
        "showlegend": false,
        "width": 560,
        "xaxis": {
         "anchor": "y",
         "autorange": false,
         "domain": [
          0.13,
          0.7620359276646411
         ],
         "exponentformat": "none",
         "gridcolor": "rgba(38,38,38,0.15)",
         "gridwidth": 2,
         "linecolor": "rgb(38,38,38)",
         "linewidth": 2,
         "mirror": "ticks",
         "range": [
          10,
          14
         ],
         "showgrid": false,
         "showline": true,
         "side": "bottom",
         "spikedash": "solid",
         "spikemode": "across",
         "spikesides": false,
         "spikethickness": 1,
         "tickangle": 0,
         "tickcolor": "rgb(38,38,38)",
         "tickfont": {
          "color": "rgb(38,38,38)",
          "size": 11
         },
         "ticklen": 3,
         "ticks": "inside",
         "ticktext": [
          "10",
          "11",
          "12",
          "13",
          "14"
         ],
         "tickvals": [
          10,
          11,
          12,
          13,
          14
         ],
         "title": {
          "font": {
           "color": "rgb(38,38,38)",
           "size": 12
          },
          "text": "pH"
         },
         "type": "linear",
         "visible": true,
         "zeroline": false
        },
        "xaxis2": {
         "anchor": "y2",
         "autorange": false,
         "domain": [
          0.776101368291963,
          0.9859345593726783
         ],
         "exponentformat": "none",
         "fixedrange": true,
         "gridcolor": "rgba(38,38,38,0.15)",
         "gridwidth": 1,
         "linecolor": "rgb(38,38,38)",
         "linewidth": 1,
         "mirror": true,
         "range": [
          0,
          89.51011062097297
         ],
         "showgrid": false,
         "showline": true,
         "showspikes": false,
         "side": "bottom",
         "spikedash": "solid",
         "spikemode": "across",
         "spikesides": false,
         "spikethickness": 1,
         "tickangle": 0,
         "tickcolor": "rgb(38,38,38)",
         "tickfont": {
          "color": "rgb(38,38,38)",
          "size": 9.9
         },
         "ticklen": 3,
         "ticks": "",
         "ticktext": [],
         "tickvals": [],
         "title": {
          "font": {
           "color": "rgb(0,0,0)",
           "size": 10.89
          },
          "text": ""
         },
         "type": "linear",
         "visible": true,
         "zeroline": false
        },
        "yaxis": {
         "anchor": "x",
         "autorange": false,
         "domain": [
          0.10999999999999999,
          0.9249999999999997
         ],
         "exponentformat": "none",
         "gridcolor": "rgba(38,38,38,0.15)",
         "gridwidth": 2,
         "linecolor": "rgb(38,38,38)",
         "linewidth": 2,
         "mirror": "ticks",
         "range": [
          -15,
          5
         ],
         "showgrid": false,
         "showline": true,
         "side": "left",
         "spikedash": "solid",
         "spikemode": "across",
         "spikesides": false,
         "spikethickness": 1,
         "tickangle": 0,
         "tickcolor": "rgb(38,38,38)",
         "tickfont": {
          "color": "rgb(38,38,38)",
          "size": 11
         },
         "ticklen": 3,
         "ticks": "inside",
         "ticktext": [
          "-15",
          "-10",
          "-5",
          "0",
          "5"
         ],
         "tickvals": [
          -15,
          -10,
          -5,
          0,
          5
         ],
         "title": {
          "font": {
           "color": "rgb(38,38,38)",
           "size": 12
          },
          "text": "log[Ca<sup>2+</sup>]"
         },
         "type": "linear",
         "visible": true,
         "zeroline": false
        },
        "yaxis2": {
         "anchor": "x2",
         "autorange": false,
         "domain": [
          0.4473968203883883,
          0.5876031796116113
         ],
         "exponentformat": "none",
         "fixedrange": true,
         "gridcolor": "rgba(38,38,38,0.15)",
         "gridwidth": 1,
         "linecolor": "rgb(38,38,38)",
         "linewidth": 1,
         "mirror": true,
         "range": [
          44.85665491907478,
          0
         ],
         "showgrid": false,
         "showline": true,
         "showspikes": false,
         "side": "left",
         "spikedash": "solid",
         "spikemode": "across",
         "spikesides": false,
         "spikethickness": 1,
         "tickangle": 0,
         "tickcolor": "rgb(38,38,38)",
         "tickfont": {
          "color": "rgb(38,38,38)",
          "size": 9.9
         },
         "ticklen": 3,
         "ticks": "",
         "ticktext": [],
         "tickvals": [],
         "title": {
          "font": {
           "color": "rgb(0,0,0)",
           "size": 10.89
          },
          "text": ""
         },
         "type": "linear",
         "visible": true,
         "zeroline": false
        }
       }
      },
      "image/png": "[encoded data removed]"
     },
     "metadata": {},
     "output_type": "display_data"
    }
   ],
   "source": [
    "pH=4:1:14; logCa=-8:1:8; KspC=3.4e-9; KspP=10^-5.19; \n",
    "Ka1=10^-6.3; Ka2=10^-10.3; Kw=1e-14; KH=10^-1.47;\n",
    "\n",
    "PCO2normal=10^-3.5; PCO2low=10^-4.5;\n",
    "\n",
    "logCaCnormal=-2*pH+log10(KspC/(KH*PCO2normal*Ka1*Ka2));\n",
    "logCaClow=-2*pH+log10(KspC/(KH*PCO2low*Ka1*Ka2));\n",
    "logCaP=-2*pH-log10(Kw^2/KspP);\n",
    "\n",
    "plot(pH,logCaCnormal,'b-','linewidth',2)\n",
    "set(gca,'linewidth',2,'fontsize',11)\n",
    "xlabel('pH','fontsize',12); ylabel('log[Ca^{2+}]','fontsize',12)\n",
    "hold on\n",
    "plot(pH,logCaP,'r-','linewidth',2)\n",
    "plot(pH,logCaClow,'b:','linewidth',2)\n",
    "axis([10 14 -15 5])\n",
    "\n",
    "% add data from Wenxin file\n",
    "\n",
    "time = [0.03, 1, 22, 29, 46, 53.33, 118, 122.75, 142, 168, 173, 190, 214.75, 287.5, 314.75, 334, 363.33, 384.66, 454, 481, 551.16, 699];  % Time in hours\n",
    "pH_measured = [12.55, 12.54, 12.24, 12.16, 12.17, 12.19, 12.14, 12.08, 12.08, 12.1, 12.04, 12.02, 12.35, 12.43, 12.33, 12.48, 12.7, 12.4, 12.31, 12.55, 12.67, 12.88];  % Measured  pH values\n",
    "Ca_measured = [0.015, 0.017, 0.017, 0.018, 0.019, 0.018, 0.015, 0.016, 0.012, 0.011, 0.010, 0.013, 0.008, 0.008, 0.003, 0.002, 0.002, 0.002, 0.002, 0.003, 0.001, 0.001];  % Measured Ca²⁺ (mol/L)\n",
    "\n",
    "plot(pH_measured,log10(Ca_measured),'ko','markerfacecolor','w','markersize',8)\n",
    "\n",
    "legend('calcite normal PCO2','portlandite','calcite 1/10 PCO2', 'data','location','eastoutside')\n"
   ]
  }
 ],
 "metadata": {
  "kernelspec": {
   "display_name": "Octave (xoctave)",
   "language": "Octave",
   "name": "xoctave"
  },
  "language_info": {
   "codemirror_mode": "octave",
   "file_extension": ".m",
   "mimetype": "text/x-octave",
   "name": "Octave",
   "nbconvert_exporter": "",
   "pygments_lexer": "octave",
   "version": "8.4.0"
  }
 },
 "nbformat": 4,
 "nbformat_minor": 5
}
