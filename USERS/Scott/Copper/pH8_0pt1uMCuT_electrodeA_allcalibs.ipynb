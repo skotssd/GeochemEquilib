{
 "cells": [
  {
   "cell_type": "markdown",
   "id": "c267840a-0b61-44ab-bc9d-fc98efd5d539",
   "metadata": {},
   "source": [
    "# Aug 28 data electrode A\n",
    "\n",
    "1e-7 M CuT, 0.01 M KNO3 electrolyte, pH 8\n",
    "\n",
    "electrode A might be the original electrode?\n"
   ]
  },
  {
   "cell_type": "code",
   "execution_count": 17,
   "id": "5b91745d-be40-49bc-9645-49174473a1f2",
   "metadata": {},
   "outputs": [
    {
     "data": {
      "text/plain": [
       "txt = /run/media/ssmith/T7/ssmith/scottsmith/research/JOctave4Docker/GeochemEquilib/USERS/Scott/Copper\n"
      ]
     },
     "metadata": {},
     "output_type": "display_data"
    },
    {
     "data": {
      "text/plain": [
       "rootpath = /run/media/ssmith/T7/ssmith/scottsmith/research/JOctave4Docker/GeochemEquilib\n"
      ]
     },
     "metadata": {},
     "output_type": "display_data"
    },
    {
     "data": {
      "text/plain": [
       "JEQUILIBpath = /run/media/ssmith/T7/ssmith/scottsmith/research/JOctave4Docker/GeochemEquilib/JEQUILIB\n"
      ]
     },
     "metadata": {},
     "output_type": "display_data"
    }
   ],
   "source": [
    "% setup environment\n",
    "% set path to equilibrium solver\n",
    "txt=pwd\n",
    "n=length(txt);\n",
    "rootpath=txt; rootpath=txt(1:n-19)\n",
    "PHREEQCpath=[rootpath,'/runPHREEQC'];\n",
    "addpath(PHREEQCpath);\n",
    "JEQUILIBpath=[rootpath,'/JEQUILIB']\n",
    "addpath(JEQUILIBpath);\n",
    "Cumodelspath=[rootpath,'/Cutableaus']; addpath(Cumodelspath);\n",
    "% clear data and number format\n",
    "clear; format short e\n",
    "% turn off warnings\n",
    "warning off\n",
    "graphics_toolkit (\"notebook\"); \n",
    "graphics_toolkit (\"plotly\"); "
   ]
  },
  {
   "cell_type": "code",
   "execution_count": 18,
   "id": "5ebebbe5-0fef-4c64-9602-676482133835",
   "metadata": {},
   "outputs": [],
   "source": [
    "% put in constants\n",
    "VT=0.05; %total volume\n",
    "stockCuconc=0.0152067;"
   ]
  },
  {
   "cell_type": "code",
   "execution_count": 19,
   "id": "7cab7aa9-4607-4224-89a8-0c7fc1b01d8e",
   "metadata": {
    "tags": []
   },
   "outputs": [],
   "source": [
    "% put in data\n",
    "data=[...\n",
    "%volCu mV pH\n",
    "0 88 2.001\n",
    "50 107 2.001\n",
    "100 115.9 1.987\n",
    "250 125.8 1.99\n",
    "500 136.6 1.994\n",
    "1000 146.7 2.002\n",
    "];\n",
    "\n",
    "originalsamplemVnpH=[...\n",
    "%pH mV\n",
    "8.045  76.2\n",
    "8.059  76.9\n",
    "];"
   ]
  },
  {
   "cell_type": "code",
   "execution_count": 20,
   "id": "95303175-0241-4e93-b215-1add113f0dbc",
   "metadata": {},
   "outputs": [
    {
     "data": {
      "text/plain": [
       "pH = 8.0520e+00\n"
      ]
     },
     "metadata": {},
     "output_type": "display_data"
    },
    {
     "data": {
      "text/plain": [
       "logCuonept = -7.3868e+00\n"
      ]
     },
     "metadata": {},
     "output_type": "display_data"
    },
    {
     "data": {
      "text/plain": [
       "logCuoneptmeasuredslope = -7.3758e+00\n"
      ]
     },
     "metadata": {},
     "output_type": "display_data"
    },
    {
     "data": {
      "text/plain": [
       "logCufullcalib = -7.3731e+00\n"
      ]
     },
     "metadata": {},
     "output_type": "display_data"
    },
    {
     "data": {
      "text/plain": [
       "logCulinearcalib = -5.7959e+00\n"
      ]
     },
     "metadata": {},
     "output_type": "display_data"
    },
    {
     "data": {
      "text/plain": [
       "logCulowslopecalib = -8.3164e+00\n"
      ]
     },
     "metadata": {},
     "output_type": "display_data"
    },
    {
     "data": {
      "text/plain": [
       "err = 3.1541e+00\n"
      ]
     },
     "metadata": {},
     "output_type": "display_data"
    },
    {
     "data": {
      "application/vnd.plotly.v1+json": {
       "data": [
        {
         "line": {
          "color": "rgb(0, 0, 0)",
          "width": 0.5
         },
         "marker": {
          "color": "rgb(0, 0, 0)",
          "line": {
           "color": "rgb(0, 0, 0)"
          },
          "size": 6,
          "symbol": "circle"
         },
         "mode": "markers",
         "name": "",
         "showlegend": false,
         "type": "scatter",
         "visibility": true,
         "x": [
          -7,
          -4.815552507046849,
          -4.516377119297893,
          -4.120590266171172,
          -3.8220008952760045,
          -3.525392424282748
         ],
         "xaxis": "x",
         "y": [
          88,
          107,
          115.9,
          125.8,
          136.6,
          146.7
         ],
         "yaxis": "y"
        },
        {
         "line": {
          "color": "rgb(0, 0, 0)",
          "dash": "solid",
          "width": 0.5
         },
         "marker": {
          "color": "rgb(0, 0, 0)",
          "line": {
           "color": "rgb(0, 0, 0)"
          },
          "size": 6,
          "symbol": "none"
         },
         "mode": "lines",
         "name": "",
         "showlegend": false,
         "type": "scatter",
         "visibility": true,
         "x": [
          -8,
          -7.9,
          -7.8,
          -7.7,
          -7.6,
          -7.5,
          -7.4,
          -7.3,
          -7.2,
          -7.1,
          -7,
          -6.9,
          -6.8,
          -6.7,
          -6.6,
          -6.5,
          -6.4,
          -6.3,
          -6.2,
          -6.1,
          -6,
          -5.9,
          -5.8,
          -5.699999999999999,
          -5.6,
          -5.5,
          -5.4,
          -5.3,
          -5.199999999999999,
          -5.1,
          -5,
          -4.9,
          -4.8,
          -4.699999999999999,
          -4.6,
          -4.5,
          -4.4,
          -4.3,
          -4.199999999999999,
          -4.1,
          -4,
          -3.8999999999999995,
          -3.8,
          -3.7,
          -3.5999999999999996,
          -3.5,
          -3.3999999999999995,
          -3.3,
          -3.1999999999999993,
          -3.0999999999999996,
          -3
         ],
         "xaxis": "x",
         "y": [
          80.00857020425653,
          80.01078884890737,
          80.01358172370946,
          80.01709737502144,
          80.02152273189034,
          80.02709299771838,
          80.0341040759372,
          80.0429281699527,
          80.05403335418164,
          80.06800810475094,
          80.08559201141227,
          80.10771417228422,
          80.13554110481905,
          80.1705363915183,
          80.21453471293722,
          80.26983338787949,
          80.33930500681417,
          80.42653514355703,
          80.5359893464869,
          80.67321345186633,
          80.84507042253522,
          81.06001492825133,
          81.32840306532275,
          81.66282801185436,
          82.07846179857601,
          82.59336731548204,
          83.228721844999,
          84.00886327471326,
          84.96103423985139,
          86.11466346402113,
          87.5,
          89.1459264906039,
          91.07685202550616,
          93.30875462063133,
          95.84472091585475,
          98.67068249412101,
          101.75236704917421,
          105.03459342206715,
          108.44376705670976,
          111.89372520438965,
          115.29411764705883,
          118.5596737133894,
          121.618396807966,
          124.41710116052843,
          126.92357251863976,
          129.12558762070748,
          131.02769565560413,
          132.6468944809423,
          134.00819460260513,
          135.14073493001212,
          136.07476635514018
         ],
         "yaxis": "y"
        },
        {
         "line": {
          "color": "rgb(0, 0, 0)",
          "dash": "dash",
          "width": 0.5
         },
         "marker": {
          "color": "rgb(0, 0, 0)",
          "line": {
           "color": "rgb(0, 0, 0)"
          },
          "size": 6,
          "symbol": "none"
         },
         "mode": "lines",
         "name": "",
         "showlegend": false,
         "type": "scatter",
         "visibility": true,
         "x": [
          -8,
          -7.9,
          -7.8,
          -7.7,
          -7.6,
          -7.5,
          -7.4,
          -7.3,
          -7.2,
          -7.1,
          -7,
          -6.9,
          -6.8,
          -6.7,
          -6.6,
          -6.5,
          -6.4,
          -6.3,
          -6.2,
          -6.1,
          -6,
          -5.9,
          -5.8,
          -5.699999999999999,
          -5.6,
          -5.5,
          -5.4,
          -5.3,
          -5.199999999999999,
          -5.1,
          -5,
          -4.9,
          -4.8,
          -4.699999999999999,
          -4.6,
          -4.5,
          -4.4,
          -4.3,
          -4.199999999999999,
          -4.1,
          -4,
          -3.8999999999999995,
          -3.8,
          -3.7,
          -3.5999999999999996,
          -3.5,
          -3.3999999999999995,
          -3.3,
          -3.1999999999999993,
          -3.0999999999999996,
          -3
         ],
         "xaxis": "x",
         "y": [
          89.06161921766808,
          89.06520766240467,
          89.06972467453019,
          89.07541034929153,
          89.082566753275,
          89.09157385625362,
          89.1029095216459,
          89.1171745677308,
          89.13512415136745,
          89.15770701466008,
          89.18611447810439,
          89.22184146380924,
          89.26676228623333,
          89.32322444174929,
          89.39416413011539,
          89.48324768801602,
          89.59504339595465,
          89.7352280483385,
          89.91083195338575,
          90.1305241937419,
          90.4049363498526,
          90.74701650937514,
          91.17239499766696,
          91.69972736749222,
          92.35095730354863,
          93.1514114092717,
          94.12960042410631,
          95.3165622772134,
          96.74455322492636,
          98.4448951980218,
          100.4448510500444,
          102.76355863450823,
          105.40732937277292,
          108.36498331828287,
          111.60425245223277,
          115.07046094908904,
          118.68848947177796,
          122.36835882566959,
          126.01376588828832,
          129.53195103006215,
          132.84281412294274,
          135.88545927559497,
          138.6212023701057,
          141.03311032288926,
          143.1229336491819,
          144.90662922539957,
          146.4095834706442,
          147.66231819042778,
          148.6970830792129,
          149.5454326708686,
          150.23669393582855
         ],
         "yaxis": "y"
        }
       ],
       "layout": {
        "height": 420,
        "hovermode": "closest",
        "margin": {
         "b": 0,
         "l": 0,
         "r": 0,
         "t": 0
        },
        "plot_bgcolor": "rgba(0, 0, 0, 0)",
        "showlegend": false,
        "width": 560,
        "xaxis": {
         "anchor": "y",
         "autorange": false,
         "domain": [
          0.13,
          0.905
         ],
         "exponentformat": "none",
         "gridcolor": "rgba(38,38,38,0.15)",
         "gridwidth": 1,
         "linecolor": "rgb(38,38,38)",
         "linewidth": 1,
         "mirror": "ticks",
         "range": [
          -8,
          -3
         ],
         "showgrid": false,
         "showline": true,
         "side": "bottom",
         "spikedash": "solid",
         "spikemode": "across",
         "spikesides": false,
         "spikethickness": 1,
         "tickangle": 0,
         "tickcolor": "rgb(38,38,38)",
         "tickfont": {
          "color": "rgb(38,38,38)",
          "size": 10
         },
         "ticklen": 3,
         "ticks": "inside",
         "ticktext": [
          "-8",
          "-7",
          "-6",
          "-5",
          "-4",
          "-3"
         ],
         "tickvals": [
          -8,
          -7,
          -6,
          -5,
          -4,
          -3
         ],
         "title": {
          "font": {
           "color": "rgb(0, 0, 0)",
           "size": 11
          },
          "text": ""
         },
         "type": "linear",
         "visible": true,
         "zeroline": false
        },
        "yaxis": {
         "anchor": "x",
         "autorange": false,
         "domain": [
          0.11,
          0.9249999999999999
         ],
         "exponentformat": "none",
         "gridcolor": "rgba(38,38,38,0.15)",
         "gridwidth": 1,
         "linecolor": "rgb(38,38,38)",
         "linewidth": 1,
         "mirror": "ticks",
         "range": [
          80,
          160
         ],
         "showgrid": false,
         "showline": true,
         "side": "left",
         "spikedash": "solid",
         "spikemode": "across",
         "spikesides": false,
         "spikethickness": 1,
         "tickangle": 0,
         "tickcolor": "rgb(38,38,38)",
         "tickfont": {
          "color": "rgb(38,38,38)",
          "size": 10
         },
         "ticklen": 3,
         "ticks": "inside",
         "ticktext": [
          "80",
          "100",
          "120",
          "140",
          "160"
         ],
         "tickvals": [
          80,
          100,
          120,
          140,
          160
         ],
         "title": {
          "font": {
           "color": "rgb(0, 0, 0)",
           "size": 11
          },
          "text": ""
         },
         "type": "linear",
         "visible": true,
         "zeroline": false
        }
       }
      },
      "image/png": "[encoded data removed]"
     },
     "metadata": {},
     "output_type": "display_data"
    },
    {
     "data": {
      "text/html": [
       "<table><tr><th><i>pbest<i></th><th>1</th><th>2</th><th>3</th><th>4</th></tr><tr><th>1</th><td>89.0478</td><td>153.062</td><td>-3.50839</td><td>0.148838</td></tr></table>"
      ],
      "text/plain": [
       "pbest =    8.9048e+01   1.5306e+02  -3.5084e+00   1.4884e-01\n"
      ]
     },
     "metadata": {},
     "output_type": "display_data"
    }
   ],
   "source": [
    "% process the data\n",
    "pH=mean(originalsamplemVnpH(:,1))\n",
    "mVAoriginal=(originalsamplemVnpH(:,2));\n",
    "addedCuvol=data(:,1)'*1e-6;\n",
    "pHcalib=data(:,3);\n",
    "\n",
    "mVA=data(:,2)'; Emeas=mVA; CuTmeas=1e-7; CuT=CuTmeas;\n",
    "CuTplus=(CuTmeas*(VT)+addedCuvol*stockCuconc)./(VT+addedCuvol);\n",
    "\n",
    "%chlorocorrecxtion\n",
    "%BF1=2.49; BF2=1.14; BF3=0.9; ClT=4.9904e-4; %from Inorg. Chem. 1983. 22. 3323-3326.\n",
    "%CuTplus=CuTplus./(1+BF1*ClT+BF2*ClT^2+BF3*ClT^3);\n",
    "\n",
    "%determine free Cu for the sample using the method of Tait et al.\n",
    "m1=59.2/2; Eacid=Emeas(1); Eorig=mean(mVAoriginal); %m=param(1); \n",
    "Eo1=Eacid-(m1)*log10(CuT);\n",
    "logCuonept=(Eorig-Eo1)/m1\n",
    "%determine free Cu for the sample using the method of Tait et al. but use measured slope\n",
    "param1=polyfit(log10(CuTplus(2:end)),Emeas(2:end),1); m2=param1(1);\n",
    "Eacid=Emeas(1); Eorig=mean(mVAoriginal); \n",
    "Eo2=Eacid-(m2)*log10(CuT);\n",
    "logCuoneptmeasuredslope=(Eorig-Eo2)/m2\n",
    "%determine free Cu using all the calibration points\n",
    "param2=polyfit(log10(CuTplus(1:end)),Emeas(1:end),1);\n",
    "logCufullcalib=(mean(mVAoriginal)-param2(2))/param2(1)\n",
    "%determine free Cu using high Cu additions (linear part)\n",
    "param3=polyfit(log10(CuTplus(2:end)),Emeas(2:end),1);\n",
    "logCulinearcalib=(mean(mVAoriginal)-param3(2))/param3(1)\n",
    "%determine free Cu using two lowest points.  variable slope method like Marcinek et al.\n",
    "param4=polyfit(log10(CuTplus(1:2)),Emeas(1:2),1);\n",
    "logCulowslopecalib=(mean(mVAoriginal)-param4(2))/param4(1)\n",
    "\n",
    "%use logisticmodel\n",
    "logisticfunction = @(p,logx) (p(1)+(p(2)-p(1))./(1+10.^(p(3)-logx)*p(4)));\n",
    "errfunction=@(p,logx,Emeas) (log10(sum((Emeas-logisticfunction(p,logx)).^2)));\n",
    "ptst=[80 140 -4 0.7];\n",
    "logx=-8:0.1:-3; model=logisticfunction(ptst,logx);\n",
    "err=errfunction(ptst,log10(CuTplus),Emeas)\n",
    "plot(log10(CuTplus),Emeas,'ko')\n",
    "hold on\n",
    "plot(logx,model,'k-')\n",
    "% now best fit\n",
    "options = optimset('Display','off','TolFun',1e-4,'TolX',1e-4);\n",
    "pbest=fminsearch(@(p) errfunction(p,log10(CuTplus),Emeas),ptst,options)\n",
    "model=logisticfunction(pbest,logx);\n",
    "plot(logx,model,'k--')"
   ]
  },
  {
   "cell_type": "code",
   "execution_count": 21,
   "id": "941bd1b0-1f9b-40bd-b7bc-8e976e789d30",
   "metadata": {},
   "outputs": [
    {
     "data": {
      "text/plain": [
       "err = 1.8056e+00\n"
      ]
     },
     "metadata": {},
     "output_type": "display_data"
    },
    {
     "data": {
      "application/vnd.plotly.v1+json": {
       "data": [
        {
         "line": {
          "color": "rgb(0, 0, 0)",
          "width": 0.5
         },
         "marker": {
          "color": "rgb(0, 0, 0)",
          "line": {
           "color": "rgb(0, 0, 0)"
          },
          "size": 6,
          "symbol": "circle"
         },
         "mode": "markers",
         "name": "",
         "showlegend": false,
         "type": "scatter",
         "visibility": true,
         "x": [
          -7,
          -4.815552507046849,
          -4.516377119297893,
          -4.120590266171172,
          -3.8220008952760045,
          -3.525392424282748
         ],
         "xaxis": "x",
         "y": [
          88,
          107,
          115.9,
          125.8,
          136.6,
          146.7
         ],
         "yaxis": "y"
        },
        {
         "line": {
          "color": "rgb(0, 0, 0)",
          "dash": "solid",
          "width": 0.5
         },
         "marker": {
          "color": "rgb(0, 0, 0)",
          "line": {
           "color": "rgb(0, 0, 0)"
          },
          "size": 6,
          "symbol": "none"
         },
         "mode": "lines",
         "name": "",
         "showlegend": false,
         "type": "scatter",
         "visibility": true,
         "x": [
          -7,
          -4.815552507046849,
          -4.516377119297893,
          -4.120590266171172,
          -3.8220008952760045,
          -3.525392424282748
         ],
         "xaxis": "x",
         "y": [
          88.31505826023832,
          106.0891535995101,
          113.32451792384637,
          123.87069768874291,
          132.2942157121667,
          140.86111975187436
         ],
         "yaxis": "y"
        },
        {
         "line": {
          "color": "rgb(0, 0, 0)",
          "dash": "dash",
          "width": 0.5
         },
         "marker": {
          "color": "rgb(0, 0, 0)",
          "line": {
           "color": "rgb(0, 0, 0)"
          },
          "size": 6,
          "symbol": "none"
         },
         "mode": "lines",
         "name": "",
         "showlegend": false,
         "type": "scatter",
         "visibility": true,
         "x": [
          -7,
          -4.815552507046849,
          -4.516377119297893,
          -4.120590266171172,
          -3.8220008952760045,
          -3.525392424282748
         ],
         "xaxis": "x",
         "y": [
          88.31505826023832,
          106.0891535995101,
          113.32451792384637,
          123.87069768874291,
          132.2942157121667,
          140.86111975187436
         ],
         "yaxis": "y"
        }
       ],
       "layout": {
        "height": 420,
        "hovermode": "closest",
        "margin": {
         "b": 0,
         "l": 0,
         "r": 0,
         "t": 0
        },
        "plot_bgcolor": "rgba(0, 0, 0, 0)",
        "showlegend": false,
        "width": 560,
        "xaxis": {
         "anchor": "y",
         "autorange": false,
         "domain": [
          0.13,
          0.905
         ],
         "exponentformat": "none",
         "gridcolor": "rgba(38,38,38,0.15)",
         "gridwidth": 1,
         "linecolor": "rgb(38,38,38)",
         "linewidth": 1,
         "mirror": "ticks",
         "range": [
          -7,
          -3.5
         ],
         "showgrid": false,
         "showline": true,
         "side": "bottom",
         "spikedash": "solid",
         "spikemode": "across",
         "spikesides": false,
         "spikethickness": 1,
         "tickangle": 0,
         "tickcolor": "rgb(38,38,38)",
         "tickfont": {
          "color": "rgb(38,38,38)",
          "size": 10
         },
         "ticklen": 3,
         "ticks": "inside",
         "ticktext": [
          "-7",
          "-6.5",
          "-6",
          "-5.5",
          "-5",
          "-4.5",
          "-4",
          "-3.5"
         ],
         "tickvals": [
          -7,
          -6.5,
          -6,
          -5.5,
          -5,
          -4.5,
          -4,
          -3.5
         ],
         "title": {
          "font": {
           "color": "rgb(0, 0, 0)",
           "size": 11
          },
          "text": ""
         },
         "type": "linear",
         "visible": true,
         "zeroline": false
        },
        "yaxis": {
         "anchor": "x",
         "autorange": false,
         "domain": [
          0.11,
          0.9249999999999999
         ],
         "exponentformat": "none",
         "gridcolor": "rgba(38,38,38,0.15)",
         "gridwidth": 1,
         "linecolor": "rgb(38,38,38)",
         "linewidth": 1,
         "mirror": "ticks",
         "range": [
          80,
          150
         ],
         "showgrid": false,
         "showline": true,
         "side": "left",
         "spikedash": "solid",
         "spikemode": "across",
         "spikesides": false,
         "spikethickness": 1,
         "tickangle": 0,
         "tickcolor": "rgb(38,38,38)",
         "tickfont": {
          "color": "rgb(38,38,38)",
          "size": 10
         },
         "ticklen": 3,
         "ticks": "inside",
         "ticktext": [
          "80",
          "90",
          "100",
          "110",
          "120",
          "130",
          "140",
          "150"
         ],
         "tickvals": [
          80,
          90,
          100,
          110,
          120,
          130,
          140,
          150
         ],
         "title": {
          "font": {
           "color": "rgb(0, 0, 0)",
           "size": 11
          },
          "text": ""
         },
         "type": "linear",
         "visible": true,
         "zeroline": false
        }
       }
      },
      "image/png": "[encoded data removed]"
     },
     "metadata": {},
     "output_type": "display_data"
    },
    {
     "data": {
      "text/html": [
       "<table><tr><th><i>pbestNE<i></th><th>1</th><th>2</th><th>3</th></tr><tr><th>1</th><td>245.532</td><td>28.8739</td><td>0.000328929</td></tr></table>"
      ],
      "text/plain": [
       "pbestNE =    2.4553e+02   2.8874e+01   3.2893e-04\n"
      ]
     },
     "metadata": {},
     "output_type": "display_data"
    }
   ],
   "source": [
    "% fit using Nikolskii-Eisenman equation\n",
    "%E=E0+Slog(Cu +kH); parameters E0, S, k\n",
    "\n",
    "NEeqn=@(p,x1,x2) (p(1)+p(2).*log10(x1+p(3).*x2));\n",
    "errfunction=@(p,x1,x2,Emeas) (log10(sum((Emeas-NEeqn(p,x1,x2)).^2)));\n",
    "\n",
    "\n",
    "H=10.^-pHcalib; ptst=[245 59.2/2 0.0005];\n",
    "model=NEeqn(ptst,CuTplus',H);\n",
    "err=errfunction(ptst,CuTplus',H,Emeas')\n",
    "\n",
    "plot(log10(CuTplus), Emeas,'ko')\n",
    "hold on; plot(log10(CuTplus),model,'k-')\n",
    "\n",
    "\n",
    "% now best fit\n",
    "pbestNE=fminsearch(@(p) errfunction(p,CuTplus',H,Emeas'),ptst,options)\n",
    "NEmodel=NEeqn(pbestNE,CuTplus',H);\n",
    "plot(log10(CuTplus),model,'k--')"
   ]
  },
  {
   "cell_type": "code",
   "execution_count": 22,
   "id": "190f3e51-5e9f-4eec-be48-9eae1ae0de54",
   "metadata": {},
   "outputs": [
    {
     "data": {
      "image/png": "[encoded data removed]"
     },
     "metadata": {
      "image/png": {
       "height": 420,
       "width": 560
      }
     },
     "output_type": "display_data"
    },
    {
     "data": {
      "text/plain": [
       "logCunonlinear = -8.7953e+00 - 9.1668e+00i\n"
      ]
     },
     "metadata": {},
     "output_type": "display_data"
    },
    {
     "data": {
      "text/plain": [
       "logCuNE = -5.8524e+00\n"
      ]
     },
     "metadata": {},
     "output_type": "display_data"
    }
   ],
   "source": [
    "% MODEL FOR COMPARISON\n",
    "graphics_toolkit(\"notebook\")\n",
    "%model with just inorganic speciation\n",
    "%geochemical model\n",
    "% input the constants and solution chemistry\n",
    "\n",
    "flag1=2; %flag1 for concentration based search vector (1) or for log based search vector (2).\n",
    "flag2=1; %flag2 for numerical derivatives (2) or analtyical derivatives (1)\n",
    "database=[]; \n",
    "flag3=0; % flag3 1 for show warnings. 0 no warnings\n",
    "flag4=0; %if=1 solve tableau one line at a time to get a good initial guess (no solids). really challenging probs only\n",
    "flag5=0; %if=1 use stored initial guess for including solids\n",
    "\n",
    "CuT=CuTmeas; inorganicTOTALS=[CuT];\n",
    "inorganicTOTALS(inorganicTOTALS==0)=1e-16; % get rid of zero values, b/c div by zero error\n",
    "TOTALS=[inorganicTOTALS]; %TOTALS=inorganicTOTALS;\n",
    "pH=pH; pe=20.75-pH; PCO2=10^-3.5;\n",
    "[Cuall,CuOH,CuOH2s,CuOs,CuCO3s,tenorite,malachite,MASSERR]=CuOHCO2opentableauallsolids(pH,pe,PCO2,TOTALS',flag1,flag2,flag3,flag4,flag5,database);\n",
    "[CuwithCuOs,CuOH,CuOH2s,CuOs,CuCO3s,tenorite,malachite,MASSERR]=CuOHCO2opentableauCuOs(pH,pe,PCO2,TOTALS',flag1,flag2,flag3,flag4,flag5,database);\n",
    "[Cunosolid,CuOH,CuOH2s,CuOs,CuCO3s,tenorite,malachite,MASSERR]=CuOHCO2opentableaunosolid(pH,pe,PCO2,TOTALS',flag1,flag2,flag3,flag4,flag5,database);\n",
    "\n",
    "plot(log10(CuTplus),Emeas,'bo','markersize',8,'markerfacecolor','b')\n",
    "\n",
    "hold on\n",
    "possibleresults=[logCuonept logCuoneptmeasuredslope logCufullcalib logCulinearcalib logCulowslopecalib];\n",
    "mVAoriginals=mean(mVAoriginal)*ones(size(possibleresults));\n",
    "plot(possibleresults,mVAoriginals,'ko','markerfacecolor','w')\n",
    "\n",
    "paramTait=[m1 Eo1];\n",
    "logCuplot=-13:0.1:-3; Eplot=polyval(paramTait,logCuplot);\n",
    "plot(logCuplot,Eplot,'r-','linewidth',1)\n",
    "\n",
    "paramTait2=[m2 Eo2];\n",
    "logCuplot=-13:0.1:-3; Eplot=polyval(paramTait2,logCuplot);\n",
    "plot(logCuplot,Eplot,'r--','linewidth',1)\n",
    "\n",
    "logCuplot=-13:0.1:-3; Eplot=polyval(param2,logCuplot);\n",
    "plot(logCuplot,Eplot,'k--')\n",
    "\n",
    "logCuplot=-13:0.1:-3; Eplot=polyval(param3,logCuplot);\n",
    "plot(logCuplot,Eplot,'k:')\n",
    "\n",
    "logCuplot=-13:0.1:-3; Eplot=polyval(param4,logCuplot);\n",
    "plot(logCuplot,Eplot,'k-')\n",
    "\n",
    "set(gca,'linewidth',2)\n",
    "xlabel('log[Cu^{2+}]'); ylabel('E (mV)')\n",
    "hold on\n",
    "\n",
    "plot([log10(Cuall) log10(Cuall)],[min(mVAoriginal)-0.2*min(mVAoriginal) max(Emeas)+0.2*max(Emeas)],'b--')\n",
    "plot([log10(Cunosolid) log10(Cunosolid)],[min(mVAoriginal)-0.2*min(mVAoriginal) max(Emeas)+0.2*max(Emeas)],'b--'); hold on\n",
    "plot([log10(CuT) log10(CuT)],[min(mVAoriginal)-0.2*min(mVAoriginal) max(Emeas)+0.2*max(Emeas)],'b--','linewidth',2)\n",
    "%plot([-9.576 -9.576],[-100 100],'b--')\n",
    "\n",
    "text(log10(Cunosolid)+0.1,max(Emeas)-(max(Emeas)-mean(mVAoriginal))/4,'model Cu^{2+}','rotation',90)\n",
    "text(log10(CuT)+0.1,max(Emeas)-(max(Emeas)-mean(mVAoriginal))/4,'Total Cu','rotation',90)\n",
    "\n",
    "\n",
    "xlabel('log([Cu^{2+}])')\n",
    "ylabel('Potential (mV)')\n",
    "set(gca,'LineWidth',2,'fontsize',12)\n",
    "\n",
    "axis([min(possibleresults)-0.2 max(log10(CuTplus))+0.2 min(mVAoriginal)-0.2*min(mVAoriginal) max(Emeas)+0.2*max(Emeas)])\n",
    "\n",
    "% nonlinear fit\n",
    "logx=min(possibleresults)-0.2:0.1:max(log10(CuTplus))+1;\n",
    "model=logisticfunction(pbest,logx);\n",
    "plot(logx,model,'m--','linewidth',2)\n",
    "\n",
    "logCunonlinear=-((log10((pbest(2)-pbest(1))/(mean(mVAoriginal)-pbest(1))-1))/pbest(4)-pbest(3))\n",
    "\n",
    "H=10.^-pH; logCuNE=log10(10.^((mean(mVAoriginal)-pbestNE(1))./pbestNE(2))-pbestNE(3)*H)\n",
    "\n",
    "plot(logCuNE,mean(mVAoriginal),'ko','markerfacecolor','c')\n",
    "plot(log10(CuTplus),NEmodel,'c-','linewidth',2)"
   ]
  },
  {
   "cell_type": "code",
   "execution_count": 23,
   "id": "286a9a21-0cfe-4aaa-a590-d0cbf6e0e293",
   "metadata": {},
   "outputs": [
    {
     "name": "stdout",
     "output_type": "stream",
     "text": [
      "various calibration results\n"
     ]
    },
    {
     "data": {
      "text/plain": [
       "logCuonept = -7.3868e+00\n"
      ]
     },
     "metadata": {},
     "output_type": "display_data"
    },
    {
     "data": {
      "text/plain": [
       "logCuoneptmeasuredslope = -7.3758e+00\n"
      ]
     },
     "metadata": {},
     "output_type": "display_data"
    },
    {
     "data": {
      "text/plain": [
       "logCufullcalib = -7.3731e+00\n"
      ]
     },
     "metadata": {},
     "output_type": "display_data"
    },
    {
     "data": {
      "text/plain": [
       "logCulinearcalib = -5.7959e+00\n"
      ]
     },
     "metadata": {},
     "output_type": "display_data"
    },
    {
     "data": {
      "text/plain": [
       "logCulowslopecalib = -8.3164e+00\n"
      ]
     },
     "metadata": {},
     "output_type": "display_data"
    },
    {
     "data": {
      "text/plain": [
       "logCuNE = -5.8524e+00\n"
      ]
     },
     "metadata": {},
     "output_type": "display_data"
    },
    {
     "name": "stdout",
     "output_type": "stream",
     "text": [
      "model results\n"
     ]
    },
    {
     "data": {
      "text/plain": [
       "ans = -8.1457e+00\n"
      ]
     },
     "metadata": {},
     "output_type": "display_data"
    },
    {
     "data": {
      "text/plain": [
       "ans = -8.3434e+00\n"
      ]
     },
     "metadata": {},
     "output_type": "display_data"
    }
   ],
   "source": [
    "disp('various calibration results')\n",
    "logCuonept\n",
    "logCuoneptmeasuredslope\n",
    "logCufullcalib\n",
    "logCulinearcalib\n",
    "logCulowslopecalib\n",
    "logCuNE\n",
    "disp('model results')\n",
    "log10(Cunosolid)\n",
    "log10(Cuall)"
   ]
  },
  {
   "cell_type": "code",
   "execution_count": null,
   "id": "9c1a81f3-9b2a-4c0a-bba6-269a37ee24d5",
   "metadata": {},
   "outputs": [],
   "source": []
  }
 ],
 "metadata": {
  "kernelspec": {
   "display_name": "Octave (xoctave)",
   "language": "Octave",
   "name": "xoctave"
  },
  "language_info": {
   "codemirror_mode": "octave",
   "file_extension": ".m",
   "mimetype": "text/x-octave",
   "name": "Octave",
   "nbconvert_exporter": "",
   "pygments_lexer": "octave",
   "version": "8.4.0"
  }
 },
 "nbformat": 4,
 "nbformat_minor": 5
}
