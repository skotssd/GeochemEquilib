{
 "cells": [
  {
   "cell_type": "code",
   "execution_count": 19,
   "id": "f652ea83-6532-4ab6-bd0d-f82baf023909",
   "metadata": {},
   "outputs": [],
   "source": [
    "% setup environment\n",
    "% clear data and number format\n",
    "clear; format short e\n",
    "% set path to equilibrium solver\n",
    "txt=pwd; n=length(txt); rootpath=txt;\n",
    "n=strfind(rootpath,\"USERS\"); rootpath=txt(1:n-2);\n",
    "PHREEQCpath=[rootpath,'/runPHREEQC'];\n",
    "addpath(PHREEQCpath);\n",
    "JEQUILIBpath=[rootpath,'/JEQUILIB'];\n",
    "addpath(JEQUILIBpath);\n",
    "% turn off warnings\n",
    "warning off\n",
    "%graphics_toolkit (\"notebook\"); \n",
    "graphics_toolkit (\"plotly\"); \n",
    "%graphics_toolkit(\"gnuplot\")\n",
    "%delete existing phreeqc files\n",
    "system(\"rm DATABASE.dat\");\n",
    "system(\"rm runfile.txt\");\n",
    "%create empty phreeqc files\n",
    "system(\"touch DATABASE.dat\");\n",
    "system(\"touch runfile.txt\");"
   ]
  },
  {
   "cell_type": "markdown",
   "id": "6147551b-13a3-4aed-86dc-7022f3f4cc90",
   "metadata": {},
   "source": [
    "# RESULT OF TESTING\n",
    "\n",
    "seems that only the logX with analytical derivatives works best.  I did find some situations that didn't converge.  so I added in some code to make more acidic and more oxic and step towards the answer that way.  doesn't seem to work but the idea is ok.  should check how I do this in the source search file returnspeciationRE or whatever it is called.\n",
    "\n",
    "X based search didn't work though.  that's fine.  I could probably revise the search method but I like the log one better anyway."
   ]
  },
  {
   "cell_type": "code",
   "execution_count": 20,
   "id": "506d65c0-5336-470f-a8d4-c7eadca02061",
   "metadata": {},
   "outputs": [],
   "source": [
    "% define equilibrium problem\n",
    "\n",
    "FeT=1e-5; PT=1e-6; NaT=3*PT; ClT=3*FeT; T=25; HFOsi=1e-30; HFOwi=1e-30; ASFw=1; ASFs=1; \n",
    "pH=3:1:11; \n",
    "\n",
    "% set redox level ------------------------\n",
    "peINT=20.75; %oxic\n",
    "%peINT=15.75; %less oxic\n",
    "%peINT=10.75; %getting reducing\n",
    "%peINT=5.75; %pretty reducing\n",
    "%peINT=0; % maximum reducing\n",
    "\n",
    "pe=peINT-pH;% oxic end\n"
   ]
  },
  {
   "cell_type": "code",
   "execution_count": 21,
   "id": "501091b8-f0fd-49bf-9893-43754d442941",
   "metadata": {},
   "outputs": [
    {
     "data": {
      "text/plain": [
       "pHdislay = 3.0000e+00\n"
      ]
     },
     "metadata": {},
     "output_type": "display_data"
    },
    {
     "data": {
      "text/html": [
       "<table><tr><th><i>dislay<i></th><th>1</th><th>2</th><th>3</th><th>4</th><th>5</th></tr><tr><th>1</th><td>3</td><td>1.02182e-06</td><td>0</td><td>3.74912e-22</td><td>1.62811e-17</td></tr></table>"
      ],
      "text/plain": [
       "dislay =    3.0000e+00   1.0218e-06            0   3.7491e-22   1.6281e-17\n"
      ]
     },
     "metadata": {},
     "output_type": "display_data"
    },
    {
     "data": {
      "text/plain": [
       "pHdislay = 4.0000e+00\n"
      ]
     },
     "metadata": {},
     "output_type": "display_data"
    },
    {
     "data": {
      "text/html": [
       "<table><tr><th><i>dislay<i></th><th>1</th><th>2</th><th>3</th><th>4</th><th>5</th></tr><tr><th>1</th><td>4</td><td>3.57259e-08</td><td>0</td><td>1.91399e-21</td><td>8.40536e-18</td></tr></table>"
      ],
      "text/plain": [
       "dislay =    4.0000e+00   3.5726e-08            0   1.9140e-21   8.4054e-18\n"
      ]
     },
     "metadata": {},
     "output_type": "display_data"
    },
    {
     "data": {
      "text/plain": [
       "pHdislay = 5.0000e+00\n"
      ]
     },
     "metadata": {},
     "output_type": "display_data"
    },
    {
     "data": {
      "text/plain": [
       "DISP1 = 6.7763e-21\n"
      ]
     },
     "metadata": {},
     "output_type": "display_data"
    },
    {
     "data": {
      "text/html": [
       "<table><tr><th><i>dislay<i></th><th>1</th><th>2</th><th>3</th><th>4</th><th>5</th></tr><tr><th>1</th><td>5</td><td>7.78037e-11</td><td>8.26484e-06</td><td>5.29189e-20</td><td>6.77626e-21</td></tr></table>"
      ],
      "text/plain": [
       "dislay =    5.0000e+00   7.7804e-11   8.2648e-06   5.2919e-20   6.7763e-21\n"
      ]
     },
     "metadata": {},
     "output_type": "display_data"
    },
    {
     "data": {
      "text/plain": [
       "pHdislay = 6.0000e+00\n"
      ]
     },
     "metadata": {},
     "output_type": "display_data"
    },
    {
     "data": {
      "text/plain": [
       "DISP1 = 6.7763e-21\n"
      ]
     },
     "metadata": {},
     "output_type": "display_data"
    },
    {
     "data": {
      "text/html": [
       "<table><tr><th><i>dislay<i></th><th>1</th><th>2</th><th>3</th><th>4</th><th>5</th></tr><tr><th>1</th><td>6</td><td>7.78037e-14</td><td>9.81171e-06</td><td>2.59814e-07</td><td>6.77626e-21</td></tr></table>"
      ],
      "text/plain": [
       "dislay =    6.0000e+00   7.7804e-14   9.8117e-06   2.5981e-07   6.7763e-21\n"
      ]
     },
     "metadata": {},
     "output_type": "display_data"
    },
    {
     "data": {
      "text/plain": [
       "pHdislay = 7.0000e+00\n"
      ]
     },
     "metadata": {},
     "output_type": "display_data"
    },
    {
     "data": {
      "text/plain": [
       "DISP1 = 6.7763e-21\n"
      ]
     },
     "metadata": {},
     "output_type": "display_data"
    },
    {
     "data": {
      "text/html": [
       "<table><tr><th><i>dislay<i></th><th>1</th><th>2</th><th>3</th><th>4</th><th>5</th></tr><tr><th>1</th><td>7</td><td>7.78037e-17</td><td>9.96174e-06</td><td>3.83426e-07</td><td>6.77626e-21</td></tr></table>"
      ],
      "text/plain": [
       "dislay =    7.0000e+00   7.7804e-17   9.9617e-06   3.8343e-07   6.7763e-21\n"
      ]
     },
     "metadata": {},
     "output_type": "display_data"
    },
    {
     "data": {
      "text/plain": [
       "pHdislay = 8.0000e+00\n"
      ]
     },
     "metadata": {},
     "output_type": "display_data"
    },
    {
     "data": {
      "text/plain": [
       "DISP1 = 8.4703e-21\n"
      ]
     },
     "metadata": {},
     "output_type": "display_data"
    },
    {
     "data": {
      "text/html": [
       "<table><tr><th><i>dislay<i></th><th>1</th><th>2</th><th>3</th><th>4</th><th>5</th></tr><tr><th>1</th><td>8</td><td>7.78037e-20</td><td>9.97495e-06</td><td>1.58882e-07</td><td>8.47033e-21</td></tr></table>"
      ],
      "text/plain": [
       "dislay =    8.0000e+00   7.7804e-20   9.9750e-06   1.5888e-07   8.4703e-21\n"
      ]
     },
     "metadata": {},
     "output_type": "display_data"
    },
    {
     "data": {
      "text/plain": [
       "pHdislay = 9.0000e+00\n"
      ]
     },
     "metadata": {},
     "output_type": "display_data"
    },
    {
     "data": {
      "text/plain": [
       "DISP1 = 4.8797e+22\n"
      ]
     },
     "metadata": {},
     "output_type": "display_data"
    },
    {
     "data": {
      "text/plain": [
       "DISP2 = 1.8190e-11\n"
      ]
     },
     "metadata": {},
     "output_type": "display_data"
    },
    {
     "data": {
      "text/plain": [
       "DISP3 = 1.0000e-06\n"
      ]
     },
     "metadata": {},
     "output_type": "display_data"
    },
    {
     "data": {
      "text/plain": [
       "DISP4 = 1.0288e+14\n"
      ]
     },
     "metadata": {},
     "output_type": "display_data"
    },
    {
     "data": {
      "text/plain": [
       "DISP5 = NaN\n"
      ]
     },
     "metadata": {},
     "output_type": "display_data"
    },
    {
     "data": {
      "text/plain": [
       "DISP6 = NaN\n"
      ]
     },
     "metadata": {},
     "output_type": "display_data"
    },
    {
     "data": {
      "text/plain": [
       "DISP7 = NaN\n"
      ]
     },
     "metadata": {},
     "output_type": "display_data"
    },
    {
     "data": {
      "text/plain": [
       "DISP8 = NaN\n"
      ]
     },
     "metadata": {},
     "output_type": "display_data"
    },
    {
     "data": {
      "text/plain": [
       "DISP9 = NaN\n"
      ]
     },
     "metadata": {},
     "output_type": "display_data"
    },
    {
     "data": {
      "text/plain": [
       "DISP10 = NaN\n"
      ]
     },
     "metadata": {},
     "output_type": "display_data"
    },
    {
     "data": {
      "text/plain": [
       "DISP11 = NaN\n"
      ]
     },
     "metadata": {},
     "output_type": "display_data"
    },
    {
     "data": {
      "text/html": [
       "<table><tr><th><i>dislay<i></th><th>1</th><th>2</th><th>3</th><th>4</th><th>5</th></tr><tr><th>1</th><td>9</td><td>nan</td><td>nan</td><td>1.8462e+12</td><td>nan</td></tr></table>"
      ],
      "text/plain": [
       "dislay =    9.0000e+00          NaN          NaN   1.8462e+12          NaN\n"
      ]
     },
     "metadata": {},
     "output_type": "display_data"
    },
    {
     "data": {
      "text/plain": [
       "pHdislay = 1.0000e+01\n"
      ]
     },
     "metadata": {},
     "output_type": "display_data"
    },
    {
     "data": {
      "text/html": [
       "<table><tr><th><i>dislay<i></th><th>1</th><th>2</th><th>3</th><th>4</th><th>5</th></tr><tr><th>1</th><td>10</td><td>nan</td><td>nan</td><td>nan</td><td>nan</td></tr></table>"
      ],
      "text/plain": [
       "dislay =    1.0000e+01          NaN          NaN          NaN          NaN\n"
      ]
     },
     "metadata": {},
     "output_type": "display_data"
    },
    {
     "data": {
      "text/plain": [
       "pHdislay = 1.1000e+01\n"
      ]
     },
     "metadata": {},
     "output_type": "display_data"
    },
    {
     "data": {
      "text/html": [
       "<table><tr><th><i>dislay<i></th><th>1</th><th>2</th><th>3</th><th>4</th><th>5</th></tr><tr><th>1</th><td>11</td><td>nan</td><td>nan</td><td>nan</td><td>nan</td></tr></table>"
      ],
      "text/plain": [
       "dislay =    1.1000e+01          NaN          NaN          NaN          NaN\n"
      ]
     },
     "metadata": {},
     "output_type": "display_data"
    }
   ],
   "source": [
    "% MODEL USING TABLEAU (different gradients or log versus linear variables)\n",
    "%graphics_toolkit(\"notebook\")\n",
    "%model with just inorganic speciation\n",
    "%geochemical model\n",
    "% input the constants and solution chemistry\n",
    "flag0=0; %choose solver. 0 for tableau and 1 for phreeqc-based solver\n",
    "flag1=2; %flag1 for concentration based search vector (1) or for log based search vector (2).\n",
    "flag2=1; %flag2 for numerical derivatives (2) or analtyical derivatives (1)\n",
    "flag3=0; % flag3 1 for show warnings. 0 no warnings\n",
    "flag4=1; %if=1 solve tableau one line at a time to get a good initial guess (no solids). really challenging probs only\n",
    "flag5=0; %if=1 use stored initial guess for including solids\n",
    "\n",
    "TOTALS=[FeT; PT; ClT; NaT; HFOsi; HFOwi]';\n",
    "TOTALS(TOTALS==0)=1e-16; % get rid of zero values, b/c div by zero error\n",
    "\n",
    "for i=1:length(pH)\n",
    "    pHdislay=pH(i)\n",
    "    flag5=0;\n",
    "    %if i>1; flag5=1; end\n",
    "    [Fep3(i),HFO(i),HfowHPO4m(i),MASSERR(i)]=FeHPO4tableau(pH(i),pe(i),TOTALS',flag0,flag1,flag2,flag3,flag4,flag5); \n",
    "    if HFO(i)>0; % should make loop until HFO value converges, but from previous tests it converges fast.  one step was how I did the 2008 WER paper\n",
    "        HFOs=ASFs*HFO(i); HFOw=ASFw*HFO(i); \n",
    "        TOTALS=[FeT; PT; ClT; NaT; HFOs; HFOw]';\n",
    "        [Fep3(i),HFO(i),HfowHPO4m3(i),MASSERR(i)]=FeHPO4tableau(pH(i),pe(i),TOTALS',flag0,flag1,flag2,flag3,flag4,flag5);\n",
    "        DISP1=MASSERR(i)\n",
    "        if abs(MASSERR(i))>=1e-11;\n",
    "            flag5=0;\n",
    "            \n",
    "            pHtemp=pH(i)-1; petemp=peINT-pHtemp;\n",
    "            TOTALS=[FeT; PT; ClT; NaT; HFOs; HFOw]';\n",
    "            [Fep3(i),HFO(i),HfowHPO4m3(i),MASSERR(i)]=FeHPO4tableau(pHtemp,petemp,TOTALS',flag0,flag1,flag2,flag3,flag4,flag5);\n",
    "            DISP2=MASSERR(i)\n",
    "            \n",
    "            flag5=1;\n",
    "            \n",
    "            pHtemp=pH(i)-0.99; petemp=peINT-pHtemp;\n",
    "            HFOs=ASFs*HFO(i); HFOw=ASFw*HFO(i); \n",
    "            TOTALS=[FeT; PT; ClT; NaT; HFOs; HFOw]';\n",
    "            [Fep3(i),HFO(i),HfowHPO4m3(i),MASSERR(i)]=FeHPO4tableau(pHtemp,petemp,TOTALS',flag0,flag1,flag2,flag3,flag4,flag5);\n",
    "            DISP3=MASSERR(i)\n",
    "            \n",
    "            pHtemp=pH(i)-0.985; petemp=peINT-pHtemp;\n",
    "            HFOs=ASFs*HFO(i); HFOw=ASFw*HFO(i); \n",
    "            TOTALS=[FeT; PT; ClT; NaT; HFOs; HFOw]';\n",
    "            [Fep3(i),HFO(i),HfowHPO4m3(i),MASSERR(i)]=FeHPO4tableau(pHtemp,petemp,TOTALS',flag0,flag1,flag2,flag3,flag4,flag5);\n",
    "            DISP4=MASSERR(i)\n",
    "            \n",
    "            pHtemp=pH(i)-0.98; petemp=peINT-pHtemp;\n",
    "            HFOs=ASFs*HFO(i); HFOw=ASFw*HFO(i); \n",
    "            TOTALS=[FeT; PT; ClT; NaT; HFOs; HFOw]';\n",
    "            [Fep3(i),HFO(i),HfowHPO4m3(i),MASSERR(i)]=FeHPO4tableau(pHtemp,petemp,TOTALS',flag0,flag1,flag2,flag3,flag4,flag5);\n",
    "            DISP5=MASSERR(i)\n",
    "            \n",
    "            pHtemp=pH(i)-0.975; petemp=peINT-pHtemp;\n",
    "            HFOs=ASFs*HFO(i); HFOw=ASFw*HFO(i); \n",
    "            TOTALS=[FeT; PT; ClT; NaT; HFOs; HFOw]';\n",
    "            [Fep3(i),HFO(i),HfowHPO4m3(i),MASSERR(i)]=FeHPO4tableau(pHtemp,petemp,TOTALS',flag0,flag1,flag2,flag3,flag4,flag5);\n",
    "            DISP6=MASSERR(i)\n",
    "\n",
    "            pHtemp=pH(i)-0.97; petemp=peINT-pHtemp;\n",
    "            HFOs=ASFs*HFO(i); HFOw=ASFw*HFO(i); \n",
    "            TOTALS=[FeT; PT; ClT; NaT; HFOs; HFOw]';\n",
    "            [Fep3(i),HFO(i),HfowHPO4m3(i),MASSERR(i)]=FeHPO4tableau(pHtemp,petemp,TOTALS',flag0,flag1,flag2,flag3,flag4,flag5);\n",
    "            DISP7=MASSERR(i)\n",
    "            \n",
    "            pHtemp=pH(i)-0.94; petemp=peINT-pHtemp;\n",
    "            HFOs=ASFs*HFO(i); HFOw=ASFw*HFO(i); \n",
    "            TOTALS=[FeT; PT; ClT; NaT; HFOs; HFOw]';\n",
    "            [Fep3(i),HFO(i),HfowHPO4m3(i),MASSERR(i)]=FeHPO4tableau(pHtemp,petemp,TOTALS',flag0,flag1,flag2,flag3,flag4,flag5);\n",
    "            DISP8=MASSERR(i)\n",
    "            \n",
    "            pHtemp=pH(i)-0.93; petemp=peINT-pHtemp;\n",
    "            HFOs=ASFs*HFO(i); HFOw=ASFw*HFO(i); \n",
    "            TOTALS=[FeT; PT; ClT; NaT; HFOs; HFOw]';\n",
    "            [Fep3(i),HFO(i),HfowHPO4m3(i),MASSERR(i)]=FeHPO4tableau(pHtemp,petemp,TOTALS',flag0,flag1,flag2,flag3,flag4,flag5);\n",
    "            DISP9=MASSERR(i)\n",
    "            \n",
    "            pHtemp=pH(i)-0.90; petemp=peINT-pHtemp;\n",
    "            HFOs=ASFs*HFO(i); HFOw=ASFw*HFO(i); \n",
    "            TOTALS=[FeT; PT; ClT; NaT; HFOs; HFOw]';\n",
    "            [Fep3(i),HFO(i),HfowHPO4m3(i),MASSERR(i)]=FeHPO4tableau(pHtemp,petemp,TOTALS',flag0,flag1,flag2,flag3,flag4,flag5);\n",
    "            DISP10=MASSERR(i)\n",
    "            \n",
    "            HFOs=ASFs*HFO(i); HFOw=ASFw*HFO(i); \n",
    "            TOTALS=[FeT; PT; ClT; NaT; HFOs; HFOw]';\n",
    "            [Fep3(i),HFO(i),HfowHPO4m3(i),MASSERR(i)]=FeHPO4tableau(pH(i),pe(i),TOTALS',flag0,flag1,flag2,flag3,flag4,flag5);\n",
    "            DISP11=MASSERR(i)\n",
    "            \n",
    "            HFOs=ASFs*HFO(i); HFOw=ASFw*HFO(i); \n",
    "            TOTALS=[FeT; PT; ClT; NaT; HFOs; HFOw]';\n",
    "            [Fep3(i),HFO(i),HfowHPO4m3(i),MASSERR(i)]=FeHPO4tableau(pH(i),pe(i),TOTALS',flag0,flag1,flag2,flag3,flag4,flag5);\n",
    "            flag5=0;\n",
    "        end\n",
    "    end\n",
    "    dislay=[pH(i) Fep3(i) HFO(i) HfowHPO4m(i) MASSERR(i)]\n",
    "end"
   ]
  },
  {
   "cell_type": "code",
   "execution_count": 22,
   "id": "7ac03d3b-48de-410e-8913-4b0e21ec7fe0",
   "metadata": {},
   "outputs": [
    {
     "data": {
      "application/vnd.plotly.v1+json": {
       "data": [
        {
         "line": {
          "color": "rgb(0,113,188)",
          "dash": "solid",
          "width": 0.5
         },
         "marker": {
          "color": "rgb(0,113,188)",
          "line": {
           "color": "rgb(0,113,188)"
          },
          "size": 6,
          "symbol": "none"
         },
         "mode": "lines",
         "name": "Fe^{3+}",
         "showlegend": true,
         "type": "scatter",
         "visibility": true,
         "x": [
          3,
          4,
          5,
          6,
          7,
          8,
          9,
          10,
          11
         ],
         "xaxis": "x",
         "y": [
          1.0218191745673738e-06,
          3.5725854099800835e-08,
          7.78036551039804e-11,
          7.780365510398041e-14,
          7.780365510398009e-17,
          7.780365510398008e-20,
          null,
          null,
          null
         ],
         "yaxis": "y"
        },
        {
         "line": {
          "color": "rgb(216,82,24)",
          "dash": "solid",
          "width": 0.5
         },
         "marker": {
          "color": "rgb(216,82,24)",
          "line": {
           "color": "rgb(216,82,24)"
          },
          "size": 6,
          "symbol": "none"
         },
         "mode": "lines",
         "name": "HFO",
         "showlegend": true,
         "type": "scatter",
         "visibility": true,
         "x": [
          3,
          4,
          5,
          6,
          7,
          8,
          9,
          10,
          11
         ],
         "xaxis": "x",
         "y": [
          0,
          0,
          8.2648431399599e-06,
          9.81170785364246e-06,
          9.961736509920741e-06,
          9.974953291647167e-06,
          null,
          null,
          null
         ],
         "yaxis": "y"
        },
        {
         "line": {
          "color": "rgb(236,176,31)",
          "dash": "solid",
          "width": 0.5
         },
         "marker": {
          "color": "rgb(236,176,31)",
          "line": {
           "color": "rgb(236,176,31)"
          },
          "size": 6,
          "symbol": "none"
         },
         "mode": "lines",
         "name": "HFO-PO4",
         "showlegend": true,
         "type": "scatter",
         "visibility": true,
         "x": [
          3,
          4,
          5,
          6,
          7,
          8,
          9,
          10,
          11
         ],
         "xaxis": "x",
         "y": [
          3.749117914010686e-22,
          1.9139923558032217e-21,
          5.2918892092551796e-20,
          2.598142638354112e-07,
          3.834259548664364e-07,
          1.5888221505780922e-07,
          1846196334467.4521,
          null,
          null
         ],
         "yaxis": "y"
        },
        {
         "hoverinfo": "none",
         "line": {
          "color": "rgb(0,113,188)",
          "dash": "solid",
          "width": 0.5
         },
         "marker": {
          "color": "rgb(0,113,188)",
          "line": {
           "color": "rgb(0,113,188)"
          },
          "size": 6,
          "symbol": "none"
         },
         "mode": "lines",
         "name": "",
         "showlegend": false,
         "type": "scatter",
         "visibility": true,
         "x": [
          3,
          18
         ],
         "xaxis": "x2",
         "y": [
          6.808727361684472,
          6.808727361684472
         ],
         "yaxis": "y2"
        },
        {
         "hoverinfo": "none",
         "line": {
          "color": "rgb(216,82,24)",
          "dash": "solid",
          "width": 0.5
         },
         "marker": {
          "color": "rgb(216,82,24)",
          "line": {
           "color": "rgb(216,82,24)"
          },
          "size": 6,
          "symbol": "none"
         },
         "mode": "lines",
         "name": "",
         "showlegend": false,
         "type": "scatter",
         "visibility": true,
         "x": [
          3,
          18
         ],
         "xaxis": "x2",
         "y": [
          16.767454723368942,
          16.767454723368942
         ],
         "yaxis": "y2"
        },
        {
         "hoverinfo": "none",
         "line": {
          "color": "rgb(236,176,31)",
          "dash": "solid",
          "width": 0.5
         },
         "marker": {
          "color": "rgb(236,176,31)",
          "line": {
           "color": "rgb(236,176,31)"
          },
          "size": 6,
          "symbol": "none"
         },
         "mode": "lines",
         "name": "",
         "showlegend": false,
         "type": "scatter",
         "visibility": true,
         "x": [
          3,
          18
         ],
         "xaxis": "x2",
         "y": [
          26.067454723368943,
          26.067454723368943
         ],
         "yaxis": "y2"
        }
       ],
       "layout": {
        "annotations": [
         {
          "font": {
           "color": "rgb(0,0,0)",
           "size": 9
          },
          "showarrow": false,
          "text": "Fe<sup>3+</sup>",
          "x": 21,
          "xanchor": "left",
          "xref": "x2",
          "y": 6.808727361684472,
          "yanchor": "middle",
          "yref": "y2"
         },
         {
          "font": {
           "color": "rgb(0,0,0)",
           "size": 9
          },
          "showarrow": false,
          "text": "HFO",
          "x": 21,
          "xanchor": "left",
          "xref": "x2",
          "y": 16.767454723368942,
          "yanchor": "middle",
          "yref": "y2"
         },
         {
          "font": {
           "color": "rgb(0,0,0)",
           "size": 9
          },
          "showarrow": false,
          "text": "HFO-PO4",
          "x": 21,
          "xanchor": "left",
          "xref": "x2",
          "y": 26.067454723368943,
          "yanchor": "middle",
          "yref": "y2"
         }
        ],
        "height": 420,
        "hovermode": "closest",
        "margin": {
         "b": 0,
         "l": 0,
         "r": 0,
         "t": 0
        },
        "plot_bgcolor": "rgba(0,0,0,0)",
        "showlegend": false,
        "width": 560,
        "xaxis": {
         "anchor": "y",
         "autorange": false,
         "domain": [
          0.13,
          0.8459644990932127
         ],
         "exponentformat": "none",
         "gridcolor": "rgba(38,38,38,0.15)",
         "gridwidth": 1,
         "linecolor": "rgb(38,38,38)",
         "linewidth": 1,
         "mirror": "ticks",
         "range": [
          2,
          12
         ],
         "showgrid": false,
         "showline": true,
         "side": "bottom",
         "spikedash": "solid",
         "spikemode": "across",
         "spikesides": false,
         "spikethickness": 1,
         "tickangle": 0,
         "tickcolor": "rgb(38,38,38)",
         "tickfont": {
          "color": "rgb(38,38,38)",
          "size": 10
         },
         "ticklen": 3,
         "ticks": "inside",
         "ticktext": [
          "2",
          "4",
          "6",
          "8",
          "10",
          "12"
         ],
         "tickvals": [
          2,
          4,
          6,
          8,
          10,
          12
         ],
         "title": {
          "font": {
           "color": "rgb(38,38,38)",
           "size": 11
          },
          "text": "pH"
         },
         "type": "linear",
         "visible": true,
         "zeroline": false
        },
        "xaxis2": {
         "anchor": "y2",
         "autorange": false,
         "domain": [
          0.8600299397205343,
          0.9859345593726783
         ],
         "exponentformat": "none",
         "fixedrange": true,
         "gridcolor": "rgba(38,38,38,0.15)",
         "gridwidth": 1,
         "linecolor": "rgb(38,38,38)",
         "linewidth": 1,
         "mirror": true,
         "range": [
          0,
          53.70807342113892
         ],
         "showgrid": false,
         "showline": true,
         "showspikes": false,
         "side": "bottom",
         "spikedash": "solid",
         "spikemode": "across",
         "spikesides": false,
         "spikethickness": 1,
         "tickangle": 0,
         "tickcolor": "rgb(38,38,38)",
         "tickfont": {
          "color": "rgb(38,38,38)",
          "size": 9
         },
         "ticklen": 3,
         "ticks": "",
         "ticktext": [],
         "tickvals": [],
         "title": {
          "font": {
           "color": "rgb(0,0,0)",
           "size": 9.9
          },
          "text": ""
         },
         "type": "linear",
         "visible": true,
         "zeroline": false
        },
        "yaxis": {
         "anchor": "x",
         "autorange": false,
         "domain": [
          0.10999999999999999,
          0.9249999999999997
         ],
         "exponentformat": "none",
         "gridcolor": "rgba(38,38,38,0.15)",
         "gridwidth": 1,
         "linecolor": "rgb(38,38,38)",
         "linewidth": 1,
         "mirror": "ticks",
         "range": [
          0,
          2000000000000
         ],
         "showgrid": false,
         "showline": true,
         "side": "left",
         "spikedash": "solid",
         "spikemode": "across",
         "spikesides": false,
         "spikethickness": 1,
         "tickangle": 0,
         "tickcolor": "rgb(38,38,38)",
         "tickfont": {
          "color": "rgb(38,38,38)",
          "size": 10
         },
         "ticklen": 3,
         "ticks": "inside",
         "ticktext": [
          "0",
          "5e+11",
          "1e+12",
          "1.5e+12",
          "2e+12"
         ],
         "tickvals": [
          0,
          500000000000,
          1000000000000,
          1500000000000,
          2000000000000
         ],
         "title": {
          "font": {
           "color": "rgb(38,38,38)",
           "size": 11
          },
          "text": "[species]"
         },
         "type": "linear",
         "visible": true,
         "zeroline": false
        },
        "yaxis2": {
         "anchor": "x2",
         "autorange": false,
         "domain": [
          0.46714970038055864,
          0.567850299619441
         ],
         "exponentformat": "none",
         "fixedrange": true,
         "gridcolor": "rgba(38,38,38,0.15)",
         "gridwidth": 1,
         "linecolor": "rgb(38,38,38)",
         "linewidth": 1,
         "mirror": true,
         "range": [
          32.217454723368945,
          0
         ],
         "showgrid": false,
         "showline": true,
         "showspikes": false,
         "side": "left",
         "spikedash": "solid",
         "spikemode": "across",
         "spikesides": false,
         "spikethickness": 1,
         "tickangle": 0,
         "tickcolor": "rgb(38,38,38)",
         "tickfont": {
          "color": "rgb(38,38,38)",
          "size": 9
         },
         "ticklen": 3,
         "ticks": "",
         "ticktext": [],
         "tickvals": [],
         "title": {
          "font": {
           "color": "rgb(0,0,0)",
           "size": 9.9
          },
          "text": ""
         },
         "type": "linear",
         "visible": true,
         "zeroline": false
        }
       }
      },
      "image/png": "[encoded data removed]"
     },
     "metadata": {},
     "output_type": "display_data"
    }
   ],
   "source": [
    "%graphics_toolkit (\"notebook\"); \n",
    "%graphics_toolkit (\"gnuplot\"); \n",
    "%graphics_toolkit (\"plotly\");\n",
    "\n",
    "plot(pH,Fep3,pH,HFO,pH,HfowHPO4m)\n",
    "xlabel('pH'); ylabel('[species]'); legend('Fe^{3+}','HFO','HFO-PO4','location','eastoutside')\n",
    "\n"
   ]
  },
  {
   "cell_type": "code",
   "execution_count": null,
   "id": "cf234569-14d3-4f80-b219-6b64aa57b6bf",
   "metadata": {},
   "outputs": [],
   "source": []
  }
 ],
 "metadata": {
  "kernelspec": {
   "display_name": "Octave (xoctave)",
   "language": "Octave",
   "name": "xoctave"
  },
  "language_info": {
   "codemirror_mode": "octave",
   "file_extension": ".m",
   "mimetype": "text/x-octave",
   "name": "Octave",
   "nbconvert_exporter": "",
   "pygments_lexer": "octave",
   "version": "8.4.0"
  }
 },
 "nbformat": 4,
 "nbformat_minor": 5
}
