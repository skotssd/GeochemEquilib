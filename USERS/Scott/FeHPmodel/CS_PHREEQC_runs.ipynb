{
 "cells": [
  {
   "cell_type": "code",
   "execution_count": 1,
   "id": "667d1541-5735-4555-a2f7-0bdb47039edb",
   "metadata": {
    "tags": []
   },
   "outputs": [],
   "source": [
    "% setup environment\n",
    "% clear data and number format\n",
    "clear; format short e\n",
    "% set path to equilibrium solver\n",
    "txt=pwd; n=length(txt); rootpath=txt;\n",
    "n=strfind(rootpath,\"USERS\"); rootpath=txt(1:n-2);\n",
    "PHREEQCpath=[rootpath,'/runPHREEQC'];\n",
    "addpath(PHREEQCpath);\n",
    "JEQUILIBpath=[rootpath,'/JEQUILIB'];\n",
    "addpath(JEQUILIBpath);\n",
    "% turn off warnings\n",
    "warning off\n",
    "%graphics_toolkit (\"notebook\");\n",
    "graphics_toolkit (\"plotly\");\n",
    "%graphics_toolkit(\"gnuplot\")\n",
    "%delete existing phreeqc files\n",
    "system(\"rm DATABASE.dat\");\n",
    "system(\"rm runfile.txt\");\n",
    "%create empty phreeqc files\n",
    "system(\"touch DATABASE.dat\");\n",
    "system(\"touch runfile.txt\");"
   ]
  },
  {
   "cell_type": "code",
   "execution_count": 2,
   "id": "058d3f94-03c0-46c0-9025-50203082e2f5",
   "metadata": {
    "tags": []
   },
   "outputs": [],
   "source": [
    "% define equilibrium problem\n",
    "\n",
    "%FeT=1e-5; PT=1e-4; NaT=3*PT; ClT=3*FeT; T=25; HFOsi=1e-30; HFOwi=1e-30; ASFw=1; ASFs=1;\n",
    "%pH=2:0.2:11;\n",
    "FeT=1e-4/0.997; PT=1e-6/0.997; NaT=3*PT; ClT=3*FeT; T=25; HFOsi=1e-30; HFOwi=1e-30; ASFw=0.2; ASFs=0.005; %/0.997 to mmol/kg at 25C\n",
    "pH=2:0.2:12;\n",
    "\n",
    "\n",
    "% set redox level ------------------------\n",
    "peINT=20.75; %oxic\n",
    "%peINT=15.75; %less oxic\n",
    "%peINT=10.75; %getting reducing\n",
    "%peINT=5.75; %pretty reducing\n",
    "%peINT=0; % maximum reducing\n",
    "\n",
    "pe=peINT-pH;% oxic end\n",
    "\n",
    "% ──────────── pre-alocar resultados ────────────\n",
    "nPts        = numel(pH);\n",
    "Fep3        = zeros(1,nPts);   % Fe3+ acuoso\n",
    "HFO         = zeros(1,nPts);   % Fe(OH)3(s)\n",
    "HFO_P_ads   = zeros(1,nPts);   % PO4 adsorbido total (fuerte+débil)\n",
    "FePO4s      = zeros(1,nPts);   % Fe(PO4)(s)  (strengite)\n",
    "Fe3PO42s    = zeros(1,nPts);   % Fe3(PO4)2(s) (vivianita)\n",
    "MASSERR     = zeros(1,nPts);   % error de masa %\n",
    "ErrComp_store = cell(1, nPts); % Un cell array para guardar los nombres\n"
   ]
  },
  {
   "cell_type": "code",
   "execution_count": null,
   "id": "20061d7d-c68f-4639-b359-558574d64452",
   "metadata": {
    "tags": []
   },
   "outputs": [],
   "source": [
    "% === MODELO USANDO PHREEQC (flag0 = 1) =========================\n",
    "flag0 = 1;   flag1 = 2;  flag2 = 1;  flag3 = 0;  flag4 = 1;  flag5 = 0;\n",
    "\n",
    "TOTALS = [FeT; PT; ClT; NaT; HFOsi; HFOwi]';\n",
    "TOTALS(TOTALS==0) = 1e-16;          % evitar div/0\n",
    "\n",
    "% --- INICIO DE MEDICIÓN DE TIEMPO ---\n",
    "tic; % Inicia el cronómetro para el tiempo de reloj (wall time)\n",
    "t_cpu_inicio = cputime; % Guarda el tiempo de CPU inicial\n",
    "\n",
    "for i = 1:numel(pH)\n",
    "    % ---- primera corrida (sin “site” actualizado) ----\n",
    "    [Fep3(i), HFO(i), HFO_P_ads(i), ...\n",
    "     FePO4s(i), Fe3PO42s(i), MASSERR(i), ErrComp_store{i}] = ...\n",
    "        FeHPO4tableau_CS(pH(i), pe(i), TOTALS', ...\n",
    "                         flag0,flag1,flag2,flag3,flag4,flag5);\n",
    "\n",
    "    % ---- si precipitó HFO, volver a resolver con sitios escalados ----\n",
    "    if HFO(i) > 0\n",
    "        HFOs   = ASFs * HFO(i);\n",
    "        HFOw   = ASFw * HFO(i);\n",
    "        TOTALS = [FeT; PT; ClT; NaT; HFOs; HFOw]';\n",
    "\n",
    "        [Fep3(i), HFO(i), HFO_P_ads(i), ...\n",
    "         FePO4s(i), Fe3PO42s(i), MASSERR(i), ErrComp_store{i}] = ...\n",
    "            FeHPO4tableau_CS(pH(i), pe(i), TOTALS', ...\n",
    "                             flag0,flag1,flag2,flag3,flag4,flag5);\n",
    "    end\n",
    "\n",
    "    %disp([pH(i) Fep3(i) HFO(i) HFO_P_ads(i) FePO4s(i) Fe3PO42s(i) MASSERR(i)])\n",
    "end\n",
    "\n",
    "% --- FIN DE MEDICIÓN Y REPORTE ---\n",
    "tiempo_wall = toc; % Detiene el cronómetro y obtiene el tiempo de reloj transcurrido\n",
    "tiempo_cpu = cputime - t_cpu_inicio; % Calcula el tiempo de CPU transcurrido\n",
    "\n",
    "% Muestra los resultados en la consola\n",
    "fprintf('\\n--- Tiempos de Ejecución del Bucle ---\\n');\n",
    "fprintf('Tiempo de reloj (wall time): %.4f segundos\\n', tiempo_wall);\n",
    "fprintf('Tiempo de CPU:               %.4f segundos\\n', tiempo_cpu);\n"
   ]
  },
  {
   "cell_type": "code",
   "execution_count": null,
   "id": "7be361dd-f1bc-4017-a8da-1b77623e120c",
   "metadata": {
    "tags": []
   },
   "outputs": [],
   "source": [
    "plot(pH, Fep3,  ...\n",
    "     pH, HFO,  ...\n",
    "     pH, HFO_P_ads, ...\n",
    "     pH, FePO4s, ...\n",
    "     pH, Fe3PO42s)\n",
    "\n",
    "xlabel('pH');\n",
    "ylabel('[concentración mol kg^{-1}_{w}]');\n",
    "legend({'Fe^{3+}_{(aq)}', ...\n",
    "        'Fe(OH)_3(s)', ...\n",
    "        'PO_4 ads', ...\n",
    "        'FePO_4(s)', ...\n",
    "        'Fe_3(PO_4)_2(s)'}, ...\n",
    "        'location','eastoutside');\n"
   ]
  },
  {
   "cell_type": "code",
   "execution_count": null,
   "id": "f263e707-2a35-41c1-b71c-fd6533518b6c",
   "metadata": {
    "tags": []
   },
   "outputs": [],
   "source": [
    "% --- CELDA 5: GRÁFICA DE ERROR ---\n",
    "figure;\n",
    "plot(pH, MASSERR, '-o', 'LineWidth', 1.5);\n",
    "xlabel('pH');\n",
    "ylabel('Error Máximo de Balance de Masa');\n",
    "title('Error de la Simulación vs. pH');\n",
    "grid on;"
   ]
  },
  {
   "cell_type": "code",
   "execution_count": null,
   "id": "f0c6a9c3-47b1-4aa1-92c3-933650023812",
   "metadata": {
    "tags": []
   },
   "outputs": [],
   "source": [
    "quickRun = struct( ...\n",
    "    \"pH\",           pH(:),        ...\n",
    "    \"Fe3_aq\",       Fep3(:),      ...\n",
    "    \"FeOH3s\",       HFO(:),       ...\n",
    "    \"HFO_P_ads\",    HFO_P_ads(:), ...\n",
    "    \"FePO4s\",       FePO4s(:),    ...\n",
    "    \"Fe3PO42s\",     Fe3PO42s(:),  ...\n",
    "    \"MassErr\",      abs(MASSERR(:)),...    \n",
    "    \"TimeWall_s\",  tiempo_wall,  ... \n",
    "    \"TimeCPU_s\",   tiempo_cpu    ... \n",
    ");\n",
    "\n",
    "save(\"-v7\", \"phreeqc_runsCS.mat\", \"quickRun\");\n",
    "printf(\"\\nquickRun guardado con los datos de la sesión rápida.\\n\");\n"
   ]
  },
  {
   "cell_type": "code",
   "execution_count": 7,
   "id": "8df5246a-931b-48df-986d-20f87111f296",
   "metadata": {
    "tags": []
   },
   "outputs": [
    {
     "data": {
      "text/plain": [
       "ErrComp_store = {\n",
       "  [1,1] = Fe\n",
       "  [1,2] = Fe\n",
       "  [1,3] = Fe\n",
       "  [1,4] = Fe\n",
       "  [1,5] = Fe\n",
       "  [1,6] = Fe\n",
       "  [1,7] = Fe\n",
       "  [1,8] = Fe\n",
       "  [1,9] = Fe\n",
       "  [1,10] = Fe\n",
       "  [1,11] = Fe\n",
       "  [1,12] = Fe\n",
       "  [1,13] = Fe\n",
       "  [1,14] = Fe\n",
       "  [1,15] = Fe\n",
       "  [1,16] = Fe\n",
       "  [1,17] = Fe\n",
       "  [1,18] = Fe\n",
       "  [1,19] = Fe\n",
       "  [1,20] = Fe\n",
       "  [1,21] = Fe\n",
       "  [1,22] = Fe\n",
       "  [1,23] = Fe\n",
       "  [1,24] = Fe\n",
       "  [1,25] = Fe\n",
       "  [1,26] = Fe\n",
       "  [1,27] = Fe\n",
       "  [1,28] = Fe\n",
       "  [1,29] = Fe\n",
       "  [1,30] = Fe\n",
       "  [1,31] = Fe\n",
       "  [1,32] = Fe\n",
       "  [1,33] = Fe\n",
       "  [1,34] = Fe\n",
       "  [1,35] = Fe\n",
       "  [1,36] = Fe\n",
       "  [1,37] = Fe\n",
       "  [1,38] = Fe\n",
       "  [1,39] = Fe\n",
       "  [1,40] = Fe\n",
       "  [1,41] = Fe\n",
       "  [1,42] = Fe\n",
       "  [1,43] = Fe\n",
       "  [1,44] = Fe\n",
       "  [1,45] = Fe\n",
       "  [1,46] = Fe\n",
       "  [1,47] = Fe\n",
       "  [1,48] = Fe\n",
       "  [1,49] = Hfow\n",
       "  [1,50] = Fe\n",
       "  [1,51] = Fe\n",
       "}\n"
      ]
     },
     "metadata": {},
     "output_type": "display_data"
    }
   ],
   "source": [
    "ErrComp_store"
   ]
  },
  {
   "cell_type": "code",
   "execution_count": 8,
   "id": "5b6213f5-e48f-4462-8788-f6f9592ec48b",
   "metadata": {
    "tags": []
   },
   "outputs": [
    {
     "data": {
      "text/plain": [
       "pH =  Columns 1 through 5:\n",
       "\n",
       "    2.0000e+00    2.2000e+00    2.4000e+00    2.6000e+00    2.8000e+00\n",
       "\n",
       " Columns 6 through 10:\n",
       "\n",
       "    3.0000e+00    3.2000e+00    3.4000e+00    3.6000e+00    3.8000e+00\n",
       "\n",
       " Columns 11 through 15:\n",
       "\n",
       "    4.0000e+00    4.2000e+00    4.4000e+00    4.6000e+00    4.8000e+00\n",
       "\n",
       " Columns 16 through 20:\n",
       "\n",
       "    5.0000e+00    5.2000e+00    5.4000e+00    5.6000e+00    5.8000e+00\n",
       "\n",
       " Columns 21 through 25:\n",
       "\n",
       "    6.0000e+00    6.2000e+00    6.4000e+00    6.6000e+00    6.8000e+00\n",
       "\n",
       " Columns 26 through 30:\n",
       "\n",
       "    7.0000e+00    7.2000e+00    7.4000e+00    7.6000e+00    7.8000e+00\n",
       "\n",
       " Columns 31 through 35:\n",
       "\n",
       "    8.0000e+00    8.2000e+00    8.4000e+00    8.6000e+00    8.8000e+00\n",
       "\n",
       " Columns 36 through 40:\n",
       "\n",
       "    9.0000e+00    9.2000e+00    9.4000e+00    9.6000e+00    9.8000e+00\n",
       "\n",
       " Columns 41 through 45:\n",
       "\n",
       "    1.0000e+01    1.0200e+01    1.0400e+01    1.0600e+01    1.0800e+01\n",
       "\n",
       " Columns 46 through 50:\n",
       "\n",
       "    1.1000e+01    1.1200e+01    1.1400e+01    1.1600e+01    1.1800e+01\n",
       "\n",
       " Column 51:\n",
       "\n",
       "    1.2000e+01\n"
      ]
     },
     "metadata": {},
     "output_type": "display_data"
    }
   ],
   "source": [
    "pH"
   ]
  },
  {
   "cell_type": "code",
   "execution_count": null,
   "id": "2bb29b6e-7d1c-4f9c-bd2a-1e72fbc6dc57",
   "metadata": {},
   "outputs": [],
   "source": []
  }
 ],
 "metadata": {
  "kernelspec": {
   "display_name": "Octave (xoctave)",
   "language": "Octave",
   "name": "xoctave"
  },
  "language_info": {
   "codemirror_mode": "octave",
   "file_extension": ".m",
   "mimetype": "text/x-octave",
   "name": "Octave",
   "nbconvert_exporter": "",
   "pygments_lexer": "octave",
   "version": "7.3.0"
  }
 },
 "nbformat": 4,
 "nbformat_minor": 5
}
