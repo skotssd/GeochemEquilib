{
 "cells": [
  {
   "cell_type": "code",
   "execution_count": 13,
   "id": "f652ea83-6532-4ab6-bd0d-f82baf023909",
   "metadata": {},
   "outputs": [],
   "source": [
    "% setup environment\n",
    "% clear data and number format\n",
    "clear; format short e\n",
    "% set path to equilibrium solver\n",
    "txt=pwd; n=length(txt); rootpath=txt;\n",
    "n=strfind(rootpath,\"USERS\"); rootpath=txt(1:n-2);\n",
    "PHREEQCpath=[rootpath,'/runPHREEQC'];\n",
    "addpath(PHREEQCpath);\n",
    "JEQUILIBpath=[rootpath,'/JEQUILIB'];\n",
    "addpath(JEQUILIBpath);\n",
    "% turn off warnings\n",
    "warning off\n",
    "%graphics_toolkit (\"notebook\"); \n",
    "graphics_toolkit (\"plotly\"); \n",
    "%graphics_toolkit(\"gnuplot\")\n",
    "%delete existing phreeqc files\n",
    "system(\"rm DATABASE.dat\");\n",
    "system(\"rm runfile.txt\");\n",
    "%create empty phreeqc files\n",
    "system(\"touch DATABASE.dat\");\n",
    "system(\"touch runfile.txt\");"
   ]
  },
  {
   "cell_type": "markdown",
   "id": "6147551b-13a3-4aed-86dc-7022f3f4cc90",
   "metadata": {},
   "source": [
    "# RESULT OF TESTING\n",
    "\n",
    "seems that only the logX with analytical derivatives works best.  I did find some situations that didn't converge.  so I added in some code to make more acidic and more oxic and step towards the answer that way.  doesn't seem to work but the idea is ok.  should check how I do this in the source search file returnspeciationRE or whatever it is called.\n",
    "\n",
    "X based search didn't work though.  that's fine.  I could probably revise the search method but I like the log one better anyway."
   ]
  },
  {
   "cell_type": "code",
   "execution_count": 14,
   "id": "506d65c0-5336-470f-a8d4-c7eadca02061",
   "metadata": {},
   "outputs": [],
   "source": [
    "% define equilibrium problem\n",
    "\n",
    "FeT=1e-5; PT=1e-6; NaT=3*PT; ClT=3*FeT; T=25; HFOsi=1e-30; HFOwi=1e-30; ASFw=1; ASFs=1; \n",
    "pH=3:1:11; \n",
    "\n",
    "% set redox level ------------------------\n",
    "peINT=20.75; %oxic\n",
    "%peINT=15.75; %less oxic\n",
    "%peINT=10.75; %getting reducing\n",
    "%peINT=5.75; %pretty reducing\n",
    "%peINT=0; % maximum reducing\n",
    "\n",
    "pe=peINT-pH;% oxic end\n"
   ]
  },
  {
   "cell_type": "code",
   "execution_count": 15,
   "id": "501091b8-f0fd-49bf-9893-43754d442941",
   "metadata": {},
   "outputs": [
    {
     "data": {
      "text/html": [
       "<table><tr><th><i>dislay<i></th><th>1</th><th>2</th><th>3</th><th>4</th><th>5</th></tr><tr><th>1</th><td>3</td><td>1.02187e-06</td><td>0</td><td>1e-99</td><td>-4.06576e-19</td></tr></table>"
      ],
      "text/plain": [
       "dislay =    3.0000e+00   1.0219e-06            0   1.0000e-99  -4.0658e-19\n"
      ]
     },
     "metadata": {},
     "output_type": "display_data"
    },
    {
     "data": {
      "text/html": [
       "<table><tr><th><i>dislay<i></th><th>1</th><th>2</th><th>3</th><th>4</th><th>5</th></tr><tr><th>1</th><td>4</td><td>3.57271e-08</td><td>0</td><td>1e-99</td><td>-2.24819e-17</td></tr></table>"
      ],
      "text/plain": [
       "dislay =    4.0000e+00   3.5727e-08            0   1.0000e-99  -2.2482e-17\n"
      ]
     },
     "metadata": {},
     "output_type": "display_data"
    },
    {
     "data": {
      "text/html": [
       "<table><tr><th><i>dislay<i></th><th>1</th><th>2</th><th>3</th><th>4</th><th>5</th></tr><tr><th>1</th><td>5</td><td>7.78072e-11</td><td>8.26482e-06</td><td>1e-99</td><td>-3.81634e-12</td></tr></table>"
      ],
      "text/plain": [
       "dislay =    5.0000e+00   7.7807e-11   8.2648e-06   1.0000e-99  -3.8163e-12\n"
      ]
     },
     "metadata": {},
     "output_type": "display_data"
    },
    {
     "data": {
      "text/html": [
       "<table><tr><th><i>dislay<i></th><th>1</th><th>2</th><th>3</th><th>4</th><th>5</th></tr><tr><th>1</th><td>6</td><td>7.78071e-14</td><td>9.81171e-06</td><td>2.59814e-07</td><td>5.36091e-10</td></tr></table>"
      ],
      "text/plain": [
       "dislay =    6.0000e+00   7.7807e-14   9.8117e-06   2.5981e-07   5.3609e-10\n"
      ]
     },
     "metadata": {},
     "output_type": "display_data"
    },
    {
     "data": {
      "text/html": [
       "<table><tr><th><i>dislay<i></th><th>1</th><th>2</th><th>3</th><th>4</th><th>5</th></tr><tr><th>1</th><td>7</td><td>7.78071e-17</td><td>9.96174e-06</td><td>3.83426e-07</td><td>3.75563e-08</td></tr></table>"
      ],
      "text/plain": [
       "dislay =    7.0000e+00   7.7807e-17   9.9617e-06   3.8343e-07   3.7556e-08\n"
      ]
     },
     "metadata": {},
     "output_type": "display_data"
    },
    {
     "data": {
      "text/html": [
       "<table><tr><th><i>dislay<i></th><th>1</th><th>2</th><th>3</th><th>4</th><th>5</th></tr><tr><th>1</th><td>8</td><td>7.78072e-20</td><td>9.97495e-06</td><td>1.58882e-07</td><td>8.4812e-07</td></tr></table>"
      ],
      "text/plain": [
       "dislay =    8.0000e+00   7.7807e-20   9.9750e-06   1.5888e-07   8.4812e-07\n"
      ]
     },
     "metadata": {},
     "output_type": "display_data"
    },
    {
     "data": {
      "text/html": [
       "<table><tr><th><i>dislay<i></th><th>1</th><th>2</th><th>3</th><th>4</th><th>5</th></tr><tr><th>1</th><td>9</td><td>7.78072e-23</td><td>9.95886e-06</td><td>2.23409e-08</td><td>5.06433e-06</td></tr></table>"
      ],
      "text/plain": [
       "dislay =    9.0000e+00   7.7807e-23   9.9589e-06   2.2341e-08   5.0643e-06\n"
      ]
     },
     "metadata": {},
     "output_type": "display_data"
    },
    {
     "data": {
      "text/html": [
       "<table><tr><th><i>dislay<i></th><th>1</th><th>2</th><th>3</th><th>4</th><th>5</th></tr><tr><th>1</th><td>10</td><td>7.78076e-26</td><td>9.78312e-06</td><td>2.32779e-09</td><td>8.55367e-06</td></tr></table>"
      ],
      "text/plain": [
       "dislay =    1.0000e+01   7.7808e-26   9.7831e-06   2.3278e-09   8.5537e-06\n"
      ]
     },
     "metadata": {},
     "output_type": "display_data"
    },
    {
     "data": {
      "text/html": [
       "<table><tr><th><i>dislay<i></th><th>1</th><th>2</th><th>3</th><th>4</th><th>5</th></tr><tr><th>1</th><td>11</td><td>7.78112e-29</td><td>8.02429e-06</td><td>2.33758e-10</td><td>7.46078e-06</td></tr></table>"
      ],
      "text/plain": [
       "dislay =    1.1000e+01   7.7811e-29   8.0243e-06   2.3376e-10   7.4608e-06\n"
      ]
     },
     "metadata": {},
     "output_type": "display_data"
    }
   ],
   "source": [
    "% MODEL USING TABLEAU (different gradients or log versus linear variables)\n",
    "%graphics_toolkit(\"notebook\")\n",
    "%model with just inorganic speciation\n",
    "%geochemical model\n",
    "% input the constants and solution chemistry\n",
    "flag0=1; %choose solver. 0 for tableau and 1 for phreeqc-based solver\n",
    "flag1=2; %flag1 for concentration based search vector (1) or for log based search vector (2).\n",
    "flag2=1; %flag2 for numerical derivatives (2) or analtyical derivatives (1)\n",
    "flag3=0; % flag3 1 for show warnings. 0 no warnings\n",
    "flag4=1; %if=1 solve tableau one line at a time to get a good initial guess (no solids). really challenging probs only\n",
    "flag5=0; %if=1 use stored initial guess for including solids\n",
    "\n",
    "TOTALS=[FeT; PT; ClT; NaT; HFOsi; HFOwi]';\n",
    "TOTALS(TOTALS==0)=1e-16; % get rid of zero values, b/c div by zero error\n",
    "\n",
    "for i=1:length(pH)\n",
    "    flag5=0; % flags ignored for PHREEQC anyway.\n",
    "    %if i>1; flag5=1; end\n",
    "    [Fep3(i),HFO(i),HfowHPO4m(i),MASSERR(i)]=FeHPO4tableau(pH(i),pe(i),TOTALS',flag0,flag1,flag2,flag3,flag4,flag5); \n",
    "    if HFO(i)>0; % should make loop until HFO value converges, but from previous tests it converges fast.  one step was how I did the 2008 WER paper\n",
    "        HFOs=ASFs*HFO(i); HFOw=ASFw*HFO(i); \n",
    "        TOTALS=[FeT; PT; ClT; NaT; HFOs; HFOw]';\n",
    "        [Fep3(i),HFO(i),HfowHPO4m3(i),MASSERR(i)]=FeHPO4tableau(pH(i),pe(i),TOTALS',flag0,flag1,flag2,flag3,flag4,flag5);\n",
    "    end\n",
    "    dislay=[pH(i) Fep3(i) HFO(i) HfowHPO4m(i) MASSERR(i)]\n",
    "end"
   ]
  },
  {
   "cell_type": "code",
   "execution_count": 16,
   "id": "7ac03d3b-48de-410e-8913-4b0e21ec7fe0",
   "metadata": {},
   "outputs": [
    {
     "data": {
      "application/vnd.plotly.v1+json": {
       "data": [
        {
         "line": {
          "color": "rgb(0,113,188)",
          "dash": "solid",
          "width": 0.5
         },
         "marker": {
          "color": "rgb(0,113,188)",
          "line": {
           "color": "rgb(0,113,188)"
          },
          "size": 6,
          "symbol": "none"
         },
         "mode": "lines",
         "name": "Fe^{3+}",
         "showlegend": true,
         "type": "scatter",
         "visibility": true,
         "x": [
          3,
          4,
          5,
          6,
          7,
          8,
          9,
          10,
          11
         ],
         "xaxis": "x",
         "y": [
          1.0218685979389996e-06,
          3.572706295351e-08,
          7.780716555053e-11,
          7.780713475582001e-14,
          7.780714974263999e-17,
          7.780717046246e-20,
          7.780722422935002e-23,
          7.780759701891001e-26,
          7.781115787192001e-29
         ],
         "yaxis": "y"
        },
        {
         "line": {
          "color": "rgb(216,82,24)",
          "dash": "solid",
          "width": 0.5
         },
         "marker": {
          "color": "rgb(216,82,24)",
          "line": {
           "color": "rgb(216,82,24)"
          },
          "size": 6,
          "symbol": "none"
         },
         "mode": "lines",
         "name": "HFO",
         "showlegend": true,
         "type": "scatter",
         "visibility": true,
         "x": [
          3,
          4,
          5,
          6,
          7,
          8,
          9,
          10,
          11
         ],
         "xaxis": "x",
         "y": [
          0,
          0,
          8.264817878318e-06,
          9.811705398959001e-06,
          9.961736266718002e-06,
          9.974953295974e-06,
          9.958861650448e-06,
          9.783123779712997e-06,
          8.024292505734999e-06
         ],
         "yaxis": "y"
        },
        {
         "line": {
          "color": "rgb(236,176,31)",
          "dash": "solid",
          "width": 0.5
         },
         "marker": {
          "color": "rgb(236,176,31)",
          "line": {
           "color": "rgb(236,176,31)"
          },
          "size": 6,
          "symbol": "none"
         },
         "mode": "lines",
         "name": "HFO-PO4",
         "showlegend": true,
         "type": "scatter",
         "visibility": true,
         "x": [
          3,
          4,
          5,
          6,
          7,
          8,
          9,
          10,
          11
         ],
         "xaxis": "x",
         "y": [
          9.999999999999998e-100,
          9.999999999999998e-100,
          9.999999999999998e-100,
          2.598143027162e-07,
          3.8342598431299993e-07,
          1.5888221444760002e-07,
          2.234085198875e-08,
          2.327786471421e-09,
          2.337581998326e-10
         ],
         "yaxis": "y"
        },
        {
         "hoverinfo": "none",
         "line": {
          "color": "rgb(0,113,188)",
          "dash": "solid",
          "width": 0.5
         },
         "marker": {
          "color": "rgb(0,113,188)",
          "line": {
           "color": "rgb(0,113,188)"
          },
          "size": 6,
          "symbol": "none"
         },
         "mode": "lines",
         "name": "",
         "showlegend": false,
         "type": "scatter",
         "visibility": true,
         "x": [
          3,
          18
         ],
         "xaxis": "x2",
         "y": [
          6.808727361684472,
          6.808727361684472
         ],
         "yaxis": "y2"
        },
        {
         "hoverinfo": "none",
         "line": {
          "color": "rgb(216,82,24)",
          "dash": "solid",
          "width": 0.5
         },
         "marker": {
          "color": "rgb(216,82,24)",
          "line": {
           "color": "rgb(216,82,24)"
          },
          "size": 6,
          "symbol": "none"
         },
         "mode": "lines",
         "name": "",
         "showlegend": false,
         "type": "scatter",
         "visibility": true,
         "x": [
          3,
          18
         ],
         "xaxis": "x2",
         "y": [
          16.767454723368942,
          16.767454723368942
         ],
         "yaxis": "y2"
        },
        {
         "hoverinfo": "none",
         "line": {
          "color": "rgb(236,176,31)",
          "dash": "solid",
          "width": 0.5
         },
         "marker": {
          "color": "rgb(236,176,31)",
          "line": {
           "color": "rgb(236,176,31)"
          },
          "size": 6,
          "symbol": "none"
         },
         "mode": "lines",
         "name": "",
         "showlegend": false,
         "type": "scatter",
         "visibility": true,
         "x": [
          3,
          18
         ],
         "xaxis": "x2",
         "y": [
          26.067454723368943,
          26.067454723368943
         ],
         "yaxis": "y2"
        }
       ],
       "layout": {
        "annotations": [
         {
          "font": {
           "color": "rgb(0,0,0)",
           "size": 9
          },
          "showarrow": false,
          "text": "Fe<sup>3+</sup>",
          "x": 21,
          "xanchor": "left",
          "xref": "x2",
          "y": 6.808727361684472,
          "yanchor": "middle",
          "yref": "y2"
         },
         {
          "font": {
           "color": "rgb(0,0,0)",
           "size": 9
          },
          "showarrow": false,
          "text": "HFO",
          "x": 21,
          "xanchor": "left",
          "xref": "x2",
          "y": 16.767454723368942,
          "yanchor": "middle",
          "yref": "y2"
         },
         {
          "font": {
           "color": "rgb(0,0,0)",
           "size": 9
          },
          "showarrow": false,
          "text": "HFO-PO4",
          "x": 21,
          "xanchor": "left",
          "xref": "x2",
          "y": 26.067454723368943,
          "yanchor": "middle",
          "yref": "y2"
         }
        ],
        "height": 420,
        "hovermode": "closest",
        "margin": {
         "b": 0,
         "l": 0,
         "r": 0,
         "t": 0
        },
        "plot_bgcolor": "rgba(0,0,0,0)",
        "showlegend": false,
        "width": 560,
        "xaxis": {
         "anchor": "y",
         "autorange": false,
         "domain": [
          0.13,
          0.8459644990932127
         ],
         "exponentformat": "none",
         "gridcolor": "rgba(38,38,38,0.15)",
         "gridwidth": 1,
         "linecolor": "rgb(38,38,38)",
         "linewidth": 1,
         "mirror": "ticks",
         "range": [
          2,
          12
         ],
         "showgrid": false,
         "showline": true,
         "side": "bottom",
         "spikedash": "solid",
         "spikemode": "across",
         "spikesides": false,
         "spikethickness": 1,
         "tickangle": 0,
         "tickcolor": "rgb(38,38,38)",
         "tickfont": {
          "color": "rgb(38,38,38)",
          "size": 10
         },
         "ticklen": 3,
         "ticks": "inside",
         "ticktext": [
          "2",
          "4",
          "6",
          "8",
          "10",
          "12"
         ],
         "tickvals": [
          2,
          4,
          6,
          8,
          10,
          12
         ],
         "title": {
          "font": {
           "color": "rgb(38,38,38)",
           "size": 11
          },
          "text": "pH"
         },
         "type": "linear",
         "visible": true,
         "zeroline": false
        },
        "xaxis2": {
         "anchor": "y2",
         "autorange": false,
         "domain": [
          0.8600299397205343,
          0.9859345593726783
         ],
         "exponentformat": "none",
         "fixedrange": true,
         "gridcolor": "rgba(38,38,38,0.15)",
         "gridwidth": 1,
         "linecolor": "rgb(38,38,38)",
         "linewidth": 1,
         "mirror": true,
         "range": [
          0,
          53.70807342113892
         ],
         "showgrid": false,
         "showline": true,
         "showspikes": false,
         "side": "bottom",
         "spikedash": "solid",
         "spikemode": "across",
         "spikesides": false,
         "spikethickness": 1,
         "tickangle": 0,
         "tickcolor": "rgb(38,38,38)",
         "tickfont": {
          "color": "rgb(38,38,38)",
          "size": 9
         },
         "ticklen": 3,
         "ticks": "",
         "ticktext": [],
         "tickvals": [],
         "title": {
          "font": {
           "color": "rgb(0,0,0)",
           "size": 9.9
          },
          "text": ""
         },
         "type": "linear",
         "visible": true,
         "zeroline": false
        },
        "yaxis": {
         "anchor": "x",
         "autorange": false,
         "domain": [
          0.10999999999999999,
          0.9249999999999997
         ],
         "exponentformat": "none",
         "gridcolor": "rgba(38,38,38,0.15)",
         "gridwidth": 1,
         "linecolor": "rgb(38,38,38)",
         "linewidth": 1,
         "mirror": "ticks",
         "range": [
          0,
          9.999999999999999e-06
         ],
         "showgrid": false,
         "showline": true,
         "side": "left",
         "spikedash": "solid",
         "spikemode": "across",
         "spikesides": false,
         "spikethickness": 1,
         "tickangle": 0,
         "tickcolor": "rgb(38,38,38)",
         "tickfont": {
          "color": "rgb(38,38,38)",
          "size": 10
         },
         "ticklen": 3,
         "ticks": "inside",
         "ticktext": [
          "0",
          "2e-06",
          "4e-06",
          "6e-06",
          "8e-06",
          "1e-05"
         ],
         "tickvals": [
          0,
          2e-06,
          4e-06,
          6e-06,
          8e-06,
          9.999999999999999e-06
         ],
         "title": {
          "font": {
           "color": "rgb(38,38,38)",
           "size": 11
          },
          "text": "[species]"
         },
         "type": "linear",
         "visible": true,
         "zeroline": false
        },
        "yaxis2": {
         "anchor": "x2",
         "autorange": false,
         "domain": [
          0.46714970038055864,
          0.567850299619441
         ],
         "exponentformat": "none",
         "fixedrange": true,
         "gridcolor": "rgba(38,38,38,0.15)",
         "gridwidth": 1,
         "linecolor": "rgb(38,38,38)",
         "linewidth": 1,
         "mirror": true,
         "range": [
          32.217454723368945,
          0
         ],
         "showgrid": false,
         "showline": true,
         "showspikes": false,
         "side": "left",
         "spikedash": "solid",
         "spikemode": "across",
         "spikesides": false,
         "spikethickness": 1,
         "tickangle": 0,
         "tickcolor": "rgb(38,38,38)",
         "tickfont": {
          "color": "rgb(38,38,38)",
          "size": 9
         },
         "ticklen": 3,
         "ticks": "",
         "ticktext": [],
         "tickvals": [],
         "title": {
          "font": {
           "color": "rgb(0,0,0)",
           "size": 9.9
          },
          "text": ""
         },
         "type": "linear",
         "visible": true,
         "zeroline": false
        }
       }
      },
      "image/png": "[encoded data removed]"
     },
     "metadata": {},
     "output_type": "display_data"
    }
   ],
   "source": [
    "%graphics_toolkit (\"notebook\"); \n",
    "%graphics_toolkit (\"gnuplot\"); \n",
    "%graphics_toolkit (\"plotly\");\n",
    "\n",
    "plot(pH,Fep3,pH,HFO,pH,HfowHPO4m)\n",
    "xlabel('pH'); ylabel('[species]'); legend('Fe^{3+}','HFO','HFO-PO4','location','eastoutside')\n",
    "\n"
   ]
  },
  {
   "cell_type": "code",
   "execution_count": 17,
   "id": "cf234569-14d3-4f80-b219-6b64aa57b6bf",
   "metadata": {},
   "outputs": [
    {
     "data": {
      "application/vnd.plotly.v1+json": {
       "data": [
        {
         "line": {
          "color": "rgb(0,113,188)",
          "dash": "solid",
          "width": 0.5
         },
         "marker": {
          "color": "rgb(0,113,188)",
          "line": {
           "color": "rgb(0,113,188)"
          },
          "size": 6,
          "symbol": "none"
         },
         "mode": "lines",
         "name": "",
         "showlegend": false,
         "type": "scatter",
         "visibility": true,
         "x": [
          3,
          4,
          5,
          6,
          7,
          8,
          9,
          10,
          11
         ],
         "xaxis": "x",
         "y": [
          -4.0657581468206416e-19,
          -2.248194848602364e-17,
          -3.816344940058198e-12,
          5.360913426603875e-10,
          3.755626842219218e-08,
          8.481202233050282e-07,
          5.064333269535e-06,
          8.553670969480967e-06,
          7.460778733262321e-06
         ],
         "yaxis": "y"
        }
       ],
       "layout": {
        "height": 420,
        "hovermode": "closest",
        "margin": {
         "b": 0,
         "l": 0,
         "r": 0,
         "t": 0
        },
        "plot_bgcolor": "rgba(0,0,0,0)",
        "showlegend": false,
        "width": 560,
        "xaxis": {
         "anchor": "y",
         "autorange": false,
         "domain": [
          0.13,
          0.905
         ],
         "exponentformat": "none",
         "gridcolor": "rgba(38,38,38,0.15)",
         "gridwidth": 1,
         "linecolor": "rgb(38,38,38)",
         "linewidth": 1,
         "mirror": "ticks",
         "range": [
          2,
          12
         ],
         "showgrid": false,
         "showline": true,
         "side": "bottom",
         "spikedash": "solid",
         "spikemode": "across",
         "spikesides": false,
         "spikethickness": 1,
         "tickangle": 0,
         "tickcolor": "rgb(38,38,38)",
         "tickfont": {
          "color": "rgb(38,38,38)",
          "size": 10
         },
         "ticklen": 3,
         "ticks": "inside",
         "ticktext": [
          "2",
          "4",
          "6",
          "8",
          "10",
          "12"
         ],
         "tickvals": [
          2,
          4,
          6,
          8,
          10,
          12
         ],
         "title": {
          "font": {
           "color": "rgb(0,0,0)",
           "size": 11
          },
          "text": ""
         },
         "type": "linear",
         "visible": true,
         "zeroline": false
        },
        "yaxis": {
         "anchor": "x",
         "autorange": false,
         "domain": [
          0.11,
          0.9249999999999999
         ],
         "exponentformat": "none",
         "gridcolor": "rgba(38,38,38,0.15)",
         "gridwidth": 1,
         "linecolor": "rgb(38,38,38)",
         "linewidth": 1,
         "mirror": "ticks",
         "range": [
          -2e-06,
          9.999999999999999e-06
         ],
         "showgrid": false,
         "showline": true,
         "side": "left",
         "spikedash": "solid",
         "spikemode": "across",
         "spikesides": false,
         "spikethickness": 1,
         "tickangle": 0,
         "tickcolor": "rgb(38,38,38)",
         "tickfont": {
          "color": "rgb(38,38,38)",
          "size": 10
         },
         "ticklen": 3,
         "ticks": "inside",
         "ticktext": [
          "-2e-06",
          "0",
          "2e-06",
          "4e-06",
          "6e-06",
          "8e-06",
          "1e-05"
         ],
         "tickvals": [
          -2e-06,
          0,
          2e-06,
          4e-06,
          6e-06,
          8e-06,
          9.999999999999999e-06
         ],
         "title": {
          "font": {
           "color": "rgb(0,0,0)",
           "size": 11
          },
          "text": ""
         },
         "type": "linear",
         "visible": true,
         "zeroline": false
        }
       }
      },
      "image/png": "[encoded data removed]"
     },
     "metadata": {},
     "output_type": "display_data"
    }
   ],
   "source": [
    "plot(pH,MASSERR)"
   ]
  }
 ],
 "metadata": {
  "kernelspec": {
   "display_name": "Octave (xoctave)",
   "language": "Octave",
   "name": "xoctave"
  },
  "language_info": {
   "codemirror_mode": "octave",
   "file_extension": ".m",
   "mimetype": "text/x-octave",
   "name": "Octave",
   "nbconvert_exporter": "",
   "pygments_lexer": "octave",
   "version": "8.4.0"
  }
 },
 "nbformat": 4,
 "nbformat_minor": 5
}
