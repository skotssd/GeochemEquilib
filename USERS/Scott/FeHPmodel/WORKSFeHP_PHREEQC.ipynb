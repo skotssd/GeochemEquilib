{
 "cells": [
  {
   "cell_type": "code",
   "execution_count": null,
   "id": "f652ea83-6532-4ab6-bd0d-f82baf023909",
   "metadata": {
    "tags": []
   },
   "outputs": [],
   "source": [
    "% setup environment\n",
    "% clear data and number format\n",
    "clear; format short e\n",
    "% set path to equilibrium solver\n",
    "txt=pwd; n=length(txt); rootpath=txt;\n",
    "n=strfind(rootpath,\"USERS\"); rootpath=txt(1:n-2);\n",
    "PHREEQCpath=[rootpath,'/runPHREEQC'];\n",
    "addpath(PHREEQCpath);\n",
    "JEQUILIBpath=[rootpath,'/JEQUILIB'];\n",
    "addpath(JEQUILIBpath);\n",
    "% turn off warnings\n",
    "warning off\n",
    "%graphics_toolkit (\"notebook\"); \n",
    "graphics_toolkit (\"plotly\"); \n",
    "%graphics_toolkit(\"gnuplot\")\n",
    "%delete existing phreeqc files\n",
    "system(\"rm DATABASE.dat\");\n",
    "system(\"rm runfile.txt\");\n",
    "%create empty phreeqc files\n",
    "system(\"touch DATABASE.dat\");\n",
    "system(\"touch runfile.txt\");"
   ]
  },
  {
   "cell_type": "markdown",
   "id": "6147551b-13a3-4aed-86dc-7022f3f4cc90",
   "metadata": {
    "tags": []
   },
   "source": [
    "# RESULT OF TESTING\n",
    "\n",
    "**for tableau**\n",
    "\n",
    "seems that only the logX with analytical derivatives works best.  I did find some situations that didn't converge.  so I added in some code to make more acidic and more oxic and step towards the answer that way.  doesn't seem to work but the idea is ok.  should check how I do this in the source search file returnspeciationRE or whatever it is called.\n",
    "\n",
    "X based search didn't work though.  that's fine.  I could probably revise the search method but I like the log one better anyway.\n",
    "\n",
    "**for PHREEQC**\n",
    "\n",
    "error seem really big. 1e-6 error for hhigh pH and oxic case."
   ]
  },
  {
   "cell_type": "code",
   "execution_count": null,
   "id": "ff55efeb-25da-4e16-8c75-8832327caf8a",
   "metadata": {
    "tags": []
   },
   "outputs": [],
   "source": [
    "%%Note from CS to Scott: in your tableau, I was like: Hfos+ ; should be Hfow-, that generated big errors in PHREEQC because PHREEQC doesn't recognize Hfos+"
   ]
  },
  {
   "cell_type": "code",
   "execution_count": null,
   "id": "506d65c0-5336-470f-a8d4-c7eadca02061",
   "metadata": {
    "tags": []
   },
   "outputs": [],
   "source": [
    "% define equilibrium problem\n",
    "\n",
    "%FeT=1e-5; PT=1e-4; NaT=3*PT; ClT=3*FeT; T=25; HFOsi=1e-30; HFOwi=1e-30; ASFw=1; ASFs=1; \n",
    "%pH=2:0.2:11; \n",
    "FeT=1e-5/0.997; PT=1e-5/0.997; NaT=3*PT; ClT=3*FeT; T=25; HFOsi=1e-30; HFOwi=1e-30; ASFw=0.2; ASFs=0.005; %/0.997 to mmol/kg at 25C\n",
    "pH=2:0.2:12; \n",
    "\n",
    "\n",
    "% set redox level ------------------------\n",
    "%peINT=20.75; %oxic\n",
    "%peINT=15.75; %less oxic\n",
    "%peINT=10.75; %getting reducing\n",
    "peINT=5.75; %pretty reducing\n",
    "%peINT=0; % maximum reducing\n",
    "\n",
    "pe=peINT-pH;% oxic end\n"
   ]
  },
  {
   "cell_type": "code",
   "execution_count": null,
   "id": "501091b8-f0fd-49bf-9893-43754d442941",
   "metadata": {
    "tags": []
   },
   "outputs": [],
   "source": [
    "% MODEL USING TABLEAU (different gradients or log versus linear variables)\n",
    "%graphics_toolkit(\"notebook\")\n",
    "%model with just inorganic speciation\n",
    "%geochemical model\n",
    "% input the constants and solution chemistry\n",
    "flag0=1; %choose solver. 0 for tableau and 1 for phreeqc-based solver\n",
    "flag1=2; %flag1 for concentration based search vector (1) or for log based search vector (2).\n",
    "flag2=1; %flag2 for numerical derivatives (2) or analtyical derivatives (1)\n",
    "flag3=0; % flag3 1 for show warnings. 0 no warnings\n",
    "flag4=1; %if=1 solve tableau one line at a time to get a good initial guess (no solids). really challenging probs only\n",
    "flag5=0; %if=1 use stored initial guess for including solids\n",
    "\n",
    "TOTALS=[FeT; PT; ClT; NaT; HFOsi; HFOwi]';\n",
    "TOTALS(TOTALS==0)=1e-16; % get rid of zero values, b/c div by zero error\n",
    "\n",
    "for i=1:length(pH)\n",
    "    flag5=0; % flags ignored for PHREEQC anyway.\n",
    "    %if i>1; flag5=1; end\n",
    "    [Fep3(i),HFO(i),HfowHPO4m(i),MASSERR(i)]=FeHPO4tableau(pH(i),pe(i),TOTALS',flag0,flag1,flag2,flag3,flag4,flag5); \n",
    "    if HFO(i)>0; % should make loop until HFO value converges, but from previous tests it converges fast.  one step was how I did the 2008 WER paper\n",
    "        HFOs=ASFs*HFO(i); HFOw=ASFw*HFO(i); \n",
    "        TOTALS=[FeT; PT; ClT; NaT; HFOs; HFOw]';\n",
    "        [Fep3(i),HFO(i),HfowHPO4m3(i),MASSERR(i)]=FeHPO4tableau(pH(i),pe(i),TOTALS',flag0,flag1,flag2,flag3,flag4,flag5);\n",
    "    end\n",
    "    dislay=[pH(i) Fep3(i) HFO(i) HfowHPO4m(i) MASSERR(i)]\n",
    "end"
   ]
  },
  {
   "cell_type": "code",
   "execution_count": null,
   "id": "7ac03d3b-48de-410e-8913-4b0e21ec7fe0",
   "metadata": {
    "tags": []
   },
   "outputs": [],
   "source": [
    "\n",
    "plot(pH,Fep3,pH,HFO,pH,HfowHPO4m)\n",
    "xlabel('pH'); ylabel('[species]'); legend('Fe^{3+}','HFO','HFO-PO4','location','eastoutside')\n",
    "\n"
   ]
  },
  {
   "cell_type": "code",
   "execution_count": null,
   "id": "cf234569-14d3-4f80-b219-6b64aa57b6bf",
   "metadata": {
    "tags": []
   },
   "outputs": [],
   "source": [
    "plot(pH,MASSERR)"
   ]
  },
  {
   "cell_type": "code",
   "execution_count": null,
   "id": "d53d9aea-4869-479a-9be7-f9457a1d85aa",
   "metadata": {
    "tags": []
   },
   "outputs": [],
   "source": [
    "% === GUARDAR RESULTADOS DE ESTA SESIÓN ==================\n",
    "quickRun = struct( ...\n",
    "    \"pH\",          pH(:),        ...\n",
    "    \"Fe3_aq\",      Fep3(:),      ...\n",
    "    \"FeOH3s\",      HFO(:),       ...\n",
    "    \"HFO_P_ads\",   HfowHPO4m(:), ...\n",
    "    \"MassErr\",     MASSERR(:)    ...\n",
    ");\n",
    "save(\"-v7\", \"phreeqc_runs.mat\", \"quickRun\");\n",
    "printf(\"\\nquickRun guardado con los datos de la sesión rápida.\\n\");"
   ]
  },
  {
   "cell_type": "code",
   "execution_count": null,
   "id": "817845bc-6d99-468e-ac72-4808d8860787",
   "metadata": {
    "tags": []
   },
   "outputs": [],
   "source": [
    "%% ==============================================================\n",
    "%% 1. Helper robusto: extrae el CPU-time de out.txt\n",
    "%% ==============================================================\n",
    "function t = get_cpu_time (fname)\n",
    "  t = NaN;\n",
    "  fid = fopen (fname,\"rb\");\n",
    "  if fid < 0, warning (\"No pude abrir %s\", fname); return; end\n",
    "  data = fread (fid, Inf, \"uint8=>uint8\");  fclose (fid);\n",
    "  data(data>127) = 32;                       % limpia UTF-8 raro\n",
    "  str = char (data');\n",
    "  tok = regexp (str,\"after\\\\s+([0-9.]+(?:[eE][+-]?[0-9]+)?)\\\\s+Seconds\",\n",
    "                \"tokens\",\"once\");\n",
    "  if !isempty(tok), t = str2double(tok{1}); end\n",
    "endfunction\n",
    "\n",
    "\n",
    "%% ==============================================================\n",
    "%% 2. Bucle principal — resultados + tiempos\n",
    "%% ==============================================================\n",
    "if exist(\"phreeqc_runs_times.mat\",\"file\"), delete(\"phreeqc_runs_times.mat\"); endif\n",
    "nRuns = 50;\n",
    "save(\"-v7\",\"phreeqc_runs_times.mat\",\"nRuns\");          % cabecera mínima\n",
    "\n",
    "nPts = numel(pH);\n",
    "\n",
    "% ===== matrices para TODAS las corridas =====\n",
    "Fep3        = NaN(nPts,nRuns);   % Fe3+ (aq)\n",
    "HFO         = NaN(nPts,nRuns);   % Fe(OH)3(s)\n",
    "HFO_PO4     = NaN(nPts,nRuns);   % HfowHPO4m  (P adsorbido)\n",
    "MassErr     = NaN(nPts,nRuns);   % error global de masa\n",
    "\n",
    "t_wall = NaN(nRuns,1);\n",
    "t_cpu  = NaN(nRuns,1);\n",
    "\n",
    "for run = 1:nRuns\n",
    "  tic();\n",
    "  for i = 1:nPts\n",
    "    flag5 = 0;\n",
    "    [Fep3(i,run), HFO(i,run), HFO_PO4(i,run), MassErr(i,run)] = ...\n",
    "        FeHPO4tableau(pH(i), pe(i), TOTALS', ...\n",
    "                      flag0, flag1, flag2, flag3, flag4, flag5);\n",
    "\n",
    "    if HFO(i,run) > 0                         % 2ª pasada si hay HFO\n",
    "      HFOs   = ASFs * HFO(i,run);\n",
    "      HFOw   = ASFw * HFO(i,run);\n",
    "      TOTALS = [FeT; PT; ClT; NaT; HFOs; HFOw]';\n",
    "      [Fep3(i,run), HFO(i,run), HFO_PO4(i,run), MassErr(i,run)] = ...\n",
    "          FeHPO4tableau(pH(i), pe(i), TOTALS', ...\n",
    "                        flag0, flag1, flag2, flag3, flag4, flag5);\n",
    "    endif\n",
    "  endfor\n",
    "\n",
    "  t_wall(run) = toc();\n",
    "  t_cpu(run)  = get_cpu_time(\"out.txt\");\n",
    "\n",
    "  % ---------- guardado especial en la 1ª corrida ----------\n",
    "  if run == 1\n",
    "    firstRun = struct( ...\n",
    "        \"pH\",        pH(:),      ...\n",
    "        \"FeOH3s\",    HFO(:,1),   ...\n",
    "        \"Fe3_aq\",    Fep3(:,1),  ...\n",
    "        \"HFO_P_ads\", HFO_PO4(:,1) );\n",
    "    MassErr_firstRun = MassErr(:,1);\n",
    "\n",
    "    save(\"-v7\",\"-append\",\"phreeqc_runs_times.mat\", ...\n",
    "         \"firstRun\",\"MassErr_firstRun\");\n",
    "    printf(\"\\nGuardado firstRun + MassErr_firstRun tras run = 1.\\n\");\n",
    "  endif\n",
    "\n",
    "  printf(\"Run %02d | wall = %.3f s | cpu = %.3f s  -> guardado\\n\",\n",
    "         run, t_wall(run), t_cpu(run));\n",
    "\n",
    "  % ---- guardado incremental: solo tiempos + run ----\n",
    "  save(\"-v7\",\"-append\",\"phreeqc_runs_times.mat\",\"t_wall\",\"t_cpu\",\"run\");\n",
    "  fflush(stdout);\n",
    "endfor\n",
    "\n",
    "\n",
    "%% ==============================================================\n",
    "%% 3. Estadísticos finales y cierre\n",
    "%% ==============================================================\n",
    "valid_wall = t_wall(~isnan(t_wall));\n",
    "valid_cpu  = t_cpu(~isnan(t_cpu));\n",
    "\n",
    "stats.wall_mean = mean(valid_wall);\n",
    "stats.wall_std  = std (valid_wall);\n",
    "stats.cpu_mean  = mean(valid_cpu);\n",
    "stats.cpu_std   = std (valid_cpu);\n",
    "\n",
    "save(\"-v7\",\"-append\",\"phreeqc_runs_times.mat\",\"stats\");\n",
    "\n",
    "printf(\"\\n>> ¡Todo completo! firstRun, tiempos y estadísticos guardados.\\n\");\n"
   ]
  },
  {
   "cell_type": "code",
   "execution_count": null,
   "id": "942dbe69-9e37-40b1-8f85-1684ddb32a6a",
   "metadata": {},
   "outputs": [],
   "source": []
  }
 ],
 "metadata": {
  "kernelspec": {
   "display_name": "Octave (xoctave)",
   "language": "Octave",
   "name": "xoctave"
  },
  "language_info": {
   "codemirror_mode": "octave",
   "file_extension": ".m",
   "mimetype": "text/x-octave",
   "name": "Octave",
   "nbconvert_exporter": "",
   "pygments_lexer": "octave",
   "version": "7.3.0"
  }
 },
 "nbformat": 4,
 "nbformat_minor": 5
}
