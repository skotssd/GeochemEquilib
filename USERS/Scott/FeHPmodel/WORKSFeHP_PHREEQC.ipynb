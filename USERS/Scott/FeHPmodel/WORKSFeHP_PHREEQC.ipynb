{
 "cells": [
  {
   "cell_type": "code",
   "execution_count": 7,
   "id": "f652ea83-6532-4ab6-bd0d-f82baf023909",
   "metadata": {
    "tags": []
   },
   "outputs": [],
   "source": [
    "% setup environment\n",
    "% clear data and number format\n",
    "clear; format short e\n",
    "% set path to equilibrium solver\n",
    "txt=pwd; n=length(txt); rootpath=txt;\n",
    "n=strfind(rootpath,\"USERS\"); rootpath=txt(1:n-2);\n",
    "PHREEQCpath=[rootpath,'/runPHREEQC'];\n",
    "addpath(PHREEQCpath);\n",
    "JEQUILIBpath=[rootpath,'/JEQUILIB'];\n",
    "addpath(JEQUILIBpath);\n",
    "% turn off warnings\n",
    "warning off\n",
    "%graphics_toolkit (\"notebook\"); \n",
    "graphics_toolkit (\"plotly\"); \n",
    "%graphics_toolkit(\"gnuplot\")\n",
    "%delete existing phreeqc files\n",
    "system(\"rm DATABASE.dat\");\n",
    "system(\"rm runfile.txt\");\n",
    "%create empty phreeqc files\n",
    "system(\"touch DATABASE.dat\");\n",
    "system(\"touch runfile.txt\");"
   ]
  },
  {
   "cell_type": "markdown",
   "id": "6147551b-13a3-4aed-86dc-7022f3f4cc90",
   "metadata": {
    "tags": []
   },
   "source": [
    "# RESULT OF TESTING\n",
    "\n",
    "**for tableau**\n",
    "\n",
    "seems that only the logX with analytical derivatives works best.  I did find some situations that didn't converge.  so I added in some code to make more acidic and more oxic and step towards the answer that way.  doesn't seem to work but the idea is ok.  should check how I do this in the source search file returnspeciationRE or whatever it is called.\n",
    "\n",
    "X based search didn't work though.  that's fine.  I could probably revise the search method but I like the log one better anyway.\n",
    "\n",
    "**for PHREEQC**\n",
    "\n",
    "error seem really big. 1e-6 error for hhigh pH and oxic case."
   ]
  },
  {
   "cell_type": "code",
   "execution_count": 8,
   "id": "ff55efeb-25da-4e16-8c75-8832327caf8a",
   "metadata": {
    "tags": []
   },
   "outputs": [],
   "source": [
    "%%Note from CS to Scott: in your tableau, I was like: Hfos+ ; should be Hfow-, that generated big errors in PHREEQC because PHREEQC doesn't recognize Hfos+"
   ]
  },
  {
   "cell_type": "code",
   "execution_count": 9,
   "id": "506d65c0-5336-470f-a8d4-c7eadca02061",
   "metadata": {
    "tags": []
   },
   "outputs": [],
   "source": [
    "% define equilibrium problem\n",
    "\n",
    "%FeT=1e-5; PT=1e-4; NaT=3*PT; ClT=3*FeT; T=25; HFOsi=1e-30; HFOwi=1e-30; ASFw=1; ASFs=1; \n",
    "%pH=2:0.2:11; \n",
    "FeT=1e-5/0.997; PT=1e-5/0.997; NaT=3*PT; ClT=3*FeT; T=25; HFOsi=1e-30; HFOwi=1e-30; ASFw=0.2; ASFs=0.005; %/0.997 to mmol/kg at 25C\n",
    "pH=2:0.2:12; \n",
    "\n",
    "\n",
    "% set redox level ------------------------\n",
    "%peINT=20.75; %oxic\n",
    "%peINT=15.75; %less oxic\n",
    "%peINT=10.75; %getting reducing\n",
    "peINT=5.75; %pretty reducing\n",
    "%peINT=0; % maximum reducing\n",
    "\n",
    "pe=peINT-pH;% oxic end\n"
   ]
  },
  {
   "cell_type": "code",
   "execution_count": 10,
   "id": "501091b8-f0fd-49bf-9893-43754d442941",
   "metadata": {
    "tags": []
   },
   "outputs": [
    {
     "data": {
      "text/html": [
       "<table><tr><th><i>dislay<i></th><th>1</th><th>2</th><th>3</th><th>4</th><th>5</th></tr><tr><th>1</th><td>2</td><td>5.37552e-15</td><td>0</td><td>1e-99</td><td>2.70812e-10</td></tr></table>"
      ],
      "text/plain": [
       "dislay =    2.0000e+00   5.3755e-15            0   1.0000e-99   2.7081e-10\n"
      ]
     },
     "metadata": {},
     "output_type": "display_data"
    },
    {
     "data": {
      "text/html": [
       "<table><tr><th><i>dislay<i></th><th>1</th><th>2</th><th>3</th><th>4</th><th>5</th></tr><tr><th>1</th><td>2.2</td><td>3.3898e-15</td><td>0</td><td>1e-99</td><td>2.70812e-10</td></tr></table>"
      ],
      "text/plain": [
       "dislay =    2.2000e+00   3.3898e-15            0   1.0000e-99   2.7081e-10\n"
      ]
     },
     "metadata": {},
     "output_type": "display_data"
    },
    {
     "data": {
      "text/html": [
       "<table><tr><th><i>dislay<i></th><th>1</th><th>2</th><th>3</th><th>4</th><th>5</th></tr><tr><th>1</th><td>2.4</td><td>2.13762e-15</td><td>0</td><td>1e-99</td><td>2.70812e-10</td></tr></table>"
      ],
      "text/plain": [
       "dislay =    2.4000e+00   2.1376e-15            0   1.0000e-99   2.7081e-10\n"
      ]
     },
     "metadata": {},
     "output_type": "display_data"
    },
    {
     "data": {
      "text/html": [
       "<table><tr><th><i>dislay<i></th><th>1</th><th>2</th><th>3</th><th>4</th><th>5</th></tr><tr><th>1</th><td>2.6</td><td>1.34808e-15</td><td>0</td><td>1e-99</td><td>2.70812e-10</td></tr></table>"
      ],
      "text/plain": [
       "dislay =    2.6000e+00   1.3481e-15            0   1.0000e-99   2.7081e-10\n"
      ]
     },
     "metadata": {},
     "output_type": "display_data"
    },
    {
     "data": {
      "text/html": [
       "<table><tr><th><i>dislay<i></th><th>1</th><th>2</th><th>3</th><th>4</th><th>5</th></tr><tr><th>1</th><td>2.8</td><td>8.50239e-16</td><td>0</td><td>1e-99</td><td>2.70812e-10</td></tr></table>"
      ],
      "text/plain": [
       "dislay =    2.8000e+00   8.5024e-16            0   1.0000e-99   2.7081e-10\n"
      ]
     },
     "metadata": {},
     "output_type": "display_data"
    },
    {
     "data": {
      "text/html": [
       "<table><tr><th><i>dislay<i></th><th>1</th><th>2</th><th>3</th><th>4</th><th>5</th></tr><tr><th>1</th><td>3</td><td>5.36302e-16</td><td>0</td><td>1e-99</td><td>2.70812e-10</td></tr></table>"
      ],
      "text/plain": [
       "dislay =    3.0000e+00   5.3630e-16            0   1.0000e-99   2.7081e-10\n"
      ]
     },
     "metadata": {},
     "output_type": "display_data"
    },
    {
     "data": {
      "text/html": [
       "<table><tr><th><i>dislay<i></th><th>1</th><th>2</th><th>3</th><th>4</th><th>5</th></tr><tr><th>1</th><td>3.2</td><td>3.38311e-16</td><td>0</td><td>1e-99</td><td>2.70812e-10</td></tr></table>"
      ],
      "text/plain": [
       "dislay =    3.2000e+00   3.3831e-16            0   1.0000e-99   2.7081e-10\n"
      ]
     },
     "metadata": {},
     "output_type": "display_data"
    },
    {
     "data": {
      "text/html": [
       "<table><tr><th><i>dislay<i></th><th>1</th><th>2</th><th>3</th><th>4</th><th>5</th></tr><tr><th>1</th><td>3.4</td><td>2.13428e-16</td><td>0</td><td>1e-99</td><td>2.70812e-10</td></tr></table>"
      ],
      "text/plain": [
       "dislay =    3.4000e+00   2.1343e-16            0   1.0000e-99   2.7081e-10\n"
      ]
     },
     "metadata": {},
     "output_type": "display_data"
    },
    {
     "data": {
      "text/html": [
       "<table><tr><th><i>dislay<i></th><th>1</th><th>2</th><th>3</th><th>4</th><th>5</th></tr><tr><th>1</th><td>3.6</td><td>1.3465e-16</td><td>0</td><td>1e-99</td><td>2.70812e-10</td></tr></table>"
      ],
      "text/plain": [
       "dislay =    3.6000e+00   1.3465e-16            0   1.0000e-99   2.7081e-10\n"
      ]
     },
     "metadata": {},
     "output_type": "display_data"
    },
    {
     "data": {
      "text/html": [
       "<table><tr><th><i>dislay<i></th><th>1</th><th>2</th><th>3</th><th>4</th><th>5</th></tr><tr><th>1</th><td>3.8</td><td>8.49527e-17</td><td>0</td><td>1e-99</td><td>2.70812e-10</td></tr></table>"
      ],
      "text/plain": [
       "dislay =    3.8000e+00   8.4953e-17            0   1.0000e-99   2.7081e-10\n"
      ]
     },
     "metadata": {},
     "output_type": "display_data"
    },
    {
     "data": {
      "text/html": [
       "<table><tr><th><i>dislay<i></th><th>1</th><th>2</th><th>3</th><th>4</th><th>5</th></tr><tr><th>1</th><td>4</td><td>5.35989e-17</td><td>0</td><td>1e-99</td><td>2.70812e-10</td></tr></table>"
      ],
      "text/plain": [
       "dislay =    4.0000e+00   5.3599e-17            0   1.0000e-99   2.7081e-10\n"
      ]
     },
     "metadata": {},
     "output_type": "display_data"
    },
    {
     "data": {
      "text/html": [
       "<table><tr><th><i>dislay<i></th><th>1</th><th>2</th><th>3</th><th>4</th><th>5</th></tr><tr><th>1</th><td>4.2</td><td>3.38173e-17</td><td>0</td><td>1e-99</td><td>2.70812e-10</td></tr></table>"
      ],
      "text/plain": [
       "dislay =    4.2000e+00   3.3817e-17            0   1.0000e-99   2.7081e-10\n"
      ]
     },
     "metadata": {},
     "output_type": "display_data"
    },
    {
     "data": {
      "text/html": [
       "<table><tr><th><i>dislay<i></th><th>1</th><th>2</th><th>3</th><th>4</th><th>5</th></tr><tr><th>1</th><td>4.4</td><td>2.13365e-17</td><td>0</td><td>1e-99</td><td>2.70812e-10</td></tr></table>"
      ],
      "text/plain": [
       "dislay =    4.4000e+00   2.1337e-17            0   1.0000e-99   2.7081e-10\n"
      ]
     },
     "metadata": {},
     "output_type": "display_data"
    },
    {
     "data": {
      "text/html": [
       "<table><tr><th><i>dislay<i></th><th>1</th><th>2</th><th>3</th><th>4</th><th>5</th></tr><tr><th>1</th><td>4.6</td><td>1.34619e-17</td><td>0</td><td>1e-99</td><td>2.70812e-10</td></tr></table>"
      ],
      "text/plain": [
       "dislay =    4.6000e+00   1.3462e-17            0   1.0000e-99   2.7081e-10\n"
      ]
     },
     "metadata": {},
     "output_type": "display_data"
    },
    {
     "data": {
      "text/html": [
       "<table><tr><th><i>dislay<i></th><th>1</th><th>2</th><th>3</th><th>4</th><th>5</th></tr><tr><th>1</th><td>4.8</td><td>8.49339e-18</td><td>0</td><td>1e-99</td><td>2.70812e-10</td></tr></table>"
      ],
      "text/plain": [
       "dislay =    4.8000e+00   8.4934e-18            0   1.0000e-99   2.7081e-10\n"
      ]
     },
     "metadata": {},
     "output_type": "display_data"
    },
    {
     "data": {
      "text/html": [
       "<table><tr><th><i>dislay<i></th><th>1</th><th>2</th><th>3</th><th>4</th><th>5</th></tr><tr><th>1</th><td>5</td><td>5.35852e-18</td><td>0</td><td>1e-99</td><td>2.70812e-10</td></tr></table>"
      ],
      "text/plain": [
       "dislay =    5.0000e+00   5.3585e-18            0   1.0000e-99   2.7081e-10\n"
      ]
     },
     "metadata": {},
     "output_type": "display_data"
    },
    {
     "data": {
      "text/html": [
       "<table><tr><th><i>dislay<i></th><th>1</th><th>2</th><th>3</th><th>4</th><th>5</th></tr><tr><th>1</th><td>5.2</td><td>3.38058e-18</td><td>0</td><td>1e-99</td><td>2.70812e-10</td></tr></table>"
      ],
      "text/plain": [
       "dislay =    5.2000e+00   3.3806e-18            0   1.0000e-99   2.7081e-10\n"
      ]
     },
     "metadata": {},
     "output_type": "display_data"
    },
    {
     "data": {
      "text/html": [
       "<table><tr><th><i>dislay<i></th><th>1</th><th>2</th><th>3</th><th>4</th><th>5</th></tr><tr><th>1</th><td>5.4</td><td>2.13258e-18</td><td>0</td><td>1e-99</td><td>2.70812e-10</td></tr></table>"
      ],
      "text/plain": [
       "dislay =    5.4000e+00   2.1326e-18            0   1.0000e-99   2.7081e-10\n"
      ]
     },
     "metadata": {},
     "output_type": "display_data"
    },
    {
     "data": {
      "text/html": [
       "<table><tr><th><i>dislay<i></th><th>1</th><th>2</th><th>3</th><th>4</th><th>5</th></tr><tr><th>1</th><td>5.6</td><td>1.34516e-18</td><td>0</td><td>1e-99</td><td>2.70812e-10</td></tr></table>"
      ],
      "text/plain": [
       "dislay =    5.6000e+00   1.3452e-18            0   1.0000e-99   2.7081e-10\n"
      ]
     },
     "metadata": {},
     "output_type": "display_data"
    },
    {
     "data": {
      "text/html": [
       "<table><tr><th><i>dislay<i></th><th>1</th><th>2</th><th>3</th><th>4</th><th>5</th></tr><tr><th>1</th><td>5.8</td><td>8.48346e-19</td><td>0</td><td>1e-99</td><td>2.70812e-10</td></tr></table>"
      ],
      "text/plain": [
       "dislay =    5.8000e+00   8.4835e-19            0   1.0000e-99   2.7081e-10\n"
      ]
     },
     "metadata": {},
     "output_type": "display_data"
    },
    {
     "data": {
      "text/html": [
       "<table><tr><th><i>dislay<i></th><th>1</th><th>2</th><th>3</th><th>4</th><th>5</th></tr><tr><th>1</th><td>6</td><td>5.34889e-19</td><td>0</td><td>1e-99</td><td>2.70812e-10</td></tr></table>"
      ],
      "text/plain": [
       "dislay =    6.0000e+00   5.3489e-19            0   1.0000e-99   2.7081e-10\n"
      ]
     },
     "metadata": {},
     "output_type": "display_data"
    },
    {
     "data": {
      "text/html": [
       "<table><tr><th><i>dislay<i></th><th>1</th><th>2</th><th>3</th><th>4</th><th>5</th></tr><tr><th>1</th><td>6.2</td><td>3.37134e-19</td><td>0</td><td>1e-99</td><td>2.70812e-10</td></tr></table>"
      ],
      "text/plain": [
       "dislay =    6.2000e+00   3.3713e-19            0   1.0000e-99   2.7081e-10\n"
      ]
     },
     "metadata": {},
     "output_type": "display_data"
    },
    {
     "data": {
      "text/html": [
       "<table><tr><th><i>dislay<i></th><th>1</th><th>2</th><th>3</th><th>4</th><th>5</th></tr><tr><th>1</th><td>6.4</td><td>2.1239e-19</td><td>0</td><td>1e-99</td><td>2.70812e-10</td></tr></table>"
      ],
      "text/plain": [
       "dislay =    6.4000e+00   2.1239e-19            0   1.0000e-99   2.7081e-10\n"
      ]
     },
     "metadata": {},
     "output_type": "display_data"
    },
    {
     "data": {
      "text/html": [
       "<table><tr><th><i>dislay<i></th><th>1</th><th>2</th><th>3</th><th>4</th><th>5</th></tr><tr><th>1</th><td>6.6</td><td>1.33722e-19</td><td>0</td><td>1e-99</td><td>2.70812e-10</td></tr></table>"
      ],
      "text/plain": [
       "dislay =    6.6000e+00   1.3372e-19            0   1.0000e-99   2.7081e-10\n"
      ]
     },
     "metadata": {},
     "output_type": "display_data"
    },
    {
     "data": {
      "text/html": [
       "<table><tr><th><i>dislay<i></th><th>1</th><th>2</th><th>3</th><th>4</th><th>5</th></tr><tr><th>1</th><td>6.8</td><td>8.41375e-20</td><td>0</td><td>1e-99</td><td>2.70812e-10</td></tr></table>"
      ],
      "text/plain": [
       "dislay =    6.8000e+00   8.4138e-20            0   1.0000e-99   2.7081e-10\n"
      ]
     },
     "metadata": {},
     "output_type": "display_data"
    },
    {
     "data": {
      "text/html": [
       "<table><tr><th><i>dislay<i></th><th>1</th><th>2</th><th>3</th><th>4</th><th>5</th></tr><tr><th>1</th><td>7</td><td>5.29081e-20</td><td>0</td><td>1e-99</td><td>2.70812e-10</td></tr></table>"
      ],
      "text/plain": [
       "dislay =    7.0000e+00   5.2908e-20            0   1.0000e-99   2.7081e-10\n"
      ]
     },
     "metadata": {},
     "output_type": "display_data"
    },
    {
     "data": {
      "text/html": [
       "<table><tr><th><i>dislay<i></th><th>1</th><th>2</th><th>3</th><th>4</th><th>5</th></tr><tr><th>1</th><td>7.2</td><td>3.22346e-20</td><td>0</td><td>1e-99</td><td>2.70812e-10</td></tr></table>"
      ],
      "text/plain": [
       "dislay =    7.2000e+00   3.2235e-20            0   1.0000e-99   2.7081e-10\n"
      ]
     },
     "metadata": {},
     "output_type": "display_data"
    },
    {
     "data": {
      "text/html": [
       "<table><tr><th><i>dislay<i></th><th>1</th><th>2</th><th>3</th><th>4</th><th>5</th></tr><tr><th>1</th><td>7.4</td><td>1.48423e-20</td><td>0</td><td>1e-99</td><td>2.70812e-10</td></tr></table>"
      ],
      "text/plain": [
       "dislay =    7.4000e+00   1.4842e-20            0   1.0000e-99   2.7081e-10\n"
      ]
     },
     "metadata": {},
     "output_type": "display_data"
    },
    {
     "data": {
      "text/html": [
       "<table><tr><th><i>dislay<i></th><th>1</th><th>2</th><th>3</th><th>4</th><th>5</th></tr><tr><th>1</th><td>7.6</td><td>6.92347e-21</td><td>0</td><td>1e-99</td><td>2.70813e-10</td></tr></table>"
      ],
      "text/plain": [
       "dislay =    7.6000e+00   6.9235e-21            0   1.0000e-99   2.7081e-10\n"
      ]
     },
     "metadata": {},
     "output_type": "display_data"
    },
    {
     "data": {
      "text/html": [
       "<table><tr><th><i>dislay<i></th><th>1</th><th>2</th><th>3</th><th>4</th><th>5</th></tr><tr><th>1</th><td>7.8</td><td>3.26429e-21</td><td>0</td><td>1e-99</td><td>2.70813e-10</td></tr></table>"
      ],
      "text/plain": [
       "dislay =    7.8000e+00   3.2643e-21            0   1.0000e-99   2.7081e-10\n"
      ]
     },
     "metadata": {},
     "output_type": "display_data"
    },
    {
     "data": {
      "text/html": [
       "<table><tr><th><i>dislay<i></th><th>1</th><th>2</th><th>3</th><th>4</th><th>5</th></tr><tr><th>1</th><td>8</td><td>1.55038e-21</td><td>0</td><td>1e-99</td><td>2.70814e-10</td></tr></table>"
      ],
      "text/plain": [
       "dislay =    8.0000e+00   1.5504e-21            0   1.0000e-99   2.7081e-10\n"
      ]
     },
     "metadata": {},
     "output_type": "display_data"
    },
    {
     "data": {
      "text/html": [
       "<table><tr><th><i>dislay<i></th><th>1</th><th>2</th><th>3</th><th>4</th><th>5</th></tr><tr><th>1</th><td>8.2</td><td>7.39175e-22</td><td>0</td><td>1e-99</td><td>2.70818e-10</td></tr></table>"
      ],
      "text/plain": [
       "dislay =    8.2000e+00   7.3918e-22            0   1.0000e-99   2.7082e-10\n"
      ]
     },
     "metadata": {},
     "output_type": "display_data"
    },
    {
     "data": {
      "text/html": [
       "<table><tr><th><i>dislay<i></th><th>1</th><th>2</th><th>3</th><th>4</th><th>5</th></tr><tr><th>1</th><td>8.4</td><td>3.52697e-22</td><td>0</td><td>1e-99</td><td>2.70828e-10</td></tr></table>"
      ],
      "text/plain": [
       "dislay =    8.4000e+00   3.5270e-22            0   1.0000e-99   2.7083e-10\n"
      ]
     },
     "metadata": {},
     "output_type": "display_data"
    },
    {
     "data": {
      "text/html": [
       "<table><tr><th><i>dislay<i></th><th>1</th><th>2</th><th>3</th><th>4</th><th>5</th></tr><tr><th>1</th><td>8.6</td><td>1.68046e-22</td><td>0</td><td>1e-99</td><td>2.70857e-10</td></tr></table>"
      ],
      "text/plain": [
       "dislay =    8.6000e+00   1.6805e-22            0   1.0000e-99   2.7086e-10\n"
      ]
     },
     "metadata": {},
     "output_type": "display_data"
    },
    {
     "data": {
      "text/html": [
       "<table><tr><th><i>dislay<i></th><th>1</th><th>2</th><th>3</th><th>4</th><th>5</th></tr><tr><th>1</th><td>8.8</td><td>7.98293e-23</td><td>0</td><td>1e-99</td><td>2.70948e-10</td></tr></table>"
      ],
      "text/plain": [
       "dislay =    8.8000e+00   7.9829e-23            0   1.0000e-99   2.7095e-10\n"
      ]
     },
     "metadata": {},
     "output_type": "display_data"
    },
    {
     "data": {
      "text/html": [
       "<table><tr><th><i>dislay<i></th><th>1</th><th>2</th><th>3</th><th>4</th><th>5</th></tr><tr><th>1</th><td>9</td><td>3.77685e-23</td><td>0</td><td>1e-99</td><td>2.71236e-10</td></tr></table>"
      ],
      "text/plain": [
       "dislay =    9.0000e+00   3.7768e-23            0   1.0000e-99   2.7124e-10\n"
      ]
     },
     "metadata": {},
     "output_type": "display_data"
    },
    {
     "data": {
      "text/html": [
       "<table><tr><th><i>dislay<i></th><th>1</th><th>2</th><th>3</th><th>4</th><th>5</th></tr><tr><th>1</th><td>9.2</td><td>1.77719e-23</td><td>0</td><td>1e-99</td><td>2.72144e-10</td></tr></table>"
      ],
      "text/plain": [
       "dislay =    9.2000e+00   1.7772e-23            0   1.0000e-99   2.7214e-10\n"
      ]
     },
     "metadata": {},
     "output_type": "display_data"
    },
    {
     "data": {
      "text/html": [
       "<table><tr><th><i>dislay<i></th><th>1</th><th>2</th><th>3</th><th>4</th><th>5</th></tr><tr><th>1</th><td>9.4</td><td>4.9091e-24</td><td>8.90928e-06</td><td>1e-99</td><td>2.62695e-10</td></tr></table>"
      ],
      "text/plain": [
       "dislay =    9.4000e+00   4.9091e-24   8.9093e-06   1.0000e-99   2.6269e-10\n"
      ]
     },
     "metadata": {},
     "output_type": "display_data"
    },
    {
     "data": {
      "text/html": [
       "<table><tr><th><i>dislay<i></th><th>1</th><th>2</th><th>3</th><th>4</th><th>5</th></tr><tr><th>1</th><td>9.6</td><td>1.23311e-24</td><td>9.83194e-06</td><td>1.58255e-08</td><td>2.66518e-10</td></tr></table>"
      ],
      "text/plain": [
       "dislay =    9.6000e+00   1.2331e-24   9.8319e-06   1.5826e-08   2.6652e-10\n"
      ]
     },
     "metadata": {},
     "output_type": "display_data"
    },
    {
     "data": {
      "text/html": [
       "<table><tr><th><i>dislay<i></th><th>1</th><th>2</th><th>3</th><th>4</th><th>5</th></tr><tr><th>1</th><td>9.8</td><td>3.09744e-25</td><td>9.84287e-06</td><td>1.44691e-08</td><td>2.71609e-10</td></tr></table>"
      ],
      "text/plain": [
       "dislay =    9.8000e+00   3.0974e-25   9.8429e-06   1.4469e-08   2.7161e-10\n"
      ]
     },
     "metadata": {},
     "output_type": "display_data"
    },
    {
     "data": {
      "text/html": [
       "<table><tr><th><i>dislay<i></th><th>1</th><th>2</th><th>3</th><th>4</th><th>5</th></tr><tr><th>1</th><td>10</td><td>7.78044e-26</td><td>9.79283e-06</td><td>9.16496e-09</td><td>2.74323e-10</td></tr></table>"
      ],
      "text/plain": [
       "dislay =    1.0000e+01   7.7804e-26   9.7928e-06   9.1650e-09   2.7432e-10\n"
      ]
     },
     "metadata": {},
     "output_type": "display_data"
    },
    {
     "data": {
      "text/html": [
       "<table><tr><th><i>dislay<i></th><th>1</th><th>2</th><th>3</th><th>4</th><th>5</th></tr><tr><th>1</th><td>10.2</td><td>1.95436e-26</td><td>9.68667e-06</td><td>5.76323e-09</td><td>2.7531e-10</td></tr></table>"
      ],
      "text/plain": [
       "dislay =    1.0200e+01   1.9544e-26   9.6867e-06   5.7632e-09   2.7531e-10\n"
      ]
     },
     "metadata": {},
     "output_type": "display_data"
    },
    {
     "data": {
      "text/html": [
       "<table><tr><th><i>dislay<i></th><th>1</th><th>2</th><th>3</th><th>4</th><th>5</th></tr><tr><th>1</th><td>10.4</td><td>4.90916e-27</td><td>9.50775e-06</td><td>3.60072e-09</td><td>2.75597e-10</td></tr></table>"
      ],
      "text/plain": [
       "dislay =    1.0400e+01   4.9092e-27   9.5078e-06   3.6007e-09   2.7560e-10\n"
      ]
     },
     "metadata": {},
     "output_type": "display_data"
    },
    {
     "data": {
      "text/html": [
       "<table><tr><th><i>dislay<i></th><th>1</th><th>2</th><th>3</th><th>4</th><th>5</th></tr><tr><th>1</th><td>10.6</td><td>1.23313e-27</td><td>9.21993e-06</td><td>2.23156e-09</td><td>2.75604e-10</td></tr></table>"
      ],
      "text/plain": [
       "dislay =    1.0600e+01   1.2331e-27   9.2199e-06   2.2316e-09   2.7560e-10\n"
      ]
     },
     "metadata": {},
     "output_type": "display_data"
    },
    {
     "data": {
      "text/html": [
       "<table><tr><th><i>dislay<i></th><th>1</th><th>2</th><th>3</th><th>4</th><th>5</th></tr><tr><th>1</th><td>10.8</td><td>3.09753e-28</td><td>8.76206e-06</td><td>1.36596e-09</td><td>2.75438e-10</td></tr></table>"
      ],
      "text/plain": [
       "dislay =    1.0800e+01   3.0975e-28   8.7621e-06   1.3660e-09   2.7544e-10\n"
      ]
     },
     "metadata": {},
     "output_type": "display_data"
    },
    {
     "data": {
      "text/html": [
       "<table><tr><th><i>dislay<i></th><th>1</th><th>2</th><th>3</th><th>4</th><th>5</th></tr><tr><th>1</th><td>11</td><td>7.78079e-29</td><td>8.03573e-06</td><td>8.19276e-10</td><td>2.75092e-10</td></tr></table>"
      ],
      "text/plain": [
       "dislay =    1.1000e+01   7.7808e-29   8.0357e-06   8.1928e-10   2.7509e-10\n"
      ]
     },
     "metadata": {},
     "output_type": "display_data"
    },
    {
     "data": {
      "text/html": [
       "<table><tr><th><i>dislay<i></th><th>1</th><th>2</th><th>3</th><th>4</th><th>5</th></tr><tr><th>1</th><td>11.2</td><td>1.95451e-29</td><td>6.88432e-06</td><td>4.74149e-10</td><td>2.74498e-10</td></tr></table>"
      ],
      "text/plain": [
       "dislay =    1.1200e+01   1.9545e-29   6.8843e-06   4.7415e-10   2.7450e-10\n"
      ]
     },
     "metadata": {},
     "output_type": "display_data"
    },
    {
     "data": {
      "text/html": [
       "<table><tr><th><i>dislay<i></th><th>1</th><th>2</th><th>3</th><th>4</th><th>5</th></tr><tr><th>1</th><td>11.4</td><td>4.90973e-30</td><td>5.05939e-06</td><td>2.56343e-10</td><td>2.7353e-10</td></tr></table>"
      ],
      "text/plain": [
       "dislay =    1.1400e+01   4.9097e-30   5.0594e-06   2.5634e-10   2.7353e-10\n"
      ]
     },
     "metadata": {},
     "output_type": "display_data"
    },
    {
     "data": {
      "text/html": [
       "<table><tr><th><i>dislay<i></th><th>1</th><th>2</th><th>3</th><th>4</th><th>5</th></tr><tr><th>1</th><td>11.6</td><td>1.23336e-30</td><td>2.16716e-06</td><td>1.18874e-10</td><td>2.71979e-10</td></tr></table>"
      ],
      "text/plain": [
       "dislay =    1.1600e+01   1.2334e-30   2.1672e-06   1.1887e-10   2.7198e-10\n"
      ]
     },
     "metadata": {},
     "output_type": "display_data"
    },
    {
     "data": {
      "text/html": [
       "<table><tr><th><i>dislay<i></th><th>1</th><th>2</th><th>3</th><th>4</th><th>5</th></tr><tr><th>1</th><td>11.8</td><td>2.49688e-31</td><td>0</td><td>3.21282e-11</td><td>2.70812e-10</td></tr></table>"
      ],
      "text/plain": [
       "dislay =    1.1800e+01   2.4969e-31            0   3.2128e-11   2.7081e-10\n"
      ]
     },
     "metadata": {},
     "output_type": "display_data"
    },
    {
     "data": {
      "text/html": [
       "<table><tr><th><i>dislay<i></th><th>1</th><th>2</th><th>3</th><th>4</th><th>5</th></tr><tr><th>1</th><td>12</td><td>3.96125e-32</td><td>0</td><td>2.02721e-11</td><td>2.70812e-10</td></tr></table>"
      ],
      "text/plain": [
       "dislay =    1.2000e+01   3.9612e-32            0   2.0272e-11   2.7081e-10\n"
      ]
     },
     "metadata": {},
     "output_type": "display_data"
    }
   ],
   "source": [
    "% MODEL USING TABLEAU (different gradients or log versus linear variables)\n",
    "%graphics_toolkit(\"notebook\")\n",
    "%model with just inorganic speciation\n",
    "%geochemical model\n",
    "% input the constants and solution chemistry\n",
    "flag0=1; %choose solver. 0 for tableau and 1 for phreeqc-based solver\n",
    "flag1=2; %flag1 for concentration based search vector (1) or for log based search vector (2).\n",
    "flag2=1; %flag2 for numerical derivatives (2) or analtyical derivatives (1)\n",
    "flag3=0; % flag3 1 for show warnings. 0 no warnings\n",
    "flag4=1; %if=1 solve tableau one line at a time to get a good initial guess (no solids). really challenging probs only\n",
    "flag5=0; %if=1 use stored initial guess for including solids\n",
    "\n",
    "TOTALS=[FeT; PT; ClT; NaT; HFOsi; HFOwi]';\n",
    "TOTALS(TOTALS==0)=1e-16; % get rid of zero values, b/c div by zero error\n",
    "\n",
    "for i=1:length(pH)\n",
    "    flag5=0; % flags ignored for PHREEQC anyway.\n",
    "    %if i>1; flag5=1; end\n",
    "    [Fep3(i),HFO(i),HfowHPO4m(i),MASSERR(i)]=FeHPO4tableau(pH(i),pe(i),TOTALS',flag0,flag1,flag2,flag3,flag4,flag5); \n",
    "    if HFO(i)>0; % should make loop until HFO value converges, but from previous tests it converges fast.  one step was how I did the 2008 WER paper\n",
    "        HFOs=ASFs*HFO(i); HFOw=ASFw*HFO(i); \n",
    "        TOTALS=[FeT; PT; ClT; NaT; HFOs; HFOw]';\n",
    "        [Fep3(i),HFO(i),HfowHPO4m3(i),MASSERR(i)]=FeHPO4tableau(pH(i),pe(i),TOTALS',flag0,flag1,flag2,flag3,flag4,flag5);\n",
    "    end\n",
    "    dislay=[pH(i) Fep3(i) HFO(i) HfowHPO4m(i) MASSERR(i)]\n",
    "end"
   ]
  },
  {
   "cell_type": "code",
   "execution_count": 11,
   "id": "7ac03d3b-48de-410e-8913-4b0e21ec7fe0",
   "metadata": {
    "tags": []
   },
   "outputs": [
    {
     "data": {
      "application/vnd.plotly.v1+json": {
       "data": [
        {
         "line": {
          "color": "rgb(0,113,188)",
          "dash": "solid",
          "width": 0.5
         },
         "marker": {
          "color": "rgb(0,113,188)",
          "line": {
           "color": "rgb(0,113,188)"
          },
          "size": 6,
          "symbol": "none"
         },
         "mode": "lines",
         "name": "Fe^{3+}",
         "showlegend": true,
         "type": "scatter",
         "visibility": true,
         "x": [
          2,
          2.2,
          2.4,
          2.6,
          2.8,
          3,
          3.2,
          3.4000000000000004,
          3.6,
          3.8,
          4,
          4.2,
          4.4,
          4.6,
          4.800000000000001,
          5,
          5.2,
          5.4,
          5.6,
          5.800000000000001,
          6,
          6.2,
          6.4,
          6.6000000000000005,
          6.800000000000001,
          7,
          7.2,
          7.4,
          7.6000000000000005,
          7.800000000000001,
          8,
          8.2,
          8.4,
          8.600000000000001,
          8.8,
          9,
          9.2,
          9.4,
          9.600000000000001,
          9.8,
          10,
          10.200000000000001,
          10.4,
          10.6,
          10.8,
          11,
          11.200000000000001,
          11.4,
          11.600000000000001,
          11.8,
          12
         ],
         "xaxis": "x",
         "y": [
          5.375520595455e-15,
          3.3897953035659996e-15,
          2.137621834546e-15,
          1.3480798234350002e-15,
          8.502390733422001e-16,
          5.363021226681999e-16,
          3.3831061517560005e-16,
          2.1342779153799998e-16,
          1.346502621717e-16,
          8.495273622667e-17,
          5.359892911489e-17,
          3.381732773654e-17,
          2.133651328204e-17,
          1.346186642043e-17,
          8.493386988672e-18,
          5.358524364596999e-18,
          3.38057607669e-18,
          2.1325846331839994e-18,
          1.3451638083289999e-18,
          8.483455057461003e-19,
          5.348894786633e-19,
          3.3713399395979993e-19,
          2.123895691914e-19,
          1.3372234838169999e-19,
          8.413751867425e-20,
          5.290809783417001e-20,
          3.223463603021e-20,
          1.484227820592e-20,
          6.923474427496999e-21,
          3.2642918407860008e-21,
          1.5503824867250002e-21,
          7.391752611286e-22,
          3.526973998252e-22,
          1.6804553728360004e-22,
          7.982929557285e-23,
          3.776848108612e-23,
          1.7771886104820003e-23,
          4.909099541304001e-24,
          1.233111424554e-24,
          3.0974408051069994e-25,
          7.780435904823e-26,
          1.954363135257e-26,
          4.9091616077260005e-27,
          1.2331348998489997e-27,
          3.0975316286640005e-28,
          7.780794140820001e-29,
          1.9545054275270003e-29,
          4.9097277731540015e-30,
          1.233360263981e-30,
          2.4968752740469995e-31,
          3.9612473678529993e-32
         ],
         "yaxis": "y"
        },
        {
         "line": {
          "color": "rgb(216,82,24)",
          "dash": "solid",
          "width": 0.5
         },
         "marker": {
          "color": "rgb(216,82,24)",
          "line": {
           "color": "rgb(216,82,24)"
          },
          "size": 6,
          "symbol": "none"
         },
         "mode": "lines",
         "name": "HFO",
         "showlegend": true,
         "type": "scatter",
         "visibility": true,
         "x": [
          2,
          2.2,
          2.4,
          2.6,
          2.8,
          3,
          3.2,
          3.4000000000000004,
          3.6,
          3.8,
          4,
          4.2,
          4.4,
          4.6,
          4.800000000000001,
          5,
          5.2,
          5.4,
          5.6,
          5.800000000000001,
          6,
          6.2,
          6.4,
          6.6000000000000005,
          6.800000000000001,
          7,
          7.2,
          7.4,
          7.6000000000000005,
          7.800000000000001,
          8,
          8.2,
          8.4,
          8.600000000000001,
          8.8,
          9,
          9.2,
          9.4,
          9.600000000000001,
          9.8,
          10,
          10.200000000000001,
          10.4,
          10.6,
          10.8,
          11,
          11.200000000000001,
          11.4,
          11.600000000000001,
          11.8,
          12
         ],
         "xaxis": "x",
         "y": [
          0,
          0,
          0,
          0,
          0,
          0,
          0,
          0,
          0,
          0,
          0,
          0,
          0,
          0,
          0,
          0,
          0,
          0,
          0,
          0,
          0,
          0,
          0,
          0,
          0,
          0,
          0,
          0,
          0,
          0,
          0,
          0,
          0,
          0,
          0,
          0,
          0,
          8.909282908287003e-06,
          9.831937728899999e-06,
          9.842874458347001e-06,
          9.792825054254999e-06,
          9.686673311862e-06,
          9.507751490900999e-06,
          9.219926214641e-06,
          8.762062208578e-06,
          8.035728854517e-06,
          6.884317487443e-06,
          5.059392733946001e-06,
          2.1671562209540003e-06,
          0,
          0
         ],
         "yaxis": "y"
        },
        {
         "line": {
          "color": "rgb(236,176,31)",
          "dash": "solid",
          "width": 0.5
         },
         "marker": {
          "color": "rgb(236,176,31)",
          "line": {
           "color": "rgb(236,176,31)"
          },
          "size": 6,
          "symbol": "none"
         },
         "mode": "lines",
         "name": "HFO-PO4",
         "showlegend": true,
         "type": "scatter",
         "visibility": true,
         "x": [
          2,
          2.2,
          2.4,
          2.6,
          2.8,
          3,
          3.2,
          3.4000000000000004,
          3.6,
          3.8,
          4,
          4.2,
          4.4,
          4.6,
          4.800000000000001,
          5,
          5.2,
          5.4,
          5.6,
          5.800000000000001,
          6,
          6.2,
          6.4,
          6.6000000000000005,
          6.800000000000001,
          7,
          7.2,
          7.4,
          7.6000000000000005,
          7.800000000000001,
          8,
          8.2,
          8.4,
          8.600000000000001,
          8.8,
          9,
          9.2,
          9.4,
          9.600000000000001,
          9.8,
          10,
          10.200000000000001,
          10.4,
          10.6,
          10.8,
          11,
          11.200000000000001,
          11.4,
          11.600000000000001,
          11.8,
          12
         ],
         "xaxis": "x",
         "y": [
          9.999999999999998e-100,
          9.999999999999998e-100,
          9.999999999999998e-100,
          9.999999999999998e-100,
          9.999999999999998e-100,
          9.999999999999998e-100,
          9.999999999999998e-100,
          9.999999999999998e-100,
          9.999999999999998e-100,
          9.999999999999998e-100,
          9.999999999999998e-100,
          9.999999999999998e-100,
          9.999999999999998e-100,
          9.999999999999998e-100,
          9.999999999999998e-100,
          9.999999999999998e-100,
          9.999999999999998e-100,
          9.999999999999998e-100,
          9.999999999999998e-100,
          9.999999999999998e-100,
          9.999999999999998e-100,
          9.999999999999998e-100,
          9.999999999999998e-100,
          9.999999999999998e-100,
          9.999999999999998e-100,
          9.999999999999998e-100,
          9.999999999999998e-100,
          9.999999999999998e-100,
          9.999999999999998e-100,
          9.999999999999998e-100,
          9.999999999999998e-100,
          9.999999999999998e-100,
          9.999999999999998e-100,
          9.999999999999998e-100,
          9.999999999999998e-100,
          9.999999999999998e-100,
          9.999999999999998e-100,
          9.999999999999998e-100,
          1.582552571059e-08,
          1.4469104896310001e-08,
          9.164960864844e-09,
          5.763227948302e-09,
          3.600715713843e-09,
          2.2315629054539994e-09,
          1.3659632528199996e-09,
          8.192757350818001e-10,
          4.741488434317001e-10,
          2.5634302055830005e-10,
          1.18873912248e-10,
          3.2128228006109997e-11,
          2.0272096102629998e-11
         ],
         "yaxis": "y"
        },
        {
         "hoverinfo": "none",
         "line": {
          "color": "rgb(0,113,188)",
          "dash": "solid",
          "width": 0.5
         },
         "marker": {
          "color": "rgb(0,113,188)",
          "line": {
           "color": "rgb(0,113,188)"
          },
          "size": 6,
          "symbol": "none"
         },
         "mode": "lines",
         "name": "",
         "showlegend": false,
         "type": "scatter",
         "visibility": true,
         "x": [
          3,
          18
         ],
         "xaxis": "x2",
         "y": [
          8,
          8
         ],
         "yaxis": "y2"
        },
        {
         "hoverinfo": "none",
         "line": {
          "color": "rgb(216,82,24)",
          "dash": "solid",
          "width": 0.5
         },
         "marker": {
          "color": "rgb(216,82,24)",
          "line": {
           "color": "rgb(216,82,24)"
          },
          "size": 6,
          "symbol": "none"
         },
         "mode": "lines",
         "name": "",
         "showlegend": false,
         "type": "scatter",
         "visibility": true,
         "x": [
          3,
          18
         ],
         "xaxis": "x2",
         "y": [
          20,
          20
         ],
         "yaxis": "y2"
        },
        {
         "hoverinfo": "none",
         "line": {
          "color": "rgb(236,176,31)",
          "dash": "solid",
          "width": 0.5
         },
         "marker": {
          "color": "rgb(236,176,31)",
          "line": {
           "color": "rgb(236,176,31)"
          },
          "size": 6,
          "symbol": "none"
         },
         "mode": "lines",
         "name": "",
         "showlegend": false,
         "type": "scatter",
         "visibility": true,
         "x": [
          3,
          18
         ],
         "xaxis": "x2",
         "y": [
          31,
          31
         ],
         "yaxis": "y2"
        }
       ],
       "layout": {
        "annotations": [
         {
          "font": {
           "color": "rgb(0, 0, 0)",
           "size": 9
          },
          "showarrow": false,
          "text": "Fe<sup>3+</sup>",
          "x": 21,
          "xanchor": "left",
          "xref": "x2",
          "y": 8,
          "yanchor": "middle",
          "yref": "y2"
         },
         {
          "font": {
           "color": "rgb(0, 0, 0)",
           "size": 9
          },
          "showarrow": false,
          "text": "HFO",
          "x": 21,
          "xanchor": "left",
          "xref": "x2",
          "y": 20,
          "yanchor": "middle",
          "yref": "y2"
         },
         {
          "font": {
           "color": "rgb(0, 0, 0)",
           "size": 9
          },
          "showarrow": false,
          "text": "HFO-PO4",
          "x": 21,
          "xanchor": "left",
          "xref": "x2",
          "y": 31,
          "yanchor": "middle",
          "yref": "y2"
         }
        ],
        "height": 420,
        "hovermode": "closest",
        "margin": {
         "b": 0,
         "l": 0,
         "r": 0,
         "t": 0
        },
        "plot_bgcolor": "rgba(0, 0, 0, 0)",
        "showlegend": false,
        "width": 560,
        "xaxis": {
         "anchor": "y",
         "autorange": false,
         "domain": [
          0.13,
          0.8660714285714286
         ],
         "exponentformat": "none",
         "gridcolor": "rgba(38,38,38,0.15)",
         "gridwidth": 1,
         "linecolor": "rgb(38,38,38)",
         "linewidth": 1,
         "mirror": "ticks",
         "range": [
          2,
          12
         ],
         "showgrid": false,
         "showline": true,
         "side": "bottom",
         "spikedash": "solid",
         "spikemode": "across",
         "spikesides": false,
         "spikethickness": 1,
         "tickangle": 0,
         "tickcolor": "rgb(38,38,38)",
         "tickfont": {
          "color": "rgb(38,38,38)",
          "size": 10
         },
         "ticklen": 3,
         "ticks": "inside",
         "ticktext": [
          "2",
          "4",
          "6",
          "8",
          "10",
          "12"
         ],
         "tickvals": [
          2,
          4,
          6,
          8,
          10,
          12
         ],
         "title": {
          "font": {
           "color": "rgb(38,38,38)",
           "size": 11
          },
          "text": "pH"
         },
         "type": "linear",
         "visible": true,
         "zeroline": false
        },
        "xaxis2": {
         "anchor": "y2",
         "autorange": false,
         "domain": [
          0.8767857142857143,
          0.9892857142857143
         ],
         "exponentformat": "none",
         "fixedrange": true,
         "gridcolor": "rgba(38,38,38,0.15)",
         "gridwidth": 1,
         "linecolor": "rgb(38,38,38)",
         "linewidth": 1,
         "mirror": true,
         "range": [
          0,
          63
         ],
         "showgrid": false,
         "showline": true,
         "showspikes": false,
         "side": "bottom",
         "spikedash": "solid",
         "spikemode": "across",
         "spikesides": false,
         "spikethickness": 1,
         "tickangle": 0,
         "tickcolor": "rgb(38,38,38)",
         "tickfont": {
          "color": "rgb(38,38,38)",
          "size": 9
         },
         "ticklen": 3,
         "ticks": "",
         "ticktext": [],
         "tickvals": [],
         "title": {
          "font": {
           "color": "rgb(0, 0, 0)",
           "size": 9.9
          },
          "text": ""
         },
         "type": "linear",
         "visible": true,
         "zeroline": false
        },
        "yaxis": {
         "anchor": "x",
         "autorange": false,
         "domain": [
          0.11,
          0.9249999999999999
         ],
         "exponentformat": "none",
         "gridcolor": "rgba(38,38,38,0.15)",
         "gridwidth": 1,
         "linecolor": "rgb(38,38,38)",
         "linewidth": 1,
         "mirror": "ticks",
         "range": [
          0,
          9.999999999999999e-06
         ],
         "showgrid": false,
         "showline": true,
         "side": "left",
         "spikedash": "solid",
         "spikemode": "across",
         "spikesides": false,
         "spikethickness": 1,
         "tickangle": 0,
         "tickcolor": "rgb(38,38,38)",
         "tickfont": {
          "color": "rgb(38,38,38)",
          "size": 10
         },
         "ticklen": 3,
         "ticks": "inside",
         "ticktext": [
          "0",
          "2e-06",
          "4e-06",
          "6e-06",
          "8e-06",
          "1e-05"
         ],
         "tickvals": [
          0,
          2e-06,
          4e-06,
          6e-06,
          8e-06,
          9.999999999999999e-06
         ],
         "title": {
          "font": {
           "color": "rgb(38,38,38)",
           "size": 11
          },
          "text": "[species]"
         },
         "type": "linear",
         "visible": true,
         "zeroline": false
        },
        "yaxis2": {
         "anchor": "x2",
         "autorange": false,
         "domain": [
          0.47226190476190466,
          0.5627380952380951
         ],
         "exponentformat": "none",
         "fixedrange": true,
         "gridcolor": "rgba(38,38,38,0.15)",
         "gridwidth": 1,
         "linecolor": "rgb(38,38,38)",
         "linewidth": 1,
         "mirror": true,
         "range": [
          38,
          0
         ],
         "showgrid": false,
         "showline": true,
         "showspikes": false,
         "side": "left",
         "spikedash": "solid",
         "spikemode": "across",
         "spikesides": false,
         "spikethickness": 1,
         "tickangle": 0,
         "tickcolor": "rgb(38,38,38)",
         "tickfont": {
          "color": "rgb(38,38,38)",
          "size": 9
         },
         "ticklen": 3,
         "ticks": "",
         "ticktext": [],
         "tickvals": [],
         "title": {
          "font": {
           "color": "rgb(0, 0, 0)",
           "size": 9.9
          },
          "text": ""
         },
         "type": "linear",
         "visible": true,
         "zeroline": false
        }
       }
      },
      "image/png": "[encoded data removed]"
     },
     "metadata": {},
     "output_type": "display_data"
    }
   ],
   "source": [
    "\n",
    "plot(pH,Fep3,pH,HFO,pH,HfowHPO4m)\n",
    "xlabel('pH'); ylabel('[species]'); legend('Fe^{3+}','HFO','HFO-PO4','location','eastoutside')\n",
    "\n"
   ]
  },
  {
   "cell_type": "code",
   "execution_count": 12,
   "id": "cf234569-14d3-4f80-b219-6b64aa57b6bf",
   "metadata": {
    "tags": []
   },
   "outputs": [
    {
     "data": {
      "application/vnd.plotly.v1+json": {
       "data": [
        {
         "line": {
          "color": "rgb(0,113,188)",
          "dash": "solid",
          "width": 0.5
         },
         "marker": {
          "color": "rgb(0,113,188)",
          "line": {
           "color": "rgb(0,113,188)"
          },
          "size": 6,
          "symbol": "none"
         },
         "mode": "lines",
         "name": "",
         "showlegend": false,
         "type": "scatter",
         "visibility": true,
         "x": [
          2,
          2.2,
          2.4,
          2.6,
          2.8,
          3,
          3.2,
          3.4000000000000004,
          3.6,
          3.8,
          4,
          4.2,
          4.4,
          4.6,
          4.800000000000001,
          5,
          5.2,
          5.4,
          5.6,
          5.800000000000001,
          6,
          6.2,
          6.4,
          6.6000000000000005,
          6.800000000000001,
          7,
          7.2,
          7.4,
          7.6000000000000005,
          7.800000000000001,
          8,
          8.2,
          8.4,
          8.600000000000001,
          8.8,
          9,
          9.2,
          9.4,
          9.600000000000001,
          9.8,
          10,
          10.200000000000001,
          10.4,
          10.6,
          10.8,
          11,
          11.200000000000001,
          11.4,
          11.600000000000001,
          11.8,
          12
         ],
         "xaxis": "x",
         "y": [
          2.708124373182626e-10,
          2.708124373182626e-10,
          2.708124373182626e-10,
          2.708124373182626e-10,
          2.708124373182626e-10,
          2.708124373182626e-10,
          2.708124373182626e-10,
          2.708124373182626e-10,
          2.708124373182626e-10,
          2.708124373182626e-10,
          2.708124373182626e-10,
          2.708124373182626e-10,
          2.708124373182626e-10,
          2.708124373182626e-10,
          2.708124373182626e-10,
          2.708124373182626e-10,
          2.708124373182626e-10,
          2.708124373182626e-10,
          2.708124373182626e-10,
          2.708124373182626e-10,
          2.708124373182626e-10,
          2.708124373182626e-10,
          2.708124373182626e-10,
          2.708124373182626e-10,
          2.708124373182626e-10,
          2.708124373182626e-10,
          2.708124373182626e-10,
          2.708124873169234e-10,
          2.7081262731791706e-10,
          2.708130473175099e-10,
          2.708142373174856e-10,
          2.7081764731966534e-10,
          2.7082750731510807e-10,
          2.708569173154763e-10,
          2.709477073178099e-10,
          2.712360473144915e-10,
          2.7214375731445645e-10,
          2.6269453731641765e-10,
          2.6651779732334295e-10,
          2.7160936731462177e-10,
          2.743226573124395e-10,
          2.7530991730950077e-10,
          2.7559743731391494e-10,
          2.7560401731318283e-10,
          2.7543805731434687e-10,
          2.7509197731104165e-10,
          2.744980973175737e-10,
          2.735298773099597e-10,
          2.719787773157998e-10,
          2.708124373182626e-10,
          2.708124373182626e-10
         ],
         "yaxis": "y"
        }
       ],
       "layout": {
        "height": 420,
        "hovermode": "closest",
        "margin": {
         "b": 0,
         "l": 0,
         "r": 0,
         "t": 0
        },
        "plot_bgcolor": "rgba(0, 0, 0, 0)",
        "showlegend": false,
        "width": 560,
        "xaxis": {
         "anchor": "y",
         "autorange": false,
         "domain": [
          0.13,
          0.905
         ],
         "exponentformat": "none",
         "gridcolor": "rgba(38,38,38,0.15)",
         "gridwidth": 1,
         "linecolor": "rgb(38,38,38)",
         "linewidth": 1,
         "mirror": "ticks",
         "range": [
          2,
          12
         ],
         "showgrid": false,
         "showline": true,
         "side": "bottom",
         "spikedash": "solid",
         "spikemode": "across",
         "spikesides": false,
         "spikethickness": 1,
         "tickangle": 0,
         "tickcolor": "rgb(38,38,38)",
         "tickfont": {
          "color": "rgb(38,38,38)",
          "size": 10
         },
         "ticklen": 3,
         "ticks": "inside",
         "ticktext": [
          "2",
          "4",
          "6",
          "8",
          "10",
          "12"
         ],
         "tickvals": [
          2,
          4,
          6,
          8,
          10,
          12
         ],
         "title": {
          "font": {
           "color": "rgb(0, 0, 0)",
           "size": 11
          },
          "text": ""
         },
         "type": "linear",
         "visible": true,
         "zeroline": false
        },
        "yaxis": {
         "anchor": "x",
         "autorange": false,
         "domain": [
          0.11,
          0.9249999999999999
         ],
         "exponentformat": "none",
         "gridcolor": "rgba(38,38,38,0.15)",
         "gridwidth": 1,
         "linecolor": "rgb(38,38,38)",
         "linewidth": 1,
         "mirror": "ticks",
         "range": [
          2.2e-10,
          3.2e-10
         ],
         "showgrid": false,
         "showline": true,
         "side": "left",
         "spikedash": "solid",
         "spikemode": "across",
         "spikesides": false,
         "spikethickness": 1,
         "tickangle": 0,
         "tickcolor": "rgb(38,38,38)",
         "tickfont": {
          "color": "rgb(38,38,38)",
          "size": 10
         },
         "ticklen": 3,
         "ticks": "inside",
         "ticktext": [
          "2.2e-10",
          "2.4e-10",
          "2.6e-10",
          "2.8e-10",
          "3e-10",
          "3.2e-10"
         ],
         "tickvals": [
          2.2e-10,
          2.4e-10,
          2.6e-10,
          2.7999999999999996e-10,
          3e-10,
          3.2e-10
         ],
         "title": {
          "font": {
           "color": "rgb(0, 0, 0)",
           "size": 11
          },
          "text": ""
         },
         "type": "linear",
         "visible": true,
         "zeroline": false
        }
       }
      },
      "image/png": "[encoded data removed]"
     },
     "metadata": {},
     "output_type": "display_data"
    }
   ],
   "source": [
    "plot(pH,MASSERR)"
   ]
  },
  {
   "cell_type": "code",
   "execution_count": 7,
   "id": "d53d9aea-4869-479a-9be7-f9457a1d85aa",
   "metadata": {
    "tags": []
   },
   "outputs": [
    {
     "name": "stdout",
     "output_type": "stream",
     "text": [
      "\n",
      "quickRun guardado con los datos de la sesión rápida.\n"
     ]
    }
   ],
   "source": [
    "% === GUARDAR RESULTADOS DE ESTA SESIÓN ==================\n",
    "quickRun = struct( ...\n",
    "    \"pH\",          pH(:),        ...\n",
    "    \"Fe3_aq\",      Fep3(:),      ...\n",
    "    \"FeOH3s\",      HFO(:),       ...\n",
    "    \"HFO_P_ads\",   HfowHPO4m(:), ...\n",
    "    \"MassErr\",     MASSERR(:)    ...\n",
    ");\n",
    "save(\"-v7\", \"phreeqc_runs.mat\", \"quickRun\");\n",
    "printf(\"\\nquickRun guardado con los datos de la sesión rápida.\\n\");"
   ]
  },
  {
   "cell_type": "code",
   "execution_count": null,
   "id": "817845bc-6d99-468e-ac72-4808d8860787",
   "metadata": {
    "tags": []
   },
   "outputs": [
    {
     "name": "stdout",
     "output_type": "stream",
     "text": [
      "\n",
      "Guardado firstRun + MassErr_firstRun tras run = 1.\n",
      "Run 01 | wall = 15.540 s | cpu = 0.005 s  -> guardado\n",
      "Run 02 | wall = 15.612 s | cpu = 0.006 s  -> guardado\n",
      "Run 03 | wall = 15.647 s | cpu = 0.005 s  -> guardado\n",
      "Run 04 | wall = 15.683 s | cpu = 0.005 s  -> guardado\n",
      "Run 05 | wall = 15.797 s | cpu = 0.005 s  -> guardado\n",
      "Run 06 | wall = 15.784 s | cpu = 0.005 s  -> guardado\n",
      "Run 07 | wall = 15.778 s | cpu = 0.005 s  -> guardado\n",
      "Run 08 | wall = 16.091 s | cpu = 0.005 s  -> guardado\n",
      "Run 09 | wall = 16.069 s | cpu = 0.005 s  -> guardado\n",
      "Run 10 | wall = 15.967 s | cpu = 0.005 s  -> guardado\n"
     ]
    }
   ],
   "source": [
    "%% ==============================================================\n",
    "%% 1. Helper robusto: extrae el CPU-time de out.txt\n",
    "%% ==============================================================\n",
    "function t = get_cpu_time (fname)\n",
    "  t = NaN;\n",
    "  fid = fopen (fname,\"rb\");\n",
    "  if fid < 0, warning (\"No pude abrir %s\", fname); return; end\n",
    "  data = fread (fid, Inf, \"uint8=>uint8\");  fclose (fid);\n",
    "  data(data>127) = 32;                       % limpia UTF-8 raro\n",
    "  str = char (data');\n",
    "  tok = regexp (str,\"after\\\\s+([0-9.]+(?:[eE][+-]?[0-9]+)?)\\\\s+Seconds\",\n",
    "                \"tokens\",\"once\");\n",
    "  if !isempty(tok), t = str2double(tok{1}); end\n",
    "endfunction\n",
    "\n",
    "\n",
    "%% ==============================================================\n",
    "%% 2. Bucle principal — resultados + tiempos\n",
    "%% ==============================================================\n",
    "if exist(\"phreeqc_runs_times.mat\",\"file\"), delete(\"phreeqc_runs_times.mat\"); endif\n",
    "nRuns = 50;\n",
    "save(\"-v7\",\"phreeqc_runs_times.mat\",\"nRuns\");          % cabecera mínima\n",
    "\n",
    "nPts = numel(pH);\n",
    "\n",
    "% ===== matrices para TODAS las corridas =====\n",
    "Fep3        = NaN(nPts,nRuns);   % Fe3+ (aq)\n",
    "HFO         = NaN(nPts,nRuns);   % Fe(OH)3(s)\n",
    "HFO_PO4     = NaN(nPts,nRuns);   % HfowHPO4m  (P adsorbido)\n",
    "MassErr     = NaN(nPts,nRuns);   % error global de masa\n",
    "\n",
    "t_wall = NaN(nRuns,1);\n",
    "t_cpu  = NaN(nRuns,1);\n",
    "\n",
    "for run = 1:nRuns\n",
    "  tic();\n",
    "  for i = 1:nPts\n",
    "    flag5 = 0;\n",
    "    [Fep3(i,run), HFO(i,run), HFO_PO4(i,run), MassErr(i,run)] = ...\n",
    "        FeHPO4tableau(pH(i), pe(i), TOTALS', ...\n",
    "                      flag0, flag1, flag2, flag3, flag4, flag5);\n",
    "\n",
    "    if HFO(i,run) > 0                         % 2ª pasada si hay HFO\n",
    "      HFOs   = ASFs * HFO(i,run);\n",
    "      HFOw   = ASFw * HFO(i,run);\n",
    "      TOTALS = [FeT; PT; ClT; NaT; HFOs; HFOw]';\n",
    "      [Fep3(i,run), HFO(i,run), HFO_PO4(i,run), MassErr(i,run)] = ...\n",
    "          FeHPO4tableau(pH(i), pe(i), TOTALS', ...\n",
    "                        flag0, flag1, flag2, flag3, flag4, flag5);\n",
    "    endif\n",
    "  endfor\n",
    "\n",
    "  t_wall(run) = toc();\n",
    "  t_cpu(run)  = get_cpu_time(\"out.txt\");\n",
    "\n",
    "  % ---------- guardado especial en la 1ª corrida ----------\n",
    "  if run == 1\n",
    "    firstRun = struct( ...\n",
    "        \"pH\",        pH(:),      ...\n",
    "        \"FeOH3s\",    HFO(:,1),   ...\n",
    "        \"Fe3_aq\",    Fep3(:,1),  ...\n",
    "        \"HFO_P_ads\", HFO_PO4(:,1) );\n",
    "    MassErr_firstRun = MassErr(:,1);\n",
    "\n",
    "    save(\"-v7\",\"-append\",\"phreeqc_runs_times.mat\", ...\n",
    "         \"firstRun\",\"MassErr_firstRun\");\n",
    "    printf(\"\\nGuardado firstRun + MassErr_firstRun tras run = 1.\\n\");\n",
    "  endif\n",
    "\n",
    "  printf(\"Run %02d | wall = %.3f s | cpu = %.3f s  -> guardado\\n\",\n",
    "         run, t_wall(run), t_cpu(run));\n",
    "\n",
    "  % ---- guardado incremental: solo tiempos + run ----\n",
    "  save(\"-v7\",\"-append\",\"phreeqc_runs_times.mat\",\"t_wall\",\"t_cpu\",\"run\");\n",
    "  fflush(stdout);\n",
    "endfor\n",
    "\n",
    "\n",
    "%% ==============================================================\n",
    "%% 3. Estadísticos finales y cierre\n",
    "%% ==============================================================\n",
    "valid_wall = t_wall(~isnan(t_wall));\n",
    "valid_cpu  = t_cpu(~isnan(t_cpu));\n",
    "\n",
    "stats.wall_mean = mean(valid_wall);\n",
    "stats.wall_std  = std (valid_wall);\n",
    "stats.cpu_mean  = mean(valid_cpu);\n",
    "stats.cpu_std   = std (valid_cpu);\n",
    "\n",
    "save(\"-v7\",\"-append\",\"phreeqc_runs_times.mat\",\"stats\");\n",
    "\n",
    "printf(\"\\n>> ¡Todo completo! firstRun, tiempos y estadísticos guardados.\\n\");\n"
   ]
  },
  {
   "cell_type": "code",
   "execution_count": null,
   "id": "942dbe69-9e37-40b1-8f85-1684ddb32a6a",
   "metadata": {},
   "outputs": [],
   "source": []
  }
 ],
 "metadata": {
  "kernelspec": {
   "display_name": "Octave (xoctave)",
   "language": "Octave",
   "name": "xoctave"
  },
  "language_info": {
   "codemirror_mode": "octave",
   "file_extension": ".m",
   "mimetype": "text/x-octave",
   "name": "Octave",
   "nbconvert_exporter": "",
   "pygments_lexer": "octave",
   "version": "7.3.0"
  }
 },
 "nbformat": 4,
 "nbformat_minor": 5
}
