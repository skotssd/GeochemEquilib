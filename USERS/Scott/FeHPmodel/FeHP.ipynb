{
 "cells": [
  {
   "cell_type": "code",
   "execution_count": 2,
   "id": "f652ea83-6532-4ab6-bd0d-f82baf023909",
   "metadata": {},
   "outputs": [],
   "source": [
    "% setup environment\n",
    "% clear data and number format\n",
    "clear; format short e\n",
    "% set path to equilibrium solver\n",
    "txt=pwd; n=length(txt); rootpath=txt;\n",
    "n=strfind(rootpath,\"USERS\"); rootpath=txt(1:n-2);\n",
    "PHREEQCpath=[rootpath,'/runPHREEQC'];\n",
    "addpath(PHREEQCpath);\n",
    "JEQUILIBpath=[rootpath,'/JEQUILIB'];\n",
    "addpath(JEQUILIBpath);\n",
    "% turn off warnings\n",
    "warning off\n",
    "%graphics_toolkit (\"notebook\"); \n",
    "graphics_toolkit (\"plotly\"); \n",
    "%graphics_toolkit(\"gnuplot\")\n",
    "%delete existing phreeqc files\n",
    "system(\"rm DATABASE.dat\");\n",
    "system(\"rm runfile.txt\");\n",
    "%create empty phreeqc files\n",
    "system(\"touch DATABASE.dat\");\n",
    "system(\"touch runfile.txt\");"
   ]
  },
  {
   "cell_type": "code",
   "execution_count": 3,
   "id": "506d65c0-5336-470f-a8d4-c7eadca02061",
   "metadata": {},
   "outputs": [],
   "source": [
    "% define equilibrium problem\n",
    "\n",
    "FeT=1e-5; PT=1e-5; NaT=3*PT; ClT=3*FeT; pH=2:0.5:12; pe=20.75-pH; T=25; HFOsi=1e-30; HFOwi=1e-30; ASFw=0.2; ASFs=0.2;"
   ]
  },
  {
   "cell_type": "code",
   "execution_count": 4,
   "id": "501091b8-f0fd-49bf-9893-43754d442941",
   "metadata": {},
   "outputs": [],
   "source": [
    "% MODEL USING TABLEAU (different gradients or log versus linear variables)\n",
    "%graphics_toolkit(\"notebook\")\n",
    "%model with just inorganic speciation\n",
    "%geochemical model\n",
    "% input the constants and solution chemistry\n",
    "flag0=0; %choose solver. 0 for tableau and 1 for phreeqc-based solver\n",
    "flag1=2; %flag1 for concentration based search vector (1) or for log based search vector (2).\n",
    "flag2=1; %flag2 for numerical derivatives (2) or analtyical derivatives (1)\n",
    "flag3=0; % flag3 1 for show warnings. 0 no warnings\n",
    "flag4=1; %if=1 solve tableau one line at a time to get a good initial guess (no solids). really challenging probs only\n",
    "flag5=0; %if=1 use stored initial guess for including solids\n",
    "\n",
    "TOTALS=[FeT; PT; ClT; NaT; HFOsi; HFOwi]';\n",
    "TOTALS(TOTALS==0)=1e-16; % get rid of zero values, b/c div by zero error\n",
    "\n",
    "for i=1:length(pH)\n",
    "if i>1; flag5=1; end\n",
    "[Fep3(i),HFO(i),HfowHPO4m(i),MASSERR(i)]=FeHPO4tableau(pH(i),pe(i),TOTALS',flag0,flag1,flag2,flag3,flag4,flag5); \n",
    "if HFO(i)>0; % should make loop until HFO value converges, but from previous tests it converges fast.  one step was how I did the 2008 WER paper\n",
    "    HFOs=ASFs*HFO(i); HFOw=ASFw*HFO(i); \n",
    "    TOTALS=[FeT; PT; ClT; NaT; HFOs; HFOw]';\n",
    "    flag5=1;\n",
    "    [Fep3(i),HFO(i),HfowHPO4m3(i),MASSERR(i)]=FeHPO4tableau(pH(i),pe(i),TOTALS',flag0,flag1,flag2,flag3,flag4,flag5);\n",
    "end\n",
    "end"
   ]
  },
  {
   "cell_type": "code",
   "execution_count": 5,
   "id": "7ac03d3b-48de-410e-8913-4b0e21ec7fe0",
   "metadata": {},
   "outputs": [
    {
     "data": {
      "application/vnd.plotly.v1+json": {
       "data": [
        {
         "line": {
          "color": "rgb(0,113,188)",
          "dash": "solid",
          "width": 0.5
         },
         "marker": {
          "color": "rgb(0,113,188)",
          "line": {
           "color": "rgb(0,113,188)"
          },
          "size": 6,
          "symbol": "none"
         },
         "mode": "lines",
         "name": "",
         "showlegend": false,
         "type": "scatter",
         "visibility": true,
         "x": [
          2,
          2.5,
          3,
          3.5,
          4,
          4.5,
          5,
          5.5,
          6,
          6.5,
          7,
          7.5,
          8,
          8.5,
          9,
          9.5,
          10,
          10.5,
          11,
          11.5,
          12
         ],
         "xaxis": "x",
         "y": [
          4.135973077970514e-06,
          2.190206056145737e-06,
          8.66040213847052e-07,
          2.2102066846473012e-07,
          3.542653137097034e-08,
          2.4603676041476274e-09,
          7.78036551039804e-11,
          2.4603676041476276e-12,
          7.780365510398041e-14,
          2.4603676041476273e-15,
          7.780365510398009e-17,
          2.4603676041476174e-18,
          7.780365510398008e-20,
          2.4603676041476172e-21,
          7.780365510398009e-23,
          2.4603676041476172e-24,
          7.780365510398009e-26,
          2.4603676041476174e-27,
          7.780365510398009e-29,
          2.4603676041476175e-30,
          3.9767112944609664e-32
         ],
         "yaxis": "y"
        },
        {
         "line": {
          "color": "rgb(216,82,24)",
          "dash": "solid",
          "width": 0.5
         },
         "marker": {
          "color": "rgb(216,82,24)",
          "line": {
           "color": "rgb(216,82,24)"
          },
          "size": 6,
          "symbol": "none"
         },
         "mode": "lines",
         "name": "",
         "showlegend": false,
         "type": "scatter",
         "visibility": true,
         "x": [
          2,
          2.5,
          3,
          3.5,
          4,
          4.5,
          5,
          5.5,
          6,
          6.5,
          7,
          7.5,
          8,
          8.5,
          9,
          9.5,
          10,
          10.5,
          11,
          11.5,
          12
         ],
         "xaxis": "x",
         "y": [
          0,
          0,
          0,
          0,
          0,
          4.208091028846926e-06,
          8.264703164541687e-06,
          9.447517526920093e-06,
          9.81170772642993e-06,
          9.92585732384574e-06,
          9.961736509794614e-06,
          9.972692402564192e-06,
          9.974953291647039e-06,
          9.971864907697477e-06,
          9.958861357663655e-06,
          9.916716852198085e-06,
          9.783120514279734e-06,
          9.360549433677222e-06,
          8.02422997480072e-06,
          3.7984065665874155e-06,
          0
         ],
         "yaxis": "y"
        },
        {
         "line": {
          "color": "rgb(236,176,31)",
          "dash": "solid",
          "width": 0.5
         },
         "marker": {
          "color": "rgb(236,176,31)",
          "line": {
           "color": "rgb(236,176,31)"
          },
          "size": 6,
          "symbol": "none"
         },
         "mode": "lines",
         "name": "",
         "showlegend": false,
         "type": "scatter",
         "visibility": true,
         "x": [
          2,
          2.5,
          3,
          3.5,
          4,
          4.5,
          5,
          5.5,
          6,
          6.5,
          7,
          7.5,
          8,
          8.5,
          9,
          9.5,
          10,
          10.5,
          11,
          11.5,
          12
         ],
         "xaxis": "x",
         "y": [
          5.471190413081788e-23,
          3.019217373412339e-22,
          1.4234845550107567e-21,
          5.616996667237325e-21,
          1.917274133344164e-20,
          6.168904203351788e-20,
          7.647572776131192e-08,
          3.964784324003325e-07,
          9.34759321411573e-07,
          1.4180448077303366e-06,
          1.511019327989474e-06,
          1.1666806764765553e-06,
          6.335967282338655e-07,
          2.569542382597505e-07,
          8.911160199237649e-08,
          2.9030935944836175e-08,
          9.233600801302515e-09,
          2.8897846830961855e-09,
          8.752421967509875e-10,
          2.37339012162985e-10,
          3.553130271622819e-11
         ],
         "yaxis": "y"
        }
       ],
       "layout": {
        "height": 420,
        "hovermode": "closest",
        "margin": {
         "b": 0,
         "l": 0,
         "r": 0,
         "t": 0
        },
        "plot_bgcolor": "rgba(0, 0, 0, 0)",
        "showlegend": false,
        "width": 560,
        "xaxis": {
         "anchor": "y",
         "autorange": false,
         "domain": [
          0.13,
          0.905
         ],
         "exponentformat": "none",
         "gridcolor": "rgba(38,38,38,0.15)",
         "gridwidth": 1,
         "linecolor": "rgb(38,38,38)",
         "linewidth": 1,
         "mirror": "ticks",
         "range": [
          2,
          12
         ],
         "showgrid": false,
         "showline": true,
         "side": "bottom",
         "spikedash": "solid",
         "spikemode": "across",
         "spikesides": false,
         "spikethickness": 1,
         "tickangle": 0,
         "tickcolor": "rgb(38,38,38)",
         "tickfont": {
          "color": "rgb(38,38,38)",
          "size": 10
         },
         "ticklen": 3,
         "ticks": "inside",
         "ticktext": [
          "2",
          "4",
          "6",
          "8",
          "10",
          "12"
         ],
         "tickvals": [
          2,
          4,
          6,
          8,
          10,
          12
         ],
         "title": {
          "font": {
           "color": "rgb(0, 0, 0)",
           "size": 11
          },
          "text": ""
         },
         "type": "linear",
         "visible": true,
         "zeroline": false
        },
        "yaxis": {
         "anchor": "x",
         "autorange": false,
         "domain": [
          0.11,
          0.9249999999999999
         ],
         "exponentformat": "none",
         "gridcolor": "rgba(38,38,38,0.15)",
         "gridwidth": 1,
         "linecolor": "rgb(38,38,38)",
         "linewidth": 1,
         "mirror": "ticks",
         "range": [
          0,
          9.999999999999999e-06
         ],
         "showgrid": false,
         "showline": true,
         "side": "left",
         "spikedash": "solid",
         "spikemode": "across",
         "spikesides": false,
         "spikethickness": 1,
         "tickangle": 0,
         "tickcolor": "rgb(38,38,38)",
         "tickfont": {
          "color": "rgb(38,38,38)",
          "size": 10
         },
         "ticklen": 3,
         "ticks": "inside",
         "ticktext": [
          "0",
          "2e-06",
          "4e-06",
          "6e-06",
          "8e-06",
          "1e-05"
         ],
         "tickvals": [
          0,
          2e-06,
          4e-06,
          6e-06,
          8e-06,
          9.999999999999999e-06
         ],
         "title": {
          "font": {
           "color": "rgb(0, 0, 0)",
           "size": 11
          },
          "text": ""
         },
         "type": "linear",
         "visible": true,
         "zeroline": false
        }
       }
      },
      "image/png": "[encoded data removed]"
     },
     "metadata": {},
     "output_type": "display_data"
    }
   ],
   "source": [
    "plot(pH,Fep3,pH,HFO,pH,HfowHPO4m)\n",
    "%xlabel('pH'); ylabel('[species]'); legend('Fe^{3+}','HFO','HFO-PO4','location','eastoutside')"
   ]
  },
  {
   "cell_type": "code",
   "execution_count": 6,
   "id": "8c4a9a1a-41cd-40b5-a433-899d15856b68",
   "metadata": {},
   "outputs": [
    {
     "data": {
      "application/vnd.plotly.v1+json": {
       "data": [
        {
         "line": {
          "color": "rgb(0,113,188)",
          "dash": "solid",
          "width": 0.5
         },
         "marker": {
          "color": "rgb(0,113,188)",
          "line": {
           "color": "rgb(0,113,188)"
          },
          "size": 6,
          "symbol": "none"
         },
         "mode": "lines",
         "name": "",
         "showlegend": false,
         "type": "scatter",
         "visibility": true,
         "x": [
          2,
          2.5,
          3,
          3.5,
          4,
          4.5,
          5,
          5.5,
          6,
          6.5,
          7,
          7.5,
          8,
          8.5,
          9,
          9.5,
          10,
          10.5,
          11,
          11.5,
          12
         ],
         "xaxis": "x",
         "y": [
          3.2157156722814226e-18,
          5.5993901951018224e-18,
          8.370381133833086e-18,
          1.0555513174752907e-17,
          7.281049608990483e-16,
          2.541098841762901e-20,
          1.6517142471458857e-20,
          1.1858461261560205e-20,
          1.5670109524204556e-20,
          2.837560373301906e-20,
          2.202285662861181e-20,
          9.33430307874239e-19,
          1.5670109524204556e-20,
          1.5246593050577406e-20,
          3.8963515573697816e-20,
          1.5246593050577406e-20,
          2.1175823681357508e-20,
          2.0752307207730358e-20,
          2.795208725939191e-20,
          6.776263578034403e-21,
          3.8963515573697816e-20
         ],
         "yaxis": "y"
        }
       ],
       "layout": {
        "height": 420,
        "hovermode": "closest",
        "margin": {
         "b": 0,
         "l": 0,
         "r": 0,
         "t": 0
        },
        "plot_bgcolor": "rgba(0, 0, 0, 0)",
        "showlegend": false,
        "width": 560,
        "xaxis": {
         "anchor": "y",
         "autorange": false,
         "domain": [
          0.13,
          0.905
         ],
         "exponentformat": "none",
         "gridcolor": "rgba(38,38,38,0.15)",
         "gridwidth": 1,
         "linecolor": "rgb(38,38,38)",
         "linewidth": 1,
         "mirror": "ticks",
         "range": [
          2,
          12
         ],
         "showgrid": false,
         "showline": true,
         "side": "bottom",
         "spikedash": "solid",
         "spikemode": "across",
         "spikesides": false,
         "spikethickness": 1,
         "tickangle": 0,
         "tickcolor": "rgb(38,38,38)",
         "tickfont": {
          "color": "rgb(38,38,38)",
          "size": 10
         },
         "ticklen": 3,
         "ticks": "inside",
         "ticktext": [
          "2",
          "4",
          "6",
          "8",
          "10",
          "12"
         ],
         "tickvals": [
          2,
          4,
          6,
          8,
          10,
          12
         ],
         "title": {
          "font": {
           "color": "rgb(0, 0, 0)",
           "size": 11
          },
          "text": ""
         },
         "type": "linear",
         "visible": true,
         "zeroline": false
        },
        "yaxis": {
         "anchor": "x",
         "autorange": false,
         "domain": [
          0.11,
          0.9249999999999999
         ],
         "exponentformat": "none",
         "gridcolor": "rgba(38,38,38,0.15)",
         "gridwidth": 1,
         "linecolor": "rgb(38,38,38)",
         "linewidth": 1,
         "mirror": "ticks",
         "range": [
          0,
          1.2e-15
         ],
         "showgrid": false,
         "showline": true,
         "side": "left",
         "spikedash": "solid",
         "spikemode": "across",
         "spikesides": false,
         "spikethickness": 1,
         "tickangle": 0,
         "tickcolor": "rgb(38,38,38)",
         "tickfont": {
          "color": "rgb(38,38,38)",
          "size": 10
         },
         "ticklen": 3,
         "ticks": "inside",
         "ticktext": [
          "0",
          "2e-16",
          "4e-16",
          "6e-16",
          "8e-16",
          "1e-15",
          "1.2e-15"
         ],
         "tickvals": [
          0,
          2e-16,
          4e-16,
          6e-16,
          8e-16,
          1e-15,
          1.2e-15
         ],
         "title": {
          "font": {
           "color": "rgb(0, 0, 0)",
           "size": 11
          },
          "text": ""
         },
         "type": "linear",
         "visible": true,
         "zeroline": false
        }
       }
      },
      "image/png": "[encoded data removed]"
     },
     "metadata": {},
     "output_type": "display_data"
    }
   ],
   "source": [
    "plot(pH,MASSERR)"
   ]
  },
  {
   "cell_type": "code",
   "execution_count": 7,
   "id": "22ab6d37-b4e5-490c-98cf-fe6bf23a1b0b",
   "metadata": {},
   "outputs": [
    {
     "name": "stdout",
     "output_type": "stream",
     "text": [
      "Datos guardados en FeHP_data_Scott.mat con éxito.\n"
     ]
    },
    {
     "name": "stderr",
     "output_type": "stream",
     "text": [
      "ERROR: received unknown message\n",
      "Message type: usage_request\n"
     ]
    }
   ],
   "source": [
    "save('FeHP_data_Scott.mat','pH','Fep3','HFO','HfowHPO4m','MASSERR');\n",
    "\n",
    "disp('Datos guardados en FeHP_data_Scott.mat con éxito.');"
   ]
  },
  {
   "cell_type": "code",
   "execution_count": null,
   "id": "a0fbd642-959f-490b-be76-cf3f70f6f056",
   "metadata": {},
   "outputs": [],
   "source": []
  }
 ],
 "metadata": {
  "kernelspec": {
   "display_name": "Octave (xoctave)",
   "language": "Octave",
   "name": "xoctave"
  },
  "language_info": {
   "codemirror_mode": "octave",
   "file_extension": ".m",
   "mimetype": "text/x-octave",
   "name": "Octave",
   "nbconvert_exporter": "",
   "pygments_lexer": "octave",
   "version": "7.3.0"
  }
 },
 "nbformat": 4,
 "nbformat_minor": 5
}
