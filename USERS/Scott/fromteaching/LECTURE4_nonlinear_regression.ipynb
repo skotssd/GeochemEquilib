{
 "cells": [
  {
   "cell_type": "code",
   "execution_count": 1,
   "id": "16ba4d47-6066-48c0-af76-1f509a12c559",
   "metadata": {},
   "outputs": [],
   "source": [
    "% some housekeeping stuff\n",
    "%register_graphics_toolkit (\"gnuplot\");\n",
    "%available_graphics_toolkits ();\n",
    "%graphics_toolkit (\"gnuplot\")\n",
    "%graphics_toolkit (\"notebook\")\n",
    "graphics_toolkit (\"plotly\")\n",
    "clear\n",
    "% load packages\n",
    "warning off\n",
    "%pkg load statistics\n",
    "% end of housekeeping"
   ]
  },
  {
   "cell_type": "markdown",
   "id": "725f486a",
   "metadata": {},
   "source": [
    "# Linear Regresion (reminder)\n",
    "\n",
    " - linear models have the form\n",
    " \n",
    " $$ y= \\beta_1 X_1 + \\beta_2 X_2 + ... + \\beta_n X_n$$\n",
    " \n",
    " - it is linear in the parameters (not necessarily in $X$)  \n",
    " - X can be transformation of the independent variable ($x$).  We did an example of $x^2$, but could be $\\sin(x)$ or $\\log(x)$ or whatever.  ($X$ can't be a function of $x$ and $y$ though, the only variable term in the expression for each $X$ must be $x$)\n",
    " - nonlinear models are everthing else\n",
    " - let's do an example with the first order decay equation\n",
    " \n",
    " $$ N = N_0 e^{-kt} $$\n",
    " \n",
    "  - let's assume an initial concentration of 0.01 M and a rate constant of 0.4 s$^{-1}$"
   ]
  },
  {
   "cell_type": "code",
   "execution_count": 2,
   "id": "edc3e534",
   "metadata": {},
   "outputs": [
    {
     "data": {
      "application/vnd.plotly.v1+json": {
       "data": [
        {
         "line": {
          "color": "rgb(0, 0, 0)",
          "width": 0.5
         },
         "marker": {
          "color": "rgb(0, 0, 0)",
          "line": {
           "color": "rgb(0, 0, 0)"
          },
          "size": 6,
          "symbol": "circle"
         },
         "mode": "markers",
         "name": "",
         "showlegend": false,
         "type": "scatter",
         "visibility": true,
         "x": [
          0,
          1,
          2,
          3,
          4,
          5,
          6,
          7,
          8,
          9,
          10
         ],
         "xaxis": "x",
         "y": [
          0.009958618560038508,
          0.006907582031450934,
          0.004835721794337783,
          0.003123069964940162,
          0.0019559432950422275,
          0.001136856899762547,
          0.0014807450857152302,
          0.00026960266942007425,
          0.00036966852219415817,
          0.0004911584609094247,
          0.00017726496305149551
         ],
         "yaxis": "y"
        },
        {
         "line": {
          "color": "rgb(0, 0, 0)",
          "dash": "solid",
          "width": 0.5
         },
         "marker": {
          "color": "rgb(0, 0, 0)",
          "line": {
           "color": "rgb(0, 0, 0)"
          },
          "size": 6,
          "symbol": "none"
         },
         "mode": "lines",
         "name": "",
         "showlegend": false,
         "type": "scatter",
         "visibility": true,
         "x": [
          0,
          1,
          2,
          3,
          4,
          5,
          6,
          7,
          8,
          9,
          10
         ],
         "xaxis": "x",
         "y": [
          0.01,
          0.006703200460356393,
          0.004493289641172216,
          0.0030119421191220205,
          0.002018965179946554,
          0.0013533528323661271,
          0.0009071795328941247,
          0.0006081006262521795,
          0.0004076220397836621,
          0.0002732372244729256,
          0.00018315638888734178
         ],
         "yaxis": "y"
        }
       ],
       "layout": {
        "height": 420,
        "hovermode": "closest",
        "margin": {
         "b": 0,
         "l": 0,
         "r": 0,
         "t": 0
        },
        "plot_bgcolor": "rgba(0, 0, 0, 0)",
        "showlegend": false,
        "width": 560,
        "xaxis": {
         "anchor": "y",
         "autorange": false,
         "domain": [
          0.13,
          0.905
         ],
         "exponentformat": "none",
         "gridcolor": "rgba(38,38,38,0.15)",
         "gridwidth": 1,
         "linecolor": "rgb(38,38,38)",
         "linewidth": 1,
         "mirror": "ticks",
         "range": [
          0,
          10
         ],
         "showgrid": false,
         "showline": true,
         "side": "bottom",
         "spikedash": "solid",
         "spikemode": "across",
         "spikesides": false,
         "spikethickness": 1,
         "tickangle": 0,
         "tickcolor": "rgb(38,38,38)",
         "tickfont": {
          "color": "rgb(38,38,38)",
          "size": 10
         },
         "ticklen": 3,
         "ticks": "inside",
         "ticktext": [
          "0",
          "2",
          "4",
          "6",
          "8",
          "10"
         ],
         "tickvals": [
          0,
          2,
          4,
          6,
          8,
          10
         ],
         "title": {
          "font": {
           "color": "rgb(38,38,38)",
           "size": 11
          },
          "text": "time"
         },
         "type": "linear",
         "visible": true,
         "zeroline": false
        },
        "yaxis": {
         "anchor": "x",
         "autorange": false,
         "domain": [
          0.11,
          0.9249999999999999
         ],
         "exponentformat": "none",
         "gridcolor": "rgba(38,38,38,0.15)",
         "gridwidth": 1,
         "linecolor": "rgb(38,38,38)",
         "linewidth": 1,
         "mirror": "ticks",
         "range": [
          0,
          0.01
         ],
         "showgrid": false,
         "showline": true,
         "side": "left",
         "spikedash": "solid",
         "spikemode": "across",
         "spikesides": false,
         "spikethickness": 1,
         "tickangle": 0,
         "tickcolor": "rgb(38,38,38)",
         "tickfont": {
          "color": "rgb(38,38,38)",
          "size": 10
         },
         "ticklen": 3,
         "ticks": "inside",
         "ticktext": [
          "0",
          "0.002",
          "0.004",
          "0.006",
          "0.008",
          "0.01"
         ],
         "tickvals": [
          0,
          0.002,
          0.004,
          0.006,
          0.008,
          0.01
         ],
         "title": {
          "font": {
           "color": "rgb(38,38,38)",
           "size": 11
          },
          "text": "Signal"
         },
         "type": "linear",
         "visible": true,
         "zeroline": false
        }
       }
      },
      "image/png": "[encoded data removed]"
     },
     "metadata": {},
     "output_type": "display_data"
    }
   ],
   "source": [
    "%plot -s 600,600 -f 'svg'\n",
    "\n",
    "% define the variables and constants\n",
    "N0=0.01; k=0.4; t=0:1:10;\n",
    "\n",
    "% define the function.  remember the anonymous function from Lecture 1?\n",
    "firstorderdecay = @(t,N0,k) (N0.*exp(-k*t));\n",
    "\n",
    "%calculate N as a function of time\n",
    "N=firstorderdecay(t,N0,k); Nnoerror=N;\n",
    "\n",
    "%plot it\n",
    "plot(t,N,'ko')\n",
    "\n",
    "%let's add some noise\n",
    "err=0.02*max(N);\n",
    "N=N+err*randn(1,length(N));\n",
    "\n",
    "%plot with error\n",
    "plot(t,N,'ko',t,Nnoerror,'k-')\n",
    "xlabel('time'); ylabel('Signal')\n"
   ]
  },
  {
   "cell_type": "markdown",
   "id": "0155c95b-fd0c-4f6c-ac3d-754a56b29f3d",
   "metadata": {},
   "source": [
    "### nonlinear optimization in matlab/octave\n",
    "\n",
    " - fundamentally nonlinear regression is searching for the minimum to the error furnction, defind as the sum of squares of the error\n",
    " - fminsearch is the command in Octave and Matlab to do this.  you will see an example below.\n",
    "  - fminsearch is based on the simplex algorithm (seperate lecture if we want to \"go there\").  Simplex has the advantage of not needing a gradient calculation and will even work for discontinuous functions\n",
    "  - with optimization toolbox in Matlab (and maybe in Octave?) there are other options for this search.  Gradient methods, constrained methods, ...\n",
    "  - first let's look at the error (SSE) surface"
   ]
  },
  {
   "cell_type": "code",
   "execution_count": null,
   "id": "b3fa4b10-b69c-4330-848b-0ab9db32b8e6",
   "metadata": {},
   "outputs": [
    {
     "data": {},
     "metadata": {},
     "output_type": "display_data"
    },
    {
     "name": "stderr",
     "output_type": "stream",
     "text": [
      "fatal: caught signal Segmentation fault -- stopping myself...\n"
     ]
    }
   ],
   "source": [
    "%plot -s 600,600 -f 'svg'\n",
    "\n",
    "graphics_toolkit (\"notebook\")\n",
    "\n",
    "% make parameter ranges based on % of the parameter values\n",
    "% you could \"hard code\" this with specific numbers but using \n",
    "% percent let's you span a good range I think.\n",
    "\n",
    "N0range=0.01*N0:0.1*N0:2*N0;\n",
    "krange=0.01*k:0.1*k:3*k;\n",
    "\n",
    "% now a loop to calcualte the error\n",
    "\n",
    "for i=1:length(N0range)\n",
    "    for j=1:length(krange)\n",
    "        model=firstorderdecay(t,N0range(i),krange(j)); \n",
    "        SSE(j,i)=sum((model-N).^2);\n",
    "    end\n",
    "end\n",
    "\n",
    "% and contour it.  try also contour as SSE and you will see\n",
    "% how log of the error helps\n",
    "% and also look at the mesh\n",
    "\n",
    "contour(N0range,krange,log10(SSE),10)\n",
    "%mesh(N0range,krange,log10(SSE))\n",
    "xlabel('[Initial Concentration]'); ylabel('rate constant')\n"
   ]
  },
  {
   "cell_type": "code",
   "execution_count": null,
   "id": "13486c6c-f270-437e-9e99-3e0ee9d7f9d4",
   "metadata": {},
   "outputs": [],
   "source": [
    "% so to optmize it we need to first define the error function\n",
    "% this is what will get minimized\n",
    "\n",
    "graphics_toolkit (\"plotly\")\n",
    "\n",
    "% initial guess\n",
    "\n",
    "errorfunction = @(p,N,t) (log10(sum((N-p(1).*exp(-p(2)*t)).^2)));\n",
    "\n",
    "ktst=0.3; N0tst=0.01; ptst=[N0tst ktst];\n",
    "\n",
    "err=errorfunction(ptst,N,t)\n",
    "\n",
    "Ntst=firstorderdecay(t,N0tst,ktst); \n",
    "\n",
    "plot(t,N,'ko',t,Ntst,'k-'); \n",
    "xlabel('time'); ylabel('Signal')\n"
   ]
  },
  {
   "cell_type": "code",
   "execution_count": null,
   "id": "89c8ee51-1469-4d68-8834-593a8810d428",
   "metadata": {},
   "outputs": [],
   "source": [
    "% now best fit\n",
    "\n",
    "options = optimset('Display','iter','TolFun',1e-4,'TolX',1e-4);\n",
    "\n",
    "pbest=fminsearch(@(p) errorfunction(p,N,t),ptst,options)\n",
    "\n",
    "Nbst=firstorderdecay(t,pbest(1),pbest(2)); \n",
    "\n",
    "plot(t,N,'ko',t,Nbst,'b-')\n",
    "xlabel('time'); ylabel('Signal')\n",
    "\n"
   ]
  },
  {
   "cell_type": "code",
   "execution_count": null,
   "id": "8c9f8080-e5c7-4d22-8ba4-0833ddd40ba6",
   "metadata": {},
   "outputs": [],
   "source": [
    "% plot the residuals\n",
    "\n",
    "plot(t,N-Nbst,'ko',t,zeros(size(N)),'k-')\n",
    "xlabel('time'); ylabel('Residuals')"
   ]
  },
  {
   "cell_type": "markdown",
   "id": "6dab8d0f-c149-445b-9464-96af38b91766",
   "metadata": {},
   "source": [
    "### now monte carlo analysis for parameter uncertainty estimation\n",
    "\n",
    "to estimate uncertainty in the parameters just simulate 1000 datasets and fit them all.  Like we did in Lecture 3 (but we did it with a linear example that time to illustrate the method)"
   ]
  },
  {
   "cell_type": "code",
   "execution_count": null,
   "id": "d91b430a-2a4f-4723-b83a-820cbdac2889",
   "metadata": {},
   "outputs": [],
   "source": [
    "residuals=N-Nbst; sestimate=std(residuals);\n",
    "\n",
    "% need to make simulated dataset\n",
    "\n",
    "count = 1:length(N); % an integer vector with an entry in order per each point in the data\n",
    "\n",
    "% replacing all data seems to work better\n",
    "\n",
    "%noreplace=round(length(N)/3); % replace 1/3 of the datapoints\n",
    "noreplace=round(length(N)/2); % replace 1/2 of the datapoints\n",
    "%noreplace=round(length(N)/1); % replace all of the datapoints\n",
    "\n",
    "indexreplace = randsample(count,noreplace); % pick at random wich of the 1/3 of the points to replace.\n",
    "\n",
    "Nnew=Nbst; % initialize the simulated data just as the original data.\n",
    "Nnew=N; % initialize the simulated data just as the original data.\n",
    "\n",
    "for i=1:length(indexreplace)\n",
    "    Nnew(indexreplace(i))=Nbst(indexreplace(i))+randn(1,1)*sestimate;\n",
    "end\n",
    "\n",
    "graphics_toolkit (\"notebook\")\n",
    "plot(t,N,'ko',t,Nnew,'k.')\n",
    "xlabel('time'); ylabel('Signal')\n"
   ]
  },
  {
   "cell_type": "code",
   "execution_count": null,
   "id": "af3a210d-083f-44a9-86f5-4a5dec79ce55",
   "metadata": {},
   "outputs": [],
   "source": [
    "% monte carlo analysis\n",
    "\n",
    "graphics_toolkit (\"notebook\")\n",
    "\n",
    "%Nbst=Nnoerror; %if set that the first fit was exactly correct we get the mean value as the true values.\n",
    "\n",
    "for j=1:10\n",
    "    indexreplace = randsample(count,noreplace); % pick at random wich of the 1/3 of the points to replace\n",
    "    Nnew=N; % initialize the simulated data just as the original data.\n",
    "\n",
    "    for i=1:length(indexreplace)\n",
    "        Nnew(indexreplace(i))=Nbst(indexreplace(i))+randn(1,1)*sestimate;\n",
    "    end\n",
    "    \n",
    "    MCbetas(:,j)=fminsearch(@(p) errorfunction(p,Nnew,t),pbest);\n",
    "    \n",
    "end\n",
    "\n",
    "MCk=MCbetas(2,:); MCN0=MCbetas(1,:);\n",
    "\n",
    "subplot(211); \n",
    "hist(MCk,10);\n",
    "xlabel('Initial concentration')\n",
    "\n",
    "subplot(212)\n",
    "hist(MCN0,10);\n",
    "ylabel('Rate constant')\n",
    "\n",
    "\n"
   ]
  },
  {
   "cell_type": "code",
   "execution_count": null,
   "id": "7d6b9f15-db43-4267-8d31-2e8eec29ea9b",
   "metadata": {},
   "outputs": [],
   "source": []
  },
  {
   "cell_type": "markdown",
   "id": "3ce013ad-5fc3-4a98-ac84-353e9c595f22",
   "metadata": {},
   "source": [
    "# excercise 6\n",
    "\n",
    "repeat this simulation and fitting exercise for Michaelis-Menten kinetics\n",
    "\n",
    "$$v=V_{max}\\dfrac{[\\mathrm{S}]}{K_M+[\\mathrm{S}]}$$\n",
    "\n",
    "where the measured reaction rate ($v$) is a function of the subtrate concentration ($[\\mathrm{S}]$) and the two parameters, maximum rate $V_m$ and Michaelis constant ($K_M$).\n",
    "\n",
    "Let's do this for carbonic anhydrase. with CO2 as the substrate.  $K_M = 12$ mM. For bovine CA II the $V_{max}$ value is 0.839 mM/s.  (I just googled some random values).\n",
    "\n"
   ]
  },
  {
   "cell_type": "code",
   "execution_count": null,
   "id": "da26663e-2c1d-4173-b16f-9daf03e45f06",
   "metadata": {},
   "outputs": [],
   "source": []
  }
 ],
 "metadata": {
  "kernelspec": {
   "display_name": "Octave (xoctave)",
   "language": "Octave",
   "name": "xoctave"
  },
  "language_info": {
   "codemirror_mode": "octave",
   "file_extension": ".m",
   "mimetype": "text/x-octave",
   "name": "Octave",
   "nbconvert_exporter": "",
   "pygments_lexer": "octave",
   "version": "7.3.0"
  }
 },
 "nbformat": 4,
 "nbformat_minor": 5
}
