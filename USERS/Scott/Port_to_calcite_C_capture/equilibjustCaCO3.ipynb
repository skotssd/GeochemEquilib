{
 "cells": [
  {
   "cell_type": "markdown",
   "id": "2af7cc45-ba12-4a68-8091-0e9438e23495",
   "metadata": {},
   "source": [
    "# solve pH just CaCO3 in water\n",
    "\n",
    "$\\mathrm{CaCO_{3(s)}}=\\mathrm{Ca^{2+}}+\\mathrm{CO_3^{2-}}$\n",
    "\n",
    "$K_{sp}=[\\mathrm{Ca^{2+}}]\\times[\\mathrm{CO_3^{2-}}]=3.4e-9$\n",
    "\n",
    "What will total CT be?  For every Ca that dissolves there is a corresponding CO3.  This CO3 might transform (to HCO3) but from mass balance you can't get more CT in solution than Ca in solution AND the ratio Ca:CO3 is always in correspondence with the Ksp value.  So maximum CT is $\\sqrt{K_{sp}}$\n",
    "\n",
    "note: this doesn't seem exactly right.  because although mass balance says as many C come off as Ca that come off .. the CO3 can turn into HCO3 ... but the ion product is only true for Ca:CO3.  Still it seems a good approximation.\n",
    "\n",
    "So let's determine pH when CT=sqrt(Ksp).  First load the function.  (We'll use NaT=0).\n"
   ]
  },
  {
   "cell_type": "code",
   "execution_count": 51,
   "id": "89398d45-5531-497c-8794-b85a490538c7",
   "metadata": {},
   "outputs": [],
   "source": [
    "function pH=pHfromCaTclosed(CaT,CT,NaT)\n",
    "\n",
    "% equilibrium constants\n",
    "Kw=10^-14; Ka1=10^-6.36; Ka2=10^-10.33; \n",
    "\n",
    "a=1;\n",
    "b=2*CaT+Ka1+NaT;\n",
    "c=2*CaT*Ka1+NaT*Ka1+Ka1*Ka2-CT*Ka1-Kw;\n",
    "d=2*CaT*Ka1*Ka2+NaT*Ka1*Ka2-CT*Ka1*Ka2-Kw*Ka1;\n",
    "e=-Kw*Ka1*Ka2;\n",
    "t=roots([a b c d e]);\n",
    "\n",
    "\n",
    "t=t(imag(t)==0); %sets any imaginary roots to zero\n",
    "% display the positive real root\n",
    "t=t(t>0);\n",
    "pH=-log10(t);\n",
    "\n",
    "\n",
    "end"
   ]
  },
  {
   "cell_type": "code",
   "execution_count": 52,
   "id": "08f9275f-764c-46bc-8e4d-7edb4397fb35",
   "metadata": {},
   "outputs": [
    {
     "data": {
      "text/plain": [
       "pH = 9.7659\n"
      ]
     },
     "metadata": {},
     "output_type": "display_data"
    }
   ],
   "source": [
    "pH=pHfromCaTclosed(sqrt(3.4e-9),sqrt(3.4e-9),0)"
   ]
  },
  {
   "cell_type": "markdown",
   "id": "bea7ba8b-b0b1-47f1-9265-bc7323127083",
   "metadata": {},
   "source": [
    "this is very close to https://lawr.ucdavis.edu/classes/ssc102/Section5.pdf\n",
    "\n",
    "[link](https://lawr.ucdavis.edu/classes/ssc102/Section5.pdf) shows for case 3 a pH of 9.9 for just calcite in water.  no external source of CO2.\n",
    "\n",
    "I could go through and solve those equations for the pH of case 3 but it seems that my simple way is pretty close."
   ]
  },
  {
   "cell_type": "code",
   "execution_count": 54,
   "id": "fc464007-23cf-406e-9676-7e784dd25cc2",
   "metadata": {},
   "outputs": [
    {
     "data": {
      "image/png": "[encoded data removed]"
     },
     "metadata": {
      "image/png": {
       "height": 420,
       "width": 560
      }
     },
     "output_type": "display_data"
    }
   ],
   "source": [
    "% look at actual data Ca in mol/L\n",
    "\n",
    "time = [0.03, 1, 22, 29, 46, 53.33, 118, 122.75, 142, 168, 173, 190, 214.75, 287.5, 314.75, 334, 363.33, 384.66, 454, 481, 551.16, 699];  % Time in hours\n",
    "pH_measured = [12.55, 12.54, 12.24, 12.16, 12.17, 12.19, 12.14, 12.08, 12.08, 12.1, 12.04, 12.02, 12.35, 12.43, 12.33, 12.48, 12.7, 12.4, 12.31, 12.55, 12.67, 12.88];  % Measured  pH values\n",
    "Ca_measured = [0.015, 0.017, 0.017, 0.018, 0.019, 0.018, 0.015, 0.016, 0.012, 0.011, 0.010, 0.013, 0.008, 0.008, 0.003, 0.002, 0.002, 0.002, 0.002, 0.003, 0.001, 0.001];  % Measured Ca²⁺ (mol/L)\n",
    "CThigh=0.007; CTlow=CThigh/4;\n",
    "\n",
    "for i=1:length(time)\n",
    "    pHmodelOPEN(i)=pHfromCaTclosed(Ca_measured(i),CThigh,0);\n",
    "    pHmodelkindaclosed(i)=pHfromCaTclosed(Ca_measured(i),CTlow,0);\n",
    "    pHmodelNaOH(i)=pHfromCaTclosed(Ca_measured(i),CThigh,2e-2);\n",
    "end\n",
    "\n",
    "plot(time,pH_measured,'ko','markerfacecolor','b',time,pHmodelOPEN,time,pHmodelkindaclosed,time,pHmodelNaOH)\n",
    "legend('data','CThigh','CTlow','NaOH','location','eastoutside')\n",
    "axis([0 700 5 13])\n",
    "xlabel('time'); ylabel('pH')\n"
   ]
  },
  {
   "cell_type": "code",
   "execution_count": null,
   "id": "2c946721-d718-4ad4-8b77-4210b894a8bc",
   "metadata": {},
   "outputs": [],
   "source": []
  }
 ],
 "metadata": {
  "kernelspec": {
   "display_name": "Octave (xoctave)",
   "language": "Octave",
   "name": "xoctave"
  },
  "language_info": {
   "codemirror_mode": "octave",
   "file_extension": ".m",
   "mimetype": "text/x-octave",
   "name": "Octave",
   "nbconvert_exporter": "",
   "pygments_lexer": "octave",
   "version": "8.4.0"
  }
 },
 "nbformat": 4,
 "nbformat_minor": 5
}
