{
 "cells": [
  {
   "cell_type": "markdown",
   "id": "bb14777c-b266-4625-8b43-4e2c5904dec9",
   "metadata": {
    "tags": []
   },
   "source": [
    "# estimate Carbon capture by cement Waterloo\n",
    "\n",
    "![square footage construction by year and category](sqftperyear.png \"Waterloo square foot construction by year and category\")\n",
    "\n",
    "from City of Waterloo [website](https://www.waterloo.ca/en/government/planning-and-land-use-data.aspx)\n",
    "\n",
    "from that graph assume an average across sources of 200,000 square feet per year.  Convert to m$^2$ (1 squre foot = 0.092903 m$^2$).  \n",
    "\n",
    "So how much concrete per square m of development?\n",
    "\n",
    "![Canada mass of waste per metre construction builds](excessmaterials.png \"Canada mass waste per square m construction builds\")\n",
    "\n",
    "from [website](https://nzwc.ca/Documents/WatchingOurWaste-Analysis.pdf) on national construction waste in Canada.\n",
    "\n",
    "So 50.2 kg of concrete/stone per m$^2$ of development.\n",
    "\n",
    "So how much Ca in concrete ?  (let's assume the full 50.2 kg is concrete).\n",
    "\n",
    "![calcium in concrete](Cainconcrete.png \"calcium in concrete\")\n",
    "\n",
    "from [website](https://physics.nist.gov/cgi-bin/Star/compos.pl?matno=144) from NIST on composition of materials.\n",
    "\n",
    "So we can figure out how much concrete in the square footage development of Waterloo (on average over the last decade or so).  We can then figure out how much calcium is in that.  Then assume 100% efficiency converting Ca in concrete do calcium carbonate.  So that will trap one mole of CO2 per mole of Ca.\n",
    "\n",
    "\n",
    "\n",
    "\n"
   ]
  },
  {
   "cell_type": "code",
   "execution_count": 32,
   "id": "18183359-0535-4f42-87ae-14c17bfd7375",
   "metadata": {},
   "outputs": [
    {
     "data": {
      "text/plain": [
       "moleCcapture = 1.0240e+06\n"
      ]
     },
     "metadata": {},
     "output_type": "display_data"
    }
   ],
   "source": [
    "% do the math\n",
    "\n",
    "developmentsquarefootage=200000; %square ft\n",
    "convertsqfttom2factor=0.092903; %m2/ft2\n",
    "concreteperm2=50.2; %kg/m2\n",
    "Cafractionbyweightinconcrete=0.044; %kgCa/kgtotal\n",
    "molarmassCa=40.0780; %g/mol\n",
    "\n",
    "moleCcapture=developmentsquarefootage*convertsqfttom2factor*concreteperm2*Cafractionbyweightinconcrete/(molarmassCa/1000)"
   ]
  },
  {
   "cell_type": "markdown",
   "id": "d59a8a6b-7b33-46fa-8f05-fdee3fdfc36e",
   "metadata": {},
   "source": [
    "# how significant is this amount ?\n",
    "\n",
    "\n",
    "![Waterloo total CO2](grantbox.png \"Waterloo total CO2\")\n",
    "\n",
    "from the grant application.  2016 emissions were 10,397 t CO2.\n",
    "\n",
    "Convert to moles.\n",
    "\n"
   ]
  },
  {
   "cell_type": "code",
   "execution_count": 33,
   "id": "82642f7a-368e-493b-9dfa-97db6001da09",
   "metadata": {},
   "outputs": [
    {
     "data": {
      "text/plain": [
       "moleCemitted = 2.3625e+08\n"
      ]
     },
     "metadata": {},
     "output_type": "display_data"
    }
   ],
   "source": [
    "%tonnesofCO2=4e6; %tonnes tonne is 1000 kg.  from a web source.\n",
    "tonnesofCO2=10397; % from grant application. tonne is 1000 kg\n",
    "massCO2=tonnesofCO2*1000; % convert to kg\n",
    "massCO2=massCO2*1e3; %convert to g\n",
    "molarmassofCO2=44.009; % g/mol\n",
    "\n",
    "moleCemitted=massCO2/molarmassofCO2"
   ]
  },
  {
   "cell_type": "markdown",
   "id": "50df145a-2830-4b0b-856e-05714520046e",
   "metadata": {},
   "source": [
    "# percent of total C emitted that could be captured by construction waste"
   ]
  },
  {
   "cell_type": "code",
   "execution_count": 34,
   "id": "7f7e7848-fc81-4182-94ba-c7c6adac9ad2",
   "metadata": {},
   "outputs": [
    {
     "name": "stdout",
     "output_type": "stream",
     "text": [
      "The best possible C capture percentage of total emissions = 0.43 %\n"
     ]
    }
   ],
   "source": [
    "percent= (moleCcapture/moleCemitted)*100;\n",
    "\n",
    "percent2str=num2str(percent,2);\n",
    "\n",
    "displaytxt=['The best possible C capture percentage of total emissions = ',percent2str,' %'];\n",
    "disp(displaytxt)"
   ]
  },
  {
   "cell_type": "markdown",
   "id": "3909da05-f68c-48e2-90c5-a9b128fc287c",
   "metadata": {},
   "source": [
    "# possible capture if all ponds used (no matter where the waste came from)\n",
    "\n",
    "Total volume of ponds 78,750 m$^3$. (Thank's Steph).  From the box in the grant application.\n",
    "\n",
    "If we have fill ponds with concrete.  Then we'd have half that volume of concrete.  At a density of 2.3 g/cm^3.  We can figure out the mass of concrete and then the mass of Ca that can be used to convert to CaCO3.\n",
    "\n",
    "Convert density to g/m3\n",
    "\n",
    "$2.3 \\dfrac{g}{cm^3}*\\left(\\dfrac{100cm}{m}\\right)^3 = 2.3 \\times 10^6 \\dfrac{g}{m^3} $\n"
   ]
  },
  {
   "cell_type": "code",
   "execution_count": 35,
   "id": "f4f8194d-ab47-4911-8f7d-0e062ade24e6",
   "metadata": {},
   "outputs": [
    {
     "data": {
      "text/plain": [
       "moleCcaptureALT = 1.9885e+08\n"
      ]
     },
     "metadata": {},
     "output_type": "display_data"
    }
   ],
   "source": [
    "density=2.3e6; %g/m3\n",
    "pondsvolume=78750; %m3\n",
    "moleCcaptureALT=density*pondsvolume*Cafractionbyweightinconcrete/(molarmassCa)"
   ]
  },
  {
   "cell_type": "code",
   "execution_count": 36,
   "id": "a2f1d5e1-0712-424c-bb04-3699870953e8",
   "metadata": {},
   "outputs": [
    {
     "name": "stdout",
     "output_type": "stream",
     "text": [
      "The best possible C capture percentage of total emissions = 84 %\n"
     ]
    }
   ],
   "source": [
    "percent= (moleCcaptureALT/moleCemitted)*100;\n",
    "\n",
    "percent2str=num2str(percent,2);\n",
    "\n",
    "displaytxt=['The best possible C capture percentage of total emissions = ',percent2str,' %'];\n",
    "disp(displaytxt)"
   ]
  }
 ],
 "metadata": {
  "kernelspec": {
   "display_name": "Octave (xoctave)",
   "language": "Octave",
   "name": "xoctave"
  },
  "language_info": {
   "codemirror_mode": "octave",
   "file_extension": ".m",
   "mimetype": "text/x-octave",
   "name": "Octave",
   "nbconvert_exporter": "",
   "pygments_lexer": "octave",
   "version": "8.4.0"
  }
 },
 "nbformat": 4,
 "nbformat_minor": 5
}
