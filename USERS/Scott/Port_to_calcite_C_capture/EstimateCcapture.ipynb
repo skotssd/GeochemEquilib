{
 "cells": [
  {
   "cell_type": "markdown",
   "id": "bb14777c-b266-4625-8b43-4e2c5904dec9",
   "metadata": {
    "jupyter": {
     "source_hidden": true
    },
    "tags": []
   },
   "source": [
    "# estimate Carbon capture by cement Waterloo\n",
    "\n",
    "![square footage construction by year and category](sqftperyear.png \"Waterloo square foot construction by year and category\")\n",
    "\n",
    "from City of Waterloo [website](https://www.waterloo.ca/en/government/planning-and-land-use-data.aspx)\n",
    "\n",
    "from that graph assume an average across sources of 200,000 square feet per year.  Convert to m$^2$ (1 squre foot = 0.092903 m$^2$).  \n",
    "\n",
    "So how much concrete per square m of development?\n",
    "\n",
    "![Canada mass of waste per metre construction builds](excessmaterials.png \"Canada mass waste per square m construction builds\")\n",
    "\n",
    "from [website](https://nzwc.ca/Documents/WatchingOurWaste-Analysis.pdf) on national construction waste in Canada.\n",
    "\n",
    "So 50.2 kg of concrete/stone per m$^2$ of development.\n",
    "\n",
    "So how much Ca in concrete ?  (let's assume the full 50.2 kg is concrete).\n",
    "\n",
    "![calcium in concrete](Cainconcrete.png \"calcium in concrete\")\n",
    "\n",
    "from [website](https://physics.nist.gov/cgi-bin/Star/compos.pl?matno=144) from NIST on composition of materials.\n",
    "\n",
    "So we can figure out how much concrete in the square footage development of Waterloo (on average over the last decade or so).  We can then figure out how much calcium is in that.  Then assume 100% efficiency converting Ca in concrete do calcium carbonate.  So that will trap one mole of CO2 per mole of Ca.\n",
    "\n",
    "\n",
    "\n",
    "\n"
   ]
  },
  {
   "cell_type": "code",
   "execution_count": 45,
   "id": "18183359-0535-4f42-87ae-14c17bfd7375",
   "metadata": {},
   "outputs": [
    {
     "data": {
      "text/plain": [
       "moleCcapture = 1024023.89\n"
      ]
     },
     "metadata": {},
     "output_type": "display_data"
    }
   ],
   "source": [
    "% do the math\n",
    "\n",
    "developmentsquarefootage=200000; %square ft\n",
    "convertsqfttom2factor=0.092903; %m2/ft2\n",
    "concreteperm2=50.2; %kg/m2\n",
    "Cafractionbyweightinconcrete=0.044; %kgCa/kgtotal\n",
    "molarmassCa=40.0780; %g/mol\n",
    "\n",
    "moleCcapture=developmentsquarefootage*convertsqfttom2factor*concreteperm2*Cafractionbyweightinconcrete/(molarmassCa/1000)"
   ]
  },
  {
   "cell_type": "markdown",
   "id": "d59a8a6b-7b33-46fa-8f05-fdee3fdfc36e",
   "metadata": {},
   "source": [
    "# how significant is this amount\n",
    "\n",
    "\n",
    "![Waterloo total CO2](WaterloototalCO2v2.png \"Waterloo total CO2\")\n",
    "\n",
    "from [website](https://climateactionwr.ca/wp-content/uploads/2024/05/2022-Waterloo-Region-Community-Greenhouse-Gas-Inventory-Report-Published-June-2024.pdf) from Waterloo Region gas inventory posted online. So just under 4 million tonnes of CO2 emitted from all sources.\n",
    "\n",
    "Convert to moles\n",
    "\n"
   ]
  },
  {
   "cell_type": "code",
   "execution_count": 46,
   "id": "82642f7a-368e-493b-9dfa-97db6001da09",
   "metadata": {},
   "outputs": [
    {
     "data": {
      "text/plain": [
       "moleCemitted = 90890499670.52\n"
      ]
     },
     "metadata": {},
     "output_type": "display_data"
    }
   ],
   "source": [
    "tonnesofCO2=4e6; %tonnes tonne is 1000 kg.\n",
    "massCO2=tonnesofCO2*1000; % convert to kg\n",
    "massCO2=massCO2*1e3; %convert to g\n",
    "molarmassofCO2=44.009; % g/mol\n",
    "\n",
    "moleCemitted=massCO2/molarmassofCO2"
   ]
  },
  {
   "cell_type": "raw",
   "id": "8a48a0b2-95e0-435c-b423-93a848cddcda",
   "metadata": {},
   "source": [
    "# percent of total C emitted that could be captured by construction waste"
   ]
  },
  {
   "cell_type": "code",
   "execution_count": 47,
   "id": "7f7e7848-fc81-4182-94ba-c7c6adac9ad2",
   "metadata": {},
   "outputs": [
    {
     "name": "stdout",
     "output_type": "stream",
     "text": [
      "The best possible C capture percentage of total emissions = 0.0011 %\n"
     ]
    }
   ],
   "source": [
    "percent= (moleCcapture/moleCemitted)*100;\n",
    "\n",
    "percent2str=num2str(percent,2);\n",
    "\n",
    "displaytxt=['The best possible C capture percentage of total emissions = ',percent2str,' %'];\n",
    "disp(displaytxt)"
   ]
  },
  {
   "cell_type": "code",
   "execution_count": null,
   "id": "f8ec83fd-e2fb-45a2-a7a4-9541cf770999",
   "metadata": {},
   "outputs": [],
   "source": []
  }
 ],
 "metadata": {
  "kernelspec": {
   "display_name": "Octave (xoctave)",
   "language": "Octave",
   "name": "xoctave"
  },
  "language_info": {
   "codemirror_mode": "octave",
   "file_extension": ".m",
   "mimetype": "text/x-octave",
   "name": "Octave",
   "nbconvert_exporter": "",
   "pygments_lexer": "octave",
   "version": "7.3.0"
  }
 },
 "nbformat": 4,
 "nbformat_minor": 5
}
