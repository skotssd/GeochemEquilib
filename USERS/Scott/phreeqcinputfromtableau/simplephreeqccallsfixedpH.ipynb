{
 "cells": [
  {
   "cell_type": "markdown",
   "id": "ac4cbc1e-6dbb-411b-8def-2a5aa1c0833c",
   "metadata": {},
   "source": [
    "# tests towards \"tableau\" version of phreeqc\n",
    "# this does not work. the HAc and Ac aren't even right for that pH!\n",
    "\n",
    "I want to be able to generate a PHREEQC input file from a tableau\n",
    "so that my solver can call phreeqc as a possible engine\n",
    "\n",
    "this file is just trying to test that.  make minimal phreeqc database file and \"turn off\" activity corrections using large \"a\" and zero \"b\" parameter in the correction (gamma values)\n",
    "\n",
    "fix pH at 4 by using the -Asolution*pH same as fixedpH on tableaus"
   ]
  },
  {
   "cell_type": "code",
   "execution_count": 126,
   "id": "41385585-ab4a-415f-af83-84a13369ce98",
   "metadata": {},
   "outputs": [],
   "source": [
    "% setup environment\n",
    "% clear data and number format\n",
    "clear; format short e\n",
    "% set path to equilibrium solver\n",
    "txt=pwd; n=length(txt); rootpath=txt;\n",
    "n=strfind(rootpath,\"USERS\"); rootpath=txt(1:n-2);\n",
    "PHREEQCpath=[rootpath,'/runPHREEQC'];\n",
    "addpath(PHREEQCpath);\n",
    "JEQUILIBpath=[rootpath,'/JEQUILIB'];\n",
    "addpath(JEQUILIBpath);\n",
    "% turn off warnings\n",
    "warning off\n",
    "%graphics_toolkit (\"notebook\"); \n",
    "graphics_toolkit (\"plotly\"); \n",
    "%graphics_toolkit(\"gnuplot\")\n",
    "%delete existing phreeqc database file\n",
    "system(\"rm MINIMALH2O.dat\");\n",
    "%create empty database file\n",
    "system(\"touch MINIMALH2O.dat\");\n",
    "system(\"rm runfile.txt\");\n",
    "system(\"touch runfile.txt\");"
   ]
  },
  {
   "cell_type": "code",
   "execution_count": 127,
   "id": "2d37d618-e85f-447c-b725-e843470c33a4",
   "metadata": {},
   "outputs": [],
   "source": [
    "MINIMALDATABASE=[...\n",
    "{'SOLUTION_MASTER_SPECIES\\n'}\n",
    "{'  \\n'}\n",
    "{'#element species        alk     gfw_formula     element_gfw\\n'}\n",
    "{'  \\n'}\n",
    "{'H        H+             -1.     H               1.008\\n'}\n",
    "{'H(0)     H2             0.0     H\\n'}\n",
    "{'H(1)     H+             -1.     0.0\\n'}\n",
    "{'E        e-             0.0     0.0             0.0\\n'}\n",
    "{'O        H2O            0.0     O               16.00\\n'}\n",
    "{'O(0)     O2             0.0     O\\n'}\n",
    "{'O(-2)    H2O            0.0     0.0\\n'}\n",
    "{'  \\n'}\n",
    "{'SOLUTION_SPECIES\\n'}\n",
    "{'# use -gamma 1e10 0.0 to counteract automatic activity correction\\n'}\n",
    "{'  \\n'}\n",
    "{'H+ = H+\\n'}\n",
    "{'      log_k           -4.000\\n'} %0-4\n",
    "{'      -gamma          1e10     0.0\\n'}\n",
    "{'  \\n'}\n",
    "{'e- = e-\\n'}\n",
    "{'        log_k           0.000\\n'}\n",
    "{'  \\n'}\n",
    "{'H2O = H2O\\n'}\n",
    "{'        log_k           0.000\\n'}\n",
    "{'  \\n'}\n",
    "{'H2O = OH- + H+\\n'}\n",
    "{'        log_k           -10.000\\n'} %-14+4\n",
    "{'        -gamma          1e10     0.0\\n'}\n",
    "{'  \\n'}\n",
    "{'2 H2O = O2 + 4 H+ + 4 e-\\n'}\n",
    "{'        log_k           -86.08\\n'}\n",
    "{'        -gamma          1e10     0.0\\n'}\n",
    "{'  \\n'}\n",
    "{'2 H+ + 2 e- = H2\\n'}\n",
    "{'        log_k           -3.15\\n'}\n",
    "{'        -gamma          1e10     0.0\\n'}\n",
    "{'  \\n'}\n",
    "{'PHASES  \\n'}\n",
    "{'  \\n'}\n",
    "{'O2(g)\\n'}\n",
    "{'        O2 = O2\\n'}\n",
    "{'        log_k           -2.960\\n'}\n",
    "{'  \\n'}\n",
    "{'H2(g) \\n'}\n",
    "{'        H2 = H2\\n'}\n",
    "{'        log_k           -3.150\\n'}\n",
    "];\n",
    "[nolinesDATABASE,length]=size(MINIMALDATABASE);"
   ]
  },
  {
   "cell_type": "code",
   "execution_count": 128,
   "id": "a77785db-ceec-48be-992e-9c67e1d29e6b",
   "metadata": {},
   "outputs": [],
   "source": [
    "fileID=fopen('MINIMALH2O.dat','a');\n",
    "\n",
    "for i=1:nolinesDATABASE\n",
    "    line=cell2mat(MINIMALDATABASE(i,:));\n",
    "    fprintf(fileID,line)\n",
    "end\n",
    "fprintf(fileID,'\\n');\n",
    "fclose(fileID);"
   ]
  },
  {
   "cell_type": "markdown",
   "id": "1f6c000e-5886-4f01-805a-67f376e4e6b2",
   "metadata": {},
   "source": [
    "# generate the \"run\" file"
   ]
  },
  {
   "cell_type": "code",
   "execution_count": 129,
   "id": "c18553f6-6465-4a37-8b28-a937797ac8a3",
   "metadata": {},
   "outputs": [],
   "source": [
    "RUNFILE=[...\n",
    "{'SOLUTION_MASTER_SPECIES\\n'}\n",
    "{'Ac\t    Ac-\t        0.0\t1\t\t1\\n'}\n",
    "{' \\n'}\n",
    "{'SOLUTION_SPECIES\\n'} \n",
    "{'#Acetic acid\\n'}\n",
    "{'Ac- = Ac-\\n'}\n",
    "{'       log_k   0.0;\\n'}\n",
    "{'        -gamma          1e10     0.0\\n'}\n",
    "{'Ac- + H+ = HAc\\n'}\n",
    "{'        log_k   0.75;\\n'} %4.75-4\n",
    "{'        -gamma          1e10     0.0\\n'}\n",
    "{' \\n'}\n",
    "{'SOLUTION 1\\n'}\n",
    "{'    temp 25\\n'}\n",
    "{'    pH 4 \\n'} %fixed at 4\n",
    "{'    pe 13\\n'}\n",
    "{'    Ac 0.01\\n'}\n",
    "{'-units mol/kgw\\n'}\n",
    "{' \\n'}\n",
    "{'SELECTED_OUTPUT\\n'}\n",
    "{'        -file outpunch.txt\\n'}\n",
    "{'        -selected_out true\\n'} \n",
    "{'        -user_punch true\\n'}\n",
    "{'        -high_precision true\\n'}\n",
    "{'        -reset false\\n'}\n",
    "{'        -simulation false\\n'}\n",
    "{'        -state false\\n'}\n",
    "{'        -distance false\\n'}\n",
    "{'        -time false\\n'}\n",
    "{'        -step false\\n'}\n",
    "{'        -ph false\\n'}\n",
    "{'        -pe false\\n'}\n",
    "{'        -reaction false\\n'}\n",
    "{'        -temperature false\\n'}\n",
    "{'        -alkalinity false\\n'}\n",
    "{'        -ionic_strength false\\n'}\n",
    "{'        -water false\\n'}\n",
    "{'        -charge_balance false\\n'}\n",
    "{'        -percent_error false\\n'}\n",
    "{'        -molalities \\n'} % list species here for outputs, but userpunch is better\n",
    "{' \\n'}\n",
    "{'USER_PUNCH\\n'}\n",
    "{'-headings pH Ac HAc\\n'}\n",
    "{' -start \\n'}\n",
    "{' 10 PUNCH -LA(\"H+\"), MOL(\"Ac-\"), MOL(\"HAc\")\\n'}\n",
    "{' -end\\n'}\n",
    "];\n",
    "[nolinesRUN,length]=size(RUNFILE);"
   ]
  },
  {
   "cell_type": "code",
   "execution_count": 130,
   "id": "0ba71eff-fea2-4e64-aa32-92d7a6ee2bb1",
   "metadata": {},
   "outputs": [],
   "source": [
    "fileID=fopen('runfile.txt','a');\n",
    "\n",
    "for i=1:nolinesRUN\n",
    "    line=cell2mat(RUNFILE(i,:));\n",
    "    fprintf(fileID,line)\n",
    "end\n",
    "fprintf(fileID,'\\n');\n",
    "fprintf(fileID,'END');\n",
    "fclose(fileID);"
   ]
  },
  {
   "cell_type": "code",
   "execution_count": 131,
   "id": "3cd4f34d-6c96-40a6-9c4f-9146b2c056a0",
   "metadata": {},
   "outputs": [
    {
     "data": {
      "text/plain": [
       "pH = 4.0000e+00\n"
      ]
     },
     "metadata": {},
     "output_type": "display_data"
    },
    {
     "data": {
      "text/plain": [
       "Ac = 9.9944e-03\n"
      ]
     },
     "metadata": {},
     "output_type": "display_data"
    },
    {
     "data": {
      "text/plain": [
       "HAc = 5.6203e-06\n"
      ]
     },
     "metadata": {},
     "output_type": "display_data"
    }
   ],
   "source": [
    "database=['MINIMALH2O.dat']; runfile=['runfile.txt'];\n",
    "str=['system(\"phreeqc ',runfile,' out.txt ', database,'\");'];\n",
    "eval(str); % output to the screen\n",
    "%evalc(str); % so no screen output\n",
    "fid = fopen('outpunch.txt','rt');\n",
    "hdr = strtrim(regexp(fgetl(fid),'\\t','split'));\n",
    "hdr=hdr(1:3)';\n",
    "mat = cell2mat(textscan(fid,repmat('%f',1,numel(hdr))));\n",
    "[nsize,msize]=size(mat);\n",
    "pH=mat(1); Ac=mat(2); HAc=mat(3);\n",
    "pH\n",
    "Ac\n",
    "HAc"
   ]
  },
  {
   "cell_type": "code",
   "execution_count": 132,
   "id": "45ec419b-9250-4573-8cb5-926aca176981",
   "metadata": {},
   "outputs": [
    {
     "data": {
      "text/plain": [
       "Ac = 1.5098e-03\n"
      ]
     },
     "metadata": {},
     "output_type": "display_data"
    },
    {
     "data": {
      "text/plain": [
       "HAc = 8.4902e-03\n"
      ]
     },
     "metadata": {},
     "output_type": "display_data"
    }
   ],
   "source": [
    "% solve using polynomial\n",
    "Ka=10^-4.75; AcT=0.01; Kw=1e-14;\n",
    "%a=1; b=Ka; c=-Ka*AcT-Kw; d=-Kw*AcT;\n",
    "%t=roots([a b c]); %finds the roots\n",
    "%t=t(imag(t)==0); %sets any imaginary roots to zero\n",
    "% display the positive real root\n",
    "%t=t(t>0);\n",
    "%pH=-log10(t)\n",
    "H=10^-4;\n",
    "Ac=(Ka*AcT)./(H+Ka)\n",
    "HAc=AcT-Ac"
   ]
  }
 ],
 "metadata": {
  "kernelspec": {
   "display_name": "Octave (xoctave)",
   "language": "Octave",
   "name": "xoctave"
  },
  "language_info": {
   "codemirror_mode": "octave",
   "file_extension": ".m",
   "mimetype": "text/x-octave",
   "name": "Octave",
   "nbconvert_exporter": "",
   "pygments_lexer": "octave",
   "version": "7.3.0"
  }
 },
 "nbformat": 4,
 "nbformat_minor": 5
}
