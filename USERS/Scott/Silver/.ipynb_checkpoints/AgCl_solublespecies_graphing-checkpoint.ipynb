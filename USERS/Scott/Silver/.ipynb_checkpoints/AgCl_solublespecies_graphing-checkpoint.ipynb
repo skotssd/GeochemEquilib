{
 "cells": [
  {
   "cell_type": "code",
   "execution_count": 12,
   "id": "dc4c1946-12eb-4c8c-86dc-4c1db187b1be",
   "metadata": {
    "vscode": {
     "languageId": "octave"
    }
   },
   "outputs": [],
   "source": [
    "% setup environment\n",
    "% set path to equilibrium solver\n",
    "txt=pwd;\n",
    "n=length(txt);\n",
    "rootpath=txt; rootpath=txt(1:n-19);\n",
    "PHREEQCpath=[rootpath,'/runPHREEQC'];\n",
    "addpath(PHREEQCpath);\n",
    "JEQUILIBpath=[rootpath,'/JEQUILIB'];\n",
    "addpath(JEQUILIBpath);\n",
    "% clear data and number format\n",
    "clear; format short e\n",
    "% turn off warnings\n",
    "warning off\n",
    "%graphics_toolkit (\"notebook\"); \n",
    "%graphics_toolkit (\"plotly\"); \n",
    "graphics_toolkit(\"gnuplot\")"
   ]
  },
  {
   "cell_type": "code",
   "execution_count": 13,
   "id": "f80f1f39-9d75-4461-a818-b545c5a1641a",
   "metadata": {
    "vscode": {
     "languageId": "octave"
    }
   },
   "outputs": [],
   "source": [
    "% MODEL USING TABLEAU (different gradients or log versus linear variables)\n",
    "%graphics_toolkit(\"notebook\")\n",
    "%model with just inorganic speciation\n",
    "%geochemical model\n",
    "% input the constants and solution chemistry\n",
    "\n",
    "flag1=2; %flag1 for concentration based search vector (1) or for log based search vector (2).\n",
    "flag2=1; %flag2 for numerical derivatives (2) or analtyical derivatives (1)\n",
    "database=[]; \n",
    "flag3=0; % flag3 1 for show warnings. 0 no warnings\n",
    "flag4=0; %if=1 solve tableau one line at a time to get a good initial guess (no solids). really challenging probs only\n",
    "flag5=0; %if=1 use stored initial guess for including solids\n",
    "\n",
    "AgT=1e-4; ClT=1e-5; pH=7; \n",
    "\n",
    "inorganicTOTALS=[AgT ClT];\n",
    "inorganicTOTALS(inorganicTOTALS==0)=1e-16; % get rid of zero values, b/c div by zero error\n",
    "TOTALS=[inorganicTOTALS]; %TOTALS=inorganicTOTALS;\n",
    "pH=pH; pe=20.75-pH; \n",
    "tic;\n",
    "[Ag,Cl,AgCls,MASSERR]=AgCltableaumorecomplex(pH,pe,TOTALS',flag1,flag2,flag3,flag4,flag5);\n",
    "tableautime=toc;\n",
    "Agmasserror=MASSERR(1); Clmasserror=MASSERR(2);"
   ]
  },
  {
   "cell_type": "code",
   "execution_count": 14,
   "id": "c3431e04-1eb4-42b4-8e09-0f7ff3adc5fc",
   "metadata": {
    "vscode": {
     "languageId": "octave"
    }
   },
   "outputs": [],
   "source": [
    "% MODEL USING PHREEQC\n",
    "\n",
    "minerals=[{'AgCls'}]; totalvector=[AgT; ClT; ClT]; totalnames=[{'Ag'}; {'Cl'}; {'Na'}]; \n",
    "speciesexport=[{'Ag+'}; {'Cl-'}; {'AgCl'}; {'AgCl2-'}; {'AgCl3-2'}; {'AgCl4-3'}];\n",
    "%database=['llnl_nosolubleAgCl.dat']; \n",
    "acid=['NaOH']; show=1; T=25;\n",
    "%database=['AgCl.dat']; \n",
    "database=['AgClwithcomplexes.dat']; \n",
    "\n",
    "tic\n",
    "[solutionspeciesconcs, speciesnames, solidconcs, solidnames]=runPHREEQCv2noHA(T,pH,pe,totalnames,totalvector,minerals,speciesexport,database,show,acid);\n",
    "PHREEQCtime=toc;\n",
    "\n",
    "AgPHREEQC=solutionspeciesconcs(1); \n",
    "ClPHREEQC=solutionspeciesconcs(2); \n",
    "AgClPHREEQC=solutionspeciesconcs(3); \n",
    "AgCl2PHREEQC=solutionspeciesconcs(4); \n",
    "AgCl3PHREEQC=solutionspeciesconcs(5); \n",
    "AgCl4PHREEQC=solutionspeciesconcs(6); \n",
    "AgClsPHREEQC=solidconcs(1);\n",
    "\n",
    "AgmasserrorPHREEQC=AgT-AgPHREEQC-AgClsPHREEQC-AgClPHREEQC-AgCl2PHREEQC-AgCl3PHREEQC-AgCl4PHREEQC; \n",
    "ClmasserrorPHREEQC=ClT-ClPHREEQC-AgClsPHREEQC-AgClPHREEQC-2*AgCl2PHREEQC-3*AgCl3PHREEQC-3*AgCl4PHREEQC;"
   ]
  },
  {
   "cell_type": "code",
   "execution_count": 15,
   "id": "f8772bac-4321-476a-ae76-a4f9cc62d50d",
   "metadata": {
    "vscode": {
     "languageId": "octave"
    }
   },
   "outputs": [],
   "source": [
    "% exact model\n",
    "\n",
    "Ksp=10^-9.7453;\n",
    "\n",
    "% check SI\n",
    "\n",
    "IAP=AgT*ClT;\n",
    "\n",
    "Agexact=AgT; Clexact=ClT; AgClsexact=0;\n",
    "\n",
    "if IAP>=Ksp\n",
    "a=1; b=ClT-AgT; c=-Ksp;\n",
    "t=roots([a b c]); t=t(t>0); t=real(t(imag(t)==0));\n",
    "Agexact=t; AgClsexact=AgT-Ag; Clexact=ClT-AgClsexact;\n",
    "end\n"
   ]
  },
  {
   "cell_type": "code",
   "execution_count": 16,
   "id": "359c1372-8aba-4a4c-95fd-d6f70b1a9252",
   "metadata": {
    "vscode": {
     "languageId": "octave"
    }
   },
   "outputs": [
    {
     "data": {
      "text/html": [
       "<table><tr><th><i>Agcompare<i></th><th>1</th><th>2</th><th>3</th></tr><tr><th>1</th><td>9.1955e-05</td><td>9.1955e-05</td><td>9.19549e-05</td></tr></table>"
      ],
      "text/plain": [
       "Agcompare =    9.1955e-05   9.1955e-05   9.1955e-05\n"
      ]
     },
     "metadata": {},
     "output_type": "display_data"
    },
    {
     "data": {
      "text/html": [
       "<table><tr><th><i>Clcompare<i></th><th>1</th><th>2</th><th>3</th></tr><tr><th>1</th><td>1.9549e-06</td><td>1.9549e-06</td><td>1.95497e-06</td></tr></table>"
      ],
      "text/plain": [
       "Clcompare =    1.9549e-06   1.9549e-06   1.9550e-06\n"
      ]
     },
     "metadata": {},
     "output_type": "display_data"
    },
    {
     "data": {
      "text/html": [
       "<table><tr><th><i>AgClcompare<i></th><th>1</th><th>2</th><th>3</th></tr><tr><th>1</th><td>7.68867e-06</td><td>7.67412e-06</td><td>8.04503e-06</td></tr></table>"
      ],
      "text/plain": [
       "AgClcompare =    7.6887e-06   7.6741e-06   8.0450e-06\n"
      ]
     },
     "metadata": {},
     "output_type": "display_data"
    },
    {
     "data": {
      "text/html": [
       "<table><tr><th><i>Agmasserrorcompare<i></th><th>1</th><th>2</th></tr><tr><th>1</th><td>3.07913e-17</td><td>-2.23181e-17</td></tr></table>"
      ],
      "text/plain": [
       "Agmasserrorcompare =    3.0791e-17  -2.2318e-17\n"
      ]
     },
     "metadata": {},
     "output_type": "display_data"
    },
    {
     "data": {
      "text/html": [
       "<table><tr><th><i>Clmasserrorcompare<i></th><th>1</th><th>2</th></tr><tr><th>1</th><td>6.53909e-19</td><td>-6.11289e-20</td></tr></table>"
      ],
      "text/plain": [
       "Clmasserrorcompare =    6.5391e-19  -6.1129e-20\n"
      ]
     },
     "metadata": {},
     "output_type": "display_data"
    },
    {
     "data": {
      "text/html": [
       "<table><tr><th><i>timecompare<i></th><th>1</th><th>2</th></tr><tr><th>1</th><td>0.036643</td><td>0.00820494</td></tr></table>"
      ],
      "text/plain": [
       "timecompare =    3.6643e-02   8.2049e-03\n"
      ]
     },
     "metadata": {},
     "output_type": "display_data"
    }
   ],
   "source": [
    "% compare models\n",
    "\n",
    "Agcompare=[Ag AgPHREEQC Agexact]\n",
    "Clcompare=[Cl ClPHREEQC Clexact]\n",
    "AgClcompare=[AgCls AgClsPHREEQC AgClsexact]\n",
    "Agmasserrorcompare=[Agmasserror AgmasserrorPHREEQC]\n",
    "Clmasserrorcompare=[Clmasserror ClmasserrorPHREEQC]\n",
    "timecompare=[tableautime PHREEQCtime]"
   ]
  },
  {
   "cell_type": "code",
   "execution_count": null,
   "id": "1df63232-f994-46e6-9b78-1943bbe9f828",
   "metadata": {
    "vscode": {
     "languageId": "octave"
    }
   },
   "outputs": [],
   "source": []
  }
 ],
 "metadata": {
  "kernelspec": {
   "display_name": "Octave (xoctave)",
   "language": "Octave",
   "name": "xoctave"
  },
  "language_info": {
   "codemirror_mode": "octave",
   "file_extension": ".m",
   "mimetype": "text/x-octave",
   "name": "Octave",
   "nbconvert_exporter": "",
   "pygments_lexer": "octave",
   "version": "7.3.0"
  }
 },
 "nbformat": 4,
 "nbformat_minor": 5
}
