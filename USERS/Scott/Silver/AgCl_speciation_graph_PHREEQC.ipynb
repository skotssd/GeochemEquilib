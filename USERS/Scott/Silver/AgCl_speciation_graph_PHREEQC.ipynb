{
 "cells": [
  {
   "cell_type": "markdown",
   "id": "f24b2754-93ff-4239-93da-c633b32f91d8",
   "metadata": {},
   "source": [
    "# Graph of Ag speciation\n",
    "\n",
    "total silver 0.01 M and vary chloride from 10^-9 to 10^-2 M.  Plot all species.  including chloro complexes."
   ]
  },
  {
   "cell_type": "code",
   "execution_count": 9,
   "id": "ece2e984-45de-4c4b-b027-66bee2577057",
   "metadata": {
    "tags": []
   },
   "outputs": [
    {
     "name": "stdout",
     "output_type": "stream",
     "text": [
      "error: graphics_toolkit: notebook toolkit is not available\n",
      "error: called from\n",
      "    graphics_toolkit at line 84 column 5\n"
     ]
    }
   ],
   "source": [
    "% setup environment\n",
    "% set path to equilibrium solver\n",
    "txt=pwd;\n",
    "n=length(txt);\n",
    "rootpath=txt; rootpath=txt(1:n-19);\n",
    "PHREEQCpath=[rootpath,'/runPHREEQC'];\n",
    "addpath(PHREEQCpath);\n",
    "JEQUILIBpath=[rootpath,'/JEQUILIB'];\n",
    "addpath(JEQUILIBpath);\n",
    "% clear data and number format\n",
    "clear; format short e\n",
    "% turn off warnings\n",
    "warning off\n",
    "graphics_toolkit (\"notebook\"); \n",
    "%graphics_toolkit (\"plotly\"); \n",
    "%graphics_toolkit(\"gnuplot\")"
   ]
  },
  {
   "cell_type": "code",
   "execution_count": 10,
   "id": "96149533-9f5a-492a-a001-e93f9ee8580c",
   "metadata": {
    "tags": []
   },
   "outputs": [],
   "source": [
    "%establish the equlibrium problem\n",
    "\n",
    "AgT=0.01; pH=7; pe=20.75-pH; logClT=-9:0.02:-1; ClT=10.^logClT;"
   ]
  },
  {
   "cell_type": "code",
   "execution_count": null,
   "id": "202c06ea-6c04-4bae-aa04-d4bce41f4aaf",
   "metadata": {
    "tags": []
   },
   "outputs": [],
   "source": [
    "% MODEL USING PHREEQC\n",
    "\n",
    "for i=1:length(ClT)\n",
    "\n",
    "minerals=[{'AgCls'}]; totalvector=[AgT; ClT(i); ClT(i)]; totalnames=[{'Ag'}; {'Cl'}; {'Na'}]; \n",
    "speciesexport=[{'Ag+'}; {'Cl-'}; {'AgCl'}; {'AgCl2-'}; {'AgCl3-2'}; {'AgCl4-3'}];\n",
    "%database=['llnl_nosolubleAgCl.dat']; \n",
    "acid=['NaOH']; show=1; T=25;\n",
    "%database=['AgCl.dat']; \n",
    "database=['AgClwithcomplexes.dat']; \n",
    "\n",
    "tic\n",
    "[solutionspeciesconcs, speciesnames, solidconcs, solidnames]=runPHREEQCv2noHA(T,pH,pe,totalnames,totalvector,minerals,speciesexport,database,show,acid);\n",
    "PHREEQCtime=toc;\n",
    "\n",
    "Ag(i)=solutionspeciesconcs(1); \n",
    "Cl(i)=solutionspeciesconcs(2); \n",
    "AgCl(i)=solutionspeciesconcs(3); \n",
    "AgCl2(i)=solutionspeciesconcs(4); \n",
    "AgCl3(i)=solutionspeciesconcs(5); \n",
    "AgCl4(i)=solutionspeciesconcs(6); \n",
    "AgCls(i)=solidconcs(1);\n",
    "\n",
    "end\n"
   ]
  },
  {
   "cell_type": "code",
   "execution_count": null,
   "id": "ff420e01-4994-4b5d-bed5-0791dfa15eb4",
   "metadata": {
    "tags": []
   },
   "outputs": [],
   "source": [
    "%plot -f SVG\n",
    "\n",
    "% graph the results\n",
    "\n",
    "h=plot(logClT,log10(Ag),logClT,log10(AgCls),logClT,log10(AgCl),logClT,log10(AgCl2),logClT,log10(AgCl3),logClT,log10(AgCl4),logClT,log10(Cl));\n",
    "set(h,'linewidth',2)\n",
    "set(gca,'linewidth',2,'fontsize',12)\n",
    "xlabel('logClT'); ylabel('log(Ag species)')\n",
    "legend('Ag','AgCls','AgCl','AgCl2','AgCl3','AgCl4','Cl','location','eastoutside')\n",
    "\n",
    "set(gcf,'Visible','on')"
   ]
  },
  {
   "cell_type": "code",
   "execution_count": null,
   "id": "13b44e66-a358-40d7-bd0a-1377a2a9b2e3",
   "metadata": {},
   "outputs": [],
   "source": []
  },
  {
   "cell_type": "code",
   "execution_count": null,
   "id": "46484da4-224f-44e4-a21a-b4d4291b7382",
   "metadata": {},
   "outputs": [],
   "source": []
  }
 ],
 "metadata": {
  "kernelspec": {
   "display_name": "Octave",
   "language": "octave",
   "name": "octave"
  },
  "language_info": {
   "file_extension": ".m",
   "help_links": [
    {
     "text": "GNU Octave",
     "url": "https://www.gnu.org/software/octave/support.html"
    },
    {
     "text": "Octave Kernel",
     "url": "https://github.com/Calysto/octave_kernel"
    },
    {
     "text": "MetaKernel Magics",
     "url": "https://metakernel.readthedocs.io/en/latest/source/README.html"
    }
   ],
   "mimetype": "text/x-octave",
   "name": "octave",
   "version": "7.3.0"
  }
 },
 "nbformat": 4,
 "nbformat_minor": 5
}
