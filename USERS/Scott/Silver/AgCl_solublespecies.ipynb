{
 "cells": [
  {
   "cell_type": "code",
   "execution_count": 31,
   "id": "dc4c1946-12eb-4c8c-86dc-4c1db187b1be",
   "metadata": {
    "tags": []
   },
   "outputs": [],
   "source": [
    "% setup environment\n",
    "% set path to equilibrium solver\n",
    "txt=pwd;\n",
    "n=length(txt);\n",
    "rootpath=txt; rootpath=txt(1:n-19);\n",
    "PHREEQCpath=[rootpath,'/runPHREEQC'];\n",
    "addpath(PHREEQCpath);\n",
    "JEQUILIBpath=[rootpath,'/JEQUILIB'];\n",
    "addpath(JEQUILIBpath);\n",
    "% clear data and number format\n",
    "clear; format short e\n",
    "% turn off warnings\n",
    "warning off\n",
    "graphics_toolkit (\"notebook\"); \n",
    "%graphics_toolkit (\"plotly\"); \n",
    "%graphics_toolkit(\"gnuplot\")\n",
    "%graphics_toolkit(\"fltk\")"
   ]
  },
  {
   "cell_type": "code",
   "execution_count": 32,
   "id": "f80f1f39-9d75-4461-a818-b545c5a1641a",
   "metadata": {
    "tags": []
   },
   "outputs": [],
   "source": [
    "% MODEL USING TABLEAU (different gradients or log versus linear variables)\n",
    "%graphics_toolkit(\"notebook\")\n",
    "%model with just inorganic speciation\n",
    "%geochemical model\n",
    "% input the constants and solution chemistry\n",
    "\n",
    "flag1=1; %flag1 for concentration based search vector (1) or for log based search vector (2).\n",
    "flag2=1; %flag2 for numerical derivatives (2) or analtyical derivatives (1)\n",
    "database=[]; \n",
    "flag3=0; % flag3 1 for show warnings. 0 no warnings\n",
    "flag4=0; %if=1 solve tableau one line at a time to get a good initial guess (no solids). really challenging probs only\n",
    "flag5=0; %if=1 use stored initial guess for including solids\n",
    "\n",
    "AgT=1.003e-4; ClT=1.003e-5; pH=7; %for phreeqc would be 1.003e-5 because inputs should be as molality concentrations, using 0.997 kg/L as density at 25 °C\n",
    "\n",
    "inorganicTOTALS=[AgT ClT];\n",
    "inorganicTOTALS(inorganicTOTALS==0)=1e-16; % get rid of zero values, b/c div by zero error\n",
    "TOTALS=[inorganicTOTALS]; %TOTALS=inorganicTOTALS;\n",
    "pH=pH; pe=20.75-pH; \n",
    "tic;\n",
    "[Ag,Cl,AgCls,MASSERR]=AgCltableaumorecomplex(pH,pe,TOTALS',flag1,flag2,flag3,flag4,flag5);\n",
    "tableautime=toc;\n",
    "Agmasserror=MASSERR(1); Clmasserror=MASSERR(2);"
   ]
  },
  {
   "cell_type": "code",
   "execution_count": 33,
   "id": "c3431e04-1eb4-42b4-8e09-0f7ff3adc5fc",
   "metadata": {
    "tags": []
   },
   "outputs": [],
   "source": [
    "% MODEL USING PHREEQC\n",
    "\n",
    "minerals=[{'AgCls'}]; totalvector=[AgT; ClT; ClT]; totalnames=[{'Ag'}; {'Cl'}; {'Na'}]; \n",
    "speciesexport=[{'Ag+'}; {'Cl-'}; {'AgCl'}; {'AgCl2-'}; {'AgCl3-2'}; {'AgCl4-3'}];\n",
    "%database=['llnl_nosolubleAgCl.dat']; \n",
    "acid=['NaOH']; show=1; T=25;\n",
    "%database=['AgCl.dat']; \n",
    "database=['AgClwithcomplexes.dat']; \n",
    "\n",
    "tic\n",
    "[solutionspeciesconcs, speciesnames, solidconcs, solidnames]=runPHREEQCv2noHA(T,pH,pe,totalnames,totalvector,minerals,speciesexport,database,show,acid);\n",
    "PHREEQCtime=toc;\n",
    "\n",
    "AgPHREEQC=solutionspeciesconcs(1); \n",
    "ClPHREEQC=solutionspeciesconcs(2); \n",
    "AgClPHREEQC=solutionspeciesconcs(3); \n",
    "AgCl2PHREEQC=solutionspeciesconcs(4); \n",
    "AgCl3PHREEQC=solutionspeciesconcs(5); \n",
    "AgCl4PHREEQC=solutionspeciesconcs(6); \n",
    "AgClsPHREEQC=solidconcs(1);\n",
    "\n",
    "AgmasserrorPHREEQC=AgT-AgPHREEQC-AgClsPHREEQC-AgClPHREEQC-AgCl2PHREEQC-AgCl3PHREEQC-AgCl4PHREEQC; \n",
    "ClmasserrorPHREEQC=ClT-ClPHREEQC-AgClsPHREEQC-AgClPHREEQC-2*AgCl2PHREEQC-3*AgCl3PHREEQC-4*AgCl4PHREEQC; "
   ]
  },
  {
   "cell_type": "code",
   "execution_count": 34,
   "id": "f8772bac-4321-476a-ae76-a4f9cc62d50d",
   "metadata": {
    "tags": []
   },
   "outputs": [],
   "source": [
    "% exact model\n",
    "\n",
    "Ksp=10^-9.7453;\n",
    "\n",
    "% check SI\n",
    "\n",
    "IAP=AgT*ClT;\n",
    "\n",
    "Agexact=AgT; Clexact=ClT; AgClsexact=0;\n",
    "\n",
    "if IAP>=Ksp\n",
    "a=1; b=ClT-AgT; c=-Ksp;\n",
    "t=roots([a b c]); t=t(t>0); t=real(t(imag(t)==0));\n",
    "Agexact=t; AgClsexact=AgT-Ag; Clexact=ClT-AgClsexact;\n",
    "end\n"
   ]
  },
  {
   "cell_type": "code",
   "execution_count": 35,
   "id": "359c1372-8aba-4a4c-95fd-d6f70b1a9252",
   "metadata": {
    "tags": []
   },
   "outputs": [
    {
     "data": {
      "text/html": [
       "<table><tr><th><i>Agcompare<i></th><th>1</th><th>2</th><th>3</th></tr><tr><th>1</th><td>9.22194e-05</td><td>9.22517e-05</td><td>9.22193e-05</td></tr></table>"
      ],
      "text/plain": [
       "Agcompare =    9.2219e-05   9.2252e-05   9.2219e-05\n"
      ]
     },
     "metadata": {},
     "output_type": "display_data"
    },
    {
     "data": {
      "text/html": [
       "<table><tr><th><i>Clcompare<i></th><th>1</th><th>2</th><th>3</th></tr><tr><th>1</th><td>1.9493e-06</td><td>1.98164e-06</td><td>1.94937e-06</td></tr></table>"
      ],
      "text/plain": [
       "Clcompare =    1.9493e-06   1.9816e-06   1.9494e-06\n"
      ]
     },
     "metadata": {},
     "output_type": "display_data"
    },
    {
     "data": {
      "text/html": [
       "<table><tr><th><i>AgClcompare<i></th><th>1</th><th>2</th><th>3</th></tr><tr><th>1</th><td>7.72428e-06</td><td>7.67738e-06</td><td>8.08063e-06</td></tr></table>"
      ],
      "text/plain": [
       "AgClcompare =    7.7243e-06   7.6774e-06   8.0806e-06\n"
      ]
     },
     "metadata": {},
     "output_type": "display_data"
    },
    {
     "data": {
      "text/html": [
       "<table><tr><th><i>Agmasserrorcompare<i></th><th>1</th><th>2</th></tr><tr><th>1</th><td>1.08096e-13</td><td>8.22488e-17</td></tr></table>"
      ],
      "text/plain": [
       "Agmasserrorcompare =    1.0810e-13   8.2249e-17\n"
      ]
     },
     "metadata": {},
     "output_type": "display_data"
    },
    {
     "data": {
      "text/html": [
       "<table><tr><th><i>Clmasserrorcompare<i></th><th>1</th><th>2</th></tr><tr><th>1</th><td>1.689e-14</td><td>8.37259e-19</td></tr></table>"
      ],
      "text/plain": [
       "Clmasserrorcompare =    1.6890e-14   8.3726e-19\n"
      ]
     },
     "metadata": {},
     "output_type": "display_data"
    },
    {
     "data": {
      "text/html": [
       "<table><tr><th><i>timecompare<i></th><th>1</th><th>2</th></tr><tr><th>1</th><td>0.09058</td><td>0.0233951</td></tr></table>"
      ],
      "text/plain": [
       "timecompare =    9.0580e-02   2.3395e-02\n"
      ]
     },
     "metadata": {},
     "output_type": "display_data"
    }
   ],
   "source": [
    "% compare models\n",
    "\n",
    "Agcompare=[Ag AgPHREEQC Agexact]\n",
    "Clcompare=[Cl ClPHREEQC Clexact]\n",
    "AgClcompare=[AgCls AgClsPHREEQC AgClsexact]\n",
    "Agmasserrorcompare=[Agmasserror AgmasserrorPHREEQC]\n",
    "Clmasserrorcompare=[Clmasserror ClmasserrorPHREEQC]\n",
    "timecompare=[tableautime PHREEQCtime]"
   ]
  },
  {
   "cell_type": "code",
   "execution_count": 36,
   "id": "1df63232-f994-46e6-9b78-1943bbe9f828",
   "metadata": {},
   "outputs": [
    {
     "name": "stdout",
     "output_type": "stream",
     "text": [
      "\n",
      "========== PHREEQC executed 50 veces ==========\n",
      "Last run:\n",
      "  [Ag(aq)]    = 9.225172e-05 M\n",
      "  [Cl(aq)]    = 1.981642e-06 M\n",
      "  [AgCl(s)]   = 7.677377e-06 M\n",
      "  Error mass Ag = 8.2249e-17\n",
      "  Error mass Cl = 8.3726e-19\n",
      "-----------------------------------------------\n",
      "Mean time in 50 runs (ms) = 20.797439\n",
      "Standard Deviation (ms)            = 3.262477\n",
      "===============================================\n"
     ]
    }
   ],
   "source": [
    "%% Repeat PHREEQC 50 times and report times\n",
    "\n",
    "% Number of runs\n",
    "nRuns = 50;\n",
    "% Vector to store the time of each run\n",
    "timesPHREEQC = zeros(nRuns, 1);\n",
    "\n",
    "% Declare variables where will save the result of the last run\n",
    "AgPHREEQC_last   = 0;\n",
    "ClPHREEQC_last   = 0;\n",
    "AgClsPHREEQC_last= 0;\n",
    "AgMassErr_last   = 0;\n",
    "ClMassErr_last   = 0;\n",
    "\n",
    "for i = 1:nRuns\n",
    "    tic;\n",
    "    [solutionspeciesconcs, speciesnames, solidconcs, solidnames] = ...\n",
    "        runPHREEQCv2noHA(T, pH, pe, totalnames, totalvector, ...\n",
    "                         minerals, speciesexport, database, show, acid);\n",
    "    timesPHREEQC(i) = toc;\n",
    "    \n",
    "    % Each iteration results\n",
    "    AgPHREEQC = solutionspeciesconcs(1);\n",
    "    ClPHREEQC = solutionspeciesconcs(2);\n",
    "    AgClsPHREEQC = solidconcs(1);\n",
    "\n",
    "    % Calculation of mass errors for this run\n",
    "    AgmasserrorPHREEQC=AgT-AgPHREEQC-AgClsPHREEQC-AgClPHREEQC-AgCl2PHREEQC-AgCl3PHREEQC-AgCl4PHREEQC; \n",
    "    ClmasserrorPHREEQC=ClT-ClPHREEQC-AgClsPHREEQC-AgClPHREEQC-2*AgCl2PHREEQC-3*AgCl3PHREEQC-4*AgCl4PHREEQC; \n",
    "\n",
    "    % Save as \"last\" run (overwrite it in each loop)\n",
    "    AgPHREEQC_last    = AgPHREEQC;\n",
    "    ClPHREEQC_last    = ClPHREEQC;\n",
    "    AgClsPHREEQC_last = AgClsPHREEQC;\n",
    "    AgMassErr_last    = AgmasserrorPHREEQC;\n",
    "    ClMassErr_last    = ClmasserrorPHREEQC;\n",
    "end\n",
    "\n",
    "% Mean and standard deviation of the 50 times\n",
    "meanTimePHREEQC = mean(timesPHREEQC);\n",
    "stdTimePHREEQC  = std(timesPHREEQC);\n",
    "\n",
    "% Display results\n",
    "fprintf('\\n========== PHREEQC executed %d veces ==========\\n', nRuns);\n",
    "fprintf('Last run:\\n');\n",
    "fprintf('  [Ag(aq)]    = %.6e M\\n', AgPHREEQC_last);\n",
    "fprintf('  [Cl(aq)]    = %.6e M\\n', ClPHREEQC_last);\n",
    "fprintf('  [AgCl(s)]   = %.6e M\\n', AgClsPHREEQC_last);\n",
    "fprintf('  Error mass Ag = %.4e\\n', AgMassErr_last);\n",
    "fprintf('  Error mass Cl = %.4e\\n', ClMassErr_last);\n",
    "fprintf('-----------------------------------------------\\n');\n",
    "fprintf('Mean time in 50 runs (ms) = %.6f\\n', meanTimePHREEQC*1000);\n",
    "fprintf('Standard Deviation (ms)            = %.6f\\n', stdTimePHREEQC*1000);\n",
    "fprintf('===============================================\\n');"
   ]
  },
  {
   "cell_type": "code",
   "execution_count": 37,
   "id": "6576e4b8-eda8-4705-87ac-278a4d511c75",
   "metadata": {
    "tags": []
   },
   "outputs": [
    {
     "name": "stdout",
     "output_type": "stream",
     "text": [
      "\n",
      "========== Tableau Scott (AgCltableau) executed 50 veces ==========\n",
      "Last run:\n",
      "  [Ag(aq)]    = 9.221930e-05 M\n",
      "  [Cl(aq)]    = 1.949298e-06 M\n",
      "  [AgCl(s)]   = 8.080702e-06 M\n",
      "  Error mass Ag = 2.7024e-14\n",
      "  Error masa Cl = 3.3780e-14\n",
      "--------------------------------------------------------------\n",
      "Mean time in 50 runs (ms) = 58.782554\n",
      "Standard deviation (ms)            = 0.706991\n",
      "==============================================================\n"
     ]
    }
   ],
   "source": [
    "% Tableau std and mean times\n",
    "\n",
    "nRuns = 50;                % número de corridas\n",
    "timesTableau = zeros(nRuns,1);\n",
    "\n",
    "% Variables to save the solution of the last run\n",
    "Ag_last   = 0;\n",
    "Cl_last   = 0;\n",
    "AgCls_last= 0;\n",
    "massErr_last = [0 0];\n",
    "\n",
    "for i = 1:nRuns\n",
    "    tStart = tic;\n",
    "    [Ag, Cl, AgCls, MASSERR] = AgCltableau(pH, pe, TOTALS', ...\n",
    "                                          flag1, flag2, flag3, ...\n",
    "                                          flag4, flag5);\n",
    "    timesTableau(i) = toc(tStart);\n",
    "\n",
    "    % saving the results of this run\n",
    "    Ag_last    = Ag;\n",
    "    Cl_last    = Cl;\n",
    "    AgCls_last = AgCls;\n",
    "    massErr_last = MASSERR;\n",
    "end\n",
    "\n",
    "% Calculation of mean and standard deviation of times\n",
    "meanTimeTableau = mean(timesTableau);\n",
    "stdTimeTableau  = std(timesTableau);\n",
    "\n",
    "% Final information of the last run\n",
    "Agmasserr_last = massErr_last(1);\n",
    "Clmasserr_last = massErr_last(2);\n",
    "\n",
    "% Display results\n",
    "fprintf('\\n========== Tableau Scott (AgCltableau) executed %d veces ==========\\n', nRuns);\n",
    "fprintf('Last run:\\n');\n",
    "fprintf('  [Ag(aq)]    = %.6e M\\n', Ag_last);\n",
    "fprintf('  [Cl(aq)]    = %.6e M\\n', Cl_last);\n",
    "fprintf('  [AgCl(s)]   = %.6e M\\n', AgCls_last);\n",
    "fprintf('  Error mass Ag = %.4e\\n', Agmasserr_last);\n",
    "fprintf('  Error masa Cl = %.4e\\n', Clmasserr_last);\n",
    "fprintf('--------------------------------------------------------------\\n');\n",
    "fprintf('Mean time in %d runs (ms) = %.6f\\n', nRuns, meanTimeTableau*1000);\n",
    "fprintf('Standard deviation (ms)            = %.6f\\n', stdTimeTableau*1000);\n",
    "fprintf('==============================================================\\n');"
   ]
  },
  {
   "cell_type": "code",
   "execution_count": 38,
   "id": "cced74bd-5ab7-4d84-9055-04c677147d7b",
   "metadata": {
    "tags": []
   },
   "outputs": [
    {
     "name": "stdout",
     "output_type": "stream",
     "text": [
      "\n",
      "Internal PHREEQC time across 50 runs:\n",
      "  Mean (ms) = 3.488000\n",
      "  Std  (ms) = 0.000000\n",
      "\n"
     ]
    }
   ],
   "source": [
    "%% Snippet to parse the “End of Run after ... Seconds.” from out.txt and \n",
    "%% compute the mean and std of the internal times, skipping any NaNs.\n",
    "\n",
    "nRuns = 50;\n",
    "intTimes = zeros(nRuns, 1);\n",
    "\n",
    "for i = 1:nRuns\n",
    "    % (1) Run PHREEQC or your call that produces out.txt\n",
    "\n",
    "    % (2) Parse the line \"End of Run after X.XXXX Seconds.\" from out.txt\n",
    "    [status, outStr] = system(\"grep 'End of Run after' out.txt\");\n",
    "    % outStr might look like \"End of Run after X.XXXX Seconds.\"\n",
    "\n",
    "    expr = 'after\\s+([0-9]*\\.[0-9]+|[0-9]+)\\s+Seconds';\n",
    "    tokens = regexp(outStr, expr, 'tokens', 'once');\n",
    "\n",
    "    if ~isempty(tokens)\n",
    "        intTimes(i) = str2double(tokens{1});\n",
    "    else\n",
    "        % If we don't find the line, store NaN\n",
    "        intTimes(i) = NaN;\n",
    "    end\n",
    "end\n",
    "\n",
    "% Filter out any NaN entries\n",
    "validIdx = ~isnan(intTimes);\n",
    "validTimes = intTimes(validIdx);\n",
    "\n",
    "% Compute mean and std for the valid subset\n",
    "meanIntTime = mean(validTimes);\n",
    "stdIntTime  = std(validTimes);\n",
    "\n",
    "fprintf('\\nInternal PHREEQC time across %d runs:\\n', nRuns);\n",
    "fprintf('  Mean (ms) = %.6f\\n', meanIntTime*1000);\n",
    "fprintf('  Std  (ms) = %.6f\\n\\n', stdIntTime*1000);\n"
   ]
  },
  {
   "cell_type": "code",
   "execution_count": null,
   "id": "f9ec43a0-853f-4688-8202-8671b1eec0d1",
   "metadata": {},
   "outputs": [],
   "source": []
  }
 ],
 "metadata": {
  "kernelspec": {
   "display_name": "Octave (xoctave)",
   "language": "Octave",
   "name": "xoctave"
  },
  "language_info": {
   "codemirror_mode": "octave",
   "file_extension": ".m",
   "mimetype": "text/x-octave",
   "name": "Octave",
   "nbconvert_exporter": "",
   "pygments_lexer": "octave",
   "version": "7.3.0"
  }
 },
 "nbformat": 4,
 "nbformat_minor": 5
}
