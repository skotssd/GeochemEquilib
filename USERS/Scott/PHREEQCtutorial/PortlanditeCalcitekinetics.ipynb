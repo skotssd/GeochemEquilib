{
 "cells": [
  {
   "cell_type": "code",
   "execution_count": 1,
   "id": "62614c47-e582-4c47-a138-93b5230b8d9c",
   "metadata": {},
   "outputs": [
    {
     "data": {
      "text/plain": [
       "PHREEQCpath = /home/jovyan/runPHREEQC\n"
      ]
     },
     "metadata": {},
     "output_type": "display_data"
    }
   ],
   "source": [
    "% setup environment\n",
    "% clear data and number format\n",
    "clear; format short e\n",
    "% set path to equilibrium solver\n",
    "txt=pwd; n=length(txt); rootpath=txt;\n",
    "n=strfind(rootpath,\"USERS\"); rootpath=txt(1:n-2);\n",
    "PHREEQCpath=[rootpath,'/runPHREEQC']\n",
    "addpath(PHREEQCpath);\n",
    "JEQUILIBpath=[rootpath,'/JEQUILIB'];\n",
    "addpath(JEQUILIBpath);\n",
    "% turn off warnings\n",
    "warning off\n",
    "%graphics_toolkit (\"notebook\"); \n",
    "graphics_toolkit (\"plotly\"); \n",
    "%graphics_toolkit(\"gnuplot\")\n",
    "% delete phreeqcrunfile\n",
    "%system(\"rm porttest.txt\");"
   ]
  },
  {
   "cell_type": "markdown",
   "id": "3f00046c-0e87-431c-ab4b-0f70420f233f",
   "metadata": {},
   "source": [
    "# model portlandite dissolution kinetics\n",
    "\n",
    "follow the example [here](https://phreeqcusers.org/index.php?topic=1137.0) for calcite but replace with portlandite and the kinetic equation of the form \n",
    "\n",
    "$$\\dfrac{d(portlandite)}{dt} = k_P X_P \\left(\\left(\\dfrac{IAP_P}{Ksp_P}\\right)-1\\right)$$\n",
    "\n",
    "$$ \\mathrm{Ca(OH)_2}_{(\\mathrm{s})} = \\mathrm{Ca^{2+}} + 2\\mathrm{OH^{-}}$$\n",
    "\n",
    "$$K_{spP} = [\\mathrm{Ca^{2+}}][\\mathrm{OH^{-}}]^2$$\n",
    "\n",
    "need to use llnl database because it has portlandite in it.  The mineral phase can precipitate or dissolve but starts in excess so dissolves.\n",
    "\n",
    "# model calcite precipitation kinetics\n",
    "\n",
    "$$\\dfrac{d(calcite)}{dt} = k_C X_C \\left(\\left(\\dfrac{IAP_C}{Ksp_C}\\right)-1\\right)$$\n",
    "\n",
    "$$ \\mathrm{Ca(CO_3)}_{(\\mathrm{s})} = \\mathrm{Ca^{2+}} + \\mathrm{CO_3^{2-}}$$\n",
    "\n",
    "$$K_{spC} = [\\mathrm{Ca^{2+}}][\\mathrm{CO_3^{2-}}]$$\n"
   ]
  },
  {
   "cell_type": "code",
   "execution_count": 2,
   "id": "b15ed88c-b321-47ef-9499-23b6832510bb",
   "metadata": {},
   "outputs": [],
   "source": [
    "database=['llnl.dat'];"
   ]
  },
  {
   "cell_type": "markdown",
   "id": "207615a7-4e79-435e-9d0f-9b3cf74b8bb8",
   "metadata": {},
   "source": [
    "# Variables \n",
    "\n",
    "These are the default values I wrote this script with.  The next cell you can change them.\n",
    "\n",
    "XP=0.1 mol/L.  the initial amount of portlandite. should be a big number.\n",
    "\n",
    "XC=1e-6 mol/L.  seed crystal amount (if zero then won't ever ppte because multiplication by zero).  1e-6 value from that paper from Australia.\n",
    "\n",
    "kP=1e-5. just set as an arbitrary value.  need data to help figure out a reasonable value.\n",
    "\n",
    "kC=1e-4. just set as an arbitrary value. need data to help figure out a reasonable value.  makes sense to be faster than dissolution?\n",
    "\n",
    "\n"
   ]
  },
  {
   "cell_type": "code",
   "execution_count": 3,
   "id": "837f128b-b339-45cd-a11b-32f081153a20",
   "metadata": {},
   "outputs": [],
   "source": [
    "XP=0.1; XPstr=num2str(XP);\n",
    "XC=1e-6; XCstr=num2str(XC);\n",
    "kP=1e-5; kPstr=num2str(kP);\n",
    "kC=1e-4; kCstr=num2str(kC);"
   ]
  },
  {
   "cell_type": "code",
   "execution_count": 4,
   "id": "617375fd-885d-4f2e-a170-6a3011c5320f",
   "metadata": {
    "tags": []
   },
   "outputs": [],
   "source": [
    "solutionboxtext=[...\n",
    "{'SOLUTION 1\\n'}\n",
    "{'       pe      13.75\\n'}\n",
    "{'       pH      7\\n'}\n",
    "{'       temp    25\\n'}\n",
    "{'-units mol/kgw\\n'}\n",
    "   ];\n",
    "[nolinesSOLN,length]=size(solutionboxtext);"
   ]
  },
  {
   "cell_type": "code",
   "execution_count": 5,
   "id": "721ab802-cce3-47d3-9109-3dad724888cf",
   "metadata": {
    "tags": []
   },
   "outputs": [],
   "source": [
    "equilibboxtext=[...\n",
    "{'EQUILIBRIUM_PHASES 1\\n'}\n",
    "{'CO2(g)   -3.5\\n'}\n",
    "   ];\n",
    "[nolinesEQUIL,length]=size(equilibboxtext);"
   ]
  },
  {
   "cell_type": "code",
   "execution_count": 6,
   "id": "6906f49b-f69c-449c-83a6-cc3dff7a6fa7",
   "metadata": {
    "tags": []
   },
   "outputs": [],
   "source": [
    "rateboxtext=[...\n",
    "{'RATES\\n'}\n",
    "{'Portlandite\\n'}\n",
    "{'-start\\n'}\n",
    "{'1   REM   PARM(1) = rate constant\\n'}\n",
    "{'10  si_pp = SI(\"Portlandite\")\\n'}\n",
    "{'20  IF (M <= 0  and si_pp < 0) THEN GOTO 200\\n'}\n",
    "{'120 rate = PARM(1) *M* (1 - 10^(si_pp))\\n'}\n",
    "{'140 moles = rate*TIME\\n'}\n",
    "{'200 SAVE moles\\n'}\n",
    "{'   -end\\n'}\n",
    "{'Calcite\\n'}\n",
    "{'-start\\n'}\n",
    "{'1   REM   PARM(1) = rate constant\\n'}\n",
    "{'10  si_cc = SI(\"Calcite\")\\n'}\n",
    "{'20  IF (M <= 0  and si_cc < 0) THEN GOTO 200\\n'}\n",
    "{'120 rate = PARM(1) *M* (1 - 10^(si_cc))\\n'}\n",
    "{'140 moles = rate*TIME\\n'}\n",
    "{'200 SAVE moles\\n'}\n",
    "{'   -end\\n'}\n",
    "];\n",
    "[nolinesRATE,length]=size(rateboxtext);"
   ]
  },
  {
   "cell_type": "code",
   "execution_count": 7,
   "id": "d90c3d66-8ec3-47fb-aa80-ab5f80e65bb6",
   "metadata": {},
   "outputs": [],
   "source": [
    "m0Pline=['  -m0    ',XPstr,'\\n'];\n",
    "mPline=['  -m    ',XPstr,'\\n'];\n",
    "parmsPline=['  -parms ',kPstr,'\\n'];\n",
    "m0Cline=['  -m0    ',XCstr,'\\n'];\n",
    "mCline=['  -m    ',XCstr,'\\n'];\n",
    "parmsCline=['  -parms ',kCstr,'\\n'];\n",
    "\n",
    "kineticsboxtext=[...\n",
    "{'KINETICS 1\\n'}\n",
    "{'Portlandite\\n'}\n",
    "{'  -tol   1e-8\\n'}\n",
    "{m0Pline}\n",
    "{mPline}\n",
    "{parmsPline}\n",
    "{'Calcite\\n'}\n",
    "{'  -tol   1e-8\\n'}\n",
    "{m0Cline}\n",
    "{mCline}\n",
    "{parmsCline}\n",
    "{'  -steps 0 10 20 30 40 50 60 70 80 90 100 120 140 160 300 500 1000 1500 2000 3000 4000 5000 s\\n'}\n",
    "%{'  -steps 10000 in 25 steps\\n'}\n",
    "{'  -cvode\\n'}\n",
    "];\n",
    "[nolinesKIN,length]=size(kineticsboxtext);"
   ]
  },
  {
   "cell_type": "code",
   "execution_count": 8,
   "id": "96183ae0-4d6f-420d-884b-dd4008b1d6b8",
   "metadata": {},
   "outputs": [],
   "source": [
    "selectboxtext=[...\n",
    "{' SELECTED_OUTPUT\\n'}\n",
    "{' -file portout.txt\\n'}\n",
    "{' -selected_out true\\n'}\n",
    "{' -user_punch true\\n'}\n",
    "{' -high_precision true\\n'}\n",
    "{' -reset false\\n'}\n",
    "{' -simulation false\\n'}\n",
    "{' -state false\\n'}\n",
    "{' -distance false\\n'}\n",
    "{' -time false\\n'}\n",
    "{' -step false\\n'}\n",
    "{' -ph false\\n'}\n",
    "{' -pe false\\n'}\n",
    "{' -reaction false\\n'}\n",
    "{' -temperature false\\n'}\n",
    "{' -alkalinity false\\n'}\n",
    "{' -ionic_strength false\\n'}\n",
    "{' -water false\\n'}\n",
    "{' -charge_balance false\\n'}\n",
    "{' -percent_error false\\n'}\n",
    "%{' -molalities H+ Ca+2  \\n'}\n",
    "%{' -equilibrium_phases CO2(g)  \\n'}\n",
    "];\n",
    "[nolinesSEL,length]=size(selectboxtext);"
   ]
  },
  {
   "cell_type": "code",
   "execution_count": 9,
   "id": "2f591487-3d2d-49d6-a4fd-2a1b75fefea8",
   "metadata": {},
   "outputs": [],
   "source": [
    "punchboxtext=[...\n",
    "{'USER_PUNCH\\n'}\n",
    "{'        -headings seconds  Ca  pH Calcite  Portlandite \\n'}\n",
    "{'  10 PUNCH SIM_TIME, TOT(\"Ca\"), -LA(\"H+\"), SI(\"Calcite\"), SI(\"Portlandite\") \\n'}\n",
    "];\n",
    "[nolinesPUNCH,length]=size(punchboxtext);"
   ]
  },
  {
   "cell_type": "code",
   "execution_count": 10,
   "id": "048c8555-9171-45ec-8f8b-92e8c9b83436",
   "metadata": {
    "tags": []
   },
   "outputs": [],
   "source": [
    "fileID=fopen('porttest.txt','w');\n",
    "\n",
    "fprintf(fileID,'TITLE TEST PORTLANDITE DISSOLUTION\\n');\n",
    "\n",
    "for i=1:nolinesSOLN\n",
    "    line=cell2mat(solutionboxtext(i,:));\n",
    "    fprintf(fileID,line)\n",
    "end\n",
    "fprintf(fileID,'\\n');\n",
    "for i=1:nolinesEQUIL\n",
    "    line=cell2mat(equilibboxtext(i,:));\n",
    "    fprintf(fileID,line)\n",
    "end\n",
    "fprintf(fileID,'\\n');\n",
    "for i=1:nolinesRATE\n",
    "    line=cell2mat(rateboxtext(i,:));\n",
    "    fprintf(fileID,line)\n",
    "end\n",
    "fprintf(fileID,'\\n');\n",
    "for i=1:nolinesKIN\n",
    "    line=cell2mat(kineticsboxtext(i,:));\n",
    "    fprintf(fileID,line)\n",
    "end\n",
    "fprintf(fileID,'\\n');\n",
    "for i=1:nolinesSEL\n",
    "    line=cell2mat(selectboxtext(i,:));\n",
    "    fprintf(fileID,line)\n",
    "end\n",
    "fprintf(fileID,'\\n');\n",
    "for i=1:nolinesPUNCH\n",
    "    line=cell2mat(punchboxtext(i,:));\n",
    "    fprintf(fileID,line)\n",
    "end\n",
    "fprintf(fileID,'\\n');\n",
    "fprintf(fileID,'END');\n",
    "fclose(fileID);"
   ]
  },
  {
   "cell_type": "code",
   "execution_count": 11,
   "id": "a43a328e-df38-4de4-811f-ebb51bfd33ed",
   "metadata": {},
   "outputs": [],
   "source": [
    "str=['system(\"phreeqc porttest.txt out.txt ', database,'\");'];\n",
    "eval(str); % output to the screen\n",
    "%evalc(str); % so no screen output\n",
    "fid = fopen('portout.txt','rt');\n",
    "hdr = strtrim(regexp(fgetl(fid),'\\t','split'));\n",
    "hdr=hdr(1:5)';\n",
    "mat = cell2mat(textscan(fid,repmat('%f',1,numel(hdr))));\n",
    "[nsize,msize]=size(mat);\n",
    "time=mat(2:nsize,1); Caphreeqc=mat(2:nsize,2); pHphreeqc=mat(2:nsize,3);"
   ]
  },
  {
   "cell_type": "code",
   "execution_count": 12,
   "id": "207ac781-584e-4a07-98a7-55518fe4c13b",
   "metadata": {},
   "outputs": [
    {
     "data": {
      "application/vnd.plotly.v1+json": {
       "data": [
        {
         "line": {
          "color": "rgb(0,113,188)",
          "dash": "solid",
          "width": 0.5
         },
         "marker": {
          "color": "rgb(0,113,188)",
          "line": {
           "color": "rgb(0,113,188)"
          },
          "size": 6,
          "symbol": "none"
         },
         "mode": "lines",
         "name": "",
         "showlegend": false,
         "type": "scatter",
         "visibility": true,
         "x": [
          0,
          10,
          20,
          30,
          40,
          50,
          60,
          70,
          80,
          90,
          100,
          120,
          140,
          160,
          300,
          500,
          1000,
          1500,
          2000,
          3000,
          4000,
          5000
         ],
         "xaxis": "x",
         "y": [
          5.6635112974289985,
          6.630815079600999,
          6.926715462482,
          7.100982158022999,
          7.224685556229998,
          7.320575190745999,
          7.398844710074,
          7.464946005281,
          7.522137658532999,
          7.572522796225,
          7.6175379984179985,
          7.6952901359990005,
          7.760860671149,
          7.817512581465999,
          8.081584435713001,
          8.290918483375997,
          8.560116573062002,
          8.704655596627001,
          8.799034921623,
          8.821222266004,
          8.511398644565999,
          8.458897321394
         ],
         "yaxis": "y"
        }
       ],
       "layout": {
        "height": 420,
        "hovermode": "closest",
        "margin": {
         "b": 0,
         "l": 0,
         "r": 0,
         "t": 0
        },
        "plot_bgcolor": "rgba(0, 0, 0, 0)",
        "showlegend": false,
        "width": 560,
        "xaxis": {
         "anchor": "y",
         "autorange": false,
         "domain": [
          0.13,
          0.905
         ],
         "exponentformat": "none",
         "gridcolor": "rgba(38,38,38,0.15)",
         "gridwidth": 1,
         "linecolor": "rgb(38,38,38)",
         "linewidth": 1,
         "mirror": "ticks",
         "range": [
          0,
          5000
         ],
         "showgrid": false,
         "showline": true,
         "side": "bottom",
         "spikedash": "solid",
         "spikemode": "across",
         "spikesides": false,
         "spikethickness": 1,
         "tickangle": 0,
         "tickcolor": "rgb(38,38,38)",
         "tickfont": {
          "color": "rgb(38,38,38)",
          "size": 10
         },
         "ticklen": 3,
         "ticks": "inside",
         "ticktext": [
          "0",
          "1000",
          "2000",
          "3000",
          "4000",
          "5000"
         ],
         "tickvals": [
          0,
          1000,
          2000,
          3000,
          4000,
          5000
         ],
         "title": {
          "font": {
           "color": "rgb(0, 0, 0)",
           "size": 11
          },
          "text": ""
         },
         "type": "linear",
         "visible": true,
         "zeroline": false
        },
        "yaxis": {
         "anchor": "x",
         "autorange": false,
         "domain": [
          0.11,
          0.9249999999999999
         ],
         "exponentformat": "none",
         "gridcolor": "rgba(38,38,38,0.15)",
         "gridwidth": 1,
         "linecolor": "rgb(38,38,38)",
         "linewidth": 1,
         "mirror": "ticks",
         "range": [
          5.5,
          9
         ],
         "showgrid": false,
         "showline": true,
         "side": "left",
         "spikedash": "solid",
         "spikemode": "across",
         "spikesides": false,
         "spikethickness": 1,
         "tickangle": 0,
         "tickcolor": "rgb(38,38,38)",
         "tickfont": {
          "color": "rgb(38,38,38)",
          "size": 10
         },
         "ticklen": 3,
         "ticks": "inside",
         "ticktext": [
          "5.5",
          "6",
          "6.5",
          "7",
          "7.5",
          "8",
          "8.5",
          "9"
         ],
         "tickvals": [
          5.5,
          6,
          6.5,
          7,
          7.5,
          8,
          8.5,
          9
         ],
         "title": {
          "font": {
           "color": "rgb(0, 0, 0)",
           "size": 11
          },
          "text": ""
         },
         "type": "linear",
         "visible": true,
         "zeroline": false
        }
       }
      },
      "image/png": "[encoded data removed]"
     },
     "metadata": {},
     "output_type": "display_data"
    }
   ],
   "source": [
    "plot(time,pHphreeqc)"
   ]
  },
  {
   "cell_type": "code",
   "execution_count": 13,
   "id": "5f152190-64ab-4840-8ade-56221ab5d595",
   "metadata": {},
   "outputs": [
    {
     "data": {
      "application/vnd.plotly.v1+json": {
       "data": [
        {
         "line": {
          "color": "rgb(0,113,188)",
          "dash": "solid",
          "width": 0.5
         },
         "marker": {
          "color": "rgb(0,113,188)",
          "line": {
           "color": "rgb(0,113,188)"
          },
          "size": 6,
          "symbol": "none"
         },
         "mode": "lines",
         "name": "",
         "showlegend": false,
         "type": "scatter",
         "visibility": true,
         "x": [
          0,
          10,
          20,
          30,
          40,
          50,
          60,
          70,
          80,
          90,
          100,
          120,
          140,
          160,
          300,
          500,
          1000,
          1500,
          2000,
          3000,
          4000,
          5000
         ],
         "xaxis": "x",
         "y": [
          0,
          1.0000434349650003e-05,
          1.999983088458e-05,
          2.999822633817999e-05,
          3.999565257304e-05,
          4.999211113872002e-05,
          5.998753661755e-05,
          6.998193466362e-05,
          7.997534154599e-05,
          8.996775738515e-05,
          9.995918226523e-05,
          0.00011993905937,
          0.0001399149469624,
          0.000159886648399,
          0.00029957569993289995,
          0.0004987795304013001,
          0.0009948891531282999,
          0.0014878025213660002,
          0.001973959885554,
          0.002115830730616,
          0.0008740672447968998,
          0.0007622522564160999
         ],
         "yaxis": "y"
        }
       ],
       "layout": {
        "height": 420,
        "hovermode": "closest",
        "margin": {
         "b": 0,
         "l": 0,
         "r": 0,
         "t": 0
        },
        "plot_bgcolor": "rgba(0, 0, 0, 0)",
        "showlegend": false,
        "width": 560,
        "xaxis": {
         "anchor": "y",
         "autorange": false,
         "domain": [
          0.13,
          0.905
         ],
         "exponentformat": "none",
         "gridcolor": "rgba(38,38,38,0.15)",
         "gridwidth": 1,
         "linecolor": "rgb(38,38,38)",
         "linewidth": 1,
         "mirror": "ticks",
         "range": [
          0,
          5000
         ],
         "showgrid": false,
         "showline": true,
         "side": "bottom",
         "spikedash": "solid",
         "spikemode": "across",
         "spikesides": false,
         "spikethickness": 1,
         "tickangle": 0,
         "tickcolor": "rgb(38,38,38)",
         "tickfont": {
          "color": "rgb(38,38,38)",
          "size": 10
         },
         "ticklen": 3,
         "ticks": "inside",
         "ticktext": [
          "0",
          "1000",
          "2000",
          "3000",
          "4000",
          "5000"
         ],
         "tickvals": [
          0,
          1000,
          2000,
          3000,
          4000,
          5000
         ],
         "title": {
          "font": {
           "color": "rgb(0, 0, 0)",
           "size": 11
          },
          "text": ""
         },
         "type": "linear",
         "visible": true,
         "zeroline": false
        },
        "yaxis": {
         "anchor": "x",
         "autorange": false,
         "domain": [
          0.11,
          0.9249999999999999
         ],
         "exponentformat": "none",
         "gridcolor": "rgba(38,38,38,0.15)",
         "gridwidth": 1,
         "linecolor": "rgb(38,38,38)",
         "linewidth": 1,
         "mirror": "ticks",
         "range": [
          0,
          0.0025
         ],
         "showgrid": false,
         "showline": true,
         "side": "left",
         "spikedash": "solid",
         "spikemode": "across",
         "spikesides": false,
         "spikethickness": 1,
         "tickangle": 0,
         "tickcolor": "rgb(38,38,38)",
         "tickfont": {
          "color": "rgb(38,38,38)",
          "size": 10
         },
         "ticklen": 3,
         "ticks": "inside",
         "ticktext": [
          "0",
          "0.0005",
          "0.001",
          "0.0015",
          "0.002",
          "0.0025"
         ],
         "tickvals": [
          0,
          0.0005,
          0.001,
          0.0015,
          0.002,
          0.0025
         ],
         "title": {
          "font": {
           "color": "rgb(0, 0, 0)",
           "size": 11
          },
          "text": ""
         },
         "type": "linear",
         "visible": true,
         "zeroline": false
        }
       }
      },
      "image/png": "[encoded data removed]"
     },
     "metadata": {},
     "output_type": "display_data"
    }
   ],
   "source": [
    "plot(time,Caphreeqc)"
   ]
  },
  {
   "cell_type": "markdown",
   "id": "af76732c-6f1b-482c-a5c4-44dfd019f857",
   "metadata": {},
   "source": [
    "# also solve with the ODE solver"
   ]
  },
  {
   "cell_type": "code",
   "execution_count": 14,
   "id": "c9a66401-ee7a-47e2-a693-3bc1f545a602",
   "metadata": {},
   "outputs": [],
   "source": [
    "function [H,OH,H2CO3,HCO3,CO3]=CCaspeciesopen(Ca,Kw,KH,Ka1,Ka2,PCO2)\n",
    "\n",
    "a=1; b=2*Ca; c=-KH*Ka1*PCO2-Kw; d=-2*KH*Ka1*Ka2*PCO2;\n",
    "H=roots([a b c d]);\n",
    "H=H(imag(H)==0); %sets any imaginary roots to zero\n",
    "% display the positive real root\n",
    "H=H(H>0);\n",
    "%solve speciation\n",
    "H2CO3=KH*PCO2; HCO3=(KH*PCO2*Ka1)/H; CO3=(KH*PCO2*Ka1*Ka2)/(H^2); OH=Kw/H;\n",
    "\n",
    "end"
   ]
  },
  {
   "cell_type": "code",
   "execution_count": 15,
   "id": "50921203-8ba1-423b-8cd9-cd6b11f70e36",
   "metadata": {},
   "outputs": [],
   "source": [
    "% try with ode solver.  first need to define the function\n",
    "\n",
    "function dCdt=dC_by_dt(t,C,Kw,KH,Ka1,Ka2,PCO2,KspP,kP)\n",
    "\n",
    "[H,OH,H2CO3,HCO3,CO3]=CCaspeciesopen(C(2),Kw,KH,Ka1,Ka2,PCO2);\n",
    "\n",
    "IAPP=C(2)*OH^2; \n",
    "\n",
    "dCdt=zeros(2,1); % top entry is [portlandite].  bottom entry is [calcium cation].  \n",
    "\n",
    "%rate of decrease in portlandite concentration.  IAP/Ksp is less than 1 so rate is negative\n",
    "dCdt(1)=kP*C(1)*(IAPP/KspP-1);  \n",
    "\n",
    "%rate of increase in calcium concentration from port dissolve and decrease Ca from calcite ppte\n",
    "dCdt(2)=-kP*C(1)*(IAPP/KspP-1);  \n",
    "\n",
    "dC=dCdt;\n",
    "\n",
    "end"
   ]
  },
  {
   "cell_type": "code",
   "execution_count": 16,
   "id": "81cc332d-10da-4fad-9f78-90d4767d4bff",
   "metadata": {},
   "outputs": [],
   "source": [
    "% make an anonymous function because ODE solver only wants conc and time as variables\n",
    "% and dfine all the constants too\n",
    "\n",
    "%Kw=1e-14; KH=10^-1.47; Ka1=10^-6.3; Ka2=10^-10.3; PCO2=10^-3.5; KspC=3.4e-9; KspC=1.4e-8;\n",
    "%KspP=5.5e-6; kC=1e-4; kP=1e-6;\n",
    "\n",
    "Kw=1e-14; KH=10^-1.47; Ka1=10^-6.3; Ka2=10^-10.3; PCO2=10^-3.5; KspP=5.5e-6; kP=1e-5;\n",
    "\n",
    "dCdtrate = @(t,C)dC_by_dt(t,C,Kw,KH,Ka1,Ka2,PCO2,KspP,kP);\n"
   ]
  },
  {
   "cell_type": "code",
   "execution_count": 17,
   "id": "7612201c-a6ac-40f7-964f-a2fee774b3a5",
   "metadata": {},
   "outputs": [
    {
     "data": {
      "application/vnd.plotly.v1+json": {
       "data": [
        {
         "line": {
          "color": "rgb(0,113,188)",
          "dash": "solid",
          "width": 0.5
         },
         "marker": {
          "color": "rgb(0,113,188)",
          "line": {
           "color": "rgb(0,113,188)"
          },
          "size": 6,
          "symbol": "none"
         },
         "mode": "lines",
         "name": "",
         "showlegend": false,
         "type": "scatter",
         "visibility": true,
         "x": [
          0,
          0.4641588833612779,
          1.1603972084031948,
          2.20475469596607,
          3.7712909273103827,
          6.121095274326851,
          9.645801794851556,
          14.932861575638611,
          22.863451246819196,
          34.759335753590065,
          52.60316251374638,
          79.36890265398085,
          119.51751286433255,
          179.7404281798601,
          270.0748011531514,
          405.57636061308835,
          608.8286998029938,
          913.707208587852,
          1371.0249717651393,
          1871.0249717651393,
          2371.0249717651395,
          2871.0249717651395,
          3371.0249717651395,
          3871.0249717651395,
          4371.0249717651395,
          4871.0249717651395,
          5000
         ],
         "xaxis": "x",
         "y": [
          0.1,
          0.09999953584219386,
          0.09999883960952419,
          0.09999779526960859,
          0.09999622878018499,
          0.09999387909206091,
          0.09999035466339767,
          0.09998506825332067,
          0.09997713916224105,
          0.09996524670460367,
          0.09994741067052418,
          0.0999206625861283,
          0.09988055388086974,
          0.09982042100819181,
          0.09973028957274009,
          0.09959524498954898,
          0.0993930209066593,
          0.09909045441148324,
          0.09863833077227076,
          0.09814637004983229,
          0.09765686299701609,
          0.09716979737881437,
          0.09668516102162884,
          0.0962029418128987,
          0.0957231277007407,
          0.09524570669359916,
          0.09512294272676781
         ],
         "yaxis": "y"
        },
        {
         "line": {
          "color": "rgb(0,113,188)",
          "dash": "solid",
          "width": 0.5
         },
         "marker": {
          "color": "rgb(0,113,188)",
          "line": {
           "color": "rgb(0,113,188)"
          },
          "size": 6,
          "symbol": "none"
         },
         "mode": "lines",
         "name": "",
         "showlegend": false,
         "type": "scatter",
         "visibility": true,
         "x": [
          0,
          0.4641588833612779,
          1.1603972084031948,
          2.20475469596607,
          3.7712909273103827,
          6.121095274326851,
          9.645801794851556,
          14.932861575638611,
          22.863451246819196,
          34.759335753590065,
          52.60316251374638,
          79.36890265398085,
          119.51751286433255,
          179.7404281798601,
          270.0748011531514,
          405.57636061308835,
          608.8286998029938,
          913.707208587852,
          1371.0249717651393,
          1871.0249717651393,
          2371.0249717651395,
          2871.0249717651395,
          3371.0249717651395,
          3871.0249717651395,
          4371.0249717651395,
          4871.0249717651395,
          5000
         ],
         "xaxis": "x2",
         "y": [
          0,
          4.6415780614559975e-07,
          1.1603904758208302e-06,
          2.204730391428342e-06,
          3.7712198150280444e-06,
          6.1209079391124074e-06,
          9.645336602347527e-06,
          1.4931746679360394e-05,
          2.2860837758986086e-05,
          3.4753295396361964e-05,
          5.258932947585416e-05,
          7.933741387173155e-05,
          0.00011944611913030356,
          0.00017957899180822974,
          0.00026971042725995836,
          0.0004047550104510652,
          0.000606979093340753,
          0.0009095455885168126,
          0.0013616692277292953,
          0.0018536299501677694,
          0.0023431370029839676,
          0.002830202621185692,
          0.003314838978371223,
          0.003797058187101354,
          0.004276872299259361,
          0.0047542933064009096,
          0.004877057273232252
         ],
         "yaxis": "y2"
        },
        {
         "line": {
          "color": "rgb(0,113,188)",
          "dash": "solid",
          "width": 0.5
         },
         "marker": {
          "color": "rgb(0,113,188)",
          "line": {
           "color": "rgb(0,113,188)"
          },
          "size": 6,
          "symbol": "none"
         },
         "mode": "lines",
         "name": "",
         "showlegend": false,
         "type": "scatter",
         "visibility": true,
         "x": [
          0,
          0.4641588833612779,
          1.1603972084031948,
          2.20475469596607,
          3.7712909273103827,
          6.121095274326851,
          9.645801794851556,
          14.932861575638611,
          22.863451246819196,
          34.759335753590065,
          52.60316251374638,
          79.36890265398085,
          119.51751286433255,
          179.7404281798601,
          270.0748011531514,
          405.57636061308835,
          608.8286998029938,
          913.707208587852,
          1371.0249717651393,
          1871.0249717651393,
          2371.0249717651395,
          2871.0249717651395,
          3371.0249717651395,
          3871.0249717651395,
          4371.0249717651395,
          4871.0249717651395,
          5000
         ],
         "xaxis": "x3",
         "y": [
          5.634586662924438,
          5.720917830060706,
          5.8436646918454995,
          6.001943725297554,
          6.182874780340702,
          6.371752510270274,
          6.560530843912282,
          6.746688342883942,
          6.930058881172213,
          7.11114064679717,
          7.290483808934528,
          7.468517041119786,
          7.645518463638479,
          7.821623757204729,
          7.996835561677365,
          8.17102308863096,
          8.343909650786369,
          8.515050120485615,
          8.683804749754371,
          8.810998775731306,
          8.906338093542127,
          8.982214614918258,
          9.044982337250701,
          9.098333664684285,
          9.14460329095783,
          9.18536040491689,
          9.195121937842359
         ],
         "yaxis": "y3"
        },
        {
         "line": {
          "color": "rgb(216,82,24)",
          "dash": "solid",
          "width": 0.5
         },
         "marker": {
          "color": "rgb(216,82,24)",
          "line": {
           "color": "rgb(216,82,24)"
          },
          "size": 6,
          "symbol": "none"
         },
         "mode": "lines",
         "name": "",
         "showlegend": false,
         "type": "scatter",
         "visibility": true,
         "x": [
          0,
          10,
          20,
          30,
          40,
          50,
          60,
          70,
          80,
          90,
          100,
          120,
          140,
          160,
          300,
          500,
          1000,
          1500,
          2000,
          3000,
          4000,
          5000
         ],
         "xaxis": "x3",
         "y": [
          5.6635112974289985,
          6.630815079600999,
          6.926715462482,
          7.100982158022999,
          7.224685556229998,
          7.320575190745999,
          7.398844710074,
          7.464946005281,
          7.522137658532999,
          7.572522796225,
          7.6175379984179985,
          7.6952901359990005,
          7.760860671149,
          7.817512581465999,
          8.081584435713001,
          8.290918483375997,
          8.560116573062002,
          8.704655596627001,
          8.799034921623,
          8.821222266004,
          8.511398644565999,
          8.458897321394
         ],
         "yaxis": "y3"
        }
       ],
       "layout": {
        "height": 420,
        "hovermode": "closest",
        "margin": {
         "b": 0,
         "l": 0,
         "r": 0,
         "t": 0
        },
        "plot_bgcolor": "rgba(0, 0, 0, 0)",
        "showlegend": false,
        "width": 560,
        "xaxis": {
         "anchor": "y",
         "autorange": false,
         "domain": [
          0.13,
          0.4567857142857143
         ],
         "exponentformat": "none",
         "gridcolor": "rgba(38,38,38,0.15)",
         "gridwidth": 1,
         "linecolor": "rgb(38,38,38)",
         "linewidth": 1,
         "mirror": "ticks",
         "range": [
          0,
          5000
         ],
         "showgrid": false,
         "showline": true,
         "side": "bottom",
         "spikedash": "solid",
         "spikemode": "across",
         "spikesides": false,
         "spikethickness": 1,
         "tickangle": 0,
         "tickcolor": "rgb(38,38,38)",
         "tickfont": {
          "color": "rgb(38,38,38)",
          "size": 10
         },
         "ticklen": 3,
         "ticks": "inside",
         "ticktext": [
          "0",
          "1000",
          "2000",
          "3000",
          "4000",
          "5000"
         ],
         "tickvals": [
          0,
          1000,
          2000,
          3000,
          4000,
          5000
         ],
         "title": {
          "font": {
           "color": "rgb(38,38,38)",
           "size": 11
          },
          "text": "time"
         },
         "type": "linear",
         "visible": true,
         "zeroline": false
        },
        "xaxis2": {
         "anchor": "y2",
         "autorange": false,
         "domain": [
          0.5782142857142858,
          0.905
         ],
         "exponentformat": "none",
         "gridcolor": "rgba(38,38,38,0.15)",
         "gridwidth": 1,
         "linecolor": "rgb(38,38,38)",
         "linewidth": 1,
         "mirror": "ticks",
         "range": [
          0,
          5000
         ],
         "showgrid": false,
         "showline": true,
         "side": "bottom",
         "spikedash": "solid",
         "spikemode": "across",
         "spikesides": false,
         "spikethickness": 1,
         "tickangle": 0,
         "tickcolor": "rgb(38,38,38)",
         "tickfont": {
          "color": "rgb(38,38,38)",
          "size": 10
         },
         "ticklen": 3,
         "ticks": "inside",
         "ticktext": [
          "0",
          "1000",
          "2000",
          "3000",
          "4000",
          "5000"
         ],
         "tickvals": [
          0,
          1000,
          2000,
          3000,
          4000,
          5000
         ],
         "title": {
          "font": {
           "color": "rgb(38,38,38)",
           "size": 11
          },
          "text": "time"
         },
         "type": "linear",
         "visible": true,
         "zeroline": false
        },
        "xaxis3": {
         "anchor": "y3",
         "autorange": false,
         "domain": [
          0.5782142857142858,
          0.905
         ],
         "exponentformat": "none",
         "gridcolor": "rgba(38,38,38,0.15)",
         "gridwidth": 1,
         "linecolor": "rgb(38,38,38)",
         "linewidth": 1,
         "mirror": "ticks",
         "range": [
          0,
          5000
         ],
         "showgrid": false,
         "showline": true,
         "side": "bottom",
         "spikedash": "solid",
         "spikemode": "across",
         "spikesides": false,
         "spikethickness": 1,
         "tickangle": 0,
         "tickcolor": "rgb(38,38,38)",
         "tickfont": {
          "color": "rgb(38,38,38)",
          "size": 10
         },
         "ticklen": 3,
         "ticks": "inside",
         "ticktext": [
          "0",
          "1000",
          "2000",
          "3000",
          "4000",
          "5000"
         ],
         "tickvals": [
          0,
          1000,
          2000,
          3000,
          4000,
          5000
         ],
         "title": {
          "font": {
           "color": "rgb(38,38,38)",
           "size": 11
          },
          "text": "time"
         },
         "type": "linear",
         "visible": true,
         "zeroline": false
        },
        "yaxis": {
         "anchor": "x",
         "autorange": false,
         "domain": [
          0.5817857142857142,
          0.9154761904761903
         ],
         "exponentformat": "none",
         "gridcolor": "rgba(38,38,38,0.15)",
         "gridwidth": 1,
         "linecolor": "rgb(38,38,38)",
         "linewidth": 1,
         "mirror": "ticks",
         "range": [
          0.095,
          0.1
         ],
         "showgrid": false,
         "showline": true,
         "side": "left",
         "spikedash": "solid",
         "spikemode": "across",
         "spikesides": false,
         "spikethickness": 1,
         "tickangle": 0,
         "tickcolor": "rgb(38,38,38)",
         "tickfont": {
          "color": "rgb(38,38,38)",
          "size": 10
         },
         "ticklen": 3,
         "ticks": "inside",
         "ticktext": [
          "0.095",
          "0.096",
          "0.097",
          "0.098",
          "0.099",
          "0.1"
         ],
         "tickvals": [
          0.095,
          0.096,
          0.097,
          0.098,
          0.099,
          0.1
         ],
         "title": {
          "font": {
           "color": "rgb(38,38,38)",
           "size": 11
          },
          "text": "[portlandite]"
         },
         "type": "linear",
         "visible": true,
         "zeroline": false
        },
        "yaxis2": {
         "anchor": "x2",
         "autorange": false,
         "domain": [
          0.5817857142857142,
          0.9154761904761903
         ],
         "exponentformat": "none",
         "gridcolor": "rgba(38,38,38,0.15)",
         "gridwidth": 1,
         "linecolor": "rgb(38,38,38)",
         "linewidth": 1,
         "mirror": "ticks",
         "range": [
          0,
          0.005
         ],
         "showgrid": false,
         "showline": true,
         "side": "left",
         "spikedash": "solid",
         "spikemode": "across",
         "spikesides": false,
         "spikethickness": 1,
         "tickangle": 0,
         "tickcolor": "rgb(38,38,38)",
         "tickfont": {
          "color": "rgb(38,38,38)",
          "size": 10
         },
         "ticklen": 3,
         "ticks": "inside",
         "ticktext": [
          "0",
          "0.001",
          "0.002",
          "0.003",
          "0.004",
          "0.005"
         ],
         "tickvals": [
          0,
          0.001,
          0.002,
          0.003,
          0.004,
          0.005
         ],
         "title": {
          "font": {
           "color": "rgb(38,38,38)",
           "size": 11
          },
          "text": "[Ca] in solution"
         },
         "type": "linear",
         "visible": true,
         "zeroline": false
        },
        "yaxis3": {
         "anchor": "x3",
         "autorange": false,
         "domain": [
          0.11,
          0.4436904761904761
         ],
         "exponentformat": "none",
         "gridcolor": "rgba(38,38,38,0.15)",
         "gridwidth": 1,
         "linecolor": "rgb(38,38,38)",
         "linewidth": 1,
         "mirror": "ticks",
         "range": [
          5,
          10
         ],
         "showgrid": false,
         "showline": true,
         "side": "left",
         "spikedash": "solid",
         "spikemode": "across",
         "spikesides": false,
         "spikethickness": 1,
         "tickangle": 0,
         "tickcolor": "rgb(38,38,38)",
         "tickfont": {
          "color": "rgb(38,38,38)",
          "size": 10
         },
         "ticklen": 3,
         "ticks": "inside",
         "ticktext": [
          "5",
          "6",
          "7",
          "8",
          "9",
          "10"
         ],
         "tickvals": [
          5,
          6,
          7,
          8,
          9,
          10
         ],
         "title": {
          "font": {
           "color": "rgb(38,38,38)",
           "size": 11
          },
          "text": "pH"
         },
         "type": "linear",
         "visible": true,
         "zeroline": false
        }
       }
      },
      "image/png": "[encoded data removed]"
     },
     "metadata": {},
     "output_type": "display_data"
    },
    {
     "name": "stderr",
     "output_type": "stream",
     "text": [
      "ERROR: received unknown message\n",
      "Message type: usage_request\n"
     ]
    }
   ],
   "source": [
    "% call ODE solver\n",
    "\n",
    "[t, C]=ode45(dCdtrate,[0 5000],[0.1 0]); \n",
    "\n",
    "port=C(:,1); %portlandite left over\n",
    "Ca=C(:,2); [n,m]=size(Ca);\n",
    "pH=[]; % pH reset\n",
    "\n",
    "for i=1:n\n",
    "    [H,OH,H2CO3,HCO3,CO3]=CCaspeciesopen(Ca(i),Kw,KH,Ka1,Ka2,PCO2);\n",
    "    pH(i)=-log10(H);\n",
    "end\n",
    "\n",
    "subplot(221); plot(t,port); ylabel('[portlandite]'); xlabel('time')\n",
    "subplot(222); plot(t,Ca); ylabel('[Ca] in solution'); xlabel('time')\n",
    "subplot(224); plot(t,pH,time,pHphreeqc); ylabel('pH'); xlabel('time')\n"
   ]
  },
  {
   "cell_type": "code",
   "execution_count": null,
   "id": "3cd38d7d-d2b9-43f9-88c8-2211e09fba93",
   "metadata": {},
   "outputs": [],
   "source": []
  }
 ],
 "metadata": {
  "kernelspec": {
   "display_name": "Octave (xoctave)",
   "language": "Octave",
   "name": "xoctave"
  },
  "language_info": {
   "codemirror_mode": "octave",
   "file_extension": ".m",
   "mimetype": "text/x-octave",
   "name": "Octave",
   "nbconvert_exporter": "",
   "pygments_lexer": "octave",
   "version": "7.3.0"
  }
 },
 "nbformat": 4,
 "nbformat_minor": 5
}
