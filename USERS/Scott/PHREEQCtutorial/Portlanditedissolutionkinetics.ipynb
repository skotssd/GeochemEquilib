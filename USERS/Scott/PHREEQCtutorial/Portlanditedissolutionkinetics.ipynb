{
 "cells": [
  {
   "cell_type": "markdown",
   "id": "3f00046c-0e87-431c-ab4b-0f70420f233f",
   "metadata": {},
   "source": [
    "# model portlandite dissolution kinetics\n",
    "\n",
    "follow the example [here](https://phreeqcusers.org/index.php?topic=1137.0) for calcite but replace with portlandite and the kinetic equation of the form \n",
    "\n",
    "$$\\dfrac{d(portlandite)}{dt} = k_P X_P \\left(\\left(\\dfrac{IAP_P}{Ksp_P}\\right)-1\\right)$$\n",
    "\n",
    "portlandite.  \n",
    "\n",
    "$$ \\mathrm{Ca(OH)_2}_{(\\mathrm{s})} = \\mathrm{Ca^{2+}} + 2\\mathrm{OH^{-}}$$\n",
    "\n",
    "$$K_{sp} = [\\mathrm{Ca^{2+}}][\\mathrm{OH^{-}}]^2=5.5e-6$$\n",
    "\n",
    "need to use llnl database because it has portlandite in it\n",
    "\n"
   ]
  },
  {
   "cell_type": "code",
   "execution_count": 94,
   "id": "70ebc03b-4e85-4105-a35c-a91f04ab3171",
   "metadata": {
    "tags": []
   },
   "outputs": [
    {
     "data": {
      "text/plain": [
       "pH = 5.6628\n"
      ]
     },
     "metadata": {},
     "output_type": "display_data"
    }
   ],
   "source": [
    "database=['llnl.dat'];\n",
    "minerals=[{'CO2(g)'}]; % this is where you list the mineral phases to consider\n",
    "totalvector=[]; % not relevant for this because it is an open system\n",
    "totalnames=[];  % not relevant for this because it is an open system\n",
    "T=25; % temperature in degree C (run 5 degrees C and 35 degrees C to see the differnece)\n",
    "show=0; % this should show the PHREEQC output to the screen. works in Matlab but not Octave\n",
    "speciesexport=[{'H+'}; {'Ca+2'}]; % need to tell what species we want to look at after the run\n",
    "acid=[]; % not relevant for this problem\n",
    "pH=7; pe=20.75-pH; % you need initial values for pH and pe (Redox condition).  they aren't used but can' be blank\n",
    "pHfixcheck=0; %1 makes the pH fixed, 0 means pH is free to vary (same for pe).  here MUST be 0.  \n",
    "%can't do fixed pH AND open without adding cations\n",
    "\n",
    "[solutionspeciesconcs, speciesnames, solidconcs, solidnames]=...\n",
    "runPHREEQCv3(T,pH,pe,totalnames,totalvector,minerals,speciesexport,database,show,acid,pHfixcheck);\n",
    "\n",
    "H=solutionspeciesconcs(1); \n",
    "CO3=solutionspeciesconcs(2); \n",
    "\n",
    "pH=-log10(H)\n"
   ]
  },
  {
   "cell_type": "code",
   "execution_count": 95,
   "id": "617375fd-885d-4f2e-a170-6a3011c5320f",
   "metadata": {
    "tags": []
   },
   "outputs": [],
   "source": [
    "rateboxtext=[...\n",
    "{'  \\n'}\n",
    "{'RATES\\n'}\n",
    "{'Portlandite\\n'}\n",
    "{'-start\\n'}\n",
    "{'1   REM   PARM(1) = rate constant\\n'}\n",
    "{'10  si_pp = SI(\"Portlandite\")\\n'}\n",
    "{'20  IF (M <= 0  and si_cc < 0) THEN GOTO 200\\n'}\n",
    "{'120 rate = PARM(1) *M* (1 - 10^(si_pp))\\n'}\n",
    "{'200 SAVE moles\\n'}\n",
    "{'   -end\\n'}\n",
    "{'END\\n'}\n",
    "   ];\n",
    "[nolinesRATE,length]=size(rateboxtext);"
   ]
  },
  {
   "cell_type": "code",
   "execution_count": 96,
   "id": "d90c3d66-8ec3-47fb-aa80-ab5f80e65bb6",
   "metadata": {},
   "outputs": [],
   "source": [
    "kineticsboxtext=[...\n",
    "{'KINETICS 1\\n'}\n",
    "{'Portlandite\\n'}\n",
    "{'  -tol   1e-8\\n'}\n",
    "{'  -m0    10\\n'}\n",
    "{'  -m     10\\n'}\n",
    "{'  -parms 1e-3  # simple rate constant\\n'}\n",
    "{'  -steps 1 2 3 4 5 6 7 8 9 10 day\\n'}\n",
    "{'  -cvode\\n'}\n",
    "{' USE SOLUTION 1\\n'}\n",
    "{'END\\n'}\n",
    "];\n",
    "[nolinesKIN,length]=size(kineticsboxtext);"
   ]
  },
  {
   "cell_type": "code",
   "execution_count": 97,
   "id": "048c8555-9171-45ec-8f8b-92e8c9b83436",
   "metadata": {
    "tags": []
   },
   "outputs": [
    {
     "name": "stderr",
     "output_type": "stream",
     "text": [
      "ERROR: received unknown message\n",
      "Message type: usage_request\n"
     ]
    }
   ],
   "source": [
    "fileID=fopen('runphreeqc.txt','a');\n",
    "fprintf(fileID,'\\n');\n",
    "for i=1:nolinesRATE\n",
    "    line=cell2mat(rateboxtext(i,:));\n",
    "    fprintf(fileID,line)\n",
    "end\n",
    "fprintf(fileID,'\\n');\n",
    "for i=1:nolinesKIN\n",
    "    line=cell2mat(kineticsboxtext(i,:));\n",
    "    fprintf(fileID,line)\n",
    "end\n",
    "fclose(fileID);"
   ]
  }
 ],
 "metadata": {
  "kernelspec": {
   "display_name": "Octave (xoctave)",
   "language": "Octave",
   "name": "xoctave"
  },
  "language_info": {
   "codemirror_mode": "octave",
   "file_extension": ".m",
   "mimetype": "text/x-octave",
   "name": "Octave",
   "nbconvert_exporter": "",
   "pygments_lexer": "octave",
   "version": "7.3.0"
  }
 },
 "nbformat": 4,
 "nbformat_minor": 5
}
