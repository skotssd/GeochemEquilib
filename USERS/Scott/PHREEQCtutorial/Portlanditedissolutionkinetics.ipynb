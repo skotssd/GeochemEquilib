{
 "cells": [
  {
   "cell_type": "code",
   "execution_count": 1,
   "id": "62614c47-e582-4c47-a138-93b5230b8d9c",
   "metadata": {},
   "outputs": [],
   "source": [
    "% setup environment\n",
    "% clear data and number format\n",
    "clear; format short e\n",
    "% set path to equilibrium solver\n",
    "txt=pwd; n=length(txt); rootpath=txt;\n",
    "n=strfind(rootpath,\"USERS\"); rootpath=txt(1:n-2);\n",
    "PHREEQCpath=[rootpath,'/runPHREEQC'];\n",
    "addpath(PHREEQCpath);\n",
    "JEQUILIBpath=[rootpath,'/JEQUILIB'];\n",
    "addpath(JEQUILIBpath);\n",
    "% turn off warnings\n",
    "warning off\n",
    "%graphics_toolkit (\"notebook\"); \n",
    "graphics_toolkit (\"plotly\"); \n",
    "%graphics_toolkit(\"gnuplot\")\n",
    "% delete phreeqcrunfile\n",
    "system(\"rm porttest.txt\");"
   ]
  },
  {
   "cell_type": "markdown",
   "id": "3f00046c-0e87-431c-ab4b-0f70420f233f",
   "metadata": {},
   "source": [
    "# model portlandite dissolution kinetics\n",
    "\n",
    "follow the example [here](https://phreeqcusers.org/index.php?topic=1137.0) for calcite but replace with portlandite and the kinetic equation of the form \n",
    "\n",
    "$$\\dfrac{d(portlandite)}{dt} = k_P X_P \\left(\\left(\\dfrac{IAP_P}{Ksp_P}\\right)-1\\right)$$\n",
    "\n",
    "portlandite.  \n",
    "\n",
    "$$ \\mathrm{Ca(OH)_2}_{(\\mathrm{s})} = \\mathrm{Ca^{2+}} + 2\\mathrm{OH^{-}}$$\n",
    "\n",
    "$$K_{sp} = [\\mathrm{Ca^{2+}}][\\mathrm{OH^{-}}]^2=5.5e-6$$\n",
    "\n",
    "need to use llnl database because it has portlandite in it\n",
    "\n"
   ]
  },
  {
   "cell_type": "code",
   "execution_count": 2,
   "id": "b15ed88c-b321-47ef-9499-23b6832510bb",
   "metadata": {},
   "outputs": [],
   "source": [
    "database=['llnl.dat'];"
   ]
  },
  {
   "cell_type": "markdown",
   "id": "207615a7-4e79-435e-9d0f-9b3cf74b8bb8",
   "metadata": {},
   "source": [
    "# build PHREEQC input file\n",
    "\n",
    "follow the example [here](https://phreeqcusers.org/index.php?topic=1137.0) for calcite but replace with portlandite and the kinetic equation of the form \n",
    "\n",
    "$$\\dfrac{d(portlandite)}{dt} = k_P X_P \\left(\\left(\\dfrac{IAP_P}{Ksp_P}\\right)-1\\right)$$\n",
    "\n",
    "portlandite.  \n",
    "\n",
    "$$ \\mathrm{Ca(OH)_2}_{(\\mathrm{s})} = \\mathrm{Ca^{2+}} + 2\\mathrm{OH^{-}}$$\n",
    "\n",
    "$$K_{sp} = [\\mathrm{Ca^{2+}}][\\mathrm{OH^{-}}]^2=5.5e-6$$\n",
    "\n",
    "need to use llnl database because it has portlandite in it\n",
    "\n"
   ]
  },
  {
   "cell_type": "code",
   "execution_count": 3,
   "id": "617375fd-885d-4f2e-a170-6a3011c5320f",
   "metadata": {
    "tags": []
   },
   "outputs": [],
   "source": [
    "solutionboxtext=[...\n",
    "{'SOLUTION 1\\n'}\n",
    "{'       pe      13.75\\n'}\n",
    "{'       pH      7\\n'}\n",
    "{'       temp    25\\n'}\n",
    "{'-units mol/kgw\\n'}\n",
    "   ];\n",
    "[nolinesSOLN,length]=size(solutionboxtext);"
   ]
  },
  {
   "cell_type": "code",
   "execution_count": 4,
   "id": "721ab802-cce3-47d3-9109-3dad724888cf",
   "metadata": {
    "tags": []
   },
   "outputs": [],
   "source": [
    "equilibboxtext=[...\n",
    "{'EQUILIBRIUM_PHASES 1\\n'}\n",
    "{'CO2(g)   -3.5\\n'}\n",
    "   ];\n",
    "[nolinesEQUIL,length]=size(equilibboxtext);"
   ]
  },
  {
   "cell_type": "code",
   "execution_count": 5,
   "id": "6906f49b-f69c-449c-83a6-cc3dff7a6fa7",
   "metadata": {
    "tags": []
   },
   "outputs": [],
   "source": [
    "rateboxtext=[...\n",
    "{'RATES\\n'}\n",
    "{'Portlandite\\n'}\n",
    "{'-start\\n'}\n",
    "{'1   REM   PARM(1) = rate constant\\n'}\n",
    "{'10  si_pp = SI(\"Portlandite\")\\n'}\n",
    "{'20  IF (M <= 0  and si_pp < 0) THEN GOTO 200\\n'}\n",
    "{'120 rate = PARM(1) *M* (1 - 10^(si_pp))\\n'}\n",
    "{'140 moles = rate*TIME\\n'}\n",
    "{'200 SAVE moles\\n'}\n",
    "{'   -end\\n'}\n",
    "   ];\n",
    "[nolinesRATE,length]=size(rateboxtext);"
   ]
  },
  {
   "cell_type": "code",
   "execution_count": 6,
   "id": "d90c3d66-8ec3-47fb-aa80-ab5f80e65bb6",
   "metadata": {},
   "outputs": [],
   "source": [
    "kineticsboxtext=[...\n",
    "{'KINETICS 1\\n'}\n",
    "{'Portlandite\\n'}\n",
    "{'  -tol   1e-8\\n'}\n",
    "{'  -m0    0.1\\n'}\n",
    "{'  -m     0.1\\n'}\n",
    "{'  -parms 1e-5  # simple rate constant\\n'}\n",
    "{'  -steps 0 10 20 30 40 50 60 70 80 90 100 120 140 160 s\\n'}\n",
    "{'  -cvode\\n'}\n",
    "];\n",
    "[nolinesKIN,length]=size(kineticsboxtext);"
   ]
  },
  {
   "cell_type": "code",
   "execution_count": 7,
   "id": "96183ae0-4d6f-420d-884b-dd4008b1d6b8",
   "metadata": {},
   "outputs": [],
   "source": [
    "selectboxtext=[...\n",
    "{' SELECTED_OUTPUT\\n'}\n",
    "{' -file portout.txt\\n'}\n",
    "{' -selected_out true\\n'}\n",
    "{' -user_punch true\\n'}\n",
    "{' -high_precision true\\n'}\n",
    "{' -reset false\\n'}\n",
    "{' -simulation false\\n'}\n",
    "{' -state false\\n'}\n",
    "{' -distance false\\n'}\n",
    "{' -time false\\n'}\n",
    "{' -step false\\n'}\n",
    "{' -ph false\\n'}\n",
    "{' -pe false\\n'}\n",
    "{' -reaction false\\n'}\n",
    "{' -temperature false\\n'}\n",
    "{' -alkalinity false\\n'}\n",
    "{' -ionic_strength false\\n'}\n",
    "{' -water false\\n'}\n",
    "{' -charge_balance false\\n'}\n",
    "{' -percent_error false\\n'}\n",
    "%{' -molalities H+ Ca+2  \\n'}\n",
    "%{' -equilibrium_phases CO2(g)  \\n'}\n",
    "];\n",
    "[nolinesSEL,length]=size(selectboxtext);"
   ]
  },
  {
   "cell_type": "code",
   "execution_count": 8,
   "id": "2f591487-3d2d-49d6-a4fd-2a1b75fefea8",
   "metadata": {},
   "outputs": [],
   "source": [
    "punchboxtext=[...\n",
    "{'USER_PUNCH\\n'}\n",
    "{'        -headings seconds  Ca  pH  \\n'}\n",
    "{'  10 PUNCH SIM_TIME, TOT(\"Ca\"), -LA(\"H+\")\\n'}\n",
    "];\n",
    "[nolinesPUNCH,length]=size(punchboxtext);"
   ]
  },
  {
   "cell_type": "code",
   "execution_count": 9,
   "id": "048c8555-9171-45ec-8f8b-92e8c9b83436",
   "metadata": {
    "tags": []
   },
   "outputs": [],
   "source": [
    "fileID=fopen('porttest.txt','w');\n",
    "\n",
    "fprintf(fileID,'TITLE TEST PORTLANDITE DISSOLUTION\\n');\n",
    "\n",
    "for i=1:nolinesSOLN\n",
    "    line=cell2mat(solutionboxtext(i,:));\n",
    "    fprintf(fileID,line)\n",
    "end\n",
    "fprintf(fileID,'\\n');\n",
    "for i=1:nolinesEQUIL\n",
    "    line=cell2mat(equilibboxtext(i,:));\n",
    "    fprintf(fileID,line)\n",
    "end\n",
    "fprintf(fileID,'\\n');\n",
    "for i=1:nolinesRATE\n",
    "    line=cell2mat(rateboxtext(i,:));\n",
    "    fprintf(fileID,line)\n",
    "end\n",
    "fprintf(fileID,'\\n');\n",
    "for i=1:nolinesKIN\n",
    "    line=cell2mat(kineticsboxtext(i,:));\n",
    "    fprintf(fileID,line)\n",
    "end\n",
    "fprintf(fileID,'\\n');\n",
    "for i=1:nolinesSEL\n",
    "    line=cell2mat(selectboxtext(i,:));\n",
    "    fprintf(fileID,line)\n",
    "end\n",
    "fprintf(fileID,'\\n');\n",
    "for i=1:nolinesPUNCH\n",
    "    line=cell2mat(punchboxtext(i,:));\n",
    "    fprintf(fileID,line)\n",
    "end\n",
    "fprintf(fileID,'\\n');\n",
    "fprintf(fileID,'END');\n",
    "fclose(fileID);"
   ]
  },
  {
   "cell_type": "code",
   "execution_count": 10,
   "id": "a43a328e-df38-4de4-811f-ebb51bfd33ed",
   "metadata": {},
   "outputs": [],
   "source": [
    "str=['system(\"phreeqc porttest.txt out.txt ', database,'\");'];\n",
    "eval(str); % output to the screen\n",
    "%evalc(str); % so no screen output\n",
    "fid = fopen('portout.txt','rt');\n",
    "hdr = strtrim(regexp(fgetl(fid),'\\t','split'));\n",
    "hdr=hdr(1:3)';\n",
    "mat = cell2mat(textscan(fid,repmat('%f',1,numel(hdr))));\n",
    "[nsize,msize]=size(mat);\n",
    "time=mat(2:nsize,1); Caphreeqc=mat(2:nsize,2); pHphreeqc=mat(2:nsize,3);"
   ]
  },
  {
   "cell_type": "code",
   "execution_count": 11,
   "id": "207ac781-584e-4a07-98a7-55518fe4c13b",
   "metadata": {},
   "outputs": [
    {
     "data": {
      "application/vnd.plotly.v1+json": {
       "data": [
        {
         "line": {
          "color": "rgb(0,113,188)",
          "dash": "solid",
          "width": 0.5
         },
         "marker": {
          "color": "rgb(0,113,188)",
          "line": {
           "color": "rgb(0,113,188)"
          },
          "size": 6,
          "symbol": "none"
         },
         "mode": "lines",
         "name": "",
         "showlegend": false,
         "type": "scatter",
         "visibility": true,
         "x": [
          0,
          10,
          20,
          30,
          40,
          50,
          60,
          70,
          80,
          90,
          100,
          120,
          140,
          160
         ],
         "xaxis": "x",
         "y": [
          5.6635112974289985,
          6.630773036799,
          6.926672946385,
          7.100939824519999,
          7.224643382822001,
          7.320532908761999,
          7.3988023650959995,
          7.464903872122999,
          7.5220957145269995,
          7.572481026018999,
          7.617496391177999,
          7.695248790301001,
          7.760819364469,
          7.817471880549999
         ],
         "yaxis": "y"
        }
       ],
       "layout": {
        "height": 420,
        "hovermode": "closest",
        "margin": {
         "b": 0,
         "l": 0,
         "r": 0,
         "t": 0
        },
        "plot_bgcolor": "rgba(0, 0, 0, 0)",
        "showlegend": false,
        "width": 560,
        "xaxis": {
         "anchor": "y",
         "autorange": false,
         "domain": [
          0.13,
          0.905
         ],
         "exponentformat": "none",
         "gridcolor": "rgba(38,38,38,0.15)",
         "gridwidth": 1,
         "linecolor": "rgb(38,38,38)",
         "linewidth": 1,
         "mirror": "ticks",
         "range": [
          0,
          200
         ],
         "showgrid": false,
         "showline": true,
         "side": "bottom",
         "spikedash": "solid",
         "spikemode": "across",
         "spikesides": false,
         "spikethickness": 1,
         "tickangle": 0,
         "tickcolor": "rgb(38,38,38)",
         "tickfont": {
          "color": "rgb(38,38,38)",
          "size": 10
         },
         "ticklen": 3,
         "ticks": "inside",
         "ticktext": [
          "0",
          "50",
          "100",
          "150",
          "200"
         ],
         "tickvals": [
          0,
          50,
          100,
          150,
          200
         ],
         "title": {
          "font": {
           "color": "rgb(0, 0, 0)",
           "size": 11
          },
          "text": ""
         },
         "type": "linear",
         "visible": true,
         "zeroline": false
        },
        "yaxis": {
         "anchor": "x",
         "autorange": false,
         "domain": [
          0.11,
          0.9249999999999999
         ],
         "exponentformat": "none",
         "gridcolor": "rgba(38,38,38,0.15)",
         "gridwidth": 1,
         "linecolor": "rgb(38,38,38)",
         "linewidth": 1,
         "mirror": "ticks",
         "range": [
          5.5,
          8
         ],
         "showgrid": false,
         "showline": true,
         "side": "left",
         "spikedash": "solid",
         "spikemode": "across",
         "spikesides": false,
         "spikethickness": 1,
         "tickangle": 0,
         "tickcolor": "rgb(38,38,38)",
         "tickfont": {
          "color": "rgb(38,38,38)",
          "size": 10
         },
         "ticklen": 3,
         "ticks": "inside",
         "ticktext": [
          "5.5",
          "6",
          "6.5",
          "7",
          "7.5",
          "8"
         ],
         "tickvals": [
          5.5,
          6,
          6.5,
          7,
          7.5,
          8
         ],
         "title": {
          "font": {
           "color": "rgb(0, 0, 0)",
           "size": 11
          },
          "text": ""
         },
         "type": "linear",
         "visible": true,
         "zeroline": false
        }
       }
      },
      "image/png": "[encoded data removed]"
     },
     "metadata": {},
     "output_type": "display_data"
    }
   ],
   "source": [
    "plot(time,pHphreeqc)"
   ]
  },
  {
   "cell_type": "markdown",
   "id": "af76732c-6f1b-482c-a5c4-44dfd019f857",
   "metadata": {},
   "source": [
    "# also solve with the ODE solver"
   ]
  },
  {
   "cell_type": "code",
   "execution_count": 12,
   "id": "c9a66401-ee7a-47e2-a693-3bc1f545a602",
   "metadata": {},
   "outputs": [],
   "source": [
    "function [H,OH,H2CO3,HCO3,CO3]=CCaspeciesopen(Ca,Kw,KH,Ka1,Ka2,PCO2)\n",
    "\n",
    "a=1; b=2*Ca; c=-KH*Ka1*PCO2-Kw; d=-2*KH*Ka1*Ka2*PCO2;\n",
    "H=roots([a b c d]);\n",
    "H=H(imag(H)==0); %sets any imaginary roots to zero\n",
    "% display the positive real root\n",
    "H=H(H>0);\n",
    "%solve speciation\n",
    "H2CO3=KH*PCO2; HCO3=(KH*PCO2*Ka1)/H; CO3=(KH*PCO2*Ka1*Ka2)/(H^2); OH=Kw/H;\n",
    "\n",
    "end"
   ]
  },
  {
   "cell_type": "code",
   "execution_count": 13,
   "id": "50921203-8ba1-423b-8cd9-cd6b11f70e36",
   "metadata": {},
   "outputs": [],
   "source": [
    "% try with ode solver.  first need to define the function\n",
    "\n",
    "function dCdt=dC_by_dt(t,C,Kw,KH,Ka1,Ka2,PCO2,KspP,kP)\n",
    "\n",
    "[H,OH,H2CO3,HCO3,CO3]=CCaspeciesopen(C(2),Kw,KH,Ka1,Ka2,PCO2);\n",
    "\n",
    "IAPP=C(2)*OH^2; \n",
    "\n",
    "dCdt=zeros(2,1); % top entry is [portlandite].  bottom entry is [calcium cation].  \n",
    "\n",
    "%rate of decrease in portlandite concentration.  IAP/Ksp is less than 1 so rate is negative\n",
    "dCdt(1)=kP*C(1)*(IAPP/KspP-1);  \n",
    "\n",
    "%rate of increase in calcium concentration from port dissolve and decrease Ca from calcite ppte\n",
    "dCdt(2)=-kP*C(1)*(IAPP/KspP-1);  \n",
    "\n",
    "dC=dCdt;\n",
    "\n",
    "end"
   ]
  },
  {
   "cell_type": "code",
   "execution_count": 14,
   "id": "81cc332d-10da-4fad-9f78-90d4767d4bff",
   "metadata": {},
   "outputs": [],
   "source": [
    "% make an anonymous function because ODE solver only wants conc and time as variables\n",
    "% and dfine all the constants too\n",
    "\n",
    "%Kw=1e-14; KH=10^-1.47; Ka1=10^-6.3; Ka2=10^-10.3; PCO2=10^-3.5; KspC=3.4e-9; KspC=1.4e-8;\n",
    "%KspP=5.5e-6; kC=1e-4; kP=1e-6;\n",
    "\n",
    "Kw=1e-14; KH=10^-1.47; Ka1=10^-6.3; Ka2=10^-10.3; PCO2=10^-3.5; KspP=5.5e-6; kP=1e-5;\n",
    "\n",
    "dCdtrate = @(t,C)dC_by_dt(t,C,Kw,KH,Ka1,Ka2,PCO2,KspP,kP);\n"
   ]
  },
  {
   "cell_type": "code",
   "execution_count": 15,
   "id": "7612201c-a6ac-40f7-964f-a2fee774b3a5",
   "metadata": {},
   "outputs": [
    {
     "data": {
      "application/vnd.plotly.v1+json": {
       "data": [
        {
         "line": {
          "color": "rgb(0,113,188)",
          "dash": "solid",
          "width": 0.5
         },
         "marker": {
          "color": "rgb(0,113,188)",
          "line": {
           "color": "rgb(0,113,188)"
          },
          "size": 6,
          "symbol": "none"
         },
         "mode": "lines",
         "name": "",
         "showlegend": false,
         "type": "scatter",
         "visibility": true,
         "x": [
          0,
          0.4641588833612779,
          1.1603972084031948,
          2.20475469596607,
          3.7712909273103827,
          6.121095274326851,
          9.645801794851556,
          14.932861575638611,
          22.863451246819196,
          34.759335753590065,
          49.759335753590065,
          64.75933575359007,
          79.75933575359007,
          94.75933575359007,
          109.75933575359007,
          124.75933575359007,
          139.75933575359008,
          150
         ],
         "xaxis": "x",
         "y": [
          0.1,
          0.09999953584219386,
          0.09999883960952419,
          0.09999779526960859,
          0.09999622878018499,
          0.09999387909206091,
          0.09999035466339767,
          0.09998506825332067,
          0.09997713916224105,
          0.09996524670460367,
          0.09995025304215079,
          0.0999352616285786,
          0.09992027246354981,
          0.09990528554672717,
          0.09989030087777347,
          0.09987531845635156,
          0.09986033828212434,
          0.09985011244377144
         ],
         "yaxis": "y"
        },
        {
         "line": {
          "color": "rgb(0,113,188)",
          "dash": "solid",
          "width": 0.5
         },
         "marker": {
          "color": "rgb(0,113,188)",
          "line": {
           "color": "rgb(0,113,188)"
          },
          "size": 6,
          "symbol": "none"
         },
         "mode": "lines",
         "name": "",
         "showlegend": false,
         "type": "scatter",
         "visibility": true,
         "x": [
          0,
          0.4641588833612779,
          1.1603972084031948,
          2.20475469596607,
          3.7712909273103827,
          6.121095274326851,
          9.645801794851556,
          14.932861575638611,
          22.863451246819196,
          34.759335753590065,
          49.759335753590065,
          64.75933575359007,
          79.75933575359007,
          94.75933575359007,
          109.75933575359007,
          124.75933575359007,
          139.75933575359008,
          150
         ],
         "xaxis": "x2",
         "y": [
          0,
          4.6415780614559975e-07,
          1.1603904758208302e-06,
          2.204730391428342e-06,
          3.7712198150280444e-06,
          6.1209079391124074e-06,
          9.645336602347527e-06,
          1.4931746679360394e-05,
          2.2860837758986086e-05,
          3.4753295396361964e-05,
          4.9746957849252505e-05,
          6.473837142144115e-05,
          7.972753645023182e-05,
          9.47144532728771e-05,
          0.00010969912222657829,
          0.0001246815436484853,
          0.00013966171787569684,
          0.00014988755622859844
         ],
         "yaxis": "y2"
        },
        {
         "line": {
          "color": "rgb(0,113,188)",
          "dash": "solid",
          "width": 0.5
         },
         "marker": {
          "color": "rgb(0,113,188)",
          "line": {
           "color": "rgb(0,113,188)"
          },
          "size": 6,
          "symbol": "none"
         },
         "mode": "lines",
         "name": "",
         "showlegend": false,
         "type": "scatter",
         "visibility": true,
         "x": [
          0,
          0.4641588833612779,
          1.1603972084031948,
          2.20475469596607,
          3.7712909273103827,
          6.121095274326851,
          9.645801794851556,
          14.932861575638611,
          22.863451246819196,
          34.759335753590065,
          49.759335753590065,
          64.75933575359007,
          79.75933575359007,
          94.75933575359007,
          109.75933575359007,
          124.75933575359007,
          139.75933575359008,
          150
         ],
         "xaxis": "x3",
         "y": [
          5.634586662924438,
          5.720917830060706,
          5.8436646918454995,
          6.001943725297554,
          6.182874780340702,
          6.371752510270274,
          6.560530843912282,
          6.746688342883942,
          6.930058881172213,
          7.11114064679717,
          7.266423141001455,
          7.380481236881783,
          7.470640194680164,
          7.545181599569854,
          7.608712618976966,
          7.664061796460188,
          7.713090928267421,
          7.7436126336929485
         ],
         "yaxis": "y3"
        },
        {
         "line": {
          "color": "rgb(216,82,24)",
          "dash": "solid",
          "width": 0.5
         },
         "marker": {
          "color": "rgb(216,82,24)",
          "line": {
           "color": "rgb(216,82,24)"
          },
          "size": 6,
          "symbol": "none"
         },
         "mode": "lines",
         "name": "",
         "showlegend": false,
         "type": "scatter",
         "visibility": true,
         "x": [
          0,
          10,
          20,
          30,
          40,
          50,
          60,
          70,
          80,
          90,
          100,
          120,
          140,
          160
         ],
         "xaxis": "x3",
         "y": [
          5.6635112974289985,
          6.630773036799,
          6.926672946385,
          7.100939824519999,
          7.224643382822001,
          7.320532908761999,
          7.3988023650959995,
          7.464903872122999,
          7.5220957145269995,
          7.572481026018999,
          7.617496391177999,
          7.695248790301001,
          7.760819364469,
          7.817471880549999
         ],
         "yaxis": "y3"
        }
       ],
       "layout": {
        "height": 420,
        "hovermode": "closest",
        "margin": {
         "b": 0,
         "l": 0,
         "r": 0,
         "t": 0
        },
        "plot_bgcolor": "rgba(0, 0, 0, 0)",
        "showlegend": false,
        "width": 560,
        "xaxis": {
         "anchor": "y",
         "autorange": false,
         "domain": [
          0.13,
          0.4567857142857143
         ],
         "exponentformat": "none",
         "gridcolor": "rgba(38,38,38,0.15)",
         "gridwidth": 1,
         "linecolor": "rgb(38,38,38)",
         "linewidth": 1,
         "mirror": "ticks",
         "range": [
          0,
          200
         ],
         "showgrid": false,
         "showline": true,
         "side": "bottom",
         "spikedash": "solid",
         "spikemode": "across",
         "spikesides": false,
         "spikethickness": 1,
         "tickangle": 0,
         "tickcolor": "rgb(38,38,38)",
         "tickfont": {
          "color": "rgb(38,38,38)",
          "size": 10
         },
         "ticklen": 3,
         "ticks": "inside",
         "ticktext": [
          "0",
          "50",
          "100",
          "150",
          "200"
         ],
         "tickvals": [
          0,
          50,
          100,
          150,
          200
         ],
         "title": {
          "font": {
           "color": "rgb(38,38,38)",
           "size": 11
          },
          "text": "time"
         },
         "type": "linear",
         "visible": true,
         "zeroline": false
        },
        "xaxis2": {
         "anchor": "y2",
         "autorange": false,
         "domain": [
          0.5782142857142858,
          0.905
         ],
         "exponentformat": "none",
         "gridcolor": "rgba(38,38,38,0.15)",
         "gridwidth": 1,
         "linecolor": "rgb(38,38,38)",
         "linewidth": 1,
         "mirror": "ticks",
         "range": [
          0,
          200
         ],
         "showgrid": false,
         "showline": true,
         "side": "bottom",
         "spikedash": "solid",
         "spikemode": "across",
         "spikesides": false,
         "spikethickness": 1,
         "tickangle": 0,
         "tickcolor": "rgb(38,38,38)",
         "tickfont": {
          "color": "rgb(38,38,38)",
          "size": 10
         },
         "ticklen": 3,
         "ticks": "inside",
         "ticktext": [
          "0",
          "50",
          "100",
          "150",
          "200"
         ],
         "tickvals": [
          0,
          50,
          100,
          150,
          200
         ],
         "title": {
          "font": {
           "color": "rgb(38,38,38)",
           "size": 11
          },
          "text": "time"
         },
         "type": "linear",
         "visible": true,
         "zeroline": false
        },
        "xaxis3": {
         "anchor": "y3",
         "autorange": false,
         "domain": [
          0.5782142857142858,
          0.905
         ],
         "exponentformat": "none",
         "gridcolor": "rgba(38,38,38,0.15)",
         "gridwidth": 1,
         "linecolor": "rgb(38,38,38)",
         "linewidth": 1,
         "mirror": "ticks",
         "range": [
          0,
          200
         ],
         "showgrid": false,
         "showline": true,
         "side": "bottom",
         "spikedash": "solid",
         "spikemode": "across",
         "spikesides": false,
         "spikethickness": 1,
         "tickangle": 0,
         "tickcolor": "rgb(38,38,38)",
         "tickfont": {
          "color": "rgb(38,38,38)",
          "size": 10
         },
         "ticklen": 3,
         "ticks": "inside",
         "ticktext": [
          "0",
          "50",
          "100",
          "150",
          "200"
         ],
         "tickvals": [
          0,
          50,
          100,
          150,
          200
         ],
         "title": {
          "font": {
           "color": "rgb(38,38,38)",
           "size": 11
          },
          "text": "time"
         },
         "type": "linear",
         "visible": true,
         "zeroline": false
        },
        "yaxis": {
         "anchor": "x",
         "autorange": false,
         "domain": [
          0.5817857142857142,
          0.9154761904761903
         ],
         "exponentformat": "none",
         "gridcolor": "rgba(38,38,38,0.15)",
         "gridwidth": 1,
         "linecolor": "rgb(38,38,38)",
         "linewidth": 1,
         "mirror": "ticks",
         "range": [
          0.0998,
          0.1
         ],
         "showgrid": false,
         "showline": true,
         "side": "left",
         "spikedash": "solid",
         "spikemode": "across",
         "spikesides": false,
         "spikethickness": 1,
         "tickangle": 0,
         "tickcolor": "rgb(38,38,38)",
         "tickfont": {
          "color": "rgb(38,38,38)",
          "size": 10
         },
         "ticklen": 3,
         "ticks": "inside",
         "ticktext": [
          "0.0998",
          "0.09985",
          "0.0999",
          "0.09995",
          "0.1"
         ],
         "tickvals": [
          0.0998,
          0.09985000000000001,
          0.0999,
          0.09995000000000001,
          0.1
         ],
         "title": {
          "font": {
           "color": "rgb(38,38,38)",
           "size": 11
          },
          "text": "[portlandite]"
         },
         "type": "linear",
         "visible": true,
         "zeroline": false
        },
        "yaxis2": {
         "anchor": "x2",
         "autorange": false,
         "domain": [
          0.5817857142857142,
          0.9154761904761903
         ],
         "exponentformat": "none",
         "gridcolor": "rgba(38,38,38,0.15)",
         "gridwidth": 1,
         "linecolor": "rgb(38,38,38)",
         "linewidth": 1,
         "mirror": "ticks",
         "range": [
          0,
          0.0002
         ],
         "showgrid": false,
         "showline": true,
         "side": "left",
         "spikedash": "solid",
         "spikemode": "across",
         "spikesides": false,
         "spikethickness": 1,
         "tickangle": 0,
         "tickcolor": "rgb(38,38,38)",
         "tickfont": {
          "color": "rgb(38,38,38)",
          "size": 10
         },
         "ticklen": 3,
         "ticks": "inside",
         "ticktext": [
          "0",
          "5e-05",
          "0.0001",
          "0.00015",
          "0.0002"
         ],
         "tickvals": [
          0,
          5e-05,
          0.0001,
          0.00015000000000000001,
          0.0002
         ],
         "title": {
          "font": {
           "color": "rgb(38,38,38)",
           "size": 11
          },
          "text": "[Ca] in solution"
         },
         "type": "linear",
         "visible": true,
         "zeroline": false
        },
        "yaxis3": {
         "anchor": "x3",
         "autorange": false,
         "domain": [
          0.11,
          0.44369047619047614
         ],
         "exponentformat": "none",
         "gridcolor": "rgba(38,38,38,0.15)",
         "gridwidth": 1,
         "linecolor": "rgb(38,38,38)",
         "linewidth": 1,
         "mirror": "ticks",
         "range": [
          5.5,
          8
         ],
         "showgrid": false,
         "showline": true,
         "side": "left",
         "spikedash": "solid",
         "spikemode": "across",
         "spikesides": false,
         "spikethickness": 1,
         "tickangle": 0,
         "tickcolor": "rgb(38,38,38)",
         "tickfont": {
          "color": "rgb(38,38,38)",
          "size": 10
         },
         "ticklen": 3,
         "ticks": "inside",
         "ticktext": [
          "5.5",
          "6",
          "6.5",
          "7",
          "7.5",
          "8"
         ],
         "tickvals": [
          5.5,
          6,
          6.5,
          7,
          7.5,
          8
         ],
         "title": {
          "font": {
           "color": "rgb(38,38,38)",
           "size": 11
          },
          "text": "pH"
         },
         "type": "linear",
         "visible": true,
         "zeroline": false
        }
       }
      },
      "image/png": "[encoded data removed]"
     },
     "metadata": {},
     "output_type": "display_data"
    }
   ],
   "source": [
    "% call ODE solver\n",
    "\n",
    "[t, C]=ode45(dCdtrate,[0 150],[0.1 0]); \n",
    "\n",
    "port=C(:,1); %portlandite left over\n",
    "Ca=C(:,2); [n,m]=size(Ca);\n",
    "pH=[]; % pH reset\n",
    "\n",
    "for i=1:n\n",
    "    [H,OH,H2CO3,HCO3,CO3]=CCaspeciesopen(Ca(i),Kw,KH,Ka1,Ka2,PCO2);\n",
    "    pH(i)=-log10(H);\n",
    "end\n",
    "\n",
    "subplot(221); plot(t,port); ylabel('[portlandite]'); xlabel('time')\n",
    "subplot(222); plot(t,Ca); ylabel('[Ca] in solution'); xlabel('time')\n",
    "subplot(224); plot(t,pH,time,pHphreeqc); ylabel('pH'); xlabel('time')\n"
   ]
  },
  {
   "cell_type": "code",
   "execution_count": null,
   "id": "3cd38d7d-d2b9-43f9-88c8-2211e09fba93",
   "metadata": {},
   "outputs": [],
   "source": []
  }
 ],
 "metadata": {
  "kernelspec": {
   "display_name": "Octave (xoctave)",
   "language": "Octave",
   "name": "xoctave"
  },
  "language_info": {
   "codemirror_mode": "octave",
   "file_extension": ".m",
   "mimetype": "text/x-octave",
   "name": "Octave",
   "nbconvert_exporter": "",
   "pygments_lexer": "octave",
   "version": "7.3.0"
  }
 },
 "nbformat": 4,
 "nbformat_minor": 5
}
