{
 "cells": [
  {
   "cell_type": "markdown",
   "id": "ae3ad4a6-a1aa-49f4-80ba-00d02d424b06",
   "metadata": {},
   "source": [
    "# Let's redo our open system pH calculation using PHREEQC\n",
    "\n",
    "PHREEQC is a great program but the scripting language can be a little tedious to input.  and REALLY tedious to read the outputs.  I wrote a \"wrapper\" (not sure that is the right word) ... but I wrote a way to generate the input file using Matlab/Octave and then pull out the results after running PHREEQC. I have not ever done any dynamic simulations with PHREEQC though so we'll have to figure that out as we go.  I will explain the process step by step below. "
   ]
  },
  {
   "cell_type": "markdown",
   "id": "38abb9da-b689-49c9-aa52-dd67eecd7629",
   "metadata": {},
   "source": [
    "# first step ... get PHREEQC executable available on the path\n",
    "\n",
    "also clear the memory (of previous runs, the Octave kernel remembers run to run unless you reset it).  Set warnings off to avoid outputs to the screen of warning messages (for debugging you could set this to on if you run into problems).  The graphics toolbox is set to make nice looking graphs.  If the plots don't work though switch to notebook.  If things are working well you won't need to play with this part at all."
   ]
  },
  {
   "cell_type": "code",
   "execution_count": 4,
   "id": "7ec8480e-04b7-41b2-b8e0-b6a0ac09b326",
   "metadata": {},
   "outputs": [
    {
     "data": {
      "text/plain": [
       "ans =          0\n"
      ]
     },
     "metadata": {},
     "output_type": "display_data"
    }
   ],
   "source": [
    "% setup environment\n",
    "% clear data and number format\n",
    "clear; format short e\n",
    "% set path to equilibrium solver\n",
    "txt=pwd; n=length(txt); rootpath=txt;\n",
    "n=strfind(rootpath,\"USERS\"); rootpath=txt(1:n-2);\n",
    "PHREEQCpath=[rootpath,'/runPHREEQC'];\n",
    "addpath(PHREEQCpath);\n",
    "JEQUILIBpath=[rootpath,'/JEQUILIB'];\n",
    "addpath(JEQUILIBpath);\n",
    "% turn off warnings\n",
    "warning off\n",
    "%graphics_toolkit (\"notebook\"); \n",
    "graphics_toolkit (\"plotly\"); \n",
    "%graphics_toolkit(\"gnuplot\")\n",
    "\n",
    "% add a bit so can view the PHREEQC interface file\n",
    "% symbolic link didn't work\n",
    "%txt=['system(\"ln -s ',PHREEQCpath,'/runPHREEQCv3.m runPHREEQCv3.m\")']\n",
    "%eval(txt)\n",
    "% try to copy the file here\n",
    "txt=['system(\"cp ',PHREEQCpath,'/runPHREEQCv3.m runPHREEQCv3.m\")'];\n",
    "eval(txt);"
   ]
  },
  {
   "cell_type": "markdown",
   "id": "71d0fd1f-7850-4198-a7ab-bb912513fc6b",
   "metadata": {},
   "source": [
    "# Database file.  \n",
    "\n",
    "There are several PHREEQC database files. I often use llnl.dat or PHREEQC.dat.  Specify database with\n",
    "\n",
    "database=['NAME.dat']; \n",
    "\n",
    "Have a look at [PHREEQC.dat](./phreeqc.dat)"
   ]
  },
  {
   "cell_type": "code",
   "execution_count": 5,
   "id": "22b3d044-5d54-4cce-bcdc-cd8b6b6d22ad",
   "metadata": {},
   "outputs": [],
   "source": [
    "database=['phreeqc.dat'];"
   ]
  },
  {
   "cell_type": "markdown",
   "id": "be041baa-f09d-4734-a425-3a38c22d2e88",
   "metadata": {},
   "source": [
    "# writing file to run PHREEQC.  \n",
    "\n",
    "The syntax of the PHREEQC input file is complicated. But we can write what we need with a few  inputs.  The inputs are described below\n",
    "\n",
    "Have a look at [runPHREEQCv3.m](./runPHREEQCv3.m)"
   ]
  },
  {
   "cell_type": "code",
   "execution_count": 6,
   "id": "ad2ba7c5-a1c5-4e81-a5d4-d98bb142164c",
   "metadata": {},
   "outputs": [
    {
     "data": {
      "text/plain": [
       "pH = 5.6587e+00\n"
      ]
     },
     "metadata": {},
     "output_type": "display_data"
    }
   ],
   "source": [
    "minerals=[{'CO2(g)'}]; % this is where you list the mineral phases to consider\n",
    "totalvector=[]; % not relevant for this because it is an open system\n",
    "totalnames=[];  % not relevant for this because it is an open system\n",
    "T=25; % temperature in degree C (run 5 degrees C and 35 degrees C to see the differnece)\n",
    "show=0; % this should show the PHREEQC output to the screen. works in Matlab but not Octave\n",
    "speciesexport=[{'H+'}]; % need to tell what species we want to look at after the run\n",
    "acid=[]; % not relevant for this problem\n",
    "pH=7; pe=20.75-pH; % you need initial values for pH and pe (Redox condition).  they aren't used but can' be blank\n",
    "pHfixcheck=0; %1 makes the pH fixed, 0 means pH is free to vary (same for pe).  here MUST be 0.  \n",
    "%can't do fixed pH AND open without adding cations\n",
    "\n",
    "[solutionspeciesconcs, speciesnames, solidconcs, solidnames]=...\n",
    "runPHREEQCv3(T,pH,pe,totalnames,totalvector,minerals,speciesexport,database,show,acid,pHfixcheck);\n",
    "\n",
    "H=solutionspeciesconcs(1); \n",
    "\n",
    "pH=-log10(H)\n"
   ]
  },
  {
   "cell_type": "markdown",
   "id": "4e632ce4-4cd6-4d05-b5f6-9d75f416b224",
   "metadata": {},
   "source": [
    "# look at the output.  \n",
    "\n",
    "PHREEQC has complicated output file.\n",
    "\n",
    "Have a look at [out.txt](./out.txt)"
   ]
  }
 ],
 "metadata": {
  "kernelspec": {
   "display_name": "Octave (xoctave)",
   "language": "Octave",
   "name": "xoctave"
  },
  "language_info": {
   "codemirror_mode": "octave",
   "file_extension": ".m",
   "mimetype": "text/x-octave",
   "name": "Octave",
   "nbconvert_exporter": "",
   "pygments_lexer": "octave",
   "version": "7.3.0"
  }
 },
 "nbformat": 4,
 "nbformat_minor": 5
}
