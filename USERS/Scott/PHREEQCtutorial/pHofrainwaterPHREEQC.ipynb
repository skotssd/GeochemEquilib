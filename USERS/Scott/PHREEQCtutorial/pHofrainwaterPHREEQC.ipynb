{
 "cells": [
  {
   "cell_type": "markdown",
   "id": "ae3ad4a6-a1aa-49f4-80ba-00d02d424b06",
   "metadata": {},
   "source": [
    "# Let's redo our open system pH calculation using PHREEQC\n",
    "\n",
    "PHREEQC is a great program but the scripting language can be a little tedious to input.  and REALLY tedious to read the outputs.  I wrote a \"wrapper\" (not sure that is the right word) ... but I wrote a way to generate the input file using Matlab/Octave and then pull out the results after running PHREEQC. I have not ever done any dynamic simulations with PHREEQC though so we'll have to figure that out as we go.  I will explain the process step by step below. "
   ]
  },
  {
   "cell_type": "markdown",
   "id": "38abb9da-b689-49c9-aa52-dd67eecd7629",
   "metadata": {},
   "source": [
    "# first step ... get PHREEQC executable available on the path\n",
    "\n",
    "also clear the memory (of previous runs, the Octave kernel remembers run to run unless you reset it).  Set warnings off to avoid outputs to the screen of warning messages (for debugging you could set this to on if you run into problems).  The graphics toolbox is set to make nice looking graphs.  If the plots don't work though switch to notebook.  If things are working well you won't need to play with this part at all."
   ]
  },
  {
   "cell_type": "code",
   "execution_count": 14,
   "id": "7ec8480e-04b7-41b2-b8e0-b6a0ac09b326",
   "metadata": {},
   "outputs": [],
   "source": [
    "% setup environment\n",
    "% set path to equilibrium solver\n",
    "txt=pwd; n=length(txt); rootpath=txt;\n",
    "n=strfind(rootpath,\"USERS\"); rootpath=txt(1:n-2);\n",
    "PHREEQCpath=[rootpath,'/runPHREEQC'];\n",
    "addpath(PHREEQCpath);\n",
    "JEQUILIBpath=[rootpath,'/JEQUILIB'];\n",
    "addpath(JEQUILIBpath);\n",
    "% clear data and number format\n",
    "clear; format short e\n",
    "% turn off warnings\n",
    "warning off\n",
    "%graphics_toolkit (\"notebook\"); \n",
    "graphics_toolkit (\"plotly\"); \n",
    "%graphics_toolkit(\"gnuplot\")"
   ]
  },
  {
   "cell_type": "markdown",
   "id": "71d0fd1f-7850-4198-a7ab-bb912513fc6b",
   "metadata": {},
   "source": [
    "# Database file.  \n",
    "\n",
    "There are several PHREEQC database files. I often use llnl.dat or PHREEQC.dat.  Specify database with\n",
    "\n",
    "database=['NAME.dat']; "
   ]
  },
  {
   "cell_type": "code",
   "execution_count": 15,
   "id": "22b3d044-5d54-4cce-bcdc-cd8b6b6d22ad",
   "metadata": {},
   "outputs": [],
   "source": [
    "database=['PHREEQC.dat'];"
   ]
  }
 ],
 "metadata": {
  "kernelspec": {
   "display_name": "Octave (xoctave)",
   "language": "Octave",
   "name": "xoctave"
  },
  "language_info": {
   "codemirror_mode": "octave",
   "file_extension": ".m",
   "mimetype": "text/x-octave",
   "name": "Octave",
   "nbconvert_exporter": "",
   "pygments_lexer": "octave",
   "version": "8.4.0"
  }
 },
 "nbformat": 4,
 "nbformat_minor": 5
}
