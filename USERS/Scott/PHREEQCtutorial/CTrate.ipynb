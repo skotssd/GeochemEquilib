{
 "cells": [
  {
   "cell_type": "code",
   "execution_count": 10,
   "id": "3b1a18a4-e69a-4d32-a734-f054de44130a",
   "metadata": {},
   "outputs": [],
   "source": [
    "% setup environment\n",
    "% clear data and number format\n",
    "clear; format short e\n",
    "% set path to equilibrium solver\n",
    "txt=pwd; n=length(txt); rootpath=txt;\n",
    "n=strfind(rootpath,\"USERS\"); rootpath=txt(1:n-2);\n",
    "PHREEQCpath=[rootpath,'/runPHREEQC'];\n",
    "addpath(PHREEQCpath);\n",
    "JEQUILIBpath=[rootpath,'/JEQUILIB'];\n",
    "addpath(JEQUILIBpath);\n",
    "% turn off warnings\n",
    "warning off\n",
    "%graphics_toolkit (\"notebook\"); \n",
    "graphics_toolkit (\"plotly\"); \n",
    "%graphics_toolkit(\"gnuplot\")\n",
    "% delete phreeqcrunfile\n",
    "%system(\"rm porttest.txt\");"
   ]
  },
  {
   "cell_type": "code",
   "execution_count": 11,
   "id": "780b450e-f8e6-4022-9b1c-a6c7573f872a",
   "metadata": {},
   "outputs": [],
   "source": [
    "database=['llnl.dat'];"
   ]
  },
  {
   "cell_type": "markdown",
   "id": "9b0e780f-42ef-4009-b946-b4b6d498a4d4",
   "metadata": {},
   "source": [
    "from phreeqc support site\n",
    "\n",
    "https://phreeqcusers.org/index.php?topic=2260.0\n",
    "\n",
    "This doesnt; really work.  the idea is to calculate the DIC and compare to equilib DIC for that pH and atmopheric CO2.  the distance away will determine the rate.  faster away should be faster.  as the values approach the rate would be zero.  Same as is done for mineral ppte/dissolution.\n",
    "\n",
    "I think it doesn't work because of some autmoated way C is handeled.  related to alklinity?  I don't know.  but when this gets run if you look at the out put it says C is negative ... but how is that possible since the program is suppoed to step up C according to the rate expression and C is specified as a positive number.\n",
    "\n",
    "if you make M0 larger you'd expect it to degas but that doesn't happen for some reason.  it actually just goes to flat value.  only the M0 of 2e-5 and rate constant 2e-6 give reasonable values.  very frustrating.\n",
    "\n",
    "I could code this approach using ODE I think.\n",
    "\n"
   ]
  },
  {
   "cell_type": "code",
   "execution_count": 12,
   "id": "57aeef2c-d374-4215-b93f-a839c51e5093",
   "metadata": {
    "tags": []
   },
   "outputs": [],
   "source": [
    "fromwebtext=[...\n",
    "{'RATES\\n'}\n",
    "{'CO2_dissolution\\n'}\n",
    "{'-start\\n'}\n",
    "{'20 k = parm(1)\\n'}\n",
    "{'30 H=ACT(\"H+\")\\n'}\n",
    "{'70 CT = ACT(\"CO2\")+ACT(\"CO3-2\")+ACT(\"HCO3-\")\\n'}\n",
    "{'80 H2CO3mod =(10^-3.5)*(10^-1.5)\\n '}\n",
    "{'90 HCO3mod = (H2CO3mod*(10^-6.3))/H\\n'}\n",
    "{'100 CO3mod = (HCO3mod*(10^-10.3))/H\\n'}\n",
    "{'110 CTmod=H2CO3mod+HCO3mod+CO3mod\\n'}\n",
    "{'120 SI_CO2=(CTmod/CT)\\n'}\n",
    "{'130 rate = PARM(1) *M* ((SI_CO2)-1) \\n'}\n",
    "{'140 moles = rate*time \\n'}\n",
    "{'150 SAVE moles\\n'}\n",
    "{'-end\\n'}\n",
    "{'SOLUTION 1\\n'}\n",
    "{'       pe      13.75\\n'}\n",
    "{'       pH      7 \\n'}\n",
    "{'       temp    25\\n'}\n",
    "{'-units mol/kgw\\n'}\n",
    "{'KINETICS\\n'}\n",
    "{'CO2_dissolution\\n'}\n",
    "{'-formula C 1\\n'}\n",
    "{'-m0 2e-5\\n'}\n",
    "{'-parm 2e-6 # rate constant \\n'}\n",
    "{'-time 0 500 1000 5000 10000 50000 100000 500000 1000000\\n'}\n",
    "];\n",
    "[nolines,length]=size(fromwebtext);"
   ]
  },
  {
   "cell_type": "code",
   "execution_count": 13,
   "id": "e39db62e-1dc3-49e1-a76e-37a19124c5cd",
   "metadata": {},
   "outputs": [],
   "source": [
    "selectboxtext=[...\n",
    "{' SELECTED_OUTPUT\\n'}\n",
    "{' -file CO2out.txt\\n'}\n",
    "{' -selected_out true\\n'}\n",
    "{' -user_punch true\\n'}\n",
    "{' -high_precision true\\n'}\n",
    "{' -reset false\\n'}\n",
    "{' -simulation false\\n'}\n",
    "{' -state false\\n'}\n",
    "{' -distance false\\n'}\n",
    "{' -time false\\n'}\n",
    "{' -step false\\n'}\n",
    "{' -ph false\\n'}\n",
    "{' -pe false\\n'}\n",
    "{' -reaction false\\n'}\n",
    "{' -temperature false\\n'}\n",
    "{' -alkalinity false\\n'}\n",
    "{' -ionic_strength false\\n'}\n",
    "{' -water false\\n'}\n",
    "{' -charge_balance false\\n'}\n",
    "{' -percent_error false\\n'}\n",
    "];\n",
    "[nolinesSEL,length]=size(selectboxtext);"
   ]
  },
  {
   "cell_type": "code",
   "execution_count": 14,
   "id": "cabe7966-fc29-4bc0-b13d-27585a9315eb",
   "metadata": {},
   "outputs": [],
   "source": [
    "punchboxtext=[...\n",
    "{'USER_PUNCH\\n'}\n",
    "{'        -headings seconds  pH  logHCO3 logCO3 logH2CO3 \\n'}\n",
    "{'  10 PUNCH SIM_TIME, -LA(\"H+\"), LA(\"HCO3-\"), LA(\"CO3-2\"), LA(\"CO2\")\\n'}\n",
    "];\n",
    "[nolinesPUNCH,length]=size(punchboxtext);"
   ]
  },
  {
   "cell_type": "code",
   "execution_count": 15,
   "id": "7a3e140e-3a82-4b60-a2f7-cdf30f91efd8",
   "metadata": {
    "tags": []
   },
   "outputs": [],
   "source": [
    "fileID=fopen('CO2test.txt','w');\n",
    "\n",
    "fprintf(fileID,'TITLE TEST CO2 DISSOLUTION\\n');\n",
    "\n",
    "for i=1:nolines\n",
    "    line=cell2mat(fromwebtext(i,:));\n",
    "    fprintf(fileID,line)\n",
    "end\n",
    "\n",
    "fprintf(fileID,'\\n');\n",
    "for i=1:nolinesSEL\n",
    "    line=cell2mat(selectboxtext(i,:));\n",
    "    fprintf(fileID,line)\n",
    "end\n",
    "\n",
    "fprintf(fileID,'\\n');\n",
    "for i=1:nolinesPUNCH\n",
    "    line=cell2mat(punchboxtext(i,:));\n",
    "    fprintf(fileID,line)\n",
    "end\n",
    "\n",
    "fclose(fileID);"
   ]
  },
  {
   "cell_type": "code",
   "execution_count": 16,
   "id": "26cba8f7-68c9-40c4-a7fa-ef51b1000178",
   "metadata": {
    "tags": []
   },
   "outputs": [
    {
     "data": {
      "text/html": [
       "<table><tr><th><i>CT<i></th><th>1</th></tr><tr><th>1</th><td>3.06988e-100</td></tr><tr><th>2</th><td>9.50222e-07</td></tr><tr><th>3</th><td>1.26479e-06</td></tr><tr><th>4</th><td>2.43591e-06</td></tr><tr><th>5</th><td>3.20327e-06</td></tr><tr><th>6</th><td>5.77035e-06</td></tr><tr><th>7</th><td>7.19134e-06</td></tr><tr><th>8</th><td>1.05636e-05</td></tr><tr><th>9</th><td>1.16229e-05</td></tr></table>"
      ],
      "text/plain": [
       "CT =   3.0699e-100\n",
       "   9.5022e-07\n",
       "   1.2648e-06\n",
       "   2.4359e-06\n",
       "   3.2033e-06\n",
       "   5.7704e-06\n",
       "   7.1913e-06\n",
       "   1.0564e-05\n",
       "   1.1623e-05\n"
      ]
     },
     "metadata": {},
     "output_type": "display_data"
    }
   ],
   "source": [
    "str=['system(\"phreeqc CO2test.txt out.txt ', database,'\");'];\n",
    "eval(str); % output to the screen\n",
    "%evalc(str); % so no screen output\n",
    "fid = fopen('CO2out.txt','rt');\n",
    "hdr = strtrim(regexp(fgetl(fid),'\\t','split'));\n",
    "hdr=hdr(1:5)';\n",
    "mat = cell2mat(textscan(fid,repmat('%f',1,numel(hdr))));\n",
    "[nsize,msize]=size(mat);\n",
    "time=mat(2:nsize,1); pHphreeqc=mat(2:nsize,2); HCO3=10.^(mat(2:nsize,3)); CO3=10.^(mat(2:nsize,4)); H2CO3=10.^(mat(2:nsize,5));\n",
    "CT=HCO3+H2CO3+CO3"
   ]
  },
  {
   "cell_type": "code",
   "execution_count": 17,
   "id": "687b7fd3-15af-42ff-9e61-63ab8976e744",
   "metadata": {
    "tags": []
   },
   "outputs": [
    {
     "data": {
      "text/plain": [
       "pHequil = 5.6500e+00\n"
      ]
     },
     "metadata": {},
     "output_type": "display_data"
    },
    {
     "data": {
      "application/vnd.plotly.v1+json": {
       "data": [
        {
         "line": {
          "color": "rgb(0,113,188)",
          "dash": "solid",
          "width": 0.5
         },
         "marker": {
          "color": "rgb(0,113,188)",
          "line": {
           "color": "rgb(0,113,188)"
          },
          "size": 6,
          "symbol": "none"
         },
         "mode": "lines",
         "name": "",
         "showlegend": false,
         "type": "scatter",
         "visibility": true,
         "x": [
          0,
          500,
          1000,
          5000,
          10000,
          50000,
          100000,
          500000,
          1000000
         ],
         "xaxis": "x",
         "y": [
          7,
          6.322652979267999,
          6.2464102034,
          6.075295652928,
          6.005603718352001,
          5.859356497949,
          5.805787568182999,
          5.713509373244,
          5.690811705384
         ],
         "yaxis": "y"
        },
        {
         "line": {
          "color": "rgb(216,82,24)",
          "dash": "solid",
          "width": 0.5
         },
         "marker": {
          "color": "rgb(216,82,24)",
          "line": {
           "color": "rgb(216,82,24)"
          },
          "size": 6,
          "symbol": "none"
         },
         "mode": "lines",
         "name": "",
         "showlegend": false,
         "type": "scatter",
         "visibility": true,
         "x": [
          0,
          500,
          1000,
          5000,
          10000,
          50000,
          100000,
          500000,
          1000000
         ],
         "xaxis": "x",
         "y": [
          5.6499999999999995,
          5.6499999999999995,
          5.6499999999999995,
          5.6499999999999995,
          5.6499999999999995,
          5.6499999999999995,
          5.6499999999999995,
          5.6499999999999995,
          5.6499999999999995
         ],
         "yaxis": "y"
        }
       ],
       "layout": {
        "height": 420,
        "hovermode": "closest",
        "margin": {
         "b": 0,
         "l": 0,
         "r": 0,
         "t": 0
        },
        "plot_bgcolor": "rgba(0, 0, 0, 0)",
        "showlegend": false,
        "width": 560,
        "xaxis": {
         "anchor": "y",
         "autorange": false,
         "domain": [
          0.13,
          0.905
         ],
         "exponentformat": "none",
         "gridcolor": "rgba(38,38,38,0.15)",
         "gridwidth": 1,
         "linecolor": "rgb(38,38,38)",
         "linewidth": 1,
         "mirror": "ticks",
         "range": [
          0,
          1000000
         ],
         "showgrid": false,
         "showline": true,
         "side": "bottom",
         "spikedash": "solid",
         "spikemode": "across",
         "spikesides": false,
         "spikethickness": 1,
         "tickangle": 0,
         "tickcolor": "rgb(38,38,38)",
         "tickfont": {
          "color": "rgb(38,38,38)",
          "size": 10
         },
         "ticklen": 3,
         "ticks": "inside",
         "ticktext": [
          "0",
          "200000",
          "400000",
          "600000",
          "800000",
          "1e+06"
         ],
         "tickvals": [
          0,
          200000,
          400000,
          600000,
          800000,
          1000000
         ],
         "title": {
          "font": {
           "color": "rgb(0, 0, 0)",
           "size": 11
          },
          "text": ""
         },
         "type": "linear",
         "visible": true,
         "zeroline": false
        },
        "yaxis": {
         "anchor": "x",
         "autorange": false,
         "domain": [
          0.11,
          0.9249999999999999
         ],
         "exponentformat": "none",
         "gridcolor": "rgba(38,38,38,0.15)",
         "gridwidth": 1,
         "linecolor": "rgb(38,38,38)",
         "linewidth": 1,
         "mirror": "ticks",
         "range": [
          5.6000000000000005,
          7
         ],
         "showgrid": false,
         "showline": true,
         "side": "left",
         "spikedash": "solid",
         "spikemode": "across",
         "spikesides": false,
         "spikethickness": 1,
         "tickangle": 0,
         "tickcolor": "rgb(38,38,38)",
         "tickfont": {
          "color": "rgb(38,38,38)",
          "size": 10
         },
         "ticklen": 3,
         "ticks": "inside",
         "ticktext": [
          "5.6",
          "5.8",
          "6",
          "6.2",
          "6.4",
          "6.6",
          "6.8",
          "7"
         ],
         "tickvals": [
          5.6000000000000005,
          5.800000000000001,
          6,
          6.2,
          6.4,
          6.6000000000000005,
          6.800000000000001,
          7
         ],
         "title": {
          "font": {
           "color": "rgb(0, 0, 0)",
           "size": 11
          },
          "text": ""
         },
         "type": "linear",
         "visible": true,
         "zeroline": false
        }
       }
      },
      "image/png": "[encoded data removed]"
     },
     "metadata": {},
     "output_type": "display_data"
    }
   ],
   "source": [
    "pHequil=-log10(sqrt(10^-3.5*10^-1.5*10^-6.3))\n",
    "\n",
    "plot(time,pHphreeqc,time,pHequil*ones(size(time)))"
   ]
  },
  {
   "cell_type": "code",
   "execution_count": 18,
   "id": "fb079d48-bd2c-4fc1-b184-bd020d9bee83",
   "metadata": {
    "tags": []
   },
   "outputs": [
    {
     "data": {
      "text/html": [
       "<table><tr><th><i>CTmod<i></th><th>1</th></tr><tr><th>1</th><td>6.01438e-05</td></tr><tr><th>2</th><td>2.05366e-05</td></tr><tr><th>3</th><td>1.88399e-05</td></tr><tr><th>4</th><td>1.5961e-05</td></tr><tr><th>5</th><td>1.50772e-05</td></tr><tr><th>6</th><td>1.36255e-05</td></tr><tr><th>7</th><td>1.32048e-05</td></tr><tr><th>8</th><td>1.25913e-05</td></tr><tr><th>9</th><td>1.24594e-05</td></tr></table>"
      ],
      "text/plain": [
       "CTmod =    6.0144e-05\n",
       "   2.0537e-05\n",
       "   1.8840e-05\n",
       "   1.5961e-05\n",
       "   1.5077e-05\n",
       "   1.3626e-05\n",
       "   1.3205e-05\n",
       "   1.2591e-05\n",
       "   1.2459e-05\n"
      ]
     },
     "metadata": {},
     "output_type": "display_data"
    },
    {
     "data": {
      "application/vnd.plotly.v1+json": {
       "data": [
        {
         "line": {
          "color": "rgb(0,113,188)",
          "dash": "solid",
          "width": 0.5
         },
         "marker": {
          "color": "rgb(0,113,188)",
          "line": {
           "color": "rgb(0,113,188)"
          },
          "size": 6,
          "symbol": "none"
         },
         "mode": "lines",
         "name": "",
         "showlegend": false,
         "type": "scatter",
         "visibility": true,
         "x": [
          0,
          500,
          1000,
          5000,
          10000,
          50000,
          100000,
          500000,
          1000000
         ],
         "xaxis": "x",
         "y": [
          3.0698789768421983e-100,
          9.502215531170997e-07,
          1.2647902052543844e-06,
          2.4359084816015344e-06,
          3.203269946245254e-06,
          5.770350353301677e-06,
          7.191341054366066e-06,
          1.0563639668359404e-05,
          1.1622871507452215e-05
         ],
         "yaxis": "y"
        },
        {
         "line": {
          "color": "rgb(216,82,24)",
          "dash": "solid",
          "width": 0.5
         },
         "marker": {
          "color": "rgb(216,82,24)",
          "line": {
           "color": "rgb(216,82,24)"
          },
          "size": 6,
          "symbol": "none"
         },
         "mode": "lines",
         "name": "",
         "showlegend": false,
         "type": "scatter",
         "visibility": true,
         "x": [
          0,
          500,
          1000,
          5000,
          10000,
          50000,
          100000,
          500000,
          1000000
         ],
         "xaxis": "x",
         "y": [
          6.0143842227042336e-05,
          2.053655726220811e-05,
          1.8839925188185917e-05,
          1.596103317818206e-05,
          1.5077217481921986e-05,
          1.3625536173271083e-05,
          1.320480408705466e-05,
          1.2591317492692645e-05,
          1.2459361589236406e-05
         ],
         "yaxis": "y"
        }
       ],
       "layout": {
        "height": 420,
        "hovermode": "closest",
        "margin": {
         "b": 0,
         "l": 0,
         "r": 0,
         "t": 0
        },
        "plot_bgcolor": "rgba(0, 0, 0, 0)",
        "showlegend": false,
        "width": 560,
        "xaxis": {
         "anchor": "y",
         "autorange": false,
         "domain": [
          0.13,
          0.905
         ],
         "exponentformat": "none",
         "gridcolor": "rgba(38,38,38,0.15)",
         "gridwidth": 1,
         "linecolor": "rgb(38,38,38)",
         "linewidth": 1,
         "mirror": "ticks",
         "range": [
          0,
          1000000
         ],
         "showgrid": false,
         "showline": true,
         "side": "bottom",
         "spikedash": "solid",
         "spikemode": "across",
         "spikesides": false,
         "spikethickness": 1,
         "tickangle": 0,
         "tickcolor": "rgb(38,38,38)",
         "tickfont": {
          "color": "rgb(38,38,38)",
          "size": 10
         },
         "ticklen": 3,
         "ticks": "inside",
         "ticktext": [
          "0",
          "200000",
          "400000",
          "600000",
          "800000",
          "1e+06"
         ],
         "tickvals": [
          0,
          200000,
          400000,
          600000,
          800000,
          1000000
         ],
         "title": {
          "font": {
           "color": "rgb(0, 0, 0)",
           "size": 11
          },
          "text": ""
         },
         "type": "linear",
         "visible": true,
         "zeroline": false
        },
        "yaxis": {
         "anchor": "x",
         "autorange": false,
         "domain": [
          0.11,
          0.9249999999999999
         ],
         "exponentformat": "none",
         "gridcolor": "rgba(38,38,38,0.15)",
         "gridwidth": 1,
         "linecolor": "rgb(38,38,38)",
         "linewidth": 1,
         "mirror": "ticks",
         "range": [
          0,
          7.000000000000001e-05
         ],
         "showgrid": false,
         "showline": true,
         "side": "left",
         "spikedash": "solid",
         "spikemode": "across",
         "spikesides": false,
         "spikethickness": 1,
         "tickangle": 0,
         "tickcolor": "rgb(38,38,38)",
         "tickfont": {
          "color": "rgb(38,38,38)",
          "size": 10
         },
         "ticklen": 3,
         "ticks": "inside",
         "ticktext": [
          "0",
          "1e-05",
          "2e-05",
          "3e-05",
          "4e-05",
          "5e-05",
          "6e-05",
          "7e-05"
         ],
         "tickvals": [
          0,
          1e-05,
          2e-05,
          3.0000000000000004e-05,
          4e-05,
          5e-05,
          6.000000000000001e-05,
          7.000000000000001e-05
         ],
         "title": {
          "font": {
           "color": "rgb(0, 0, 0)",
           "size": 11
          },
          "text": ""
         },
         "type": "linear",
         "visible": true,
         "zeroline": false
        }
       }
      },
      "image/png": "[encoded data removed]"
     },
     "metadata": {},
     "output_type": "display_data"
    },
    {
     "data": {
      "text/html": [
       "<table><tr><th><i>SI_CO2<i></th><th>1</th></tr><tr><th>1</th><td>1.95916e+95</td></tr><tr><th>2</th><td>21.6124</td></tr><tr><th>3</th><td>14.8957</td></tr><tr><th>4</th><td>6.55239</td></tr><tr><th>5</th><td>4.70682</td></tr><tr><th>6</th><td>2.3613</td></tr><tr><th>7</th><td>1.83621</td></tr><tr><th>8</th><td>1.19195</td></tr><tr><th>9</th><td>1.07197</td></tr></table>"
      ],
      "text/plain": [
       "SI_CO2 =    1.9592e+95\n",
       "   2.1612e+01\n",
       "   1.4896e+01\n",
       "   6.5524e+00\n",
       "   4.7068e+00\n",
       "   2.3613e+00\n",
       "   1.8362e+00\n",
       "   1.1919e+00\n",
       "   1.0720e+00\n"
      ]
     },
     "metadata": {},
     "output_type": "display_data"
    },
    {
     "data": {
      "text/html": [
       "<table><tr><th><i>rate<i></th><th>1</th></tr><tr><th>1</th><td>1.95916e+95</td></tr><tr><th>2</th><td>20.6124</td></tr><tr><th>3</th><td>13.8957</td></tr><tr><th>4</th><td>5.55239</td></tr><tr><th>5</th><td>3.70682</td></tr><tr><th>6</th><td>1.3613</td></tr><tr><th>7</th><td>0.836209</td></tr><tr><th>8</th><td>0.191949</td></tr><tr><th>9</th><td>0.0719693</td></tr></table>"
      ],
      "text/plain": [
       "rate =    1.9592e+95\n",
       "   2.0612e+01\n",
       "   1.3896e+01\n",
       "   5.5524e+00\n",
       "   3.7068e+00\n",
       "   1.3613e+00\n",
       "   8.3621e-01\n",
       "   1.9195e-01\n",
       "   7.1969e-02\n"
      ]
     },
     "metadata": {},
     "output_type": "display_data"
    }
   ],
   "source": [
    "H=10.^-pHphreeqc;\n",
    "H2CO3mod =(10^-3.5)*(10^-1.5);\n",
    "HCO3mod = (H2CO3mod*(10^-6.3))./H;\n",
    "CO3mod = (HCO3mod*(10^-10.3))./H;\n",
    "CTmod=H2CO3mod+HCO3mod+CO3mod\n",
    "\n",
    "plot(time,CT,time,CTmod)\n",
    "\n",
    "SI_CO2=CTmod./CT\n",
    "rate = (SI_CO2)-1\n",
    "\n"
   ]
  }
 ],
 "metadata": {
  "kernelspec": {
   "display_name": "Octave (xoctave)",
   "language": "Octave",
   "name": "xoctave"
  },
  "language_info": {
   "codemirror_mode": "octave",
   "file_extension": ".m",
   "mimetype": "text/x-octave",
   "name": "Octave",
   "nbconvert_exporter": "",
   "pygments_lexer": "octave",
   "version": "7.3.0"
  }
 },
 "nbformat": 4,
 "nbformat_minor": 5
}
