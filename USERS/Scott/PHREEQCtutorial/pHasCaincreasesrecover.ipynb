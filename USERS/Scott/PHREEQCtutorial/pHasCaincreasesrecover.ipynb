{
 "cells": [
  {
   "cell_type": "markdown",
   "id": "4cf79e8f-ac31-475c-bcbe-1add3579406e",
   "metadata": {},
   "source": [
    "# model increase in pH as calcium increases using PHREEQC"
   ]
  },
  {
   "cell_type": "code",
   "execution_count": 1,
   "id": "eb2672a1-2344-4bf7-84f3-dab6cd27000c",
   "metadata": {},
   "outputs": [],
   "source": [
    "% setup environment\n",
    "% clear data and number format\n",
    "clear; format short e\n",
    "% set path to equilibrium solver\n",
    "txt=pwd; n=length(txt); rootpath=txt;\n",
    "n=strfind(rootpath,\"USERS\"); rootpath=txt(1:n-2);\n",
    "PHREEQCpath=[rootpath,'/runPHREEQC'];\n",
    "addpath(PHREEQCpath);\n",
    "JEQUILIBpath=[rootpath,'/JEQUILIB'];\n",
    "addpath(JEQUILIBpath);\n",
    "% turn off warnings\n",
    "warning off\n",
    "%graphics_toolkit (\"notebook\"); \n",
    "graphics_toolkit (\"plotly\"); \n",
    "%graphics_toolkit(\"gnuplot\")"
   ]
  },
  {
   "cell_type": "code",
   "execution_count": 2,
   "id": "952205a9-c35d-43b4-9d2e-df330034100e",
   "metadata": {},
   "outputs": [],
   "source": [
    "function pH=pHfromCaT(CaT)\n",
    "\n",
    "% equilibrium constants\n",
    "Kw=10^-14; Ka1=10^-6.35; Ka2=10^-10.33; PCO2=10^-3.5; KH=10^-1.47;  \n",
    "\n",
    "a=1;\n",
    "b=2*CaT; %if there is initial alkalinity\n",
    "c=-KH*Ka1*PCO2-Kw;\n",
    "d=-2*KH*Ka1*Ka2*PCO2;\n",
    "t=roots([a b c d]);\n",
    "t=t(imag(t)==0); %sets any imaginary roots to zero\n",
    "% display the positive real root\n",
    "t=t(t>0);\n",
    "pH=-log10(t);\n",
    "\n",
    "end"
   ]
  },
  {
   "cell_type": "code",
   "execution_count": 3,
   "id": "9616c20e-57c8-45d0-b6c4-6869c3c4b9af",
   "metadata": {},
   "outputs": [],
   "source": [
    "database=['phreeqc.dat'];\n",
    "\n",
    "%input info (mineral, total and species names, must match the PHREEQC database file !!!\n",
    "\n",
    "%minerals=[{'CO2(g)'};{'Calcite'}]; % this is where you list the mineral phases to consider\n",
    "minerals=[{'CO2(g)'}]; % this is where you list the mineral phases to consider\n",
    "logCaT=-6:0.1:-1; %totalvector=[CaT; 2*CaT]; \n",
    "totalnames=[{'Ca'};{'Alkalinity'}]; \n",
    "T=25; % temperature in degree C (run 5 degrees C and 35 degrees C to see the differnece)\n",
    "show=0; % this should show the PHREEQC output to the screen. works in Matlab but not Octave\n",
    "speciesexport=[{'H+'}]; % need to tell what species we want to look at after the run\n",
    "acid=[]; % not relevant for this problem\n",
    "pH=7; pe=20.75-pH; % you need initial values for pH and pe (Redox condition).  they aren't used but can' be blank\n",
    "pHfixcheck=0; %1 makes the pH fixed, 0 means pH is free to vary (same for pe).  here MUST be 0.  \n",
    "%can't do fixed pH AND open without adding cations"
   ]
  },
  {
   "cell_type": "code",
   "execution_count": 4,
   "id": "5def5869-178c-4cb9-a883-549bc2eff753",
   "metadata": {
    "tags": []
   },
   "outputs": [],
   "source": [
    "for i=1:length(logCaT)\n",
    "    CaT=10^logCaT(i);\n",
    "    totalvector=[CaT; 2*CaT]; \n",
    "    [solutionspeciesconcs, speciesnames, solidconcs, solidnames]=...\n",
    "    runPHREEQCv3(T,pH,pe,totalnames,totalvector,minerals,speciesexport,database,show,acid,pHfixcheck);\n",
    "    H=solutionspeciesconcs(1); \n",
    "    pHphreeqc(i)=-log10(H);\n",
    "    pHhand(i)=pHfromCaT(CaT);\n",
    "end"
   ]
  },
  {
   "cell_type": "code",
   "execution_count": 5,
   "id": "05a03f2f-a1f5-4405-8b5c-c06c5a882052",
   "metadata": {},
   "outputs": [
    {
     "data": {
      "application/vnd.plotly.v1+json": {
       "data": [
        {
         "line": {
          "color": "rgb(0,113,188)",
          "dash": "solid",
          "width": 2
         },
         "marker": {
          "color": "rgb(0,113,188)",
          "line": {
           "color": "rgb(0,113,188)"
          },
          "size": 6,
          "symbol": "none"
         },
         "mode": "lines",
         "name": "pH by hand",
         "showlegend": true,
         "type": "scatter",
         "visibility": true,
         "x": [
          -6,
          -5.9,
          -5.8,
          -5.7,
          -5.6,
          -5.5,
          -5.4,
          -5.3,
          -5.2,
          -5.1,
          -5,
          -4.9,
          -4.8,
          -4.7,
          -4.6,
          -4.5,
          -4.4,
          -4.3,
          -4.2,
          -4.1,
          -4,
          -3.9,
          -3.8,
          -3.6999999999999997,
          -3.5999999999999996,
          -3.5,
          -3.4,
          -3.3,
          -3.1999999999999997,
          -3.0999999999999996,
          -3,
          -2.9,
          -2.8,
          -2.6999999999999997,
          -2.5999999999999996,
          -2.5,
          -2.4,
          -2.3,
          -2.1999999999999997,
          -2.0999999999999996,
          -2,
          -1.8999999999999995,
          -1.7999999999999998,
          -1.7000000000000002,
          -1.5999999999999996,
          -1.5,
          -1.3999999999999995,
          -1.2999999999999998,
          -1.1999999999999993,
          -1.0999999999999996,
          -1
         ],
         "xaxis": "x",
         "y": [
          5.85151553577101,
          5.8971387023153214,
          5.951345850867342,
          6.01435850415674,
          6.085792735182148,
          6.164687845289198,
          6.249708883406971,
          6.339425856819667,
          6.432543253723583,
          6.52801685808757,
          6.625070866633205,
          6.723159936598335,
          6.821914339627948,
          6.921088849547993,
          7.02052253596078,
          7.12010977142931,
          7.2197803064501445,
          7.319485919813061,
          7.419191556106012,
          7.518869406883416,
          7.618494862307272,
          7.718043610082524,
          7.817489401637808,
          7.9168021691169645,
          8.015946286626011,
          8.114878845824148,
          8.213547874912566,
          8.311890483211837,
          8.409830969900817,
          8.507279001510296,
          8.604128041097566,
          8.700254299326021,
          8.79551656133729,
          8.88975729864345,
          8.98280546585888,
          9.074481267251029,
          9.164602930370144,
          9.252995154195853,
          9.339498476773622,
          9.423978456996531,
          9.506333426540742,
          9.586499727937081,
          9.664453792023412,
          9.74021099073503,
          9.813821746663148,
          9.8853657400886,
          9.954945168630228,
          10.02267791771031,
          10.088691277872977,
          10.153116588429642,
          10.216084960909248
         ],
         "yaxis": "y"
        },
        {
         "line": {
          "color": "rgb(216,82,24)",
          "dash": "solid",
          "width": 2
         },
         "marker": {
          "color": "rgb(216,82,24)",
          "line": {
           "color": "rgb(216,82,24)"
          },
          "size": 6,
          "symbol": "none"
         },
         "mode": "lines",
         "name": "pH PHREEQC",
         "showlegend": true,
         "type": "scatter",
         "visibility": true,
         "x": [
          -6,
          -5.9,
          -5.8,
          -5.7,
          -5.6,
          -5.5,
          -5.4,
          -5.3,
          -5.2,
          -5.1,
          -5,
          -4.9,
          -4.8,
          -4.7,
          -4.6,
          -4.5,
          -4.4,
          -4.3,
          -4.2,
          -4.1,
          -4,
          -3.9,
          -3.8,
          -3.6999999999999997,
          -3.5999999999999996,
          -3.5,
          -3.4,
          -3.3,
          -3.1999999999999997,
          -3.0999999999999996,
          -3,
          -2.9,
          -2.8,
          -2.6999999999999997,
          -2.5999999999999996,
          -2.5,
          -2.4,
          -2.3,
          -2.1999999999999997,
          -2.0999999999999996,
          -2,
          -1.8999999999999995,
          -1.7999999999999998,
          -1.7000000000000002,
          -1.5999999999999996,
          -1.5,
          -1.3999999999999995,
          -1.2999999999999998,
          -1.1999999999999993,
          -1.0999999999999996,
          -1
         ],
         "xaxis": "x",
         "y": [
          5.849868417789778,
          5.895287475457,
          5.949239226731922,
          6.011951289151472,
          6.083047113011317,
          6.161559091868728,
          6.246151223148448,
          6.3354145410801,
          6.428005709413399,
          6.5229322572416555,
          6.619351556366,
          6.71675642163457,
          6.814732070839264,
          6.913038794813664,
          7.011510516728492,
          7.11001344770392,
          7.208459163456519,
          7.306805256326005,
          7.404946125717458,
          7.5028889905132665,
          7.600514619468471,
          7.697805953191598,
          7.7946481505288885,
          7.890959664291031,
          7.986622141889899,
          8.08145954348945,
          8.175261573402471,
          8.267785762015928,
          8.358651862655933,
          8.447515440718826,
          8.53385303681534,
          8.617212882906417,
          8.697076273377021,
          8.773052628408156,
          8.84487435677063,
          8.912418902727476,
          8.97574627794967,
          9.035077308137144,
          9.09066657400252,
          9.142910138420135,
          9.192112115489044,
          9.238659809550871,
          9.282825104597125,
          9.3249120861425,
          9.365177791579441,
          9.403809170815022,
          9.440987158262638,
          9.47689274891956,
          9.511599835675725,
          9.545295575690647,
          9.577997611119695
         ],
         "yaxis": "y"
        },
        {
         "hoverinfo": "none",
         "line": {
          "color": "rgb(0,113,188)",
          "dash": "solid",
          "width": 2
         },
         "marker": {
          "color": "rgb(0,113,188)",
          "line": {
           "color": "rgb(0,113,188)"
          },
          "size": 6,
          "symbol": "none"
         },
         "mode": "lines",
         "name": "",
         "showlegend": false,
         "type": "scatter",
         "visibility": true,
         "x": [
          3,
          18
         ],
         "xaxis": "x2",
         "y": [
          9,
          9
         ],
         "yaxis": "y2"
        },
        {
         "hoverinfo": "none",
         "line": {
          "color": "rgb(216,82,24)",
          "dash": "solid",
          "width": 2
         },
         "marker": {
          "color": "rgb(216,82,24)",
          "line": {
           "color": "rgb(216,82,24)"
          },
          "size": 6,
          "symbol": "none"
         },
         "mode": "lines",
         "name": "",
         "showlegend": false,
         "type": "scatter",
         "visibility": true,
         "x": [
          3,
          18
         ],
         "xaxis": "x2",
         "y": [
          24,
          24
         ],
         "yaxis": "y2"
        }
       ],
       "layout": {
        "annotations": [
         {
          "font": {
           "color": "rgb(0, 0, 0)",
           "size": 10.8
          },
          "showarrow": false,
          "text": "pH by hand",
          "x": 21,
          "xanchor": "left",
          "xref": "x2",
          "y": 9,
          "yanchor": "middle",
          "yref": "y2"
         },
         {
          "font": {
           "color": "rgb(0, 0, 0)",
           "size": 10.8
          },
          "showarrow": false,
          "text": "pH PHREEQC",
          "x": 21,
          "xanchor": "left",
          "xref": "x2",
          "y": 24,
          "yanchor": "middle",
          "yref": "y2"
         }
        ],
        "height": 420,
        "hovermode": "closest",
        "margin": {
         "b": 0,
         "l": 0,
         "r": 0,
         "t": 0
        },
        "plot_bgcolor": "rgba(0, 0, 0, 0)",
        "showlegend": false,
        "width": 560,
        "xaxis": {
         "anchor": "y",
         "autorange": false,
         "domain": [
          0.13,
          0.905
         ],
         "exponentformat": "none",
         "gridcolor": "rgba(38,38,38,0.15)",
         "gridwidth": 2,
         "linecolor": "rgb(38,38,38)",
         "linewidth": 2,
         "mirror": "ticks",
         "range": [
          -6,
          -1
         ],
         "showgrid": false,
         "showline": true,
         "side": "bottom",
         "spikedash": "solid",
         "spikemode": "across",
         "spikesides": false,
         "spikethickness": 1,
         "tickangle": 0,
         "tickcolor": "rgb(38,38,38)",
         "tickfont": {
          "color": "rgb(38,38,38)",
          "size": 12
         },
         "ticklen": 3,
         "ticks": "inside",
         "ticktext": [
          "-6",
          "-5",
          "-4",
          "-3",
          "-2",
          "-1"
         ],
         "tickvals": [
          -6,
          -5,
          -4,
          -3,
          -2,
          -1
         ],
         "title": {
          "font": {
           "color": "rgb(38,38,38)",
           "size": 13.200000000000001
          },
          "text": "log(Ca<sub>T</sub>)"
         },
         "type": "linear",
         "visible": true,
         "zeroline": false
        },
        "xaxis2": {
         "anchor": "y2",
         "autorange": false,
         "domain": [
          0.7264285714285714,
          0.8942857142857142
         ],
         "exponentformat": "none",
         "fixedrange": true,
         "gridcolor": "rgba(38,38,38,0.15)",
         "gridwidth": 1,
         "linecolor": "rgb(38,38,38)",
         "linewidth": 1,
         "mirror": true,
         "range": [
          0,
          94
         ],
         "showgrid": false,
         "showline": true,
         "showspikes": false,
         "side": "bottom",
         "spikedash": "solid",
         "spikemode": "across",
         "spikesides": false,
         "spikethickness": 1,
         "tickangle": 0,
         "tickcolor": "rgb(38,38,38)",
         "tickfont": {
          "color": "rgb(38,38,38)",
          "size": 10.8
         },
         "ticklen": 3,
         "ticks": "",
         "ticktext": [],
         "tickvals": [],
         "title": {
          "font": {
           "color": "rgb(0, 0, 0)",
           "size": 11.880000000000003
          },
          "text": ""
         },
         "type": "linear",
         "visible": true,
         "zeroline": false
        },
        "yaxis": {
         "anchor": "x",
         "autorange": false,
         "domain": [
          0.11,
          0.9249999999999999
         ],
         "exponentformat": "none",
         "gridcolor": "rgba(38,38,38,0.15)",
         "gridwidth": 2,
         "linecolor": "rgb(38,38,38)",
         "linewidth": 2,
         "mirror": "ticks",
         "range": [
          5,
          11
         ],
         "showgrid": false,
         "showline": true,
         "side": "left",
         "spikedash": "solid",
         "spikemode": "across",
         "spikesides": false,
         "spikethickness": 1,
         "tickangle": 0,
         "tickcolor": "rgb(38,38,38)",
         "tickfont": {
          "color": "rgb(38,38,38)",
          "size": 12
         },
         "ticklen": 3,
         "ticks": "inside",
         "ticktext": [
          "5",
          "6",
          "7",
          "8",
          "9",
          "10",
          "11"
         ],
         "tickvals": [
          5,
          6,
          7,
          8,
          9,
          10,
          11
         ],
         "title": {
          "font": {
           "color": "rgb(38,38,38)",
           "size": 13.200000000000001
          },
          "text": "pH"
         },
         "type": "linear",
         "visible": true,
         "zeroline": false
        },
        "yaxis2": {
         "anchor": "x2",
         "autorange": false,
         "domain": [
          0.832142857142857,
          0.9107142857142856
         ],
         "exponentformat": "none",
         "fixedrange": true,
         "gridcolor": "rgba(38,38,38,0.15)",
         "gridwidth": 1,
         "linecolor": "rgb(38,38,38)",
         "linewidth": 1,
         "mirror": true,
         "range": [
          33,
          0
         ],
         "showgrid": false,
         "showline": true,
         "showspikes": false,
         "side": "left",
         "spikedash": "solid",
         "spikemode": "across",
         "spikesides": false,
         "spikethickness": 1,
         "tickangle": 0,
         "tickcolor": "rgb(38,38,38)",
         "tickfont": {
          "color": "rgb(38,38,38)",
          "size": 10.8
         },
         "ticklen": 3,
         "ticks": "",
         "ticktext": [],
         "tickvals": [],
         "title": {
          "font": {
           "color": "rgb(0, 0, 0)",
           "size": 11.880000000000003
          },
          "text": ""
         },
         "type": "linear",
         "visible": true,
         "zeroline": false
        }
       }
      },
      "image/png": "[encoded data removed]"
     },
     "metadata": {},
     "output_type": "display_data"
    }
   ],
   "source": [
    "plot(logCaT,pHhand,'linewidth',2,logCaT,pHphreeqc,'linewidth',2)\n",
    " set(gca,'linewidth',2,'fontsize',12)\n",
    "legend('pH by hand','pH PHREEQC')\n",
    "xlabel('log(Ca_T)'); ylabel('pH')\n"
   ]
  },
  {
   "cell_type": "code",
   "execution_count": null,
   "id": "4d796d37-00d9-4046-a1d3-0431792f1039",
   "metadata": {},
   "outputs": [],
   "source": []
  }
 ],
 "metadata": {
  "kernelspec": {
   "display_name": "Octave (xoctave)",
   "language": "Octave",
   "name": "xoctave"
  },
  "language_info": {
   "codemirror_mode": "octave",
   "file_extension": ".m",
   "mimetype": "text/x-octave",
   "name": "Octave",
   "nbconvert_exporter": "",
   "pygments_lexer": "octave",
   "version": "7.3.0"
  }
 },
 "nbformat": 4,
 "nbformat_minor": 5
}
