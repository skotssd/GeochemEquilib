{
 "cells": [
  {
   "cell_type": "markdown",
   "id": "4cf79e8f-ac31-475c-bcbe-1add3579406e",
   "metadata": {},
   "source": [
    "# model increase in pH as calcium increases using PHREEQC"
   ]
  },
  {
   "cell_type": "code",
   "execution_count": 1,
   "id": "eb2672a1-2344-4bf7-84f3-dab6cd27000c",
   "metadata": {},
   "outputs": [],
   "source": [
    "% setup environment\n",
    "% clear data and number format\n",
    "clear; format short e\n",
    "% set path to equilibrium solver\n",
    "txt=pwd; n=length(txt); rootpath=txt;\n",
    "n=strfind(rootpath,\"USERS\"); rootpath=txt(1:n-2);\n",
    "PHREEQCpath=[rootpath,'/runPHREEQC'];\n",
    "addpath(PHREEQCpath);\n",
    "JEQUILIBpath=[rootpath,'/JEQUILIB'];\n",
    "addpath(JEQUILIBpath);\n",
    "% turn off warnings\n",
    "warning off\n",
    "%graphics_toolkit (\"notebook\"); \n",
    "graphics_toolkit (\"plotly\"); \n",
    "%graphics_toolkit(\"gnuplot\")"
   ]
  },
  {
   "cell_type": "code",
   "execution_count": 2,
   "id": "952205a9-c35d-43b4-9d2e-df330034100e",
   "metadata": {},
   "outputs": [],
   "source": [
    "function pH=pHfromCaT(CaT)\n",
    "\n",
    "% equilibrium constants\n",
    "Kw=10^-14; Ka1=10^-6.35; Ka2=10^-10.33; PCO2=10^-3.5; KH=10^-1.47;  \n",
    "\n",
    "a=1;\n",
    "b=2*CaT; %if there is initial alkalinity\n",
    "c=-KH*Ka1*PCO2-Kw;\n",
    "d=-2*KH*Ka1*Ka2*PCO2;\n",
    "t=roots([a b c d]);\n",
    "t=t(imag(t)==0); %sets any imaginary roots to zero\n",
    "% display the positive real root\n",
    "t=t(t>0);\n",
    "pH=-log10(t);\n",
    "\n",
    "end"
   ]
  },
  {
   "cell_type": "code",
   "execution_count": 3,
   "id": "9616c20e-57c8-45d0-b6c4-6869c3c4b9af",
   "metadata": {},
   "outputs": [],
   "source": [
    "database=['phreeqc.dat'];\n",
    "\n",
    "%input info (mineral, total and species names, must match the PHREEQC database file !!!\n",
    "\n",
    "minerals=[{'CO2(g)'};{'Calcite'}]; % this is where you list the mineral phases to consider\n",
    "%minerals=[{'CO2(g)'}]; % this is where you list the mineral phases to consider\n",
    "logCaT=-6:0.1:-1; %totalvector=[CaT; 2*CaT]; \n",
    "totalnames=[{'Ca'};{'Alkalinity'}]; \n",
    "T=25; % temperature in degree C (run 5 degrees C and 35 degrees C to see the differnece)\n",
    "show=0; % this should show the PHREEQC output to the screen. works in Matlab but not Octave\n",
    "speciesexport=[{'H+'}]; % need to tell what species we want to look at after the run\n",
    "acid=[]; % not relevant for this problem\n",
    "pH=7; pe=20.75-pH; % you need initial values for pH and pe (Redox condition).  they aren't used but can' be blank\n",
    "pHfixcheck=0; %1 makes the pH fixed, 0 means pH is free to vary (same for pe).  here MUST be 0.  \n",
    "%can't do fixed pH AND open without adding cations"
   ]
  },
  {
   "cell_type": "code",
   "execution_count": 4,
   "id": "5def5869-178c-4cb9-a883-549bc2eff753",
   "metadata": {},
   "outputs": [],
   "source": [
    "for i=1:length(logCaT)\n",
    "    CaT=10^logCaT(i);\n",
    "    totalvector=[CaT; 2*CaT]; \n",
    "    [solutionspeciesconcs, speciesnames, solidconcs, solidnames]=...\n",
    "    runPHREEQCv3(T,pH,pe,totalnames,totalvector,minerals,speciesexport,database,show,acid,pHfixcheck);\n",
    "    H=solutionspeciesconcs(1); \n",
    "    pHphreeqc(i)=-log10(H);\n",
    "    pHhand(i)=pHfromCaT(CaT);\n",
    "end"
   ]
  },
  {
   "cell_type": "code",
   "execution_count": 5,
   "id": "05a03f2f-a1f5-4405-8b5c-c06c5a882052",
   "metadata": {},
   "outputs": [
    {
     "data": {
      "application/vnd.plotly.v1+json": {
       "data": [
        {
         "line": {
          "color": "rgb(0,113,188)",
          "dash": "solid",
          "width": 2
         },
         "marker": {
          "color": "rgb(0,113,188)",
          "line": {
           "color": "rgb(0,113,188)"
          },
          "size": 6,
          "symbol": "none"
         },
         "mode": "lines",
         "name": "pH by hand",
         "showlegend": true,
         "type": "scatter",
         "visibility": true,
         "x": [
          -6,
          -5.9,
          -5.8,
          -5.7,
          -5.6,
          -5.5,
          -5.4,
          -5.3,
          -5.2,
          -5.1,
          -5,
          -4.9,
          -4.8,
          -4.7,
          -4.6,
          -4.5,
          -4.4,
          -4.3,
          -4.2,
          -4.1,
          -4,
          -3.9,
          -3.8,
          -3.6999999999999997,
          -3.5999999999999996,
          -3.5,
          -3.4,
          -3.3,
          -3.1999999999999997,
          -3.0999999999999996,
          -3,
          -2.9,
          -2.8,
          -2.6999999999999997,
          -2.5999999999999996,
          -2.5,
          -2.4,
          -2.3,
          -2.1999999999999997,
          -2.0999999999999996,
          -2,
          -1.8999999999999995,
          -1.7999999999999998,
          -1.7000000000000002,
          -1.5999999999999996,
          -1.5,
          -1.3999999999999995,
          -1.2999999999999998,
          -1.1999999999999993,
          -1.0999999999999996,
          -1
         ],
         "xaxis": "x",
         "y": [
          5.85151553577101,
          5.8971387023153214,
          5.951345850867342,
          6.01435850415674,
          6.085792735182148,
          6.164687845289198,
          6.249708883406971,
          6.339425856819667,
          6.432543253723583,
          6.52801685808757,
          6.625070866633205,
          6.723159936598335,
          6.821914339627948,
          6.921088849547993,
          7.02052253596078,
          7.12010977142931,
          7.2197803064501445,
          7.319485919813061,
          7.419191556106012,
          7.518869406883416,
          7.618494862307272,
          7.718043610082524,
          7.817489401637808,
          7.9168021691169645,
          8.015946286626011,
          8.114878845824148,
          8.213547874912566,
          8.311890483211837,
          8.409830969900817,
          8.507279001510296,
          8.604128041097566,
          8.700254299326021,
          8.79551656133729,
          8.88975729864345,
          8.98280546585888,
          9.074481267251029,
          9.164602930370144,
          9.252995154195853,
          9.339498476773622,
          9.423978456996531,
          9.506333426540742,
          9.586499727937081,
          9.664453792023412,
          9.74021099073503,
          9.813821746663148,
          9.8853657400886,
          9.954945168630228,
          10.02267791771031,
          10.088691277872977,
          10.153116588429642,
          10.216084960909248
         ],
         "yaxis": "y"
        },
        {
         "line": {
          "color": "rgb(216,82,24)",
          "dash": "solid",
          "width": 2
         },
         "marker": {
          "color": "rgb(216,82,24)",
          "line": {
           "color": "rgb(216,82,24)"
          },
          "size": 6,
          "symbol": "none"
         },
         "mode": "lines",
         "name": "pH PHREEQC",
         "showlegend": true,
         "type": "scatter",
         "visibility": true,
         "x": [
          -6,
          -5.9,
          -5.8,
          -5.7,
          -5.6,
          -5.5,
          -5.4,
          -5.3,
          -5.2,
          -5.1,
          -5,
          -4.9,
          -4.8,
          -4.7,
          -4.6,
          -4.5,
          -4.4,
          -4.3,
          -4.2,
          -4.1,
          -4,
          -3.9,
          -3.8,
          -3.6999999999999997,
          -3.5999999999999996,
          -3.5,
          -3.4,
          -3.3,
          -3.1999999999999997,
          -3.0999999999999996,
          -3,
          -2.9,
          -2.8,
          -2.6999999999999997,
          -2.5999999999999996,
          -2.5,
          -2.4,
          -2.3,
          -2.1999999999999997,
          -2.0999999999999996,
          -2,
          -1.8999999999999995,
          -1.7999999999999998,
          -1.7000000000000002,
          -1.5999999999999996,
          -1.5,
          -1.3999999999999995,
          -1.2999999999999998,
          -1.1999999999999993,
          -1.0999999999999996,
          -1
         ],
         "xaxis": "x",
         "y": [
          5.849868417789778,
          5.895287475457,
          5.949239226731922,
          6.011951289151472,
          6.083047113011317,
          6.161559091868728,
          6.246151223148448,
          6.3354145410801,
          6.428005709413399,
          6.5229322572416555,
          6.619351556366,
          6.71675642163457,
          6.814732070839264,
          6.913038794813664,
          7.011510516728492,
          7.11001344770392,
          7.208459163456519,
          7.306805256326005,
          7.404946125717458,
          7.5028889905132665,
          7.600514619468471,
          7.697805953191598,
          7.794648150528618,
          7.890959664291031,
          7.986622141889899,
          8.08145954348945,
          8.175261573402471,
          8.26155775684626,
          8.261551826883943,
          8.261560720652025,
          8.261554790426056,
          8.261569613500876,
          8.26155478852685,
          8.261539964020006,
          8.261554785559944,
          8.261554783505922,
          8.261539958288797,
          8.261584424149888,
          8.261525130276516,
          8.261614060740678,
          8.261554762911679,
          8.26170298874531,
          8.261554746319366,
          8.261406574699928,
          8.261554721339408,
          8.261554704559126,
          8.261406575816101,
          8.261850982411385,
          8.261258587817254,
          8.262147146897751,
          8.261554550135475
         ],
         "yaxis": "y"
        },
        {
         "hoverinfo": "none",
         "line": {
          "color": "rgb(0,113,188)",
          "dash": "solid",
          "width": 2
         },
         "marker": {
          "color": "rgb(0,113,188)",
          "line": {
           "color": "rgb(0,113,188)"
          },
          "size": 6,
          "symbol": "none"
         },
         "mode": "lines",
         "name": "",
         "showlegend": false,
         "type": "scatter",
         "visibility": true,
         "x": [
          3,
          18
         ],
         "xaxis": "x2",
         "y": [
          9,
          9
         ],
         "yaxis": "y2"
        },
        {
         "hoverinfo": "none",
         "line": {
          "color": "rgb(216,82,24)",
          "dash": "solid",
          "width": 2
         },
         "marker": {
          "color": "rgb(216,82,24)",
          "line": {
           "color": "rgb(216,82,24)"
          },
          "size": 6,
          "symbol": "none"
         },
         "mode": "lines",
         "name": "",
         "showlegend": false,
         "type": "scatter",
         "visibility": true,
         "x": [
          3,
          18
         ],
         "xaxis": "x2",
         "y": [
          24,
          24
         ],
         "yaxis": "y2"
        }
       ],
       "layout": {
        "annotations": [
         {
          "font": {
           "color": "rgb(0, 0, 0)",
           "size": 10.8
          },
          "showarrow": false,
          "text": "pH by hand",
          "x": 21,
          "xanchor": "left",
          "xref": "x2",
          "y": 9,
          "yanchor": "middle",
          "yref": "y2"
         },
         {
          "font": {
           "color": "rgb(0, 0, 0)",
           "size": 10.8
          },
          "showarrow": false,
          "text": "pH PHREEQC",
          "x": 21,
          "xanchor": "left",
          "xref": "x2",
          "y": 24,
          "yanchor": "middle",
          "yref": "y2"
         }
        ],
        "height": 420,
        "hovermode": "closest",
        "margin": {
         "b": 0,
         "l": 0,
         "r": 0,
         "t": 0
        },
        "plot_bgcolor": "rgba(0, 0, 0, 0)",
        "showlegend": false,
        "width": 560,
        "xaxis": {
         "anchor": "y",
         "autorange": false,
         "domain": [
          0.13,
          0.905
         ],
         "exponentformat": "none",
         "gridcolor": "rgba(38,38,38,0.15)",
         "gridwidth": 2,
         "linecolor": "rgb(38,38,38)",
         "linewidth": 2,
         "mirror": "ticks",
         "range": [
          -6,
          -1
         ],
         "showgrid": false,
         "showline": true,
         "side": "bottom",
         "spikedash": "solid",
         "spikemode": "across",
         "spikesides": false,
         "spikethickness": 1,
         "tickangle": 0,
         "tickcolor": "rgb(38,38,38)",
         "tickfont": {
          "color": "rgb(38,38,38)",
          "size": 12
         },
         "ticklen": 3,
         "ticks": "inside",
         "ticktext": [
          "-6",
          "-5",
          "-4",
          "-3",
          "-2",
          "-1"
         ],
         "tickvals": [
          -6,
          -5,
          -4,
          -3,
          -2,
          -1
         ],
         "title": {
          "font": {
           "color": "rgb(38,38,38)",
           "size": 13.200000000000001
          },
          "text": "log(Ca<sub>T</sub>)"
         },
         "type": "linear",
         "visible": true,
         "zeroline": false
        },
        "xaxis2": {
         "anchor": "y2",
         "autorange": false,
         "domain": [
          0.7264285714285714,
          0.8942857142857142
         ],
         "exponentformat": "none",
         "fixedrange": true,
         "gridcolor": "rgba(38,38,38,0.15)",
         "gridwidth": 1,
         "linecolor": "rgb(38,38,38)",
         "linewidth": 1,
         "mirror": true,
         "range": [
          0,
          94
         ],
         "showgrid": false,
         "showline": true,
         "showspikes": false,
         "side": "bottom",
         "spikedash": "solid",
         "spikemode": "across",
         "spikesides": false,
         "spikethickness": 1,
         "tickangle": 0,
         "tickcolor": "rgb(38,38,38)",
         "tickfont": {
          "color": "rgb(38,38,38)",
          "size": 10.8
         },
         "ticklen": 3,
         "ticks": "",
         "ticktext": [],
         "tickvals": [],
         "title": {
          "font": {
           "color": "rgb(0, 0, 0)",
           "size": 11.880000000000003
          },
          "text": ""
         },
         "type": "linear",
         "visible": true,
         "zeroline": false
        },
        "yaxis": {
         "anchor": "x",
         "autorange": false,
         "domain": [
          0.11,
          0.9249999999999999
         ],
         "exponentformat": "none",
         "gridcolor": "rgba(38,38,38,0.15)",
         "gridwidth": 2,
         "linecolor": "rgb(38,38,38)",
         "linewidth": 2,
         "mirror": "ticks",
         "range": [
          5,
          11
         ],
         "showgrid": false,
         "showline": true,
         "side": "left",
         "spikedash": "solid",
         "spikemode": "across",
         "spikesides": false,
         "spikethickness": 1,
         "tickangle": 0,
         "tickcolor": "rgb(38,38,38)",
         "tickfont": {
          "color": "rgb(38,38,38)",
          "size": 12
         },
         "ticklen": 3,
         "ticks": "inside",
         "ticktext": [
          "5",
          "6",
          "7",
          "8",
          "9",
          "10",
          "11"
         ],
         "tickvals": [
          5,
          6,
          7,
          8,
          9,
          10,
          11
         ],
         "title": {
          "font": {
           "color": "rgb(38,38,38)",
           "size": 13.200000000000001
          },
          "text": "pH"
         },
         "type": "linear",
         "visible": true,
         "zeroline": false
        },
        "yaxis2": {
         "anchor": "x2",
         "autorange": false,
         "domain": [
          0.832142857142857,
          0.9107142857142856
         ],
         "exponentformat": "none",
         "fixedrange": true,
         "gridcolor": "rgba(38,38,38,0.15)",
         "gridwidth": 1,
         "linecolor": "rgb(38,38,38)",
         "linewidth": 1,
         "mirror": true,
         "range": [
          33,
          0
         ],
         "showgrid": false,
         "showline": true,
         "showspikes": false,
         "side": "left",
         "spikedash": "solid",
         "spikemode": "across",
         "spikesides": false,
         "spikethickness": 1,
         "tickangle": 0,
         "tickcolor": "rgb(38,38,38)",
         "tickfont": {
          "color": "rgb(38,38,38)",
          "size": 10.8
         },
         "ticklen": 3,
         "ticks": "",
         "ticktext": [],
         "tickvals": [],
         "title": {
          "font": {
           "color": "rgb(0, 0, 0)",
           "size": 11.880000000000003
          },
          "text": ""
         },
         "type": "linear",
         "visible": true,
         "zeroline": false
        }
       }
      },
<<<<<<< HEAD
      "image/png": "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"
=======
      "image/png": "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"
>>>>>>> 0fe7ecb9585837749c2493bc1840fd46f4bbf1c5
     },
     "metadata": {},
     "output_type": "display_data"
    },
    {
     "name": "stderr",
     "output_type": "stream",
     "text": [
      "ERROR: received unknown message\n",
      "Message type: usage_request\n"
     ]
    }
   ],
   "source": [
    "plot(logCaT,pHhand,'linewidth',2,logCaT,pHphreeqc,'linewidth',2)\n",
    " set(gca,'linewidth',2,'fontsize',12)\n",
    "legend('pH by hand','pH PHREEQC')\n",
    "xlabel('log(Ca_T)'); ylabel('pH')\n"
   ]
  },
  {
   "cell_type": "code",
   "execution_count": null,
   "id": "4d796d37-00d9-4046-a1d3-0431792f1039",
   "metadata": {},
   "outputs": [],
   "source": []
  }
 ],
 "metadata": {
  "kernelspec": {
   "display_name": "Octave (xoctave)",
   "language": "Octave",
   "name": "xoctave"
  },
  "language_info": {
   "codemirror_mode": "octave",
   "file_extension": ".m",
   "mimetype": "text/x-octave",
   "name": "Octave",
   "nbconvert_exporter": "",
   "pygments_lexer": "octave",
   "version": "7.3.0"
  }
 },
 "nbformat": 4,
 "nbformat_minor": 5
}
