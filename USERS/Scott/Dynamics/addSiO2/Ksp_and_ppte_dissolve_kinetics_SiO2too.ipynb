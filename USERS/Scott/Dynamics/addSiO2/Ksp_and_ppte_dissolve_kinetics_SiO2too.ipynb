{
 "cells": [
  {
   "cell_type": "markdown",
   "id": "2b9babce-985e-46b7-bd21-c35e381aad5a",
   "metadata": {},
   "source": [
    "# $K_{sp}$ values\n",
    "\n",
    "calcite\n",
    "\n",
    "$$ \\mathrm{CaCO_3}_{(\\mathrm{s})} = \\mathrm{Ca^{2+}} + \\mathrm{CO_3^{2-}}$$\n",
    "\n",
    "$$K_{sp} = [\\mathrm{Ca^{2+}}][\\mathrm{CO_3^{2-}}]=3.4e-9$$\n",
    "\n",
    "portlandite.  \n",
    "\n",
    "$$ \\mathrm{Ca(OH)_2}_{(\\mathrm{s})} = \\mathrm{Ca^{2+}} + 2\\mathrm{OH^{-}}$$\n",
    "\n",
    "$$K_{sp} = [\\mathrm{Ca^{2+}}][\\mathrm{OH^{-}}]^2=5.5e-6$$\n",
    "\n",
    "amorphous silica\n",
    "\n",
    "$$ \\mathrm{Si(O)_2}_{(\\mathrm{s})} + 2H_2O= \\mathrm{H_4SiO_4}$$\n",
    "\n",
    "$$K_{sp} = [\\mathrm{H_4SiO_2}]=10^{-3.02}$$\n",
    "\n",
    "CO2 gas\n",
    "\n",
    "$$ \\mathrm{CO_2}_{(\\mathrm{g})} + H_2O= \\mathrm{H_2CO_3}$$\n",
    "\n",
    "$$K_{sp} = [\\mathrm{H_2CO_3}]=10^{-1.47}\\times 10^{-3.5} = 10^{-4.97}$$\n",
    "\n"
   ]
  },
  {
   "cell_type": "code",
   "execution_count": 1,
   "id": "61944c1d-e0cd-43a1-bf39-13da74a0b5aa",
   "metadata": {},
   "outputs": [],
   "source": [
    "% clear the space\n",
    "\n",
    "clear\n",
    "\n",
    "% input constants\n",
    "\n",
    "KspC=3.4e-9; KspP=5.5e-6; PCO2=10^-3.5; KH=10^-1.47; KspCO2=PCO2*KH;\n",
    "Ka1=10^-6.3; Ka2=10^-10.3; Kw=1e-14; KspQ=10^-3.02; Ka1Q=10^-9.84; Ka2Q=10^-13.2;\n",
    "Kw=1e-14; KspC=3.4e-9; KspC=1.4e-8; KspP=5.5e-6; \n",
    "kC=1e-5; kP=8e-4; kQ=1e-4; kCO2=1e-8;"
   ]
  },
  {
   "cell_type": "markdown",
   "id": "5aa9cac3-824a-4c72-8753-2d2e46207186",
   "metadata": {},
   "source": [
    "# Simple kinetic model for precipitaton/dissolution\n",
    "\n",
    "There are some variations of this but in a simple way the rate of dissolution of a mineral can be written [Mdamba et al. (2015)](https://pubmed.ncbi.nlm.nih.gov/25462741/)\n",
    "\n",
    "$$\\dfrac{d(mineral)}{dt} = k\\left(\\dfrac{IAP}{Ksp}-1\\right)$$\n",
    "\n",
    "You can see if IAP/Ksp is undersaturated (less than 1) the rate will be negative indicating dissolution.\n",
    "\n",
    "if IAP/Ksp is supersaturated (greater than one) then the rate will be positive indicating precipitation.\n",
    "\n",
    "if IAP/Ksp is one then the rate will be zero and the system is at equilibrium.\n",
    "\n",
    "[PHREEQC Rate Expression](https://wwwbrr.cr.usgs.gov/projects/GWC_coupled/phreeqc/html/final-20.html)\n",
    "\n",
    "The expression can be written including a term for the precipitated amount of solid X that will speed up precipitation (seed crystals to grow on) and exponents to modify the rates ...\n",
    "\n",
    "$$\\dfrac{d(mineral)}{dt} = k X \\left(\\left(\\dfrac{IAP}{Ksp}\\right)^m-1\\right)^n$$\n",
    "\n",
    "We can implement such reactions into Octave using the ODE solver.   et's define the function for the dissolution of portlandite.  First put in a function to return the speciation when [calcium] is known (function [H,OH,H2CO3,HCO3,CO3]=CCaspeciesopen(Ca,Kw,KH,Ka1,Ka2,PCO2)).  Then put in the ODE as follows:\n",
    "\n",
    "$$\\dfrac{d(portlandite)}{dt} = k_P X_P \\left(\\left(\\dfrac{IAP_P}{Ksp_P}\\right)^m-1\\right)^n$$\n",
    "$$\\dfrac{d(calcite)}{dt} = k_C X_C \\left(\\left(\\dfrac{IAP_C}{Ksp_C}\\right)^p-1\\right)^q$$\n",
    "$$\\dfrac{d([Ca])}{dt} = -k_P X_P \\left(\\left(\\dfrac{IAP_P}{Ksp_P}\\right)^p-1\\right)^q - k_C X_C \\left(\\left(\\dfrac{IAP_C}{Ksp_C}\\right)^m-1\\right)^n$$\n",
    "\n",
    "start with $m$ and $n$ and $p$ and $q$ equal to 1.\n",
    "\n",
    "add two more equations.  loss of SiO2 and gain of H4SiO4.\n",
    "\n",
    "$$\\dfrac{d(quartz)}{dt} = k_Q X_Q \\left(\\left(\\dfrac{IAP_Q}{Ksp_Q}\\right)-1\\right)$$\n",
    "\n",
    "$$\\dfrac{d([H2SiO4])}{dt} = -k_Q X_Q \\left(\\left(\\dfrac{IAP_Q}{Ksp_Q}\\right)-1\\right)$$\n",
    "\n",
    "and one more equations for CO2 (consider atmosphere reservoir as infinite) so just gain of H2CO3 (so no X term).\n",
    "\n",
    "$$\\dfrac{d([H2CO3])}{dt} = -k_{CO2}\\left(\\left(\\dfrac{[H2CO3]}{Ksp_{CO2}}\\right)-1\\right)$$\n",
    "\n"
   ]
  },
  {
   "cell_type": "code",
   "execution_count": 2,
   "id": "d432ab24-f40b-4328-a59a-14243ea973d5",
   "metadata": {},
   "outputs": [],
   "source": [
    "function [H,OH,HCO3,CO3,HSiO4,SiO4]=CO2SiO2Caspeciesopen(Ca,H2SiO4,H2CO3,Kw,Ka1,Ka2,Ka1Q,Ka2Q)\n",
    "\n",
    "a=1; b=2*Ca; c=-Ka1*H2CO3-Kw-Ka1Q*H2SiO4; d=-2*Ka2*Ka1*H2CO3-2*Ka1Q*Ka2Q*H2SiO4;\n",
    "H=roots([a b c d]);\n",
    "H=H(imag(H)==0); %sets any imaginary roots to zero\n",
    "% display the positive real root\n",
    "H=H(H>0);\n",
    "% display the logical real root\n",
    "% never going to get pH super low\n",
    "%H=H(H<1);\n",
    "%solve speciation\n",
    "HCO3=(H2CO3*Ka1)/H; CO3=(H2CO3*Ka1*Ka2)/(H^2); OH=Kw/H;\n",
    "HSiO4=(H2SiO4*Ka1Q)/H; SiO4=(H2SiO4*Ka1Q*Ka2Q)/(H^2);\n",
    "chargecheck=2*Ca+H-OH-HCO3-HSiO4-2*SiO4-2*CO3;\n",
    "end"
   ]
  },
  {
   "cell_type": "code",
   "execution_count": 3,
   "id": "2d4a908d-b35a-4bd4-b0fe-17cf2acf41a6",
   "metadata": {},
   "outputs": [],
   "source": [
    "% try with ode solver.  first need to define the function\n",
    "\n",
    "function dCdt=dC_by_dt(t,C,Kw,KH,Ka1,Ka2,PCO2,KspC,KspP,KspCO2,KspQ,kC,kP,kQ,kCO2,Ka1Q,Ka2Q)\n",
    "\n",
    "port=C(1); calcite=C(2); Ca=C(3); Quartz=C(4); H2SiO4=C(5); H2CO3=C(6);\n",
    "\n",
    "[H,OH,HCO3,CO3,HSiO4,SiO4]=CO2SiO2Caspeciesopen(Ca,H2SiO4,H2CO3,Kw,Ka1,Ka2,Ka1Q,Ka2Q);\n",
    "\n",
    "IAPP=Ca*OH^2; IAPC=Ca*CO3; IAPQ=[H2SiO4]; IAPCO2=[H2CO3];\n",
    "\n",
    "dCdt=zeros(6,1); % set to zeros initially\n",
    "\n",
    "% the three entries for the 3 rates. \n",
    "\n",
    "%rate of decrease in portlandite concentration.  IAP/Ksp is less than 1 so rate is negative\n",
    "dCdt(1)=kP*port*(IAPP/KspP-1);  \n",
    "\n",
    "%rate of formation of calcite\n",
    "if IAPC/KspC >1; dCdt(2)=calcite*kC*(((IAPC/KspC-1))); end\n",
    "\n",
    "%rate of increase in calcium concentration from port dissolve and decrease Ca from calcite ppte\n",
    "dCdt(3)=-kP*port*(IAPP/KspP-1)-calcite*kC*(IAPC/KspC-1);  \n",
    "\n",
    "dCdt(4)=kQ*Quartz*(IAPQ/KspQ-1);  \n",
    "dCdt(5)=-kQ*Quartz*(IAPQ/KspQ-1);  \n",
    "dCdt(6)=-kCO2*(IAPCO2/KspCO2-1);  \n",
    "\n",
    "dC=dCdt;\n",
    "\n",
    "end"
   ]
  },
  {
   "cell_type": "code",
   "execution_count": 4,
   "id": "92a23338-5c63-4251-bb7b-ceaf29ab19c3",
   "metadata": {},
   "outputs": [],
   "source": [
    "% make an anonymous function because ODE solver only wants conc and time as variables\n",
    "% and dfine all the constants too\n",
    "\n",
    "dCdtrate = @(t,C)dC_by_dt(t,C,Kw,KH,Ka1,Ka2,PCO2,KspC,KspP,KspCO2,KspQ,kC,kP,kQ,kCO2,Ka1Q,Ka2Q);\n"
   ]
  },
  {
   "cell_type": "code",
   "execution_count": 5,
   "id": "60129643-463e-45d5-83ce-3717594c5432",
   "metadata": {},
   "outputs": [
    {
     "data": {
      "image/png": "[encoded data removed]"
     },
     "metadata": {
      "image/png": {
       "height": 420,
       "width": 560
      }
     },
     "output_type": "display_data"
    }
   ],
   "source": [
    "% call ODE solver\n",
    "% initial conditions\n",
    "port=1; calcite=1e-9; Ca=0; Quartz=0.1; H2SiO4=1e-9; H2CO3=1e-9;\n",
    "\n",
    "C=[port calcite Ca Quartz H2SiO4 H2CO3];\n",
    "\n",
    "%[t, C]=ode45(dCdtrate,[0 5],C);\n",
    "%[t, C]=ode15s(dCdtrate,[0 430],C); \n",
    "[t, C]=ode23s(dCdtrate,[0 3000],C); \n",
    "\n",
    "port=C(:,1); calcite=C(:,2); Ca=C(:,3); Quartz=C(:,4); H2SiO4=C(:,5); H2CO3=C(:,6);\n",
    "\n",
    "for i=1:length(Ca)\n",
    "    [H,OH,HCO3,CO3,HSiO4,SiO4]=CO2SiO2Caspeciesopen(Ca(i),H2SiO4(i),H2CO3(i),Kw,Ka1,Ka2,Ka1Q,Ka2Q);\n",
    "    pH(i)=-log10(H);\n",
    "end\n",
    "\n",
    "subplot(331); plot(t,port); ylabel('[portlandite]'); xlabel('time')\n",
    "subplot(332); plot(t,Ca); ylabel('[Ca] in solution'); xlabel('time')\n",
    "subplot(333); plot(t,calcite); ylabel('[Calcite]'); xlabel('time')\n",
    "subplot(334); plot(t,pH); ylabel('pH'); xlabel('time')\n",
    "subplot(335); plot(t,Quartz); ylabel('solid SiO2'); xlabel('time')\n",
    "subplot(336); plot(t,H2CO3); ylabel('H2CO3'); xlabel('time')\n",
    "subplot(337); plot(t,H2SiO4); ylabel('H2SiO4'); xlabel('time')\n"
   ]
  },
  {
   "cell_type": "code",
   "execution_count": null,
   "id": "db845e31-e1a5-4b95-b303-46eef6cd7dcc",
   "metadata": {},
   "outputs": [],
   "source": []
  }
 ],
 "metadata": {
  "kernelspec": {
   "display_name": "Octave (xoctave)",
   "language": "Octave",
   "name": "xoctave"
  },
  "language_info": {
   "codemirror_mode": "octave",
   "file_extension": ".m",
   "mimetype": "text/x-octave",
   "name": "Octave",
   "nbconvert_exporter": "",
   "pygments_lexer": "octave",
   "version": "7.3.0"
  }
 },
 "nbformat": 4,
 "nbformat_minor": 5
}
