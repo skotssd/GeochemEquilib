{
 "cells": [
  {
   "cell_type": "markdown",
   "id": "7133ef85-41f1-469f-bfba-49203ad6c85e",
   "metadata": {},
   "source": [
    "# Closed CO2"
   ]
  },
  {
   "cell_type": "code",
   "execution_count": 1,
   "id": "22adc3e3-c249-49fb-983d-bf1caf39a5a0",
   "metadata": {
    "tags": []
   },
   "outputs": [],
   "source": [
    "#input constant\n",
    "KH=10^-1.5; Ka1=10^-6.3; Ka2=10^-10.3; Ka3 =10^-9.74;pCO2=10^-3.5; Kw=10^-14; Ksp_CaOH2=5.5*10^-6; Ksp_CaCO3=4.8*10^-9; Ca_molmass=40.08;"
   ]
  },
  {
   "cell_type": "markdown",
   "id": "981cba01-dcc3-44c8-94b9-99d68e88fc56",
   "metadata": {},
   "source": [
    "## 1. Solubility of Ca(OH)2"
   ]
  },
  {
   "cell_type": "markdown",
   "id": "46b1d783-acca-4859-9127-e5389a2df1ec",
   "metadata": {
    "tags": []
   },
   "source": [
    "$$[Ca(OH)_2]=Ca^{2+}+2OH^-$$\n",
    "\n",
    "The solubility product constant\n",
    "\n",
    "$$K_{sp}=[Ca^{2+}]{[OH^-]}^2=5.5*10^{-6}$$\n",
    "\n",
    "if $[Ca^{2+}]=x$, $[OH^-]=2x$,\n",
    "then,\n",
    "$$K_{sp}=x*(2x)^2=4x^3=5.5*10^{-6}$$"
   ]
  },
  {
   "cell_type": "markdown",
   "id": "51fb9e84-7ddc-4166-bbe6-4b5806cc9baa",
   "metadata": {},
   "source": [
    "### Solve"
   ]
  },
  {
   "cell_type": "code",
   "execution_count": 2,
   "id": "accd0e90-130e-4b89-9ad7-0eeca74de1de",
   "metadata": {
    "tags": []
   },
   "outputs": [
    {
     "data": {
      "text/plain": [
       "x = 0.011120\n"
      ]
     },
     "metadata": {},
     "output_type": "display_data"
    },
    {
     "data": {
      "text/plain": [
       "OH_CaOH2 = 0.022240\n"
      ]
     },
     "metadata": {},
     "output_type": "display_data"
    },
    {
     "data": {
      "text/plain": [
       "H_CaOH2 = 4.4964e-13\n"
      ]
     },
     "metadata": {},
     "output_type": "display_data"
    },
    {
     "data": {
      "text/plain": [
       "pH_CaOH2 = 12.347\n"
      ]
     },
     "metadata": {},
     "output_type": "display_data"
    }
   ],
   "source": [
    "x=(Ksp_CaOH2/4)^(1/3)\n",
    "OH_CaOH2=2*x\n",
    "H_CaOH2=Kw/OH_CaOH2\n",
    "pH_CaOH2=-log10(H_CaOH2)"
   ]
  },
  {
   "cell_type": "markdown",
   "id": "d128f892-ad36-4cab-b734-b716286ba37b",
   "metadata": {},
   "source": [
    "so the solubility of Ca(OH)2 is 0.0111 mol/L, pH=12.347"
   ]
  },
  {
   "cell_type": "markdown",
   "id": "c4a419d9-8aec-4261-9e28-e9149ad74be8",
   "metadata": {},
   "source": [
    "## 2. Predicted pH in closed system"
   ]
  },
  {
   "cell_type": "markdown",
   "id": "3eaf3e53-85c4-4002-be03-ab8a532d1ecd",
   "metadata": {
    "tags": []
   },
   "source": [
    "$$[H_2CO_3]=K_H*{pCO_2}$$\n",
    "\n",
    "$$[HCO_3^-]=\\frac{K_{a1}[H_2CO_3]}{[H^+]}=\\frac{K_{a1}*K_H*pCO_2}{[H^+]}$$\n",
    "\n",
    "$$[CO_3^2-]=\\frac{K_{a2}[HCO_3^-]}{[H^+]}=\\frac{K_{a2}\\frac{K_{a1}*K_H*pCO_2}{[H^+]}}{[H^+]}=\\frac{K_{a2}*K_{a1}*K_H*pCO_2}{[H^+]^2}$$\n",
    "\n",
    "$$[OH^-]=\\frac{K_w}{[H^+]}$$\n",
    "\n",
    "$$2[Ca^{2+}]+[H^+]=[OH^-]+[HCO_3^-]+2[CO_3^{2-}]$$\n",
    "\n",
    "$$[Ca^{2+}]=\\frac{[OH^-]+[HCO_3^-]+2[CO_3^{2-}]-[H^+]}{2}$$"
   ]
  },
  {
   "cell_type": "code",
   "execution_count": 3,
   "id": "4aa45ff3-cc5c-423f-98ed-aba650e6c084",
   "metadata": {
    "tags": []
   },
   "outputs": [
    {
     "data": {
      "text/html": [
       "<table><tr><th><i>Ca<i></th><th>1</th><th>2</th><th>3</th><th>4</th><th>5</th><th>6</th><th>7</th><th>8</th><th>9</th><th>10</th><th>11</th><th>12</th><th>13</th><th>14</th><th>15</th><th>16</th><th>17</th><th>18</th><th>19</th><th>20</th><th>21</th><th>22</th><th>23</th><th>24</th><th>25</th><th>26</th><th>27</th><th>28</th><th>29</th><th>30</th><th>31</th><th>32</th><th>33</th><th>34</th><th>35</th><th>36</th><th>37</th><th>38</th><th>39</th><th>40</th><th>41</th><th>42</th><th>43</th><th>44</th><th>45</th><th>46</th><th>47</th><th>48</th><th>49</th><th>50</th><th>51</th><th>52</th><th>53</th><th>54</th><th>55</th><th>56</th><th>57</th><th>58</th><th>59</th><th>60</th><th>61</th><th>62</th><th>63</th><th>64</th><th>65</th><th>66</th><th>67</th><th>68</th><th>69</th><th>70</th><th>71</th><th>72</th><th>73</th><th>74</th><th>75</th><th>76</th><th>77</th><th>78</th><th>79</th><th>80</th><th>81</th><th>82</th><th>83</th><th>84</th><th>85</th><th>86</th><th>87</th><th>88</th><th>89</th><th>90</th><th>91</th><th>92</th><th>93</th><th>94</th><th>95</th><th>96</th><th>97</th><th>98</th><th>99</th><th>100</th><th>101</th><th>102</th><th>103</th><th>104</th><th>105</th><th>106</th><th>107</th><th>108</th><th>109</th><th>110</th><th>111</th><th>112</th><th>113</th><th>114</th><th>115</th><th>116</th><th>117</th><th>118</th><th>119</th><th>120</th><th>121</th><th>122</th><th>123</th><th>124</th><th>125</th><th>126</th><th>127</th><th>128</th><th>129</th><th>130</th><th>131</th><th>132</th><th>133</th><th>134</th><th>135</th><th>136</th><th>137</th><th>138</th><th>139</th><th>140</th><th>141</th></tr><tr><th>1</th><td>-0.5</td><td>-0.397164</td><td>-0.315479</td><td>-0.250594</td><td>-0.199054</td><td>-0.158114</td><td>-0.125594</td><td>-0.0997631</td><td>-0.0792447</td><td>-0.0629463</td><td>-0.05</td><td>-0.0397164</td><td>-0.0315479</td><td>-0.0250594</td><td>-0.0199054</td><td>-0.0158114</td><td>-0.0125594</td><td>-0.00997631</td><td>-0.00792447</td><td>-0.00629463</td><td>-0.005</td><td>-0.00397164</td><td>-0.00315479</td><td>-0.00250594</td><td>-0.00199054</td><td>-0.00158114</td><td>-0.00125594</td><td>-0.00099763</td><td>-0.000792445</td><td>-0.000629461</td><td>-0.000499997</td><td>-0.000397161</td><td>-0.000315475</td><td>-0.000250589</td><td>-0.000199047</td><td>-0.000158106</td><td>-0.000125584</td><td>-9.97505e-05</td><td>-7.92288e-05</td><td>-6.29263e-05</td><td>-4.99749e-05</td><td>-3.96848e-05</td><td>-3.15081e-05</td><td>-2.50093e-05</td><td>-1.98423e-05</td><td>-1.5732e-05</td><td>-1.24595e-05</td><td>-9.85047e-06</td><td>-7.76604e-06</td><td>-6.09517e-06</td><td>-4.7489e-06</td><td>-3.65553e-06</td><td>-2.75682e-06</td><td>-2.00493e-06</td><td>-1.3598e-06</td><td>-7.87086e-07</td><td>-2.56282e-07</td><td>2.60881e-07</td><td>7.91947e-07</td><td>1.3652e-06</td><td>2.01119e-06</td><td>2.76432e-06</td><td>3.66472e-06</td><td>4.76038e-06</td><td>6.10972e-06</td><td>7.78468e-06</td><td>9.8746e-06</td><td>1.2491e-05</td><td>1.57737e-05</td><td>1.9898e-05</td><td>2.50845e-05</td><td>3.16109e-05</td><td>3.98272e-05</td><td>5.01747e-05</td><td>6.32104e-05</td><td>7.96382e-05</td><td>0.000100348</td><td>0.000126466</td><td>0.000159421</td><td>0.000201029</td><td>0.000253601</td><td>0.000320085</td><td>0.000404263</td><td>0.000510995</td><td>0.000646566</td><td>0.000819145</td><td>0.00103943</td><td>0.00132154</td><td>0.00168429</td><td>0.002153</td><td>0.00276212</td><td>0.00355919</td><td>0.00461052</td><td>0.00600998</td><td>0.00789208</td><td>0.0104522</td><td>0.0139773</td><td>0.0188941</td><td>0.0258429</td><td>0.035794</td><td>0.0502282</td><td>0.0714215</td><td>0.102891</td><td>0.1501</td><td>0.221561</td><td>0.330591</td><td>0.498069</td><td>0.756802</td><td>1.15843</td><td>1.78434</td><td>2.76298</td><td>4.29718</td><td>6.70753</td><td>10.501</td><td>16.4797</td><td>25.9129</td><td>40.8103</td><td>64.3542</td><td>101.584</td><td>160.484</td><td>253.7</td><td>401.268</td><td>634.937</td><td>1005.01</td><td>1591.2</td><td>2519.83</td><td>3991.07</td><td>6322.16</td><td>10015.8</td><td>15868.9</td><td>25144</td><td>39842.3</td><td>63135.5</td><td>100050</td><td>158552</td><td>251268</td><td>398207</td><td>631083</td><td>1.00016e+06</td><td>1.58509e+06</td><td>2.51214e+06</td></tr></table>"
      ],
      "text/plain": [
       "Ca =  Columns 1 through 6:\n",
       "\n",
       "  -5.0000e-01  -3.9716e-01  -3.1548e-01  -2.5059e-01  -1.9905e-01  -1.5811e-01\n",
       "\n",
       " Columns 7 through 12:\n",
       "\n",
       "  -1.2559e-01  -9.9763e-02  -7.9245e-02  -6.2946e-02  -5.0000e-02  -3.9716e-02\n",
       "\n",
       " Columns 13 through 18:\n",
       "\n",
       "  -3.1548e-02  -2.5059e-02  -1.9905e-02  -1.5811e-02  -1.2559e-02  -9.9763e-03\n",
       "\n",
       " Columns 19 through 24:\n",
       "\n",
       "  -7.9245e-03  -6.2946e-03  -5.0000e-03  -3.9716e-03  -3.1548e-03  -2.5059e-03\n",
       "\n",
       " Columns 25 through 30:\n",
       "\n",
       "  -1.9905e-03  -1.5811e-03  -1.2559e-03  -9.9763e-04  -7.9245e-04  -6.2946e-04\n",
       "\n",
       " Columns 31 through 36:\n",
       "\n",
       "  -5.0000e-04  -3.9716e-04  -3.1547e-04  -2.5059e-04  -1.9905e-04  -1.5811e-04\n",
       "\n",
       " Columns 37 through 42:\n",
       "\n",
       "  -1.2558e-04  -9.9751e-05  -7.9229e-05  -6.2926e-05  -4.9975e-05  -3.9685e-05\n",
       "\n",
       " Columns 43 through 48:\n",
       "\n",
       "  -3.1508e-05  -2.5009e-05  -1.9842e-05  -1.5732e-05  -1.2459e-05  -9.8505e-06\n",
       "\n",
       " Columns 49 through 54:\n",
       "\n",
       "  -7.7660e-06  -6.0952e-06  -4.7489e-06  -3.6555e-06  -2.7568e-06  -2.0049e-06\n",
       "\n",
       " Columns 55 through 60:\n",
       "\n",
       "  -1.3598e-06  -7.8709e-07  -2.5628e-07   2.6088e-07   7.9195e-07   1.3652e-06\n",
       "\n",
       " Columns 61 through 66:\n",
       "\n",
       "   2.0112e-06   2.7643e-06   3.6647e-06   4.7604e-06   6.1097e-06   7.7847e-06\n",
       "\n",
       " Columns 67 through 72:\n",
       "\n",
       "   9.8746e-06   1.2491e-05   1.5774e-05   1.9898e-05   2.5084e-05   3.1611e-05\n",
       "\n",
       " Columns 73 through 78:\n",
       "\n",
       "   3.9827e-05   5.0175e-05   6.3210e-05   7.9638e-05   1.0035e-04   1.2647e-04\n",
       "\n",
       " Columns 79 through 84:\n",
       "\n",
       "   1.5942e-04   2.0103e-04   2.5360e-04   3.2009e-04   4.0426e-04   5.1100e-04\n",
       "\n",
       " Columns 85 through 90:\n",
       "\n",
       "   6.4657e-04   8.1915e-04   1.0394e-03   1.3215e-03   1.6843e-03   2.1530e-03\n",
       "\n",
       " Columns 91 through 96:\n",
       "\n",
       "   2.7621e-03   3.5592e-03   4.6105e-03   6.0100e-03   7.8921e-03   1.0452e-02\n",
       "\n",
       " Columns 97 through 102:\n",
       "\n",
       "   1.3977e-02   1.8894e-02   2.5843e-02   3.5794e-02   5.0228e-02   7.1422e-02\n",
       "\n",
       " Columns 103 through 108:\n",
       "\n",
       "   1.0289e-01   1.5010e-01   2.2156e-01   3.3059e-01   4.9807e-01   7.5680e-01\n",
       "\n",
       " Columns 109 through 114:\n",
       "\n",
       "   1.1584e+00   1.7843e+00   2.7630e+00   4.2972e+00   6.7075e+00   1.0501e+01\n",
       "\n",
       " Columns 115 through 120:\n",
       "\n",
       "   1.6480e+01   2.5913e+01   4.0810e+01   6.4354e+01   1.0158e+02   1.6048e+02\n",
       "\n",
       " Columns 121 through 126:\n",
       "\n",
       "   2.5370e+02   4.0127e+02   6.3494e+02   1.0050e+03   1.5912e+03   2.5198e+03\n",
       "\n",
       " Columns 127 through 132:\n",
       "\n",
       "   3.9911e+03   6.3222e+03   1.0016e+04   1.5869e+04   2.5144e+04   3.9842e+04\n",
       "\n",
       " Columns 133 through 138:\n",
       "\n",
       "   6.3136e+04   1.0005e+05   1.5855e+05   2.5127e+05   3.9821e+05   6.3108e+05\n",
       "\n",
       " Columns 139 through 141:\n",
       "\n",
       "   1.0002e+06   1.5851e+06   2.5121e+06\n"
      ]
     },
     "metadata": {},
     "output_type": "display_data"
    },
    {
     "data": {
      "text/html": [
       "<table><tr><th><i>Ca<i></th><th>1</th><th>2</th><th>3</th><th>4</th><th>5</th><th>6</th><th>7</th><th>8</th><th>9</th><th>10</th><th>11</th><th>12</th><th>13</th><th>14</th><th>15</th><th>16</th><th>17</th><th>18</th><th>19</th><th>20</th><th>21</th><th>22</th><th>23</th><th>24</th><th>25</th><th>26</th><th>27</th><th>28</th><th>29</th><th>30</th><th>31</th><th>32</th><th>33</th><th>34</th><th>35</th><th>36</th><th>37</th><th>38</th><th>39</th><th>40</th><th>41</th><th>42</th><th>43</th><th>44</th><th>45</th><th>46</th><th>47</th><th>48</th><th>49</th><th>50</th><th>51</th><th>52</th><th>53</th><th>54</th><th>55</th><th>56</th><th>57</th><th>58</th><th>59</th><th>60</th><th>61</th><th>62</th><th>63</th><th>64</th><th>65</th><th>66</th><th>67</th><th>68</th><th>69</th><th>70</th><th>71</th><th>72</th><th>73</th><th>74</th><th>75</th><th>76</th><th>77</th><th>78</th><th>79</th><th>80</th><th>81</th><th>82</th><th>83</th><th>84</th><th>85</th><th>86</th><th>87</th><th>88</th><th>89</th><th>90</th><th>91</th><th>92</th><th>93</th><th>94</th><th>95</th><th>96</th><th>97</th><th>98</th><th>99</th><th>100</th><th>101</th><th>102</th><th>103</th><th>104</th><th>105</th><th>106</th><th>107</th><th>108</th><th>109</th><th>110</th><th>111</th><th>112</th><th>113</th><th>114</th><th>115</th><th>116</th><th>117</th><th>118</th><th>119</th><th>120</th><th>121</th><th>122</th><th>123</th><th>124</th><th>125</th><th>126</th><th>127</th><th>128</th><th>129</th><th>130</th><th>131</th><th>132</th><th>133</th><th>134</th><th>135</th><th>136</th><th>137</th><th>138</th><th>139</th><th>140</th><th>141</th></tr><tr><th>1</th><td>nan</td><td>nan</td><td>nan</td><td>nan</td><td>nan</td><td>nan</td><td>nan</td><td>nan</td><td>nan</td><td>nan</td><td>nan</td><td>nan</td><td>nan</td><td>nan</td><td>nan</td><td>nan</td><td>nan</td><td>nan</td><td>nan</td><td>nan</td><td>nan</td><td>nan</td><td>nan</td><td>nan</td><td>nan</td><td>nan</td><td>nan</td><td>nan</td><td>nan</td><td>nan</td><td>nan</td><td>nan</td><td>nan</td><td>nan</td><td>nan</td><td>nan</td><td>nan</td><td>nan</td><td>nan</td><td>nan</td><td>nan</td><td>nan</td><td>nan</td><td>nan</td><td>nan</td><td>nan</td><td>nan</td><td>nan</td><td>nan</td><td>nan</td><td>nan</td><td>nan</td><td>nan</td><td>nan</td><td>nan</td><td>nan</td><td>nan</td><td>2.60881e-07</td><td>7.91947e-07</td><td>1.3652e-06</td><td>2.01119e-06</td><td>2.76432e-06</td><td>3.66472e-06</td><td>4.76038e-06</td><td>6.10972e-06</td><td>7.78468e-06</td><td>9.8746e-06</td><td>1.2491e-05</td><td>1.57737e-05</td><td>1.9898e-05</td><td>2.50845e-05</td><td>3.16109e-05</td><td>3.98272e-05</td><td>5.01747e-05</td><td>6.32104e-05</td><td>7.96382e-05</td><td>0.000100348</td><td>0.000126466</td><td>0.000159421</td><td>0.000201029</td><td>0.000253601</td><td>0.000320085</td><td>0.000404263</td><td>0.000510995</td><td>0.000646566</td><td>0.000819145</td><td>0.00103943</td><td>0.00132154</td><td>0.00168429</td><td>0.002153</td><td>0.00276212</td><td>0.00355919</td><td>0.00461052</td><td>0.00600998</td><td>0.00789208</td><td>0.0104522</td><td>0.0139773</td><td>0.0188941</td><td>0.0258429</td><td>0.035794</td><td>0.0502282</td><td>0.0714215</td><td>0.102891</td><td>0.1501</td><td>0.221561</td><td>0.330591</td><td>0.498069</td><td>0.756802</td><td>1.15843</td><td>1.78434</td><td>2.76298</td><td>4.29718</td><td>6.70753</td><td>10.501</td><td>16.4797</td><td>25.9129</td><td>40.8103</td><td>64.3542</td><td>101.584</td><td>160.484</td><td>253.7</td><td>401.268</td><td>634.937</td><td>1005.01</td><td>1591.2</td><td>2519.83</td><td>3991.07</td><td>6322.16</td><td>10015.8</td><td>15868.9</td><td>25144</td><td>39842.3</td><td>63135.5</td><td>100050</td><td>158552</td><td>251268</td><td>398207</td><td>631083</td><td>1.00016e+06</td><td>1.58509e+06</td><td>2.51214e+06</td></tr></table>"
      ],
      "text/plain": [
       "Ca =  Columns 1 through 6:\n",
       "\n",
       "          NaN          NaN          NaN          NaN          NaN          NaN\n",
       "\n",
       " Columns 7 through 12:\n",
       "\n",
       "          NaN          NaN          NaN          NaN          NaN          NaN\n",
       "\n",
       " Columns 13 through 18:\n",
       "\n",
       "          NaN          NaN          NaN          NaN          NaN          NaN\n",
       "\n",
       " Columns 19 through 24:\n",
       "\n",
       "          NaN          NaN          NaN          NaN          NaN          NaN\n",
       "\n",
       " Columns 25 through 30:\n",
       "\n",
       "          NaN          NaN          NaN          NaN          NaN          NaN\n",
       "\n",
       " Columns 31 through 36:\n",
       "\n",
       "          NaN          NaN          NaN          NaN          NaN          NaN\n",
       "\n",
       " Columns 37 through 42:\n",
       "\n",
       "          NaN          NaN          NaN          NaN          NaN          NaN\n",
       "\n",
       " Columns 43 through 48:\n",
       "\n",
       "          NaN          NaN          NaN          NaN          NaN          NaN\n",
       "\n",
       " Columns 49 through 54:\n",
       "\n",
       "          NaN          NaN          NaN          NaN          NaN          NaN\n",
       "\n",
       " Columns 55 through 60:\n",
       "\n",
       "          NaN          NaN          NaN   2.6088e-07   7.9195e-07   1.3652e-06\n",
       "\n",
       " Columns 61 through 66:\n",
       "\n",
       "   2.0112e-06   2.7643e-06   3.6647e-06   4.7604e-06   6.1097e-06   7.7847e-06\n",
       "\n",
       " Columns 67 through 72:\n",
       "\n",
       "   9.8746e-06   1.2491e-05   1.5774e-05   1.9898e-05   2.5084e-05   3.1611e-05\n",
       "\n",
       " Columns 73 through 78:\n",
       "\n",
       "   3.9827e-05   5.0175e-05   6.3210e-05   7.9638e-05   1.0035e-04   1.2647e-04\n",
       "\n",
       " Columns 79 through 84:\n",
       "\n",
       "   1.5942e-04   2.0103e-04   2.5360e-04   3.2009e-04   4.0426e-04   5.1100e-04\n",
       "\n",
       " Columns 85 through 90:\n",
       "\n",
       "   6.4657e-04   8.1915e-04   1.0394e-03   1.3215e-03   1.6843e-03   2.1530e-03\n",
       "\n",
       " Columns 91 through 96:\n",
       "\n",
       "   2.7621e-03   3.5592e-03   4.6105e-03   6.0100e-03   7.8921e-03   1.0452e-02\n",
       "\n",
       " Columns 97 through 102:\n",
       "\n",
       "   1.3977e-02   1.8894e-02   2.5843e-02   3.5794e-02   5.0228e-02   7.1422e-02\n",
       "\n",
       " Columns 103 through 108:\n",
       "\n",
       "   1.0289e-01   1.5010e-01   2.2156e-01   3.3059e-01   4.9807e-01   7.5680e-01\n",
       "\n",
       " Columns 109 through 114:\n",
       "\n",
       "   1.1584e+00   1.7843e+00   2.7630e+00   4.2972e+00   6.7075e+00   1.0501e+01\n",
       "\n",
       " Columns 115 through 120:\n",
       "\n",
       "   1.6480e+01   2.5913e+01   4.0810e+01   6.4354e+01   1.0158e+02   1.6048e+02\n",
       "\n",
       " Columns 121 through 126:\n",
       "\n",
       "   2.5370e+02   4.0127e+02   6.3494e+02   1.0050e+03   1.5912e+03   2.5198e+03\n",
       "\n",
       " Columns 127 through 132:\n",
       "\n",
       "   3.9911e+03   6.3222e+03   1.0016e+04   1.5869e+04   2.5144e+04   3.9842e+04\n",
       "\n",
       " Columns 133 through 138:\n",
       "\n",
       "   6.3136e+04   1.0005e+05   1.5855e+05   2.5127e+05   3.9821e+05   6.3108e+05\n",
       "\n",
       " Columns 139 through 141:\n",
       "\n",
       "   1.0002e+06   1.5851e+06   2.5121e+06\n"
      ]
     },
     "metadata": {},
     "output_type": "display_data"
    },
    {
     "data": {
      "application/vnd.plotly.v1+json": {
       "data": [
        {
         "line": {
          "color": "rgb(0,255,255)",
          "width": 2
         },
         "marker": {
          "color": "rgb(0,255,255)",
          "line": {
           "color": "rgb(0,255,255)"
          },
          "size": 6,
          "symbol": "circle"
         },
         "mode": "markers",
         "name": "H_2CO_3",
         "showlegend": true,
         "type": "scatter",
         "visibility": true,
         "x": [
          0
         ],
         "xaxis": "x",
         "y": [
          9.999999999999999e-06
         ],
         "yaxis": "y"
        },
        {
         "line": {
          "color": "rgb(0,255,255)",
          "width": 2
         },
         "marker": {
          "color": "rgb(0,255,255)",
          "line": {
           "color": "rgb(0,255,255)"
          },
          "size": 6,
          "symbol": "circle"
         },
         "mode": "markers",
         "name": "HCO_3(-)",
         "showlegend": true,
         "type": "scatter",
         "visibility": true,
         "x": [
          0.1
         ],
         "xaxis": "x",
         "y": [
          9.999999999999999e-06
         ],
         "yaxis": "y"
        },
        {
         "line": {
          "color": "rgb(0,255,255)",
          "width": 2
         },
         "marker": {
          "color": "rgb(0,255,255)",
          "line": {
           "color": "rgb(0,255,255)"
          },
          "size": 6,
          "symbol": "circle"
         },
         "mode": "markers",
         "name": "CO_3(2-)",
         "showlegend": true,
         "type": "scatter",
         "visibility": true,
         "x": [
          0.2
         ],
         "xaxis": "x",
         "y": [
          9.999999999999999e-06
         ],
         "yaxis": "y"
        },
        {
         "line": {
          "color": "rgb(0,255,255)",
          "width": 2
         },
         "marker": {
          "color": "rgb(0,255,255)",
          "line": {
           "color": "rgb(0,255,255)"
          },
          "size": 6,
          "symbol": "circle"
         },
         "mode": "markers",
         "name": "OH(-)",
         "showlegend": true,
         "type": "scatter",
         "visibility": true,
         "x": [
          0.30000000000000004
         ],
         "xaxis": "x",
         "y": [
          9.999999999999999e-06
         ],
         "yaxis": "y"
        },
        {
         "line": {
          "color": "rgb(0,255,255)",
          "width": 2
         },
         "marker": {
          "color": "rgb(0,255,255)",
          "line": {
           "color": "rgb(0,255,255)"
          },
          "size": 6,
          "symbol": "circle"
         },
         "mode": "markers",
         "name": "Ca",
         "showlegend": true,
         "type": "scatter",
         "visibility": true,
         "x": [
          0.4
         ],
         "xaxis": "x",
         "y": [
          9.999999999999999e-06
         ],
         "yaxis": "y"
        },
        {
         "line": {
          "color": "rgb(0,255,255)",
          "width": 2
         },
         "marker": {
          "color": "rgb(0,255,255)",
          "line": {
           "color": "rgb(0,255,255)"
          },
          "size": 6,
          "symbol": "circle"
         },
         "mode": "markers",
         "name": "",
         "showlegend": false,
         "type": "scatter",
         "visibility": true,
         "x": [
          0.5
         ],
         "xaxis": "x",
         "y": [
          9.999999999999999e-06
         ],
         "yaxis": "y"
        },
        {
         "line": {
          "color": "rgb(0,255,255)",
          "width": 2
         },
         "marker": {
          "color": "rgb(0,255,255)",
          "line": {
           "color": "rgb(0,255,255)"
          },
          "size": 6,
          "symbol": "circle"
         },
         "mode": "markers",
         "name": "",
         "showlegend": false,
         "type": "scatter",
         "visibility": true,
         "x": [
          0.6000000000000001
         ],
         "xaxis": "x",
         "y": [
          9.999999999999999e-06
         ],
         "yaxis": "y"
        },
        {
         "line": {
          "color": "rgb(0,255,255)",
          "width": 2
         },
         "marker": {
          "color": "rgb(0,255,255)",
          "line": {
           "color": "rgb(0,255,255)"
          },
          "size": 6,
          "symbol": "circle"
         },
         "mode": "markers",
         "name": "",
         "showlegend": false,
         "type": "scatter",
         "visibility": true,
         "x": [
          0.7000000000000001
         ],
         "xaxis": "x",
         "y": [
          9.999999999999999e-06
         ],
         "yaxis": "y"
        },
        {
         "line": {
          "color": "rgb(0,255,255)",
          "width": 2
         },
         "marker": {
          "color": "rgb(0,255,255)",
          "line": {
           "color": "rgb(0,255,255)"
          },
          "size": 6,
          "symbol": "circle"
         },
         "mode": "markers",
         "name": "",
         "showlegend": false,
         "type": "scatter",
         "visibility": true,
         "x": [
          0.8
         ],
         "xaxis": "x",
         "y": [
          9.999999999999999e-06
         ],
         "yaxis": "y"
        },
        {
         "line": {
          "color": "rgb(0,255,255)",
          "width": 2
         },
         "marker": {
          "color": "rgb(0,255,255)",
          "line": {
           "color": "rgb(0,255,255)"
          },
          "size": 6,
          "symbol": "circle"
         },
         "mode": "markers",
         "name": "",
         "showlegend": false,
         "type": "scatter",
         "visibility": true,
         "x": [
          0.9
         ],
         "xaxis": "x",
         "y": [
          9.999999999999999e-06
         ],
         "yaxis": "y"
        },
        {
         "line": {
          "color": "rgb(0,255,255)",
          "width": 2
         },
         "marker": {
          "color": "rgb(0,255,255)",
          "line": {
           "color": "rgb(0,255,255)"
          },
          "size": 6,
          "symbol": "circle"
         },
         "mode": "markers",
         "name": "",
         "showlegend": false,
         "type": "scatter",
         "visibility": true,
         "x": [
          1
         ],
         "xaxis": "x",
         "y": [
          9.999999999999999e-06
         ],
         "yaxis": "y"
        },
        {
         "line": {
          "color": "rgb(0,255,255)",
          "width": 2
         },
         "marker": {
          "color": "rgb(0,255,255)",
          "line": {
           "color": "rgb(0,255,255)"
          },
          "size": 6,
          "symbol": "circle"
         },
         "mode": "markers",
         "name": "",
         "showlegend": false,
         "type": "scatter",
         "visibility": true,
         "x": [
          1.1
         ],
         "xaxis": "x",
         "y": [
          9.999999999999999e-06
         ],
         "yaxis": "y"
        },
        {
         "line": {
          "color": "rgb(0,255,255)",
          "width": 2
         },
         "marker": {
          "color": "rgb(0,255,255)",
          "line": {
           "color": "rgb(0,255,255)"
          },
          "size": 6,
          "symbol": "circle"
         },
         "mode": "markers",
         "name": "",
         "showlegend": false,
         "type": "scatter",
         "visibility": true,
         "x": [
          1.2000000000000002
         ],
         "xaxis": "x",
         "y": [
          9.999999999999999e-06
         ],
         "yaxis": "y"
        },
        {
         "line": {
          "color": "rgb(0,255,255)",
          "width": 2
         },
         "marker": {
          "color": "rgb(0,255,255)",
          "line": {
           "color": "rgb(0,255,255)"
          },
          "size": 6,
          "symbol": "circle"
         },
         "mode": "markers",
         "name": "",
         "showlegend": false,
         "type": "scatter",
         "visibility": true,
         "x": [
          1.3
         ],
         "xaxis": "x",
         "y": [
          9.999999999999999e-06
         ],
         "yaxis": "y"
        },
        {
         "line": {
          "color": "rgb(0,255,255)",
          "width": 2
         },
         "marker": {
          "color": "rgb(0,255,255)",
          "line": {
           "color": "rgb(0,255,255)"
          },
          "size": 6,
          "symbol": "circle"
         },
         "mode": "markers",
         "name": "",
         "showlegend": false,
         "type": "scatter",
         "visibility": true,
         "x": [
          1.4000000000000001
         ],
         "xaxis": "x",
         "y": [
          9.999999999999999e-06
         ],
         "yaxis": "y"
        },
        {
         "line": {
          "color": "rgb(0,255,255)",
          "width": 2
         },
         "marker": {
          "color": "rgb(0,255,255)",
          "line": {
           "color": "rgb(0,255,255)"
          },
          "size": 6,
          "symbol": "circle"
         },
         "mode": "markers",
         "name": "",
         "showlegend": false,
         "type": "scatter",
         "visibility": true,
         "x": [
          1.5
         ],
         "xaxis": "x",
         "y": [
          9.999999999999999e-06
         ],
         "yaxis": "y"
        },
        {
         "line": {
          "color": "rgb(0,255,255)",
          "width": 2
         },
         "marker": {
          "color": "rgb(0,255,255)",
          "line": {
           "color": "rgb(0,255,255)"
          },
          "size": 6,
          "symbol": "circle"
         },
         "mode": "markers",
         "name": "",
         "showlegend": false,
         "type": "scatter",
         "visibility": true,
         "x": [
          1.6
         ],
         "xaxis": "x",
         "y": [
          9.999999999999999e-06
         ],
         "yaxis": "y"
        },
        {
         "line": {
          "color": "rgb(0,255,255)",
          "width": 2
         },
         "marker": {
          "color": "rgb(0,255,255)",
          "line": {
           "color": "rgb(0,255,255)"
          },
          "size": 6,
          "symbol": "circle"
         },
         "mode": "markers",
         "name": "",
         "showlegend": false,
         "type": "scatter",
         "visibility": true,
         "x": [
          1.7000000000000002
         ],
         "xaxis": "x",
         "y": [
          9.999999999999999e-06
         ],
         "yaxis": "y"
        },
        {
         "line": {
          "color": "rgb(0,255,255)",
          "width": 2
         },
         "marker": {
          "color": "rgb(0,255,255)",
          "line": {
           "color": "rgb(0,255,255)"
          },
          "size": 6,
          "symbol": "circle"
         },
         "mode": "markers",
         "name": "",
         "showlegend": false,
         "type": "scatter",
         "visibility": true,
         "x": [
          1.8
         ],
         "xaxis": "x",
         "y": [
          9.999999999999999e-06
         ],
         "yaxis": "y"
        },
        {
         "line": {
          "color": "rgb(0,255,255)",
          "width": 2
         },
         "marker": {
          "color": "rgb(0,255,255)",
          "line": {
           "color": "rgb(0,255,255)"
          },
          "size": 6,
          "symbol": "circle"
         },
         "mode": "markers",
         "name": "",
         "showlegend": false,
         "type": "scatter",
         "visibility": true,
         "x": [
          1.9000000000000001
         ],
         "xaxis": "x",
         "y": [
          9.999999999999999e-06
         ],
         "yaxis": "y"
        },
        {
         "line": {
          "color": "rgb(0,255,255)",
          "width": 2
         },
         "marker": {
          "color": "rgb(0,255,255)",
          "line": {
           "color": "rgb(0,255,255)"
          },
          "size": 6,
          "symbol": "circle"
         },
         "mode": "markers",
         "name": "",
         "showlegend": false,
         "type": "scatter",
         "visibility": true,
         "x": [
          2
         ],
         "xaxis": "x",
         "y": [
          9.999999999999999e-06
         ],
         "yaxis": "y"
        },
        {
         "line": {
          "color": "rgb(0,255,255)",
          "width": 2
         },
         "marker": {
          "color": "rgb(0,255,255)",
          "line": {
           "color": "rgb(0,255,255)"
          },
          "size": 6,
          "symbol": "circle"
         },
         "mode": "markers",
         "name": "",
         "showlegend": false,
         "type": "scatter",
         "visibility": true,
         "x": [
          2.1
         ],
         "xaxis": "x",
         "y": [
          9.999999999999999e-06
         ],
         "yaxis": "y"
        },
        {
         "line": {
          "color": "rgb(0,255,255)",
          "width": 2
         },
         "marker": {
          "color": "rgb(0,255,255)",
          "line": {
           "color": "rgb(0,255,255)"
          },
          "size": 6,
          "symbol": "circle"
         },
         "mode": "markers",
         "name": "",
         "showlegend": false,
         "type": "scatter",
         "visibility": true,
         "x": [
          2.2
         ],
         "xaxis": "x",
         "y": [
          9.999999999999999e-06
         ],
         "yaxis": "y"
        },
        {
         "line": {
          "color": "rgb(0,255,255)",
          "width": 2
         },
         "marker": {
          "color": "rgb(0,255,255)",
          "line": {
           "color": "rgb(0,255,255)"
          },
          "size": 6,
          "symbol": "circle"
         },
         "mode": "markers",
         "name": "",
         "showlegend": false,
         "type": "scatter",
         "visibility": true,
         "x": [
          2.3000000000000003
         ],
         "xaxis": "x",
         "y": [
          9.999999999999999e-06
         ],
         "yaxis": "y"
        },
        {
         "line": {
          "color": "rgb(0,255,255)",
          "width": 2
         },
         "marker": {
          "color": "rgb(0,255,255)",
          "line": {
           "color": "rgb(0,255,255)"
          },
          "size": 6,
          "symbol": "circle"
         },
         "mode": "markers",
         "name": "",
         "showlegend": false,
         "type": "scatter",
         "visibility": true,
         "x": [
          2.4000000000000004
         ],
         "xaxis": "x",
         "y": [
          9.999999999999999e-06
         ],
         "yaxis": "y"
        },
        {
         "line": {
          "color": "rgb(0,255,255)",
          "width": 2
         },
         "marker": {
          "color": "rgb(0,255,255)",
          "line": {
           "color": "rgb(0,255,255)"
          },
          "size": 6,
          "symbol": "circle"
         },
         "mode": "markers",
         "name": "",
         "showlegend": false,
         "type": "scatter",
         "visibility": true,
         "x": [
          2.5
         ],
         "xaxis": "x",
         "y": [
          9.999999999999999e-06
         ],
         "yaxis": "y"
        },
        {
         "line": {
          "color": "rgb(0,255,255)",
          "width": 2
         },
         "marker": {
          "color": "rgb(0,255,255)",
          "line": {
           "color": "rgb(0,255,255)"
          },
          "size": 6,
          "symbol": "circle"
         },
         "mode": "markers",
         "name": "",
         "showlegend": false,
         "type": "scatter",
         "visibility": true,
         "x": [
          2.6
         ],
         "xaxis": "x",
         "y": [
          9.999999999999999e-06
         ],
         "yaxis": "y"
        },
        {
         "line": {
          "color": "rgb(0,255,255)",
          "width": 2
         },
         "marker": {
          "color": "rgb(0,255,255)",
          "line": {
           "color": "rgb(0,255,255)"
          },
          "size": 6,
          "symbol": "circle"
         },
         "mode": "markers",
         "name": "",
         "showlegend": false,
         "type": "scatter",
         "visibility": true,
         "x": [
          2.7
         ],
         "xaxis": "x",
         "y": [
          9.999999999999999e-06
         ],
         "yaxis": "y"
        },
        {
         "line": {
          "color": "rgb(0,255,255)",
          "width": 2
         },
         "marker": {
          "color": "rgb(0,255,255)",
          "line": {
           "color": "rgb(0,255,255)"
          },
          "size": 6,
          "symbol": "circle"
         },
         "mode": "markers",
         "name": "",
         "showlegend": false,
         "type": "scatter",
         "visibility": true,
         "x": [
          2.8000000000000003
         ],
         "xaxis": "x",
         "y": [
          9.999999999999999e-06
         ],
         "yaxis": "y"
        },
        {
         "line": {
          "color": "rgb(0,255,255)",
          "width": 2
         },
         "marker": {
          "color": "rgb(0,255,255)",
          "line": {
           "color": "rgb(0,255,255)"
          },
          "size": 6,
          "symbol": "circle"
         },
         "mode": "markers",
         "name": "",
         "showlegend": false,
         "type": "scatter",
         "visibility": true,
         "x": [
          2.9000000000000004
         ],
         "xaxis": "x",
         "y": [
          9.999999999999999e-06
         ],
         "yaxis": "y"
        },
        {
         "line": {
          "color": "rgb(0,255,255)",
          "width": 2
         },
         "marker": {
          "color": "rgb(0,255,255)",
          "line": {
           "color": "rgb(0,255,255)"
          },
          "size": 6,
          "symbol": "circle"
         },
         "mode": "markers",
         "name": "",
         "showlegend": false,
         "type": "scatter",
         "visibility": true,
         "x": [
          3
         ],
         "xaxis": "x",
         "y": [
          9.999999999999999e-06
         ],
         "yaxis": "y"
        },
        {
         "line": {
          "color": "rgb(0,255,255)",
          "width": 2
         },
         "marker": {
          "color": "rgb(0,255,255)",
          "line": {
           "color": "rgb(0,255,255)"
          },
          "size": 6,
          "symbol": "circle"
         },
         "mode": "markers",
         "name": "",
         "showlegend": false,
         "type": "scatter",
         "visibility": true,
         "x": [
          3.1
         ],
         "xaxis": "x",
         "y": [
          9.999999999999999e-06
         ],
         "yaxis": "y"
        },
        {
         "line": {
          "color": "rgb(0,255,255)",
          "width": 2
         },
         "marker": {
          "color": "rgb(0,255,255)",
          "line": {
           "color": "rgb(0,255,255)"
          },
          "size": 6,
          "symbol": "circle"
         },
         "mode": "markers",
         "name": "",
         "showlegend": false,
         "type": "scatter",
         "visibility": true,
         "x": [
          3.2
         ],
         "xaxis": "x",
         "y": [
          9.999999999999999e-06
         ],
         "yaxis": "y"
        },
        {
         "line": {
          "color": "rgb(0,255,255)",
          "width": 2
         },
         "marker": {
          "color": "rgb(0,255,255)",
          "line": {
           "color": "rgb(0,255,255)"
          },
          "size": 6,
          "symbol": "circle"
         },
         "mode": "markers",
         "name": "",
         "showlegend": false,
         "type": "scatter",
         "visibility": true,
         "x": [
          3.3000000000000003
         ],
         "xaxis": "x",
         "y": [
          9.999999999999999e-06
         ],
         "yaxis": "y"
        },
        {
         "line": {
          "color": "rgb(0,255,255)",
          "width": 2
         },
         "marker": {
          "color": "rgb(0,255,255)",
          "line": {
           "color": "rgb(0,255,255)"
          },
          "size": 6,
          "symbol": "circle"
         },
         "mode": "markers",
         "name": "",
         "showlegend": false,
         "type": "scatter",
         "visibility": true,
         "x": [
          3.4000000000000004
         ],
         "xaxis": "x",
         "y": [
          9.999999999999999e-06
         ],
         "yaxis": "y"
        },
        {
         "line": {
          "color": "rgb(0,255,255)",
          "width": 2
         },
         "marker": {
          "color": "rgb(0,255,255)",
          "line": {
           "color": "rgb(0,255,255)"
          },
          "size": 6,
          "symbol": "circle"
         },
         "mode": "markers",
         "name": "",
         "showlegend": false,
         "type": "scatter",
         "visibility": true,
         "x": [
          3.5
         ],
         "xaxis": "x",
         "y": [
          9.999999999999999e-06
         ],
         "yaxis": "y"
        },
        {
         "line": {
          "color": "rgb(0,255,255)",
          "width": 2
         },
         "marker": {
          "color": "rgb(0,255,255)",
          "line": {
           "color": "rgb(0,255,255)"
          },
          "size": 6,
          "symbol": "circle"
         },
         "mode": "markers",
         "name": "",
         "showlegend": false,
         "type": "scatter",
         "visibility": true,
         "x": [
          3.6
         ],
         "xaxis": "x",
         "y": [
          9.999999999999999e-06
         ],
         "yaxis": "y"
        },
        {
         "line": {
          "color": "rgb(0,255,255)",
          "width": 2
         },
         "marker": {
          "color": "rgb(0,255,255)",
          "line": {
           "color": "rgb(0,255,255)"
          },
          "size": 6,
          "symbol": "circle"
         },
         "mode": "markers",
         "name": "",
         "showlegend": false,
         "type": "scatter",
         "visibility": true,
         "x": [
          3.7
         ],
         "xaxis": "x",
         "y": [
          9.999999999999999e-06
         ],
         "yaxis": "y"
        },
        {
         "line": {
          "color": "rgb(0,255,255)",
          "width": 2
         },
         "marker": {
          "color": "rgb(0,255,255)",
          "line": {
           "color": "rgb(0,255,255)"
          },
          "size": 6,
          "symbol": "circle"
         },
         "mode": "markers",
         "name": "",
         "showlegend": false,
         "type": "scatter",
         "visibility": true,
         "x": [
          3.8000000000000003
         ],
         "xaxis": "x",
         "y": [
          9.999999999999999e-06
         ],
         "yaxis": "y"
        },
        {
         "line": {
          "color": "rgb(0,255,255)",
          "width": 2
         },
         "marker": {
          "color": "rgb(0,255,255)",
          "line": {
           "color": "rgb(0,255,255)"
          },
          "size": 6,
          "symbol": "circle"
         },
         "mode": "markers",
         "name": "",
         "showlegend": false,
         "type": "scatter",
         "visibility": true,
         "x": [
          3.9000000000000004
         ],
         "xaxis": "x",
         "y": [
          9.999999999999999e-06
         ],
         "yaxis": "y"
        },
        {
         "line": {
          "color": "rgb(0,255,255)",
          "width": 2
         },
         "marker": {
          "color": "rgb(0,255,255)",
          "line": {
           "color": "rgb(0,255,255)"
          },
          "size": 6,
          "symbol": "circle"
         },
         "mode": "markers",
         "name": "",
         "showlegend": false,
         "type": "scatter",
         "visibility": true,
         "x": [
          4
         ],
         "xaxis": "x",
         "y": [
          9.999999999999999e-06
         ],
         "yaxis": "y"
        },
        {
         "line": {
          "color": "rgb(0,255,255)",
          "width": 2
         },
         "marker": {
          "color": "rgb(0,255,255)",
          "line": {
           "color": "rgb(0,255,255)"
          },
          "size": 6,
          "symbol": "circle"
         },
         "mode": "markers",
         "name": "",
         "showlegend": false,
         "type": "scatter",
         "visibility": true,
         "x": [
          4.1000000000000005
         ],
         "xaxis": "x",
         "y": [
          9.999999999999999e-06
         ],
         "yaxis": "y"
        },
        {
         "line": {
          "color": "rgb(0,255,255)",
          "width": 2
         },
         "marker": {
          "color": "rgb(0,255,255)",
          "line": {
           "color": "rgb(0,255,255)"
          },
          "size": 6,
          "symbol": "circle"
         },
         "mode": "markers",
         "name": "",
         "showlegend": false,
         "type": "scatter",
         "visibility": true,
         "x": [
          4.2
         ],
         "xaxis": "x",
         "y": [
          9.999999999999999e-06
         ],
         "yaxis": "y"
        },
        {
         "line": {
          "color": "rgb(0,255,255)",
          "width": 2
         },
         "marker": {
          "color": "rgb(0,255,255)",
          "line": {
           "color": "rgb(0,255,255)"
          },
          "size": 6,
          "symbol": "circle"
         },
         "mode": "markers",
         "name": "",
         "showlegend": false,
         "type": "scatter",
         "visibility": true,
         "x": [
          4.3
         ],
         "xaxis": "x",
         "y": [
          9.999999999999999e-06
         ],
         "yaxis": "y"
        },
        {
         "line": {
          "color": "rgb(0,255,255)",
          "width": 2
         },
         "marker": {
          "color": "rgb(0,255,255)",
          "line": {
           "color": "rgb(0,255,255)"
          },
          "size": 6,
          "symbol": "circle"
         },
         "mode": "markers",
         "name": "",
         "showlegend": false,
         "type": "scatter",
         "visibility": true,
         "x": [
          4.4
         ],
         "xaxis": "x",
         "y": [
          9.999999999999999e-06
         ],
         "yaxis": "y"
        },
        {
         "line": {
          "color": "rgb(0,255,255)",
          "width": 2
         },
         "marker": {
          "color": "rgb(0,255,255)",
          "line": {
           "color": "rgb(0,255,255)"
          },
          "size": 6,
          "symbol": "circle"
         },
         "mode": "markers",
         "name": "",
         "showlegend": false,
         "type": "scatter",
         "visibility": true,
         "x": [
          4.5
         ],
         "xaxis": "x",
         "y": [
          9.999999999999999e-06
         ],
         "yaxis": "y"
        },
        {
         "line": {
          "color": "rgb(0,255,255)",
          "width": 2
         },
         "marker": {
          "color": "rgb(0,255,255)",
          "line": {
           "color": "rgb(0,255,255)"
          },
          "size": 6,
          "symbol": "circle"
         },
         "mode": "markers",
         "name": "",
         "showlegend": false,
         "type": "scatter",
         "visibility": true,
         "x": [
          4.6000000000000005
         ],
         "xaxis": "x",
         "y": [
          9.999999999999999e-06
         ],
         "yaxis": "y"
        },
        {
         "line": {
          "color": "rgb(0,255,255)",
          "width": 2
         },
         "marker": {
          "color": "rgb(0,255,255)",
          "line": {
           "color": "rgb(0,255,255)"
          },
          "size": 6,
          "symbol": "circle"
         },
         "mode": "markers",
         "name": "",
         "showlegend": false,
         "type": "scatter",
         "visibility": true,
         "x": [
          4.7
         ],
         "xaxis": "x",
         "y": [
          9.999999999999999e-06
         ],
         "yaxis": "y"
        },
        {
         "line": {
          "color": "rgb(0,255,255)",
          "width": 2
         },
         "marker": {
          "color": "rgb(0,255,255)",
          "line": {
           "color": "rgb(0,255,255)"
          },
          "size": 6,
          "symbol": "circle"
         },
         "mode": "markers",
         "name": "",
         "showlegend": false,
         "type": "scatter",
         "visibility": true,
         "x": [
          4.800000000000001
         ],
         "xaxis": "x",
         "y": [
          9.999999999999999e-06
         ],
         "yaxis": "y"
        },
        {
         "line": {
          "color": "rgb(0,255,255)",
          "width": 2
         },
         "marker": {
          "color": "rgb(0,255,255)",
          "line": {
           "color": "rgb(0,255,255)"
          },
          "size": 6,
          "symbol": "circle"
         },
         "mode": "markers",
         "name": "",
         "showlegend": false,
         "type": "scatter",
         "visibility": true,
         "x": [
          4.9
         ],
         "xaxis": "x",
         "y": [
          9.999999999999999e-06
         ],
         "yaxis": "y"
        },
        {
         "line": {
          "color": "rgb(0,255,255)",
          "width": 2
         },
         "marker": {
          "color": "rgb(0,255,255)",
          "line": {
           "color": "rgb(0,255,255)"
          },
          "size": 6,
          "symbol": "circle"
         },
         "mode": "markers",
         "name": "",
         "showlegend": false,
         "type": "scatter",
         "visibility": true,
         "x": [
          5
         ],
         "xaxis": "x",
         "y": [
          9.999999999999999e-06
         ],
         "yaxis": "y"
        },
        {
         "line": {
          "color": "rgb(0,255,255)",
          "width": 2
         },
         "marker": {
          "color": "rgb(0,255,255)",
          "line": {
           "color": "rgb(0,255,255)"
          },
          "size": 6,
          "symbol": "circle"
         },
         "mode": "markers",
         "name": "",
         "showlegend": false,
         "type": "scatter",
         "visibility": true,
         "x": [
          5.1000000000000005
         ],
         "xaxis": "x",
         "y": [
          9.999999999999999e-06
         ],
         "yaxis": "y"
        },
        {
         "line": {
          "color": "rgb(0,255,255)",
          "width": 2
         },
         "marker": {
          "color": "rgb(0,255,255)",
          "line": {
           "color": "rgb(0,255,255)"
          },
          "size": 6,
          "symbol": "circle"
         },
         "mode": "markers",
         "name": "",
         "showlegend": false,
         "type": "scatter",
         "visibility": true,
         "x": [
          5.2
         ],
         "xaxis": "x",
         "y": [
          9.999999999999999e-06
         ],
         "yaxis": "y"
        },
        {
         "line": {
          "color": "rgb(0,255,255)",
          "width": 2
         },
         "marker": {
          "color": "rgb(0,255,255)",
          "line": {
           "color": "rgb(0,255,255)"
          },
          "size": 6,
          "symbol": "circle"
         },
         "mode": "markers",
         "name": "",
         "showlegend": false,
         "type": "scatter",
         "visibility": true,
         "x": [
          5.300000000000001
         ],
         "xaxis": "x",
         "y": [
          9.999999999999999e-06
         ],
         "yaxis": "y"
        },
        {
         "line": {
          "color": "rgb(0,255,255)",
          "width": 2
         },
         "marker": {
          "color": "rgb(0,255,255)",
          "line": {
           "color": "rgb(0,255,255)"
          },
          "size": 6,
          "symbol": "circle"
         },
         "mode": "markers",
         "name": "",
         "showlegend": false,
         "type": "scatter",
         "visibility": true,
         "x": [
          5.4
         ],
         "xaxis": "x",
         "y": [
          9.999999999999999e-06
         ],
         "yaxis": "y"
        },
        {
         "line": {
          "color": "rgb(0,255,255)",
          "width": 2
         },
         "marker": {
          "color": "rgb(0,255,255)",
          "line": {
           "color": "rgb(0,255,255)"
          },
          "size": 6,
          "symbol": "circle"
         },
         "mode": "markers",
         "name": "",
         "showlegend": false,
         "type": "scatter",
         "visibility": true,
         "x": [
          5.5
         ],
         "xaxis": "x",
         "y": [
          9.999999999999999e-06
         ],
         "yaxis": "y"
        },
        {
         "line": {
          "color": "rgb(0,255,255)",
          "width": 2
         },
         "marker": {
          "color": "rgb(0,255,255)",
          "line": {
           "color": "rgb(0,255,255)"
          },
          "size": 6,
          "symbol": "circle"
         },
         "mode": "markers",
         "name": "",
         "showlegend": false,
         "type": "scatter",
         "visibility": true,
         "x": [
          5.6000000000000005
         ],
         "xaxis": "x",
         "y": [
          9.999999999999999e-06
         ],
         "yaxis": "y"
        },
        {
         "line": {
          "color": "rgb(0,255,255)",
          "width": 2
         },
         "marker": {
          "color": "rgb(0,255,255)",
          "line": {
           "color": "rgb(0,255,255)"
          },
          "size": 6,
          "symbol": "circle"
         },
         "mode": "markers",
         "name": "",
         "showlegend": false,
         "type": "scatter",
         "visibility": true,
         "x": [
          5.7
         ],
         "xaxis": "x",
         "y": [
          9.999999999999999e-06
         ],
         "yaxis": "y"
        },
        {
         "line": {
          "color": "rgb(0,255,255)",
          "width": 2
         },
         "marker": {
          "color": "rgb(0,255,255)",
          "line": {
           "color": "rgb(0,255,255)"
          },
          "size": 6,
          "symbol": "circle"
         },
         "mode": "markers",
         "name": "",
         "showlegend": false,
         "type": "scatter",
         "visibility": true,
         "x": [
          5.800000000000001
         ],
         "xaxis": "x",
         "y": [
          9.999999999999999e-06
         ],
         "yaxis": "y"
        },
        {
         "line": {
          "color": "rgb(0,255,255)",
          "width": 2
         },
         "marker": {
          "color": "rgb(0,255,255)",
          "line": {
           "color": "rgb(0,255,255)"
          },
          "size": 6,
          "symbol": "circle"
         },
         "mode": "markers",
         "name": "",
         "showlegend": false,
         "type": "scatter",
         "visibility": true,
         "x": [
          5.9
         ],
         "xaxis": "x",
         "y": [
          9.999999999999999e-06
         ],
         "yaxis": "y"
        },
        {
         "line": {
          "color": "rgb(0,255,255)",
          "width": 2
         },
         "marker": {
          "color": "rgb(0,255,255)",
          "line": {
           "color": "rgb(0,255,255)"
          },
          "size": 6,
          "symbol": "circle"
         },
         "mode": "markers",
         "name": "",
         "showlegend": false,
         "type": "scatter",
         "visibility": true,
         "x": [
          6
         ],
         "xaxis": "x",
         "y": [
          9.999999999999999e-06
         ],
         "yaxis": "y"
        },
        {
         "line": {
          "color": "rgb(0,255,255)",
          "width": 2
         },
         "marker": {
          "color": "rgb(0,255,255)",
          "line": {
           "color": "rgb(0,255,255)"
          },
          "size": 6,
          "symbol": "circle"
         },
         "mode": "markers",
         "name": "",
         "showlegend": false,
         "type": "scatter",
         "visibility": true,
         "x": [
          6.1000000000000005
         ],
         "xaxis": "x",
         "y": [
          9.999999999999999e-06
         ],
         "yaxis": "y"
        },
        {
         "line": {
          "color": "rgb(0,255,255)",
          "width": 2
         },
         "marker": {
          "color": "rgb(0,255,255)",
          "line": {
           "color": "rgb(0,255,255)"
          },
          "size": 6,
          "symbol": "circle"
         },
         "mode": "markers",
         "name": "",
         "showlegend": false,
         "type": "scatter",
         "visibility": true,
         "x": [
          6.2
         ],
         "xaxis": "x",
         "y": [
          9.999999999999999e-06
         ],
         "yaxis": "y"
        },
        {
         "line": {
          "color": "rgb(0,255,255)",
          "width": 2
         },
         "marker": {
          "color": "rgb(0,255,255)",
          "line": {
           "color": "rgb(0,255,255)"
          },
          "size": 6,
          "symbol": "circle"
         },
         "mode": "markers",
         "name": "",
         "showlegend": false,
         "type": "scatter",
         "visibility": true,
         "x": [
          6.300000000000001
         ],
         "xaxis": "x",
         "y": [
          9.999999999999999e-06
         ],
         "yaxis": "y"
        },
        {
         "line": {
          "color": "rgb(0,255,255)",
          "width": 2
         },
         "marker": {
          "color": "rgb(0,255,255)",
          "line": {
           "color": "rgb(0,255,255)"
          },
          "size": 6,
          "symbol": "circle"
         },
         "mode": "markers",
         "name": "",
         "showlegend": false,
         "type": "scatter",
         "visibility": true,
         "x": [
          6.4
         ],
         "xaxis": "x",
         "y": [
          9.999999999999999e-06
         ],
         "yaxis": "y"
        },
        {
         "line": {
          "color": "rgb(0,255,255)",
          "width": 2
         },
         "marker": {
          "color": "rgb(0,255,255)",
          "line": {
           "color": "rgb(0,255,255)"
          },
          "size": 6,
          "symbol": "circle"
         },
         "mode": "markers",
         "name": "",
         "showlegend": false,
         "type": "scatter",
         "visibility": true,
         "x": [
          6.5
         ],
         "xaxis": "x",
         "y": [
          9.999999999999999e-06
         ],
         "yaxis": "y"
        },
        {
         "line": {
          "color": "rgb(0,255,255)",
          "width": 2
         },
         "marker": {
          "color": "rgb(0,255,255)",
          "line": {
           "color": "rgb(0,255,255)"
          },
          "size": 6,
          "symbol": "circle"
         },
         "mode": "markers",
         "name": "",
         "showlegend": false,
         "type": "scatter",
         "visibility": true,
         "x": [
          6.6000000000000005
         ],
         "xaxis": "x",
         "y": [
          9.999999999999999e-06
         ],
         "yaxis": "y"
        },
        {
         "line": {
          "color": "rgb(0,255,255)",
          "width": 2
         },
         "marker": {
          "color": "rgb(0,255,255)",
          "line": {
           "color": "rgb(0,255,255)"
          },
          "size": 6,
          "symbol": "circle"
         },
         "mode": "markers",
         "name": "",
         "showlegend": false,
         "type": "scatter",
         "visibility": true,
         "x": [
          6.7
         ],
         "xaxis": "x",
         "y": [
          9.999999999999999e-06
         ],
         "yaxis": "y"
        },
        {
         "line": {
          "color": "rgb(0,255,255)",
          "width": 2
         },
         "marker": {
          "color": "rgb(0,255,255)",
          "line": {
           "color": "rgb(0,255,255)"
          },
          "size": 6,
          "symbol": "circle"
         },
         "mode": "markers",
         "name": "",
         "showlegend": false,
         "type": "scatter",
         "visibility": true,
         "x": [
          6.800000000000001
         ],
         "xaxis": "x",
         "y": [
          9.999999999999999e-06
         ],
         "yaxis": "y"
        },
        {
         "line": {
          "color": "rgb(0,255,255)",
          "width": 2
         },
         "marker": {
          "color": "rgb(0,255,255)",
          "line": {
           "color": "rgb(0,255,255)"
          },
          "size": 6,
          "symbol": "circle"
         },
         "mode": "markers",
         "name": "",
         "showlegend": false,
         "type": "scatter",
         "visibility": true,
         "x": [
          6.9
         ],
         "xaxis": "x",
         "y": [
          9.999999999999999e-06
         ],
         "yaxis": "y"
        },
        {
         "line": {
          "color": "rgb(0,255,255)",
          "width": 2
         },
         "marker": {
          "color": "rgb(0,255,255)",
          "line": {
           "color": "rgb(0,255,255)"
          },
          "size": 6,
          "symbol": "circle"
         },
         "mode": "markers",
         "name": "",
         "showlegend": false,
         "type": "scatter",
         "visibility": true,
         "x": [
          7
         ],
         "xaxis": "x",
         "y": [
          9.999999999999999e-06
         ],
         "yaxis": "y"
        },
        {
         "line": {
          "color": "rgb(0,255,255)",
          "width": 2
         },
         "marker": {
          "color": "rgb(0,255,255)",
          "line": {
           "color": "rgb(0,255,255)"
          },
          "size": 6,
          "symbol": "circle"
         },
         "mode": "markers",
         "name": "",
         "showlegend": false,
         "type": "scatter",
         "visibility": true,
         "x": [
          7.1000000000000005
         ],
         "xaxis": "x",
         "y": [
          9.999999999999999e-06
         ],
         "yaxis": "y"
        },
        {
         "line": {
          "color": "rgb(0,255,255)",
          "width": 2
         },
         "marker": {
          "color": "rgb(0,255,255)",
          "line": {
           "color": "rgb(0,255,255)"
          },
          "size": 6,
          "symbol": "circle"
         },
         "mode": "markers",
         "name": "",
         "showlegend": false,
         "type": "scatter",
         "visibility": true,
         "x": [
          7.2
         ],
         "xaxis": "x",
         "y": [
          9.999999999999999e-06
         ],
         "yaxis": "y"
        },
        {
         "line": {
          "color": "rgb(0,255,255)",
          "width": 2
         },
         "marker": {
          "color": "rgb(0,255,255)",
          "line": {
           "color": "rgb(0,255,255)"
          },
          "size": 6,
          "symbol": "circle"
         },
         "mode": "markers",
         "name": "",
         "showlegend": false,
         "type": "scatter",
         "visibility": true,
         "x": [
          7.300000000000001
         ],
         "xaxis": "x",
         "y": [
          9.999999999999999e-06
         ],
         "yaxis": "y"
        },
        {
         "line": {
          "color": "rgb(0,255,255)",
          "width": 2
         },
         "marker": {
          "color": "rgb(0,255,255)",
          "line": {
           "color": "rgb(0,255,255)"
          },
          "size": 6,
          "symbol": "circle"
         },
         "mode": "markers",
         "name": "",
         "showlegend": false,
         "type": "scatter",
         "visibility": true,
         "x": [
          7.4
         ],
         "xaxis": "x",
         "y": [
          9.999999999999999e-06
         ],
         "yaxis": "y"
        },
        {
         "line": {
          "color": "rgb(0,255,255)",
          "width": 2
         },
         "marker": {
          "color": "rgb(0,255,255)",
          "line": {
           "color": "rgb(0,255,255)"
          },
          "size": 6,
          "symbol": "circle"
         },
         "mode": "markers",
         "name": "",
         "showlegend": false,
         "type": "scatter",
         "visibility": true,
         "x": [
          7.5
         ],
         "xaxis": "x",
         "y": [
          9.999999999999999e-06
         ],
         "yaxis": "y"
        },
        {
         "line": {
          "color": "rgb(0,255,255)",
          "width": 2
         },
         "marker": {
          "color": "rgb(0,255,255)",
          "line": {
           "color": "rgb(0,255,255)"
          },
          "size": 6,
          "symbol": "circle"
         },
         "mode": "markers",
         "name": "",
         "showlegend": false,
         "type": "scatter",
         "visibility": true,
         "x": [
          7.6000000000000005
         ],
         "xaxis": "x",
         "y": [
          9.999999999999999e-06
         ],
         "yaxis": "y"
        },
        {
         "line": {
          "color": "rgb(0,255,255)",
          "width": 2
         },
         "marker": {
          "color": "rgb(0,255,255)",
          "line": {
           "color": "rgb(0,255,255)"
          },
          "size": 6,
          "symbol": "circle"
         },
         "mode": "markers",
         "name": "",
         "showlegend": false,
         "type": "scatter",
         "visibility": true,
         "x": [
          7.7
         ],
         "xaxis": "x",
         "y": [
          9.999999999999999e-06
         ],
         "yaxis": "y"
        },
        {
         "line": {
          "color": "rgb(0,255,255)",
          "width": 2
         },
         "marker": {
          "color": "rgb(0,255,255)",
          "line": {
           "color": "rgb(0,255,255)"
          },
          "size": 6,
          "symbol": "circle"
         },
         "mode": "markers",
         "name": "",
         "showlegend": false,
         "type": "scatter",
         "visibility": true,
         "x": [
          7.800000000000001
         ],
         "xaxis": "x",
         "y": [
          9.999999999999999e-06
         ],
         "yaxis": "y"
        },
        {
         "line": {
          "color": "rgb(0,255,255)",
          "width": 2
         },
         "marker": {
          "color": "rgb(0,255,255)",
          "line": {
           "color": "rgb(0,255,255)"
          },
          "size": 6,
          "symbol": "circle"
         },
         "mode": "markers",
         "name": "",
         "showlegend": false,
         "type": "scatter",
         "visibility": true,
         "x": [
          7.9
         ],
         "xaxis": "x",
         "y": [
          9.999999999999999e-06
         ],
         "yaxis": "y"
        },
        {
         "line": {
          "color": "rgb(0,255,255)",
          "width": 2
         },
         "marker": {
          "color": "rgb(0,255,255)",
          "line": {
           "color": "rgb(0,255,255)"
          },
          "size": 6,
          "symbol": "circle"
         },
         "mode": "markers",
         "name": "",
         "showlegend": false,
         "type": "scatter",
         "visibility": true,
         "x": [
          8
         ],
         "xaxis": "x",
         "y": [
          9.999999999999999e-06
         ],
         "yaxis": "y"
        },
        {
         "line": {
          "color": "rgb(0,255,255)",
          "width": 2
         },
         "marker": {
          "color": "rgb(0,255,255)",
          "line": {
           "color": "rgb(0,255,255)"
          },
          "size": 6,
          "symbol": "circle"
         },
         "mode": "markers",
         "name": "",
         "showlegend": false,
         "type": "scatter",
         "visibility": true,
         "x": [
          8.1
         ],
         "xaxis": "x",
         "y": [
          9.999999999999999e-06
         ],
         "yaxis": "y"
        },
        {
         "line": {
          "color": "rgb(0,255,255)",
          "width": 2
         },
         "marker": {
          "color": "rgb(0,255,255)",
          "line": {
           "color": "rgb(0,255,255)"
          },
          "size": 6,
          "symbol": "circle"
         },
         "mode": "markers",
         "name": "",
         "showlegend": false,
         "type": "scatter",
         "visibility": true,
         "x": [
          8.200000000000001
         ],
         "xaxis": "x",
         "y": [
          9.999999999999999e-06
         ],
         "yaxis": "y"
        },
        {
         "line": {
          "color": "rgb(0,255,255)",
          "width": 2
         },
         "marker": {
          "color": "rgb(0,255,255)",
          "line": {
           "color": "rgb(0,255,255)"
          },
          "size": 6,
          "symbol": "circle"
         },
         "mode": "markers",
         "name": "",
         "showlegend": false,
         "type": "scatter",
         "visibility": true,
         "x": [
          8.3
         ],
         "xaxis": "x",
         "y": [
          9.999999999999999e-06
         ],
         "yaxis": "y"
        },
        {
         "line": {
          "color": "rgb(0,255,255)",
          "width": 2
         },
         "marker": {
          "color": "rgb(0,255,255)",
          "line": {
           "color": "rgb(0,255,255)"
          },
          "size": 6,
          "symbol": "circle"
         },
         "mode": "markers",
         "name": "",
         "showlegend": false,
         "type": "scatter",
         "visibility": true,
         "x": [
          8.4
         ],
         "xaxis": "x",
         "y": [
          9.999999999999999e-06
         ],
         "yaxis": "y"
        },
        {
         "line": {
          "color": "rgb(0,255,255)",
          "width": 2
         },
         "marker": {
          "color": "rgb(0,255,255)",
          "line": {
           "color": "rgb(0,255,255)"
          },
          "size": 6,
          "symbol": "circle"
         },
         "mode": "markers",
         "name": "",
         "showlegend": false,
         "type": "scatter",
         "visibility": true,
         "x": [
          8.5
         ],
         "xaxis": "x",
         "y": [
          9.999999999999999e-06
         ],
         "yaxis": "y"
        },
        {
         "line": {
          "color": "rgb(0,255,255)",
          "width": 2
         },
         "marker": {
          "color": "rgb(0,255,255)",
          "line": {
           "color": "rgb(0,255,255)"
          },
          "size": 6,
          "symbol": "circle"
         },
         "mode": "markers",
         "name": "",
         "showlegend": false,
         "type": "scatter",
         "visibility": true,
         "x": [
          8.6
         ],
         "xaxis": "x",
         "y": [
          9.999999999999999e-06
         ],
         "yaxis": "y"
        },
        {
         "line": {
          "color": "rgb(0,255,255)",
          "width": 2
         },
         "marker": {
          "color": "rgb(0,255,255)",
          "line": {
           "color": "rgb(0,255,255)"
          },
          "size": 6,
          "symbol": "circle"
         },
         "mode": "markers",
         "name": "",
         "showlegend": false,
         "type": "scatter",
         "visibility": true,
         "x": [
          8.700000000000001
         ],
         "xaxis": "x",
         "y": [
          9.999999999999999e-06
         ],
         "yaxis": "y"
        },
        {
         "line": {
          "color": "rgb(0,255,255)",
          "width": 2
         },
         "marker": {
          "color": "rgb(0,255,255)",
          "line": {
           "color": "rgb(0,255,255)"
          },
          "size": 6,
          "symbol": "circle"
         },
         "mode": "markers",
         "name": "",
         "showlegend": false,
         "type": "scatter",
         "visibility": true,
         "x": [
          8.8
         ],
         "xaxis": "x",
         "y": [
          9.999999999999999e-06
         ],
         "yaxis": "y"
        },
        {
         "line": {
          "color": "rgb(0,255,255)",
          "width": 2
         },
         "marker": {
          "color": "rgb(0,255,255)",
          "line": {
           "color": "rgb(0,255,255)"
          },
          "size": 6,
          "symbol": "circle"
         },
         "mode": "markers",
         "name": "",
         "showlegend": false,
         "type": "scatter",
         "visibility": true,
         "x": [
          8.9
         ],
         "xaxis": "x",
         "y": [
          9.999999999999999e-06
         ],
         "yaxis": "y"
        },
        {
         "line": {
          "color": "rgb(0,255,255)",
          "width": 2
         },
         "marker": {
          "color": "rgb(0,255,255)",
          "line": {
           "color": "rgb(0,255,255)"
          },
          "size": 6,
          "symbol": "circle"
         },
         "mode": "markers",
         "name": "",
         "showlegend": false,
         "type": "scatter",
         "visibility": true,
         "x": [
          9
         ],
         "xaxis": "x",
         "y": [
          9.999999999999999e-06
         ],
         "yaxis": "y"
        },
        {
         "line": {
          "color": "rgb(0,255,255)",
          "width": 2
         },
         "marker": {
          "color": "rgb(0,255,255)",
          "line": {
           "color": "rgb(0,255,255)"
          },
          "size": 6,
          "symbol": "circle"
         },
         "mode": "markers",
         "name": "",
         "showlegend": false,
         "type": "scatter",
         "visibility": true,
         "x": [
          9.1
         ],
         "xaxis": "x",
         "y": [
          9.999999999999999e-06
         ],
         "yaxis": "y"
        },
        {
         "line": {
          "color": "rgb(0,255,255)",
          "width": 2
         },
         "marker": {
          "color": "rgb(0,255,255)",
          "line": {
           "color": "rgb(0,255,255)"
          },
          "size": 6,
          "symbol": "circle"
         },
         "mode": "markers",
         "name": "",
         "showlegend": false,
         "type": "scatter",
         "visibility": true,
         "x": [
          9.200000000000001
         ],
         "xaxis": "x",
         "y": [
          9.999999999999999e-06
         ],
         "yaxis": "y"
        },
        {
         "line": {
          "color": "rgb(0,255,255)",
          "width": 2
         },
         "marker": {
          "color": "rgb(0,255,255)",
          "line": {
           "color": "rgb(0,255,255)"
          },
          "size": 6,
          "symbol": "circle"
         },
         "mode": "markers",
         "name": "",
         "showlegend": false,
         "type": "scatter",
         "visibility": true,
         "x": [
          9.3
         ],
         "xaxis": "x",
         "y": [
          9.999999999999999e-06
         ],
         "yaxis": "y"
        },
        {
         "line": {
          "color": "rgb(0,255,255)",
          "width": 2
         },
         "marker": {
          "color": "rgb(0,255,255)",
          "line": {
           "color": "rgb(0,255,255)"
          },
          "size": 6,
          "symbol": "circle"
         },
         "mode": "markers",
         "name": "",
         "showlegend": false,
         "type": "scatter",
         "visibility": true,
         "x": [
          9.4
         ],
         "xaxis": "x",
         "y": [
          9.999999999999999e-06
         ],
         "yaxis": "y"
        },
        {
         "line": {
          "color": "rgb(0,255,255)",
          "width": 2
         },
         "marker": {
          "color": "rgb(0,255,255)",
          "line": {
           "color": "rgb(0,255,255)"
          },
          "size": 6,
          "symbol": "circle"
         },
         "mode": "markers",
         "name": "",
         "showlegend": false,
         "type": "scatter",
         "visibility": true,
         "x": [
          9.5
         ],
         "xaxis": "x",
         "y": [
          9.999999999999999e-06
         ],
         "yaxis": "y"
        },
        {
         "line": {
          "color": "rgb(0,255,255)",
          "width": 2
         },
         "marker": {
          "color": "rgb(0,255,255)",
          "line": {
           "color": "rgb(0,255,255)"
          },
          "size": 6,
          "symbol": "circle"
         },
         "mode": "markers",
         "name": "",
         "showlegend": false,
         "type": "scatter",
         "visibility": true,
         "x": [
          9.600000000000001
         ],
         "xaxis": "x",
         "y": [
          9.999999999999999e-06
         ],
         "yaxis": "y"
        },
        {
         "line": {
          "color": "rgb(0,255,255)",
          "width": 2
         },
         "marker": {
          "color": "rgb(0,255,255)",
          "line": {
           "color": "rgb(0,255,255)"
          },
          "size": 6,
          "symbol": "circle"
         },
         "mode": "markers",
         "name": "",
         "showlegend": false,
         "type": "scatter",
         "visibility": true,
         "x": [
          9.700000000000001
         ],
         "xaxis": "x",
         "y": [
          9.999999999999999e-06
         ],
         "yaxis": "y"
        },
        {
         "line": {
          "color": "rgb(0,255,255)",
          "width": 2
         },
         "marker": {
          "color": "rgb(0,255,255)",
          "line": {
           "color": "rgb(0,255,255)"
          },
          "size": 6,
          "symbol": "circle"
         },
         "mode": "markers",
         "name": "",
         "showlegend": false,
         "type": "scatter",
         "visibility": true,
         "x": [
          9.8
         ],
         "xaxis": "x",
         "y": [
          9.999999999999999e-06
         ],
         "yaxis": "y"
        },
        {
         "line": {
          "color": "rgb(0,255,255)",
          "width": 2
         },
         "marker": {
          "color": "rgb(0,255,255)",
          "line": {
           "color": "rgb(0,255,255)"
          },
          "size": 6,
          "symbol": "circle"
         },
         "mode": "markers",
         "name": "",
         "showlegend": false,
         "type": "scatter",
         "visibility": true,
         "x": [
          9.9
         ],
         "xaxis": "x",
         "y": [
          9.999999999999999e-06
         ],
         "yaxis": "y"
        },
        {
         "line": {
          "color": "rgb(0,255,255)",
          "width": 2
         },
         "marker": {
          "color": "rgb(0,255,255)",
          "line": {
           "color": "rgb(0,255,255)"
          },
          "size": 6,
          "symbol": "circle"
         },
         "mode": "markers",
         "name": "",
         "showlegend": false,
         "type": "scatter",
         "visibility": true,
         "x": [
          10
         ],
         "xaxis": "x",
         "y": [
          9.999999999999999e-06
         ],
         "yaxis": "y"
        },
        {
         "line": {
          "color": "rgb(0,255,255)",
          "width": 2
         },
         "marker": {
          "color": "rgb(0,255,255)",
          "line": {
           "color": "rgb(0,255,255)"
          },
          "size": 6,
          "symbol": "circle"
         },
         "mode": "markers",
         "name": "",
         "showlegend": false,
         "type": "scatter",
         "visibility": true,
         "x": [
          10.100000000000001
         ],
         "xaxis": "x",
         "y": [
          9.999999999999999e-06
         ],
         "yaxis": "y"
        },
        {
         "line": {
          "color": "rgb(0,255,255)",
          "width": 2
         },
         "marker": {
          "color": "rgb(0,255,255)",
          "line": {
           "color": "rgb(0,255,255)"
          },
          "size": 6,
          "symbol": "circle"
         },
         "mode": "markers",
         "name": "",
         "showlegend": false,
         "type": "scatter",
         "visibility": true,
         "x": [
          10.200000000000001
         ],
         "xaxis": "x",
         "y": [
          9.999999999999999e-06
         ],
         "yaxis": "y"
        },
        {
         "line": {
          "color": "rgb(0,255,255)",
          "width": 2
         },
         "marker": {
          "color": "rgb(0,255,255)",
          "line": {
           "color": "rgb(0,255,255)"
          },
          "size": 6,
          "symbol": "circle"
         },
         "mode": "markers",
         "name": "",
         "showlegend": false,
         "type": "scatter",
         "visibility": true,
         "x": [
          10.3
         ],
         "xaxis": "x",
         "y": [
          9.999999999999999e-06
         ],
         "yaxis": "y"
        },
        {
         "line": {
          "color": "rgb(0,255,255)",
          "width": 2
         },
         "marker": {
          "color": "rgb(0,255,255)",
          "line": {
           "color": "rgb(0,255,255)"
          },
          "size": 6,
          "symbol": "circle"
         },
         "mode": "markers",
         "name": "",
         "showlegend": false,
         "type": "scatter",
         "visibility": true,
         "x": [
          10.4
         ],
         "xaxis": "x",
         "y": [
          9.999999999999999e-06
         ],
         "yaxis": "y"
        },
        {
         "line": {
          "color": "rgb(0,255,255)",
          "width": 2
         },
         "marker": {
          "color": "rgb(0,255,255)",
          "line": {
           "color": "rgb(0,255,255)"
          },
          "size": 6,
          "symbol": "circle"
         },
         "mode": "markers",
         "name": "",
         "showlegend": false,
         "type": "scatter",
         "visibility": true,
         "x": [
          10.5
         ],
         "xaxis": "x",
         "y": [
          9.999999999999999e-06
         ],
         "yaxis": "y"
        },
        {
         "line": {
          "color": "rgb(0,255,255)",
          "width": 2
         },
         "marker": {
          "color": "rgb(0,255,255)",
          "line": {
           "color": "rgb(0,255,255)"
          },
          "size": 6,
          "symbol": "circle"
         },
         "mode": "markers",
         "name": "",
         "showlegend": false,
         "type": "scatter",
         "visibility": true,
         "x": [
          10.600000000000001
         ],
         "xaxis": "x",
         "y": [
          9.999999999999999e-06
         ],
         "yaxis": "y"
        },
        {
         "line": {
          "color": "rgb(0,255,255)",
          "width": 2
         },
         "marker": {
          "color": "rgb(0,255,255)",
          "line": {
           "color": "rgb(0,255,255)"
          },
          "size": 6,
          "symbol": "circle"
         },
         "mode": "markers",
         "name": "",
         "showlegend": false,
         "type": "scatter",
         "visibility": true,
         "x": [
          10.700000000000001
         ],
         "xaxis": "x",
         "y": [
          9.999999999999999e-06
         ],
         "yaxis": "y"
        },
        {
         "line": {
          "color": "rgb(0,255,255)",
          "width": 2
         },
         "marker": {
          "color": "rgb(0,255,255)",
          "line": {
           "color": "rgb(0,255,255)"
          },
          "size": 6,
          "symbol": "circle"
         },
         "mode": "markers",
         "name": "",
         "showlegend": false,
         "type": "scatter",
         "visibility": true,
         "x": [
          10.8
         ],
         "xaxis": "x",
         "y": [
          9.999999999999999e-06
         ],
         "yaxis": "y"
        },
        {
         "line": {
          "color": "rgb(0,255,255)",
          "width": 2
         },
         "marker": {
          "color": "rgb(0,255,255)",
          "line": {
           "color": "rgb(0,255,255)"
          },
          "size": 6,
          "symbol": "circle"
         },
         "mode": "markers",
         "name": "",
         "showlegend": false,
         "type": "scatter",
         "visibility": true,
         "x": [
          10.9
         ],
         "xaxis": "x",
         "y": [
          9.999999999999999e-06
         ],
         "yaxis": "y"
        },
        {
         "line": {
          "color": "rgb(0,255,255)",
          "width": 2
         },
         "marker": {
          "color": "rgb(0,255,255)",
          "line": {
           "color": "rgb(0,255,255)"
          },
          "size": 6,
          "symbol": "circle"
         },
         "mode": "markers",
         "name": "",
         "showlegend": false,
         "type": "scatter",
         "visibility": true,
         "x": [
          11
         ],
         "xaxis": "x",
         "y": [
          9.999999999999999e-06
         ],
         "yaxis": "y"
        },
        {
         "line": {
          "color": "rgb(0,255,255)",
          "width": 2
         },
         "marker": {
          "color": "rgb(0,255,255)",
          "line": {
           "color": "rgb(0,255,255)"
          },
          "size": 6,
          "symbol": "circle"
         },
         "mode": "markers",
         "name": "",
         "showlegend": false,
         "type": "scatter",
         "visibility": true,
         "x": [
          11.100000000000001
         ],
         "xaxis": "x",
         "y": [
          9.999999999999999e-06
         ],
         "yaxis": "y"
        },
        {
         "line": {
          "color": "rgb(0,255,255)",
          "width": 2
         },
         "marker": {
          "color": "rgb(0,255,255)",
          "line": {
           "color": "rgb(0,255,255)"
          },
          "size": 6,
          "symbol": "circle"
         },
         "mode": "markers",
         "name": "",
         "showlegend": false,
         "type": "scatter",
         "visibility": true,
         "x": [
          11.200000000000001
         ],
         "xaxis": "x",
         "y": [
          9.999999999999999e-06
         ],
         "yaxis": "y"
        },
        {
         "line": {
          "color": "rgb(0,255,255)",
          "width": 2
         },
         "marker": {
          "color": "rgb(0,255,255)",
          "line": {
           "color": "rgb(0,255,255)"
          },
          "size": 6,
          "symbol": "circle"
         },
         "mode": "markers",
         "name": "",
         "showlegend": false,
         "type": "scatter",
         "visibility": true,
         "x": [
          11.3
         ],
         "xaxis": "x",
         "y": [
          9.999999999999999e-06
         ],
         "yaxis": "y"
        },
        {
         "line": {
          "color": "rgb(0,255,255)",
          "width": 2
         },
         "marker": {
          "color": "rgb(0,255,255)",
          "line": {
           "color": "rgb(0,255,255)"
          },
          "size": 6,
          "symbol": "circle"
         },
         "mode": "markers",
         "name": "",
         "showlegend": false,
         "type": "scatter",
         "visibility": true,
         "x": [
          11.4
         ],
         "xaxis": "x",
         "y": [
          9.999999999999999e-06
         ],
         "yaxis": "y"
        },
        {
         "line": {
          "color": "rgb(0,255,255)",
          "width": 2
         },
         "marker": {
          "color": "rgb(0,255,255)",
          "line": {
           "color": "rgb(0,255,255)"
          },
          "size": 6,
          "symbol": "circle"
         },
         "mode": "markers",
         "name": "",
         "showlegend": false,
         "type": "scatter",
         "visibility": true,
         "x": [
          11.5
         ],
         "xaxis": "x",
         "y": [
          9.999999999999999e-06
         ],
         "yaxis": "y"
        },
        {
         "line": {
          "color": "rgb(0,255,255)",
          "width": 2
         },
         "marker": {
          "color": "rgb(0,255,255)",
          "line": {
           "color": "rgb(0,255,255)"
          },
          "size": 6,
          "symbol": "circle"
         },
         "mode": "markers",
         "name": "",
         "showlegend": false,
         "type": "scatter",
         "visibility": true,
         "x": [
          11.600000000000001
         ],
         "xaxis": "x",
         "y": [
          9.999999999999999e-06
         ],
         "yaxis": "y"
        },
        {
         "line": {
          "color": "rgb(0,255,255)",
          "width": 2
         },
         "marker": {
          "color": "rgb(0,255,255)",
          "line": {
           "color": "rgb(0,255,255)"
          },
          "size": 6,
          "symbol": "circle"
         },
         "mode": "markers",
         "name": "",
         "showlegend": false,
         "type": "scatter",
         "visibility": true,
         "x": [
          11.700000000000001
         ],
         "xaxis": "x",
         "y": [
          9.999999999999999e-06
         ],
         "yaxis": "y"
        },
        {
         "line": {
          "color": "rgb(0,255,255)",
          "width": 2
         },
         "marker": {
          "color": "rgb(0,255,255)",
          "line": {
           "color": "rgb(0,255,255)"
          },
          "size": 6,
          "symbol": "circle"
         },
         "mode": "markers",
         "name": "",
         "showlegend": false,
         "type": "scatter",
         "visibility": true,
         "x": [
          11.8
         ],
         "xaxis": "x",
         "y": [
          9.999999999999999e-06
         ],
         "yaxis": "y"
        },
        {
         "line": {
          "color": "rgb(0,255,255)",
          "width": 2
         },
         "marker": {
          "color": "rgb(0,255,255)",
          "line": {
           "color": "rgb(0,255,255)"
          },
          "size": 6,
          "symbol": "circle"
         },
         "mode": "markers",
         "name": "",
         "showlegend": false,
         "type": "scatter",
         "visibility": true,
         "x": [
          11.9
         ],
         "xaxis": "x",
         "y": [
          9.999999999999999e-06
         ],
         "yaxis": "y"
        },
        {
         "line": {
          "color": "rgb(0,255,255)",
          "width": 2
         },
         "marker": {
          "color": "rgb(0,255,255)",
          "line": {
           "color": "rgb(0,255,255)"
          },
          "size": 6,
          "symbol": "circle"
         },
         "mode": "markers",
         "name": "",
         "showlegend": false,
         "type": "scatter",
         "visibility": true,
         "x": [
          12
         ],
         "xaxis": "x",
         "y": [
          9.999999999999999e-06
         ],
         "yaxis": "y"
        },
        {
         "line": {
          "color": "rgb(0,255,255)",
          "width": 2
         },
         "marker": {
          "color": "rgb(0,255,255)",
          "line": {
           "color": "rgb(0,255,255)"
          },
          "size": 6,
          "symbol": "circle"
         },
         "mode": "markers",
         "name": "",
         "showlegend": false,
         "type": "scatter",
         "visibility": true,
         "x": [
          12.100000000000001
         ],
         "xaxis": "x",
         "y": [
          9.999999999999999e-06
         ],
         "yaxis": "y"
        },
        {
         "line": {
          "color": "rgb(0,255,255)",
          "width": 2
         },
         "marker": {
          "color": "rgb(0,255,255)",
          "line": {
           "color": "rgb(0,255,255)"
          },
          "size": 6,
          "symbol": "circle"
         },
         "mode": "markers",
         "name": "",
         "showlegend": false,
         "type": "scatter",
         "visibility": true,
         "x": [
          12.200000000000001
         ],
         "xaxis": "x",
         "y": [
          9.999999999999999e-06
         ],
         "yaxis": "y"
        },
        {
         "line": {
          "color": "rgb(0,255,255)",
          "width": 2
         },
         "marker": {
          "color": "rgb(0,255,255)",
          "line": {
           "color": "rgb(0,255,255)"
          },
          "size": 6,
          "symbol": "circle"
         },
         "mode": "markers",
         "name": "",
         "showlegend": false,
         "type": "scatter",
         "visibility": true,
         "x": [
          12.3
         ],
         "xaxis": "x",
         "y": [
          9.999999999999999e-06
         ],
         "yaxis": "y"
        },
        {
         "line": {
          "color": "rgb(0,255,255)",
          "width": 2
         },
         "marker": {
          "color": "rgb(0,255,255)",
          "line": {
           "color": "rgb(0,255,255)"
          },
          "size": 6,
          "symbol": "circle"
         },
         "mode": "markers",
         "name": "",
         "showlegend": false,
         "type": "scatter",
         "visibility": true,
         "x": [
          12.4
         ],
         "xaxis": "x",
         "y": [
          9.999999999999999e-06
         ],
         "yaxis": "y"
        },
        {
         "line": {
          "color": "rgb(0,255,255)",
          "width": 2
         },
         "marker": {
          "color": "rgb(0,255,255)",
          "line": {
           "color": "rgb(0,255,255)"
          },
          "size": 6,
          "symbol": "circle"
         },
         "mode": "markers",
         "name": "",
         "showlegend": false,
         "type": "scatter",
         "visibility": true,
         "x": [
          12.5
         ],
         "xaxis": "x",
         "y": [
          9.999999999999999e-06
         ],
         "yaxis": "y"
        },
        {
         "line": {
          "color": "rgb(0,255,255)",
          "width": 2
         },
         "marker": {
          "color": "rgb(0,255,255)",
          "line": {
           "color": "rgb(0,255,255)"
          },
          "size": 6,
          "symbol": "circle"
         },
         "mode": "markers",
         "name": "",
         "showlegend": false,
         "type": "scatter",
         "visibility": true,
         "x": [
          12.600000000000001
         ],
         "xaxis": "x",
         "y": [
          9.999999999999999e-06
         ],
         "yaxis": "y"
        },
        {
         "line": {
          "color": "rgb(0,255,255)",
          "width": 2
         },
         "marker": {
          "color": "rgb(0,255,255)",
          "line": {
           "color": "rgb(0,255,255)"
          },
          "size": 6,
          "symbol": "circle"
         },
         "mode": "markers",
         "name": "",
         "showlegend": false,
         "type": "scatter",
         "visibility": true,
         "x": [
          12.700000000000001
         ],
         "xaxis": "x",
         "y": [
          9.999999999999999e-06
         ],
         "yaxis": "y"
        },
        {
         "line": {
          "color": "rgb(0,255,255)",
          "width": 2
         },
         "marker": {
          "color": "rgb(0,255,255)",
          "line": {
           "color": "rgb(0,255,255)"
          },
          "size": 6,
          "symbol": "circle"
         },
         "mode": "markers",
         "name": "",
         "showlegend": false,
         "type": "scatter",
         "visibility": true,
         "x": [
          12.8
         ],
         "xaxis": "x",
         "y": [
          9.999999999999999e-06
         ],
         "yaxis": "y"
        },
        {
         "line": {
          "color": "rgb(0,255,255)",
          "width": 2
         },
         "marker": {
          "color": "rgb(0,255,255)",
          "line": {
           "color": "rgb(0,255,255)"
          },
          "size": 6,
          "symbol": "circle"
         },
         "mode": "markers",
         "name": "",
         "showlegend": false,
         "type": "scatter",
         "visibility": true,
         "x": [
          12.9
         ],
         "xaxis": "x",
         "y": [
          9.999999999999999e-06
         ],
         "yaxis": "y"
        },
        {
         "line": {
          "color": "rgb(0,255,255)",
          "width": 2
         },
         "marker": {
          "color": "rgb(0,255,255)",
          "line": {
           "color": "rgb(0,255,255)"
          },
          "size": 6,
          "symbol": "circle"
         },
         "mode": "markers",
         "name": "",
         "showlegend": false,
         "type": "scatter",
         "visibility": true,
         "x": [
          13
         ],
         "xaxis": "x",
         "y": [
          9.999999999999999e-06
         ],
         "yaxis": "y"
        },
        {
         "line": {
          "color": "rgb(0,255,255)",
          "width": 2
         },
         "marker": {
          "color": "rgb(0,255,255)",
          "line": {
           "color": "rgb(0,255,255)"
          },
          "size": 6,
          "symbol": "circle"
         },
         "mode": "markers",
         "name": "",
         "showlegend": false,
         "type": "scatter",
         "visibility": true,
         "x": [
          13.100000000000001
         ],
         "xaxis": "x",
         "y": [
          9.999999999999999e-06
         ],
         "yaxis": "y"
        },
        {
         "line": {
          "color": "rgb(0,255,255)",
          "width": 2
         },
         "marker": {
          "color": "rgb(0,255,255)",
          "line": {
           "color": "rgb(0,255,255)"
          },
          "size": 6,
          "symbol": "circle"
         },
         "mode": "markers",
         "name": "",
         "showlegend": false,
         "type": "scatter",
         "visibility": true,
         "x": [
          13.200000000000001
         ],
         "xaxis": "x",
         "y": [
          9.999999999999999e-06
         ],
         "yaxis": "y"
        },
        {
         "line": {
          "color": "rgb(0,255,255)",
          "width": 2
         },
         "marker": {
          "color": "rgb(0,255,255)",
          "line": {
           "color": "rgb(0,255,255)"
          },
          "size": 6,
          "symbol": "circle"
         },
         "mode": "markers",
         "name": "",
         "showlegend": false,
         "type": "scatter",
         "visibility": true,
         "x": [
          13.3
         ],
         "xaxis": "x",
         "y": [
          9.999999999999999e-06
         ],
         "yaxis": "y"
        },
        {
         "line": {
          "color": "rgb(0,255,255)",
          "width": 2
         },
         "marker": {
          "color": "rgb(0,255,255)",
          "line": {
           "color": "rgb(0,255,255)"
          },
          "size": 6,
          "symbol": "circle"
         },
         "mode": "markers",
         "name": "",
         "showlegend": false,
         "type": "scatter",
         "visibility": true,
         "x": [
          13.4
         ],
         "xaxis": "x",
         "y": [
          9.999999999999999e-06
         ],
         "yaxis": "y"
        },
        {
         "line": {
          "color": "rgb(0,255,255)",
          "width": 2
         },
         "marker": {
          "color": "rgb(0,255,255)",
          "line": {
           "color": "rgb(0,255,255)"
          },
          "size": 6,
          "symbol": "circle"
         },
         "mode": "markers",
         "name": "",
         "showlegend": false,
         "type": "scatter",
         "visibility": true,
         "x": [
          13.5
         ],
         "xaxis": "x",
         "y": [
          9.999999999999999e-06
         ],
         "yaxis": "y"
        },
        {
         "line": {
          "color": "rgb(0,255,255)",
          "width": 2
         },
         "marker": {
          "color": "rgb(0,255,255)",
          "line": {
           "color": "rgb(0,255,255)"
          },
          "size": 6,
          "symbol": "circle"
         },
         "mode": "markers",
         "name": "",
         "showlegend": false,
         "type": "scatter",
         "visibility": true,
         "x": [
          13.600000000000001
         ],
         "xaxis": "x",
         "y": [
          9.999999999999999e-06
         ],
         "yaxis": "y"
        },
        {
         "line": {
          "color": "rgb(0,255,255)",
          "width": 2
         },
         "marker": {
          "color": "rgb(0,255,255)",
          "line": {
           "color": "rgb(0,255,255)"
          },
          "size": 6,
          "symbol": "circle"
         },
         "mode": "markers",
         "name": "",
         "showlegend": false,
         "type": "scatter",
         "visibility": true,
         "x": [
          13.700000000000001
         ],
         "xaxis": "x",
         "y": [
          9.999999999999999e-06
         ],
         "yaxis": "y"
        },
        {
         "line": {
          "color": "rgb(0,255,255)",
          "width": 2
         },
         "marker": {
          "color": "rgb(0,255,255)",
          "line": {
           "color": "rgb(0,255,255)"
          },
          "size": 6,
          "symbol": "circle"
         },
         "mode": "markers",
         "name": "",
         "showlegend": false,
         "type": "scatter",
         "visibility": true,
         "x": [
          13.8
         ],
         "xaxis": "x",
         "y": [
          9.999999999999999e-06
         ],
         "yaxis": "y"
        },
        {
         "line": {
          "color": "rgb(0,255,255)",
          "width": 2
         },
         "marker": {
          "color": "rgb(0,255,255)",
          "line": {
           "color": "rgb(0,255,255)"
          },
          "size": 6,
          "symbol": "circle"
         },
         "mode": "markers",
         "name": "",
         "showlegend": false,
         "type": "scatter",
         "visibility": true,
         "x": [
          13.9
         ],
         "xaxis": "x",
         "y": [
          9.999999999999999e-06
         ],
         "yaxis": "y"
        },
        {
         "line": {
          "color": "rgb(0,255,255)",
          "width": 2
         },
         "marker": {
          "color": "rgb(0,255,255)",
          "line": {
           "color": "rgb(0,255,255)"
          },
          "size": 6,
          "symbol": "circle"
         },
         "mode": "markers",
         "name": "",
         "showlegend": false,
         "type": "scatter",
         "visibility": true,
         "x": [
          14
         ],
         "xaxis": "x",
         "y": [
          9.999999999999999e-06
         ],
         "yaxis": "y"
        },
        {
         "line": {
          "color": "rgb(255,0,0)",
          "dash": "solid",
          "width": 2
         },
         "marker": {
          "color": "rgb(255,0,0)",
          "line": {
           "color": "rgb(255,0,0)"
          },
          "size": 6,
          "symbol": "none"
         },
         "mode": "lines",
         "name": "",
         "showlegend": false,
         "type": "scatter",
         "visibility": true,
         "x": [
          0,
          0.1,
          0.2,
          0.30000000000000004,
          0.4,
          0.5,
          0.6000000000000001,
          0.7000000000000001,
          0.8,
          0.9,
          1,
          1.1,
          1.2000000000000002,
          1.3,
          1.4000000000000001,
          1.5,
          1.6,
          1.7000000000000002,
          1.8,
          1.9000000000000001,
          2,
          2.1,
          2.2,
          2.3000000000000003,
          2.4000000000000004,
          2.5,
          2.6,
          2.7,
          2.8000000000000003,
          2.9000000000000004,
          3,
          3.1,
          3.2,
          3.3000000000000003,
          3.4000000000000004,
          3.5,
          3.6,
          3.7,
          3.8000000000000003,
          3.9000000000000004,
          4,
          4.1000000000000005,
          4.2,
          4.3,
          4.4,
          4.5,
          4.6000000000000005,
          4.7,
          4.800000000000001,
          4.9,
          5,
          5.1000000000000005,
          5.2,
          5.300000000000001,
          5.4,
          5.5,
          5.6000000000000005,
          5.7,
          5.800000000000001,
          5.9,
          6,
          6.1000000000000005,
          6.2,
          6.300000000000001,
          6.4,
          6.5,
          6.6000000000000005,
          6.7,
          6.800000000000001,
          6.9,
          7,
          7.1000000000000005,
          7.2,
          7.300000000000001,
          7.4,
          7.5,
          7.6000000000000005,
          7.7,
          7.800000000000001,
          7.9,
          8,
          8.1,
          8.200000000000001,
          8.3,
          8.4,
          8.5,
          8.6,
          8.700000000000001,
          8.8,
          8.9,
          9,
          9.1,
          9.200000000000001,
          9.3,
          9.4,
          9.5,
          9.600000000000001,
          9.700000000000001,
          9.8,
          9.9,
          10,
          10.100000000000001,
          10.200000000000001,
          10.3,
          10.4,
          10.5,
          10.600000000000001,
          10.700000000000001,
          10.8,
          10.9,
          11,
          11.100000000000001,
          11.200000000000001,
          11.3,
          11.4,
          11.5,
          11.600000000000001,
          11.700000000000001,
          11.8,
          11.9,
          12,
          12.100000000000001,
          12.200000000000001,
          12.3,
          12.4,
          12.5,
          12.600000000000001,
          12.700000000000001,
          12.8,
          12.9,
          13,
          13.100000000000001,
          13.200000000000001,
          13.3,
          13.4,
          13.5,
          13.600000000000001,
          13.700000000000001,
          13.8,
          13.9,
          14
         ],
         "xaxis": "x",
         "y": [
          5.011872336272724e-12,
          6.3095734448019345e-12,
          7.943282347242818e-12,
          1.0000000000000004e-11,
          1.2589254117941678e-11,
          1.584893192461114e-11,
          1.9952623149688806e-11,
          2.5118864315095813e-11,
          3.162277660168381e-11,
          3.9810717055349734e-11,
          5.011872336272724e-11,
          6.309573444801936e-11,
          7.94328234724282e-11,
          1.0000000000000004e-10,
          1.258925411794168e-10,
          1.584893192461114e-10,
          1.9952623149688808e-10,
          2.511886431509582e-10,
          3.1622776601683806e-10,
          3.981071705534975e-10,
          5.011872336272725e-10,
          6.309573444801935e-10,
          7.94328234724282e-10,
          1.0000000000000009e-09,
          1.2589254117941687e-09,
          1.584893192461114e-09,
          1.9952623149688807e-09,
          2.5118864315095816e-09,
          3.162277660168382e-09,
          3.981071705534977e-09,
          5.011872336272725e-09,
          6.309573444801936e-09,
          7.94328234724282e-09,
          1.0000000000000008e-08,
          1.2589254117941686e-08,
          1.584893192461114e-08,
          1.9952623149688806e-08,
          2.511886431509582e-08,
          3.162277660168382e-08,
          3.9810717055349776e-08,
          5.011872336272724e-08,
          6.309573444801942e-08,
          7.943282347242822e-08,
          9.999999999999998e-08,
          1.2589254117941685e-07,
          1.5848931924611138e-07,
          1.9952623149688827e-07,
          2.5118864315095823e-07,
          3.1622776601683855e-07,
          3.981071705534977e-07,
          5.011872336272724e-07,
          6.309573444801942e-07,
          7.943282347242821e-07,
          1.0000000000000019e-06,
          1.2589254117941687e-06,
          1.584893192461114e-06,
          1.9952623149688825e-06,
          2.511886431509582e-06,
          3.1622776601683855e-06,
          3.981071705534977e-06,
          5.011872336272725e-06,
          6.309573444801942e-06,
          7.943282347242822e-06,
          1.000000000000002e-05,
          1.2589254117941687e-05,
          1.584893192461114e-05,
          1.9952623149688827e-05,
          2.511886431509582e-05,
          3.1622776601683856e-05,
          3.981071705534977e-05,
          5.0118723362727245e-05,
          6.309573444801943e-05,
          7.943282347242821e-05,
          0.0001000000000000002,
          0.00012589254117941688,
          0.0001584893192461114,
          0.00019952623149688826,
          0.0002511886431509582,
          0.00031622776601683854,
          0.00039810717055349773,
          0.0005011872336272724,
          0.0006309573444801929,
          0.0007943282347242837,
          0.001000000000000002,
          0.0012589254117941688,
          0.0015848931924611139,
          0.001995262314968879,
          0.0025118864315095872,
          0.0031622776601683855,
          0.003981071705534977,
          0.005011872336272724,
          0.006309573444801929,
          0.007943282347242838,
          0.01000000000000002,
          0.012589254117941685,
          0.015848931924611138,
          0.019952623149688868,
          0.025118864315095867,
          0.031622776601683854,
          0.03981071705534977,
          0.05011872336272724,
          0.06309573444801955,
          0.07943282347242837,
          0.10000000000000019,
          0.12589254117941687,
          0.1584893192461114,
          0.19952623149688867,
          0.2511886431509587,
          0.31622776601683855,
          0.3981071705534977,
          0.5011872336272725,
          0.6309573444801955,
          0.7943282347242837,
          1.000000000000002,
          1.2589254117941686,
          1.5848931924611138,
          1.9952623149688868,
          2.5118864315095872,
          3.1622776601683853,
          3.981071705534977,
          5.011872336272725,
          6.309573444801955,
          7.943282347242837,
          10.00000000000002,
          12.589254117941687,
          15.84893192461114,
          19.95262314968887,
          25.11886431509587,
          31.622776601683853,
          39.81071705534977,
          50.118723362727245,
          63.09573444801955,
          79.43282347242838,
          100.0000000000002,
          125.89254117941685,
          158.4893192461114,
          199.52623149688867,
          251.1886431509587,
          316.22776601683853,
          398.1071705534977,
          501.18723362727246
         ],
         "yaxis": "y"
        },
        {
         "line": {
          "color": "rgb(0, 0, 0)",
          "dash": "solid",
          "width": 2
         },
         "marker": {
          "color": "rgb(0, 0, 0)",
          "line": {
           "color": "rgb(0, 0, 0)"
          },
          "size": 6,
          "symbol": "none"
         },
         "mode": "lines",
         "name": "",
         "showlegend": false,
         "type": "scatter",
         "visibility": true,
         "x": [
          0,
          0.1,
          0.2,
          0.30000000000000004,
          0.4,
          0.5,
          0.6000000000000001,
          0.7000000000000001,
          0.8,
          0.9,
          1,
          1.1,
          1.2000000000000002,
          1.3,
          1.4000000000000001,
          1.5,
          1.6,
          1.7000000000000002,
          1.8,
          1.9000000000000001,
          2,
          2.1,
          2.2,
          2.3000000000000003,
          2.4000000000000004,
          2.5,
          2.6,
          2.7,
          2.8000000000000003,
          2.9000000000000004,
          3,
          3.1,
          3.2,
          3.3000000000000003,
          3.4000000000000004,
          3.5,
          3.6,
          3.7,
          3.8000000000000003,
          3.9000000000000004,
          4,
          4.1000000000000005,
          4.2,
          4.3,
          4.4,
          4.5,
          4.6000000000000005,
          4.7,
          4.800000000000001,
          4.9,
          5,
          5.1000000000000005,
          5.2,
          5.300000000000001,
          5.4,
          5.5,
          5.6000000000000005,
          5.7,
          5.800000000000001,
          5.9,
          6,
          6.1000000000000005,
          6.2,
          6.300000000000001,
          6.4,
          6.5,
          6.6000000000000005,
          6.7,
          6.800000000000001,
          6.9,
          7,
          7.1000000000000005,
          7.2,
          7.300000000000001,
          7.4,
          7.5,
          7.6000000000000005,
          7.7,
          7.800000000000001,
          7.9,
          8,
          8.1,
          8.200000000000001,
          8.3,
          8.4,
          8.5,
          8.6,
          8.700000000000001,
          8.8,
          8.9,
          9,
          9.1,
          9.200000000000001,
          9.3,
          9.4,
          9.5,
          9.600000000000001,
          9.700000000000001,
          9.8,
          9.9,
          10,
          10.100000000000001,
          10.200000000000001,
          10.3,
          10.4,
          10.5,
          10.600000000000001,
          10.700000000000001,
          10.8,
          10.9,
          11,
          11.100000000000001,
          11.200000000000001,
          11.3,
          11.4,
          11.5,
          11.600000000000001,
          11.700000000000001,
          11.8,
          11.9,
          12,
          12.100000000000001,
          12.200000000000001,
          12.3,
          12.4,
          12.5,
          12.600000000000001,
          12.700000000000001,
          12.8,
          12.9,
          13,
          13.100000000000001,
          13.200000000000001,
          13.3,
          13.4,
          13.5,
          13.600000000000001,
          13.700000000000001,
          13.8,
          13.9,
          14
         ],
         "xaxis": "x",
         "y": [
          2.511886431509577e-22,
          3.981071705534967e-22,
          6.309573444801925e-22,
          9.99999999999999e-22,
          1.5848931924611117e-21,
          2.5118864315095767e-21,
          3.981071705534969e-21,
          6.309573444801927e-21,
          9.999999999999987e-21,
          1.584893192461111e-20,
          2.5118864315095766e-20,
          3.9810717055349687e-20,
          6.309573444801929e-20,
          9.999999999999989e-20,
          1.5848931924611123e-19,
          2.511886431509577e-19,
          3.98107170553497e-19,
          6.30957344480193e-19,
          9.99999999999999e-19,
          1.5848931924611124e-18,
          2.5118864315095768e-18,
          3.981071705534968e-18,
          6.3095734448019285e-18,
          9.999999999999999e-18,
          1.584893192461114e-17,
          2.511886431509577e-17,
          3.981071705534969e-17,
          6.309573444801929e-17,
          9.999999999999999e-17,
          1.5848931924611143e-16,
          2.511886431509577e-16,
          3.9810717055349695e-16,
          6.309573444801929e-16,
          9.999999999999999e-16,
          1.5848931924611141e-15,
          2.5118864315095766e-15,
          3.981071705534969e-15,
          6.3095734448019295e-15,
          9.999999999999998e-15,
          1.5848931924611144e-14,
          2.5118864315095766e-14,
          3.981071705534976e-14,
          6.309573444801932e-14,
          9.999999999999978e-14,
          1.584893192461114e-13,
          2.5118864315095765e-13,
          3.981071705534977e-13,
          6.30957344480193e-13,
          1.0000000000000022e-12,
          1.5848931924611142e-12,
          2.5118864315095767e-12,
          3.981071705534977e-12,
          6.30957344480193e-12,
          1.0000000000000019e-11,
          1.584893192461114e-11,
          2.511886431509577e-11,
          3.9810717055349766e-11,
          6.30957344480193e-11,
          1.000000000000002e-10,
          1.584893192461114e-10,
          2.5118864315095773e-10,
          3.9810717055349776e-10,
          6.30957344480193e-10,
          1.000000000000002e-09,
          1.5848931924611142e-09,
          2.511886431509577e-09,
          3.981071705534977e-09,
          6.30957344480193e-09,
          1.000000000000002e-08,
          1.584893192461114e-08,
          2.511886431509577e-08,
          3.9810717055349776e-08,
          6.30957344480193e-08,
          1.0000000000000021e-07,
          1.5848931924611143e-07,
          2.511886431509577e-07,
          3.9810717055349766e-07,
          6.309573444801931e-07,
          1.000000000000002e-06,
          1.584893192461114e-06,
          2.5118864315095768e-06,
          3.981071705534961e-06,
          6.309573444801955e-06,
          1.000000000000002e-05,
          1.5848931924611145e-05,
          2.5118864315095768e-05,
          3.981071705534961e-05,
          6.309573444801956e-05,
          0.0001000000000000002,
          0.0001584893192461114,
          0.00025118864315095763,
          0.00039810717055349605,
          0.0006309573444801957,
          0.0010000000000000022,
          0.0015848931924611139,
          0.0025118864315095764,
          0.003981071705534994,
          0.006309573444801954,
          0.01000000000000002,
          0.01584893192461114,
          0.025118864315095767,
          0.039810717055349935,
          0.06309573444801957,
          0.10000000000000019,
          0.1584893192461114,
          0.2511886431509577,
          0.3981071705534993,
          0.6309573444801955,
          1.000000000000002,
          1.584893192461114,
          2.5118864315095775,
          3.9810717055349927,
          6.309573444801956,
          10.00000000000002,
          15.84893192461114,
          25.118864315095763,
          39.81071705534993,
          63.095734448019556,
          100.00000000000018,
          158.48931924611142,
          251.1886431509577,
          398.10717055349926,
          630.9573444801955,
          1000.000000000002,
          1584.8931924611143,
          2511.886431509577,
          3981.0717055349933,
          6309.573444801955,
          10000.00000000002,
          15848.931924611139,
          25118.86431509577,
          39810.71705534993,
          63095.734448019575,
          100000.0000000002,
          158489.31924611138,
          251188.64315095765,
          398107.17055349937,
          630957.3444801955,
          1000000.0000000019,
          1584893.1924611141,
          2511886.431509577
         ],
         "yaxis": "y"
        },
        {
         "line": {
          "color": "rgb(0,0,255)",
          "dash": "solid",
          "width": 2
         },
         "marker": {
          "color": "rgb(0,0,255)",
          "line": {
           "color": "rgb(0,0,255)"
          },
          "size": 6,
          "symbol": "none"
         },
         "mode": "lines",
         "name": "",
         "showlegend": false,
         "type": "scatter",
         "visibility": true,
         "x": [
          0,
          0.1,
          0.2,
          0.30000000000000004,
          0.4,
          0.5,
          0.6000000000000001,
          0.7000000000000001,
          0.8,
          0.9,
          1,
          1.1,
          1.2000000000000002,
          1.3,
          1.4000000000000001,
          1.5,
          1.6,
          1.7000000000000002,
          1.8,
          1.9000000000000001,
          2,
          2.1,
          2.2,
          2.3000000000000003,
          2.4000000000000004,
          2.5,
          2.6,
          2.7,
          2.8000000000000003,
          2.9000000000000004,
          3,
          3.1,
          3.2,
          3.3000000000000003,
          3.4000000000000004,
          3.5,
          3.6,
          3.7,
          3.8000000000000003,
          3.9000000000000004,
          4,
          4.1000000000000005,
          4.2,
          4.3,
          4.4,
          4.5,
          4.6000000000000005,
          4.7,
          4.800000000000001,
          4.9,
          5,
          5.1000000000000005,
          5.2,
          5.300000000000001,
          5.4,
          5.5,
          5.6000000000000005,
          5.7,
          5.800000000000001,
          5.9,
          6,
          6.1000000000000005,
          6.2,
          6.300000000000001,
          6.4,
          6.5,
          6.6000000000000005,
          6.7,
          6.800000000000001,
          6.9,
          7,
          7.1000000000000005,
          7.2,
          7.300000000000001,
          7.4,
          7.5,
          7.6000000000000005,
          7.7,
          7.800000000000001,
          7.9,
          8,
          8.1,
          8.200000000000001,
          8.3,
          8.4,
          8.5,
          8.6,
          8.700000000000001,
          8.8,
          8.9,
          9,
          9.1,
          9.200000000000001,
          9.3,
          9.4,
          9.5,
          9.600000000000001,
          9.700000000000001,
          9.8,
          9.9,
          10,
          10.100000000000001,
          10.200000000000001,
          10.3,
          10.4,
          10.5,
          10.600000000000001,
          10.700000000000001,
          10.8,
          10.9,
          11,
          11.100000000000001,
          11.200000000000001,
          11.3,
          11.4,
          11.5,
          11.600000000000001,
          11.700000000000001,
          11.8,
          11.9,
          12,
          12.100000000000001,
          12.200000000000001,
          12.3,
          12.4,
          12.5,
          12.600000000000001,
          12.700000000000001,
          12.8,
          12.9,
          13,
          13.100000000000001,
          13.200000000000001,
          13.3,
          13.4,
          13.5,
          13.600000000000001,
          13.700000000000001,
          13.8,
          13.9,
          14
         ],
         "xaxis": "x",
         "y": [
          1e-14,
          1.2589254117941673e-14,
          1.5848931924611135e-14,
          1.9952623149688797e-14,
          2.5118864315095804e-14,
          3.162277660168379e-14,
          3.981071705534973e-14,
          5.011872336272724e-14,
          6.309573444801933e-14,
          7.943282347242815e-14,
          9.999999999999999e-14,
          1.2589254117941673e-13,
          1.584893192461114e-13,
          1.99526231496888e-13,
          2.511886431509581e-13,
          3.1622776601683797e-13,
          3.9810717055349737e-13,
          5.011872336272725e-13,
          6.309573444801932e-13,
          7.943282347242818e-13,
          1e-12,
          1.2589254117941675e-12,
          1.584893192461114e-12,
          1.995262314968881e-12,
          2.5118864315095823e-12,
          3.1622776601683794e-12,
          3.9810717055349735e-12,
          5.011872336272724e-12,
          6.309573444801936e-12,
          7.943282347242821e-12,
          1e-11,
          1.2589254117941675e-11,
          1.5848931924611143e-11,
          1.995262314968881e-11,
          2.5118864315095823e-11,
          3.1622776601683794e-11,
          3.9810717055349734e-11,
          5.011872336272725e-11,
          6.309573444801936e-11,
          7.943282347242822e-11,
          9.999999999999999e-11,
          1.2589254117941687e-10,
          1.5848931924611142e-10,
          1.9952623149688787e-10,
          2.511886431509582e-10,
          3.162277660168379e-10,
          3.981071705534977e-10,
          5.011872336272726e-10,
          6.309573444801943e-10,
          7.943282347242822e-10,
          9.999999999999999e-10,
          1.2589254117941687e-09,
          1.5848931924611142e-09,
          1.9952623149688828e-09,
          2.5118864315095824e-09,
          3.1622776601683795e-09,
          3.981071705534977e-09,
          5.0118723362727255e-09,
          6.309573444801943e-09,
          7.943282347242822e-09,
          1e-08,
          1.2589254117941687e-08,
          1.5848931924611143e-08,
          1.995262314968883e-08,
          2.511886431509582e-08,
          3.162277660168379e-08,
          3.9810717055349776e-08,
          5.011872336272725e-08,
          6.309573444801943e-08,
          7.943282347242822e-08,
          1.0000000000000001e-07,
          1.2589254117941688e-07,
          1.584893192461114e-07,
          1.995262314968883e-07,
          2.5118864315095823e-07,
          3.1622776601683797e-07,
          3.981071705534977e-07,
          5.011872336272725e-07,
          6.309573444801942e-07,
          7.943282347242822e-07,
          1e-06,
          1.2589254117941661e-06,
          1.5848931924611173e-06,
          1.995262314968883e-06,
          2.5118864315095823e-06,
          3.162277660168379e-06,
          3.981071705534969e-06,
          5.011872336272736e-06,
          6.309573444801942e-06,
          7.943282347242822e-06,
          9.999999999999999e-06,
          1.2589254117941661e-05,
          1.5848931924611175e-05,
          1.995262314968883e-05,
          2.5118864315095822e-05,
          3.162277660168379e-05,
          3.981071705534986e-05,
          5.0118723362727346e-05,
          6.309573444801943e-05,
          7.943282347242822e-05,
          9.999999999999999e-05,
          0.00012589254117941712,
          0.00015848931924611174,
          0.00019952623149688828,
          0.0002511886431509582,
          0.00031622776601683794,
          0.00039810717055349854,
          0.0005011872336272735,
          0.0006309573444801943,
          0.0007943282347242822,
          0.001,
          0.0012589254117941714,
          0.0015848931924611173,
          0.001995262314968883,
          0.002511886431509582,
          0.0031622776601683794,
          0.0039810717055349856,
          0.005011872336272735,
          0.006309573444801942,
          0.007943282347242822,
          0.01,
          0.012589254117941713,
          0.015848931924611172,
          0.01995262314968883,
          0.025118864315095822,
          0.03162277660168379,
          0.03981071705534985,
          0.05011872336272735,
          0.06309573444801943,
          0.07943282347242821,
          0.09999999999999999,
          0.12589254117941712,
          0.15848931924611176,
          0.1995262314968883,
          0.25118864315095824,
          0.3162277660168379,
          0.39810717055349853,
          0.5011872336272736,
          0.6309573444801942,
          0.7943282347242822,
          1
         ],
         "yaxis": "y"
        },
        {
         "line": {
          "color": "rgb(255,255,0)",
          "dash": "solid",
          "width": 2
         },
         "marker": {
          "color": "rgb(255,255,0)",
          "line": {
           "color": "rgb(255,255,0)"
          },
          "size": 6,
          "symbol": "none"
         },
         "mode": "lines",
         "name": "",
         "showlegend": false,
         "type": "scatter",
         "visibility": true,
         "x": [
          0,
          0.1,
          0.2,
          0.30000000000000004,
          0.4,
          0.5,
          0.6000000000000001,
          0.7000000000000001,
          0.8,
          0.9,
          1,
          1.1,
          1.2000000000000002,
          1.3,
          1.4000000000000001,
          1.5,
          1.6,
          1.7000000000000002,
          1.8,
          1.9000000000000001,
          2,
          2.1,
          2.2,
          2.3000000000000003,
          2.4000000000000004,
          2.5,
          2.6,
          2.7,
          2.8000000000000003,
          2.9000000000000004,
          3,
          3.1,
          3.2,
          3.3000000000000003,
          3.4000000000000004,
          3.5,
          3.6,
          3.7,
          3.8000000000000003,
          3.9000000000000004,
          4,
          4.1000000000000005,
          4.2,
          4.3,
          4.4,
          4.5,
          4.6000000000000005,
          4.7,
          4.800000000000001,
          4.9,
          5,
          5.1000000000000005,
          5.2,
          5.300000000000001,
          5.4,
          5.5,
          5.6000000000000005,
          5.7,
          5.800000000000001,
          5.9,
          6,
          6.1000000000000005,
          6.2,
          6.300000000000001,
          6.4,
          6.5,
          6.6000000000000005,
          6.7,
          6.800000000000001,
          6.9,
          7,
          7.1000000000000005,
          7.2,
          7.300000000000001,
          7.4,
          7.5,
          7.6000000000000005,
          7.7,
          7.800000000000001,
          7.9,
          8,
          8.1,
          8.200000000000001,
          8.3,
          8.4,
          8.5,
          8.6,
          8.700000000000001,
          8.8,
          8.9,
          9,
          9.1,
          9.200000000000001,
          9.3,
          9.4,
          9.5,
          9.600000000000001,
          9.700000000000001,
          9.8,
          9.9,
          10,
          10.100000000000001,
          10.200000000000001,
          10.3,
          10.4,
          10.5,
          10.600000000000001,
          10.700000000000001,
          10.8,
          10.9,
          11,
          11.100000000000001,
          11.200000000000001,
          11.3,
          11.4,
          11.5,
          11.600000000000001,
          11.700000000000001,
          11.8,
          11.9,
          12,
          12.100000000000001,
          12.200000000000001,
          12.3,
          12.4,
          12.5,
          12.600000000000001,
          12.700000000000001,
          12.8,
          12.9,
          13,
          13.100000000000001,
          13.200000000000001,
          13.3,
          13.4,
          13.5,
          13.600000000000001,
          13.700000000000001,
          13.8,
          13.9,
          14
         ],
         "xaxis": "x",
         "y": [
          null,
          null,
          null,
          null,
          null,
          null,
          null,
          null,
          null,
          null,
          null,
          null,
          null,
          null,
          null,
          null,
          null,
          null,
          null,
          null,
          null,
          null,
          null,
          null,
          null,
          null,
          null,
          null,
          null,
          null,
          null,
          null,
          null,
          null,
          null,
          null,
          null,
          null,
          null,
          null,
          null,
          null,
          null,
          null,
          null,
          null,
          null,
          null,
          null,
          null,
          null,
          null,
          null,
          null,
          null,
          null,
          null,
          2.608810901729359e-07,
          7.919470205760384e-07,
          1.3652032773632725e-06,
          2.0111873567795136e-06,
          2.764315339268355e-06,
          3.6647179246880995e-06,
          4.760382694761218e-06,
          6.109717799044104e-06,
          7.784675354029504e-06,
          9.874603683502144e-06,
          1.249103797692563e-05,
          1.5773691508442883e-05,
          1.9897977600746e-05,
          2.508448054567872e-05,
          3.161090779991856e-05,
          3.9827204263061174e-05,
          5.017470375406718e-05,
          6.321044887200235e-05,
          7.963815076091422e-05,
          0.00010034771707211682,
          0.00012646589622519812,
          0.00015942143721469707,
          0.00020102934795951312,
          0.0002536005032451458,
          0.0003200852350103549,
          0.000404262982616452,
          0.0005109951252213173,
          0.0006465655905015975,
          0.0008191450182369068,
          0.0010394311544493409,
          0.001321543888739792,
          0.0016842928243599978,
          0.002152996183724515,
          0.002762124311287319,
          0.003559188122849314,
          0.0046105226685852485,
          0.006009976060981239,
          0.007892079484535918,
          0.010452163624002104,
          0.013977288513312782,
          0.018894064864268135,
          0.025842936088821298,
          0.035794006801075966,
          0.05022822594645939,
          0.07142153051023302,
          0.10289139081230896,
          0.15009976309068934,
          0.22156118413748996,
          0.3305914166412104,
          0.49806933987466095,
          0.7568022596625121,
          1.1584293616727368,
          1.7843439418489306,
          2.7629800483182136,
          4.297179840477016,
          6.707530008757173,
          10.500997631154998,
          16.47965057372199,
          25.912892050154824,
          40.810338748685886,
          64.35418359994149,
          101.58429361680598,
          160.4838267400519,
          253.69957931909354,
          401.2682519029588,
          634.9369101197789,
          1005.0099763115767,
          1591.2003789522425,
          2519.8267088601833,
          3991.0679224683654,
          6322.157936321184,
          10015.842936168086,
          15868.87699955055,
          25143.973676777132,
          39842.32786884453,
          63135.53010441541,
          100050.09976311596,
          158552.39111102268,
          251268.04592446372,
          398207.1327228331,
          631083.1893953879,
          1000158.4293616825,
          1585092.6432105082,
          2512137.5251263906
         ],
         "yaxis": "y"
        },
        {
         "line": {
          "color": "rgb(0, 0, 0)",
          "dash": "dashdot",
          "width": 2
         },
         "marker": {
          "color": "rgb(0, 0, 0)",
          "line": {
           "color": "rgb(0, 0, 0)"
          },
          "size": 6,
          "symbol": "none"
         },
         "mode": "lines",
         "name": "",
         "showlegend": false,
         "type": "scatter",
         "visibility": true,
         "x": [
          6.3,
          6.3
         ],
         "xaxis": "x",
         "y": [
          1e-10,
          100000
         ],
         "yaxis": "y"
        },
        {
         "line": {
          "color": "rgb(0, 0, 0)",
          "dash": "dashdot",
          "width": 2
         },
         "marker": {
          "color": "rgb(0, 0, 0)",
          "line": {
           "color": "rgb(0, 0, 0)"
          },
          "size": 6,
          "symbol": "none"
         },
         "mode": "lines",
         "name": "",
         "showlegend": false,
         "type": "scatter",
         "visibility": true,
         "x": [
          10.3,
          10.3
         ],
         "xaxis": "x",
         "y": [
          1e-10,
          100000
         ],
         "yaxis": "y"
        },
        {
         "hoverinfo": "none",
         "line": {
          "color": "rgb(0,255,255)",
          "width": 2
         },
         "marker": {
          "color": "rgb(0,255,255)",
          "line": {
           "color": "rgb(0,255,255)"
          },
          "size": 6,
          "symbol": "none"
         },
         "mode": "none",
         "name": "",
         "showlegend": false,
         "type": "scatter",
         "visibility": true,
         "x": [
          3,
          18
         ],
         "xaxis": "x2",
         "y": [
          8.5,
          8.5
         ],
         "yaxis": "y2"
        },
        {
         "hoverinfo": "none",
         "line": {
          "color": "rgb(0,255,255)",
          "width": 2
         },
         "marker": {
          "color": "rgb(0,255,255)",
          "line": {
           "color": "rgb(0,255,255)"
          },
          "size": 6,
          "symbol": "none"
         },
         "mode": "none",
         "name": "",
         "showlegend": false,
         "type": "scatter",
         "visibility": true,
         "x": [
          3,
          18
         ],
         "xaxis": "x2",
         "y": [
          23,
          23
         ],
         "yaxis": "y2"
        },
        {
         "hoverinfo": "none",
         "line": {
          "color": "rgb(0,255,255)",
          "width": 2
         },
         "marker": {
          "color": "rgb(0,255,255)",
          "line": {
           "color": "rgb(0,255,255)"
          },
          "size": 6,
          "symbol": "none"
         },
         "mode": "none",
         "name": "",
         "showlegend": false,
         "type": "scatter",
         "visibility": true,
         "x": [
          3,
          18
         ],
         "xaxis": "x2",
         "y": [
          38,
          38
         ],
         "yaxis": "y2"
        },
        {
         "hoverinfo": "none",
         "line": {
          "color": "rgb(0,255,255)",
          "width": 2
         },
         "marker": {
          "color": "rgb(0,255,255)",
          "line": {
           "color": "rgb(0,255,255)"
          },
          "size": 6,
          "symbol": "none"
         },
         "mode": "none",
         "name": "",
         "showlegend": false,
         "type": "scatter",
         "visibility": true,
         "x": [
          3,
          18
         ],
         "xaxis": "x2",
         "y": [
          53,
          53
         ],
         "yaxis": "y2"
        },
        {
         "hoverinfo": "none",
         "line": {
          "color": "rgb(0,255,255)",
          "width": 2
         },
         "marker": {
          "color": "rgb(0,255,255)",
          "line": {
           "color": "rgb(0,255,255)"
          },
          "size": 6,
          "symbol": "none"
         },
         "mode": "none",
         "name": "",
         "showlegend": false,
         "type": "scatter",
         "visibility": true,
         "x": [
          3,
          18
         ],
         "xaxis": "x2",
         "y": [
          66.5,
          66.5
         ],
         "yaxis": "y2"
        }
       ],
       "layout": {
        "annotations": [
         {
          "font": {
           "color": "rgb(0, 0, 0)",
           "size": 10.8
          },
          "showarrow": false,
          "text": "H<sub>2</sub>CO<sub>3</sub>",
          "x": 21,
          "xanchor": "left",
          "xref": "x2",
          "y": 8.5,
          "yanchor": "middle",
          "yref": "y2"
         },
         {
          "font": {
           "color": "rgb(0, 0, 0)",
           "size": 10.8
          },
          "showarrow": false,
          "text": "HCO<sub>3</sub>(-)",
          "x": 21,
          "xanchor": "left",
          "xref": "x2",
          "y": 23,
          "yanchor": "middle",
          "yref": "y2"
         },
         {
          "font": {
           "color": "rgb(0, 0, 0)",
           "size": 10.8
          },
          "showarrow": false,
          "text": "CO<sub>3</sub>(2-)",
          "x": 21,
          "xanchor": "left",
          "xref": "x2",
          "y": 38,
          "yanchor": "middle",
          "yref": "y2"
         },
         {
          "font": {
           "color": "rgb(0, 0, 0)",
           "size": 10.8
          },
          "showarrow": false,
          "text": "OH(-)",
          "x": 21,
          "xanchor": "left",
          "xref": "x2",
          "y": 53,
          "yanchor": "middle",
          "yref": "y2"
         },
         {
          "font": {
           "color": "rgb(0, 0, 0)",
           "size": 10.8
          },
          "showarrow": false,
          "text": "Ca",
          "x": 21,
          "xanchor": "left",
          "xref": "x2",
          "y": 66.5,
          "yanchor": "middle",
          "yref": "y2"
         }
        ],
        "height": 420,
        "hovermode": "closest",
        "margin": {
         "b": 0,
         "l": 0,
         "r": 0,
         "t": 0
        },
        "plot_bgcolor": "rgba(0, 0, 0, 0)",
        "showlegend": false,
        "width": 560,
        "xaxis": {
         "anchor": "y",
         "autorange": false,
         "domain": [
          0.13,
          0.905
         ],
         "exponentformat": "none",
         "gridcolor": "rgba(38,38,38,0.15)",
         "gridwidth": 2,
         "linecolor": "rgb(38,38,38)",
         "linewidth": 2,
         "mirror": "ticks",
         "range": [
          0,
          14
         ],
         "showgrid": false,
         "showline": true,
         "side": "bottom",
         "spikedash": "solid",
         "spikemode": "across",
         "spikesides": false,
         "spikethickness": 1,
         "tickangle": 0,
         "tickcolor": "rgb(38,38,38)",
         "tickfont": {
          "color": "rgb(38,38,38)",
          "size": 12
         },
         "ticklen": 3,
         "ticks": "inside",
         "ticktext": [
          "0",
          "2",
          "4",
          "6",
          "8",
          "10",
          "12",
          "14"
         ],
         "tickvals": [
          0,
          2,
          4,
          6,
          8,
          10,
          12,
          14
         ],
         "title": {
          "font": {
           "color": "rgb(38,38,38)",
           "size": 13.200000000000001
          },
          "text": "pH"
         },
         "type": "linear",
         "visible": true,
         "zeroline": false
        },
        "xaxis2": {
         "anchor": "y2",
         "autorange": false,
         "domain": [
          0.1407142857142857,
          0.255
         ],
         "exponentformat": "none",
         "fixedrange": true,
         "gridcolor": "rgba(38,38,38,0.15)",
         "gridwidth": 1,
         "linecolor": "rgb(38,38,38)",
         "linewidth": 1,
         "mirror": true,
         "range": [
          0,
          64.00000000000001
         ],
         "showgrid": false,
         "showline": true,
         "showspikes": false,
         "side": "bottom",
         "spikedash": "solid",
         "spikemode": "across",
         "spikesides": false,
         "spikethickness": 1,
         "tickangle": 0,
         "tickcolor": "rgb(38,38,38)",
         "tickfont": {
          "color": "rgb(38,38,38)",
          "size": 10.8
         },
         "ticklen": 3,
         "ticks": "",
         "ticktext": [],
         "tickvals": [],
         "title": {
          "font": {
           "color": "rgb(0, 0, 0)",
           "size": 11.880000000000003
          },
          "text": ""
         },
         "type": "linear",
         "visible": true,
         "zeroline": false
        },
        "yaxis": {
         "anchor": "x",
         "autorange": false,
         "domain": [
          0.11,
          0.9249999999999999
         ],
         "exponentformat": "none",
         "gridcolor": "rgba(38,38,38,0.15)",
         "gridwidth": 2,
         "linecolor": "rgb(38,38,38)",
         "linewidth": 2,
         "mirror": "ticks",
         "range": [
          -10,
          5
         ],
         "showgrid": false,
         "showline": true,
         "side": "left",
         "spikedash": "solid",
         "spikemode": "across",
         "spikesides": false,
         "spikethickness": 1,
         "tickangle": 0,
         "tickcolor": "rgb(38,38,38)",
         "tickfont": {
          "color": "rgb(38,38,38)",
          "size": 12
         },
         "ticklen": 3,
         "ticks": "inside",
         "ticktext": [
          "10<sup>-10</sup>",
          "",
          "",
          "",
          "",
          "",
          "",
          "",
          "",
          "10<sup>-09</sup>",
          "",
          "",
          "",
          "",
          "",
          "",
          "",
          "",
          "10<sup>-08</sup>",
          "",
          "",
          "",
          "",
          "",
          "",
          "",
          "",
          "10<sup>-07</sup>",
          "",
          "",
          "",
          "",
          "",
          "",
          "",
          "",
          "10<sup>-06</sup>",
          "",
          "",
          "",
          "",
          "",
          "",
          "",
          "",
          "10<sup>-05</sup>",
          "",
          "",
          "",
          "",
          "",
          "",
          "",
          "",
          "10<sup>-04</sup>",
          "",
          "",
          "",
          "",
          "",
          "",
          "",
          "",
          "10<sup>-03</sup>",
          "",
          "",
          "",
          "",
          "",
          "",
          "",
          "",
          "10<sup>-02</sup>",
          "",
          "",
          "",
          "",
          "",
          "",
          "",
          "",
          "10<sup>-01</sup>",
          "",
          "",
          "",
          "",
          "",
          "",
          "",
          "",
          "10<sup>00</sup>",
          "",
          "",
          "",
          "",
          "",
          "",
          "",
          "",
          "10<sup>01</sup>",
          "",
          "",
          "",
          "",
          "",
          "",
          "",
          "",
          "10<sup>02</sup>",
          "",
          "",
          "",
          "",
          "",
          "",
          "",
          "",
          "10<sup>03</sup>",
          "",
          "",
          "",
          "",
          "",
          "",
          "",
          "",
          "10<sup>04</sup>",
          "",
          "",
          "",
          "",
          "",
          "",
          "",
          "",
          "10<sup>05</sup>"
         ],
         "tickvals": [
          1e-10,
          2.0000000000000003e-10,
          3.0000000000000005e-10,
          4.0000000000000007e-10,
          5e-10,
          6.000000000000001e-10,
          7.000000000000001e-10,
          8e-10,
          9.000000000000001e-10,
          1e-09,
          1.9999999999999997e-09,
          2.9999999999999996e-09,
          3.9999999999999994e-09,
          4.999999999999999e-09,
          5.999999999999999e-09,
          6.999999999999999e-09,
          7.999999999999999e-09,
          9e-09,
          1e-08,
          2e-08,
          3.0000000000000004e-08,
          4e-08,
          5e-08,
          6e-08,
          7e-08,
          8e-08,
          9e-08,
          1e-07,
          2e-07,
          3e-07,
          4e-07,
          5e-07,
          6e-07,
          7e-07,
          8e-07,
          9e-07,
          1e-06,
          2e-06,
          3e-06,
          4e-06,
          4.9999999999999996e-06,
          5.999999999999999e-06,
          7e-06,
          8e-06,
          9e-06,
          1e-05,
          2e-05,
          3.0000000000000004e-05,
          4e-05,
          5e-05,
          6e-05,
          7.000000000000001e-05,
          8e-05,
          9e-05,
          0.0001,
          0.00019999999999999998,
          0.0003,
          0.00039999999999999996,
          0.0005,
          0.0006000000000000001,
          0.0007,
          0.0007999999999999999,
          0.0009,
          0.001,
          0.002,
          0.003,
          0.004,
          0.005,
          0.006,
          0.007,
          0.008,
          0.009000000000000001,
          0.01,
          0.020000000000000004,
          0.030000000000000006,
          0.04000000000000001,
          0.05000000000000001,
          0.06000000000000001,
          0.07,
          0.08,
          0.09000000000000001,
          0.1,
          0.2,
          0.30000000000000004,
          0.4,
          0.5,
          0.6,
          0.7000000000000001,
          0.8,
          0.9,
          1,
          2,
          3,
          4,
          5,
          6,
          7,
          8,
          9,
          10,
          20,
          30,
          40,
          50,
          60,
          70,
          80,
          90,
          100,
          200,
          300,
          400,
          500,
          600,
          700,
          800,
          900,
          1000,
          2000,
          3000,
          4000,
          5000,
          6000,
          7000,
          8000,
          9000,
          10000,
          20000,
          30000,
          40000,
          50000,
          60000,
          70000,
          80000,
          90000,
          100000
         ],
         "title": {
          "font": {
           "color": "rgb(38,38,38)",
           "size": 13.200000000000001
          },
          "text": "[C<sub>inorg</sub>](mol/L)"
         },
         "type": "log",
         "visible": true,
         "zeroline": false
        },
        "yaxis2": {
         "anchor": "x2",
         "autorange": false,
         "domain": [
          0.7345238095238094,
          0.9107142857142856
         ],
         "exponentformat": "none",
         "fixedrange": true,
         "gridcolor": "rgba(38,38,38,0.15)",
         "gridwidth": 1,
         "linecolor": "rgb(38,38,38)",
         "linewidth": 1,
         "mirror": true,
         "range": [
          74,
          0
         ],
         "showgrid": false,
         "showline": true,
         "showspikes": false,
         "side": "left",
         "spikedash": "solid",
         "spikemode": "across",
         "spikesides": false,
         "spikethickness": 1,
         "tickangle": 0,
         "tickcolor": "rgb(38,38,38)",
         "tickfont": {
          "color": "rgb(38,38,38)",
          "size": 10.8
         },
         "ticklen": 3,
         "ticks": "",
         "ticktext": [],
         "tickvals": [],
         "title": {
          "font": {
           "color": "rgb(0, 0, 0)",
           "size": 11.880000000000003
          },
          "text": ""
         },
         "type": "linear",
         "visible": true,
         "zeroline": false
        }
       }
      },
      "image/png": "[encoded data removed]"
     },
     "metadata": {},
     "output_type": "display_data"
    },
    {
     "data": {
      "text/plain": [
       "h5 = -183.98\n"
      ]
     },
     "metadata": {},
     "output_type": "display_data"
    }
   ],
   "source": [
    "% plot\n",
    "\n",
    "graphics_toolkit (\"plotly\");\n",
    "\n",
    "pH0=0:0.1:14;\n",
    "H=10.^-pH0;\n",
    "\n",
    "H2CO3=KH*pCO2;\n",
    "HCO3=(Ka1*H2CO3)./H;\n",
    "CO3=(Ka2*HCO3)./H;\n",
    "OH=Kw./H;\n",
    "Ca=(OH+HCO3+2*CO3-H)./2\n",
    "Ca(Ca<=0)=NaN\n",
    "\n",
    "h1=semilogy(pH0,H2CO3,'c.','linewidth',2);hold on;\n",
    "h2=semilogy(pH0,HCO3,'r-','linewidth',2);hold on;\n",
    "h3=semilogy(pH0,CO3,'k-','linewidth',2);hold on;\n",
    "h4=semilogy(pH0,OH,'b-','linewidth',2);hold on;\n",
    "h5=semilogy(pH0,Ca,'y-','linewidth',2)\n",
    "\n",
    "xlabel('pH'); ylabel('[C_{inorg}](mol/L)')\n",
    "legend('H_2CO_3','HCO_3(-)','CO_3(2-)','OH(-)','Ca','location','northwest')\n",
    "legend (\"autoupdate\", \"off\");\n",
    "set(gca,'linewidth',2,'fontsize',12);\n",
    "\n",
    "semilogy([-log10(Ka1) -log10(Ka1)],[1e-10 1e5],'k-.','linewidth',2);\n",
    "semilogy([-log10(Ka2) -log10(Ka2)],[1e-10 1e5],'k-.','linewidth',2);\n",
    "\n",
    "axis([0 14 1e-10 1e5])"
   ]
  },
  {
   "cell_type": "code",
   "execution_count": 4,
   "id": "f1276379-5387-4e49-9da0-05055515d2f0",
   "metadata": {
    "tags": []
   },
   "outputs": [
    {
     "data": {
      "application/vnd.plotly.v1+json": {
       "data": [
        {
         "line": {
          "color": "rgb(0,0,255)",
          "dash": "solid",
          "width": 2
         },
         "marker": {
          "color": "rgb(0,0,255)",
          "line": {
           "color": "rgb(0,0,255)"
          },
          "size": 6,
          "symbol": "none"
         },
         "mode": "lines",
         "name": "",
         "showlegend": false,
         "type": "scatter",
         "visibility": true,
         "x": [
          10,
          10.722672220103231,
          11.497569953977356,
          12.32846739442066,
          13.219411484660288,
          14.174741629268055,
          15.199110829529339,
          16.297508346206442,
          17.47528400007684,
          18.73817422860384,
          20.09233002565047,
          21.544346900318846,
          23.101297000831604,
          24.770763559917114,
          26.560877829466868,
          28.48035868435802,
          30.538555088334157,
          32.74549162877728,
          35.11191734215131,
          37.64935806792467,
          40.37017258596554,
          43.28761281083057,
          46.4158883361278,
          49.770235643321115,
          53.3669923120631,
          57.22367659350217,
          61.35907273413173,
          65.79332246575683,
          70.54802310718645,
          75.64633275546291,
          81.11308307896873,
          86.97490026177834,
          93.26033468832199,
          100,
          107.22672220103232,
          114.97569953977356,
          123.28467394420659,
          132.19411484660287,
          141.74741629268047,
          151.99110829529332,
          162.97508346206433,
          174.7528400007683,
          187.3817422860383,
          200.92330025650458,
          215.44346900318845,
          231.01297000831605,
          247.70763559917114,
          265.6087782946687,
          284.8035868435802,
          305.3855508833416,
          327.45491628777285,
          351.1191734215131,
          376.49358067924675,
          403.70172585965537,
          432.8761281083057,
          464.15888336127773,
          497.7023564332114,
          533.6699231206312,
          572.236765935022,
          613.5907273413176,
          657.9332246575682,
          705.4802310718645,
          756.463327554629,
          811.1308307896873,
          869.7490026177834,
          932.60334688322,
          1000,
          1072.2672220103232,
          1149.7569953977356,
          1232.8467394420659,
          1321.9411484660286,
          1417.4741629268049,
          1519.9110829529332,
          1629.7508346206434,
          1747.5284000076829,
          1873.817422860383,
          2009.2330025650458,
          2154.4346900318824,
          2310.1297000831605,
          2477.0763559917114,
          2656.0877829466867,
          2848.035868435802,
          3053.8555088334156,
          3274.5491628777286,
          3511.191734215131,
          3764.9358067924672,
          4037.017258596554,
          4328.761281083057,
          4641.588833612777,
          4977.023564332108,
          5336.699231206313,
          5722.3676593502205,
          6135.907273413176,
          6579.332246575683,
          7054.8023107186455,
          7564.633275546291,
          8111.308307896872,
          8697.490026177835,
          9326.0334688322,
          10000
         ],
         "xaxis": "x",
         "y": [
          7.992991325529724,
          8.02299055530945,
          8.052968757941962,
          8.082924484151361,
          8.11285619799958,
          8.142762272040274,
          8.172640982436267,
          8.202490504057751,
          8.232308905583414,
          8.262094144631954,
          8.291844062956956,
          8.321556381744028,
          8.351228697055129,
          8.380858475471491,
          8.410443049992981,
          8.439979616258462,
          8.469465229158278,
          8.498896799916542,
          8.528271093727021,
          8.557584728032149,
          8.586834171539717,
          8.61601574407576,
          8.64512561737503,
          8.674159816911729,
          8.703114224872614,
          8.731984584372004,
          8.760766505003025,
          8.789455469811742,
          8.818046843769912,
          8.846535883808336,
          8.874917750455475,
          8.903187521105647,
          8.931340204917506,
          8.959370759316903,
          8.98727410804916,
          9.01504516069476,
          9.042678833529775,
          9.070170071579648,
          9.097513871682029,
          9.124705306343706,
          9.151739548147713,
          9.178611894442197,
          9.205317792022376,
          9.231852861502478,
          9.25821292106695,
          9.284394009289173,
          9.310392406713115,
          9.3362046559071,
          9.361827579721313,
          9.38725829750845,
          9.412494239101736,
          9.43753315638414,
          9.462373132325355,
          9.487012587409158,
          9.511450283419526,
          9.535685324600522,
          9.559717156248162,
          9.583545560833773,
          9.607170651794839,
          9.630592865161155,
          9.653812949209025,
          9.676831952358768,
          9.699651209541331,
          9.722272327271401,
          9.74469716766444,
          9.766927831633502,
          9.788966641494453,
          9.810816123196968,
          9.83247898838524,
          9.85395811647349,
          9.875256536908111,
          9.896377411761247,
          9.917324018789552,
          9.938099735066121,
          9.958708021273626,
          9.979152406736247,
          9.999436475242632,
          10.01956385169875,
          10.039538189633161,
          10.059363159578645,
          10.079042438313111,
          10.098579698967654,
          10.117978601973745,
          10.137242786837103,
          10.156375864693876,
          10.175381411632468,
          10.19426296273258,
          10.213024006789396,
          10.231667981679836,
          10.250198270331175,
          10.268618197250111,
          10.286931025574127,
          10.305139954602502,
          10.323248117770918,
          10.341258581031004,
          10.35917434160076,
          10.376998327050165,
          10.3947333946926,
          10.412382331249798,
          10.429947852763597
         ],
         "yaxis": "y"
        }
       ],
       "layout": {
        "height": 420,
        "hovermode": "closest",
        "margin": {
         "b": 0,
         "l": 0,
         "r": 0,
         "t": 0
        },
        "plot_bgcolor": "rgba(0, 0, 0, 0)",
        "showlegend": false,
        "width": 560,
        "xaxis": {
         "anchor": "y",
         "autorange": false,
         "domain": [
          0.13,
          0.905
         ],
         "exponentformat": "none",
         "gridcolor": "rgba(38,38,38,0.15)",
         "gridwidth": 2,
         "linecolor": "rgb(38,38,38)",
         "linewidth": 2,
         "mirror": "ticks",
         "range": [
          10,
          10000
         ],
         "showgrid": true,
         "showline": true,
         "side": "bottom",
         "spikedash": "solid",
         "spikemode": "across",
         "spikesides": false,
         "spikethickness": 1,
         "tickangle": 0,
         "tickcolor": "rgb(38,38,38)",
         "tickfont": {
          "color": "rgb(38,38,38)",
          "size": 12
         },
         "ticklen": 3,
         "ticks": "inside",
         "ticktext": [
          "2000",
          "4000",
          "6000",
          "8000",
          "10000"
         ],
         "tickvals": [
          2000,
          4000,
          6000,
          8000,
          10000
         ],
         "title": {
          "font": {
           "color": "rgb(38,38,38)",
           "size": 13.200000000000001
          },
          "text": "Ca(ppm)"
         },
         "type": "linear",
         "visible": true,
         "zeroline": false
        },
        "yaxis": {
         "anchor": "x",
         "autorange": false,
         "domain": [
          0.11,
          0.9249999999999999
         ],
         "exponentformat": "none",
         "gridcolor": "rgba(38,38,38,0.15)",
         "gridwidth": 2,
         "linecolor": "rgb(38,38,38)",
         "linewidth": 2,
         "mirror": "ticks",
         "range": [
          7,
          11
         ],
         "showgrid": true,
         "showline": true,
         "side": "left",
         "spikedash": "solid",
         "spikemode": "across",
         "spikesides": false,
         "spikethickness": 1,
         "tickangle": 0,
         "tickcolor": "rgb(38,38,38)",
         "tickfont": {
          "color": "rgb(38,38,38)",
          "size": 12
         },
         "ticklen": 3,
         "ticks": "inside",
         "ticktext": [
          "7",
          "8",
          "9",
          "10",
          "11"
         ],
         "tickvals": [
          7,
          8,
          9,
          10,
          11
         ],
         "title": {
          "font": {
           "color": "rgb(38,38,38)",
           "size": 13.200000000000001
          },
          "text": "pH"
         },
         "type": "linear",
         "visible": true,
         "zeroline": false
        }
       }
      },
      "image/png": "[encoded data removed]"
     },
     "metadata": {},
     "output_type": "display_data"
    }
   ],
   "source": [
    "Ca_ppm=logspace(1,4,100);\n",
    "Ca_mol_L=Ca_ppm/(1000*Ca_molmass);\n",
    "\n",
    "a=1;\n",
    "b_values=2*Ca_mol_L;\n",
    "c=-(Kw+Ka1*KH*pCO2);\n",
    "d=-2*Ka2*Ka1*KH*pCO2;\n",
    "\n",
    "H_roots=arrayfun(@(B) roots([a B c d]), b_values, 'UniformOutput', false);\n",
    "H_filtered = cellfun(@(x) x(imag(x) == 0 & x > 0), H_roots, 'UniformOutput', false);\n",
    "H_filtered = cellfun(@(x) min(x), H_filtered); \n",
    "pH = -log10(H_filtered);\n",
    "\n",
    "h1=plot(Ca_ppm,pH,'b-','linewidth',2);\n",
    "\n",
    "xlabel('Ca(ppm)'); ylabel('pH');\n",
    "set(gca,'linewidth',2,'fontsize',12);\n",
    "grid on\n",
    "\n",
    "axis([10 10000 7 11])\n"
   ]
  },
  {
   "cell_type": "markdown",
   "id": "9f620630-b003-4ab4-9853-25884e4c7ed8",
   "metadata": {},
   "source": [
    "## 3. Predicted pH in open system"
   ]
  },
  {
   "cell_type": "markdown",
   "id": "8e2abf7e-4caf-4ca7-9057-f655a0359833",
   "metadata": {},
   "source": [
    "For Ca,\n",
    "\n",
    "$$[Ca^{2+}]=\\frac{K_{sp, CaCO_3}}{[CO_3^2-]}=\\frac{K_{sp, CaCO_3}*[H^+]^2}{K_{a2}*K_{a1}*K_H*pCO_2}$$\n",
    "\n",
    "$$2[Ca^{2+}]+[H^+]=[OH^-]+[HCO_3^-]+2[CO_3^{2-}]$$\n",
    "\n",
    "$$2*\\frac{K_{sp, CaCO_3}*[H^+]^2}{K_{a2}*K_{a1}*K_H*pCO_2}+[H^+]=\\frac{K_w}{[H^+]}+\\frac{K_{a1}*K_H*pCO_2}{[H^+]}+2*\\frac{K_{a2}*K_{a1}*K_H*pCO_2}{[H^+]^2}$$\n",
    "\n",
    "$$2*\\frac{K_{sp, CaCO_3}*[H^+]^4}{K_{a2}*K_{a1}*K_H*pCO_2}+[H^+]^3-{K_w}*{[H^+]}-K_{a1}*K_H*pCO_2*[H^+]-2*K_{a2}*K_{a1}*K_H*pCO_2=0$$"
   ]
  },
  {
   "cell_type": "code",
   "execution_count": 5,
   "id": "6cb4abbc-c73d-4d6a-bc48-7763503f9b23",
   "metadata": {
    "tags": []
   },
   "outputs": [
    {
     "name": "stdout",
     "output_type": "stream",
     "text": [
      "11.625\n"
     ]
    }
   ],
   "source": [
    "% when balanced\n",
    "\n",
    "a=2*Ksp_CaCO3/(Ka2*Ka1*KH*pCO2);\n",
    "b=1;\n",
    "c=-(Kw+Ka1*KH*pCO2);\n",
    "d=-2*Ka2*Ka1*KH*pCO2;\n",
    "e=0;\n",
    "\n",
    "H0=roots([a b c d]);\n",
    "H0=H0(imag(H0)==0&H0>0);\n",
    "pH0=-log10(H0);\n",
    "disp(pH0)"
   ]
  },
  {
   "cell_type": "code",
   "execution_count": 6,
   "id": "0dd27773-4704-4064-80cd-f226048516ef",
   "metadata": {
    "tags": []
   },
   "outputs": [
    {
     "data": {
      "text/html": [
       "<table><tr><th><i>H<i></th><th>1</th><th>2</th><th>3</th><th>4</th><th>5</th><th>6</th><th>7</th><th>8</th><th>9</th><th>10</th><th>11</th><th>12</th><th>13</th><th>14</th><th>15</th><th>16</th><th>17</th><th>18</th><th>19</th><th>20</th><th>21</th><th>22</th><th>23</th><th>24</th><th>25</th><th>26</th><th>27</th><th>28</th><th>29</th><th>30</th><th>31</th><th>32</th><th>33</th><th>34</th><th>35</th><th>36</th><th>37</th><th>38</th><th>39</th><th>40</th><th>41</th><th>42</th><th>43</th><th>44</th><th>45</th><th>46</th><th>47</th><th>48</th><th>49</th><th>50</th><th>51</th><th>52</th><th>53</th><th>54</th><th>55</th><th>56</th><th>57</th><th>58</th><th>59</th><th>60</th><th>61</th><th>62</th><th>63</th><th>64</th><th>65</th><th>66</th><th>67</th><th>68</th><th>69</th><th>70</th><th>71</th><th>72</th><th>73</th><th>74</th><th>75</th><th>76</th><th>77</th><th>78</th><th>79</th><th>80</th><th>81</th><th>82</th><th>83</th><th>84</th><th>85</th><th>86</th><th>87</th><th>88</th><th>89</th><th>90</th><th>91</th><th>92</th><th>93</th><th>94</th><th>95</th><th>96</th><th>97</th><th>98</th><th>99</th><th>100</th></tr><tr><th>1</th><td>1e-14</td><td>1.35305e-14</td><td>1.83074e-14</td><td>2.47708e-14</td><td>3.3516e-14</td><td>4.53488e-14</td><td>6.13591e-14</td><td>8.30218e-14</td><td>1.12332e-13</td><td>1.51991e-13</td><td>2.05651e-13</td><td>2.78256e-13</td><td>3.76494e-13</td><td>5.09414e-13</td><td>6.89261e-13</td><td>9.32603e-13</td><td>1.26186e-12</td><td>1.70735e-12</td><td>2.31013e-12</td><td>3.12572e-12</td><td>4.22924e-12</td><td>5.72237e-12</td><td>7.74264e-12</td><td>1.04762e-11</td><td>1.41747e-11</td><td>1.91791e-11</td><td>2.59502e-11</td><td>3.51119e-11</td><td>4.75081e-11</td><td>6.42807e-11</td><td>8.69749e-11</td><td>1.17681e-10</td><td>1.59228e-10</td><td>2.15443e-10</td><td>2.91505e-10</td><td>3.94421e-10</td><td>5.3367e-10</td><td>7.22081e-10</td><td>9.7701e-10</td><td>1.32194e-09</td><td>1.78865e-09</td><td>2.42013e-09</td><td>3.27455e-09</td><td>4.43062e-09</td><td>5.99484e-09</td><td>8.11131e-09</td><td>1.0975e-08</td><td>1.48497e-08</td><td>2.00923e-08</td><td>2.71859e-08</td><td>3.67838e-08</td><td>4.97702e-08</td><td>6.73415e-08</td><td>9.11163e-08</td><td>1.23285e-07</td><td>1.6681e-07</td><td>2.25702e-07</td><td>3.05386e-07</td><td>4.13201e-07</td><td>5.59081e-07</td><td>7.56463e-07</td><td>1.02353e-06</td><td>1.38489e-06</td><td>1.87382e-06</td><td>2.53536e-06</td><td>3.43047e-06</td><td>4.64159e-06</td><td>6.28029e-06</td><td>8.49753e-06</td><td>1.14976e-05</td><td>1.55568e-05</td><td>2.1049e-05</td><td>2.84804e-05</td><td>3.85353e-05</td><td>5.21401e-05</td><td>7.0548e-05</td><td>9.54548e-05</td><td>0.000129155</td><td>0.000174753</td><td>0.000236449</td><td>0.000319927</td><td>0.000432876</td><td>0.000585702</td><td>0.000792483</td><td>0.00107227</td><td>0.00145083</td><td>0.00196304</td><td>0.00265609</td><td>0.00359381</td><td>0.0048626</td><td>0.00657933</td><td>0.00890215</td><td>0.012045</td><td>0.0162975</td><td>0.0220513</td><td>0.0298365</td><td>0.0403702</td><td>0.0546228</td><td>0.0739072</td><td>0.1</td></tr></table>"
      ],
      "text/plain": [
       "H =  Columns 1 through 6:\n",
       "\n",
       "   1.0000e-14   1.3530e-14   1.8307e-14   2.4771e-14   3.3516e-14   4.5349e-14\n",
       "\n",
       " Columns 7 through 12:\n",
       "\n",
       "   6.1359e-14   8.3022e-14   1.1233e-13   1.5199e-13   2.0565e-13   2.7826e-13\n",
       "\n",
       " Columns 13 through 18:\n",
       "\n",
       "   3.7649e-13   5.0941e-13   6.8926e-13   9.3260e-13   1.2619e-12   1.7074e-12\n",
       "\n",
       " Columns 19 through 24:\n",
       "\n",
       "   2.3101e-12   3.1257e-12   4.2292e-12   5.7224e-12   7.7426e-12   1.0476e-11\n",
       "\n",
       " Columns 25 through 30:\n",
       "\n",
       "   1.4175e-11   1.9179e-11   2.5950e-11   3.5112e-11   4.7508e-11   6.4281e-11\n",
       "\n",
       " Columns 31 through 36:\n",
       "\n",
       "   8.6975e-11   1.1768e-10   1.5923e-10   2.1544e-10   2.9151e-10   3.9442e-10\n",
       "\n",
       " Columns 37 through 42:\n",
       "\n",
       "   5.3367e-10   7.2208e-10   9.7701e-10   1.3219e-09   1.7886e-09   2.4201e-09\n",
       "\n",
       " Columns 43 through 48:\n",
       "\n",
       "   3.2745e-09   4.4306e-09   5.9948e-09   8.1113e-09   1.0975e-08   1.4850e-08\n",
       "\n",
       " Columns 49 through 54:\n",
       "\n",
       "   2.0092e-08   2.7186e-08   3.6784e-08   4.9770e-08   6.7342e-08   9.1116e-08\n",
       "\n",
       " Columns 55 through 60:\n",
       "\n",
       "   1.2328e-07   1.6681e-07   2.2570e-07   3.0539e-07   4.1320e-07   5.5908e-07\n",
       "\n",
       " Columns 61 through 66:\n",
       "\n",
       "   7.5646e-07   1.0235e-06   1.3849e-06   1.8738e-06   2.5354e-06   3.4305e-06\n",
       "\n",
       " Columns 67 through 72:\n",
       "\n",
       "   4.6416e-06   6.2803e-06   8.4975e-06   1.1498e-05   1.5557e-05   2.1049e-05\n",
       "\n",
       " Columns 73 through 78:\n",
       "\n",
       "   2.8480e-05   3.8535e-05   5.2140e-05   7.0548e-05   9.5455e-05   1.2915e-04\n",
       "\n",
       " Columns 79 through 84:\n",
       "\n",
       "   1.7475e-04   2.3645e-04   3.1993e-04   4.3288e-04   5.8570e-04   7.9248e-04\n",
       "\n",
       " Columns 85 through 90:\n",
       "\n",
       "   1.0723e-03   1.4508e-03   1.9630e-03   2.6561e-03   3.5938e-03   4.8626e-03\n",
       "\n",
       " Columns 91 through 96:\n",
       "\n",
       "   6.5793e-03   8.9022e-03   1.2045e-02   1.6298e-02   2.2051e-02   2.9836e-02\n",
       "\n",
       " Columns 97 through 100:\n",
       "\n",
       "   4.0370e-02   5.4623e-02   7.3907e-02   1.0000e-01\n"
      ]
     },
     "metadata": {},
     "output_type": "display_data"
    },
    {
     "data": {
      "text/html": [
       "<table><tr><th><i>Ca<i></th><th>1</th><th>2</th><th>3</th><th>4</th><th>5</th><th>6</th><th>7</th><th>8</th><th>9</th><th>10</th><th>11</th><th>12</th><th>13</th><th>14</th><th>15</th><th>16</th><th>17</th><th>18</th><th>19</th><th>20</th><th>21</th><th>22</th><th>23</th><th>24</th><th>25</th><th>26</th><th>27</th><th>28</th><th>29</th><th>30</th><th>31</th><th>32</th><th>33</th><th>34</th><th>35</th><th>36</th><th>37</th><th>38</th><th>39</th><th>40</th><th>41</th><th>42</th><th>43</th><th>44</th><th>45</th><th>46</th><th>47</th><th>48</th><th>49</th><th>50</th><th>51</th><th>52</th><th>53</th><th>54</th><th>55</th><th>56</th><th>57</th><th>58</th><th>59</th><th>60</th><th>61</th><th>62</th><th>63</th><th>64</th><th>65</th><th>66</th><th>67</th><th>68</th><th>69</th><th>70</th><th>71</th><th>72</th><th>73</th><th>74</th><th>75</th><th>76</th><th>77</th><th>78</th><th>79</th><th>80</th><th>81</th><th>82</th><th>83</th><th>84</th><th>85</th><th>86</th><th>87</th><th>88</th><th>89</th><th>90</th><th>91</th><th>92</th><th>93</th><th>94</th><th>95</th><th>96</th><th>97</th><th>98</th><th>99</th><th>100</th></tr><tr><th>1</th><td>1.91091e-15</td><td>3.49838e-15</td><td>6.40463e-15</td><td>1.17252e-14</td><td>2.14658e-14</td><td>3.92982e-14</td><td>7.19447e-14</td><td>1.31712e-13</td><td>2.4113e-13</td><td>4.41446e-13</td><td>8.08172e-13</td><td>1.47955e-12</td><td>2.70867e-12</td><td>4.95887e-12</td><td>9.07839e-12</td><td>1.66202e-11</td><td>3.04272e-11</td><td>5.57042e-11</td><td>1.0198e-10</td><td>1.86698e-10</td><td>3.41796e-10</td><td>6.25738e-10</td><td>1.14556e-09</td><td>2.09723e-09</td><td>3.83947e-09</td><td>7.02907e-09</td><td>1.28684e-08</td><td>2.35586e-08</td><td>4.31297e-08</td><td>7.89592e-08</td><td>1.44554e-07</td><td>2.6464e-07</td><td>4.84486e-07</td><td>8.86968e-07</td><td>1.62381e-06</td><td>2.97276e-06</td><td>5.44235e-06</td><td>9.96352e-06</td><td>1.82406e-05</td><td>3.33938e-05</td><td>6.11353e-05</td><td>0.000111923</td><td>0.000204901</td><td>0.00037512</td><td>0.000686747</td><td>0.00125725</td><td>0.0023017</td><td>0.00421382</td><td>0.00771439</td><td>0.014123</td><td>0.0258556</td><td>0.0473348</td><td>0.0866576</td><td>0.158647</td><td>0.290442</td><td>0.531723</td><td>0.973446</td><td>1.78213</td><td>3.2626</td><td>5.97298</td><td>10.935</td><td>20.019</td><td>36.6496</td><td>67.0959</td><td>122.835</td><td>224.879</td><td>411.694</td><td>753.704</td><td>1379.83</td><td>2526.12</td><td>4624.66</td><td>8466.54</td><td>15500</td><td>28376.5</td><td>51949.9</td><td>95106.7</td><td>174115</td><td>318760</td><td>583566</td><td>1.06836e+06</td><td>1.95588e+06</td><td>3.5807e+06</td><td>6.55533e+06</td><td>1.20011e+07</td><td>2.19709e+07</td><td>4.02229e+07</td><td>7.36376e+07</td><td>1.34811e+08</td><td>2.46804e+08</td><td>4.51834e+08</td><td>8.27189e+08</td><td>1.51437e+09</td><td>2.77241e+09</td><td>5.07556e+09</td><td>9.29202e+09</td><td>1.70112e+10</td><td>3.11431e+10</td><td>5.70149e+10</td><td>1.04379e+11</td><td>1.91091e+11</td></tr></table>"
      ],
      "text/plain": [
       "Ca =  Columns 1 through 6:\n",
       "\n",
       "   1.9109e-15   3.4984e-15   6.4046e-15   1.1725e-14   2.1466e-14   3.9298e-14\n",
       "\n",
       " Columns 7 through 12:\n",
       "\n",
       "   7.1945e-14   1.3171e-13   2.4113e-13   4.4145e-13   8.0817e-13   1.4796e-12\n",
       "\n",
       " Columns 13 through 18:\n",
       "\n",
       "   2.7087e-12   4.9589e-12   9.0784e-12   1.6620e-11   3.0427e-11   5.5704e-11\n",
       "\n",
       " Columns 19 through 24:\n",
       "\n",
       "   1.0198e-10   1.8670e-10   3.4180e-10   6.2574e-10   1.1456e-09   2.0972e-09\n",
       "\n",
       " Columns 25 through 30:\n",
       "\n",
       "   3.8395e-09   7.0291e-09   1.2868e-08   2.3559e-08   4.3130e-08   7.8959e-08\n",
       "\n",
       " Columns 31 through 36:\n",
       "\n",
       "   1.4455e-07   2.6464e-07   4.8449e-07   8.8697e-07   1.6238e-06   2.9728e-06\n",
       "\n",
       " Columns 37 through 42:\n",
       "\n",
       "   5.4424e-06   9.9635e-06   1.8241e-05   3.3394e-05   6.1135e-05   1.1192e-04\n",
       "\n",
       " Columns 43 through 48:\n",
       "\n",
       "   2.0490e-04   3.7512e-04   6.8675e-04   1.2573e-03   2.3017e-03   4.2138e-03\n",
       "\n",
       " Columns 49 through 54:\n",
       "\n",
       "   7.7144e-03   1.4123e-02   2.5856e-02   4.7335e-02   8.6658e-02   1.5865e-01\n",
       "\n",
       " Columns 55 through 60:\n",
       "\n",
       "   2.9044e-01   5.3172e-01   9.7345e-01   1.7821e+00   3.2626e+00   5.9730e+00\n",
       "\n",
       " Columns 61 through 66:\n",
       "\n",
       "   1.0935e+01   2.0019e+01   3.6650e+01   6.7096e+01   1.2283e+02   2.2488e+02\n",
       "\n",
       " Columns 67 through 72:\n",
       "\n",
       "   4.1169e+02   7.5370e+02   1.3798e+03   2.5261e+03   4.6247e+03   8.4665e+03\n",
       "\n",
       " Columns 73 through 78:\n",
       "\n",
       "   1.5500e+04   2.8376e+04   5.1950e+04   9.5107e+04   1.7412e+05   3.1876e+05\n",
       "\n",
       " Columns 79 through 84:\n",
       "\n",
       "   5.8357e+05   1.0684e+06   1.9559e+06   3.5807e+06   6.5553e+06   1.2001e+07\n",
       "\n",
       " Columns 85 through 90:\n",
       "\n",
       "   2.1971e+07   4.0223e+07   7.3638e+07   1.3481e+08   2.4680e+08   4.5183e+08\n",
       "\n",
       " Columns 91 through 96:\n",
       "\n",
       "   8.2719e+08   1.5144e+09   2.7724e+09   5.0756e+09   9.2920e+09   1.7011e+10\n",
       "\n",
       " Columns 97 through 100:\n",
       "\n",
       "   3.1143e+10   5.7015e+10   1.0438e+11   1.9109e+11\n"
      ]
     },
     "metadata": {},
     "output_type": "display_data"
    },
    {
     "data": {
      "text/html": [
       "<table><tr><th><i>pH<i></th><th>1</th><th>2</th><th>3</th><th>4</th><th>5</th><th>6</th><th>7</th><th>8</th><th>9</th><th>10</th><th>11</th><th>12</th><th>13</th><th>14</th><th>15</th><th>16</th><th>17</th><th>18</th><th>19</th><th>20</th><th>21</th><th>22</th><th>23</th><th>24</th><th>25</th><th>26</th><th>27</th><th>28</th><th>29</th><th>30</th><th>31</th><th>32</th><th>33</th><th>34</th><th>35</th><th>36</th><th>37</th><th>38</th><th>39</th><th>40</th><th>41</th><th>42</th><th>43</th><th>44</th><th>45</th><th>46</th><th>47</th><th>48</th><th>49</th><th>50</th><th>51</th><th>52</th><th>53</th><th>54</th><th>55</th><th>56</th><th>57</th><th>58</th><th>59</th><th>60</th><th>61</th><th>62</th><th>63</th><th>64</th><th>65</th><th>66</th><th>67</th><th>68</th><th>69</th><th>70</th><th>71</th><th>72</th><th>73</th><th>74</th><th>75</th><th>76</th><th>77</th><th>78</th><th>79</th><th>80</th><th>81</th><th>82</th><th>83</th><th>84</th><th>85</th><th>86</th><th>87</th><th>88</th><th>89</th><th>90</th><th>91</th><th>92</th><th>93</th><th>94</th><th>95</th><th>96</th><th>97</th><th>98</th><th>99</th><th>100</th></tr><tr><th>1</th><td>14</td><td>13.8687</td><td>13.7374</td><td>13.6061</td><td>13.4747</td><td>13.3434</td><td>13.2121</td><td>13.0808</td><td>12.9495</td><td>12.8182</td><td>12.6869</td><td>12.5556</td><td>12.4242</td><td>12.2929</td><td>12.1616</td><td>12.0303</td><td>11.899</td><td>11.7677</td><td>11.6364</td><td>11.5051</td><td>11.3737</td><td>11.2424</td><td>11.1111</td><td>10.9798</td><td>10.8485</td><td>10.7172</td><td>10.5859</td><td>10.4545</td><td>10.3232</td><td>10.1919</td><td>10.0606</td><td>9.92929</td><td>9.79798</td><td>9.66667</td><td>9.53535</td><td>9.40404</td><td>9.27273</td><td>9.14141</td><td>9.0101</td><td>8.87879</td><td>8.74747</td><td>8.61616</td><td>8.48485</td><td>8.35354</td><td>8.22222</td><td>8.09091</td><td>7.9596</td><td>7.82828</td><td>7.69697</td><td>7.56566</td><td>7.43434</td><td>7.30303</td><td>7.17172</td><td>7.0404</td><td>6.90909</td><td>6.77778</td><td>6.64646</td><td>6.51515</td><td>6.38384</td><td>6.25253</td><td>6.12121</td><td>5.9899</td><td>5.85859</td><td>5.72727</td><td>5.59596</td><td>5.46465</td><td>5.33333</td><td>5.20202</td><td>5.07071</td><td>4.93939</td><td>4.80808</td><td>4.67677</td><td>4.54545</td><td>4.41414</td><td>4.28283</td><td>4.15152</td><td>4.0202</td><td>3.88889</td><td>3.75758</td><td>3.62626</td><td>3.49495</td><td>3.36364</td><td>3.23232</td><td>3.10101</td><td>2.9697</td><td>2.83838</td><td>2.70707</td><td>2.57576</td><td>2.44444</td><td>2.31313</td><td>2.18182</td><td>2.05051</td><td>1.91919</td><td>1.78788</td><td>1.65657</td><td>1.52525</td><td>1.39394</td><td>1.26263</td><td>1.13131</td><td>1</td></tr></table>"
      ],
      "text/plain": [
       "pH =  Columns 1 through 8:\n",
       "\n",
       "   14.0000   13.8687   13.7374   13.6061   13.4747   13.3434   13.2121   13.0808\n",
       "\n",
       " Columns 9 through 16:\n",
       "\n",
       "   12.9495   12.8182   12.6869   12.5556   12.4242   12.2929   12.1616   12.0303\n",
       "\n",
       " Columns 17 through 24:\n",
       "\n",
       "   11.8990   11.7677   11.6364   11.5051   11.3737   11.2424   11.1111   10.9798\n",
       "\n",
       " Columns 25 through 32:\n",
       "\n",
       "   10.8485   10.7172   10.5859   10.4545   10.3232   10.1919   10.0606    9.9293\n",
       "\n",
       " Columns 33 through 40:\n",
       "\n",
       "    9.7980    9.6667    9.5354    9.4040    9.2727    9.1414    9.0101    8.8788\n",
       "\n",
       " Columns 41 through 48:\n",
       "\n",
       "    8.7475    8.6162    8.4848    8.3535    8.2222    8.0909    7.9596    7.8283\n",
       "\n",
       " Columns 49 through 56:\n",
       "\n",
       "    7.6970    7.5657    7.4343    7.3030    7.1717    7.0404    6.9091    6.7778\n",
       "\n",
       " Columns 57 through 64:\n",
       "\n",
       "    6.6465    6.5152    6.3838    6.2525    6.1212    5.9899    5.8586    5.7273\n",
       "\n",
       " Columns 65 through 72:\n",
       "\n",
       "    5.5960    5.4646    5.3333    5.2020    5.0707    4.9394    4.8081    4.6768\n",
       "\n",
       " Columns 73 through 80:\n",
       "\n",
       "    4.5455    4.4141    4.2828    4.1515    4.0202    3.8889    3.7576    3.6263\n",
       "\n",
       " Columns 81 through 88:\n",
       "\n",
       "    3.4949    3.3636    3.2323    3.1010    2.9697    2.8384    2.7071    2.5758\n",
       "\n",
       " Columns 89 through 96:\n",
       "\n",
       "    2.4444    2.3131    2.1818    2.0505    1.9192    1.7879    1.6566    1.5253\n",
       "\n",
       " Columns 97 through 100:\n",
       "\n",
       "    1.3939    1.2626    1.1313    1.0000\n"
      ]
     },
     "metadata": {},
     "output_type": "display_data"
    },
    {
     "data": {
      "application/vnd.plotly.v1+json": {
       "data": [
        {
         "line": {
          "color": "rgb(0,0,255)",
          "dash": "solid",
          "width": 2
         },
         "marker": {
          "color": "rgb(0,0,255)",
          "line": {
           "color": "rgb(0,0,255)"
          },
          "size": 6,
          "symbol": "none"
         },
         "mode": "lines",
         "name": "",
         "showlegend": false,
         "type": "scatter",
         "visibility": true,
         "x": [
          7.65894498997641e-11,
          1.4021523779826253e-10,
          2.5669740331799747e-10,
          4.699457627066777e-10,
          8.603476974497188e-10,
          1.5750714640851796e-09,
          2.883543623501588e-09,
          5.279013694445975e-09,
          9.664492452625728e-09,
          1.7693156292647615e-08,
          3.239153852419889e-08,
          5.9300429533913106e-08,
          1.0856356638569282e-07,
          1.9875147682767542e-07,
          3.638619368936635e-07,
          6.66135976613648e-07,
          1.2195206322685368e-06,
          2.2326231051040227e-06,
          4.087348583985847e-06,
          7.482865517613963e-06,
          1.3699168349398111e-05,
          2.5079591905453858e-05,
          4.5914168955500274e-05,
          8.40568267147836e-05,
          0.00015388605038690878,
          0.00028172508324677615,
          0.0005157648944192727,
          0.0009442305358458624,
          0.0017286389873968292,
          0.003164685567038374,
          0.005793711012675411,
          0.010606768535873726,
          0.01941821718885651,
          0.03554967354272914,
          0.06508214820667776,
          0.11914838008582065,
          0.2181295004582944,
          0.3993380265507058,
          0.7310834119839859,
          1.3384223884080337,
          2.450301101662945,
          4.48586002506427,
          8.212435667931905,
          15.03482035174601,
          27.524821155305325,
          50.39074374730128,
          92.2522635507386,
          168.88975032623443,
          309.1929310717647,
          566.0513349098075,
          1036.2918474316707,
          1897.1791546511683,
          3473.2385029983043,
          6358.590684034777,
          11640.915373991942,
          21311.469392845935,
          39015.722826826175,
          71427.57731246456,
          130765.20005468592,
          239396.8574705957,
          438272.9911538323,
          802363.1421248746,
          1468916.9189860825,
          2689202.434161354,
          4923225.839682678,
          9013138.007246358,
          16500696.775451032,
          30208457.23836458,
          55303779.05493976,
          101246745.36087553,
          185356292.48747247,
          339338860.15043944,
          621240641.2692068,
          1137329023.2467802,
          2082151780.148814,
          3811874969.3035827,
          6978545426.003805,
          12775890252.165327,
          23389311349.491528,
          42819707637.26109,
          78391677922.58972,
          143514645629.4704,
          262737755536.8955,
          481004066740.2813,
          880592557959.1818,
          1612134505199.0896,
          2951396351653.009,
          5403234281295.246,
          9891907836171.447,
          18109494340832.81,
          33153744526554.984,
          60695829239897.17,
          111118178043750.66,
          203428302181370.6,
          372423980098929.2,
          681810836867070,
          1248217198972765,
          2285159008282503.5,
          4183528073024579,
          7658944989976413
         ],
         "xaxis": "x",
         "y": [
          14,
          13.868686868686869,
          13.737373737373737,
          13.606060606060606,
          13.474747474747474,
          13.343434343434343,
          13.212121212121213,
          13.080808080808081,
          12.94949494949495,
          12.818181818181818,
          12.686868686868687,
          12.555555555555555,
          12.424242424242424,
          12.292929292929292,
          12.16161616161616,
          12.03030303030303,
          11.8989898989899,
          11.767676767676768,
          11.636363636363637,
          11.505050505050505,
          11.373737373737374,
          11.242424242424242,
          11.11111111111111,
          10.97979797979798,
          10.848484848484848,
          10.717171717171716,
          10.585858585858585,
          10.454545454545453,
          10.323232323232322,
          10.191919191919192,
          10.06060606060606,
          9.929292929292929,
          9.797979797979798,
          9.666666666666666,
          9.535353535353535,
          9.404040404040405,
          9.272727272727273,
          9.141414141414142,
          9.01010101010101,
          8.878787878787879,
          8.747474747474747,
          8.616161616161616,
          8.484848484848484,
          8.353535353535353,
          8.222222222222221,
          8.09090909090909,
          7.959595959595959,
          7.828282828282828,
          7.696969696969696,
          7.565656565656565,
          7.434343434343435,
          7.303030303030304,
          7.171717171717172,
          7.040404040404041,
          6.90909090909091,
          6.777777777777779,
          6.646464646464647,
          6.515151515151516,
          6.383838383838384,
          6.252525252525253,
          6.121212121212122,
          5.9898989898989905,
          5.858585858585859,
          5.7272727272727275,
          5.595959595959596,
          5.464646464646465,
          5.333333333333334,
          5.202020202020202,
          5.070707070707071,
          4.9393939393939394,
          4.808080808080808,
          4.676767676767677,
          4.545454545454546,
          4.414141414141414,
          4.282828282828284,
          4.151515151515152,
          4.020202020202021,
          3.8888888888888893,
          3.757575757575758,
          3.6262626262626263,
          3.4949494949494953,
          3.3636363636363638,
          3.2323232323232327,
          3.101010101010101,
          2.9696969696969697,
          2.8383838383838387,
          2.707070707070707,
          2.575757575757576,
          2.4444444444444446,
          2.313131313131313,
          2.1818181818181817,
          2.0505050505050506,
          1.9191919191919193,
          1.787878787878788,
          1.6565656565656566,
          1.5252525252525253,
          1.393939393939394,
          1.2626262626262625,
          1.1313131313131313,
          1
         ],
         "yaxis": "y"
        }
       ],
       "layout": {
        "height": 420,
        "hovermode": "closest",
        "margin": {
         "b": 0,
         "l": 0,
         "r": 0,
         "t": 0
        },
        "plot_bgcolor": "rgba(0, 0, 0, 0)",
        "showlegend": false,
        "width": 560,
        "xaxis": {
         "anchor": "y",
         "autorange": false,
         "domain": [
          0.13,
          0.905
         ],
         "exponentformat": "none",
         "gridcolor": "rgba(38,38,38,0.15)",
         "gridwidth": 2,
         "linecolor": "rgb(38,38,38)",
         "linewidth": 2,
         "mirror": "ticks",
         "range": [
          10,
          10000
         ],
         "showgrid": true,
         "showline": true,
         "side": "bottom",
         "spikedash": "solid",
         "spikemode": "across",
         "spikesides": false,
         "spikethickness": 1,
         "tickangle": 0,
         "tickcolor": "rgb(38,38,38)",
         "tickfont": {
          "color": "rgb(38,38,38)",
          "size": 12
         },
         "ticklen": 3,
         "ticks": "inside",
         "ticktext": [
          "2000",
          "4000",
          "6000",
          "8000",
          "10000"
         ],
         "tickvals": [
          2000,
          4000,
          6000,
          8000,
          10000
         ],
         "title": {
          "font": {
           "color": "rgb(38,38,38)",
           "size": 13.200000000000001
          },
          "text": "Ca<sup>2+</sup> Concentration (ppm)"
         },
         "type": "linear",
         "visible": true,
         "zeroline": false
        },
        "yaxis": {
         "anchor": "x",
         "autorange": false,
         "domain": [
          0.11,
          0.9249999999999999
         ],
         "exponentformat": "none",
         "gridcolor": "rgba(38,38,38,0.15)",
         "gridwidth": 2,
         "linecolor": "rgb(38,38,38)",
         "linewidth": 2,
         "mirror": "ticks",
         "range": [
          1,
          11
         ],
         "showgrid": true,
         "showline": true,
         "side": "left",
         "spikedash": "solid",
         "spikemode": "across",
         "spikesides": false,
         "spikethickness": 1,
         "tickangle": 0,
         "tickcolor": "rgb(38,38,38)",
         "tickfont": {
          "color": "rgb(38,38,38)",
          "size": 12
         },
         "ticklen": 3,
         "ticks": "inside",
         "ticktext": [
          "2",
          "4",
          "6",
          "8",
          "10"
         ],
         "tickvals": [
          2,
          4,
          6,
          8,
          10
         ],
         "title": {
          "font": {
           "color": "rgb(38,38,38)",
           "size": 13.200000000000001
          },
          "text": "pH"
         },
         "type": "linear",
         "visible": true,
         "zeroline": false
        }
       }
      },
      "image/png": "[encoded data removed]"
     },
     "metadata": {},
     "output_type": "display_data"
    }
   ],
   "source": [
    "graphics_toolkit (\"plotly\");\n",
    "\n",
    "H=logspace(-14, -1, 100)\n",
    "\n",
    "H2CO3=KH*pCO2;\n",
    "HCO3=(Ka1*H2CO3)./H;\n",
    "CO3=(Ka2*HCO3)./H;\n",
    "OH=Kw./H;\n",
    "\n",
    "Ca=Ksp_CaCO3./CO3\n",
    "pH=-log10(H)\n",
    "\n",
    "figure;\n",
    "h1=plot(Ca*1000*Ca_molmass, pH, 'b-', 'LineWidth', 2);\n",
    "xlabel('Ca^{2+} Concentration (ppm)');\n",
    "ylabel('pH');\n",
    "set(gca,'linewidth',2,'fontsize',12);\n",
    "axis([10 10000 1 11])\n",
    "grid on;\n"
   ]
  },
  {
   "cell_type": "code",
   "execution_count": null,
   "id": "b9f5b642-35d3-4161-8a34-4ddac00f19a4",
   "metadata": {},
   "outputs": [],
   "source": []
  }
 ],
 "metadata": {
  "kernelspec": {
   "display_name": "Octave (xoctave)",
   "language": "Octave",
   "name": "xoctave"
  },
  "language_info": {
   "codemirror_mode": "octave",
   "file_extension": ".m",
   "mimetype": "text/x-octave",
   "name": "Octave",
   "nbconvert_exporter": "",
   "pygments_lexer": "octave",
   "version": "7.3.0"
  }
 },
 "nbformat": 4,
 "nbformat_minor": 5
}
