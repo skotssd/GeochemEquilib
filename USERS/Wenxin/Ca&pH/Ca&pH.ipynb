{
 "cells": [
  {
   "cell_type": "markdown",
   "id": "7133ef85-41f1-469f-bfba-49203ad6c85e",
   "metadata": {},
   "source": [
    "# Closed CO2"
   ]
  },
  {
   "cell_type": "code",
   "execution_count": null,
   "id": "22adc3e3-c249-49fb-983d-bf1caf39a5a0",
   "metadata": {
    "tags": []
   },
   "outputs": [],
   "source": [
    "#input constant\n",
    "KH=10^-1.5; Ka1=10^-6.3; Ka2=10^-10.3; Ka3 =10^-9.74;pCO2=10^-3.5; Kw=10^-14; Ksp_CaOH2=5.5*10^-6; Ksp_CaCO3=4.8*10^-9; Ca_molmass=40.08;"
   ]
  },
  {
   "cell_type": "markdown",
   "id": "981cba01-dcc3-44c8-94b9-99d68e88fc56",
   "metadata": {},
   "source": [
    "## 1. Solubility of Ca(OH)2"
   ]
  },
  {
   "cell_type": "markdown",
   "id": "46b1d783-acca-4859-9127-e5389a2df1ec",
   "metadata": {
    "tags": []
   },
   "source": [
    "$$[Ca(OH)_2]=Ca^{2+}+2OH^-$$\n",
    "\n",
    "The solubility product constant\n",
    "\n",
    "$$K_{sp}=[Ca^{2+}]{[OH^-]}^2=5.5*10^{-6}$$\n",
    "\n",
    "if $[Ca^{2+}]=x$, $[OH^-]=2x$,\n",
    "then,\n",
    "$$K_{sp}=x*(2x)^2=4x^3=5.5*10^{-6}$$"
   ]
  },
  {
   "cell_type": "markdown",
   "id": "51fb9e84-7ddc-4166-bbe6-4b5806cc9baa",
   "metadata": {},
   "source": [
    "### Solve"
   ]
  },
  {
   "cell_type": "code",
   "execution_count": null,
   "id": "accd0e90-130e-4b89-9ad7-0eeca74de1de",
   "metadata": {
    "tags": []
   },
   "outputs": [],
   "source": [
    "x=(Ksp_CaOH2/4)^(1/3)\n",
    "OH_CaOH2=2*x\n",
    "H_CaOH2=Kw/OH_CaOH2\n",
    "pH_CaOH2=-log10(H_CaOH2)"
   ]
  },
  {
   "cell_type": "markdown",
   "id": "d128f892-ad36-4cab-b734-b716286ba37b",
   "metadata": {},
   "source": [
    "so the solubility of Ca(OH)2 is 0.0111 mol/L, pH=12.347"
   ]
  },
  {
   "cell_type": "markdown",
   "id": "c4a419d9-8aec-4261-9e28-e9149ad74be8",
   "metadata": {},
   "source": [
    "## 2. Predicted pH in closed system"
   ]
  },
  {
   "cell_type": "markdown",
   "id": "3eaf3e53-85c4-4002-be03-ab8a532d1ecd",
   "metadata": {
    "tags": []
   },
   "source": [
    "$$[H_2CO_3]=K_H*{pCO_2}$$\n",
    "\n",
    "$$[HCO_3^-]=\\frac{K_{a1}[H_2CO_3]}{[H^+]}=\\frac{K_{a1}*K_H*pCO_2}{[H^+]}$$\n",
    "\n",
    "$$[CO_3^2-]=\\frac{K_{a2}[HCO_3^-]}{[H^+]}=\\frac{K_{a2}\\frac{K_{a1}*K_H*pCO_2}{[H^+]}}{[H^+]}=\\frac{K_{a2}*K_{a1}*K_H*pCO_2}{[H^+]^2}$$\n",
    "\n",
    "$$[OH^-]=\\frac{K_w}{[H^+]}$$\n",
    "\n",
    "$$2[Ca^{2+}]+[H^+]=[OH^-]+[HCO_3^-]+2[CO_3^{2-}]$$\n",
    "\n",
    "$$[Ca^{2+}]=\\frac{[OH^-]+[HCO_3^-]+2[CO_3^{2-}]-[H^+]}{2}$$"
   ]
  },
  {
   "cell_type": "code",
   "execution_count": null,
   "id": "4aa45ff3-cc5c-423f-98ed-aba650e6c084",
   "metadata": {
    "tags": []
   },
   "outputs": [],
   "source": [
    "% plot\n",
    "\n",
    "graphics_toolkit (\"plotly\");\n",
    "\n",
    "pH0=0:0.1:14;\n",
    "H=10.^-pH0;\n",
    "\n",
    "H2CO3=KH*pCO2;\n",
    "HCO3=(Ka1*H2CO3)./H;\n",
    "CO3=(Ka2*HCO3)./H;\n",
    "OH=Kw./H;\n",
    "Ca=(OH+HCO3+2*CO3-H)./2\n",
    "Ca(Ca<=0)=NaN\n",
    "\n",
    "h1=semilogy(pH0,H2CO3,'c.','linewidth',2);hold on;\n",
    "h2=semilogy(pH0,HCO3,'r-','linewidth',2);hold on;\n",
    "h3=semilogy(pH0,CO3,'k-','linewidth',2);hold on;\n",
    "h4=semilogy(pH0,OH,'b-','linewidth',2);hold on;\n",
    "h5=semilogy(pH0,Ca,'y-','linewidth',2)\n",
    "\n",
    "xlabel('pH'); ylabel('[C_{inorg}](mol/L)')\n",
    "legend('H_2CO_3','HCO_3(-)','CO_3(2-)','OH(-)','Ca','location','northwest')\n",
    "legend (\"autoupdate\", \"off\");\n",
    "set(gca,'linewidth',2,'fontsize',12);\n",
    "\n",
    "semilogy([-log10(Ka1) -log10(Ka1)],[1e-10 1e5],'k-.','linewidth',2);\n",
    "semilogy([-log10(Ka2) -log10(Ka2)],[1e-10 1e5],'k-.','linewidth',2);\n",
    "\n",
    "axis([0 14 1e-10 1e5])"
   ]
  },
  {
   "cell_type": "code",
   "execution_count": null,
   "id": "f1276379-5387-4e49-9da0-05055515d2f0",
   "metadata": {
    "tags": []
   },
   "outputs": [],
   "source": [
    "Ca_ppm=logspace(1,4,100);\n",
    "Ca_mol_L=Ca_ppm/(1000*Ca_molmass);\n",
    "\n",
    "a=1;\n",
    "b_values=2*Ca_mol_L;\n",
    "c=-(Kw+Ka1*KH*pCO2);\n",
    "d=-2*Ka2*Ka1*KH*pCO2;\n",
    "\n",
    "H_roots=arrayfun(@(B) roots([a B c d]), b_values, 'UniformOutput', false);\n",
    "H_filtered = cellfun(@(x) x(imag(x) == 0 & x > 0), H_roots, 'UniformOutput', false);\n",
    "H_filtered = cellfun(@(x) min(x), H_filtered); \n",
    "pH = -log10(H_filtered);\n",
    "\n",
    "h1=plot(Ca_ppm,pH,'b-','linewidth',2);\n",
    "\n",
    "xlabel('Ca(ppm)'); ylabel('pH');\n",
    "set(gca,'linewidth',2,'fontsize',12);\n",
    "grid on\n",
    "\n",
    "axis([10 10000 7 11])\n"
   ]
  },
  {
   "cell_type": "markdown",
   "id": "9f620630-b003-4ab4-9853-25884e4c7ed8",
   "metadata": {},
   "source": [
    "## 3. Predicted pH in open system"
   ]
  },
  {
   "cell_type": "markdown",
   "id": "8e2abf7e-4caf-4ca7-9057-f655a0359833",
   "metadata": {},
   "source": [
    "For Ca,\n",
    "\n",
    "$$[Ca^{2+}]=\\frac{K_{sp, CaCO_3}}{[CO_3^2-]}=\\frac{K_{sp, CaCO_3}*[H^+]^2}{K_{a2}*K_{a1}*K_H*pCO_2}$$\n",
    "\n",
    "$$2[Ca^{2+}]+[H^+]=[OH^-]+[HCO_3^-]+2[CO_3^{2-}]$$\n",
    "\n",
    "$$2*\\frac{K_{sp, CaCO_3}*[H^+]^2}{K_{a2}*K_{a1}*K_H*pCO_2}+[H^+]=\\frac{K_w}{[H^+]}+\\frac{K_{a1}*K_H*pCO_2}{[H^+]}+2*\\frac{K_{a2}*K_{a1}*K_H*pCO_2}{[H^+]^2}$$\n",
    "\n",
    "$$2*\\frac{K_{sp, CaCO_3}*[H^+]^4}{K_{a2}*K_{a1}*K_H*pCO_2}+[H^+]^3-{K_w}*{[H^+]}-K_{a1}*K_H*pCO_2*[H^+]-2*K_{a2}*K_{a1}*K_H*pCO_2=0$$"
   ]
  },
  {
   "cell_type": "code",
   "execution_count": null,
   "id": "6cb4abbc-c73d-4d6a-bc48-7763503f9b23",
   "metadata": {
    "tags": []
   },
   "outputs": [],
   "source": [
    "% when balanced\n",
    "\n",
    "a=2*Ksp_CaCO3/(Ka2*Ka1*KH*pCO2);\n",
    "b=1;\n",
    "c=-(Kw+Ka1*KH*pCO2);\n",
    "d=-2*Ka2*Ka1*KH*pCO2;\n",
    "e=0;\n",
    "\n",
    "H0=roots([a b c d]);\n",
    "H0=H0(imag(H0)==0&H0>0);\n",
    "pH0=-log10(H0);\n",
    "disp(pH0)"
   ]
  },
  {
   "cell_type": "code",
   "execution_count": null,
   "id": "0dd27773-4704-4064-80cd-f226048516ef",
   "metadata": {
    "tags": []
   },
   "outputs": [],
   "source": [
    "graphics_toolkit (\"plotly\");\n",
    "\n",
    "H=logspace(-14, -1, 100)\n",
    "\n",
    "H2CO3=KH*pCO2;\n",
    "HCO3=(Ka1*H2CO3)./H;\n",
    "CO3=(Ka2*HCO3)./H;\n",
    "OH=Kw./H;\n",
    "\n",
    "Ca=Ksp_CaCO3./CO3\n",
    "pH=-log10(H)\n",
    "\n",
    "figure;\n",
    "h1=plot(Ca*1000*Ca_molmass, pH, 'b-', 'LineWidth', 2);\n",
    "xlabel('Ca^{2+} Concentration (ppm)');\n",
    "ylabel('pH');\n",
    "set(gca,'linewidth',2,'fontsize',12);\n",
    "axis([10 10000 1 11])\n",
    "grid on;\n"
   ]
  },
  {
   "cell_type": "code",
   "execution_count": null,
   "id": "b9f5b642-35d3-4161-8a34-4ddac00f19a4",
   "metadata": {},
   "outputs": [],
   "source": []
  }
 ],
 "metadata": {
  "kernelspec": {
   "display_name": "Octave (xoctave)",
   "language": "Octave",
   "name": "xoctave"
  },
  "language_info": {
   "codemirror_mode": "octave",
   "file_extension": ".m",
   "mimetype": "text/x-octave",
   "name": "Octave",
   "nbconvert_exporter": "",
   "pygments_lexer": "octave",
   "version": "7.3.0"
  }
 },
 "nbformat": 4,
 "nbformat_minor": 5
}
