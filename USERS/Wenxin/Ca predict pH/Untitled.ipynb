{
 "cells": [
  {
   "cell_type": "markdown",
   "id": "3e6bd795-102f-4324-a5e5-87182907b8aa",
   "metadata": {},
   "source": [
    "# Test C  - CO2 consumed"
   ]
  },
  {
   "cell_type": "code",
   "execution_count": 1,
   "id": "3bd9fded-2a48-4faa-8a59-4ac692c39ce7",
   "metadata": {
    "tags": []
   },
   "outputs": [
    {
     "name": "stdout",
     "output_type": "stream",
     "text": [
      "For information about changes from previous versions of the io package, run 'news io'.\n"
     ]
    }
   ],
   "source": [
    "pkg install -forge io"
   ]
  },
  {
   "cell_type": "code",
   "execution_count": null,
   "id": "c742760f-41b3-4d3e-a933-630edfc7d4cd",
   "metadata": {},
   "outputs": [],
   "source": [
    "pkg load io"
   ]
  },
  {
   "cell_type": "code",
   "execution_count": 5,
   "id": "4b6051d8-e142-4bb5-8721-c4b1a6c3cd02",
   "metadata": {
    "tags": []
   },
   "outputs": [
    {
     "name": "stdout",
     "output_type": "stream",
     "text": [
      "Total CO₂ consumed: 0.0000 mol\n",
      "Total CO₂ consumed: 0.0018 g\n"
     ]
    }
   ],
   "source": [
    "\n",
    "flow_rate_mL_per_min = 0.31;\n",
    "sampling_interval_min = 5;\n",
    "molar_volume_mL = 24450;\n",
    "molar_mass_CO2 = 44.01;\n",
    "\n",
    "co2_in_ppm = csvread('inlet.csv');\n",
    "co2_out_ppm = csvread('outlet.csv');\n",
    "\n",
    "mol_per_min_total = flow_rate_mL_per_min / molar_volume_mL;\n",
    "co2_in_mf = co2_in_ppm / 1e6;\n",
    "co2_out_mf = co2_out_ppm / 1e6;\n",
    "\n",
    "mol_in = mol_per_min_total * co2_in_mf;\n",
    "mol_out = mol_per_min_total * co2_out_mf;\n",
    "\n",
    "mol_diff = (mol_in - mol_out) * sampling_interval_min;\n",
    "\n",
    "total_CO2_mol = sum(mol_diff);\n",
    "total_CO2_g = total_CO2_mol * molar_mass_CO2;\n",
    "\n",
    "printf(\"Total CO₂ consumed: %.4f mol\\n\", total_CO2_mol);\n",
    "printf(\"Total CO₂ consumed: %.4f g\\n\", total_CO2_g);\n"
   ]
  },
  {
   "cell_type": "code",
   "execution_count": null,
   "id": "29824b16-297c-460e-9187-99faec8dc2c6",
   "metadata": {},
   "outputs": [],
   "source": []
  }
 ],
 "metadata": {
  "kernelspec": {
   "display_name": "Octave (xoctave)",
   "language": "Octave",
   "name": "xoctave"
  },
  "language_info": {
   "codemirror_mode": "octave",
   "file_extension": ".m",
   "mimetype": "text/x-octave",
   "name": "Octave",
   "nbconvert_exporter": "",
   "pygments_lexer": "octave",
   "version": "7.3.0"
  }
 },
 "nbformat": 4,
 "nbformat_minor": 5
}
