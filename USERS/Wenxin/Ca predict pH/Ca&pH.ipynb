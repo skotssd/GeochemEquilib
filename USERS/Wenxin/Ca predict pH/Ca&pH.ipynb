{
 "cells": [
  {
   "cell_type": "markdown",
   "id": "7133ef85-41f1-469f-bfba-49203ad6c85e",
   "metadata": {},
   "source": [
    "# Closed CO2"
   ]
  },
  {
   "cell_type": "code",
   "execution_count": 1,
   "id": "22adc3e3-c249-49fb-983d-bf1caf39a5a0",
   "metadata": {
    "tags": []
   },
   "outputs": [],
   "source": [
    "# set graphics \n",
    "graphics_toolkit (\"plotly\"); \n",
    "\n",
    "#input constant\n",
    "KH=10^-1.5; Ka1=10^-6.3; Ka2=10^-10.3; Ka3 =10^-9.74;pCO2=10^-3.5; Kw=10^-14; Ksp_CaOH2=5.5*10^-6; Ksp_CaCO3=4.8*10^-9; Ca_molmass=40.08;"
   ]
  },
  {
   "cell_type": "markdown",
   "id": "981cba01-dcc3-44c8-94b9-99d68e88fc56",
   "metadata": {},
   "source": [
    "## 1. Solubility of Ca(OH)2"
   ]
  },
  {
   "cell_type": "markdown",
   "id": "46b1d783-acca-4859-9127-e5389a2df1ec",
   "metadata": {
    "tags": []
   },
   "source": [
    "$$[Ca(OH)_2]=Ca^{2+}+2OH^-$$\n",
    "\n",
    "The solubility product constant\n",
    "\n",
    "$$K_{sp}=[Ca^{2+}]{[OH^-]}^2=5.5*10^{-6}$$\n",
    "\n",
    "if $[Ca^{2+}]=x$, $[OH^-]=2x$,\n",
    "then,\n",
    "$$K_{sp}=x*(2x)^2=4x^3=5.5*10^{-6}$$"
   ]
  },
  {
   "cell_type": "markdown",
   "id": "51fb9e84-7ddc-4166-bbe6-4b5806cc9baa",
   "metadata": {},
   "source": [
    "### Solve"
   ]
  },
  {
   "cell_type": "code",
   "execution_count": 2,
   "id": "accd0e90-130e-4b89-9ad7-0eeca74de1de",
   "metadata": {
    "tags": []
   },
   "outputs": [
    {
     "data": {
      "text/plain": [
       "x = 0.011120\n"
      ]
     },
     "metadata": {},
     "output_type": "display_data"
    },
    {
     "data": {
      "text/plain": [
       "OH_CaOH2 = 0.022240\n"
      ]
     },
     "metadata": {},
     "output_type": "display_data"
    },
    {
     "data": {
      "text/plain": [
       "H_CaOH2 = 4.4964e-13\n"
      ]
     },
     "metadata": {},
     "output_type": "display_data"
    },
    {
     "data": {
      "text/plain": [
       "pH_CaOH2 = 12.347\n"
      ]
     },
     "metadata": {},
     "output_type": "display_data"
    }
   ],
   "source": [
    "x=(Ksp_CaOH2/4)^(1/3)\n",
    "OH_CaOH2=2*x\n",
    "H_CaOH2=Kw/OH_CaOH2\n",
    "pH_CaOH2=-log10(H_CaOH2)"
   ]
  },
  {
   "cell_type": "markdown",
   "id": "d128f892-ad36-4cab-b734-b716286ba37b",
   "metadata": {},
   "source": [
    "so the solubility of Ca(OH)2 is 0.0111 mol/L, pH=12.347"
   ]
  },
  {
   "cell_type": "markdown",
   "id": "c1edd5ca-fb7c-4475-8526-7b1b0ff66463",
   "metadata": {},
   "source": [
    "$$C_T=[H_2CO_3]+[HCO_3^-]+[CO_3^{2-}]$$\n",
    "\n",
    "For HCO3,\n",
    "\n",
    "$$C_T=\\frac{[H^+][HCO_3^-]}{K_{a1}}+[HCO_3^-]+\\frac{K_{a2}[HCO_3^-]}{[H^+]}$$\n",
    "\n",
    "$$[{HCO}_3^-]=\\frac{K_{a1}*H*C_T}{H^2+K_{a1}*H + K_{a1}*K_{a2}}$$\n",
    "\n",
    "For CO3,\n",
    "\n",
    "$$[CO_3^{2-}]=\\frac{K_{a2}[HCO_3^-]}{[H^+]}=\\frac{K_{a1}*K_{a2}*C_T}{H^2+K_{a1}*H + K_{a1}*K_{a2}}$$\n",
    "\n",
    "For Ca,\n",
    "\n",
    "$$2[Ca^{2+}]+[H^+]=[OH^-]+[HCO_3^-]+2[CO_3^{2-}]$$"
   ]
  },
  {
   "cell_type": "markdown",
   "id": "48f468ef-02eb-4f0c-b4a6-00a8e2080159",
   "metadata": {
    "tags": []
   },
   "source": [
    "Set CT as 2*10-4 mol/L (the CT at time zero in our cement experiment Test B is around 10 mg/L) "
   ]
  },
  {
   "cell_type": "markdown",
   "id": "c4a419d9-8aec-4261-9e28-e9149ad74be8",
   "metadata": {
    "tags": []
   },
   "source": [
    "## 2. Predicted pH in closed system"
   ]
  },
  {
   "cell_type": "markdown",
   "id": "3eaf3e53-85c4-4002-be03-ab8a532d1ecd",
   "metadata": {
    "tags": []
   },
   "source": [
    "$$[H_2CO_3]=K_H*{pCO_2}$$\n",
    "\n",
    "$$[HCO_3^-]=\\frac{K_{a1}[H_2CO_3]}{[H^+]}=\\frac{K_{a1}*K_H*pCO_2}{[H^+]}$$\n",
    "\n",
    "$$[CO_3^{2-}]=\\frac{K_{a2}[HCO_3^-]}{[H^+]}=\\frac{K_{a2}\\frac{K_{a1}*K_H*pCO_2}{[H^+]}}{[H^+]}=\\frac{K_{a2}*K_{a1}*K_H*pCO_2}{[H^+]^2}$$\n",
    "\n",
    "$$[OH^-]=\\frac{K_w}{[H^+]}$$\n",
    "\n",
    "$$2[Ca^{2+}]+[H^+]=[OH^-]+[HCO_3^-]+2[CO_3^{2-}]$$\n",
    "\n",
    "$$[Ca^{2+}]=\\frac{[OH^-]+[HCO_3^-]+2[CO_3^{2-}]-[H^+]}{2}$$"
   ]
  },
  {
   "cell_type": "markdown",
   "id": "9f620630-b003-4ab4-9853-25884e4c7ed8",
   "metadata": {
    "tags": []
   },
   "source": [
    "## 3. Predicted pH in open system"
   ]
  },
  {
   "cell_type": "markdown",
   "id": "8e2abf7e-4caf-4ca7-9057-f655a0359833",
   "metadata": {},
   "source": [
    "For Ca,\n",
    "\n",
    "$$[Ca^{2+}]=\\frac{K_{sp, CaCO_3}}{[CO_3^2-]}=\\frac{K_{sp, CaCO_3}*[H^+]^2}{K_{a2}*K_{a1}*K_H*pCO_2}$$\n",
    "\n",
    "$$2[Ca^{2+}]+[H^+]=[OH^-]+[HCO_3^-]+2[CO_3^{2-}]$$\n",
    "\n",
    "$$2*\\frac{K_{sp, CaCO_3}*[H^+]^2}{K_{a2}*K_{a1}*K_H*pCO_2}+[H^+]=\\frac{K_w}{[H^+]}+\\frac{K_{a1}*K_H*pCO_2}{[H^+]}+2*\\frac{K_{a2}*K_{a1}*K_H*pCO_2}{[H^+]^2}$$\n",
    "\n",
    "$$2*\\frac{K_{sp, CaCO_3}*[H^+]^4}{K_{a2}*K_{a1}*K_H*pCO_2}+[H^+]^3-{K_w}*{[H^+]}-K_{a1}*K_H*pCO_2*[H^+]-2*K_{a2}*K_{a1}*K_H*pCO_2=0$$"
   ]
  },
  {
   "cell_type": "code",
   "execution_count": 3,
   "id": "6cb4abbc-c73d-4d6a-bc48-7763503f9b23",
   "metadata": {
    "tags": []
   },
   "outputs": [
    {
     "name": "stdout",
     "output_type": "stream",
     "text": [
      "11.625\n"
     ]
    }
   ],
   "source": [
    "% when balanced\n",
    "\n",
    "a=2*Ksp_CaCO3/(Ka2*Ka1*KH*pCO2);\n",
    "b=1;\n",
    "c=-(Kw+Ka1*KH*pCO2);\n",
    "d=-2*Ka2*Ka1*KH*pCO2;\n",
    "e=0;\n",
    "\n",
    "H0=roots([a b c d]);\n",
    "H0=H0(imag(H0)==0&H0>0);\n",
    "pH0=-log10(H0);\n",
    "disp(pH0)"
   ]
  },
  {
   "cell_type": "code",
   "execution_count": 4,
   "id": "0dd27773-4704-4064-80cd-f226048516ef",
   "metadata": {
    "tags": []
   },
   "outputs": [
    {
     "data": {
      "text/html": [
       "<table><tr><th><i>H<i></th><th>1</th><th>2</th><th>3</th><th>4</th><th>5</th><th>6</th><th>7</th><th>8</th><th>9</th><th>10</th><th>11</th><th>12</th><th>13</th><th>14</th><th>15</th><th>16</th><th>17</th><th>18</th><th>19</th><th>20</th><th>21</th><th>22</th><th>23</th><th>24</th><th>25</th><th>26</th><th>27</th><th>28</th><th>29</th><th>30</th><th>31</th><th>32</th><th>33</th><th>34</th><th>35</th><th>36</th><th>37</th><th>38</th><th>39</th><th>40</th><th>41</th><th>42</th><th>43</th><th>44</th><th>45</th><th>46</th><th>47</th><th>48</th><th>49</th><th>50</th><th>51</th><th>52</th><th>53</th><th>54</th><th>55</th><th>56</th><th>57</th><th>58</th><th>59</th><th>60</th><th>61</th><th>62</th><th>63</th><th>64</th><th>65</th><th>66</th><th>67</th><th>68</th><th>69</th><th>70</th><th>71</th><th>72</th><th>73</th><th>74</th><th>75</th><th>76</th><th>77</th><th>78</th><th>79</th><th>80</th><th>81</th><th>82</th><th>83</th><th>84</th><th>85</th><th>86</th><th>87</th><th>88</th><th>89</th><th>90</th><th>91</th><th>92</th><th>93</th><th>94</th><th>95</th><th>96</th><th>97</th><th>98</th><th>99</th><th>100</th></tr><tr><th>1</th><td>1e-14</td><td>1.35305e-14</td><td>1.83074e-14</td><td>2.47708e-14</td><td>3.3516e-14</td><td>4.53488e-14</td><td>6.13591e-14</td><td>8.30218e-14</td><td>1.12332e-13</td><td>1.51991e-13</td><td>2.05651e-13</td><td>2.78256e-13</td><td>3.76494e-13</td><td>5.09414e-13</td><td>6.89261e-13</td><td>9.32603e-13</td><td>1.26186e-12</td><td>1.70735e-12</td><td>2.31013e-12</td><td>3.12572e-12</td><td>4.22924e-12</td><td>5.72237e-12</td><td>7.74264e-12</td><td>1.04762e-11</td><td>1.41747e-11</td><td>1.91791e-11</td><td>2.59502e-11</td><td>3.51119e-11</td><td>4.75081e-11</td><td>6.42807e-11</td><td>8.69749e-11</td><td>1.17681e-10</td><td>1.59228e-10</td><td>2.15443e-10</td><td>2.91505e-10</td><td>3.94421e-10</td><td>5.3367e-10</td><td>7.22081e-10</td><td>9.7701e-10</td><td>1.32194e-09</td><td>1.78865e-09</td><td>2.42013e-09</td><td>3.27455e-09</td><td>4.43062e-09</td><td>5.99484e-09</td><td>8.11131e-09</td><td>1.0975e-08</td><td>1.48497e-08</td><td>2.00923e-08</td><td>2.71859e-08</td><td>3.67838e-08</td><td>4.97702e-08</td><td>6.73415e-08</td><td>9.11163e-08</td><td>1.23285e-07</td><td>1.6681e-07</td><td>2.25702e-07</td><td>3.05386e-07</td><td>4.13201e-07</td><td>5.59081e-07</td><td>7.56463e-07</td><td>1.02353e-06</td><td>1.38489e-06</td><td>1.87382e-06</td><td>2.53536e-06</td><td>3.43047e-06</td><td>4.64159e-06</td><td>6.28029e-06</td><td>8.49753e-06</td><td>1.14976e-05</td><td>1.55568e-05</td><td>2.1049e-05</td><td>2.84804e-05</td><td>3.85353e-05</td><td>5.21401e-05</td><td>7.0548e-05</td><td>9.54548e-05</td><td>0.000129155</td><td>0.000174753</td><td>0.000236449</td><td>0.000319927</td><td>0.000432876</td><td>0.000585702</td><td>0.000792483</td><td>0.00107227</td><td>0.00145083</td><td>0.00196304</td><td>0.00265609</td><td>0.00359381</td><td>0.0048626</td><td>0.00657933</td><td>0.00890215</td><td>0.012045</td><td>0.0162975</td><td>0.0220513</td><td>0.0298365</td><td>0.0403702</td><td>0.0546228</td><td>0.0739072</td><td>0.1</td></tr></table>"
      ],
      "text/plain": [
       "H =  Columns 1 through 6:\n",
       "\n",
       "   1.0000e-14   1.3530e-14   1.8307e-14   2.4771e-14   3.3516e-14   4.5349e-14\n",
       "\n",
       " Columns 7 through 12:\n",
       "\n",
       "   6.1359e-14   8.3022e-14   1.1233e-13   1.5199e-13   2.0565e-13   2.7826e-13\n",
       "\n",
       " Columns 13 through 18:\n",
       "\n",
       "   3.7649e-13   5.0941e-13   6.8926e-13   9.3260e-13   1.2619e-12   1.7074e-12\n",
       "\n",
       " Columns 19 through 24:\n",
       "\n",
       "   2.3101e-12   3.1257e-12   4.2292e-12   5.7224e-12   7.7426e-12   1.0476e-11\n",
       "\n",
       " Columns 25 through 30:\n",
       "\n",
       "   1.4175e-11   1.9179e-11   2.5950e-11   3.5112e-11   4.7508e-11   6.4281e-11\n",
       "\n",
       " Columns 31 through 36:\n",
       "\n",
       "   8.6975e-11   1.1768e-10   1.5923e-10   2.1544e-10   2.9151e-10   3.9442e-10\n",
       "\n",
       " Columns 37 through 42:\n",
       "\n",
       "   5.3367e-10   7.2208e-10   9.7701e-10   1.3219e-09   1.7886e-09   2.4201e-09\n",
       "\n",
       " Columns 43 through 48:\n",
       "\n",
       "   3.2745e-09   4.4306e-09   5.9948e-09   8.1113e-09   1.0975e-08   1.4850e-08\n",
       "\n",
       " Columns 49 through 54:\n",
       "\n",
       "   2.0092e-08   2.7186e-08   3.6784e-08   4.9770e-08   6.7342e-08   9.1116e-08\n",
       "\n",
       " Columns 55 through 60:\n",
       "\n",
       "   1.2328e-07   1.6681e-07   2.2570e-07   3.0539e-07   4.1320e-07   5.5908e-07\n",
       "\n",
       " Columns 61 through 66:\n",
       "\n",
       "   7.5646e-07   1.0235e-06   1.3849e-06   1.8738e-06   2.5354e-06   3.4305e-06\n",
       "\n",
       " Columns 67 through 72:\n",
       "\n",
       "   4.6416e-06   6.2803e-06   8.4975e-06   1.1498e-05   1.5557e-05   2.1049e-05\n",
       "\n",
       " Columns 73 through 78:\n",
       "\n",
       "   2.8480e-05   3.8535e-05   5.2140e-05   7.0548e-05   9.5455e-05   1.2915e-04\n",
       "\n",
       " Columns 79 through 84:\n",
       "\n",
       "   1.7475e-04   2.3645e-04   3.1993e-04   4.3288e-04   5.8570e-04   7.9248e-04\n",
       "\n",
       " Columns 85 through 90:\n",
       "\n",
       "   1.0723e-03   1.4508e-03   1.9630e-03   2.6561e-03   3.5938e-03   4.8626e-03\n",
       "\n",
       " Columns 91 through 96:\n",
       "\n",
       "   6.5793e-03   8.9022e-03   1.2045e-02   1.6298e-02   2.2051e-02   2.9836e-02\n",
       "\n",
       " Columns 97 through 100:\n",
       "\n",
       "   4.0370e-02   5.4623e-02   7.3907e-02   1.0000e-01\n"
      ]
     },
     "metadata": {},
     "output_type": "display_data"
    },
    {
     "data": {
      "text/html": [
       "<table><tr><th><i>Ca<i></th><th>1</th><th>2</th><th>3</th><th>4</th><th>5</th><th>6</th><th>7</th><th>8</th><th>9</th><th>10</th><th>11</th><th>12</th><th>13</th><th>14</th><th>15</th><th>16</th><th>17</th><th>18</th><th>19</th><th>20</th><th>21</th><th>22</th><th>23</th><th>24</th><th>25</th><th>26</th><th>27</th><th>28</th><th>29</th><th>30</th><th>31</th><th>32</th><th>33</th><th>34</th><th>35</th><th>36</th><th>37</th><th>38</th><th>39</th><th>40</th><th>41</th><th>42</th><th>43</th><th>44</th><th>45</th><th>46</th><th>47</th><th>48</th><th>49</th><th>50</th><th>51</th><th>52</th><th>53</th><th>54</th><th>55</th><th>56</th><th>57</th><th>58</th><th>59</th><th>60</th><th>61</th><th>62</th><th>63</th><th>64</th><th>65</th><th>66</th><th>67</th><th>68</th><th>69</th><th>70</th><th>71</th><th>72</th><th>73</th><th>74</th><th>75</th><th>76</th><th>77</th><th>78</th><th>79</th><th>80</th><th>81</th><th>82</th><th>83</th><th>84</th><th>85</th><th>86</th><th>87</th><th>88</th><th>89</th><th>90</th><th>91</th><th>92</th><th>93</th><th>94</th><th>95</th><th>96</th><th>97</th><th>98</th><th>99</th><th>100</th></tr><tr><th>1</th><td>1.91091e-15</td><td>3.49838e-15</td><td>6.40463e-15</td><td>1.17252e-14</td><td>2.14658e-14</td><td>3.92982e-14</td><td>7.19447e-14</td><td>1.31712e-13</td><td>2.4113e-13</td><td>4.41446e-13</td><td>8.08172e-13</td><td>1.47955e-12</td><td>2.70867e-12</td><td>4.95887e-12</td><td>9.07839e-12</td><td>1.66202e-11</td><td>3.04272e-11</td><td>5.57042e-11</td><td>1.0198e-10</td><td>1.86698e-10</td><td>3.41796e-10</td><td>6.25738e-10</td><td>1.14556e-09</td><td>2.09723e-09</td><td>3.83947e-09</td><td>7.02907e-09</td><td>1.28684e-08</td><td>2.35586e-08</td><td>4.31297e-08</td><td>7.89592e-08</td><td>1.44554e-07</td><td>2.6464e-07</td><td>4.84486e-07</td><td>8.86968e-07</td><td>1.62381e-06</td><td>2.97276e-06</td><td>5.44235e-06</td><td>9.96352e-06</td><td>1.82406e-05</td><td>3.33938e-05</td><td>6.11353e-05</td><td>0.000111923</td><td>0.000204901</td><td>0.00037512</td><td>0.000686747</td><td>0.00125725</td><td>0.0023017</td><td>0.00421382</td><td>0.00771439</td><td>0.014123</td><td>0.0258556</td><td>0.0473348</td><td>0.0866576</td><td>0.158647</td><td>0.290442</td><td>0.531723</td><td>0.973446</td><td>1.78213</td><td>3.2626</td><td>5.97298</td><td>10.935</td><td>20.019</td><td>36.6496</td><td>67.0959</td><td>122.835</td><td>224.879</td><td>411.694</td><td>753.704</td><td>1379.83</td><td>2526.12</td><td>4624.66</td><td>8466.54</td><td>15500</td><td>28376.5</td><td>51949.9</td><td>95106.7</td><td>174115</td><td>318760</td><td>583566</td><td>1.06836e+06</td><td>1.95588e+06</td><td>3.5807e+06</td><td>6.55533e+06</td><td>1.20011e+07</td><td>2.19709e+07</td><td>4.02229e+07</td><td>7.36376e+07</td><td>1.34811e+08</td><td>2.46804e+08</td><td>4.51834e+08</td><td>8.27189e+08</td><td>1.51437e+09</td><td>2.77241e+09</td><td>5.07556e+09</td><td>9.29202e+09</td><td>1.70112e+10</td><td>3.11431e+10</td><td>5.70149e+10</td><td>1.04379e+11</td><td>1.91091e+11</td></tr></table>"
      ],
      "text/plain": [
       "Ca =  Columns 1 through 6:\n",
       "\n",
       "   1.9109e-15   3.4984e-15   6.4046e-15   1.1725e-14   2.1466e-14   3.9298e-14\n",
       "\n",
       " Columns 7 through 12:\n",
       "\n",
       "   7.1945e-14   1.3171e-13   2.4113e-13   4.4145e-13   8.0817e-13   1.4796e-12\n",
       "\n",
       " Columns 13 through 18:\n",
       "\n",
       "   2.7087e-12   4.9589e-12   9.0784e-12   1.6620e-11   3.0427e-11   5.5704e-11\n",
       "\n",
       " Columns 19 through 24:\n",
       "\n",
       "   1.0198e-10   1.8670e-10   3.4180e-10   6.2574e-10   1.1456e-09   2.0972e-09\n",
       "\n",
       " Columns 25 through 30:\n",
       "\n",
       "   3.8395e-09   7.0291e-09   1.2868e-08   2.3559e-08   4.3130e-08   7.8959e-08\n",
       "\n",
       " Columns 31 through 36:\n",
       "\n",
       "   1.4455e-07   2.6464e-07   4.8449e-07   8.8697e-07   1.6238e-06   2.9728e-06\n",
       "\n",
       " Columns 37 through 42:\n",
       "\n",
       "   5.4424e-06   9.9635e-06   1.8241e-05   3.3394e-05   6.1135e-05   1.1192e-04\n",
       "\n",
       " Columns 43 through 48:\n",
       "\n",
       "   2.0490e-04   3.7512e-04   6.8675e-04   1.2573e-03   2.3017e-03   4.2138e-03\n",
       "\n",
       " Columns 49 through 54:\n",
       "\n",
       "   7.7144e-03   1.4123e-02   2.5856e-02   4.7335e-02   8.6658e-02   1.5865e-01\n",
       "\n",
       " Columns 55 through 60:\n",
       "\n",
       "   2.9044e-01   5.3172e-01   9.7345e-01   1.7821e+00   3.2626e+00   5.9730e+00\n",
       "\n",
       " Columns 61 through 66:\n",
       "\n",
       "   1.0935e+01   2.0019e+01   3.6650e+01   6.7096e+01   1.2283e+02   2.2488e+02\n",
       "\n",
       " Columns 67 through 72:\n",
       "\n",
       "   4.1169e+02   7.5370e+02   1.3798e+03   2.5261e+03   4.6247e+03   8.4665e+03\n",
       "\n",
       " Columns 73 through 78:\n",
       "\n",
       "   1.5500e+04   2.8376e+04   5.1950e+04   9.5107e+04   1.7412e+05   3.1876e+05\n",
       "\n",
       " Columns 79 through 84:\n",
       "\n",
       "   5.8357e+05   1.0684e+06   1.9559e+06   3.5807e+06   6.5553e+06   1.2001e+07\n",
       "\n",
       " Columns 85 through 90:\n",
       "\n",
       "   2.1971e+07   4.0223e+07   7.3638e+07   1.3481e+08   2.4680e+08   4.5183e+08\n",
       "\n",
       " Columns 91 through 96:\n",
       "\n",
       "   8.2719e+08   1.5144e+09   2.7724e+09   5.0756e+09   9.2920e+09   1.7011e+10\n",
       "\n",
       " Columns 97 through 100:\n",
       "\n",
       "   3.1143e+10   5.7015e+10   1.0438e+11   1.9109e+11\n"
      ]
     },
     "metadata": {},
     "output_type": "display_data"
    },
    {
     "data": {
      "text/html": [
       "<table><tr><th><i>pH<i></th><th>1</th><th>2</th><th>3</th><th>4</th><th>5</th><th>6</th><th>7</th><th>8</th><th>9</th><th>10</th><th>11</th><th>12</th><th>13</th><th>14</th><th>15</th><th>16</th><th>17</th><th>18</th><th>19</th><th>20</th><th>21</th><th>22</th><th>23</th><th>24</th><th>25</th><th>26</th><th>27</th><th>28</th><th>29</th><th>30</th><th>31</th><th>32</th><th>33</th><th>34</th><th>35</th><th>36</th><th>37</th><th>38</th><th>39</th><th>40</th><th>41</th><th>42</th><th>43</th><th>44</th><th>45</th><th>46</th><th>47</th><th>48</th><th>49</th><th>50</th><th>51</th><th>52</th><th>53</th><th>54</th><th>55</th><th>56</th><th>57</th><th>58</th><th>59</th><th>60</th><th>61</th><th>62</th><th>63</th><th>64</th><th>65</th><th>66</th><th>67</th><th>68</th><th>69</th><th>70</th><th>71</th><th>72</th><th>73</th><th>74</th><th>75</th><th>76</th><th>77</th><th>78</th><th>79</th><th>80</th><th>81</th><th>82</th><th>83</th><th>84</th><th>85</th><th>86</th><th>87</th><th>88</th><th>89</th><th>90</th><th>91</th><th>92</th><th>93</th><th>94</th><th>95</th><th>96</th><th>97</th><th>98</th><th>99</th><th>100</th></tr><tr><th>1</th><td>14</td><td>13.8687</td><td>13.7374</td><td>13.6061</td><td>13.4747</td><td>13.3434</td><td>13.2121</td><td>13.0808</td><td>12.9495</td><td>12.8182</td><td>12.6869</td><td>12.5556</td><td>12.4242</td><td>12.2929</td><td>12.1616</td><td>12.0303</td><td>11.899</td><td>11.7677</td><td>11.6364</td><td>11.5051</td><td>11.3737</td><td>11.2424</td><td>11.1111</td><td>10.9798</td><td>10.8485</td><td>10.7172</td><td>10.5859</td><td>10.4545</td><td>10.3232</td><td>10.1919</td><td>10.0606</td><td>9.92929</td><td>9.79798</td><td>9.66667</td><td>9.53535</td><td>9.40404</td><td>9.27273</td><td>9.14141</td><td>9.0101</td><td>8.87879</td><td>8.74747</td><td>8.61616</td><td>8.48485</td><td>8.35354</td><td>8.22222</td><td>8.09091</td><td>7.9596</td><td>7.82828</td><td>7.69697</td><td>7.56566</td><td>7.43434</td><td>7.30303</td><td>7.17172</td><td>7.0404</td><td>6.90909</td><td>6.77778</td><td>6.64646</td><td>6.51515</td><td>6.38384</td><td>6.25253</td><td>6.12121</td><td>5.9899</td><td>5.85859</td><td>5.72727</td><td>5.59596</td><td>5.46465</td><td>5.33333</td><td>5.20202</td><td>5.07071</td><td>4.93939</td><td>4.80808</td><td>4.67677</td><td>4.54545</td><td>4.41414</td><td>4.28283</td><td>4.15152</td><td>4.0202</td><td>3.88889</td><td>3.75758</td><td>3.62626</td><td>3.49495</td><td>3.36364</td><td>3.23232</td><td>3.10101</td><td>2.9697</td><td>2.83838</td><td>2.70707</td><td>2.57576</td><td>2.44444</td><td>2.31313</td><td>2.18182</td><td>2.05051</td><td>1.91919</td><td>1.78788</td><td>1.65657</td><td>1.52525</td><td>1.39394</td><td>1.26263</td><td>1.13131</td><td>1</td></tr></table>"
      ],
      "text/plain": [
       "pH =  Columns 1 through 8:\n",
       "\n",
       "   14.0000   13.8687   13.7374   13.6061   13.4747   13.3434   13.2121   13.0808\n",
       "\n",
       " Columns 9 through 16:\n",
       "\n",
       "   12.9495   12.8182   12.6869   12.5556   12.4242   12.2929   12.1616   12.0303\n",
       "\n",
       " Columns 17 through 24:\n",
       "\n",
       "   11.8990   11.7677   11.6364   11.5051   11.3737   11.2424   11.1111   10.9798\n",
       "\n",
       " Columns 25 through 32:\n",
       "\n",
       "   10.8485   10.7172   10.5859   10.4545   10.3232   10.1919   10.0606    9.9293\n",
       "\n",
       " Columns 33 through 40:\n",
       "\n",
       "    9.7980    9.6667    9.5354    9.4040    9.2727    9.1414    9.0101    8.8788\n",
       "\n",
       " Columns 41 through 48:\n",
       "\n",
       "    8.7475    8.6162    8.4848    8.3535    8.2222    8.0909    7.9596    7.8283\n",
       "\n",
       " Columns 49 through 56:\n",
       "\n",
       "    7.6970    7.5657    7.4343    7.3030    7.1717    7.0404    6.9091    6.7778\n",
       "\n",
       " Columns 57 through 64:\n",
       "\n",
       "    6.6465    6.5152    6.3838    6.2525    6.1212    5.9899    5.8586    5.7273\n",
       "\n",
       " Columns 65 through 72:\n",
       "\n",
       "    5.5960    5.4646    5.3333    5.2020    5.0707    4.9394    4.8081    4.6768\n",
       "\n",
       " Columns 73 through 80:\n",
       "\n",
       "    4.5455    4.4141    4.2828    4.1515    4.0202    3.8889    3.7576    3.6263\n",
       "\n",
       " Columns 81 through 88:\n",
       "\n",
       "    3.4949    3.3636    3.2323    3.1010    2.9697    2.8384    2.7071    2.5758\n",
       "\n",
       " Columns 89 through 96:\n",
       "\n",
       "    2.4444    2.3131    2.1818    2.0505    1.9192    1.7879    1.6566    1.5253\n",
       "\n",
       " Columns 97 through 100:\n",
       "\n",
       "    1.3939    1.2626    1.1313    1.0000\n"
      ]
     },
     "metadata": {},
     "output_type": "display_data"
    },
    {
     "data": {
      "application/vnd.plotly.v1+json": {
       "data": [
        {
         "line": {
          "color": "rgb(0,0,255)",
          "dash": "solid",
          "width": 2
         },
         "marker": {
          "color": "rgb(0,0,255)",
          "line": {
           "color": "rgb(0,0,255)"
          },
          "size": 6,
          "symbol": "none"
         },
         "mode": "lines",
         "name": "",
         "showlegend": false,
         "type": "scatter",
         "visibility": true,
         "x": [
          7.65894498997641e-11,
          1.4021523779826253e-10,
          2.5669740331799747e-10,
          4.699457627066777e-10,
          8.603476974497188e-10,
          1.5750714640851796e-09,
          2.883543623501588e-09,
          5.279013694445975e-09,
          9.664492452625728e-09,
          1.7693156292647615e-08,
          3.239153852419889e-08,
          5.9300429533913106e-08,
          1.0856356638569282e-07,
          1.9875147682767542e-07,
          3.638619368936635e-07,
          6.66135976613648e-07,
          1.2195206322685368e-06,
          2.2326231051040227e-06,
          4.087348583985847e-06,
          7.482865517613963e-06,
          1.3699168349398111e-05,
          2.5079591905453858e-05,
          4.5914168955500274e-05,
          8.40568267147836e-05,
          0.00015388605038690878,
          0.00028172508324677615,
          0.0005157648944192727,
          0.0009442305358458624,
          0.0017286389873968292,
          0.003164685567038374,
          0.005793711012675411,
          0.010606768535873726,
          0.01941821718885651,
          0.03554967354272914,
          0.06508214820667776,
          0.11914838008582065,
          0.2181295004582944,
          0.3993380265507058,
          0.7310834119839859,
          1.3384223884080337,
          2.450301101662945,
          4.48586002506427,
          8.212435667931905,
          15.03482035174601,
          27.524821155305325,
          50.39074374730128,
          92.2522635507386,
          168.88975032623443,
          309.1929310717647,
          566.0513349098075,
          1036.2918474316707,
          1897.1791546511683,
          3473.2385029983043,
          6358.590684034777,
          11640.915373991942,
          21311.469392845935,
          39015.722826826175,
          71427.57731246456,
          130765.20005468592,
          239396.8574705957,
          438272.9911538323,
          802363.1421248746,
          1468916.9189860825,
          2689202.434161354,
          4923225.839682678,
          9013138.007246358,
          16500696.775451032,
          30208457.23836458,
          55303779.05493976,
          101246745.36087553,
          185356292.48747247,
          339338860.15043944,
          621240641.2692068,
          1137329023.2467802,
          2082151780.148814,
          3811874969.3035827,
          6978545426.003805,
          12775890252.165327,
          23389311349.491528,
          42819707637.26109,
          78391677922.58972,
          143514645629.4704,
          262737755536.8955,
          481004066740.2813,
          880592557959.1818,
          1612134505199.0896,
          2951396351653.009,
          5403234281295.246,
          9891907836171.447,
          18109494340832.81,
          33153744526554.984,
          60695829239897.17,
          111118178043750.66,
          203428302181370.6,
          372423980098929.2,
          681810836867070,
          1248217198972765,
          2285159008282503.5,
          4183528073024579,
          7658944989976413
         ],
         "xaxis": "x",
         "y": [
          14,
          13.868686868686869,
          13.737373737373737,
          13.606060606060606,
          13.474747474747474,
          13.343434343434343,
          13.212121212121213,
          13.080808080808081,
          12.94949494949495,
          12.818181818181818,
          12.686868686868687,
          12.555555555555555,
          12.424242424242424,
          12.292929292929292,
          12.16161616161616,
          12.03030303030303,
          11.8989898989899,
          11.767676767676768,
          11.636363636363637,
          11.505050505050505,
          11.373737373737374,
          11.242424242424242,
          11.11111111111111,
          10.97979797979798,
          10.848484848484848,
          10.717171717171716,
          10.585858585858585,
          10.454545454545453,
          10.323232323232322,
          10.191919191919192,
          10.06060606060606,
          9.929292929292929,
          9.797979797979798,
          9.666666666666666,
          9.535353535353535,
          9.404040404040405,
          9.272727272727273,
          9.141414141414142,
          9.01010101010101,
          8.878787878787879,
          8.747474747474747,
          8.616161616161616,
          8.484848484848484,
          8.353535353535353,
          8.222222222222221,
          8.09090909090909,
          7.959595959595959,
          7.828282828282828,
          7.696969696969696,
          7.565656565656565,
          7.434343434343435,
          7.303030303030304,
          7.171717171717172,
          7.040404040404041,
          6.90909090909091,
          6.777777777777779,
          6.646464646464647,
          6.515151515151516,
          6.383838383838384,
          6.252525252525253,
          6.121212121212122,
          5.9898989898989905,
          5.858585858585859,
          5.7272727272727275,
          5.595959595959596,
          5.464646464646465,
          5.333333333333334,
          5.202020202020202,
          5.070707070707071,
          4.9393939393939394,
          4.808080808080808,
          4.676767676767677,
          4.545454545454546,
          4.414141414141414,
          4.282828282828284,
          4.151515151515152,
          4.020202020202021,
          3.8888888888888893,
          3.757575757575758,
          3.6262626262626263,
          3.4949494949494953,
          3.3636363636363638,
          3.2323232323232327,
          3.101010101010101,
          2.9696969696969697,
          2.8383838383838387,
          2.707070707070707,
          2.575757575757576,
          2.4444444444444446,
          2.313131313131313,
          2.1818181818181817,
          2.0505050505050506,
          1.9191919191919193,
          1.787878787878788,
          1.6565656565656566,
          1.5252525252525253,
          1.393939393939394,
          1.2626262626262625,
          1.1313131313131313,
          1
         ],
         "yaxis": "y"
        }
       ],
       "layout": {
        "height": 420,
        "hovermode": "closest",
        "margin": {
         "b": 0,
         "l": 0,
         "r": 0,
         "t": 0
        },
        "plot_bgcolor": "rgba(0,0,0,0)",
        "showlegend": false,
        "width": 560,
        "xaxis": {
         "anchor": "y",
         "autorange": false,
         "domain": [
          0.13,
          0.905
         ],
         "exponentformat": "none",
         "gridcolor": "rgba(38,38,38,0.15)",
         "gridwidth": 2,
         "linecolor": "rgb(38,38,38)",
         "linewidth": 2,
         "mirror": "ticks",
         "range": [
          10,
          10000
         ],
         "showgrid": true,
         "showline": true,
         "side": "bottom",
         "spikedash": "solid",
         "spikemode": "across",
         "spikesides": false,
         "spikethickness": 1,
         "tickangle": 0,
         "tickcolor": "rgb(38,38,38)",
         "tickfont": {
          "color": "rgb(38,38,38)",
          "size": 12
         },
         "ticklen": 3,
         "ticks": "inside",
         "ticktext": [
          "2000",
          "4000",
          "6000",
          "8000",
          "10000"
         ],
         "tickvals": [
          2000,
          4000,
          6000,
          8000,
          10000
         ],
         "title": {
          "font": {
           "color": "rgb(38,38,38)",
           "size": 13.200000000000001
          },
          "text": "Ca<sup>2+</sup> Concentration (ppm)"
         },
         "type": "linear",
         "visible": true,
         "zeroline": false
        },
        "yaxis": {
         "anchor": "x",
         "autorange": false,
         "domain": [
          0.11,
          0.9249999999999999
         ],
         "exponentformat": "none",
         "gridcolor": "rgba(38,38,38,0.15)",
         "gridwidth": 2,
         "linecolor": "rgb(38,38,38)",
         "linewidth": 2,
         "mirror": "ticks",
         "range": [
          1,
          11
         ],
         "showgrid": true,
         "showline": true,
         "side": "left",
         "spikedash": "solid",
         "spikemode": "across",
         "spikesides": false,
         "spikethickness": 1,
         "tickangle": 0,
         "tickcolor": "rgb(38,38,38)",
         "tickfont": {
          "color": "rgb(38,38,38)",
          "size": 12
         },
         "ticklen": 3,
         "ticks": "inside",
         "ticktext": [
          "2",
          "4",
          "6",
          "8",
          "10"
         ],
         "tickvals": [
          2,
          4,
          6,
          8,
          10
         ],
         "title": {
          "font": {
           "color": "rgb(38,38,38)",
           "size": 13.200000000000001
          },
          "text": "pH"
         },
         "type": "linear",
         "visible": true,
         "zeroline": false
        }
       }
      },
      "image/png": "[encoded data removed]"
     },
     "metadata": {},
     "output_type": "display_data"
    }
   ],
   "source": [
    "graphics_toolkit (\"plotly\");\n",
    "\n",
    "H=logspace(-14, -1, 100)\n",
    "\n",
    "H2CO3=KH*pCO2;\n",
    "HCO3=(Ka1*H2CO3)./H;\n",
    "CO3=(Ka2*HCO3)./H;\n",
    "OH=Kw./H;\n",
    "\n",
    "Ca=Ksp_CaCO3./CO3\n",
    "pH=-log10(H)\n",
    "\n",
    "figure;\n",
    "h1=plot(Ca*1000*Ca_molmass, pH, 'b-', 'LineWidth', 2);\n",
    "xlabel('Ca^{2+} Concentration (ppm)');\n",
    "ylabel('pH');\n",
    "set(gca,'linewidth',2,'fontsize',12);\n",
    "axis([10 10000 1 11])\n",
    "grid on;\n"
   ]
  },
  {
   "cell_type": "code",
   "execution_count": null,
   "id": "b9f5b642-35d3-4161-8a34-4ddac00f19a4",
   "metadata": {},
   "outputs": [],
   "source": []
  }
 ],
 "metadata": {
  "kernelspec": {
   "display_name": "Octave (xoctave)",
   "language": "Octave",
   "name": "xoctave"
  },
  "language_info": {
   "codemirror_mode": "octave",
   "file_extension": ".m",
   "mimetype": "text/x-octave",
   "name": "Octave",
   "nbconvert_exporter": "",
   "pygments_lexer": "octave",
   "version": "7.3.0"
  }
 },
 "nbformat": 4,
 "nbformat_minor": 5
}
