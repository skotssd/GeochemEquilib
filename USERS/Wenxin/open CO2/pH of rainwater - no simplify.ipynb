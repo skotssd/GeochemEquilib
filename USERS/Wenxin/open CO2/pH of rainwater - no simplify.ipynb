{
 "cells": [
  {
   "cell_type": "markdown",
   "id": "33f642d0-1df9-4653-9211-b89cd8ef7327",
   "metadata": {},
   "source": [
    "# Calculate pH of rainwater"
   ]
  },
  {
   "cell_type": "markdown",
   "id": "68f67318-1006-42f7-9f94-81c37bef450b",
   "metadata": {
    "tags": []
   },
   "source": [
    "## Define constant\n",
    "\n",
    "$$K_H=\\frac{[H_2CO_3]}{pCO_2}=10^{-1.5}$$\n",
    "\n",
    "$$K_{a1}=\\frac{[H^+][HCO_3^-]}{[H_2CO_3]}=10^{-6.3}$$\n",
    "\n",
    "$$K_{a2}=\\frac{[H^+][CO_3^{2-}]}{[HCO_3^-]}=10^{-10.3}$$\n",
    "\n",
    "$$K_w=[H^+][OH^-]=10^{-14}$$\n",
    "\n",
    "$$pCO_2=10^{-3.5}$$"
   ]
  },
  {
   "cell_type": "code",
   "execution_count": 1,
   "id": "11a38209-e604-41d9-8ed1-e7c0da416625",
   "metadata": {
    "tags": []
   },
   "outputs": [
    {
     "data": {
      "text/plain": [
       "K_H = 0.031623\n"
      ]
     },
     "metadata": {},
     "output_type": "display_data"
    },
    {
     "data": {
      "text/plain": [
       "K_a1 = 5.0119e-07\n"
      ]
     },
     "metadata": {},
     "output_type": "display_data"
    },
    {
     "data": {
      "text/plain": [
       "K_a2 = 5.0119e-11\n"
      ]
     },
     "metadata": {},
     "output_type": "display_data"
    },
    {
     "data": {
      "text/plain": [
       "K_w = 1.0000e-14\n"
      ]
     },
     "metadata": {},
     "output_type": "display_data"
    },
    {
     "data": {
      "text/plain": [
       "pCO_2 = 3.1623e-04\n"
      ]
     },
     "metadata": {},
     "output_type": "display_data"
    }
   ],
   "source": [
    "K_H=10^-1.5, K_a1=10^-6.3, K_a2=10^-10.3, K_w=10^-14, pCO_2=10^-3.5"
   ]
  },
  {
   "cell_type": "markdown",
   "id": "683f7ef5-5af2-409a-8547-a4ea13461788",
   "metadata": {
    "tags": []
   },
   "source": [
    "## Equation\n",
    "\n",
    "$$[H^+]=[HCO_3^-]+2[CO_3^{2-}]+[OH^-]$$\n",
    "\n",
    "$$[HCO_3^-]=\\frac{K_{a1}[H_2CO_3]}{[H^+]}=\\frac{K_{a1}*K_H*pCO_2}{[H^+]}$$\n",
    "\n",
    "$$[CO_3^2-]=\\frac{K_{a2}[HCO_3^-]}{[H^+]}=\\frac{K_{a2}\\frac{K_{a1}*K_H*pCO_2}{[H^+]}}{[H^+]}=\\frac{K_{a2}*K_{a1}*K_H*pCO_2}{[H^+]^2}$$\n",
    "\n",
    "$$[OH^-]=\\frac{K_w}{[H^+]}$$\n",
    "\n",
    "so,\n",
    "\n",
    "$$[H^+]=\\frac{K_{a1}*K_H*pCO_2}{[H^+]}+2*\\frac{K_{a2}*K_{a1}*K_H*pCO_2}{[H^+]^2}+\\frac{K_w}{[H^+]}$$\n",
    "\n",
    "$$[H^+]^3=K_{a1}*K_H*pCO_2*[H^+]+2*K_{a2}*K_{a1}*K_H*pCO_2+K_w*[H^+]$$\n",
    "\n",
    "finally,\n",
    "\n",
    "$$[H^+]^3-(K_{a1}*K_H*pCO_2+K_w)[H^+]-2*K_{a2}*K_{a1}*K_H*pCO_2=0$$"
   ]
  },
  {
   "cell_type": "markdown",
   "id": "320a066e-d7d0-4ecd-98b5-36cca0d0ecaa",
   "metadata": {},
   "source": [
    "## Solve"
   ]
  },
  {
   "cell_type": "code",
   "execution_count": 2,
   "id": "dbd6369b-aeac-46c5-b312-a0a3e3c2a80c",
   "metadata": {
    "tags": []
   },
   "outputs": [],
   "source": [
    "a=1;\n",
    "b=0;\n",
    "c=-(K_a1*K_H*pCO_2+K_w);\n",
    "d=-2*K_a2*K_a1*K_H*pCO_2;\n",
    "\n",
    "% Refer to the calculation codes of Scott\n",
    "\n",
    "H=roots([a b c d]);\n",
    "H=H(imag(H)==0); %sets any imaginary roots to zero"
   ]
  },
  {
   "cell_type": "markdown",
   "id": "73d74377-16c7-4318-9b68-9ad7926590c0",
   "metadata": {
    "tags": []
   },
   "source": [
    "## Calsium"
   ]
  },
  {
   "cell_type": "markdown",
   "id": "c8f33150-abf7-460f-94e7-b8f93ee083aa",
   "metadata": {
    "tags": []
   },
   "source": [
    "$$Ca(OH)_2+CO_2=CaCO_3+H_2O$$\n",
    "\n",
    "$$Ca(OH)_2⇋Ca^{2+}+2OH^-$$\n",
    "\n",
    "$$2[Ca^{2+}]=[OH^-]=K_w*[H^+]$$\n",
    "\n",
    "$$[H^+]=\\frac{K_w}{2[Ca^{2+}]}$$\n",
    "\n",
    "$$pH=-log_{10}(\\frac{K_w}{2[Ca^{2+}]})$$"
   ]
  },
  {
   "cell_type": "markdown",
   "id": "2977eb0d-ef74-4b83-9913-8a261abf215c",
   "metadata": {},
   "source": [
    "According to Test B, "
   ]
  },
  {
   "cell_type": "markdown",
   "id": "333e6fe8-de9b-4a47-a766-2472f73c22c1",
   "metadata": {},
   "source": [
    "## Calculation"
   ]
  },
  {
   "cell_type": "code",
   "execution_count": 3,
   "id": "c0ddf4b5-ec32-4158-9ab9-4b5da1ac8e6a",
   "metadata": {
    "tags": []
   },
   "outputs": [
    {
     "name": "stdout",
     "output_type": "stream",
     "text": [
      "2.2410e-06\n",
      "5.6496\n"
     ]
    }
   ],
   "source": [
    "H=H(H>0);\n",
    "pH=-log10(H);\n",
    "disp(H);\n",
    "disp(pH);"
   ]
  },
  {
   "cell_type": "markdown",
   "id": "cddc96b6-a841-4f05-84b7-66f4282d101c",
   "metadata": {},
   "source": [
    "## Plot"
   ]
  },
  {
   "cell_type": "code",
   "execution_count": 4,
   "id": "f97be1de-5445-4df0-ac7c-f39d5505db34",
   "metadata": {
    "tags": []
   },
   "outputs": [
    {
     "data": {
      "application/vnd.plotly.v1+json": {
       "data": [
        {
         "line": {
          "color": "rgb(0,255,255)",
          "width": 2
         },
         "marker": {
          "color": "rgb(0,255,255)",
          "line": {
           "color": "rgb(0,255,255)"
          },
          "size": 6,
          "symbol": "circle"
         },
         "mode": "markers",
         "name": "H_2CO_3",
         "showlegend": true,
         "type": "scatter",
         "visibility": true,
         "x": [
          0
         ],
         "xaxis": "x",
         "y": [
          9.999999999999999e-06
         ],
         "yaxis": "y"
        },
        {
         "line": {
          "color": "rgb(0,255,255)",
          "width": 2
         },
         "marker": {
          "color": "rgb(0,255,255)",
          "line": {
           "color": "rgb(0,255,255)"
          },
          "size": 6,
          "symbol": "circle"
         },
         "mode": "markers",
         "name": "HCO_3(-)",
         "showlegend": true,
         "type": "scatter",
         "visibility": true,
         "x": [
          0.1
         ],
         "xaxis": "x",
         "y": [
          9.999999999999999e-06
         ],
         "yaxis": "y"
        },
        {
         "line": {
          "color": "rgb(0,255,255)",
          "width": 2
         },
         "marker": {
          "color": "rgb(0,255,255)",
          "line": {
           "color": "rgb(0,255,255)"
          },
          "size": 6,
          "symbol": "circle"
         },
         "mode": "markers",
         "name": "CO_3(2-)",
         "showlegend": true,
         "type": "scatter",
         "visibility": true,
         "x": [
          0.2
         ],
         "xaxis": "x",
         "y": [
          9.999999999999999e-06
         ],
         "yaxis": "y"
        },
        {
         "line": {
          "color": "rgb(0,255,255)",
          "width": 2
         },
         "marker": {
          "color": "rgb(0,255,255)",
          "line": {
           "color": "rgb(0,255,255)"
          },
          "size": 6,
          "symbol": "circle"
         },
         "mode": "markers",
         "name": "OH(-)",
         "showlegend": true,
         "type": "scatter",
         "visibility": true,
         "x": [
          0.30000000000000004
         ],
         "xaxis": "x",
         "y": [
          9.999999999999999e-06
         ],
         "yaxis": "y"
        },
        {
         "line": {
          "color": "rgb(0,255,255)",
          "width": 2
         },
         "marker": {
          "color": "rgb(0,255,255)",
          "line": {
           "color": "rgb(0,255,255)"
          },
          "size": 6,
          "symbol": "circle"
         },
         "mode": "markers",
         "name": "Ca",
         "showlegend": true,
         "type": "scatter",
         "visibility": true,
         "x": [
          0.4
         ],
         "xaxis": "x",
         "y": [
          9.999999999999999e-06
         ],
         "yaxis": "y"
        },
        {
         "line": {
          "color": "rgb(0,255,255)",
          "width": 2
         },
         "marker": {
          "color": "rgb(0,255,255)",
          "line": {
           "color": "rgb(0,255,255)"
          },
          "size": 6,
          "symbol": "circle"
         },
         "mode": "markers",
         "name": "",
         "showlegend": false,
         "type": "scatter",
         "visibility": true,
         "x": [
          0.5
         ],
         "xaxis": "x",
         "y": [
          9.999999999999999e-06
         ],
         "yaxis": "y"
        },
        {
         "line": {
          "color": "rgb(0,255,255)",
          "width": 2
         },
         "marker": {
          "color": "rgb(0,255,255)",
          "line": {
           "color": "rgb(0,255,255)"
          },
          "size": 6,
          "symbol": "circle"
         },
         "mode": "markers",
         "name": "",
         "showlegend": false,
         "type": "scatter",
         "visibility": true,
         "x": [
          0.6000000000000001
         ],
         "xaxis": "x",
         "y": [
          9.999999999999999e-06
         ],
         "yaxis": "y"
        },
        {
         "line": {
          "color": "rgb(0,255,255)",
          "width": 2
         },
         "marker": {
          "color": "rgb(0,255,255)",
          "line": {
           "color": "rgb(0,255,255)"
          },
          "size": 6,
          "symbol": "circle"
         },
         "mode": "markers",
         "name": "",
         "showlegend": false,
         "type": "scatter",
         "visibility": true,
         "x": [
          0.7000000000000001
         ],
         "xaxis": "x",
         "y": [
          9.999999999999999e-06
         ],
         "yaxis": "y"
        },
        {
         "line": {
          "color": "rgb(0,255,255)",
          "width": 2
         },
         "marker": {
          "color": "rgb(0,255,255)",
          "line": {
           "color": "rgb(0,255,255)"
          },
          "size": 6,
          "symbol": "circle"
         },
         "mode": "markers",
         "name": "",
         "showlegend": false,
         "type": "scatter",
         "visibility": true,
         "x": [
          0.8
         ],
         "xaxis": "x",
         "y": [
          9.999999999999999e-06
         ],
         "yaxis": "y"
        },
        {
         "line": {
          "color": "rgb(0,255,255)",
          "width": 2
         },
         "marker": {
          "color": "rgb(0,255,255)",
          "line": {
           "color": "rgb(0,255,255)"
          },
          "size": 6,
          "symbol": "circle"
         },
         "mode": "markers",
         "name": "",
         "showlegend": false,
         "type": "scatter",
         "visibility": true,
         "x": [
          0.9
         ],
         "xaxis": "x",
         "y": [
          9.999999999999999e-06
         ],
         "yaxis": "y"
        },
        {
         "line": {
          "color": "rgb(0,255,255)",
          "width": 2
         },
         "marker": {
          "color": "rgb(0,255,255)",
          "line": {
           "color": "rgb(0,255,255)"
          },
          "size": 6,
          "symbol": "circle"
         },
         "mode": "markers",
         "name": "",
         "showlegend": false,
         "type": "scatter",
         "visibility": true,
         "x": [
          1
         ],
         "xaxis": "x",
         "y": [
          9.999999999999999e-06
         ],
         "yaxis": "y"
        },
        {
         "line": {
          "color": "rgb(0,255,255)",
          "width": 2
         },
         "marker": {
          "color": "rgb(0,255,255)",
          "line": {
           "color": "rgb(0,255,255)"
          },
          "size": 6,
          "symbol": "circle"
         },
         "mode": "markers",
         "name": "",
         "showlegend": false,
         "type": "scatter",
         "visibility": true,
         "x": [
          1.1
         ],
         "xaxis": "x",
         "y": [
          9.999999999999999e-06
         ],
         "yaxis": "y"
        },
        {
         "line": {
          "color": "rgb(0,255,255)",
          "width": 2
         },
         "marker": {
          "color": "rgb(0,255,255)",
          "line": {
           "color": "rgb(0,255,255)"
          },
          "size": 6,
          "symbol": "circle"
         },
         "mode": "markers",
         "name": "",
         "showlegend": false,
         "type": "scatter",
         "visibility": true,
         "x": [
          1.2000000000000002
         ],
         "xaxis": "x",
         "y": [
          9.999999999999999e-06
         ],
         "yaxis": "y"
        },
        {
         "line": {
          "color": "rgb(0,255,255)",
          "width": 2
         },
         "marker": {
          "color": "rgb(0,255,255)",
          "line": {
           "color": "rgb(0,255,255)"
          },
          "size": 6,
          "symbol": "circle"
         },
         "mode": "markers",
         "name": "",
         "showlegend": false,
         "type": "scatter",
         "visibility": true,
         "x": [
          1.3
         ],
         "xaxis": "x",
         "y": [
          9.999999999999999e-06
         ],
         "yaxis": "y"
        },
        {
         "line": {
          "color": "rgb(0,255,255)",
          "width": 2
         },
         "marker": {
          "color": "rgb(0,255,255)",
          "line": {
           "color": "rgb(0,255,255)"
          },
          "size": 6,
          "symbol": "circle"
         },
         "mode": "markers",
         "name": "",
         "showlegend": false,
         "type": "scatter",
         "visibility": true,
         "x": [
          1.4000000000000001
         ],
         "xaxis": "x",
         "y": [
          9.999999999999999e-06
         ],
         "yaxis": "y"
        },
        {
         "line": {
          "color": "rgb(0,255,255)",
          "width": 2
         },
         "marker": {
          "color": "rgb(0,255,255)",
          "line": {
           "color": "rgb(0,255,255)"
          },
          "size": 6,
          "symbol": "circle"
         },
         "mode": "markers",
         "name": "",
         "showlegend": false,
         "type": "scatter",
         "visibility": true,
         "x": [
          1.5
         ],
         "xaxis": "x",
         "y": [
          9.999999999999999e-06
         ],
         "yaxis": "y"
        },
        {
         "line": {
          "color": "rgb(0,255,255)",
          "width": 2
         },
         "marker": {
          "color": "rgb(0,255,255)",
          "line": {
           "color": "rgb(0,255,255)"
          },
          "size": 6,
          "symbol": "circle"
         },
         "mode": "markers",
         "name": "",
         "showlegend": false,
         "type": "scatter",
         "visibility": true,
         "x": [
          1.6
         ],
         "xaxis": "x",
         "y": [
          9.999999999999999e-06
         ],
         "yaxis": "y"
        },
        {
         "line": {
          "color": "rgb(0,255,255)",
          "width": 2
         },
         "marker": {
          "color": "rgb(0,255,255)",
          "line": {
           "color": "rgb(0,255,255)"
          },
          "size": 6,
          "symbol": "circle"
         },
         "mode": "markers",
         "name": "",
         "showlegend": false,
         "type": "scatter",
         "visibility": true,
         "x": [
          1.7000000000000002
         ],
         "xaxis": "x",
         "y": [
          9.999999999999999e-06
         ],
         "yaxis": "y"
        },
        {
         "line": {
          "color": "rgb(0,255,255)",
          "width": 2
         },
         "marker": {
          "color": "rgb(0,255,255)",
          "line": {
           "color": "rgb(0,255,255)"
          },
          "size": 6,
          "symbol": "circle"
         },
         "mode": "markers",
         "name": "",
         "showlegend": false,
         "type": "scatter",
         "visibility": true,
         "x": [
          1.8
         ],
         "xaxis": "x",
         "y": [
          9.999999999999999e-06
         ],
         "yaxis": "y"
        },
        {
         "line": {
          "color": "rgb(0,255,255)",
          "width": 2
         },
         "marker": {
          "color": "rgb(0,255,255)",
          "line": {
           "color": "rgb(0,255,255)"
          },
          "size": 6,
          "symbol": "circle"
         },
         "mode": "markers",
         "name": "",
         "showlegend": false,
         "type": "scatter",
         "visibility": true,
         "x": [
          1.9000000000000001
         ],
         "xaxis": "x",
         "y": [
          9.999999999999999e-06
         ],
         "yaxis": "y"
        },
        {
         "line": {
          "color": "rgb(0,255,255)",
          "width": 2
         },
         "marker": {
          "color": "rgb(0,255,255)",
          "line": {
           "color": "rgb(0,255,255)"
          },
          "size": 6,
          "symbol": "circle"
         },
         "mode": "markers",
         "name": "",
         "showlegend": false,
         "type": "scatter",
         "visibility": true,
         "x": [
          2
         ],
         "xaxis": "x",
         "y": [
          9.999999999999999e-06
         ],
         "yaxis": "y"
        },
        {
         "line": {
          "color": "rgb(0,255,255)",
          "width": 2
         },
         "marker": {
          "color": "rgb(0,255,255)",
          "line": {
           "color": "rgb(0,255,255)"
          },
          "size": 6,
          "symbol": "circle"
         },
         "mode": "markers",
         "name": "",
         "showlegend": false,
         "type": "scatter",
         "visibility": true,
         "x": [
          2.1
         ],
         "xaxis": "x",
         "y": [
          9.999999999999999e-06
         ],
         "yaxis": "y"
        },
        {
         "line": {
          "color": "rgb(0,255,255)",
          "width": 2
         },
         "marker": {
          "color": "rgb(0,255,255)",
          "line": {
           "color": "rgb(0,255,255)"
          },
          "size": 6,
          "symbol": "circle"
         },
         "mode": "markers",
         "name": "",
         "showlegend": false,
         "type": "scatter",
         "visibility": true,
         "x": [
          2.2
         ],
         "xaxis": "x",
         "y": [
          9.999999999999999e-06
         ],
         "yaxis": "y"
        },
        {
         "line": {
          "color": "rgb(0,255,255)",
          "width": 2
         },
         "marker": {
          "color": "rgb(0,255,255)",
          "line": {
           "color": "rgb(0,255,255)"
          },
          "size": 6,
          "symbol": "circle"
         },
         "mode": "markers",
         "name": "",
         "showlegend": false,
         "type": "scatter",
         "visibility": true,
         "x": [
          2.3000000000000003
         ],
         "xaxis": "x",
         "y": [
          9.999999999999999e-06
         ],
         "yaxis": "y"
        },
        {
         "line": {
          "color": "rgb(0,255,255)",
          "width": 2
         },
         "marker": {
          "color": "rgb(0,255,255)",
          "line": {
           "color": "rgb(0,255,255)"
          },
          "size": 6,
          "symbol": "circle"
         },
         "mode": "markers",
         "name": "",
         "showlegend": false,
         "type": "scatter",
         "visibility": true,
         "x": [
          2.4000000000000004
         ],
         "xaxis": "x",
         "y": [
          9.999999999999999e-06
         ],
         "yaxis": "y"
        },
        {
         "line": {
          "color": "rgb(0,255,255)",
          "width": 2
         },
         "marker": {
          "color": "rgb(0,255,255)",
          "line": {
           "color": "rgb(0,255,255)"
          },
          "size": 6,
          "symbol": "circle"
         },
         "mode": "markers",
         "name": "",
         "showlegend": false,
         "type": "scatter",
         "visibility": true,
         "x": [
          2.5
         ],
         "xaxis": "x",
         "y": [
          9.999999999999999e-06
         ],
         "yaxis": "y"
        },
        {
         "line": {
          "color": "rgb(0,255,255)",
          "width": 2
         },
         "marker": {
          "color": "rgb(0,255,255)",
          "line": {
           "color": "rgb(0,255,255)"
          },
          "size": 6,
          "symbol": "circle"
         },
         "mode": "markers",
         "name": "",
         "showlegend": false,
         "type": "scatter",
         "visibility": true,
         "x": [
          2.6
         ],
         "xaxis": "x",
         "y": [
          9.999999999999999e-06
         ],
         "yaxis": "y"
        },
        {
         "line": {
          "color": "rgb(0,255,255)",
          "width": 2
         },
         "marker": {
          "color": "rgb(0,255,255)",
          "line": {
           "color": "rgb(0,255,255)"
          },
          "size": 6,
          "symbol": "circle"
         },
         "mode": "markers",
         "name": "",
         "showlegend": false,
         "type": "scatter",
         "visibility": true,
         "x": [
          2.7
         ],
         "xaxis": "x",
         "y": [
          9.999999999999999e-06
         ],
         "yaxis": "y"
        },
        {
         "line": {
          "color": "rgb(0,255,255)",
          "width": 2
         },
         "marker": {
          "color": "rgb(0,255,255)",
          "line": {
           "color": "rgb(0,255,255)"
          },
          "size": 6,
          "symbol": "circle"
         },
         "mode": "markers",
         "name": "",
         "showlegend": false,
         "type": "scatter",
         "visibility": true,
         "x": [
          2.8000000000000003
         ],
         "xaxis": "x",
         "y": [
          9.999999999999999e-06
         ],
         "yaxis": "y"
        },
        {
         "line": {
          "color": "rgb(0,255,255)",
          "width": 2
         },
         "marker": {
          "color": "rgb(0,255,255)",
          "line": {
           "color": "rgb(0,255,255)"
          },
          "size": 6,
          "symbol": "circle"
         },
         "mode": "markers",
         "name": "",
         "showlegend": false,
         "type": "scatter",
         "visibility": true,
         "x": [
          2.9000000000000004
         ],
         "xaxis": "x",
         "y": [
          9.999999999999999e-06
         ],
         "yaxis": "y"
        },
        {
         "line": {
          "color": "rgb(0,255,255)",
          "width": 2
         },
         "marker": {
          "color": "rgb(0,255,255)",
          "line": {
           "color": "rgb(0,255,255)"
          },
          "size": 6,
          "symbol": "circle"
         },
         "mode": "markers",
         "name": "",
         "showlegend": false,
         "type": "scatter",
         "visibility": true,
         "x": [
          3
         ],
         "xaxis": "x",
         "y": [
          9.999999999999999e-06
         ],
         "yaxis": "y"
        },
        {
         "line": {
          "color": "rgb(0,255,255)",
          "width": 2
         },
         "marker": {
          "color": "rgb(0,255,255)",
          "line": {
           "color": "rgb(0,255,255)"
          },
          "size": 6,
          "symbol": "circle"
         },
         "mode": "markers",
         "name": "",
         "showlegend": false,
         "type": "scatter",
         "visibility": true,
         "x": [
          3.1
         ],
         "xaxis": "x",
         "y": [
          9.999999999999999e-06
         ],
         "yaxis": "y"
        },
        {
         "line": {
          "color": "rgb(0,255,255)",
          "width": 2
         },
         "marker": {
          "color": "rgb(0,255,255)",
          "line": {
           "color": "rgb(0,255,255)"
          },
          "size": 6,
          "symbol": "circle"
         },
         "mode": "markers",
         "name": "",
         "showlegend": false,
         "type": "scatter",
         "visibility": true,
         "x": [
          3.2
         ],
         "xaxis": "x",
         "y": [
          9.999999999999999e-06
         ],
         "yaxis": "y"
        },
        {
         "line": {
          "color": "rgb(0,255,255)",
          "width": 2
         },
         "marker": {
          "color": "rgb(0,255,255)",
          "line": {
           "color": "rgb(0,255,255)"
          },
          "size": 6,
          "symbol": "circle"
         },
         "mode": "markers",
         "name": "",
         "showlegend": false,
         "type": "scatter",
         "visibility": true,
         "x": [
          3.3000000000000003
         ],
         "xaxis": "x",
         "y": [
          9.999999999999999e-06
         ],
         "yaxis": "y"
        },
        {
         "line": {
          "color": "rgb(0,255,255)",
          "width": 2
         },
         "marker": {
          "color": "rgb(0,255,255)",
          "line": {
           "color": "rgb(0,255,255)"
          },
          "size": 6,
          "symbol": "circle"
         },
         "mode": "markers",
         "name": "",
         "showlegend": false,
         "type": "scatter",
         "visibility": true,
         "x": [
          3.4000000000000004
         ],
         "xaxis": "x",
         "y": [
          9.999999999999999e-06
         ],
         "yaxis": "y"
        },
        {
         "line": {
          "color": "rgb(0,255,255)",
          "width": 2
         },
         "marker": {
          "color": "rgb(0,255,255)",
          "line": {
           "color": "rgb(0,255,255)"
          },
          "size": 6,
          "symbol": "circle"
         },
         "mode": "markers",
         "name": "",
         "showlegend": false,
         "type": "scatter",
         "visibility": true,
         "x": [
          3.5
         ],
         "xaxis": "x",
         "y": [
          9.999999999999999e-06
         ],
         "yaxis": "y"
        },
        {
         "line": {
          "color": "rgb(0,255,255)",
          "width": 2
         },
         "marker": {
          "color": "rgb(0,255,255)",
          "line": {
           "color": "rgb(0,255,255)"
          },
          "size": 6,
          "symbol": "circle"
         },
         "mode": "markers",
         "name": "",
         "showlegend": false,
         "type": "scatter",
         "visibility": true,
         "x": [
          3.6
         ],
         "xaxis": "x",
         "y": [
          9.999999999999999e-06
         ],
         "yaxis": "y"
        },
        {
         "line": {
          "color": "rgb(0,255,255)",
          "width": 2
         },
         "marker": {
          "color": "rgb(0,255,255)",
          "line": {
           "color": "rgb(0,255,255)"
          },
          "size": 6,
          "symbol": "circle"
         },
         "mode": "markers",
         "name": "",
         "showlegend": false,
         "type": "scatter",
         "visibility": true,
         "x": [
          3.7
         ],
         "xaxis": "x",
         "y": [
          9.999999999999999e-06
         ],
         "yaxis": "y"
        },
        {
         "line": {
          "color": "rgb(0,255,255)",
          "width": 2
         },
         "marker": {
          "color": "rgb(0,255,255)",
          "line": {
           "color": "rgb(0,255,255)"
          },
          "size": 6,
          "symbol": "circle"
         },
         "mode": "markers",
         "name": "",
         "showlegend": false,
         "type": "scatter",
         "visibility": true,
         "x": [
          3.8000000000000003
         ],
         "xaxis": "x",
         "y": [
          9.999999999999999e-06
         ],
         "yaxis": "y"
        },
        {
         "line": {
          "color": "rgb(0,255,255)",
          "width": 2
         },
         "marker": {
          "color": "rgb(0,255,255)",
          "line": {
           "color": "rgb(0,255,255)"
          },
          "size": 6,
          "symbol": "circle"
         },
         "mode": "markers",
         "name": "",
         "showlegend": false,
         "type": "scatter",
         "visibility": true,
         "x": [
          3.9000000000000004
         ],
         "xaxis": "x",
         "y": [
          9.999999999999999e-06
         ],
         "yaxis": "y"
        },
        {
         "line": {
          "color": "rgb(0,255,255)",
          "width": 2
         },
         "marker": {
          "color": "rgb(0,255,255)",
          "line": {
           "color": "rgb(0,255,255)"
          },
          "size": 6,
          "symbol": "circle"
         },
         "mode": "markers",
         "name": "",
         "showlegend": false,
         "type": "scatter",
         "visibility": true,
         "x": [
          4
         ],
         "xaxis": "x",
         "y": [
          9.999999999999999e-06
         ],
         "yaxis": "y"
        },
        {
         "line": {
          "color": "rgb(0,255,255)",
          "width": 2
         },
         "marker": {
          "color": "rgb(0,255,255)",
          "line": {
           "color": "rgb(0,255,255)"
          },
          "size": 6,
          "symbol": "circle"
         },
         "mode": "markers",
         "name": "",
         "showlegend": false,
         "type": "scatter",
         "visibility": true,
         "x": [
          4.1000000000000005
         ],
         "xaxis": "x",
         "y": [
          9.999999999999999e-06
         ],
         "yaxis": "y"
        },
        {
         "line": {
          "color": "rgb(0,255,255)",
          "width": 2
         },
         "marker": {
          "color": "rgb(0,255,255)",
          "line": {
           "color": "rgb(0,255,255)"
          },
          "size": 6,
          "symbol": "circle"
         },
         "mode": "markers",
         "name": "",
         "showlegend": false,
         "type": "scatter",
         "visibility": true,
         "x": [
          4.2
         ],
         "xaxis": "x",
         "y": [
          9.999999999999999e-06
         ],
         "yaxis": "y"
        },
        {
         "line": {
          "color": "rgb(0,255,255)",
          "width": 2
         },
         "marker": {
          "color": "rgb(0,255,255)",
          "line": {
           "color": "rgb(0,255,255)"
          },
          "size": 6,
          "symbol": "circle"
         },
         "mode": "markers",
         "name": "",
         "showlegend": false,
         "type": "scatter",
         "visibility": true,
         "x": [
          4.3
         ],
         "xaxis": "x",
         "y": [
          9.999999999999999e-06
         ],
         "yaxis": "y"
        },
        {
         "line": {
          "color": "rgb(0,255,255)",
          "width": 2
         },
         "marker": {
          "color": "rgb(0,255,255)",
          "line": {
           "color": "rgb(0,255,255)"
          },
          "size": 6,
          "symbol": "circle"
         },
         "mode": "markers",
         "name": "",
         "showlegend": false,
         "type": "scatter",
         "visibility": true,
         "x": [
          4.4
         ],
         "xaxis": "x",
         "y": [
          9.999999999999999e-06
         ],
         "yaxis": "y"
        },
        {
         "line": {
          "color": "rgb(0,255,255)",
          "width": 2
         },
         "marker": {
          "color": "rgb(0,255,255)",
          "line": {
           "color": "rgb(0,255,255)"
          },
          "size": 6,
          "symbol": "circle"
         },
         "mode": "markers",
         "name": "",
         "showlegend": false,
         "type": "scatter",
         "visibility": true,
         "x": [
          4.5
         ],
         "xaxis": "x",
         "y": [
          9.999999999999999e-06
         ],
         "yaxis": "y"
        },
        {
         "line": {
          "color": "rgb(0,255,255)",
          "width": 2
         },
         "marker": {
          "color": "rgb(0,255,255)",
          "line": {
           "color": "rgb(0,255,255)"
          },
          "size": 6,
          "symbol": "circle"
         },
         "mode": "markers",
         "name": "",
         "showlegend": false,
         "type": "scatter",
         "visibility": true,
         "x": [
          4.6000000000000005
         ],
         "xaxis": "x",
         "y": [
          9.999999999999999e-06
         ],
         "yaxis": "y"
        },
        {
         "line": {
          "color": "rgb(0,255,255)",
          "width": 2
         },
         "marker": {
          "color": "rgb(0,255,255)",
          "line": {
           "color": "rgb(0,255,255)"
          },
          "size": 6,
          "symbol": "circle"
         },
         "mode": "markers",
         "name": "",
         "showlegend": false,
         "type": "scatter",
         "visibility": true,
         "x": [
          4.7
         ],
         "xaxis": "x",
         "y": [
          9.999999999999999e-06
         ],
         "yaxis": "y"
        },
        {
         "line": {
          "color": "rgb(0,255,255)",
          "width": 2
         },
         "marker": {
          "color": "rgb(0,255,255)",
          "line": {
           "color": "rgb(0,255,255)"
          },
          "size": 6,
          "symbol": "circle"
         },
         "mode": "markers",
         "name": "",
         "showlegend": false,
         "type": "scatter",
         "visibility": true,
         "x": [
          4.800000000000001
         ],
         "xaxis": "x",
         "y": [
          9.999999999999999e-06
         ],
         "yaxis": "y"
        },
        {
         "line": {
          "color": "rgb(0,255,255)",
          "width": 2
         },
         "marker": {
          "color": "rgb(0,255,255)",
          "line": {
           "color": "rgb(0,255,255)"
          },
          "size": 6,
          "symbol": "circle"
         },
         "mode": "markers",
         "name": "",
         "showlegend": false,
         "type": "scatter",
         "visibility": true,
         "x": [
          4.9
         ],
         "xaxis": "x",
         "y": [
          9.999999999999999e-06
         ],
         "yaxis": "y"
        },
        {
         "line": {
          "color": "rgb(0,255,255)",
          "width": 2
         },
         "marker": {
          "color": "rgb(0,255,255)",
          "line": {
           "color": "rgb(0,255,255)"
          },
          "size": 6,
          "symbol": "circle"
         },
         "mode": "markers",
         "name": "",
         "showlegend": false,
         "type": "scatter",
         "visibility": true,
         "x": [
          5
         ],
         "xaxis": "x",
         "y": [
          9.999999999999999e-06
         ],
         "yaxis": "y"
        },
        {
         "line": {
          "color": "rgb(0,255,255)",
          "width": 2
         },
         "marker": {
          "color": "rgb(0,255,255)",
          "line": {
           "color": "rgb(0,255,255)"
          },
          "size": 6,
          "symbol": "circle"
         },
         "mode": "markers",
         "name": "",
         "showlegend": false,
         "type": "scatter",
         "visibility": true,
         "x": [
          5.1000000000000005
         ],
         "xaxis": "x",
         "y": [
          9.999999999999999e-06
         ],
         "yaxis": "y"
        },
        {
         "line": {
          "color": "rgb(0,255,255)",
          "width": 2
         },
         "marker": {
          "color": "rgb(0,255,255)",
          "line": {
           "color": "rgb(0,255,255)"
          },
          "size": 6,
          "symbol": "circle"
         },
         "mode": "markers",
         "name": "",
         "showlegend": false,
         "type": "scatter",
         "visibility": true,
         "x": [
          5.2
         ],
         "xaxis": "x",
         "y": [
          9.999999999999999e-06
         ],
         "yaxis": "y"
        },
        {
         "line": {
          "color": "rgb(0,255,255)",
          "width": 2
         },
         "marker": {
          "color": "rgb(0,255,255)",
          "line": {
           "color": "rgb(0,255,255)"
          },
          "size": 6,
          "symbol": "circle"
         },
         "mode": "markers",
         "name": "",
         "showlegend": false,
         "type": "scatter",
         "visibility": true,
         "x": [
          5.300000000000001
         ],
         "xaxis": "x",
         "y": [
          9.999999999999999e-06
         ],
         "yaxis": "y"
        },
        {
         "line": {
          "color": "rgb(0,255,255)",
          "width": 2
         },
         "marker": {
          "color": "rgb(0,255,255)",
          "line": {
           "color": "rgb(0,255,255)"
          },
          "size": 6,
          "symbol": "circle"
         },
         "mode": "markers",
         "name": "",
         "showlegend": false,
         "type": "scatter",
         "visibility": true,
         "x": [
          5.4
         ],
         "xaxis": "x",
         "y": [
          9.999999999999999e-06
         ],
         "yaxis": "y"
        },
        {
         "line": {
          "color": "rgb(0,255,255)",
          "width": 2
         },
         "marker": {
          "color": "rgb(0,255,255)",
          "line": {
           "color": "rgb(0,255,255)"
          },
          "size": 6,
          "symbol": "circle"
         },
         "mode": "markers",
         "name": "",
         "showlegend": false,
         "type": "scatter",
         "visibility": true,
         "x": [
          5.5
         ],
         "xaxis": "x",
         "y": [
          9.999999999999999e-06
         ],
         "yaxis": "y"
        },
        {
         "line": {
          "color": "rgb(0,255,255)",
          "width": 2
         },
         "marker": {
          "color": "rgb(0,255,255)",
          "line": {
           "color": "rgb(0,255,255)"
          },
          "size": 6,
          "symbol": "circle"
         },
         "mode": "markers",
         "name": "",
         "showlegend": false,
         "type": "scatter",
         "visibility": true,
         "x": [
          5.6000000000000005
         ],
         "xaxis": "x",
         "y": [
          9.999999999999999e-06
         ],
         "yaxis": "y"
        },
        {
         "line": {
          "color": "rgb(0,255,255)",
          "width": 2
         },
         "marker": {
          "color": "rgb(0,255,255)",
          "line": {
           "color": "rgb(0,255,255)"
          },
          "size": 6,
          "symbol": "circle"
         },
         "mode": "markers",
         "name": "",
         "showlegend": false,
         "type": "scatter",
         "visibility": true,
         "x": [
          5.7
         ],
         "xaxis": "x",
         "y": [
          9.999999999999999e-06
         ],
         "yaxis": "y"
        },
        {
         "line": {
          "color": "rgb(0,255,255)",
          "width": 2
         },
         "marker": {
          "color": "rgb(0,255,255)",
          "line": {
           "color": "rgb(0,255,255)"
          },
          "size": 6,
          "symbol": "circle"
         },
         "mode": "markers",
         "name": "",
         "showlegend": false,
         "type": "scatter",
         "visibility": true,
         "x": [
          5.800000000000001
         ],
         "xaxis": "x",
         "y": [
          9.999999999999999e-06
         ],
         "yaxis": "y"
        },
        {
         "line": {
          "color": "rgb(0,255,255)",
          "width": 2
         },
         "marker": {
          "color": "rgb(0,255,255)",
          "line": {
           "color": "rgb(0,255,255)"
          },
          "size": 6,
          "symbol": "circle"
         },
         "mode": "markers",
         "name": "",
         "showlegend": false,
         "type": "scatter",
         "visibility": true,
         "x": [
          5.9
         ],
         "xaxis": "x",
         "y": [
          9.999999999999999e-06
         ],
         "yaxis": "y"
        },
        {
         "line": {
          "color": "rgb(0,255,255)",
          "width": 2
         },
         "marker": {
          "color": "rgb(0,255,255)",
          "line": {
           "color": "rgb(0,255,255)"
          },
          "size": 6,
          "symbol": "circle"
         },
         "mode": "markers",
         "name": "",
         "showlegend": false,
         "type": "scatter",
         "visibility": true,
         "x": [
          6
         ],
         "xaxis": "x",
         "y": [
          9.999999999999999e-06
         ],
         "yaxis": "y"
        },
        {
         "line": {
          "color": "rgb(0,255,255)",
          "width": 2
         },
         "marker": {
          "color": "rgb(0,255,255)",
          "line": {
           "color": "rgb(0,255,255)"
          },
          "size": 6,
          "symbol": "circle"
         },
         "mode": "markers",
         "name": "",
         "showlegend": false,
         "type": "scatter",
         "visibility": true,
         "x": [
          6.1000000000000005
         ],
         "xaxis": "x",
         "y": [
          9.999999999999999e-06
         ],
         "yaxis": "y"
        },
        {
         "line": {
          "color": "rgb(0,255,255)",
          "width": 2
         },
         "marker": {
          "color": "rgb(0,255,255)",
          "line": {
           "color": "rgb(0,255,255)"
          },
          "size": 6,
          "symbol": "circle"
         },
         "mode": "markers",
         "name": "",
         "showlegend": false,
         "type": "scatter",
         "visibility": true,
         "x": [
          6.2
         ],
         "xaxis": "x",
         "y": [
          9.999999999999999e-06
         ],
         "yaxis": "y"
        },
        {
         "line": {
          "color": "rgb(0,255,255)",
          "width": 2
         },
         "marker": {
          "color": "rgb(0,255,255)",
          "line": {
           "color": "rgb(0,255,255)"
          },
          "size": 6,
          "symbol": "circle"
         },
         "mode": "markers",
         "name": "",
         "showlegend": false,
         "type": "scatter",
         "visibility": true,
         "x": [
          6.300000000000001
         ],
         "xaxis": "x",
         "y": [
          9.999999999999999e-06
         ],
         "yaxis": "y"
        },
        {
         "line": {
          "color": "rgb(0,255,255)",
          "width": 2
         },
         "marker": {
          "color": "rgb(0,255,255)",
          "line": {
           "color": "rgb(0,255,255)"
          },
          "size": 6,
          "symbol": "circle"
         },
         "mode": "markers",
         "name": "",
         "showlegend": false,
         "type": "scatter",
         "visibility": true,
         "x": [
          6.4
         ],
         "xaxis": "x",
         "y": [
          9.999999999999999e-06
         ],
         "yaxis": "y"
        },
        {
         "line": {
          "color": "rgb(0,255,255)",
          "width": 2
         },
         "marker": {
          "color": "rgb(0,255,255)",
          "line": {
           "color": "rgb(0,255,255)"
          },
          "size": 6,
          "symbol": "circle"
         },
         "mode": "markers",
         "name": "",
         "showlegend": false,
         "type": "scatter",
         "visibility": true,
         "x": [
          6.5
         ],
         "xaxis": "x",
         "y": [
          9.999999999999999e-06
         ],
         "yaxis": "y"
        },
        {
         "line": {
          "color": "rgb(0,255,255)",
          "width": 2
         },
         "marker": {
          "color": "rgb(0,255,255)",
          "line": {
           "color": "rgb(0,255,255)"
          },
          "size": 6,
          "symbol": "circle"
         },
         "mode": "markers",
         "name": "",
         "showlegend": false,
         "type": "scatter",
         "visibility": true,
         "x": [
          6.6000000000000005
         ],
         "xaxis": "x",
         "y": [
          9.999999999999999e-06
         ],
         "yaxis": "y"
        },
        {
         "line": {
          "color": "rgb(0,255,255)",
          "width": 2
         },
         "marker": {
          "color": "rgb(0,255,255)",
          "line": {
           "color": "rgb(0,255,255)"
          },
          "size": 6,
          "symbol": "circle"
         },
         "mode": "markers",
         "name": "",
         "showlegend": false,
         "type": "scatter",
         "visibility": true,
         "x": [
          6.7
         ],
         "xaxis": "x",
         "y": [
          9.999999999999999e-06
         ],
         "yaxis": "y"
        },
        {
         "line": {
          "color": "rgb(0,255,255)",
          "width": 2
         },
         "marker": {
          "color": "rgb(0,255,255)",
          "line": {
           "color": "rgb(0,255,255)"
          },
          "size": 6,
          "symbol": "circle"
         },
         "mode": "markers",
         "name": "",
         "showlegend": false,
         "type": "scatter",
         "visibility": true,
         "x": [
          6.800000000000001
         ],
         "xaxis": "x",
         "y": [
          9.999999999999999e-06
         ],
         "yaxis": "y"
        },
        {
         "line": {
          "color": "rgb(0,255,255)",
          "width": 2
         },
         "marker": {
          "color": "rgb(0,255,255)",
          "line": {
           "color": "rgb(0,255,255)"
          },
          "size": 6,
          "symbol": "circle"
         },
         "mode": "markers",
         "name": "",
         "showlegend": false,
         "type": "scatter",
         "visibility": true,
         "x": [
          6.9
         ],
         "xaxis": "x",
         "y": [
          9.999999999999999e-06
         ],
         "yaxis": "y"
        },
        {
         "line": {
          "color": "rgb(0,255,255)",
          "width": 2
         },
         "marker": {
          "color": "rgb(0,255,255)",
          "line": {
           "color": "rgb(0,255,255)"
          },
          "size": 6,
          "symbol": "circle"
         },
         "mode": "markers",
         "name": "",
         "showlegend": false,
         "type": "scatter",
         "visibility": true,
         "x": [
          7
         ],
         "xaxis": "x",
         "y": [
          9.999999999999999e-06
         ],
         "yaxis": "y"
        },
        {
         "line": {
          "color": "rgb(0,255,255)",
          "width": 2
         },
         "marker": {
          "color": "rgb(0,255,255)",
          "line": {
           "color": "rgb(0,255,255)"
          },
          "size": 6,
          "symbol": "circle"
         },
         "mode": "markers",
         "name": "",
         "showlegend": false,
         "type": "scatter",
         "visibility": true,
         "x": [
          7.1000000000000005
         ],
         "xaxis": "x",
         "y": [
          9.999999999999999e-06
         ],
         "yaxis": "y"
        },
        {
         "line": {
          "color": "rgb(0,255,255)",
          "width": 2
         },
         "marker": {
          "color": "rgb(0,255,255)",
          "line": {
           "color": "rgb(0,255,255)"
          },
          "size": 6,
          "symbol": "circle"
         },
         "mode": "markers",
         "name": "",
         "showlegend": false,
         "type": "scatter",
         "visibility": true,
         "x": [
          7.2
         ],
         "xaxis": "x",
         "y": [
          9.999999999999999e-06
         ],
         "yaxis": "y"
        },
        {
         "line": {
          "color": "rgb(0,255,255)",
          "width": 2
         },
         "marker": {
          "color": "rgb(0,255,255)",
          "line": {
           "color": "rgb(0,255,255)"
          },
          "size": 6,
          "symbol": "circle"
         },
         "mode": "markers",
         "name": "",
         "showlegend": false,
         "type": "scatter",
         "visibility": true,
         "x": [
          7.300000000000001
         ],
         "xaxis": "x",
         "y": [
          9.999999999999999e-06
         ],
         "yaxis": "y"
        },
        {
         "line": {
          "color": "rgb(0,255,255)",
          "width": 2
         },
         "marker": {
          "color": "rgb(0,255,255)",
          "line": {
           "color": "rgb(0,255,255)"
          },
          "size": 6,
          "symbol": "circle"
         },
         "mode": "markers",
         "name": "",
         "showlegend": false,
         "type": "scatter",
         "visibility": true,
         "x": [
          7.4
         ],
         "xaxis": "x",
         "y": [
          9.999999999999999e-06
         ],
         "yaxis": "y"
        },
        {
         "line": {
          "color": "rgb(0,255,255)",
          "width": 2
         },
         "marker": {
          "color": "rgb(0,255,255)",
          "line": {
           "color": "rgb(0,255,255)"
          },
          "size": 6,
          "symbol": "circle"
         },
         "mode": "markers",
         "name": "",
         "showlegend": false,
         "type": "scatter",
         "visibility": true,
         "x": [
          7.5
         ],
         "xaxis": "x",
         "y": [
          9.999999999999999e-06
         ],
         "yaxis": "y"
        },
        {
         "line": {
          "color": "rgb(0,255,255)",
          "width": 2
         },
         "marker": {
          "color": "rgb(0,255,255)",
          "line": {
           "color": "rgb(0,255,255)"
          },
          "size": 6,
          "symbol": "circle"
         },
         "mode": "markers",
         "name": "",
         "showlegend": false,
         "type": "scatter",
         "visibility": true,
         "x": [
          7.6000000000000005
         ],
         "xaxis": "x",
         "y": [
          9.999999999999999e-06
         ],
         "yaxis": "y"
        },
        {
         "line": {
          "color": "rgb(0,255,255)",
          "width": 2
         },
         "marker": {
          "color": "rgb(0,255,255)",
          "line": {
           "color": "rgb(0,255,255)"
          },
          "size": 6,
          "symbol": "circle"
         },
         "mode": "markers",
         "name": "",
         "showlegend": false,
         "type": "scatter",
         "visibility": true,
         "x": [
          7.7
         ],
         "xaxis": "x",
         "y": [
          9.999999999999999e-06
         ],
         "yaxis": "y"
        },
        {
         "line": {
          "color": "rgb(0,255,255)",
          "width": 2
         },
         "marker": {
          "color": "rgb(0,255,255)",
          "line": {
           "color": "rgb(0,255,255)"
          },
          "size": 6,
          "symbol": "circle"
         },
         "mode": "markers",
         "name": "",
         "showlegend": false,
         "type": "scatter",
         "visibility": true,
         "x": [
          7.800000000000001
         ],
         "xaxis": "x",
         "y": [
          9.999999999999999e-06
         ],
         "yaxis": "y"
        },
        {
         "line": {
          "color": "rgb(0,255,255)",
          "width": 2
         },
         "marker": {
          "color": "rgb(0,255,255)",
          "line": {
           "color": "rgb(0,255,255)"
          },
          "size": 6,
          "symbol": "circle"
         },
         "mode": "markers",
         "name": "",
         "showlegend": false,
         "type": "scatter",
         "visibility": true,
         "x": [
          7.9
         ],
         "xaxis": "x",
         "y": [
          9.999999999999999e-06
         ],
         "yaxis": "y"
        },
        {
         "line": {
          "color": "rgb(0,255,255)",
          "width": 2
         },
         "marker": {
          "color": "rgb(0,255,255)",
          "line": {
           "color": "rgb(0,255,255)"
          },
          "size": 6,
          "symbol": "circle"
         },
         "mode": "markers",
         "name": "",
         "showlegend": false,
         "type": "scatter",
         "visibility": true,
         "x": [
          8
         ],
         "xaxis": "x",
         "y": [
          9.999999999999999e-06
         ],
         "yaxis": "y"
        },
        {
         "line": {
          "color": "rgb(0,255,255)",
          "width": 2
         },
         "marker": {
          "color": "rgb(0,255,255)",
          "line": {
           "color": "rgb(0,255,255)"
          },
          "size": 6,
          "symbol": "circle"
         },
         "mode": "markers",
         "name": "",
         "showlegend": false,
         "type": "scatter",
         "visibility": true,
         "x": [
          8.1
         ],
         "xaxis": "x",
         "y": [
          9.999999999999999e-06
         ],
         "yaxis": "y"
        },
        {
         "line": {
          "color": "rgb(0,255,255)",
          "width": 2
         },
         "marker": {
          "color": "rgb(0,255,255)",
          "line": {
           "color": "rgb(0,255,255)"
          },
          "size": 6,
          "symbol": "circle"
         },
         "mode": "markers",
         "name": "",
         "showlegend": false,
         "type": "scatter",
         "visibility": true,
         "x": [
          8.200000000000001
         ],
         "xaxis": "x",
         "y": [
          9.999999999999999e-06
         ],
         "yaxis": "y"
        },
        {
         "line": {
          "color": "rgb(0,255,255)",
          "width": 2
         },
         "marker": {
          "color": "rgb(0,255,255)",
          "line": {
           "color": "rgb(0,255,255)"
          },
          "size": 6,
          "symbol": "circle"
         },
         "mode": "markers",
         "name": "",
         "showlegend": false,
         "type": "scatter",
         "visibility": true,
         "x": [
          8.3
         ],
         "xaxis": "x",
         "y": [
          9.999999999999999e-06
         ],
         "yaxis": "y"
        },
        {
         "line": {
          "color": "rgb(0,255,255)",
          "width": 2
         },
         "marker": {
          "color": "rgb(0,255,255)",
          "line": {
           "color": "rgb(0,255,255)"
          },
          "size": 6,
          "symbol": "circle"
         },
         "mode": "markers",
         "name": "",
         "showlegend": false,
         "type": "scatter",
         "visibility": true,
         "x": [
          8.4
         ],
         "xaxis": "x",
         "y": [
          9.999999999999999e-06
         ],
         "yaxis": "y"
        },
        {
         "line": {
          "color": "rgb(0,255,255)",
          "width": 2
         },
         "marker": {
          "color": "rgb(0,255,255)",
          "line": {
           "color": "rgb(0,255,255)"
          },
          "size": 6,
          "symbol": "circle"
         },
         "mode": "markers",
         "name": "",
         "showlegend": false,
         "type": "scatter",
         "visibility": true,
         "x": [
          8.5
         ],
         "xaxis": "x",
         "y": [
          9.999999999999999e-06
         ],
         "yaxis": "y"
        },
        {
         "line": {
          "color": "rgb(0,255,255)",
          "width": 2
         },
         "marker": {
          "color": "rgb(0,255,255)",
          "line": {
           "color": "rgb(0,255,255)"
          },
          "size": 6,
          "symbol": "circle"
         },
         "mode": "markers",
         "name": "",
         "showlegend": false,
         "type": "scatter",
         "visibility": true,
         "x": [
          8.6
         ],
         "xaxis": "x",
         "y": [
          9.999999999999999e-06
         ],
         "yaxis": "y"
        },
        {
         "line": {
          "color": "rgb(0,255,255)",
          "width": 2
         },
         "marker": {
          "color": "rgb(0,255,255)",
          "line": {
           "color": "rgb(0,255,255)"
          },
          "size": 6,
          "symbol": "circle"
         },
         "mode": "markers",
         "name": "",
         "showlegend": false,
         "type": "scatter",
         "visibility": true,
         "x": [
          8.700000000000001
         ],
         "xaxis": "x",
         "y": [
          9.999999999999999e-06
         ],
         "yaxis": "y"
        },
        {
         "line": {
          "color": "rgb(0,255,255)",
          "width": 2
         },
         "marker": {
          "color": "rgb(0,255,255)",
          "line": {
           "color": "rgb(0,255,255)"
          },
          "size": 6,
          "symbol": "circle"
         },
         "mode": "markers",
         "name": "",
         "showlegend": false,
         "type": "scatter",
         "visibility": true,
         "x": [
          8.8
         ],
         "xaxis": "x",
         "y": [
          9.999999999999999e-06
         ],
         "yaxis": "y"
        },
        {
         "line": {
          "color": "rgb(0,255,255)",
          "width": 2
         },
         "marker": {
          "color": "rgb(0,255,255)",
          "line": {
           "color": "rgb(0,255,255)"
          },
          "size": 6,
          "symbol": "circle"
         },
         "mode": "markers",
         "name": "",
         "showlegend": false,
         "type": "scatter",
         "visibility": true,
         "x": [
          8.9
         ],
         "xaxis": "x",
         "y": [
          9.999999999999999e-06
         ],
         "yaxis": "y"
        },
        {
         "line": {
          "color": "rgb(0,255,255)",
          "width": 2
         },
         "marker": {
          "color": "rgb(0,255,255)",
          "line": {
           "color": "rgb(0,255,255)"
          },
          "size": 6,
          "symbol": "circle"
         },
         "mode": "markers",
         "name": "",
         "showlegend": false,
         "type": "scatter",
         "visibility": true,
         "x": [
          9
         ],
         "xaxis": "x",
         "y": [
          9.999999999999999e-06
         ],
         "yaxis": "y"
        },
        {
         "line": {
          "color": "rgb(0,255,255)",
          "width": 2
         },
         "marker": {
          "color": "rgb(0,255,255)",
          "line": {
           "color": "rgb(0,255,255)"
          },
          "size": 6,
          "symbol": "circle"
         },
         "mode": "markers",
         "name": "",
         "showlegend": false,
         "type": "scatter",
         "visibility": true,
         "x": [
          9.1
         ],
         "xaxis": "x",
         "y": [
          9.999999999999999e-06
         ],
         "yaxis": "y"
        },
        {
         "line": {
          "color": "rgb(0,255,255)",
          "width": 2
         },
         "marker": {
          "color": "rgb(0,255,255)",
          "line": {
           "color": "rgb(0,255,255)"
          },
          "size": 6,
          "symbol": "circle"
         },
         "mode": "markers",
         "name": "",
         "showlegend": false,
         "type": "scatter",
         "visibility": true,
         "x": [
          9.200000000000001
         ],
         "xaxis": "x",
         "y": [
          9.999999999999999e-06
         ],
         "yaxis": "y"
        },
        {
         "line": {
          "color": "rgb(0,255,255)",
          "width": 2
         },
         "marker": {
          "color": "rgb(0,255,255)",
          "line": {
           "color": "rgb(0,255,255)"
          },
          "size": 6,
          "symbol": "circle"
         },
         "mode": "markers",
         "name": "",
         "showlegend": false,
         "type": "scatter",
         "visibility": true,
         "x": [
          9.3
         ],
         "xaxis": "x",
         "y": [
          9.999999999999999e-06
         ],
         "yaxis": "y"
        },
        {
         "line": {
          "color": "rgb(0,255,255)",
          "width": 2
         },
         "marker": {
          "color": "rgb(0,255,255)",
          "line": {
           "color": "rgb(0,255,255)"
          },
          "size": 6,
          "symbol": "circle"
         },
         "mode": "markers",
         "name": "",
         "showlegend": false,
         "type": "scatter",
         "visibility": true,
         "x": [
          9.4
         ],
         "xaxis": "x",
         "y": [
          9.999999999999999e-06
         ],
         "yaxis": "y"
        },
        {
         "line": {
          "color": "rgb(0,255,255)",
          "width": 2
         },
         "marker": {
          "color": "rgb(0,255,255)",
          "line": {
           "color": "rgb(0,255,255)"
          },
          "size": 6,
          "symbol": "circle"
         },
         "mode": "markers",
         "name": "",
         "showlegend": false,
         "type": "scatter",
         "visibility": true,
         "x": [
          9.5
         ],
         "xaxis": "x",
         "y": [
          9.999999999999999e-06
         ],
         "yaxis": "y"
        },
        {
         "line": {
          "color": "rgb(0,255,255)",
          "width": 2
         },
         "marker": {
          "color": "rgb(0,255,255)",
          "line": {
           "color": "rgb(0,255,255)"
          },
          "size": 6,
          "symbol": "circle"
         },
         "mode": "markers",
         "name": "",
         "showlegend": false,
         "type": "scatter",
         "visibility": true,
         "x": [
          9.600000000000001
         ],
         "xaxis": "x",
         "y": [
          9.999999999999999e-06
         ],
         "yaxis": "y"
        },
        {
         "line": {
          "color": "rgb(0,255,255)",
          "width": 2
         },
         "marker": {
          "color": "rgb(0,255,255)",
          "line": {
           "color": "rgb(0,255,255)"
          },
          "size": 6,
          "symbol": "circle"
         },
         "mode": "markers",
         "name": "",
         "showlegend": false,
         "type": "scatter",
         "visibility": true,
         "x": [
          9.700000000000001
         ],
         "xaxis": "x",
         "y": [
          9.999999999999999e-06
         ],
         "yaxis": "y"
        },
        {
         "line": {
          "color": "rgb(0,255,255)",
          "width": 2
         },
         "marker": {
          "color": "rgb(0,255,255)",
          "line": {
           "color": "rgb(0,255,255)"
          },
          "size": 6,
          "symbol": "circle"
         },
         "mode": "markers",
         "name": "",
         "showlegend": false,
         "type": "scatter",
         "visibility": true,
         "x": [
          9.8
         ],
         "xaxis": "x",
         "y": [
          9.999999999999999e-06
         ],
         "yaxis": "y"
        },
        {
         "line": {
          "color": "rgb(0,255,255)",
          "width": 2
         },
         "marker": {
          "color": "rgb(0,255,255)",
          "line": {
           "color": "rgb(0,255,255)"
          },
          "size": 6,
          "symbol": "circle"
         },
         "mode": "markers",
         "name": "",
         "showlegend": false,
         "type": "scatter",
         "visibility": true,
         "x": [
          9.9
         ],
         "xaxis": "x",
         "y": [
          9.999999999999999e-06
         ],
         "yaxis": "y"
        },
        {
         "line": {
          "color": "rgb(0,255,255)",
          "width": 2
         },
         "marker": {
          "color": "rgb(0,255,255)",
          "line": {
           "color": "rgb(0,255,255)"
          },
          "size": 6,
          "symbol": "circle"
         },
         "mode": "markers",
         "name": "",
         "showlegend": false,
         "type": "scatter",
         "visibility": true,
         "x": [
          10
         ],
         "xaxis": "x",
         "y": [
          9.999999999999999e-06
         ],
         "yaxis": "y"
        },
        {
         "line": {
          "color": "rgb(0,255,255)",
          "width": 2
         },
         "marker": {
          "color": "rgb(0,255,255)",
          "line": {
           "color": "rgb(0,255,255)"
          },
          "size": 6,
          "symbol": "circle"
         },
         "mode": "markers",
         "name": "",
         "showlegend": false,
         "type": "scatter",
         "visibility": true,
         "x": [
          10.100000000000001
         ],
         "xaxis": "x",
         "y": [
          9.999999999999999e-06
         ],
         "yaxis": "y"
        },
        {
         "line": {
          "color": "rgb(0,255,255)",
          "width": 2
         },
         "marker": {
          "color": "rgb(0,255,255)",
          "line": {
           "color": "rgb(0,255,255)"
          },
          "size": 6,
          "symbol": "circle"
         },
         "mode": "markers",
         "name": "",
         "showlegend": false,
         "type": "scatter",
         "visibility": true,
         "x": [
          10.200000000000001
         ],
         "xaxis": "x",
         "y": [
          9.999999999999999e-06
         ],
         "yaxis": "y"
        },
        {
         "line": {
          "color": "rgb(0,255,255)",
          "width": 2
         },
         "marker": {
          "color": "rgb(0,255,255)",
          "line": {
           "color": "rgb(0,255,255)"
          },
          "size": 6,
          "symbol": "circle"
         },
         "mode": "markers",
         "name": "",
         "showlegend": false,
         "type": "scatter",
         "visibility": true,
         "x": [
          10.3
         ],
         "xaxis": "x",
         "y": [
          9.999999999999999e-06
         ],
         "yaxis": "y"
        },
        {
         "line": {
          "color": "rgb(0,255,255)",
          "width": 2
         },
         "marker": {
          "color": "rgb(0,255,255)",
          "line": {
           "color": "rgb(0,255,255)"
          },
          "size": 6,
          "symbol": "circle"
         },
         "mode": "markers",
         "name": "",
         "showlegend": false,
         "type": "scatter",
         "visibility": true,
         "x": [
          10.4
         ],
         "xaxis": "x",
         "y": [
          9.999999999999999e-06
         ],
         "yaxis": "y"
        },
        {
         "line": {
          "color": "rgb(0,255,255)",
          "width": 2
         },
         "marker": {
          "color": "rgb(0,255,255)",
          "line": {
           "color": "rgb(0,255,255)"
          },
          "size": 6,
          "symbol": "circle"
         },
         "mode": "markers",
         "name": "",
         "showlegend": false,
         "type": "scatter",
         "visibility": true,
         "x": [
          10.5
         ],
         "xaxis": "x",
         "y": [
          9.999999999999999e-06
         ],
         "yaxis": "y"
        },
        {
         "line": {
          "color": "rgb(0,255,255)",
          "width": 2
         },
         "marker": {
          "color": "rgb(0,255,255)",
          "line": {
           "color": "rgb(0,255,255)"
          },
          "size": 6,
          "symbol": "circle"
         },
         "mode": "markers",
         "name": "",
         "showlegend": false,
         "type": "scatter",
         "visibility": true,
         "x": [
          10.600000000000001
         ],
         "xaxis": "x",
         "y": [
          9.999999999999999e-06
         ],
         "yaxis": "y"
        },
        {
         "line": {
          "color": "rgb(0,255,255)",
          "width": 2
         },
         "marker": {
          "color": "rgb(0,255,255)",
          "line": {
           "color": "rgb(0,255,255)"
          },
          "size": 6,
          "symbol": "circle"
         },
         "mode": "markers",
         "name": "",
         "showlegend": false,
         "type": "scatter",
         "visibility": true,
         "x": [
          10.700000000000001
         ],
         "xaxis": "x",
         "y": [
          9.999999999999999e-06
         ],
         "yaxis": "y"
        },
        {
         "line": {
          "color": "rgb(0,255,255)",
          "width": 2
         },
         "marker": {
          "color": "rgb(0,255,255)",
          "line": {
           "color": "rgb(0,255,255)"
          },
          "size": 6,
          "symbol": "circle"
         },
         "mode": "markers",
         "name": "",
         "showlegend": false,
         "type": "scatter",
         "visibility": true,
         "x": [
          10.8
         ],
         "xaxis": "x",
         "y": [
          9.999999999999999e-06
         ],
         "yaxis": "y"
        },
        {
         "line": {
          "color": "rgb(0,255,255)",
          "width": 2
         },
         "marker": {
          "color": "rgb(0,255,255)",
          "line": {
           "color": "rgb(0,255,255)"
          },
          "size": 6,
          "symbol": "circle"
         },
         "mode": "markers",
         "name": "",
         "showlegend": false,
         "type": "scatter",
         "visibility": true,
         "x": [
          10.9
         ],
         "xaxis": "x",
         "y": [
          9.999999999999999e-06
         ],
         "yaxis": "y"
        },
        {
         "line": {
          "color": "rgb(0,255,255)",
          "width": 2
         },
         "marker": {
          "color": "rgb(0,255,255)",
          "line": {
           "color": "rgb(0,255,255)"
          },
          "size": 6,
          "symbol": "circle"
         },
         "mode": "markers",
         "name": "",
         "showlegend": false,
         "type": "scatter",
         "visibility": true,
         "x": [
          11
         ],
         "xaxis": "x",
         "y": [
          9.999999999999999e-06
         ],
         "yaxis": "y"
        },
        {
         "line": {
          "color": "rgb(0,255,255)",
          "width": 2
         },
         "marker": {
          "color": "rgb(0,255,255)",
          "line": {
           "color": "rgb(0,255,255)"
          },
          "size": 6,
          "symbol": "circle"
         },
         "mode": "markers",
         "name": "",
         "showlegend": false,
         "type": "scatter",
         "visibility": true,
         "x": [
          11.100000000000001
         ],
         "xaxis": "x",
         "y": [
          9.999999999999999e-06
         ],
         "yaxis": "y"
        },
        {
         "line": {
          "color": "rgb(0,255,255)",
          "width": 2
         },
         "marker": {
          "color": "rgb(0,255,255)",
          "line": {
           "color": "rgb(0,255,255)"
          },
          "size": 6,
          "symbol": "circle"
         },
         "mode": "markers",
         "name": "",
         "showlegend": false,
         "type": "scatter",
         "visibility": true,
         "x": [
          11.200000000000001
         ],
         "xaxis": "x",
         "y": [
          9.999999999999999e-06
         ],
         "yaxis": "y"
        },
        {
         "line": {
          "color": "rgb(0,255,255)",
          "width": 2
         },
         "marker": {
          "color": "rgb(0,255,255)",
          "line": {
           "color": "rgb(0,255,255)"
          },
          "size": 6,
          "symbol": "circle"
         },
         "mode": "markers",
         "name": "",
         "showlegend": false,
         "type": "scatter",
         "visibility": true,
         "x": [
          11.3
         ],
         "xaxis": "x",
         "y": [
          9.999999999999999e-06
         ],
         "yaxis": "y"
        },
        {
         "line": {
          "color": "rgb(0,255,255)",
          "width": 2
         },
         "marker": {
          "color": "rgb(0,255,255)",
          "line": {
           "color": "rgb(0,255,255)"
          },
          "size": 6,
          "symbol": "circle"
         },
         "mode": "markers",
         "name": "",
         "showlegend": false,
         "type": "scatter",
         "visibility": true,
         "x": [
          11.4
         ],
         "xaxis": "x",
         "y": [
          9.999999999999999e-06
         ],
         "yaxis": "y"
        },
        {
         "line": {
          "color": "rgb(0,255,255)",
          "width": 2
         },
         "marker": {
          "color": "rgb(0,255,255)",
          "line": {
           "color": "rgb(0,255,255)"
          },
          "size": 6,
          "symbol": "circle"
         },
         "mode": "markers",
         "name": "",
         "showlegend": false,
         "type": "scatter",
         "visibility": true,
         "x": [
          11.5
         ],
         "xaxis": "x",
         "y": [
          9.999999999999999e-06
         ],
         "yaxis": "y"
        },
        {
         "line": {
          "color": "rgb(0,255,255)",
          "width": 2
         },
         "marker": {
          "color": "rgb(0,255,255)",
          "line": {
           "color": "rgb(0,255,255)"
          },
          "size": 6,
          "symbol": "circle"
         },
         "mode": "markers",
         "name": "",
         "showlegend": false,
         "type": "scatter",
         "visibility": true,
         "x": [
          11.600000000000001
         ],
         "xaxis": "x",
         "y": [
          9.999999999999999e-06
         ],
         "yaxis": "y"
        },
        {
         "line": {
          "color": "rgb(0,255,255)",
          "width": 2
         },
         "marker": {
          "color": "rgb(0,255,255)",
          "line": {
           "color": "rgb(0,255,255)"
          },
          "size": 6,
          "symbol": "circle"
         },
         "mode": "markers",
         "name": "",
         "showlegend": false,
         "type": "scatter",
         "visibility": true,
         "x": [
          11.700000000000001
         ],
         "xaxis": "x",
         "y": [
          9.999999999999999e-06
         ],
         "yaxis": "y"
        },
        {
         "line": {
          "color": "rgb(0,255,255)",
          "width": 2
         },
         "marker": {
          "color": "rgb(0,255,255)",
          "line": {
           "color": "rgb(0,255,255)"
          },
          "size": 6,
          "symbol": "circle"
         },
         "mode": "markers",
         "name": "",
         "showlegend": false,
         "type": "scatter",
         "visibility": true,
         "x": [
          11.8
         ],
         "xaxis": "x",
         "y": [
          9.999999999999999e-06
         ],
         "yaxis": "y"
        },
        {
         "line": {
          "color": "rgb(0,255,255)",
          "width": 2
         },
         "marker": {
          "color": "rgb(0,255,255)",
          "line": {
           "color": "rgb(0,255,255)"
          },
          "size": 6,
          "symbol": "circle"
         },
         "mode": "markers",
         "name": "",
         "showlegend": false,
         "type": "scatter",
         "visibility": true,
         "x": [
          11.9
         ],
         "xaxis": "x",
         "y": [
          9.999999999999999e-06
         ],
         "yaxis": "y"
        },
        {
         "line": {
          "color": "rgb(0,255,255)",
          "width": 2
         },
         "marker": {
          "color": "rgb(0,255,255)",
          "line": {
           "color": "rgb(0,255,255)"
          },
          "size": 6,
          "symbol": "circle"
         },
         "mode": "markers",
         "name": "",
         "showlegend": false,
         "type": "scatter",
         "visibility": true,
         "x": [
          12
         ],
         "xaxis": "x",
         "y": [
          9.999999999999999e-06
         ],
         "yaxis": "y"
        },
        {
         "line": {
          "color": "rgb(0,255,255)",
          "width": 2
         },
         "marker": {
          "color": "rgb(0,255,255)",
          "line": {
           "color": "rgb(0,255,255)"
          },
          "size": 6,
          "symbol": "circle"
         },
         "mode": "markers",
         "name": "",
         "showlegend": false,
         "type": "scatter",
         "visibility": true,
         "x": [
          12.100000000000001
         ],
         "xaxis": "x",
         "y": [
          9.999999999999999e-06
         ],
         "yaxis": "y"
        },
        {
         "line": {
          "color": "rgb(0,255,255)",
          "width": 2
         },
         "marker": {
          "color": "rgb(0,255,255)",
          "line": {
           "color": "rgb(0,255,255)"
          },
          "size": 6,
          "symbol": "circle"
         },
         "mode": "markers",
         "name": "",
         "showlegend": false,
         "type": "scatter",
         "visibility": true,
         "x": [
          12.200000000000001
         ],
         "xaxis": "x",
         "y": [
          9.999999999999999e-06
         ],
         "yaxis": "y"
        },
        {
         "line": {
          "color": "rgb(0,255,255)",
          "width": 2
         },
         "marker": {
          "color": "rgb(0,255,255)",
          "line": {
           "color": "rgb(0,255,255)"
          },
          "size": 6,
          "symbol": "circle"
         },
         "mode": "markers",
         "name": "",
         "showlegend": false,
         "type": "scatter",
         "visibility": true,
         "x": [
          12.3
         ],
         "xaxis": "x",
         "y": [
          9.999999999999999e-06
         ],
         "yaxis": "y"
        },
        {
         "line": {
          "color": "rgb(0,255,255)",
          "width": 2
         },
         "marker": {
          "color": "rgb(0,255,255)",
          "line": {
           "color": "rgb(0,255,255)"
          },
          "size": 6,
          "symbol": "circle"
         },
         "mode": "markers",
         "name": "",
         "showlegend": false,
         "type": "scatter",
         "visibility": true,
         "x": [
          12.4
         ],
         "xaxis": "x",
         "y": [
          9.999999999999999e-06
         ],
         "yaxis": "y"
        },
        {
         "line": {
          "color": "rgb(0,255,255)",
          "width": 2
         },
         "marker": {
          "color": "rgb(0,255,255)",
          "line": {
           "color": "rgb(0,255,255)"
          },
          "size": 6,
          "symbol": "circle"
         },
         "mode": "markers",
         "name": "",
         "showlegend": false,
         "type": "scatter",
         "visibility": true,
         "x": [
          12.5
         ],
         "xaxis": "x",
         "y": [
          9.999999999999999e-06
         ],
         "yaxis": "y"
        },
        {
         "line": {
          "color": "rgb(0,255,255)",
          "width": 2
         },
         "marker": {
          "color": "rgb(0,255,255)",
          "line": {
           "color": "rgb(0,255,255)"
          },
          "size": 6,
          "symbol": "circle"
         },
         "mode": "markers",
         "name": "",
         "showlegend": false,
         "type": "scatter",
         "visibility": true,
         "x": [
          12.600000000000001
         ],
         "xaxis": "x",
         "y": [
          9.999999999999999e-06
         ],
         "yaxis": "y"
        },
        {
         "line": {
          "color": "rgb(0,255,255)",
          "width": 2
         },
         "marker": {
          "color": "rgb(0,255,255)",
          "line": {
           "color": "rgb(0,255,255)"
          },
          "size": 6,
          "symbol": "circle"
         },
         "mode": "markers",
         "name": "",
         "showlegend": false,
         "type": "scatter",
         "visibility": true,
         "x": [
          12.700000000000001
         ],
         "xaxis": "x",
         "y": [
          9.999999999999999e-06
         ],
         "yaxis": "y"
        },
        {
         "line": {
          "color": "rgb(0,255,255)",
          "width": 2
         },
         "marker": {
          "color": "rgb(0,255,255)",
          "line": {
           "color": "rgb(0,255,255)"
          },
          "size": 6,
          "symbol": "circle"
         },
         "mode": "markers",
         "name": "",
         "showlegend": false,
         "type": "scatter",
         "visibility": true,
         "x": [
          12.8
         ],
         "xaxis": "x",
         "y": [
          9.999999999999999e-06
         ],
         "yaxis": "y"
        },
        {
         "line": {
          "color": "rgb(0,255,255)",
          "width": 2
         },
         "marker": {
          "color": "rgb(0,255,255)",
          "line": {
           "color": "rgb(0,255,255)"
          },
          "size": 6,
          "symbol": "circle"
         },
         "mode": "markers",
         "name": "",
         "showlegend": false,
         "type": "scatter",
         "visibility": true,
         "x": [
          12.9
         ],
         "xaxis": "x",
         "y": [
          9.999999999999999e-06
         ],
         "yaxis": "y"
        },
        {
         "line": {
          "color": "rgb(0,255,255)",
          "width": 2
         },
         "marker": {
          "color": "rgb(0,255,255)",
          "line": {
           "color": "rgb(0,255,255)"
          },
          "size": 6,
          "symbol": "circle"
         },
         "mode": "markers",
         "name": "",
         "showlegend": false,
         "type": "scatter",
         "visibility": true,
         "x": [
          13
         ],
         "xaxis": "x",
         "y": [
          9.999999999999999e-06
         ],
         "yaxis": "y"
        },
        {
         "line": {
          "color": "rgb(0,255,255)",
          "width": 2
         },
         "marker": {
          "color": "rgb(0,255,255)",
          "line": {
           "color": "rgb(0,255,255)"
          },
          "size": 6,
          "symbol": "circle"
         },
         "mode": "markers",
         "name": "",
         "showlegend": false,
         "type": "scatter",
         "visibility": true,
         "x": [
          13.100000000000001
         ],
         "xaxis": "x",
         "y": [
          9.999999999999999e-06
         ],
         "yaxis": "y"
        },
        {
         "line": {
          "color": "rgb(0,255,255)",
          "width": 2
         },
         "marker": {
          "color": "rgb(0,255,255)",
          "line": {
           "color": "rgb(0,255,255)"
          },
          "size": 6,
          "symbol": "circle"
         },
         "mode": "markers",
         "name": "",
         "showlegend": false,
         "type": "scatter",
         "visibility": true,
         "x": [
          13.200000000000001
         ],
         "xaxis": "x",
         "y": [
          9.999999999999999e-06
         ],
         "yaxis": "y"
        },
        {
         "line": {
          "color": "rgb(0,255,255)",
          "width": 2
         },
         "marker": {
          "color": "rgb(0,255,255)",
          "line": {
           "color": "rgb(0,255,255)"
          },
          "size": 6,
          "symbol": "circle"
         },
         "mode": "markers",
         "name": "",
         "showlegend": false,
         "type": "scatter",
         "visibility": true,
         "x": [
          13.3
         ],
         "xaxis": "x",
         "y": [
          9.999999999999999e-06
         ],
         "yaxis": "y"
        },
        {
         "line": {
          "color": "rgb(0,255,255)",
          "width": 2
         },
         "marker": {
          "color": "rgb(0,255,255)",
          "line": {
           "color": "rgb(0,255,255)"
          },
          "size": 6,
          "symbol": "circle"
         },
         "mode": "markers",
         "name": "",
         "showlegend": false,
         "type": "scatter",
         "visibility": true,
         "x": [
          13.4
         ],
         "xaxis": "x",
         "y": [
          9.999999999999999e-06
         ],
         "yaxis": "y"
        },
        {
         "line": {
          "color": "rgb(0,255,255)",
          "width": 2
         },
         "marker": {
          "color": "rgb(0,255,255)",
          "line": {
           "color": "rgb(0,255,255)"
          },
          "size": 6,
          "symbol": "circle"
         },
         "mode": "markers",
         "name": "",
         "showlegend": false,
         "type": "scatter",
         "visibility": true,
         "x": [
          13.5
         ],
         "xaxis": "x",
         "y": [
          9.999999999999999e-06
         ],
         "yaxis": "y"
        },
        {
         "line": {
          "color": "rgb(0,255,255)",
          "width": 2
         },
         "marker": {
          "color": "rgb(0,255,255)",
          "line": {
           "color": "rgb(0,255,255)"
          },
          "size": 6,
          "symbol": "circle"
         },
         "mode": "markers",
         "name": "",
         "showlegend": false,
         "type": "scatter",
         "visibility": true,
         "x": [
          13.600000000000001
         ],
         "xaxis": "x",
         "y": [
          9.999999999999999e-06
         ],
         "yaxis": "y"
        },
        {
         "line": {
          "color": "rgb(0,255,255)",
          "width": 2
         },
         "marker": {
          "color": "rgb(0,255,255)",
          "line": {
           "color": "rgb(0,255,255)"
          },
          "size": 6,
          "symbol": "circle"
         },
         "mode": "markers",
         "name": "",
         "showlegend": false,
         "type": "scatter",
         "visibility": true,
         "x": [
          13.700000000000001
         ],
         "xaxis": "x",
         "y": [
          9.999999999999999e-06
         ],
         "yaxis": "y"
        },
        {
         "line": {
          "color": "rgb(0,255,255)",
          "width": 2
         },
         "marker": {
          "color": "rgb(0,255,255)",
          "line": {
           "color": "rgb(0,255,255)"
          },
          "size": 6,
          "symbol": "circle"
         },
         "mode": "markers",
         "name": "",
         "showlegend": false,
         "type": "scatter",
         "visibility": true,
         "x": [
          13.8
         ],
         "xaxis": "x",
         "y": [
          9.999999999999999e-06
         ],
         "yaxis": "y"
        },
        {
         "line": {
          "color": "rgb(0,255,255)",
          "width": 2
         },
         "marker": {
          "color": "rgb(0,255,255)",
          "line": {
           "color": "rgb(0,255,255)"
          },
          "size": 6,
          "symbol": "circle"
         },
         "mode": "markers",
         "name": "",
         "showlegend": false,
         "type": "scatter",
         "visibility": true,
         "x": [
          13.9
         ],
         "xaxis": "x",
         "y": [
          9.999999999999999e-06
         ],
         "yaxis": "y"
        },
        {
         "line": {
          "color": "rgb(0,255,255)",
          "width": 2
         },
         "marker": {
          "color": "rgb(0,255,255)",
          "line": {
           "color": "rgb(0,255,255)"
          },
          "size": 6,
          "symbol": "circle"
         },
         "mode": "markers",
         "name": "",
         "showlegend": false,
         "type": "scatter",
         "visibility": true,
         "x": [
          14
         ],
         "xaxis": "x",
         "y": [
          9.999999999999999e-06
         ],
         "yaxis": "y"
        },
        {
         "line": {
          "color": "rgb(255,0,0)",
          "dash": "solid",
          "width": 2
         },
         "marker": {
          "color": "rgb(255,0,0)",
          "line": {
           "color": "rgb(255,0,0)"
          },
          "size": 6,
          "symbol": "none"
         },
         "mode": "lines",
         "name": "",
         "showlegend": false,
         "type": "scatter",
         "visibility": true,
         "x": [
          0,
          0.1,
          0.2,
          0.30000000000000004,
          0.4,
          0.5,
          0.6000000000000001,
          0.7000000000000001,
          0.8,
          0.9,
          1,
          1.1,
          1.2000000000000002,
          1.3,
          1.4000000000000001,
          1.5,
          1.6,
          1.7000000000000002,
          1.8,
          1.9000000000000001,
          2,
          2.1,
          2.2,
          2.3000000000000003,
          2.4000000000000004,
          2.5,
          2.6,
          2.7,
          2.8000000000000003,
          2.9000000000000004,
          3,
          3.1,
          3.2,
          3.3000000000000003,
          3.4000000000000004,
          3.5,
          3.6,
          3.7,
          3.8000000000000003,
          3.9000000000000004,
          4,
          4.1000000000000005,
          4.2,
          4.3,
          4.4,
          4.5,
          4.6000000000000005,
          4.7,
          4.800000000000001,
          4.9,
          5,
          5.1000000000000005,
          5.2,
          5.300000000000001,
          5.4,
          5.5,
          5.6000000000000005,
          5.7,
          5.800000000000001,
          5.9,
          6,
          6.1000000000000005,
          6.2,
          6.300000000000001,
          6.4,
          6.5,
          6.6000000000000005,
          6.7,
          6.800000000000001,
          6.9,
          7,
          7.1000000000000005,
          7.2,
          7.300000000000001,
          7.4,
          7.5,
          7.6000000000000005,
          7.7,
          7.800000000000001,
          7.9,
          8,
          8.1,
          8.200000000000001,
          8.3,
          8.4,
          8.5,
          8.6,
          8.700000000000001,
          8.8,
          8.9,
          9,
          9.1,
          9.200000000000001,
          9.3,
          9.4,
          9.5,
          9.600000000000001,
          9.700000000000001,
          9.8,
          9.9,
          10,
          10.100000000000001,
          10.200000000000001,
          10.3,
          10.4,
          10.5,
          10.600000000000001,
          10.700000000000001,
          10.8,
          10.9,
          11,
          11.100000000000001,
          11.200000000000001,
          11.3,
          11.4,
          11.5,
          11.600000000000001,
          11.700000000000001,
          11.8,
          11.9,
          12,
          12.100000000000001,
          12.200000000000001,
          12.3,
          12.4,
          12.5,
          12.600000000000001,
          12.700000000000001,
          12.8,
          12.9,
          13,
          13.100000000000001,
          13.200000000000001,
          13.3,
          13.4,
          13.5,
          13.600000000000001,
          13.700000000000001,
          13.8,
          13.9,
          14
         ],
         "xaxis": "x",
         "y": [
          5.011872336272724e-12,
          6.3095734448019345e-12,
          7.943282347242818e-12,
          1.0000000000000004e-11,
          1.2589254117941678e-11,
          1.584893192461114e-11,
          1.9952623149688806e-11,
          2.5118864315095813e-11,
          3.162277660168381e-11,
          3.9810717055349734e-11,
          5.011872336272724e-11,
          6.309573444801936e-11,
          7.94328234724282e-11,
          1.0000000000000004e-10,
          1.258925411794168e-10,
          1.584893192461114e-10,
          1.9952623149688808e-10,
          2.511886431509582e-10,
          3.1622776601683806e-10,
          3.981071705534975e-10,
          5.011872336272725e-10,
          6.309573444801935e-10,
          7.94328234724282e-10,
          1.0000000000000009e-09,
          1.2589254117941687e-09,
          1.584893192461114e-09,
          1.9952623149688807e-09,
          2.5118864315095816e-09,
          3.162277660168382e-09,
          3.981071705534977e-09,
          5.011872336272725e-09,
          6.309573444801936e-09,
          7.94328234724282e-09,
          1.0000000000000008e-08,
          1.2589254117941686e-08,
          1.584893192461114e-08,
          1.9952623149688806e-08,
          2.511886431509582e-08,
          3.162277660168382e-08,
          3.9810717055349776e-08,
          5.011872336272724e-08,
          6.309573444801942e-08,
          7.943282347242822e-08,
          9.999999999999998e-08,
          1.2589254117941685e-07,
          1.5848931924611138e-07,
          1.9952623149688827e-07,
          2.5118864315095823e-07,
          3.1622776601683855e-07,
          3.981071705534977e-07,
          5.011872336272724e-07,
          6.309573444801942e-07,
          7.943282347242821e-07,
          1.0000000000000019e-06,
          1.2589254117941687e-06,
          1.584893192461114e-06,
          1.9952623149688825e-06,
          2.511886431509582e-06,
          3.1622776601683855e-06,
          3.981071705534977e-06,
          5.011872336272725e-06,
          6.309573444801942e-06,
          7.943282347242822e-06,
          1.000000000000002e-05,
          1.2589254117941687e-05,
          1.584893192461114e-05,
          1.9952623149688827e-05,
          2.511886431509582e-05,
          3.1622776601683856e-05,
          3.981071705534977e-05,
          5.0118723362727245e-05,
          6.309573444801943e-05,
          7.943282347242821e-05,
          0.0001000000000000002,
          0.00012589254117941688,
          0.0001584893192461114,
          0.00019952623149688826,
          0.0002511886431509582,
          0.00031622776601683854,
          0.00039810717055349773,
          0.0005011872336272724,
          0.0006309573444801929,
          0.0007943282347242837,
          0.001000000000000002,
          0.0012589254117941688,
          0.0015848931924611139,
          0.001995262314968879,
          0.0025118864315095872,
          0.0031622776601683855,
          0.003981071705534977,
          0.005011872336272724,
          0.006309573444801929,
          0.007943282347242838,
          0.01000000000000002,
          0.012589254117941685,
          0.015848931924611138,
          0.019952623149688868,
          0.025118864315095867,
          0.031622776601683854,
          0.03981071705534977,
          0.05011872336272724,
          0.06309573444801955,
          0.07943282347242837,
          0.10000000000000019,
          0.12589254117941687,
          0.1584893192461114,
          0.19952623149688867,
          0.2511886431509587,
          0.31622776601683855,
          0.3981071705534977,
          0.5011872336272725,
          0.6309573444801955,
          0.7943282347242837,
          1.000000000000002,
          1.2589254117941686,
          1.5848931924611138,
          1.9952623149688868,
          2.5118864315095872,
          3.1622776601683853,
          3.981071705534977,
          5.011872336272725,
          6.309573444801955,
          7.943282347242837,
          10.00000000000002,
          12.589254117941687,
          15.84893192461114,
          19.95262314968887,
          25.11886431509587,
          31.622776601683853,
          39.81071705534977,
          50.118723362727245,
          63.09573444801955,
          79.43282347242838,
          100.0000000000002,
          125.89254117941685,
          158.4893192461114,
          199.52623149688867,
          251.1886431509587,
          316.22776601683853,
          398.1071705534977,
          501.18723362727246
         ],
         "yaxis": "y"
        },
        {
         "line": {
          "color": "rgb(0, 0, 0)",
          "dash": "solid",
          "width": 2
         },
         "marker": {
          "color": "rgb(0, 0, 0)",
          "line": {
           "color": "rgb(0, 0, 0)"
          },
          "size": 6,
          "symbol": "none"
         },
         "mode": "lines",
         "name": "",
         "showlegend": false,
         "type": "scatter",
         "visibility": true,
         "x": [
          0,
          0.1,
          0.2,
          0.30000000000000004,
          0.4,
          0.5,
          0.6000000000000001,
          0.7000000000000001,
          0.8,
          0.9,
          1,
          1.1,
          1.2000000000000002,
          1.3,
          1.4000000000000001,
          1.5,
          1.6,
          1.7000000000000002,
          1.8,
          1.9000000000000001,
          2,
          2.1,
          2.2,
          2.3000000000000003,
          2.4000000000000004,
          2.5,
          2.6,
          2.7,
          2.8000000000000003,
          2.9000000000000004,
          3,
          3.1,
          3.2,
          3.3000000000000003,
          3.4000000000000004,
          3.5,
          3.6,
          3.7,
          3.8000000000000003,
          3.9000000000000004,
          4,
          4.1000000000000005,
          4.2,
          4.3,
          4.4,
          4.5,
          4.6000000000000005,
          4.7,
          4.800000000000001,
          4.9,
          5,
          5.1000000000000005,
          5.2,
          5.300000000000001,
          5.4,
          5.5,
          5.6000000000000005,
          5.7,
          5.800000000000001,
          5.9,
          6,
          6.1000000000000005,
          6.2,
          6.300000000000001,
          6.4,
          6.5,
          6.6000000000000005,
          6.7,
          6.800000000000001,
          6.9,
          7,
          7.1000000000000005,
          7.2,
          7.300000000000001,
          7.4,
          7.5,
          7.6000000000000005,
          7.7,
          7.800000000000001,
          7.9,
          8,
          8.1,
          8.200000000000001,
          8.3,
          8.4,
          8.5,
          8.6,
          8.700000000000001,
          8.8,
          8.9,
          9,
          9.1,
          9.200000000000001,
          9.3,
          9.4,
          9.5,
          9.600000000000001,
          9.700000000000001,
          9.8,
          9.9,
          10,
          10.100000000000001,
          10.200000000000001,
          10.3,
          10.4,
          10.5,
          10.600000000000001,
          10.700000000000001,
          10.8,
          10.9,
          11,
          11.100000000000001,
          11.200000000000001,
          11.3,
          11.4,
          11.5,
          11.600000000000001,
          11.700000000000001,
          11.8,
          11.9,
          12,
          12.100000000000001,
          12.200000000000001,
          12.3,
          12.4,
          12.5,
          12.600000000000001,
          12.700000000000001,
          12.8,
          12.9,
          13,
          13.100000000000001,
          13.200000000000001,
          13.3,
          13.4,
          13.5,
          13.600000000000001,
          13.700000000000001,
          13.8,
          13.9,
          14
         ],
         "xaxis": "x",
         "y": [
          2.511886431509577e-22,
          3.981071705534967e-22,
          6.309573444801925e-22,
          9.99999999999999e-22,
          1.5848931924611117e-21,
          2.5118864315095767e-21,
          3.981071705534969e-21,
          6.309573444801927e-21,
          9.999999999999987e-21,
          1.584893192461111e-20,
          2.5118864315095766e-20,
          3.9810717055349687e-20,
          6.309573444801929e-20,
          9.999999999999989e-20,
          1.5848931924611123e-19,
          2.511886431509577e-19,
          3.98107170553497e-19,
          6.30957344480193e-19,
          9.99999999999999e-19,
          1.5848931924611124e-18,
          2.5118864315095768e-18,
          3.981071705534968e-18,
          6.3095734448019285e-18,
          9.999999999999999e-18,
          1.584893192461114e-17,
          2.511886431509577e-17,
          3.981071705534969e-17,
          6.309573444801929e-17,
          9.999999999999999e-17,
          1.5848931924611143e-16,
          2.511886431509577e-16,
          3.9810717055349695e-16,
          6.309573444801929e-16,
          9.999999999999999e-16,
          1.5848931924611141e-15,
          2.5118864315095766e-15,
          3.981071705534969e-15,
          6.3095734448019295e-15,
          9.999999999999998e-15,
          1.5848931924611144e-14,
          2.5118864315095766e-14,
          3.981071705534976e-14,
          6.309573444801932e-14,
          9.999999999999978e-14,
          1.584893192461114e-13,
          2.5118864315095765e-13,
          3.981071705534977e-13,
          6.30957344480193e-13,
          1.0000000000000022e-12,
          1.5848931924611142e-12,
          2.5118864315095767e-12,
          3.981071705534977e-12,
          6.30957344480193e-12,
          1.0000000000000019e-11,
          1.584893192461114e-11,
          2.511886431509577e-11,
          3.9810717055349766e-11,
          6.30957344480193e-11,
          1.000000000000002e-10,
          1.584893192461114e-10,
          2.5118864315095773e-10,
          3.9810717055349776e-10,
          6.30957344480193e-10,
          1.000000000000002e-09,
          1.5848931924611142e-09,
          2.511886431509577e-09,
          3.981071705534977e-09,
          6.30957344480193e-09,
          1.000000000000002e-08,
          1.584893192461114e-08,
          2.511886431509577e-08,
          3.9810717055349776e-08,
          6.30957344480193e-08,
          1.0000000000000021e-07,
          1.5848931924611143e-07,
          2.511886431509577e-07,
          3.9810717055349766e-07,
          6.309573444801931e-07,
          1.000000000000002e-06,
          1.584893192461114e-06,
          2.5118864315095768e-06,
          3.981071705534961e-06,
          6.309573444801955e-06,
          1.000000000000002e-05,
          1.5848931924611145e-05,
          2.5118864315095768e-05,
          3.981071705534961e-05,
          6.309573444801956e-05,
          0.0001000000000000002,
          0.0001584893192461114,
          0.00025118864315095763,
          0.00039810717055349605,
          0.0006309573444801957,
          0.0010000000000000022,
          0.0015848931924611139,
          0.0025118864315095764,
          0.003981071705534994,
          0.006309573444801954,
          0.01000000000000002,
          0.01584893192461114,
          0.025118864315095767,
          0.039810717055349935,
          0.06309573444801957,
          0.10000000000000019,
          0.1584893192461114,
          0.2511886431509577,
          0.3981071705534993,
          0.6309573444801955,
          1.000000000000002,
          1.584893192461114,
          2.5118864315095775,
          3.9810717055349927,
          6.309573444801956,
          10.00000000000002,
          15.84893192461114,
          25.118864315095763,
          39.81071705534993,
          63.095734448019556,
          100.00000000000018,
          158.48931924611142,
          251.1886431509577,
          398.10717055349926,
          630.9573444801955,
          1000.000000000002,
          1584.8931924611143,
          2511.886431509577,
          3981.0717055349933,
          6309.573444801955,
          10000.00000000002,
          15848.931924611139,
          25118.86431509577,
          39810.71705534993,
          63095.734448019575,
          100000.0000000002,
          158489.31924611138,
          251188.64315095765,
          398107.17055349937,
          630957.3444801955,
          1000000.0000000019,
          1584893.1924611141,
          2511886.431509577
         ],
         "yaxis": "y"
        },
        {
         "line": {
          "color": "rgb(0,0,255)",
          "dash": "solid",
          "width": 2
         },
         "marker": {
          "color": "rgb(0,0,255)",
          "line": {
           "color": "rgb(0,0,255)"
          },
          "size": 6,
          "symbol": "none"
         },
         "mode": "lines",
         "name": "",
         "showlegend": false,
         "type": "scatter",
         "visibility": true,
         "x": [
          0,
          0.1,
          0.2,
          0.30000000000000004,
          0.4,
          0.5,
          0.6000000000000001,
          0.7000000000000001,
          0.8,
          0.9,
          1,
          1.1,
          1.2000000000000002,
          1.3,
          1.4000000000000001,
          1.5,
          1.6,
          1.7000000000000002,
          1.8,
          1.9000000000000001,
          2,
          2.1,
          2.2,
          2.3000000000000003,
          2.4000000000000004,
          2.5,
          2.6,
          2.7,
          2.8000000000000003,
          2.9000000000000004,
          3,
          3.1,
          3.2,
          3.3000000000000003,
          3.4000000000000004,
          3.5,
          3.6,
          3.7,
          3.8000000000000003,
          3.9000000000000004,
          4,
          4.1000000000000005,
          4.2,
          4.3,
          4.4,
          4.5,
          4.6000000000000005,
          4.7,
          4.800000000000001,
          4.9,
          5,
          5.1000000000000005,
          5.2,
          5.300000000000001,
          5.4,
          5.5,
          5.6000000000000005,
          5.7,
          5.800000000000001,
          5.9,
          6,
          6.1000000000000005,
          6.2,
          6.300000000000001,
          6.4,
          6.5,
          6.6000000000000005,
          6.7,
          6.800000000000001,
          6.9,
          7,
          7.1000000000000005,
          7.2,
          7.300000000000001,
          7.4,
          7.5,
          7.6000000000000005,
          7.7,
          7.800000000000001,
          7.9,
          8,
          8.1,
          8.200000000000001,
          8.3,
          8.4,
          8.5,
          8.6,
          8.700000000000001,
          8.8,
          8.9,
          9,
          9.1,
          9.200000000000001,
          9.3,
          9.4,
          9.5,
          9.600000000000001,
          9.700000000000001,
          9.8,
          9.9,
          10,
          10.100000000000001,
          10.200000000000001,
          10.3,
          10.4,
          10.5,
          10.600000000000001,
          10.700000000000001,
          10.8,
          10.9,
          11,
          11.100000000000001,
          11.200000000000001,
          11.3,
          11.4,
          11.5,
          11.600000000000001,
          11.700000000000001,
          11.8,
          11.9,
          12,
          12.100000000000001,
          12.200000000000001,
          12.3,
          12.4,
          12.5,
          12.600000000000001,
          12.700000000000001,
          12.8,
          12.9,
          13,
          13.100000000000001,
          13.200000000000001,
          13.3,
          13.4,
          13.5,
          13.600000000000001,
          13.700000000000001,
          13.8,
          13.9,
          14
         ],
         "xaxis": "x",
         "y": [
          1e-14,
          1.2589254117941673e-14,
          1.5848931924611135e-14,
          1.9952623149688797e-14,
          2.5118864315095804e-14,
          3.162277660168379e-14,
          3.981071705534973e-14,
          5.011872336272724e-14,
          6.309573444801933e-14,
          7.943282347242815e-14,
          9.999999999999999e-14,
          1.2589254117941673e-13,
          1.584893192461114e-13,
          1.99526231496888e-13,
          2.511886431509581e-13,
          3.1622776601683797e-13,
          3.9810717055349737e-13,
          5.011872336272725e-13,
          6.309573444801932e-13,
          7.943282347242818e-13,
          1e-12,
          1.2589254117941675e-12,
          1.584893192461114e-12,
          1.995262314968881e-12,
          2.5118864315095823e-12,
          3.1622776601683794e-12,
          3.9810717055349735e-12,
          5.011872336272724e-12,
          6.309573444801936e-12,
          7.943282347242821e-12,
          1e-11,
          1.2589254117941675e-11,
          1.5848931924611143e-11,
          1.995262314968881e-11,
          2.5118864315095823e-11,
          3.1622776601683794e-11,
          3.9810717055349734e-11,
          5.011872336272725e-11,
          6.309573444801936e-11,
          7.943282347242822e-11,
          9.999999999999999e-11,
          1.2589254117941687e-10,
          1.5848931924611142e-10,
          1.9952623149688787e-10,
          2.511886431509582e-10,
          3.162277660168379e-10,
          3.981071705534977e-10,
          5.011872336272726e-10,
          6.309573444801943e-10,
          7.943282347242822e-10,
          9.999999999999999e-10,
          1.2589254117941687e-09,
          1.5848931924611142e-09,
          1.9952623149688828e-09,
          2.5118864315095824e-09,
          3.1622776601683795e-09,
          3.981071705534977e-09,
          5.0118723362727255e-09,
          6.309573444801943e-09,
          7.943282347242822e-09,
          1e-08,
          1.2589254117941687e-08,
          1.5848931924611143e-08,
          1.995262314968883e-08,
          2.511886431509582e-08,
          3.162277660168379e-08,
          3.9810717055349776e-08,
          5.011872336272725e-08,
          6.309573444801943e-08,
          7.943282347242822e-08,
          1.0000000000000001e-07,
          1.2589254117941688e-07,
          1.584893192461114e-07,
          1.995262314968883e-07,
          2.5118864315095823e-07,
          3.1622776601683797e-07,
          3.981071705534977e-07,
          5.011872336272725e-07,
          6.309573444801942e-07,
          7.943282347242822e-07,
          1e-06,
          1.2589254117941661e-06,
          1.5848931924611173e-06,
          1.995262314968883e-06,
          2.5118864315095823e-06,
          3.162277660168379e-06,
          3.981071705534969e-06,
          5.011872336272736e-06,
          6.309573444801942e-06,
          7.943282347242822e-06,
          9.999999999999999e-06,
          1.2589254117941661e-05,
          1.5848931924611175e-05,
          1.995262314968883e-05,
          2.5118864315095822e-05,
          3.162277660168379e-05,
          3.981071705534986e-05,
          5.0118723362727346e-05,
          6.309573444801943e-05,
          7.943282347242822e-05,
          9.999999999999999e-05,
          0.00012589254117941712,
          0.00015848931924611174,
          0.00019952623149688828,
          0.0002511886431509582,
          0.00031622776601683794,
          0.00039810717055349854,
          0.0005011872336272735,
          0.0006309573444801943,
          0.0007943282347242822,
          0.001,
          0.0012589254117941714,
          0.0015848931924611173,
          0.001995262314968883,
          0.002511886431509582,
          0.0031622776601683794,
          0.0039810717055349856,
          0.005011872336272735,
          0.006309573444801942,
          0.007943282347242822,
          0.01,
          0.012589254117941713,
          0.015848931924611172,
          0.01995262314968883,
          0.025118864315095822,
          0.03162277660168379,
          0.03981071705534985,
          0.05011872336272735,
          0.06309573444801943,
          0.07943282347242821,
          0.09999999999999999,
          0.12589254117941712,
          0.15848931924611176,
          0.1995262314968883,
          0.25118864315095824,
          0.3162277660168379,
          0.39810717055349853,
          0.5011872336272736,
          0.6309573444801942,
          0.7943282347242822,
          1
         ],
         "yaxis": "y"
        },
        {
         "line": {
          "color": "rgb(255,255,0)",
          "dash": "solid",
          "width": 2
         },
         "marker": {
          "color": "rgb(255,255,0)",
          "line": {
           "color": "rgb(255,255,0)"
          },
          "size": 6,
          "symbol": "none"
         },
         "mode": "lines",
         "name": "",
         "showlegend": false,
         "type": "scatter",
         "visibility": true,
         "x": [
          0,
          0.1,
          0.2,
          0.30000000000000004,
          0.4,
          0.5,
          0.6000000000000001,
          0.7000000000000001,
          0.8,
          0.9,
          1,
          1.1,
          1.2000000000000002,
          1.3,
          1.4000000000000001,
          1.5,
          1.6,
          1.7000000000000002,
          1.8,
          1.9000000000000001,
          2,
          2.1,
          2.2,
          2.3000000000000003,
          2.4000000000000004,
          2.5,
          2.6,
          2.7,
          2.8000000000000003,
          2.9000000000000004,
          3,
          3.1,
          3.2,
          3.3000000000000003,
          3.4000000000000004,
          3.5,
          3.6,
          3.7,
          3.8000000000000003,
          3.9000000000000004,
          4,
          4.1000000000000005,
          4.2,
          4.3,
          4.4,
          4.5,
          4.6000000000000005,
          4.7,
          4.800000000000001,
          4.9,
          5,
          5.1000000000000005,
          5.2,
          5.300000000000001,
          5.4,
          5.5,
          5.6000000000000005,
          5.7,
          5.800000000000001,
          5.9,
          6,
          6.1000000000000005,
          6.2,
          6.300000000000001,
          6.4,
          6.5,
          6.6000000000000005,
          6.7,
          6.800000000000001,
          6.9,
          7,
          7.1000000000000005,
          7.2,
          7.300000000000001,
          7.4,
          7.5,
          7.6000000000000005,
          7.7,
          7.800000000000001,
          7.9,
          8,
          8.1,
          8.200000000000001,
          8.3,
          8.4,
          8.5,
          8.6,
          8.700000000000001,
          8.8,
          8.9,
          9,
          9.1,
          9.200000000000001,
          9.3,
          9.4,
          9.5,
          9.600000000000001,
          9.700000000000001,
          9.8,
          9.9,
          10,
          10.100000000000001,
          10.200000000000001,
          10.3,
          10.4,
          10.5,
          10.600000000000001,
          10.700000000000001,
          10.8,
          10.9,
          11,
          11.100000000000001,
          11.200000000000001,
          11.3,
          11.4,
          11.5,
          11.600000000000001,
          11.700000000000001,
          11.8,
          11.9,
          12,
          12.100000000000001,
          12.200000000000001,
          12.3,
          12.4,
          12.5,
          12.600000000000001,
          12.700000000000001,
          12.8,
          12.9,
          13,
          13.100000000000001,
          13.200000000000001,
          13.3,
          13.4,
          13.5,
          13.600000000000001,
          13.700000000000001,
          13.8,
          13.9,
          14
         ],
         "xaxis": "x",
         "y": [
          -0.9999999999949781,
          -0.7943282347179593,
          -0.6309573444722342,
          -0.5011872336172523,
          -0.39810717054088285,
          -0.31622776600095737,
          -0.2511886431309655,
          -0.19952623147171894,
          -0.15848931921442547,
          -0.12589254113952658,
          -0.09999999994978129,
          -0.07943282340920652,
          -0.06309573436842798,
          -0.05011872326252769,
          -0.039810716929205986,
          -0.031622776442878246,
          -0.025118864115171453,
          -0.019952622897998956,
          -0.015848931607752408,
          -0.012589253719040166,
          -0.009999999497812762,
          -0.007943281715026536,
          -0.006309572648888789,
          -0.0050118713342774375,
          -0.0039810704440976395,
          -0.003162276072112859,
          -0.0025118844322661133,
          -0.001995259798070449,
          -0.001584890023873679,
          -0.0012589214227788613,
          -0.0009999949781271614,
          -0.0007943219125607862,
          -0.0006309493853476519,
          -0.0005011772136726488,
          -0.0003980945561773449,
          -0.00031621188545711296,
          -0.00025116865070912907,
          -0.00019950106250123028,
          -0.00015845763335377514,
          -0.00012585265099783992,
          -9.994978122639954e-05,
          -7.936960176581743e-05,
          -6.301614300903615e-05,
          -5.001852363649576e-05,
          -3.968457300854849e-05,
          -3.146397055229438e-05,
          -2.4918939180213987e-05,
          -1.9700932057389512e-05,
          -1.5532071201249787e-05,
          -1.2190349449367053e-05,
          -9.497807742599865e-06,
          -7.311058115207405e-06,
          -5.5136476977382965e-06,
          -4.009857073957744e-06,
          -2.7196027094454417e-06,
          -1.5741719523184664e-06,
          -5.125634234010489e-07,
          5.217621803458718e-07,
          1.5838940411520768e-06,
          2.730406554726545e-06,
          4.022374713559027e-06,
          5.52863067853671e-06,
          7.329435849376199e-06,
          9.520765389522436e-06,
          1.2219435598088208e-05,
          1.556935070805901e-05,
          1.974920736700429e-05,
          2.498207595385126e-05,
          3.154738301688577e-05,
          3.9795955201492e-05,
          5.016896109135744e-05,
          6.322181559983712e-05,
          7.965440852612235e-05,
          0.00010034940750813436,
          0.0001264208977440047,
          0.00015927630152182844,
          0.00020069543414423364,
          0.00025293179245039623,
          0.00031884287442939414,
          0.00040205869591902624,
          0.0005072010064902916,
          0.0006401704700207098,
          0.000808525965232904,
          0.0010219902504426347,
          0.001293131181003195,
          0.0016382900364738137,
          0.0020788623088986817,
          0.002643087777479584,
          0.0033685856487199956,
          0.00430599236744903,
          0.005524248622574638,
          0.007118376245698628,
          0.009221045337170497,
          0.012019952121962479,
          0.015784158969071836,
          0.02090432724800421,
          0.027954577026625564,
          0.03778812972853627,
          0.051685872177642596,
          0.07158801360215193,
          0.10045645189291878,
          0.142843061020466,
          0.2057827816246179,
          0.3001995261813787,
          0.4431223682749798,
          0.6611828332824208,
          0.9961386797493219,
          1.5136045193250245,
          2.316858723345474,
          3.568687883697861,
          5.525960096636426,
          8.594359680954032,
          13.41506001751435,
          21.00199526231,
          32.95930114744397,
          51.825784100309654,
          81.62067749737179,
          128.70836719988299,
          203.16858723361202,
          320.9676534801039,
          507.39915863818715,
          802.5365038059178,
          1269.8738202395577,
          2010.0199526231534,
          3182.4007579044846,
          5039.653417720367,
          7982.135844936732,
          12644.31587264237,
          20031.685872336173,
          31737.753999101096,
          50287.947353554264,
          79684.65573768907,
          126271.06020883081,
          200100.1995262319,
          317104.7822220454,
          502536.09184892743,
          796414.2654456663,
          1262166.378790776,
          2000316.8587233652,
          3170185.2864210163,
          5024275.050252781
         ],
         "yaxis": "y"
        },
        {
         "line": {
          "color": "rgb(0, 0, 0)",
          "dash": "dashdot",
          "width": 2
         },
         "marker": {
          "color": "rgb(0, 0, 0)",
          "line": {
           "color": "rgb(0, 0, 0)"
          },
          "size": 6,
          "symbol": "none"
         },
         "mode": "lines",
         "name": "",
         "showlegend": false,
         "type": "scatter",
         "visibility": true,
         "x": [
          6.3,
          6.3
         ],
         "xaxis": "x",
         "y": [
          1e-10,
          100000
         ],
         "yaxis": "y"
        },
        {
         "line": {
          "color": "rgb(0, 0, 0)",
          "dash": "dashdot",
          "width": 2
         },
         "marker": {
          "color": "rgb(0, 0, 0)",
          "line": {
           "color": "rgb(0, 0, 0)"
          },
          "size": 6,
          "symbol": "none"
         },
         "mode": "lines",
         "name": "",
         "showlegend": false,
         "type": "scatter",
         "visibility": true,
         "x": [
          10.3,
          10.3
         ],
         "xaxis": "x",
         "y": [
          1e-10,
          100000
         ],
         "yaxis": "y"
        },
        {
         "hoverinfo": "none",
         "line": {
          "color": "rgb(0,255,255)",
          "width": 2
         },
         "marker": {
          "color": "rgb(0,255,255)",
          "line": {
           "color": "rgb(0,255,255)"
          },
          "size": 6,
          "symbol": "none"
         },
         "mode": "none",
         "name": "",
         "showlegend": false,
         "type": "scatter",
         "visibility": true,
         "x": [
          3,
          18
         ],
         "xaxis": "x2",
         "y": [
          8.5,
          8.5
         ],
         "yaxis": "y2"
        },
        {
         "hoverinfo": "none",
         "line": {
          "color": "rgb(0,255,255)",
          "width": 2
         },
         "marker": {
          "color": "rgb(0,255,255)",
          "line": {
           "color": "rgb(0,255,255)"
          },
          "size": 6,
          "symbol": "none"
         },
         "mode": "none",
         "name": "",
         "showlegend": false,
         "type": "scatter",
         "visibility": true,
         "x": [
          3,
          18
         ],
         "xaxis": "x2",
         "y": [
          23,
          23
         ],
         "yaxis": "y2"
        },
        {
         "hoverinfo": "none",
         "line": {
          "color": "rgb(0,255,255)",
          "width": 2
         },
         "marker": {
          "color": "rgb(0,255,255)",
          "line": {
           "color": "rgb(0,255,255)"
          },
          "size": 6,
          "symbol": "none"
         },
         "mode": "none",
         "name": "",
         "showlegend": false,
         "type": "scatter",
         "visibility": true,
         "x": [
          3,
          18
         ],
         "xaxis": "x2",
         "y": [
          38,
          38
         ],
         "yaxis": "y2"
        },
        {
         "hoverinfo": "none",
         "line": {
          "color": "rgb(0,255,255)",
          "width": 2
         },
         "marker": {
          "color": "rgb(0,255,255)",
          "line": {
           "color": "rgb(0,255,255)"
          },
          "size": 6,
          "symbol": "none"
         },
         "mode": "none",
         "name": "",
         "showlegend": false,
         "type": "scatter",
         "visibility": true,
         "x": [
          3,
          18
         ],
         "xaxis": "x2",
         "y": [
          53,
          53
         ],
         "yaxis": "y2"
        },
        {
         "hoverinfo": "none",
         "line": {
          "color": "rgb(0,255,255)",
          "width": 2
         },
         "marker": {
          "color": "rgb(0,255,255)",
          "line": {
           "color": "rgb(0,255,255)"
          },
          "size": 6,
          "symbol": "none"
         },
         "mode": "none",
         "name": "",
         "showlegend": false,
         "type": "scatter",
         "visibility": true,
         "x": [
          3,
          18
         ],
         "xaxis": "x2",
         "y": [
          66.5,
          66.5
         ],
         "yaxis": "y2"
        }
       ],
       "layout": {
        "annotations": [
         {
          "font": {
           "color": "rgb(0, 0, 0)",
           "size": 10.8
          },
          "showarrow": false,
          "text": "H<sub>2</sub>CO<sub>3</sub>",
          "x": 21,
          "xanchor": "left",
          "xref": "x2",
          "y": 8.5,
          "yanchor": "middle",
          "yref": "y2"
         },
         {
          "font": {
           "color": "rgb(0, 0, 0)",
           "size": 10.8
          },
          "showarrow": false,
          "text": "HCO<sub>3</sub>(-)",
          "x": 21,
          "xanchor": "left",
          "xref": "x2",
          "y": 23,
          "yanchor": "middle",
          "yref": "y2"
         },
         {
          "font": {
           "color": "rgb(0, 0, 0)",
           "size": 10.8
          },
          "showarrow": false,
          "text": "CO<sub>3</sub>(2-)",
          "x": 21,
          "xanchor": "left",
          "xref": "x2",
          "y": 38,
          "yanchor": "middle",
          "yref": "y2"
         },
         {
          "font": {
           "color": "rgb(0, 0, 0)",
           "size": 10.8
          },
          "showarrow": false,
          "text": "OH(-)",
          "x": 21,
          "xanchor": "left",
          "xref": "x2",
          "y": 53,
          "yanchor": "middle",
          "yref": "y2"
         },
         {
          "font": {
           "color": "rgb(0, 0, 0)",
           "size": 10.8
          },
          "showarrow": false,
          "text": "Ca",
          "x": 21,
          "xanchor": "left",
          "xref": "x2",
          "y": 66.5,
          "yanchor": "middle",
          "yref": "y2"
         }
        ],
        "height": 420,
        "hovermode": "closest",
        "margin": {
         "b": 0,
         "l": 0,
         "r": 0,
         "t": 0
        },
        "plot_bgcolor": "rgba(0, 0, 0, 0)",
        "showlegend": false,
        "width": 560,
        "xaxis": {
         "anchor": "y",
         "autorange": false,
         "domain": [
          0.13,
          0.905
         ],
         "exponentformat": "none",
         "gridcolor": "rgba(38,38,38,0.15)",
         "gridwidth": 2,
         "linecolor": "rgb(38,38,38)",
         "linewidth": 2,
         "mirror": "ticks",
         "range": [
          0,
          14
         ],
         "showgrid": false,
         "showline": true,
         "side": "bottom",
         "spikedash": "solid",
         "spikemode": "across",
         "spikesides": false,
         "spikethickness": 1,
         "tickangle": 0,
         "tickcolor": "rgb(38,38,38)",
         "tickfont": {
          "color": "rgb(38,38,38)",
          "size": 12
         },
         "ticklen": 3,
         "ticks": "inside",
         "ticktext": [
          "0",
          "2",
          "4",
          "6",
          "8",
          "10",
          "12",
          "14"
         ],
         "tickvals": [
          0,
          2,
          4,
          6,
          8,
          10,
          12,
          14
         ],
         "title": {
          "font": {
           "color": "rgb(38,38,38)",
           "size": 13.200000000000001
          },
          "text": "pH"
         },
         "type": "linear",
         "visible": true,
         "zeroline": false
        },
        "xaxis2": {
         "anchor": "y2",
         "autorange": false,
         "domain": [
          0.1407142857142857,
          0.255
         ],
         "exponentformat": "none",
         "fixedrange": true,
         "gridcolor": "rgba(38,38,38,0.15)",
         "gridwidth": 1,
         "linecolor": "rgb(38,38,38)",
         "linewidth": 1,
         "mirror": true,
         "range": [
          0,
          64.00000000000001
         ],
         "showgrid": false,
         "showline": true,
         "showspikes": false,
         "side": "bottom",
         "spikedash": "solid",
         "spikemode": "across",
         "spikesides": false,
         "spikethickness": 1,
         "tickangle": 0,
         "tickcolor": "rgb(38,38,38)",
         "tickfont": {
          "color": "rgb(38,38,38)",
          "size": 10.8
         },
         "ticklen": 3,
         "ticks": "",
         "ticktext": [],
         "tickvals": [],
         "title": {
          "font": {
           "color": "rgb(0, 0, 0)",
           "size": 11.880000000000003
          },
          "text": ""
         },
         "type": "linear",
         "visible": true,
         "zeroline": false
        },
        "yaxis": {
         "anchor": "x",
         "autorange": false,
         "domain": [
          0.11,
          0.9249999999999999
         ],
         "exponentformat": "none",
         "gridcolor": "rgba(38,38,38,0.15)",
         "gridwidth": 2,
         "linecolor": "rgb(38,38,38)",
         "linewidth": 2,
         "mirror": "ticks",
         "range": [
          -10,
          5
         ],
         "showgrid": false,
         "showline": true,
         "side": "left",
         "spikedash": "solid",
         "spikemode": "across",
         "spikesides": false,
         "spikethickness": 1,
         "tickangle": 0,
         "tickcolor": "rgb(38,38,38)",
         "tickfont": {
          "color": "rgb(38,38,38)",
          "size": 12
         },
         "ticklen": 3,
         "ticks": "inside",
         "ticktext": [
          "10<sup>-10</sup>",
          "",
          "",
          "",
          "",
          "",
          "",
          "",
          "",
          "10<sup>-09</sup>",
          "",
          "",
          "",
          "",
          "",
          "",
          "",
          "",
          "10<sup>-08</sup>",
          "",
          "",
          "",
          "",
          "",
          "",
          "",
          "",
          "10<sup>-07</sup>",
          "",
          "",
          "",
          "",
          "",
          "",
          "",
          "",
          "10<sup>-06</sup>",
          "",
          "",
          "",
          "",
          "",
          "",
          "",
          "",
          "10<sup>-05</sup>",
          "",
          "",
          "",
          "",
          "",
          "",
          "",
          "",
          "10<sup>-04</sup>",
          "",
          "",
          "",
          "",
          "",
          "",
          "",
          "",
          "10<sup>-03</sup>",
          "",
          "",
          "",
          "",
          "",
          "",
          "",
          "",
          "10<sup>-02</sup>",
          "",
          "",
          "",
          "",
          "",
          "",
          "",
          "",
          "10<sup>-01</sup>",
          "",
          "",
          "",
          "",
          "",
          "",
          "",
          "",
          "10<sup>00</sup>",
          "",
          "",
          "",
          "",
          "",
          "",
          "",
          "",
          "10<sup>01</sup>",
          "",
          "",
          "",
          "",
          "",
          "",
          "",
          "",
          "10<sup>02</sup>",
          "",
          "",
          "",
          "",
          "",
          "",
          "",
          "",
          "10<sup>03</sup>",
          "",
          "",
          "",
          "",
          "",
          "",
          "",
          "",
          "10<sup>04</sup>",
          "",
          "",
          "",
          "",
          "",
          "",
          "",
          "",
          "10<sup>05</sup>"
         ],
         "tickvals": [
          1e-10,
          2.0000000000000003e-10,
          3.0000000000000005e-10,
          4.0000000000000007e-10,
          5e-10,
          6.000000000000001e-10,
          7.000000000000001e-10,
          8e-10,
          9.000000000000001e-10,
          1e-09,
          1.9999999999999997e-09,
          2.9999999999999996e-09,
          3.9999999999999994e-09,
          4.999999999999999e-09,
          5.999999999999999e-09,
          6.999999999999999e-09,
          7.999999999999999e-09,
          9e-09,
          1e-08,
          2e-08,
          3.0000000000000004e-08,
          4e-08,
          5e-08,
          6e-08,
          7e-08,
          8e-08,
          9e-08,
          1e-07,
          2e-07,
          3e-07,
          4e-07,
          5e-07,
          6e-07,
          7e-07,
          8e-07,
          9e-07,
          1e-06,
          2e-06,
          3e-06,
          4e-06,
          4.9999999999999996e-06,
          5.999999999999999e-06,
          7e-06,
          8e-06,
          9e-06,
          1e-05,
          2e-05,
          3.0000000000000004e-05,
          4e-05,
          5e-05,
          6e-05,
          7.000000000000001e-05,
          8e-05,
          9e-05,
          0.0001,
          0.00019999999999999998,
          0.0003,
          0.00039999999999999996,
          0.0005,
          0.0006000000000000001,
          0.0007,
          0.0007999999999999999,
          0.0009,
          0.001,
          0.002,
          0.003,
          0.004,
          0.005,
          0.006,
          0.007,
          0.008,
          0.009000000000000001,
          0.01,
          0.020000000000000004,
          0.030000000000000006,
          0.04000000000000001,
          0.05000000000000001,
          0.06000000000000001,
          0.07,
          0.08,
          0.09000000000000001,
          0.1,
          0.2,
          0.30000000000000004,
          0.4,
          0.5,
          0.6,
          0.7000000000000001,
          0.8,
          0.9,
          1,
          2,
          3,
          4,
          5,
          6,
          7,
          8,
          9,
          10,
          20,
          30,
          40,
          50,
          60,
          70,
          80,
          90,
          100,
          200,
          300,
          400,
          500,
          600,
          700,
          800,
          900,
          1000,
          2000,
          3000,
          4000,
          5000,
          6000,
          7000,
          8000,
          9000,
          10000,
          20000,
          30000,
          40000,
          50000,
          60000,
          70000,
          80000,
          90000,
          100000
         ],
         "title": {
          "font": {
           "color": "rgb(38,38,38)",
           "size": 13.200000000000001
          },
          "text": "[C<sub>inorg</sub>](mol/L)"
         },
         "type": "log",
         "visible": true,
         "zeroline": false
        },
        "yaxis2": {
         "anchor": "x2",
         "autorange": false,
         "domain": [
          0.7345238095238094,
          0.9107142857142856
         ],
         "exponentformat": "none",
         "fixedrange": true,
         "gridcolor": "rgba(38,38,38,0.15)",
         "gridwidth": 1,
         "linecolor": "rgb(38,38,38)",
         "linewidth": 1,
         "mirror": true,
         "range": [
          74,
          0
         ],
         "showgrid": false,
         "showline": true,
         "showspikes": false,
         "side": "left",
         "spikedash": "solid",
         "spikemode": "across",
         "spikesides": false,
         "spikethickness": 1,
         "tickangle": 0,
         "tickcolor": "rgb(38,38,38)",
         "tickfont": {
          "color": "rgb(38,38,38)",
          "size": 10.8
         },
         "ticklen": 3,
         "ticks": "",
         "ticktext": [],
         "tickvals": [],
         "title": {
          "font": {
           "color": "rgb(0, 0, 0)",
           "size": 11.880000000000003
          },
          "text": ""
         },
         "type": "linear",
         "visible": true,
         "zeroline": false
        }
       }
      },
      "image/png": "[encoded data removed]"
     },
     "metadata": {},
     "output_type": "display_data"
    },
    {
     "name": "stderr",
     "output_type": "stream",
     "text": [
      "warning: axis: omitting non-positive data in log plot\n",
      "warning: called from\n",
      "    __plt__>__plt2vv__ at line 501 column 10\n",
      "    __plt__>__plt2__ at line 247 column 14\n",
      "    __plt__ at line 114 column 16\n",
      "    semilogy at line 65 column 10\n",
      "\n"
     ]
    },
    {
     "data": {
      "text/plain": [
       "h5 = -183.06\n"
      ]
     },
     "metadata": {},
     "output_type": "display_data"
    },
    {
     "name": "stderr",
     "output_type": "stream",
     "text": [
      "warning: axis: omitting non-positive data in log plot\n",
      "warning: called from\n",
      "    legend at line 306 column 8\n",
      "\n",
      "warning: axis: omitting non-positive data in log plot\n",
      "warning: axis: omitting non-positive data in log plot\n",
      "warning: axis: omitting non-positive data in log plot\n",
      "warning: axis: omitting non-positive data in log plot\n",
      "warning: called from\n",
      "    __plt__>__plt2vv__ at line 501 column 10\n",
      "    __plt__>__plt2__ at line 247 column 14\n",
      "    __plt__ at line 114 column 16\n",
      "    semilogy at line 65 column 10\n",
      "\n",
      "warning: axis: omitting non-positive data in log plot\n",
      "warning: called from\n",
      "    __plt__>__plt2vv__ at line 501 column 10\n",
      "    __plt__>__plt2__ at line 247 column 14\n",
      "    __plt__ at line 114 column 16\n",
      "    semilogy at line 65 column 10\n",
      "\n",
      "warning: axis: omitting non-positive data in log plot\n",
      "warning: called from\n",
      "    __plt__>__plt2vv__ at line 501 column 10\n",
      "    __plt__>__plt2__ at line 247 column 14\n",
      "    __plt__ at line 114 column 16\n",
      "    semilogy at line 65 column 10\n",
      "\n",
      "warning: axis: omitting non-positive data in log plot\n",
      "warning: called from\n",
      "    __plt__>__plt2vv__ at line 501 column 10\n",
      "    __plt__>__plt2__ at line 247 column 14\n",
      "    __plt__ at line 114 column 16\n",
      "    semilogy at line 65 column 10\n",
      "\n"
     ]
    }
   ],
   "source": [
    "% Refer to the plot codes of Scott\n",
    "\n",
    "graphics_toolkit (\"plotly\");\n",
    "\n",
    "pH=0:0.1:14;\n",
    "H=10.^-pH;\n",
    "\n",
    "H2CO3=K_H*pCO_2;\n",
    "HCO3=(K_a1*H2CO3)./H;\n",
    "CO3=(K_a2*HCO3)./H;\n",
    "OH=K_w./H;\n",
    "Ca=(K_a1*K_H*pCO_2)./H+2*((K_a2*K_a1*K_H*pCO_2)./H.^2)+K_w./H-H;\n",
    "\n",
    "h1=semilogy(pH,H2CO3,'c.','linewidth',2);hold on;\n",
    "h2=semilogy(pH,HCO3,'r-','linewidth',2);hold on;\n",
    "h3=semilogy(pH,CO3,'k-','linewidth',2);hold on;\n",
    "h4=semilogy(pH,OH,'b-','linewidth',2);hold on;\n",
    "h5=semilogy(pH,Ca,'y-','linewidth',2)\n",
    "\n",
    "xlabel('pH'); ylabel('[C_{inorg}](mol/L)')\n",
    "legend('H_2CO_3','HCO_3(-)','CO_3(2-)','OH(-)','Ca','location','northwest')\n",
    "legend (\"autoupdate\", \"off\");\n",
    "set(gca,'linewidth',2,'fontsize',12);\n",
    "\n",
    "semilogy([-log10(K_a1) -log10(K_a1)],[1e-10 1e5],'k-.','linewidth',2);\n",
    "semilogy([-log10(K_a2) -log10(K_a2)],[1e-10 1e5],'k-.','linewidth',2);\n",
    "\n",
    "axis([0 14 1e-10 1e5])"
   ]
  },
  {
   "cell_type": "code",
   "execution_count": null,
   "id": "cf2f564a-f16f-4210-b202-b263eb3bc711",
   "metadata": {},
   "outputs": [],
   "source": []
  }
 ],
 "metadata": {
  "kernelspec": {
   "display_name": "Octave (xoctave)",
   "language": "Octave",
   "name": "xoctave"
  },
  "language_info": {
   "codemirror_mode": "octave",
   "file_extension": ".m",
   "mimetype": "text/x-octave",
   "name": "Octave",
   "nbconvert_exporter": "",
   "pygments_lexer": "octave",
   "version": "7.3.0"
  }
 },
 "nbformat": 4,
 "nbformat_minor": 5
}
