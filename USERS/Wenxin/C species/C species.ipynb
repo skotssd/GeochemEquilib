{
 "cells": [
  {
   "cell_type": "code",
   "execution_count": 15,
   "id": "fe9d427e-2fb3-481b-b48e-c4a908a65bb0",
   "metadata": {},
   "outputs": [],
   "source": [
    "% setup environment\n",
    "% clear data and number format\n",
    "clear; format short e\n",
    "% set path to equilibrium solver\n",
    "txt=pwd; n=length(txt); rootpath=txt;\n",
    "n=strfind(rootpath,\"USERS\"); rootpath=txt(1:n-2);\n",
    "PHREEQCpath=[rootpath,'/runPHREEQC'];\n",
    "addpath(PHREEQCpath);\n",
    "JEQUILIBpath=[rootpath,'/JEQUILIB'];\n",
    "addpath(JEQUILIBpath);\n",
    "% turn off warnings\n",
    "warning off\n",
    "%graphics_toolkit (\"notebook\"); \n",
    "graphics_toolkit (\"plotly\"); \n",
    "%graphics_toolkit(\"gnuplot\")"
   ]
  },
  {
   "cell_type": "code",
   "execution_count": 16,
   "id": "a4e28836-22d0-459c-a0ce-516c11ec9196",
   "metadata": {
    "tags": []
   },
   "outputs": [
    {
     "data": {
      "text/plain": [
       "pH_i = 2.0000e+00\n"
      ]
     },
     "metadata": {},
     "output_type": "display_data"
    },
    {
     "ename": "Execution exception",
     "evalue": "out_PHREEQC(3,_): out of bound 2 (dimensions are 2x2)",
     "output_type": "error",
     "traceback": [
      "Execution exception: out_PHREEQC(3,_): out of bound 2 (dimensions are 2x2)",
      "error: called from\n    runPHREEQCv3 at line 143 column 25\n"
     ]
    }
   ],
   "source": [
    "% constants\n",
    "Ka1=10^-6.3; Ka2=10^-10.3; CT=1e-3; pH=2:0.1:14; H=10.^-pH;\n",
    "\n",
    "database=['phreeqc.dat'];\n",
    "\n",
    "%input info (mineral, total and species names, must match the PHREEQC database file !!!\n",
    "\n",
    "minerals=[]; % this is where you list the mineral phases to consider\n",
    "totalvector=[CT];\n",
    "totalnames=[{'C(4)'}];\n",
    "T=25; % temperature in degree C (run 5 degrees C and 35 degrees C to see the differnece)\n",
    "show=0; % this should show the PHREEQC output to the screen. works in Matlab but not Octave\n",
    "speciesexport=[{'CO2'};{'HCO3-'};{'CO3-2'}]; % need to tell what species we want to look at after the run\n",
    "acid=[]; % not relevant for this problem\n",
    "pe=20.75-pH; % you need initial values for pH and pe (Redox condition).  they aren't used but can' be blank\n",
    "pHfixcheck=0; %1 makes the pH fixed, 0 means pH is free to vary (same for pe).  here MUST be 0.  \n",
    "%can't do fixed pH AND open without adding cations\n",
    "\n",
    "for i=1:length(pH)\n",
    "pH_i=pH(i)\n",
    "\n",
    "[solutionspeciesconcs, speciesnames] = ...\n",
    "    runPHREEQCv3(T, pH(i), pe(i), totalnames, totalvector, minerals, speciesexport, database, show, [], 0)\n",
    "    H2CO3(i) = solutionspeciesconcs(1);  \n",
    "    HCO3(i) = solutionspeciesconcs(2);   \n",
    "    CO3(i) = solutionspeciesconcs(3);    \n",
    "end\n",
    "\n",
    "%figure;\n",
    "%plot(pH, H2CO3, 'b-', 'LineWidth', 2); hold on;\n",
    "%plot(pH, HCO3, 'r-', 'LineWidth', 2);\n",
    "%plot(pH, CO3, 'g-', 'LineWidth', 2);\n",
    "%xlabel('pH'); ylabel('Concentration (mol/L)');\n",
    "%legend('H_2CO_3', 'HCO_3^-', 'CO_3^{2-}');\n",
    "%set(gca, 'FontSize', 12, 'LineWidth', 1.5);\n",
    "%grid on;\n",
    "%title('Carbonate Species Distribution vs pH');\n"
   ]
  },
  {
   "cell_type": "code",
   "execution_count": null,
   "id": "58f53b4d-5941-473f-b9be-4bf21b378d81",
   "metadata": {},
   "outputs": [],
   "source": []
  }
 ],
 "metadata": {
  "kernelspec": {
   "display_name": "Octave (xoctave)",
   "language": "Octave",
   "name": "xoctave"
  },
  "language_info": {
   "codemirror_mode": "octave",
   "file_extension": ".m",
   "mimetype": "text/x-octave",
   "name": "Octave",
   "nbconvert_exporter": "",
   "pygments_lexer": "octave",
   "version": "7.3.0"
  }
 },
 "nbformat": 4,
 "nbformat_minor": 5
}
